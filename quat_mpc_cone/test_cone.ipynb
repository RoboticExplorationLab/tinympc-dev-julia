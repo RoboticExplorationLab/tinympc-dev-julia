{
 "cells": [
  {
   "cell_type": "code",
   "execution_count": 2,
   "metadata": {},
   "outputs": [
    {
     "name": "stderr",
     "output_type": "stream",
     "text": [
      "\u001b[32m\u001b[1m  Activating\u001b[22m\u001b[39m environment at `~/SSD/Code/Julia/tinympc-julia/quat_mpc_cone/Project.toml`\n"
     ]
    }
   ],
   "source": [
    "import Pkg;\n",
    "Pkg.activate(@__DIR__);\n",
    "Pkg.instantiate();"
   ]
  },
  {
   "cell_type": "code",
   "execution_count": 3,
   "metadata": {},
   "outputs": [],
   "source": [
    "using LinearAlgebra\n",
    "using Printf"
   ]
  },
  {
   "cell_type": "code",
   "execution_count": 8,
   "metadata": {},
   "outputs": [
    {
     "name": "stdout",
     "output_type": "stream",
     "text": [
      "project_soc(x1, mu) = [0.8354101966249685, 1.670820393249937, 3.7360679774997902]\n"
     ]
    },
    {
     "data": {
      "text/plain": [
       "3-element Vector{Float64}:\n",
       " 0.8354101966249685\n",
       " 1.670820393249937\n",
       " 3.7360679774997902"
      ]
     },
     "metadata": {},
     "output_type": "display_data"
    }
   ],
   "source": [
    "#Feedback tracking controller\n",
    "include(\"../LibTinyMPC.jl\")\n",
    "x = [1, 2, 3, 4, 5, 6]\n",
    "x1 = [1, 2, 3]\n",
    "mu = 0.5\n",
    "@show project_soc(x1, mu)\n"
   ]
  }
 ],
 "metadata": {
  "kernelspec": {
   "display_name": "Julia 1.6.7",
   "language": "julia",
   "name": "julia-1.6"
  },
  "language_info": {
   "file_extension": ".jl",
   "mimetype": "application/julia",
   "name": "julia",
   "version": "1.6.7"
  }
 },
 "nbformat": 4,
 "nbformat_minor": 4
}
