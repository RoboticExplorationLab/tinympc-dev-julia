{
 "cells": [
  {
   "attachments": {},
   "cell_type": "markdown",
   "id": "de51ac8d",
   "metadata": {},
   "source": [
    "# Benchmark SOCP Solvers with Limited Solve Time\n",
    "Based on MCU benchmarks, we obtain time/iter for each solver. Then we can compute the maximum number of iterations for each solver given a fixed control frequency. We evaluate solution and performace of each solver with respect to this."
   ]
  },
  {
   "cell_type": "code",
   "execution_count": 1,
   "id": "6099cb4b-a2da-4b1b-ba0f-856484092fc4",
   "metadata": {},
   "outputs": [
    {
     "name": "stderr",
     "output_type": "stream",
     "text": [
      "\u001b[32m\u001b[1m  Activating\u001b[22m\u001b[39m environment at `~/SSD/Code/Julia/tinympc-dev-julia/rocket_landing_Zac/Project.toml`\n"
     ]
    }
   ],
   "source": [
    "using Pkg\n",
    "Pkg.activate(@__DIR__)\n",
    "Pkg.instantiate()\n",
    "\n",
    "using LinearAlgebra\n",
    "using Printf\n",
    "using ForwardDiff\n",
    "using JuMP\n",
    "using ECOS\n",
    "using SCS\n",
    "using Random\n",
    "using PyPlot"
   ]
  },
  {
   "cell_type": "code",
   "execution_count": 2,
   "id": "9f1c3690",
   "metadata": {},
   "outputs": [
    {
     "data": {
      "text/plain": [
       "export_diag_to_c (generic function with 1 method)"
      ]
     },
     "metadata": {},
     "output_type": "display_data"
    }
   ],
   "source": [
    "include(\"JuMP_MPC.jl\")\n",
    "include(\"../LibTinyMPC.jl\")"
   ]
  },
  {
   "attachments": {},
   "cell_type": "markdown",
   "id": "f3ce88c7",
   "metadata": {},
   "source": [
    "## Rocket Soft Landing"
   ]
  },
  {
   "cell_type": "code",
   "execution_count": 264,
   "id": "2d3b3a86",
   "metadata": {},
   "outputs": [
    {
     "data": {
      "text/plain": [
       "3-element Vector{Float64}:\n",
       " 6962.0\n",
       "  613.0\n",
       "   45.0"
      ]
     },
     "metadata": {},
     "output_type": "display_data"
    }
   ],
   "source": [
    "#Rocket landing\n",
    "NSTATES = 6\n",
    "NINPUTS = 3\n",
    "NHORIZON = 21\n",
    "NTOTAL = 5000\n",
    "\n",
    "# Initialize cache, settings, bounds, socs, workspace, solver\n",
    "\n",
    "###### Cache\n",
    "rho = 1e0\n",
    "Kinf = zeros(NINPUTS,NSTATES)\n",
    "Pinf = zeros(NSTATES,NSTATES)\n",
    "Quu_inv = zeros(NINPUTS,NINPUTS)\n",
    "AmBKt = zeros(NSTATES,NSTATES)\n",
    "APf = zeros(NSTATES)\n",
    "BPf = zeros(NINPUTS)\n",
    "my_cache = TinyCache(rho, Kinf, Pinf, Quu_inv, AmBKt, APf, BPf)\n",
    "#####\n",
    "\n",
    "##### Settings\n",
    "abs_pri_tol = 1e-2\n",
    "abs_dua_tol = 1e-2\n",
    "max_iter = 100\n",
    "check_termination = 1\n",
    "en_state_bound = 0  # ENABLE CONSTRAINTS OR NOT\n",
    "en_input_bound = 1\n",
    "en_state_soc = 0\n",
    "en_input_soc = 1\n",
    "my_stgs = TinySettings(abs_pri_tol, abs_dua_tol, max_iter, check_termination, en_state_bound, en_input_bound, en_state_soc, en_input_soc)\n",
    "#####\n",
    "\n",
    "###### Bounds\n",
    "umin = -10.0*ones(NINPUTS, NHORIZON-1)\n",
    "umax = 105*ones(NINPUTS, NHORIZON-1)\n",
    "xmin = repeat([-4.5; -4.5; -0.5; -10; -10; -20], 1, NHORIZON)\n",
    "xmax = repeat([4.5; 4.5; 100.0; 10; 10; 20], 1, NHORIZON)\n",
    "z = zeros(NINPUTS, NHORIZON-1)\n",
    "znew = zeros(NINPUTS, NHORIZON-1)\n",
    "v = zeros(NSTATES, NHORIZON)\n",
    "vnew = zeros(NSTATES, NHORIZON)\n",
    "y = zeros(NINPUTS, NHORIZON-1)\n",
    "g = zeros(NSTATES, NHORIZON)\n",
    "my_bounds = TinyBounds(umin, umax, xmin, xmax, z, znew, v, vnew, y, g)\n",
    "#####\n",
    "\n",
    "##### SOCS\n",
    "ncu = 1\n",
    "ncx = 1\n",
    "cu = [0.25, 0]  # 0.3 is the thrust coefficient\n",
    "cx = [0.5, 0]\n",
    "qcu = [3, 0]  # 3 is the dimensions of 1st cone\n",
    "qux = [3, 0]\n",
    "Acu = [1, 0]\n",
    "Acx = [1, 0]\n",
    "zc = [zeros(NINPUTS, NHORIZON-1), zeros(NINPUTS, NHORIZON-1)]\n",
    "vc = [zeros(NSTATES, NHORIZON), zeros(NSTATES, NHORIZON)]\n",
    "zcnew = [zeros(NINPUTS, NHORIZON-1), zeros(NINPUTS, NHORIZON-1)]\n",
    "vcnew = [zeros(NSTATES, NHORIZON), zeros(NSTATES, NHORIZON)]\n",
    "yc = [zeros(NINPUTS, NHORIZON-1), zeros(NINPUTS, NHORIZON-1)]\n",
    "gc = [zeros(NSTATES, NHORIZON), zeros(NSTATES, NHORIZON)]\n",
    "my_socs = TinySocs(ncu, ncx, cu, cx, qcu, qux, Acu, Acx, zc, zcnew, vc, vcnew, yc, gc)\n",
    "#####\n",
    "\n",
    "##### Workspace\n",
    "x = zeros(NSTATES, NHORIZON)\n",
    "u = zeros(NINPUTS, NHORIZON-1)\n",
    "q = zeros(NSTATES, NHORIZON)\n",
    "r = zeros(NINPUTS, NHORIZON-1)\n",
    "p = zeros(NSTATES, NHORIZON)\n",
    "d = zeros(NINPUTS, NHORIZON-1)\n",
    "pri_res_state = 1.0\n",
    "pri_res_input = 1.0\n",
    "dua_res_state = 1.0\n",
    "dua_res_input = 1.0\n",
    "status = 0\n",
    "iter = 0\n",
    "Q = 1e4*I(NSTATES)\n",
    "R = 1e0*I(NINPUTS)\n",
    "\n",
    "h = 1/1000\n",
    "gravity = 9.81\n",
    "temp_n = Int(NSTATES/2)\n",
    "Adyn1 = [I(temp_n) h*I(temp_n); zeros(temp_n,temp_n) I(temp_n)]\n",
    "Bdyn1 = [0.5*h*h*I(temp_n); h*I(temp_n)] / 10; # thrust vectors = 1/10 controls, making condition number nicer :)\n",
    "fdyn1 = [0.0, 0.0, -0.5*h*h*gravity, 0.0, 0.0, -h*gravity] * 1\n",
    "\n",
    "h = 1/10\n",
    "gravity = 9.81\n",
    "temp_n = Int(NSTATES/2)\n",
    "Adyn = [I(temp_n) h*I(temp_n); zeros(temp_n,temp_n) I(temp_n)]\n",
    "Bdyn = [0.5*h*h*I(temp_n); h*I(temp_n)] / 10; # thrust vectors = 1/10 controls, making condition number nicer :)\n",
    "fdyn = [0.0, 0.0, -0.5*h*h*gravity, 0.0, 0.0, -h*gravity] * 1\n",
    "\n",
    "t = h*(0:NTOTAL-1)\n",
    "Xref = zeros(NSTATES, NTOTAL)\n",
    "x0 = [4, 2, 20, -3, 2, -4.5]  # INITIAL STATE\n",
    "# x0 = [4, 2, 20, -2, 1, -4.0]\n",
    "x[:,1] = 1*x0\n",
    "xg = [0.0, 0.0, 0.0, 0.0, 0.0, 0.0]\n",
    "for k = 1:NTOTAL\n",
    "  Xref[:,k] = x0 + (xg - x0)*(k-1)/(NTOTAL-1)\n",
    "end\n",
    "# append zeros to Xref\n",
    "Xref = hcat([Xref zeros(NSTATES, NHORIZON)])\n",
    "Uref = repeat([0; 0; 10.0], 1, NTOTAL-1) \n",
    "Xref_hrz = 1*Xref[:,1:NHORIZON]\n",
    "Uref_hrz = 1*Uref[:,1:NHORIZON-1]\n",
    "# Could provide a better reference from other solvers\n",
    "\n",
    "Qu = zeros(NINPUTS, NINPUTS)\n",
    "my_work = TinyWorkspace(x, u, q, r, p, d, pri_res_state, pri_res_input, dua_res_state, dua_res_input, status, iter, Q, R, Adyn, Bdyn, fdyn, Xref_hrz, Uref_hrz, Qu, my_bounds, my_socs)\n",
    "#####\n",
    "\n",
    "# Solver\n",
    "solver = TinySolver(my_stgs, my_cache, my_work)\n",
    "\n",
    "params = (\n",
    "    Nh = NHORIZON,\n",
    "    nx = NSTATES,\n",
    "    nu = NINPUTS,\n",
    "    ncx = en_state_bound,\n",
    "    ncu = en_input_bound,\n",
    "    ncg = 0,\n",
    "    ncu_cone = en_input_soc,\n",
    "    ncx_cone = en_state_soc,\n",
    "    c_cone = cu,\n",
    "    Q = Q*1+rho*I*0,\n",
    "    R = R*1+rho*I*0,\n",
    "    Qf = Q*1+rho*I*0,\n",
    "    u_min = umin[:,1],\n",
    "    u_max = umax[:,1],\n",
    "    x_min = xmin[:,1],\n",
    "    x_max = xmax[:,1],\n",
    "    Xref = Xref_hrz,\n",
    "    Uref = Uref_hrz,\n",
    "    Adyn = Adyn,\n",
    "    Bdyn = Bdyn,\n",
    "    fdyn = fdyn,\n",
    ");\n",
    "\n",
    "function actuate!(utest)\n",
    "    for i = 1:20\n",
    "        utest = clamp.(utest, params.u_min, params.u_max)\n",
    "        utest = project_soc(utest, cu[1], qcu[1])\n",
    "        if norm(utest - clamp.(utest, params.u_min, params.u_max)) < 1e-1\n",
    "            break\n",
    "        end\n",
    "    end\n",
    "end\n",
    "\n",
    "\n",
    "Xhrz = zeros(NSTATES, NHORIZON)\n",
    "Xhrz[:,1] = x0*1\n",
    "Uhrz = zeros(NINPUTS, NHORIZON-1)\n",
    "\n",
    "# Horizon 32\n",
    "tpis = [6962, 613.0, 45.0] # time (us) per iteration for solvers (taken for MCU)"
   ]
  },
  {
   "attachments": {},
   "cell_type": "markdown",
   "id": "4f580995",
   "metadata": {},
   "source": [
    "## MPC"
   ]
  },
  {
   "attachments": {},
   "cell_type": "markdown",
   "id": "afdd8995",
   "metadata": {},
   "source": [
    "### Get data for one solver at one frequency"
   ]
  },
  {
   "cell_type": "code",
   "execution_count": 265,
   "id": "2e913bea",
   "metadata": {},
   "outputs": [
    {
     "data": {
      "text/plain": [
       "5.2459474448847825"
      ]
     },
     "metadata": {},
     "output_type": "display_data"
    }
   ],
   "source": [
    "# MPC loop for each\n",
    "# opti = \"ECOS\"\n",
    "# opti = \"SCS\"\n",
    "opti = \"TinyMPC\"\n",
    "\n",
    "freq = 1/h  # Hz\n",
    "optimizers = (\n",
    "    # Use ECOS [1]\n",
    "    JuMP.optimizer_with_attributes(ECOS.Optimizer, \n",
    "        \"verbose\"=>false, \"abstol\"=>1e-2, \"reltol\"=>1e-2, \"maxit\"=>round(Int, 1e6/freq/tpis[1])),\n",
    "    # Use SCS [2]\n",
    "    JuMP.optimizer_with_attributes(SCS.Optimizer, \n",
    "    \"verbose\"=>false, \"eps_abs\"=>1e-2, \"eps_rel\"=>1e-2, \"max_iters\"=>round(Int, 1e6/freq/tpis[2])),\n",
    "    \"TinyMPC\")\n",
    "solver.settings.max_iter = round(Int, 1e6/freq/tpis[3])\n",
    "\n",
    "if (opti == \"TinyMPC\")\n",
    "    compute_cache!(solver, Q, R)\n",
    "end\n",
    "\n",
    "info = SolnStats(0, 0, 0, 0, 0, 0, 0)\n",
    "\n",
    "Random.seed!(1)\n",
    "Xhist = zeros(NSTATES, NTOTAL)\n",
    "Xhist[:,1] .= x0*1.1\n",
    "Uhist = zeros(NINPUTS, NTOTAL-1)\n",
    "\n",
    "Xhrz = 1*Xref[:,1:NHORIZON]\n",
    "Xhrz[:,1] .= Xhist[:,1]\n",
    "Uhrz = 1*Uref[:,1:NHORIZON-1]\n",
    "\n",
    "for i = 1:NTOTAL-1\n",
    "    if i%(1000/freq) == 0\n",
    "        # print(\"i = \", i, \"\\n\")\n",
    "        # Get measurements\n",
    "        solver.workspace.x[:,1] = Xhist[:,i] + 0*randn(NSTATES)\n",
    "        Xhrz[:,1] .= solver.workspace.x[:,1] \n",
    "        # print(\"x = \", solver.workspace.x[:,1], \"\\n\")\n",
    "        # display(solver.workspace.x[:,1])\n",
    "\n",
    "        # Update references\n",
    "        # solver.workspace.Xref .= Xref[:,i:i+NHORIZON-1]\n",
    "        # params.Xref .= Xref[:,i:i+NHORIZON-1]\n",
    "        # solver.workspace.Uref .= Uref[:,i:i+NHORIZON-2]\n",
    "        # print(\"xref = \", solver.workspace.Xref[:,1], \"\\n\")\n",
    "        # display(solver.workspace.Xref[:,1])\n",
    "        \n",
    "        # Solve\n",
    "        if (opti == \"ECOS\")\n",
    "            solve_mpc_JuMP(optimizers[1], params, Xhrz, Uhrz; warm_start=false)\n",
    "        elseif (opti == \"SCS\")\n",
    "            solve_mpc_JuMP(optimizers[2], params, Xhrz, Uhrz; warm_start=false)        \n",
    "        else\n",
    "            solve_admm!(solver)\n",
    "            Xhrz .= solver.workspace.x\n",
    "            Uhrz .= solver.workspace.u\n",
    "        end\n",
    "        check_solution!(info, opti, params, Xhrz, Uhrz)    \n",
    "    end\n",
    "    Uhist[:,i] .= Uhrz[:,1] + 0*10*randn(NINPUTS)\n",
    "\n",
    "    # Simulate\n",
    "    actuate!(Uhist[:,i])\n",
    "    Xhist[:,i+1] .= Adyn1*Xhist[:,i] + Bdyn1*Uhist[:,i] + fdyn1\n",
    "end\n",
    "info.tracking_error = norm(Xhist[:,NTOTAL] - xg)"
   ]
  },
  {
   "cell_type": "code",
   "execution_count": 257,
   "id": "23353a4f",
   "metadata": {},
   "outputs": [
    {
     "name": "stdout",
     "output_type": "stream",
     "text": [
      "TinyMPC:       0.61\n"
     ]
    }
   ],
   "source": [
    "metric = info.max_bnd_violation + info.max_soc_violation\n",
    "# metric = info.tracking_error\n",
    "@printf \"%7s: %10.2f\\n\" opti metric"
   ]
  },
  {
   "attachments": {},
   "cell_type": "markdown",
   "id": "f19b6b01",
   "metadata": {},
   "source": [
    "10: 10, 5.3,       5.3\n",
    "50: 6.1, 6.7,      6.5\n",
    "100: 7.9, 7.15,    11.4\n",
    "500: 8.9"
   ]
  },
  {
   "attachments": {},
   "cell_type": "markdown",
   "id": "a620a4f1",
   "metadata": {},
   "source": [
    "### Get data for all solvers at one frequency"
   ]
  },
  {
   "cell_type": "code",
   "execution_count": 68,
   "id": "9b7418f4",
   "metadata": {},
   "outputs": [],
   "source": [
    "infos = [SolnStats(0, 0, 0, 0, 0, 0, 0), SolnStats(0, 0, 0, 0, 0, 0, 0), SolnStats(0, 0, 0, 0, 0, 0, 0)]\n",
    "if 1==1\n",
    "    optis = [\"ECOS\", \"SCS\", \"TinyMPC\"]    \n",
    "    freq = 500.0\n",
    "    optimizers = (\n",
    "        # Use ECOS [1]\n",
    "        JuMP.optimizer_with_attributes(ECOS.Optimizer, \n",
    "            \"verbose\"=>false, \"abstol\"=>1e-2, \"reltol\"=>1e-2, \"maxit\"=>round(Int, 1e6/freq/tpis[1])),\n",
    "        # Use SCS [2]\n",
    "        JuMP.optimizer_with_attributes(SCS.Optimizer, \n",
    "        \"verbose\"=>false, \"eps_abs\"=>1e-2, \"eps_rel\"=>1e-2, \"max_iters\"=>round(Int, 1e6/freq/tpis[2])),\n",
    "        \"TinyMPC\")\n",
    "    solver.settings.max_iter = round(Int, 1e6/freq/tpis[3])\n",
    "\n",
    "    for solver_idx = 1:length(optis)\n",
    "        opti = optis[solver_idx]\n",
    "        if (opti == \"TinyMPC\")\n",
    "            compute_cache!(solver, Q, R)\n",
    "        end\n",
    "        \n",
    "        Random.seed!(1)\n",
    "        Xhist = zeros(NSTATES, NTOTAL)\n",
    "        Xhist[:,1] .= x0*1.1\n",
    "        Uhist = zeros(NINPUTS, NTOTAL-1)\n",
    "\n",
    "        Xhrz = 1*Xref[:,1:NHORIZON]\n",
    "        Xhrz[:,1] .= Xhist[:,1]\n",
    "        Uhrz = 1*Uref[:,1:NHORIZON-1]\n",
    "\n",
    "        for i = 1:NTOTAL-1\n",
    "            # i%10 == 0 && print(\"i = \", i, \"\\n\")\n",
    "            # Get measurements\n",
    "            solver.workspace.x[:,1] = Xhist[:,i] \n",
    "            Xhrz[:,1] .= Xhist[:,i]\n",
    "            # print(\"x = \", solver.workspace.x[:,1], \"\\n\")\n",
    "            # display(solver.workspace.x[:,1])\n",
    "\n",
    "            # Update references\n",
    "            solver.workspace.Xref .= Xref[:,i:i+NHORIZON-1]\n",
    "            params.Xref .= Xref[:,i:i+NHORIZON-1]\n",
    "            # solver.workspace.Uref .= Uref[:,i:i+NHORIZON-2]\n",
    "            # print(\"xref = \", solver.workspace.Xref[:,1], \"\\n\")\n",
    "            # display(solver.workspace.Xref[:,1])\n",
    "            \n",
    "            # Solve\n",
    "            if (opti == \"ECOS\")\n",
    "                solve_mpc_JuMP(optimizers[1], params, Xhrz, Uhrz; warm_start=false)\n",
    "            elseif (opti == \"SCS\")\n",
    "                solve_mpc_JuMP(optimizers[2], params, Xhrz, Uhrz; warm_start=false)        \n",
    "            else\n",
    "                solve_admm!(solver)\n",
    "                Xhrz .= solver.workspace.x\n",
    "                Uhrz .= solver.workspace.u\n",
    "            end\n",
    "            check_solution!(infos[solver_idx], opti, params, Xhrz, Uhrz)    \n",
    "            Uhist[:,i] .= Uhrz[:,1]\n",
    "            \n",
    "            # print(\"u = \", Uhist[:,i], \"\\n\")\n",
    "            # display(Uhist[:,i])\n",
    "\n",
    "            # Simulate\n",
    "            Xhist[:,i+1] .= Adyn*Xhist[:,i] + Bdyn*Uhist[:,i] + fdyn\n",
    "            # display(Xhrz)\n",
    "            # display(Uhrz)\n",
    "        end\n",
    "        infos[solver_idx].tracking_error = norm(Xhist[:,NTOTAL] - xg)\n",
    "    end\n",
    "end"
   ]
  },
  {
   "attachments": {},
   "cell_type": "markdown",
   "id": "03276ea6",
   "metadata": {},
   "source": [
    "### Get data for all solvers for all frequencies"
   ]
  },
  {
   "cell_type": "code",
   "execution_count": 70,
   "id": "6823b8a8",
   "metadata": {},
   "outputs": [],
   "source": [
    "optis = [\"ECOS\", \"SCS\", \"TinyMPC\"]  # solvers\n",
    "freqs = [10.0, 50.0, 100.0, 500.0]  # evaluating frequencies\n",
    "infoss = [[SolnStats(0, 0, 0, 0, 0, 0, 0), SolnStats(0, 0, 0, 0, 0, 0, 0), SolnStats(0, 0, 0, 0, 0, 0, 0)] for i = 1:length(freqs)]\n",
    "if 1==0\n",
    "    for freq_indx = 1:length(freqs)\n",
    "        freq = freqs[freq_indx]\n",
    "        optimizers = (\n",
    "            # Use ECOS [1]\n",
    "            JuMP.optimizer_with_attributes(ECOS.Optimizer, \n",
    "                \"verbose\"=>false, \"abstol\"=>1e-2, \"reltol\"=>1e-2, \"maxit\"=>round(Int, 1e6/freqs[freq_indx]/tpis[1])),\n",
    "            # Use SCS [2]\n",
    "            JuMP.optimizer_with_attributes(SCS.Optimizer, \n",
    "            \"verbose\"=>false, \"eps_abs\"=>1e-2, \"eps_rel\"=>1e-2, \"max_iters\"=>round(Int, 1e6/freqs[freq_indx]/tpis[2])),\n",
    "            \"TinyMPC\")\n",
    "        solver.settings.max_iter = round(Int, 1e6/freqs[freq_indx]/tpis[3])\n",
    "        infos = infoss[freq_indx]\n",
    "        for solver_idx = 1:length(optis)\n",
    "            opti = optis[solver_idx]\n",
    "            if (opti == \"TinyMPC\")\n",
    "                compute_cache!(solver, Q, R)\n",
    "            end\n",
    "            \n",
    "            Random.seed!(1)\n",
    "            Xhist = zeros(NSTATES, NTOTAL)\n",
    "            Xhist[:,1] .= x0*1.1\n",
    "            Uhist = zeros(NINPUTS, NTOTAL-1)\n",
    "\n",
    "            Xhrz = 1*Xref[:,1:NHORIZON]\n",
    "            Xhrz[:,1] .= Xhist[:,1]\n",
    "            Uhrz = 1*Uref[:,1:NHORIZON-1]\n",
    "\n",
    "            for i = 1:NTOTAL-1\n",
    "                # i%10 == 0 && print(\"i = \", i, \"\\n\")\n",
    "                # Get measurements\n",
    "                solver.workspace.x[:,1] = Xhist[:,i] \n",
    "                Xhrz[:,1] .= Xhist[:,i]\n",
    "                # print(\"x = \", solver.workspace.x[:,1], \"\\n\")\n",
    "                # display(solver.workspace.x[:,1])\n",
    "\n",
    "                # Update references\n",
    "                solver.workspace.Xref .= Xref[:,i:i+NHORIZON-1]\n",
    "                params.Xref .= Xref[:,i:i+NHORIZON-1]\n",
    "                # solver.workspace.Uref .= Uref[:,i:i+NHORIZON-2]\n",
    "                # print(\"xref = \", solver.workspace.Xref[:,1], \"\\n\")\n",
    "                # display(solver.workspace.Xref[:,1])\n",
    "                \n",
    "                # Solve\n",
    "                if (opti == \"ECOS\")\n",
    "                    solve_mpc_JuMP(optimizers[1], params, Xhrz, Uhrz; warm_start=false)\n",
    "                elseif (opti == \"SCS\")\n",
    "                    solve_mpc_JuMP(optimizers[2], params, Xhrz, Uhrz; warm_start=false)        \n",
    "                else\n",
    "                    solve_admm!(solver)\n",
    "                    Xhrz .= solver.workspace.x\n",
    "                    Uhrz .= solver.workspace.u\n",
    "                end\n",
    "                check_solution!(infos[solver_idx], opti, params, Xhrz, Uhrz)    \n",
    "                Uhist[:,i] .= Uhrz[:,1]\n",
    "                \n",
    "                # print(\"u = \", Uhist[:,i], \"\\n\")\n",
    "                # display(Uhist[:,i])\n",
    "\n",
    "                # Simulate\n",
    "                actuate!(Uhist[:,i])\n",
    "                Xhist[:,i+1] .= Adyn*Xhist[:,i] + Bdyn*Uhist[:,i] + fdyn\n",
    "                # display(Xhrz)\n",
    "                # display(Uhrz)\n",
    "            end\n",
    "            infos[solver_idx].tracking_error = norm(Xhist[:,NTOTAL] - xg)\n",
    "        end\n",
    "    end\n",
    "end"
   ]
  },
  {
   "cell_type": "code",
   "execution_count": 72,
   "id": "b2799c91",
   "metadata": {},
   "outputs": [
    {
     "name": "stdout",
     "output_type": "stream",
     "text": [
      "-----------------------\n",
      "freq: 10\n",
      "-----------------------\n",
      "   ECOS:      47.55\n",
      "    SCS:       2.04\n",
      "TinyMPC:       0.00\n",
      "-----------------------\n",
      "freq: 50\n",
      "-----------------------\n",
      "   ECOS:     132.63\n",
      "    SCS:       5.48\n",
      "TinyMPC:       0.00\n",
      "-----------------------\n",
      "freq: 100\n",
      "-----------------------\n",
      "   ECOS:    1757.00\n",
      "    SCS:      10.59\n",
      "TinyMPC:       0.01\n",
      "-----------------------\n",
      "freq: 500\n",
      "-----------------------\n",
      "   ECOS:   14905.29\n",
      "    SCS:      22.84\n",
      "TinyMPC:       4.43\n"
     ]
    }
   ],
   "source": [
    "for freq_idx = 1:length(freqs)\n",
    "    @printf \"-----------------------\\n\"\n",
    "    @printf \"freq: %d\\n\" freqs[freq_idx]\n",
    "    @printf \"-----------------------\\n\"\n",
    "    for solver_idx = 1:length(optis)\n",
    "        info = infoss[freq_idx][solver_idx]\n",
    "        metric = info.max_bnd_violation + info.max_soc_violation\n",
    "        # metric = info.tracking_error\n",
    "        @printf \"%7s: %10.2f\\n\" optis[solver_idx] metric\n",
    "    end\n",
    "end"
   ]
  },
  {
   "cell_type": "code",
   "execution_count": 75,
   "id": "94bc7ff7",
   "metadata": {},
   "outputs": [
    {
     "data": {
      "text/plain": [
       "14"
      ]
     },
     "metadata": {},
     "output_type": "display_data"
    },
    {
     "data": {
      "text/plain": [
       "163"
      ]
     },
     "metadata": {},
     "output_type": "display_data"
    },
    {
     "data": {
      "text/plain": [
       "2222"
      ]
     },
     "metadata": {},
     "output_type": "display_data"
    },
    {
     "data": {
      "text/plain": [
       "3"
      ]
     },
     "metadata": {},
     "output_type": "display_data"
    },
    {
     "data": {
      "text/plain": [
       "33"
      ]
     },
     "metadata": {},
     "output_type": "display_data"
    },
    {
     "data": {
      "text/plain": [
       "444"
      ]
     },
     "metadata": {},
     "output_type": "display_data"
    },
    {
     "data": {
      "text/plain": [
       "1"
      ]
     },
     "metadata": {},
     "output_type": "display_data"
    },
    {
     "data": {
      "text/plain": [
       "16"
      ]
     },
     "metadata": {},
     "output_type": "display_data"
    },
    {
     "data": {
      "text/plain": [
       "222"
      ]
     },
     "metadata": {},
     "output_type": "display_data"
    },
    {
     "data": {
      "text/plain": [
       "0"
      ]
     },
     "metadata": {},
     "output_type": "display_data"
    },
    {
     "data": {
      "text/plain": [
       "3"
      ]
     },
     "metadata": {},
     "output_type": "display_data"
    },
    {
     "data": {
      "text/plain": [
       "44"
      ]
     },
     "metadata": {},
     "output_type": "display_data"
    }
   ],
   "source": [
    "for freq_indx=1:4\n",
    "    display(round(Int, 1e6/freqs[freq_indx]/tpis[1]))\n",
    "    display(round(Int, 1e6/freqs[freq_indx]/tpis[2]))\n",
    "    display(round(Int, 1e6/freqs[freq_indx]/tpis[3]))\n",
    "end"
   ]
  },
  {
   "cell_type": "code",
   "execution_count": 202,
   "id": "69c1370a",
   "metadata": {},
   "outputs": [
    {
     "data": {
      "image/png": "[encoded data removed]",
      "text/plain": [
       "Figure(PyObject <Figure size 640x480 with 1 Axes>)"
      ]
     },
     "metadata": {},
     "output_type": "display_data"
    }
   ],
   "source": [
    "fig = plt.figure()\n",
    "plot(Xref[1,1:NTOTAL-1]) # x\n",
    "plot(Xhist[1,1:NTOTAL-1])\n",
    "plot(Xref[2,1:NTOTAL-1]) # y\n",
    "plot(Xhist[2,1:NTOTAL-1])\n",
    "plot(Xref[3,1:NTOTAL-1]) # z\n",
    "plot(Xhist[3,1:NTOTAL-1])\n",
    "plt.title(opti * \" Rocket Landing\")\n",
    "# put limit on axis\n",
    "# plt.ylim(-5, 20)\n",
    "# plt.xlim(0, 300)\n",
    "fig"
   ]
  },
  {
   "cell_type": "code",
   "execution_count": 11,
   "id": "1c859450",
   "metadata": {},
   "outputs": [
    {
     "ename": "UndefVarError",
     "evalue": "UndefVarError: Xhist not defined",
     "output_type": "error",
     "traceback": [
      "UndefVarError: Xhist not defined\n",
      "\n",
      "Stacktrace:\n",
      " [1] top-level scope\n",
      "   @ ~/tinympc-dev-julia/rocket_landing_Zac/early_term_test.ipynb:3"
     ]
    }
   ],
   "source": [
    "fig = plt.figure()\n",
    "plot(Xref[1,1:NTOTAL-1]) # x\n",
    "plot(Xhist[1,1:NTOTAL-1])\n",
    "plot(Xref[2,1:NTOTAL-1]) # y\n",
    "plot(Xhist[2,1:NTOTAL-1])\n",
    "plot(Xref[3,1:NTOTAL-1]) # z\n",
    "plot(Xhist[3,1:NTOTAL-1])\n",
    "plt.title(opti * \" Rocket Landing\")\n",
    "# put limit on axis\n",
    "# plt.ylim(-5, 20)\n",
    "# plt.xlim(0, 300)\n",
    "fig"
   ]
  },
  {
   "cell_type": "code",
   "execution_count": 203,
   "id": "10872d75",
   "metadata": {},
   "outputs": [
    {
     "data": {
      "image/png": "[encoded data removed]",
      "text/plain": [
       "Figure(PyObject <Figure size 640x480 with 1 Axes>)"
      ]
     },
     "metadata": {},
     "output_type": "display_data"
    }
   ],
   "source": [
    "fig = plt.figure()\n",
    "plot(Uhist[1,1:NTOTAL-1])\n",
    "plot(Uhist[2,1:NTOTAL-1])\n",
    "plot(Uhist[3,1:NTOTAL-1])\n",
    "plt.title(opti * \" Rocket Landing\")\n",
    "fig"
   ]
  },
  {
   "cell_type": "code",
   "execution_count": 13,
   "id": "5421c5d2",
   "metadata": {},
   "outputs": [
    {
     "ename": "UndefVarError",
     "evalue": "UndefVarError: Uhist not defined",
     "output_type": "error",
     "traceback": [
      "UndefVarError: Uhist not defined\n",
      "\n",
      "Stacktrace:\n",
      " [1] top-level scope\n",
      "   @ ~/tinympc-dev-julia/rocket_landing_Zac/early_term_test.ipynb:2"
     ]
    }
   ],
   "source": [
    "fig = plt.figure()\n",
    "plot(Uhist[1,1:NTOTAL-1])\n",
    "plot(Uhist[2,1:NTOTAL-1])\n",
    "plot(Uhist[3,1:NTOTAL-1])\n",
    "plt.title(opti * \" Rocket Landing\")\n",
    "fig"
   ]
  },
  {
   "cell_type": "code",
   "execution_count": 14,
   "id": "e9e7e88c",
   "metadata": {},
   "outputs": [
    {
     "ename": "UndefVarError",
     "evalue": "UndefVarError: infoss not defined",
     "output_type": "error",
     "traceback": [
      "UndefVarError: infoss not defined\n"
     ]
    }
   ],
   "source": [
    "infoss"
   ]
  }
 ],
 "metadata": {
  "kernelspec": {
   "display_name": "Julia 1.6.7",
   "language": "julia",
   "name": "julia-1.6"
  },
  "language_info": {
   "file_extension": ".jl",
   "mimetype": "application/julia",
   "name": "julia",
   "version": "1.6.7"
  }
 },
 "nbformat": 4,
 "nbformat_minor": 5
}
