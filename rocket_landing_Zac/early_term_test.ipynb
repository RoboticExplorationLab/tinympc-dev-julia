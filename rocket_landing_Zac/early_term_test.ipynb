{
 "cells": [
  {
   "attachments": {},
   "cell_type": "markdown",
   "id": "de51ac8d",
   "metadata": {},
   "source": [
    "# Benchmark SOCP Solvers with Limited Solve Time\n",
    "Based on MCU benchmarks, we obtain time/iter for each solver. Then we can compute the maximum number of iterations for each solver given a fixed control frequency. We evaluate solution and performace of each solver with respect to this."
   ]
  },
  {
   "cell_type": "code",
   "execution_count": 1,
   "id": "6099cb4b-a2da-4b1b-ba0f-856484092fc4",
   "metadata": {},
   "outputs": [
    {
     "name": "stderr",
     "output_type": "stream",
     "text": [
      "\u001b[32m\u001b[1m  Activating\u001b[22m\u001b[39m environment at `~/tinympc-dev-julia/rocket_landing_Zac/Project.toml`\n"
     ]
    }
   ],
   "source": [
    "using Pkg\n",
    "Pkg.activate(@__DIR__)\n",
    "Pkg.instantiate()\n",
    "\n",
    "using LinearAlgebra\n",
    "using Printf\n",
    "using ForwardDiff\n",
    "using JuMP\n",
    "using ECOS\n",
    "using SCS\n",
    "using Random\n",
    "using PyPlot"
   ]
  },
  {
   "cell_type": "code",
   "execution_count": 2,
   "id": "9f1c3690",
   "metadata": {},
   "outputs": [
    {
     "data": {
      "text/plain": [
       "reset_solver! (generic function with 1 method)"
      ]
     },
     "metadata": {},
     "output_type": "display_data"
    }
   ],
   "source": [
    "include(\"JuMP_MPC.jl\")\n",
    "include(\"../LibTinyMPC_clean.jl\")"
   ]
  },
  {
   "attachments": {},
   "cell_type": "markdown",
   "id": "f3ce88c7",
   "metadata": {},
   "source": [
    "## Rocket Soft Landing"
   ]
  },
  {
   "cell_type": "code",
   "execution_count": 55,
   "id": "2d3b3a86",
   "metadata": {},
   "outputs": [
    {
     "data": {
      "text/plain": [
       "TinySolver(TinySettings(0.01, 0.01, 100, 1, 0, 1, 0, 1), TinyCache(1.0, [0.0 0.0 … 0.0 0.0; 0.0 0.0 … 0.0 0.0; 0.0 0.0 … 0.0 0.0], [0.0 0.0 … 0.0 0.0; 0.0 0.0 … 0.0 0.0; … ; 0.0 0.0 … 0.0 0.0; 0.0 0.0 … 0.0 0.0], [0.0 0.0 0.0; 0.0 0.0 0.0; 0.0 0.0 0.0], [0.0 0.0 … 0.0 0.0; 0.0 0.0 … 0.0 0.0; … ; 0.0 0.0 … 0.0 0.0; 0.0 0.0 … 0.0 0.0], [0.0, 0.0, 0.0, 0.0, 0.0, 0.0], [0.0, 0.0, 0.0]), TinyWorkspace([4.0 0.0 … 0.0 0.0; 2.0 0.0 … 0.0 0.0; … ; 2.0 0.0 … 0.0 0.0; -4.5 0.0 … 0.0 0.0], [0.0 0.0 … 0.0 0.0; 0.0 0.0 … 0.0 0.0; 0.0 0.0 … 0.0 0.0], [0.0 0.0 … 0.0 0.0; 0.0 0.0 … 0.0 0.0; … ; 0.0 0.0 … 0.0 0.0; 0.0 0.0 … 0.0 0.0], [0.0 0.0 … 0.0 0.0; 0.0 0.0 … 0.0 0.0; 0.0 0.0 … 0.0 0.0], [0.0 0.0 … 0.0 0.0; 0.0 0.0 … 0.0 0.0; … ; 0.0 0.0 … 0.0 0.0; 0.0 0.0 … 0.0 0.0], [0.0 0.0 … 0.0 0.0; 0.0 0.0 … 0.0 0.0; 0.0 0.0 … 0.0 0.0], 1.0, 1.0, 1.0, 1.0, 0, 0, [1000.0 0.0 … 0.0 0.0; 0.0 1000.0 … 0.0 0.0; … ; 0.0 0.0 … 1000.0 0.0; 0.0 0.0 … 0.0 1000.0], [1.0 0.0 0.0; 0.0 1.0 0.0; 0.0 0.0 1.0], [1.0 0.0 … 0.0 0.0; 0.0 1.0 … 0.05 0.0; … ; 0.0 0.0 … 1.0 0.0; 0.0 0.0 … 0.0 1.0], [0.000125 0.0 0.0; 0.0 0.000125 0.0; … ; 0.0 0.005 0.0; 0.0 0.0 0.005], [0.0, 0.0, -0.0122625, 0.0, 0.0, -0.4905], [4.0 3.986666666666667 … 3.7466666666666666 3.7333333333333334; 2.0 1.9933333333333334 … 1.8733333333333333 1.8666666666666667; … ; 2.0 1.9933333333333334 … 1.8733333333333333 1.8666666666666667; -4.5 -4.485 … -4.215 -4.2], [0.0 0.0 … 0.0 0.0; 0.0 0.0 … 0.0 0.0; 10.0 10.0 … 10.0 10.0], [0.0 0.0 0.0; 0.0 0.0 0.0; 0.0 0.0 0.0], TinyBounds([-10.0 -10.0 … -10.0 -10.0; -10.0 -10.0 … -10.0 -10.0; -10.0 -10.0 … -10.0 -10.0], [105.0 105.0 … 105.0 105.0; 105.0 105.0 … 105.0 105.0; 105.0 105.0 … 105.0 105.0], [-4.5 -4.5 … -4.5 -4.5; -4.5 -4.5 … -4.5 -4.5; … ; -10.0 -10.0 … -10.0 -10.0; -20.0 -20.0 … -20.0 -20.0], [4.5 4.5 … 4.5 4.5; 4.5 4.5 … 4.5 4.5; … ; 10.0 10.0 … 10.0 10.0; 20.0 20.0 … 20.0 20.0], [0.0 0.0 … 0.0 0.0; 0.0 0.0 … 0.0 0.0; 0.0 0.0 … 0.0 0.0], [0.0 0.0 … 0.0 0.0; 0.0 0.0 … 0.0 0.0; 0.0 0.0 … 0.0 0.0], [0.0 0.0 … 0.0 0.0; 0.0 0.0 … 0.0 0.0; … ; 0.0 0.0 … 0.0 0.0; 0.0 0.0 … 0.0 0.0], [0.0 0.0 … 0.0 0.0; 0.0 0.0 … 0.0 0.0; … ; 0.0 0.0 … 0.0 0.0; 0.0 0.0 … 0.0 0.0], [0.0 0.0 … 0.0 0.0; 0.0 0.0 … 0.0 0.0; 0.0 0.0 … 0.0 0.0], [0.0 0.0 … 0.0 0.0; 0.0 0.0 … 0.0 0.0; … ; 0.0 0.0 … 0.0 0.0; 0.0 0.0 … 0.0 0.0]), TinySocs(1, 1, [0.25, 0.0], [0.5, 0.0], [3, 0], [3, 0], [1, 0], [1, 0], [[0.0 0.0 … 0.0 0.0; 0.0 0.0 … 0.0 0.0; 0.0 0.0 … 0.0 0.0], [0.0 0.0 … 0.0 0.0; 0.0 0.0 … 0.0 0.0; 0.0 0.0 … 0.0 0.0]], [[0.0 0.0 … 0.0 0.0; 0.0 0.0 … 0.0 0.0; 0.0 0.0 … 0.0 0.0], [0.0 0.0 … 0.0 0.0; 0.0 0.0 … 0.0 0.0; 0.0 0.0 … 0.0 0.0]], [[0.0 0.0 … 0.0 0.0; 0.0 0.0 … 0.0 0.0; … ; 0.0 0.0 … 0.0 0.0; 0.0 0.0 … 0.0 0.0], [0.0 0.0 … 0.0 0.0; 0.0 0.0 … 0.0 0.0; … ; 0.0 0.0 … 0.0 0.0; 0.0 0.0 … 0.0 0.0]], [[0.0 0.0 … 0.0 0.0; 0.0 0.0 … 0.0 0.0; … ; 0.0 0.0 … 0.0 0.0; 0.0 0.0 … 0.0 0.0], [0.0 0.0 … 0.0 0.0; 0.0 0.0 … 0.0 0.0; … ; 0.0 0.0 … 0.0 0.0; 0.0 0.0 … 0.0 0.0]], [[0.0 0.0 … 0.0 0.0; 0.0 0.0 … 0.0 0.0; 0.0 0.0 … 0.0 0.0], [0.0 0.0 … 0.0 0.0; 0.0 0.0 … 0.0 0.0; 0.0 0.0 … 0.0 0.0]], [[0.0 0.0 … 0.0 0.0; 0.0 0.0 … 0.0 0.0; … ; 0.0 0.0 … 0.0 0.0; 0.0 0.0 … 0.0 0.0], [0.0 0.0 … 0.0 0.0; 0.0 0.0 … 0.0 0.0; … ; 0.0 0.0 … 0.0 0.0; 0.0 0.0 … 0.0 0.0]])))"
      ]
     },
     "metadata": {},
     "output_type": "display_data"
    }
   ],
   "source": [
    "#Rocket landing\n",
    "NSTATES = 6\n",
    "NINPUTS = 3\n",
    "NHORIZON = 21\n",
    "NTOTAL = 301\n",
    "\n",
    "# Initialize cache, settings, bounds, socs, workspace, solver\n",
    "\n",
    "###### Cache\n",
    "rho = 1e0\n",
    "Kinf = zeros(NINPUTS,NSTATES)\n",
    "Pinf = zeros(NSTATES,NSTATES)\n",
    "Quu_inv = zeros(NINPUTS,NINPUTS)\n",
    "AmBKt = zeros(NSTATES,NSTATES)\n",
    "APf = zeros(NSTATES)\n",
    "BPf = zeros(NINPUTS)\n",
    "my_cache = TinyCache(rho, Kinf, Pinf, Quu_inv, AmBKt, APf, BPf)\n",
    "#####\n",
    "\n",
    "##### Settings\n",
    "abs_pri_tol = 1e-2\n",
    "abs_dua_tol = 1e-2\n",
    "max_iter = 100\n",
    "check_termination = 1\n",
    "en_state_bound = 0  # ENABLE CONSTRAINTS OR NOT\n",
    "en_input_bound = 1\n",
    "en_state_soc = 0\n",
    "en_input_soc = 1\n",
    "my_stgs = TinySettings(abs_pri_tol, abs_dua_tol, max_iter, check_termination, en_state_bound, en_input_bound, en_state_soc, en_input_soc)\n",
    "#####\n",
    "\n",
    "###### Bounds\n",
    "umin = -10.0*ones(NINPUTS, NHORIZON-1)\n",
    "umax = 105*ones(NINPUTS, NHORIZON-1)\n",
    "xmin = repeat([-4.5; -4.5; -0.5; -10; -10; -20], 1, NHORIZON)\n",
    "xmax = repeat([4.5; 4.5; 100.0; 10; 10; 20], 1, NHORIZON)\n",
    "z = zeros(NINPUTS, NHORIZON-1)\n",
    "znew = zeros(NINPUTS, NHORIZON-1)\n",
    "v = zeros(NSTATES, NHORIZON)\n",
    "vnew = zeros(NSTATES, NHORIZON)\n",
    "y = zeros(NINPUTS, NHORIZON-1)\n",
    "g = zeros(NSTATES, NHORIZON)\n",
    "my_bounds = TinyBounds(umin, umax, xmin, xmax, z, znew, v, vnew, y, g)\n",
    "#####\n",
    "\n",
    "##### SOCS\n",
    "ncu = 1\n",
    "ncx = 1\n",
    "cu = [0.25, 0]  # 0.3 is the thrust coefficient\n",
    "cx = [0.5, 0]\n",
    "qcu = [3, 0]  # 3 is the dimensions of 1st cone\n",
    "qux = [3, 0]\n",
    "Acu = [1, 0]\n",
    "Acx = [1, 0]\n",
    "zc = [zeros(NINPUTS, NHORIZON-1), zeros(NINPUTS, NHORIZON-1)]\n",
    "vc = [zeros(NSTATES, NHORIZON), zeros(NSTATES, NHORIZON)]\n",
    "zcnew = [zeros(NINPUTS, NHORIZON-1), zeros(NINPUTS, NHORIZON-1)]\n",
    "vcnew = [zeros(NSTATES, NHORIZON), zeros(NSTATES, NHORIZON)]\n",
    "yc = [zeros(NINPUTS, NHORIZON-1), zeros(NINPUTS, NHORIZON-1)]\n",
    "gc = [zeros(NSTATES, NHORIZON), zeros(NSTATES, NHORIZON)]\n",
    "my_socs = TinySocs(ncu, ncx, cu, cx, qcu, qux, Acu, Acx, zc, zcnew, vc, vcnew, yc, gc)\n",
    "#####\n",
    "\n",
    "##### Workspace\n",
    "x = zeros(NSTATES, NHORIZON)\n",
    "u = zeros(NINPUTS, NHORIZON-1)\n",
    "q = zeros(NSTATES, NHORIZON)\n",
    "r = zeros(NINPUTS, NHORIZON-1)\n",
    "p = zeros(NSTATES, NHORIZON)\n",
    "d = zeros(NINPUTS, NHORIZON-1)\n",
    "pri_res_state = 1.0\n",
    "pri_res_input = 1.0\n",
    "dua_res_state = 1.0\n",
    "dua_res_input = 1.0\n",
    "status = 0\n",
    "iter = 0\n",
    "Q = 1e3*I(NSTATES)\n",
    "R = 1e0*I(NINPUTS)\n",
    "Adyn = [1.0 0.0 0.0 0.05 0.0 0.0; \n",
    "    0.0 1.0 0.0 0.0 0.05 0.0; \n",
    "    0.0 0.0 1.0 0.0 0.0 0.05; \n",
    "    0.0 0.0 0.0 1.0 0.0 0.0; \n",
    "    0.0 0.0 0.0 0.0 1.0 0.0; \n",
    "    0.0 0.0 0.0 0.0 0.0 1.0]\n",
    "Bdyn = [0.000125 0.0 0.0; \n",
    "    0.0 0.000125 0.0;\n",
    "    0.0 0.0 0.000125; \n",
    "    0.005 0.0 0.0; \n",
    "    0.0 0.005 0.0; \n",
    "    0.0 0.0 0.005]\n",
    "fdyn = [0.0, 0.0, -0.0122625, 0.0, 0.0, -0.4905] * 1\n",
    "\n",
    "h = 0.05\n",
    "t = h*(0:NTOTAL-1)\n",
    "Xref = zeros(NSTATES, NTOTAL)\n",
    "x0 = [4, 2, 20, -3, 2, -4.5]  # INITIAL STATE\n",
    "# x0 = [4, 2, 20, -2, 1, -4.0]\n",
    "x[:,1] = 1*x0\n",
    "xg = [0.0, 0.0, 0.0, 0.0, 0.0, 0.0]\n",
    "for k = 1:NTOTAL\n",
    "  Xref[:,k] = x0 + (xg - x0)*(k-1)/(NTOTAL-1)\n",
    "end\n",
    "# append zeros to Xref\n",
    "Xref = hcat([Xref zeros(NSTATES, NHORIZON)])\n",
    "Uref = repeat([0; 0; 10.0], 1, NTOTAL-1) \n",
    "Xref_hrz = 1*Xref[:,1:NHORIZON]\n",
    "Uref_hrz = 1*Uref[:,1:NHORIZON-1]\n",
    "# Could provide a better reference from other solvers\n",
    "\n",
    "Qu = zeros(NINPUTS, NINPUTS)\n",
    "my_work = TinyWorkspace(x, u, q, r, p, d, pri_res_state, pri_res_input, dua_res_state, dua_res_input, status, iter, Q, R, Adyn, Bdyn, fdyn, Xref_hrz, Uref_hrz, Qu, my_bounds, my_socs)\n",
    "#####\n",
    "\n",
    "# Solver\n",
    "solver = TinySolver(my_stgs, my_cache, my_work)"
   ]
  },
  {
   "cell_type": "code",
   "execution_count": 56,
   "id": "f4edd7a6-7756-43ee-a37b-f91abdd18650",
   "metadata": {},
   "outputs": [
    {
     "data": {
      "text/plain": [
       "3-element Vector{Float64}:\n",
       " 200.0\n",
       " 200.0\n",
       "  90.0"
      ]
     },
     "metadata": {},
     "output_type": "display_data"
    }
   ],
   "source": [
    "params = (\n",
    "    Nh = NHORIZON,\n",
    "    nx = NSTATES,\n",
    "    nu = NINPUTS,\n",
    "    ncx = en_state_bound,\n",
    "    ncu = en_input_bound,\n",
    "    ncg = 0,\n",
    "    ncu_cone = en_input_soc,\n",
    "    ncx_cone = en_state_soc,\n",
    "    c_cone = cu,\n",
    "    Q = Q*1+rho*I*0,\n",
    "    R = R*1+rho*I*0,\n",
    "    Qf = Q*1+rho*I*0,\n",
    "    u_min = umin[:,1],\n",
    "    u_max = umax[:,1],\n",
    "    x_min = xmin[:,1],\n",
    "    x_max = xmax[:,1],\n",
    "    Xref = Xref_hrz,\n",
    "    Uref = Uref_hrz,\n",
    "    Adyn = Adyn,\n",
    "    Bdyn = Bdyn,\n",
    "    fdyn = fdyn,\n",
    ");\n",
    "\n",
    "Xhrz = zeros(NSTATES, NHORIZON)\n",
    "Xhrz[:,1] = x0*1\n",
    "Uhrz = zeros(NINPUTS, NHORIZON-1)\n",
    "\n",
    "tpis = [200.0, 200.0, 90.0] # time (us) per iteration for solvers (taken for MCU)"
   ]
  },
  {
   "attachments": {},
   "cell_type": "markdown",
   "id": "4f580995",
   "metadata": {},
   "source": [
    "## MPC"
   ]
  },
  {
   "cell_type": "code",
   "execution_count": 138,
   "id": "ebc55c35",
   "metadata": {},
   "outputs": [
    {
     "data": {
      "text/plain": [
       "3-element Vector{Float64}:\n",
       " -10.0\n",
       " 105.0\n",
       " 105.0"
      ]
     },
     "metadata": {},
     "output_type": "display_data"
    }
   ],
   "source": [
    "clamp.([-100, 120, 110], params.u_min, params.u_max)"
   ]
  },
  {
   "attachments": {},
   "cell_type": "markdown",
   "id": "afdd8995",
   "metadata": {},
   "source": [
    "### Get data for one solver at one frequency"
   ]
  },
  {
   "cell_type": "code",
   "execution_count": 134,
   "id": "2e913bea",
   "metadata": {},
   "outputs": [
    {
     "data": {
      "text/plain": [
       "3-element Vector{Float64}:\n",
       "  24.81537765554906\n",
       " -10.680719460736611\n",
       " 107.36255534466659"
      ]
     },
     "metadata": {},
     "output_type": "display_data"
    },
    {
     "data": {
      "text/plain": [
       "3-element Vector{Float64}:\n",
       "  24.327180611820495\n",
       " -10.070464400802862\n",
       " 105.23649317983273"
      ]
     },
     "metadata": {},
     "output_type": "display_data"
    },
    {
     "data": {
      "text/plain": [
       "3-element Vector{Float64}:\n",
       "  24.187114788927136\n",
       " -10.042887461010622\n",
       " 104.93226300549912"
      ]
     },
     "metadata": {},
     "output_type": "display_data"
    },
    {
     "data": {
      "text/plain": [
       "3-element Vector{Float64}:\n",
       "  24.331349184201713\n",
       " -10.020045097894922\n",
       " 105.13330723844365"
      ]
     },
     "metadata": {},
     "output_type": "display_data"
    },
    {
     "data": {
      "text/plain": [
       "3-element Vector{Float64}:\n",
       "  24.327262678171465\n",
       " -10.01972520892123\n",
       " 105.09757332135143"
      ]
     },
     "metadata": {},
     "output_type": "display_data"
    },
    {
     "data": {
      "text/plain": [
       "3-element Vector{Float64}:\n",
       "  24.316035869661842\n",
       " -10.025878784340549\n",
       " 105.06528814314726"
      ]
     },
     "metadata": {},
     "output_type": "display_data"
    },
    {
     "data": {
      "text/plain": [
       "3-element Vector{Float64}:\n",
       "  24.35098103145171\n",
       " -10.004489200801842\n",
       " 105.17010141871015"
      ]
     },
     "metadata": {},
     "output_type": "display_data"
    },
    {
     "data": {
      "text/plain": [
       "3-element Vector{Float64}:\n",
       "  24.332227183015714\n",
       " -10.01949869561497\n",
       " 105.07478782403211"
      ]
     },
     "metadata": {},
     "output_type": "display_data"
    },
    {
     "data": {
      "text/plain": [
       "3-element Vector{Float64}:\n",
       "  24.361653744812987\n",
       "  -9.995864183716819\n",
       " 105.18441685707597"
      ]
     },
     "metadata": {},
     "output_type": "display_data"
    },
    {
     "data": {
      "text/plain": [
       "3-element Vector{Float64}:\n",
       "  24.356862270599223\n",
       " -10.004246141938182\n",
       " 105.12841598272121"
      ]
     },
     "metadata": {},
     "output_type": "display_data"
    },
    {
     "data": {
      "text/plain": [
       "3-element Vector{Float64}:\n",
       "  24.370737274726178\n",
       "  -9.999349740060254\n",
       " 105.13346519470707"
      ]
     },
     "metadata": {},
     "output_type": "display_data"
    },
    {
     "data": {
      "text/plain": [
       "3-element Vector{Float64}:\n",
       "  24.34105611849254\n",
       "  -9.98329233157692\n",
       " 105.1787090411724"
      ]
     },
     "metadata": {},
     "output_type": "display_data"
    },
    {
     "data": {
      "text/plain": [
       "3-element Vector{Float64}:\n",
       "  24.247075439763364\n",
       " -10.01108425371909\n",
       " 104.96707116060844"
      ]
     },
     "metadata": {},
     "output_type": "display_data"
    },
    {
     "data": {
      "text/plain": [
       "3-element Vector{Float64}:\n",
       "  24.24621415032161\n",
       "  -9.974360527844965\n",
       " 105.1327991666567"
      ]
     },
     "metadata": {},
     "output_type": "display_data"
    },
    {
     "data": {
      "text/plain": [
       "3-element Vector{Float64}:\n",
       "  24.264652758825008\n",
       "  -9.992656404987471\n",
       " 105.04116492621193"
      ]
     },
     "metadata": {},
     "output_type": "display_data"
    },
    {
     "data": {
      "text/plain": [
       "3-element Vector{Float64}:\n",
       "  24.20247350882763\n",
       "  -9.97713680262909\n",
       " 105.07428068458526"
      ]
     },
     "metadata": {},
     "output_type": "display_data"
    },
    {
     "data": {
      "text/plain": [
       "3-element Vector{Float64}:\n",
       "  24.14877464107736\n",
       "  -9.984431774654894\n",
       " 104.99172017851552"
      ]
     },
     "metadata": {},
     "output_type": "display_data"
    },
    {
     "data": {
      "text/plain": [
       "3-element Vector{Float64}:\n",
       "  24.237227232683416\n",
       "  -9.996554397900155\n",
       " 104.98481398523464"
      ]
     },
     "metadata": {},
     "output_type": "display_data"
    },
    {
     "data": {
      "text/plain": [
       "3-element Vector{Float64}:\n",
       "  24.094463167112586\n",
       "  -9.997492625149647\n",
       " 104.91002963690272"
      ]
     },
     "metadata": {},
     "output_type": "display_data"
    },
    {
     "data": {
      "text/plain": [
       "3-element Vector{Float64}:\n",
       "  24.107281641563944\n",
       " -10.008705300583301\n",
       " 104.8528171736447"
      ]
     },
     "metadata": {},
     "output_type": "display_data"
    },
    {
     "data": {
      "text/plain": [
       "3-element Vector{Float64}:\n",
       "  24.2388340715203\n",
       "  -9.990449500996846\n",
       " 105.02088428424523"
      ]
     },
     "metadata": {},
     "output_type": "display_data"
    },
    {
     "data": {
      "text/plain": [
       "3-element Vector{Float64}:\n",
       "  24.138592715178756\n",
       " -10.004874085507623\n",
       " 104.89044300405158"
      ]
     },
     "metadata": {},
     "output_type": "display_data"
    },
    {
     "data": {
      "text/plain": [
       "3-element Vector{Float64}:\n",
       "  24.458497005465528\n",
       "  -9.97371376613458\n",
       " 105.19147484834068"
      ]
     },
     "metadata": {},
     "output_type": "display_data"
    },
    {
     "data": {
      "text/plain": [
       "3-element Vector{Float64}:\n",
       "  24.338427360324054\n",
       "  -9.970246803698913\n",
       " 105.13007896463725"
      ]
     },
     "metadata": {},
     "output_type": "display_data"
    },
    {
     "data": {
      "text/plain": [
       "3-element Vector{Float64}:\n",
       "  24.328314758109784\n",
       "  -9.970867213672278\n",
       " 105.09086441588727"
      ]
     },
     "metadata": {},
     "output_type": "display_data"
    },
    {
     "data": {
      "text/plain": [
       "3-element Vector{Float64}:\n",
       "  24.360789501854896\n",
       "  -9.968904338107421\n",
       " 105.12847730392997"
      ]
     },
     "metadata": {},
     "output_type": "display_data"
    },
    {
     "data": {
      "text/plain": [
       "3-element Vector{Float64}:\n",
       "  24.328917810259377\n",
       "  -9.972080329885259\n",
       " 105.09006181680274"
      ]
     },
     "metadata": {},
     "output_type": "display_data"
    },
    {
     "data": {
      "text/plain": [
       "3-element Vector{Float64}:\n",
       "   0.43477216227517346\n",
       "  -9.974125236425493\n",
       " 105.0492158354541"
      ]
     },
     "metadata": {},
     "output_type": "display_data"
    },
    {
     "data": {
      "text/plain": [
       "3-element Vector{Float64}:\n",
       "  -0.5055388019738274\n",
       "  -9.972385562116386\n",
       " 105.0495201466403"
      ]
     },
     "metadata": {},
     "output_type": "display_data"
    },
    {
     "data": {
      "text/plain": [
       "3-element Vector{Float64}:\n",
       "  -0.38402204077740976\n",
       "  -9.970773209976514\n",
       " 105.04847875640405"
      ]
     },
     "metadata": {},
     "output_type": "display_data"
    },
    {
     "data": {
      "text/plain": [
       "3-element Vector{Float64}:\n",
       "  -0.3670073675865453\n",
       "  -9.969168005611593\n",
       " 105.04736457209927"
      ]
     },
     "metadata": {},
     "output_type": "display_data"
    },
    {
     "data": {
      "text/plain": [
       "3-element Vector{Float64}:\n",
       "  -0.3574098010031008\n",
       "  -9.967563433088472\n",
       " 105.04624661113883"
      ]
     },
     "metadata": {},
     "output_type": "display_data"
    },
    {
     "data": {
      "text/plain": [
       "3-element Vector{Float64}:\n",
       "  -0.3475338815967035\n",
       "  -9.965959139073732\n",
       " 105.04512861562219"
      ]
     },
     "metadata": {},
     "output_type": "display_data"
    },
    {
     "data": {
      "text/plain": [
       "3-element Vector{Float64}:\n",
       "  -0.33788565164029194\n",
       "  -9.964355104370242\n",
       " 105.0440107884182"
      ]
     },
     "metadata": {},
     "output_type": "display_data"
    },
    {
     "data": {
      "text/plain": [
       "3-element Vector{Float64}:\n",
       "  -0.3285080360621109\n",
       " -10.024441268417647\n",
       " 105.04289314049964"
      ]
     },
     "metadata": {},
     "output_type": "display_data"
    },
    {
     "data": {
      "text/plain": [
       "3-element Vector{Float64}:\n",
       "  -0.319390979993301\n",
       " -10.019494573738896\n",
       " 105.04177567243394"
      ]
     },
     "metadata": {},
     "output_type": "display_data"
    },
    {
     "data": {
      "text/plain": [
       "3-element Vector{Float64}:\n",
       "  -0.31052693491967887\n",
       " -10.020941879334856\n",
       " 105.04065838422363"
      ]
     },
     "metadata": {},
     "output_type": "display_data"
    },
    {
     "data": {
      "text/plain": [
       "3-element Vector{Float64}:\n",
       "  -0.3037235750322438\n",
       "  -9.968897414754906\n",
       " 105.04136053931973"
      ]
     },
     "metadata": {},
     "output_type": "display_data"
    },
    {
     "data": {
      "text/plain": [
       "3-element Vector{Float64}:\n",
       "  -0.29058358381008276\n",
       " -10.028763490572246\n",
       " 105.03852853450863"
      ]
     },
     "metadata": {},
     "output_type": "display_data"
    },
    {
     "data": {
      "text/plain": [
       "3-element Vector{Float64}:\n",
       "  -0.2863469466715287\n",
       " -10.017443049108635\n",
       " 105.03547132364201"
      ]
     },
     "metadata": {},
     "output_type": "display_data"
    },
    {
     "data": {
      "text/plain": [
       "3-element Vector{Float64}:\n",
       "  -0.2736212228421948\n",
       " -10.018595688907553\n",
       " 105.03554050507643"
      ]
     },
     "metadata": {},
     "output_type": "display_data"
    },
    {
     "data": {
      "text/plain": [
       "3-element Vector{Float64}:\n",
       "  -0.26629123884860206\n",
       " -10.028992020173362\n",
       " 105.04476895954514"
      ]
     },
     "metadata": {},
     "output_type": "display_data"
    },
    {
     "data": {
      "text/plain": [
       "3-element Vector{Float64}:\n",
       "  -0.2718361825598379\n",
       " -10.00757004884332\n",
       " 105.02826118866287"
      ]
     },
     "metadata": {},
     "output_type": "display_data"
    },
    {
     "data": {
      "text/plain": [
       "3-element Vector{Float64}:\n",
       "  -0.25483454311358145\n",
       " -10.01062617801037\n",
       " 105.02670357171914"
      ]
     },
     "metadata": {},
     "output_type": "display_data"
    },
    {
     "data": {
      "text/plain": [
       "3-element Vector{Float64}:\n",
       "  -0.23435449253818774\n",
       " -10.033396191332457\n",
       " 105.047335798651"
      ]
     },
     "metadata": {},
     "output_type": "display_data"
    },
    {
     "data": {
      "text/plain": [
       "3-element Vector{Float64}:\n",
       "  -0.2597113893301142\n",
       "  -9.994439699827538\n",
       " 105.01837160952368"
      ]
     },
     "metadata": {},
     "output_type": "display_data"
    },
    {
     "data": {
      "text/plain": [
       "3-element Vector{Float64}:\n",
       "  -0.2331372500059672\n",
       "  -9.999361632070858\n",
       " 105.01709373651835"
      ]
     },
     "metadata": {},
     "output_type": "display_data"
    },
    {
     "data": {
      "text/plain": [
       "3-element Vector{Float64}:\n",
       "  -0.20748894344282576\n",
       " -10.042226136562476\n",
       " 105.0345629184265"
      ]
     },
     "metadata": {},
     "output_type": "display_data"
    },
    {
     "data": {
      "text/plain": [
       "3-element Vector{Float64}:\n",
       "  -0.2507949099199891\n",
       "  -9.979629395330946\n",
       " 105.0047636453497"
      ]
     },
     "metadata": {},
     "output_type": "display_data"
    },
    {
     "data": {
      "text/plain": [
       "3-element Vector{Float64}:\n",
       "  -0.19799422542542544\n",
       " -10.005213991408382\n",
       " 105.02929041040113"
      ]
     },
     "metadata": {},
     "output_type": "display_data"
    },
    {
     "data": {
      "text/plain": [
       "3-element Vector{Float64}:\n",
       "  -0.23297423414800988\n",
       "  -9.971002458625875\n",
       " 104.99183717226677"
      ]
     },
     "metadata": {},
     "output_type": "display_data"
    },
    {
     "data": {
      "text/plain": [
       "3-element Vector{Float64}:\n",
       "  -0.2127393502587296\n",
       "  -9.953981998037051\n",
       " 104.98379180240926"
      ]
     },
     "metadata": {},
     "output_type": "display_data"
    },
    {
     "data": {
      "text/plain": [
       "3-element Vector{Float64}:\n",
       "  -0.16441145619106123\n",
       "  -9.999654087057152\n",
       " 105.00887799104865"
      ]
     },
     "metadata": {},
     "output_type": "display_data"
    },
    {
     "data": {
      "text/plain": [
       "3-element Vector{Float64}:\n",
       "  -0.24068432935951023\n",
       "  -9.935949379379664\n",
       " 104.96667867117222"
      ]
     },
     "metadata": {},
     "output_type": "display_data"
    },
    {
     "data": {
      "text/plain": [
       "3-element Vector{Float64}:\n",
       "  -0.1546229646152355\n",
       "  -9.985132792081302\n",
       " 105.01745603150815"
      ]
     },
     "metadata": {},
     "output_type": "display_data"
    },
    {
     "data": {
      "text/plain": [
       "3-element Vector{Float64}:\n",
       "  -0.2197195850790976\n",
       "  -9.932449998600404\n",
       " 104.95747899112143"
      ]
     },
     "metadata": {},
     "output_type": "display_data"
    },
    {
     "data": {
      "text/plain": [
       "3-element Vector{Float64}:\n",
       "  -0.11905643574706914\n",
       "  -9.991253253233992\n",
       " 104.99649373375763"
      ]
     },
     "metadata": {},
     "output_type": "display_data"
    },
    {
     "data": {
      "text/plain": [
       "3-element Vector{Float64}:\n",
       "  -0.22252719968319212\n",
       "  -9.940248906987257\n",
       " 104.9511069348219"
      ]
     },
     "metadata": {},
     "output_type": "display_data"
    },
    {
     "data": {
      "text/plain": [
       "3-element Vector{Float64}:\n",
       "  -0.10299861134511445\n",
       " -10.006824692199963\n",
       " 105.01039113394947"
      ]
     },
     "metadata": {},
     "output_type": "display_data"
    },
    {
     "data": {
      "text/plain": [
       "3-element Vector{Float64}:\n",
       "  -0.2310659877654473\n",
       "  -9.94811405499594\n",
       " 104.95522625380264"
      ]
     },
     "metadata": {},
     "output_type": "display_data"
    },
    {
     "data": {
      "text/plain": [
       "3-element Vector{Float64}:\n",
       "  -0.06606808580193047\n",
       " -10.04865287048542\n",
       " 105.05342766803741"
      ]
     },
     "metadata": {},
     "output_type": "display_data"
    },
    {
     "data": {
      "text/plain": [
       "3-element Vector{Float64}:\n",
       "  -0.2168345578623132\n",
       "  -9.976447552786013\n",
       " 104.97778088919733"
      ]
     },
     "metadata": {},
     "output_type": "display_data"
    },
    {
     "data": {
      "text/plain": [
       "3-element Vector{Float64}:\n",
       "  -0.08817371471175761\n",
       " -10.026974821925108\n",
       " 105.04079302692101"
      ]
     },
     "metadata": {},
     "output_type": "display_data"
    },
    {
     "data": {
      "text/plain": [
       "3-element Vector{Float64}:\n",
       "  -0.1576807712321937\n",
       " -10.000408752091445\n",
       " 104.99990259499448"
      ]
     },
     "metadata": {},
     "output_type": "display_data"
    },
    {
     "data": {
      "text/plain": [
       "3-element Vector{Float64}:\n",
       "  -0.15208275046117592\n",
       "  -9.999886641578094\n",
       " 104.99894488722244"
      ]
     },
     "metadata": {},
     "output_type": "display_data"
    },
    {
     "data": {
      "text/plain": [
       "3-element Vector{Float64}:\n",
       "  -0.15214056614206584\n",
       " -10.001006400919593\n",
       " 105.00314587162956"
      ]
     },
     "metadata": {},
     "output_type": "display_data"
    },
    {
     "data": {
      "text/plain": [
       "3-element Vector{Float64}:\n",
       "  -0.13965473537381712\n",
       "  -9.999004024032509\n",
       " 105.00687098924892"
      ]
     },
     "metadata": {},
     "output_type": "display_data"
    },
    {
     "data": {
      "text/plain": [
       "3-element Vector{Float64}:\n",
       "  -0.1318016360701364\n",
       " -10.004508512205206\n",
       " 105.00467606652033"
      ]
     },
     "metadata": {},
     "output_type": "display_data"
    },
    {
     "data": {
      "text/plain": [
       "3-element Vector{Float64}:\n",
       "  -0.12212471033248562\n",
       " -10.000879703777635\n",
       " 105.00549986307752"
      ]
     },
     "metadata": {},
     "output_type": "display_data"
    },
    {
     "data": {
      "text/plain": [
       "3-element Vector{Float64}:\n",
       "  -0.12383376419595749\n",
       " -10.000437428883792\n",
       " 105.003842455489"
      ]
     },
     "metadata": {},
     "output_type": "display_data"
    },
    {
     "data": {
      "text/plain": [
       "3-element Vector{Float64}:\n",
       "  -0.11971627893718306\n",
       "  -9.999500751141877\n",
       " 105.00294691265255"
      ]
     },
     "metadata": {},
     "output_type": "display_data"
    },
    {
     "data": {
      "text/plain": [
       "3-element Vector{Float64}:\n",
       "  -0.11500323150664116\n",
       "  -9.998884347106195\n",
       " 105.0020582873573"
      ]
     },
     "metadata": {},
     "output_type": "display_data"
    },
    {
     "data": {
      "text/plain": [
       "3-element Vector{Float64}:\n",
       "  -0.11604951970593902\n",
       " -10.003131699126364\n",
       " 105.00155289848107"
      ]
     },
     "metadata": {},
     "output_type": "display_data"
    },
    {
     "data": {
      "text/plain": [
       "3-element Vector{Float64}:\n",
       "  -0.3061341151327426\n",
       "  -1.7541204757987963\n",
       " 104.99915600318235"
      ]
     },
     "metadata": {},
     "output_type": "display_data"
    },
    {
     "data": {
      "text/plain": [
       "3-element Vector{Float64}:\n",
       "  -0.6600183965520756\n",
       "   6.905234041153037\n",
       " 104.99815025806366"
      ]
     },
     "metadata": {},
     "output_type": "display_data"
    },
    {
     "data": {
      "text/plain": [
       "3-element Vector{Float64}:\n",
       "  -1.2125303717075653\n",
       "  11.4457426617661\n",
       " 104.99708838068453"
      ]
     },
     "metadata": {},
     "output_type": "display_data"
    },
    {
     "data": {
      "text/plain": [
       "3-element Vector{Float64}:\n",
       "  -1.5252104513003388\n",
       "  12.607806224207991\n",
       " 104.99602729684602"
      ]
     },
     "metadata": {},
     "output_type": "display_data"
    },
    {
     "data": {
      "text/plain": [
       "3-element Vector{Float64}:\n",
       "  -1.6172082974158783\n",
       "  12.083744574119159\n",
       " 104.99490498482368"
      ]
     },
     "metadata": {},
     "output_type": "display_data"
    },
    {
     "data": {
      "text/plain": [
       "3-element Vector{Float64}:\n",
       "  -1.4743797482552239\n",
       "  11.084767525336819\n",
       " 104.99380679704176"
      ]
     },
     "metadata": {},
     "output_type": "display_data"
    },
    {
     "data": {
      "text/plain": [
       "3-element Vector{Float64}:\n",
       "  -1.2556194929335618\n",
       "  10.162227980707183\n",
       " 104.99276199036665"
      ]
     },
     "metadata": {},
     "output_type": "display_data"
    },
    {
     "data": {
      "text/plain": [
       "3-element Vector{Float64}:\n",
       "  -1.0894038271922213\n",
       "   9.45637445236827\n",
       " 104.99166532362575"
      ]
     },
     "metadata": {},
     "output_type": "display_data"
    },
    {
     "data": {
      "text/plain": [
       "3-element Vector{Float64}:\n",
       "  -0.9414954890531746\n",
       "   8.922028286357055\n",
       " 104.9905603634097"
      ]
     },
     "metadata": {},
     "output_type": "display_data"
    },
    {
     "data": {
      "text/plain": [
       "3-element Vector{Float64}:\n",
       "  -0.8228317944302432\n",
       "   8.482493128223513\n",
       " 104.98945059065632"
      ]
     },
     "metadata": {},
     "output_type": "display_data"
    },
    {
     "data": {
      "text/plain": [
       "3-element Vector{Float64}:\n",
       "  -0.7674150768763894\n",
       "   8.084301418163339\n",
       " 104.9883253293157"
      ]
     },
     "metadata": {},
     "output_type": "display_data"
    },
    {
     "data": {
      "text/plain": [
       "3-element Vector{Float64}:\n",
       "  -0.7138569793767289\n",
       "   7.703098807854268\n",
       " 104.98719534406578"
      ]
     },
     "metadata": {},
     "output_type": "display_data"
    },
    {
     "data": {
      "text/plain": [
       "3-element Vector{Float64}:\n",
       "  -0.6747388054623542\n",
       "   7.3327811883265355\n",
       " 104.98613695345033"
      ]
     },
     "metadata": {},
     "output_type": "display_data"
    },
    {
     "data": {
      "text/plain": [
       "3-element Vector{Float64}:\n",
       "  -0.6378469530290047\n",
       "   6.976141729272058\n",
       " 104.98431999885054"
      ]
     },
     "metadata": {},
     "output_type": "display_data"
    },
    {
     "data": {
      "text/plain": [
       "3-element Vector{Float64}:\n",
       "  -0.6179603428118554\n",
       "   6.6275149137718685\n",
       " 104.98390246737783"
      ]
     },
     "metadata": {},
     "output_type": "display_data"
    },
    {
     "data": {
      "text/plain": [
       "3-element Vector{Float64}:\n",
       "  -0.5889164348674782\n",
       "   6.2965948064404955\n",
       " 104.9828047956356"
      ]
     },
     "metadata": {},
     "output_type": "display_data"
    },
    {
     "data": {
      "text/plain": [
       "3-element Vector{Float64}:\n",
       "  -0.5627570678696188\n",
       "   5.983885547902183\n",
       " 104.9817020137032"
      ]
     },
     "metadata": {},
     "output_type": "display_data"
    },
    {
     "data": {
      "text/plain": [
       "3-element Vector{Float64}:\n",
       "  -0.53917672609996\n",
       "   5.688246570958448\n",
       " 104.98059812024903"
      ]
     },
     "metadata": {},
     "output_type": "display_data"
    },
    {
     "data": {
      "text/plain": [
       "3-element Vector{Float64}:\n",
       "  -0.5070825900164664\n",
       "   5.407973885316181\n",
       " 104.97949247776263"
      ]
     },
     "metadata": {},
     "output_type": "display_data"
    },
    {
     "data": {
      "text/plain": [
       "3-element Vector{Float64}:\n",
       "  -0.48134366609632906\n",
       "   5.141708758283137\n",
       " 104.97838718924328"
      ]
     },
     "metadata": {},
     "output_type": "display_data"
    },
    {
     "data": {
      "text/plain": [
       "3-element Vector{Float64}:\n",
       "  -0.45488230407555363\n",
       "   4.888511491557395\n",
       " 104.97728181070266"
      ]
     },
     "metadata": {},
     "output_type": "display_data"
    },
    {
     "data": {
      "text/plain": [
       "3-element Vector{Float64}:\n",
       "  -0.4316144060220779\n",
       "   4.647692519188219\n",
       " 104.9761764415713"
      ]
     },
     "metadata": {},
     "output_type": "display_data"
    },
    {
     "data": {
      "text/plain": [
       "3-element Vector{Float64}:\n",
       "  -0.4100284733630488\n",
       "   4.418670115327423\n",
       " 104.97507107795303"
      ]
     },
     "metadata": {},
     "output_type": "display_data"
    },
    {
     "data": {
      "text/plain": [
       "3-element Vector{Float64}:\n",
       "  -0.38868841994266035\n",
       "   4.200894623955257\n",
       " 104.97396890483381"
      ]
     },
     "metadata": {},
     "output_type": "display_data"
    },
    {
     "data": {
      "text/plain": [
       "3-element Vector{Float64}:\n",
       "  -0.3607020020264855\n",
       "   3.9938495763250685\n",
       " 104.97286091076896"
      ]
     },
     "metadata": {},
     "output_type": "display_data"
    },
    {
     "data": {
      "text/plain": [
       "3-element Vector{Float64}:\n",
       "  -0.33939726275477256\n",
       "   3.79699759414148\n",
       " 104.97175595462171"
      ]
     },
     "metadata": {},
     "output_type": "display_data"
    },
    {
     "data": {
      "text/plain": [
       "3-element Vector{Float64}:\n",
       "  -0.32160714802355983\n",
       "   3.609845899955978\n",
       " 104.97065026075015"
      ]
     },
     "metadata": {},
     "output_type": "display_data"
    },
    {
     "data": {
      "text/plain": [
       "3-element Vector{Float64}:\n",
       "  -0.3055325404161948\n",
       "   3.4319110625709683\n",
       " 104.96954011046395"
      ]
     },
     "metadata": {},
     "output_type": "display_data"
    },
    {
     "data": {
      "text/plain": [
       "3-element Vector{Float64}:\n",
       "  -0.2900319299944769\n",
       "   3.262746639475985\n",
       " 104.96842925993687"
      ]
     },
     "metadata": {},
     "output_type": "display_data"
    },
    {
     "data": {
      "text/plain": [
       "3-element Vector{Float64}:\n",
       "  -0.27551154469187367\n",
       "   3.101885902986382\n",
       " 104.96734357837781"
      ]
     },
     "metadata": {},
     "output_type": "display_data"
    },
    {
     "data": {
      "text/plain": [
       "3-element Vector{Float64}:\n",
       "  -0.25708320435398946\n",
       "   2.949134559119379\n",
       " 104.96632034304702"
      ]
     },
     "metadata": {},
     "output_type": "display_data"
    },
    {
     "data": {
      "text/plain": [
       "3-element Vector{Float64}:\n",
       "  -0.2411063466106782\n",
       "   2.8025123675346677\n",
       " 104.96515716411818"
      ]
     },
     "metadata": {},
     "output_type": "display_data"
    },
    {
     "data": {
      "text/plain": [
       "3-element Vector{Float64}:\n",
       "  -0.22775873084836462\n",
       "   2.662532334531086\n",
       " 104.96406300968813"
      ]
     },
     "metadata": {},
     "output_type": "display_data"
    },
    {
     "data": {
      "text/plain": [
       "3-element Vector{Float64}:\n",
       "  -0.21622684804285797\n",
       "   2.5302367929288394\n",
       " 104.9629610839143"
      ]
     },
     "metadata": {},
     "output_type": "display_data"
    },
    {
     "data": {
      "text/plain": [
       "3-element Vector{Float64}:\n",
       "  -0.20531859047555656\n",
       "   2.4051633640098267\n",
       " 104.96185822915058"
      ]
     },
     "metadata": {},
     "output_type": "display_data"
    },
    {
     "data": {
      "text/plain": [
       "3-element Vector{Float64}:\n",
       "  -0.19485202332094786\n",
       "   2.2866249785216155\n",
       " 104.96075512898095"
      ]
     },
     "metadata": {},
     "output_type": "display_data"
    },
    {
     "data": {
      "text/plain": [
       "3-element Vector{Float64}:\n",
       "  -0.18513594591663463\n",
       "   2.1740463017418925\n",
       " 104.95965273101342"
      ]
     },
     "metadata": {},
     "output_type": "display_data"
    },
    {
     "data": {
      "text/plain": [
       "3-element Vector{Float64}:\n",
       "  -0.17518457519394914\n",
       "   2.0670212744403216\n",
       " 104.95854952341804"
      ]
     },
     "metadata": {},
     "output_type": "display_data"
    },
    {
     "data": {
      "text/plain": [
       "3-element Vector{Float64}:\n",
       "  -0.16255641790252895\n",
       "   1.9652438394127891\n",
       " 104.9574467314068"
      ]
     },
     "metadata": {},
     "output_type": "display_data"
    },
    {
     "data": {
      "text/plain": [
       "3-element Vector{Float64}:\n",
       "  -0.15279486261376363\n",
       "   1.8684613465435582\n",
       " 104.95634412132506"
      ]
     },
     "metadata": {},
     "output_type": "display_data"
    },
    {
     "data": {
      "text/plain": [
       "3-element Vector{Float64}:\n",
       "  -0.14462830763729428\n",
       "   1.776437807799656\n",
       " 104.95524165597809"
      ]
     },
     "metadata": {},
     "output_type": "display_data"
    },
    {
     "data": {
      "text/plain": [
       "3-element Vector{Float64}:\n",
       "  -0.13706592639423576\n",
       "   1.688946035116082\n",
       " 104.9541393438895"
      ]
     },
     "metadata": {},
     "output_type": "display_data"
    },
    {
     "data": {
      "text/plain": [
       "3-element Vector{Float64}:\n",
       "  -0.12997163361242414\n",
       "   1.6057658384090594\n",
       " 104.95303719094322"
      ]
     },
     "metadata": {},
     "output_type": "display_data"
    },
    {
     "data": {
      "text/plain": [
       "3-element Vector{Float64}:\n",
       "  -0.12336324403624488\n",
       "   1.5266852655718317\n",
       " 104.95193511061866"
      ]
     },
     "metadata": {},
     "output_type": "display_data"
    },
    {
     "data": {
      "text/plain": [
       "3-element Vector{Float64}:\n",
       "  -0.1172731107773366\n",
       "   1.4515014525573768\n",
       " 104.95083295404271"
      ]
     },
     "metadata": {},
     "output_type": "display_data"
    },
    {
     "data": {
      "text/plain": [
       "3-element Vector{Float64}:\n",
       "  -0.11224705421186698\n",
       "   1.3800210282895975\n",
       " 104.94973115657498"
      ]
     },
     "metadata": {},
     "output_type": "display_data"
    },
    {
     "data": {
      "text/plain": [
       "3-element Vector{Float64}:\n",
       "  -0.10324751030268686\n",
       "   1.3120637074982753\n",
       " 104.94863035967761"
      ]
     },
     "metadata": {},
     "output_type": "display_data"
    },
    {
     "data": {
      "text/plain": [
       "3-element Vector{Float64}:\n",
       "  -0.09605727617232063\n",
       "   1.2474522936742005\n",
       " 104.94752901270334"
      ]
     },
     "metadata": {},
     "output_type": "display_data"
    },
    {
     "data": {
      "text/plain": [
       "3-element Vector{Float64}:\n",
       "  -0.09030863737347872\n",
       "   1.1860232280532514\n",
       " 104.94642786814423"
      ]
     },
     "metadata": {},
     "output_type": "display_data"
    },
    {
     "data": {
      "text/plain": [
       "3-element Vector{Float64}:\n",
       "  -0.08530027648775729\n",
       "   1.1276195513627556\n",
       " 104.94532689149108"
      ]
     },
     "metadata": {},
     "output_type": "display_data"
    },
    {
     "data": {
      "text/plain": [
       "3-element Vector{Float64}:\n",
       "  -0.08079912849149551\n",
       "   1.0720921524950455\n",
       " 104.94422608442582"
      ]
     },
     "metadata": {},
     "output_type": "display_data"
    },
    {
     "data": {
      "text/plain": [
       "3-element Vector{Float64}:\n",
       "  -0.076700093780115\n",
       "   1.0192993090248734\n",
       " 104.94312544777317"
      ]
     },
     "metadata": {},
     "output_type": "display_data"
    },
    {
     "data": {
      "text/plain": [
       "3-element Vector{Float64}:\n",
       "  -0.07289702207352278\n",
       "   0.9691063511141742\n",
       " 104.94202492043738"
      ]
     },
     "metadata": {},
     "output_type": "display_data"
    },
    {
     "data": {
      "text/plain": [
       "3-element Vector{Float64}:\n",
       "  -0.06932936486042252\n",
       "   0.9213853196196595\n",
       " 104.94092407337217"
      ]
     },
     "metadata": {},
     "output_type": "display_data"
    },
    {
     "data": {
      "text/plain": [
       "3-element Vector{Float64}:\n",
       "  -0.06612380001583062\n",
       "   0.8760133471584979\n",
       " 104.93982565477246"
      ]
     },
     "metadata": {},
     "output_type": "display_data"
    },
    {
     "data": {
      "text/plain": [
       "3-element Vector{Float64}:\n",
       "  -0.06218114238588868\n",
       "   0.8328767773920696\n",
       " 104.93872468779604"
      ]
     },
     "metadata": {},
     "output_type": "display_data"
    },
    {
     "data": {
      "text/plain": [
       "3-element Vector{Float64}:\n",
       "  -0.05640913689574134\n",
       "   0.7918638476129054\n",
       " 104.93762489866423"
      ]
     },
     "metadata": {},
     "output_type": "display_data"
    },
    {
     "data": {
      "text/plain": [
       "3-element Vector{Float64}:\n",
       "  -0.05218802163633285\n",
       "   0.752870884263384\n",
       " 104.93652530635332"
      ]
     },
     "metadata": {},
     "output_type": "display_data"
    },
    {
     "data": {
      "text/plain": [
       "3-element Vector{Float64}:\n",
       "  -0.04881931465133249\n",
       "   0.7157980435923577\n",
       " 104.93542588412728"
      ]
     },
     "metadata": {},
     "output_type": "display_data"
    },
    {
     "data": {
      "text/plain": [
       "3-element Vector{Float64}:\n",
       "  -0.04606338880732608\n",
       "   0.6805507178793206\n",
       " 104.93432663394698"
      ]
     },
     "metadata": {},
     "output_type": "display_data"
    },
    {
     "data": {
      "text/plain": [
       "3-element Vector{Float64}:\n",
       "  -0.043718220012522124\n",
       "   0.6470390308921239\n",
       " 104.93322755641739"
      ]
     },
     "metadata": {},
     "output_type": "display_data"
    },
    {
     "data": {
      "text/plain": [
       "3-element Vector{Float64}:\n",
       "  -0.041593715545040766\n",
       "   0.6151775310925345\n",
       " 104.93212865207914"
      ]
     },
     "metadata": {},
     "output_type": "display_data"
    },
    {
     "data": {
      "text/plain": [
       "3-element Vector{Float64}:\n",
       "  -0.03957681872412522\n",
       "   0.5848849907918776\n",
       " 104.93102989771643"
      ]
     },
     "metadata": {},
     "output_type": "display_data"
    },
    {
     "data": {
      "text/plain": [
       "3-element Vector{Float64}:\n",
       "  -0.037633080638002525\n",
       "   0.5560843351990314\n",
       " 104.92993098953082"
      ]
     },
     "metadata": {},
     "output_type": "display_data"
    },
    {
     "data": {
      "text/plain": [
       "3-element Vector{Float64}:\n",
       "  -0.03578942525868811\n",
       "   0.5287012161822737\n",
       " 104.92883238135362"
      ]
     },
     "metadata": {},
     "output_type": "display_data"
    },
    {
     "data": {
      "text/plain": [
       "3-element Vector{Float64}:\n",
       "  -0.034589518070557546\n",
       "   0.5026640030700662\n",
       " 104.92773793786722"
      ]
     },
     "metadata": {},
     "output_type": "display_data"
    },
    {
     "data": {
      "text/plain": [
       "3-element Vector{Float64}:\n",
       "  -0.030702478857943305\n",
       "   0.47791664115663224\n",
       " 104.92663673834073"
      ]
     },
     "metadata": {},
     "output_type": "display_data"
    },
    {
     "data": {
      "text/plain": [
       "3-element Vector{Float64}:\n",
       "  -0.027368810987987047\n",
       "   0.4543823087011276\n",
       " 104.92553887990904"
      ]
     },
     "metadata": {},
     "output_type": "display_data"
    },
    {
     "data": {
      "text/plain": [
       "3-element Vector{Float64}:\n",
       "  -0.024984990496641046\n",
       "   0.4320069785933853\n",
       " 104.92444006576179"
      ]
     },
     "metadata": {},
     "output_type": "display_data"
    },
    {
     "data": {
      "text/plain": [
       "3-element Vector{Float64}:\n",
       "  -0.023275273711263367\n",
       "   0.41073404525372226\n",
       " 104.92333990314609"
      ]
     },
     "metadata": {},
     "output_type": "display_data"
    },
    {
     "data": {
      "text/plain": [
       "3-element Vector{Float64}:\n",
       "  -0.022006015535556145\n",
       "   0.390508623158091\n",
       " 104.92223872399816"
      ]
     },
     "metadata": {},
     "output_type": "display_data"
    },
    {
     "data": {
      "text/plain": [
       "3-element Vector{Float64}:\n",
       "  -0.020945891410832473\n",
       "   0.37127937276667566\n",
       " 104.92113770597405"
      ]
     },
     "metadata": {},
     "output_type": "display_data"
    },
    {
     "data": {
      "text/plain": [
       "3-element Vector{Float64}:\n",
       "  -0.019952287379670253\n",
       "   0.3530040108146295\n",
       " 104.92002650696851"
      ]
     },
     "metadata": {},
     "output_type": "display_data"
    },
    {
     "data": {
      "text/plain": [
       "3-element Vector{Float64}:\n",
       "  -0.018988495157053364\n",
       "   0.33565352788584946\n",
       " 104.9189453911528"
      ]
     },
     "metadata": {},
     "output_type": "display_data"
    },
    {
     "data": {
      "text/plain": [
       "3-element Vector{Float64}:\n",
       "  -0.01803199196011107\n",
       "   0.31836233253510215\n",
       " 104.91785686775626"
      ]
     },
     "metadata": {},
     "output_type": "display_data"
    },
    {
     "data": {
      "text/plain": [
       "3-element Vector{Float64}:\n",
       "  -0.017112980521581278\n",
       "   0.30197401022824266\n",
       " 104.9167604704663"
      ]
     },
     "metadata": {},
     "output_type": "display_data"
    },
    {
     "data": {
      "text/plain": [
       "3-element Vector{Float64}:\n",
       "  -0.016260731583095378\n",
       "   0.28670654438518994\n",
       " 104.91566348570935"
      ]
     },
     "metadata": {},
     "output_type": "display_data"
    },
    {
     "data": {
      "text/plain": [
       "3-element Vector{Float64}:\n",
       "  -0.016164249712257828\n",
       "   0.27244075949473867\n",
       " 104.91456670518295"
      ]
     },
     "metadata": {},
     "output_type": "display_data"
    },
    {
     "data": {
      "text/plain": [
       "3-element Vector{Float64}:\n",
       "  -0.012987406121961698\n",
       "   0.22708828138095782\n",
       " 105.05940770440822"
      ]
     },
     "metadata": {},
     "output_type": "display_data"
    },
    {
     "data": {
      "text/plain": [
       "3-element Vector{Float64}:\n",
       "  -0.010861018202668049\n",
       "   0.19227307212460687\n",
       " 105.04239434948948"
      ]
     },
     "metadata": {},
     "output_type": "display_data"
    },
    {
     "data": {
      "text/plain": [
       "3-element Vector{Float64}:\n",
       "  -0.009513268047246726\n",
       "   0.17291113496007426\n",
       " 105.05741297874576"
      ]
     },
     "metadata": {},
     "output_type": "display_data"
    },
    {
     "data": {
      "text/plain": [
       "3-element Vector{Float64}:\n",
       "  -0.00854392329431164\n",
       "   0.1738457091975505\n",
       " 105.00910454930042"
      ]
     },
     "metadata": {},
     "output_type": "display_data"
    },
    {
     "data": {
      "text/plain": [
       "3-element Vector{Float64}:\n",
       "  -0.008163426827810127\n",
       "   0.19767716398181534\n",
       " 105.00749974555742"
      ]
     },
     "metadata": {},
     "output_type": "display_data"
    },
    {
     "data": {
      "text/plain": [
       "3-element Vector{Float64}:\n",
       "  -0.007977395948245203\n",
       "   0.18578827540542875\n",
       " 105.02862281553361"
      ]
     },
     "metadata": {},
     "output_type": "display_data"
    },
    {
     "data": {
      "text/plain": [
       "3-element Vector{Float64}:\n",
       "  -0.00731843701745305\n",
       "   0.1726459673691494\n",
       " 105.00002977699577"
      ]
     },
     "metadata": {},
     "output_type": "display_data"
    },
    {
     "data": {
      "text/plain": [
       "3-element Vector{Float64}:\n",
       "  -0.007052559778120582\n",
       "   0.1859226453671461\n",
       " 105.00268611674181"
      ]
     },
     "metadata": {},
     "output_type": "display_data"
    },
    {
     "data": {
      "text/plain": [
       "3-element Vector{Float64}:\n",
       "  -0.006897087727679718\n",
       "   0.18561162098927042\n",
       " 105.00975952472048"
      ]
     },
     "metadata": {},
     "output_type": "display_data"
    },
    {
     "data": {
      "text/plain": [
       "3-element Vector{Float64}:\n",
       "  -0.006401348226049208\n",
       "   0.17931515420020716\n",
       " 104.99957722738877"
      ]
     },
     "metadata": {},
     "output_type": "display_data"
    },
    {
     "data": {
      "text/plain": [
       "3-element Vector{Float64}:\n",
       "  -0.006302211580361927\n",
       "   0.17407690394083986\n",
       " 104.99564184938723"
      ]
     },
     "metadata": {},
     "output_type": "display_data"
    },
    {
     "data": {
      "text/plain": [
       "3-element Vector{Float64}:\n",
       "  -0.005361342212552245\n",
       "   0.18685016163283663\n",
       " 105.00132938394029"
      ]
     },
     "metadata": {},
     "output_type": "display_data"
    },
    {
     "data": {
      "text/plain": [
       "3-element Vector{Float64}:\n",
       "  -0.005464799911415241\n",
       "   0.1864354867218978\n",
       " 105.00270002352431"
      ]
     },
     "metadata": {},
     "output_type": "display_data"
    },
    {
     "data": {
      "text/plain": [
       "3-element Vector{Float64}:\n",
       "  -0.004947258924811848\n",
       "   0.17865749522751173\n",
       " 105.00454513411157"
      ]
     },
     "metadata": {},
     "output_type": "display_data"
    },
    {
     "data": {
      "text/plain": [
       "3-element Vector{Float64}:\n",
       "  -0.002978989324198267\n",
       "   0.161112768604184\n",
       " 105.00476080126411"
      ]
     },
     "metadata": {},
     "output_type": "display_data"
    },
    {
     "data": {
      "text/plain": [
       "3-element Vector{Float64}:\n",
       "  -0.0016867515449767723\n",
       "   0.14386568027293478\n",
       " 105.00267116140124"
      ]
     },
     "metadata": {},
     "output_type": "display_data"
    },
    {
     "data": {
      "text/plain": [
       "3-element Vector{Float64}:\n",
       "  -0.0010445460806778328\n",
       "   0.13118216812197758\n",
       " 105.00124743944183"
      ]
     },
     "metadata": {},
     "output_type": "display_data"
    },
    {
     "data": {
      "text/plain": [
       "3-element Vector{Float64}:\n",
       "  -0.0008288165042529272\n",
       "   0.12298973968346161\n",
       " 105.00056750681202"
      ]
     },
     "metadata": {},
     "output_type": "display_data"
    },
    {
     "data": {
      "text/plain": [
       "3-element Vector{Float64}:\n",
       "  -0.0007857704031373203\n",
       "   0.11703022217803039\n",
       " 105.00028851434547"
      ]
     },
     "metadata": {},
     "output_type": "display_data"
    },
    {
     "data": {
      "text/plain": [
       "3-element Vector{Float64}:\n",
       "  -0.0007886912008103764\n",
       "   0.11150406080963293\n",
       " 105.00026324939142"
      ]
     },
     "metadata": {},
     "output_type": "display_data"
    },
    {
     "data": {
      "text/plain": [
       "3-element Vector{Float64}:\n",
       "  -0.0007367951345287338\n",
       "   0.10623267700603378\n",
       " 105.00015721042766"
      ]
     },
     "metadata": {},
     "output_type": "display_data"
    },
    {
     "data": {
      "text/plain": [
       "3-element Vector{Float64}:\n",
       "  -0.0006994202974510699\n",
       "   0.09812713462182643\n",
       " 105.00003606239659"
      ]
     },
     "metadata": {},
     "output_type": "display_data"
    },
    {
     "data": {
      "text/plain": [
       "3-element Vector{Float64}:\n",
       "  -0.0006581509948411224\n",
       "   0.0908133185308877\n",
       " 104.99989445105965"
      ]
     },
     "metadata": {},
     "output_type": "display_data"
    },
    {
     "data": {
      "text/plain": [
       "3-element Vector{Float64}:\n",
       "  -0.000614587007042644\n",
       "   0.08489477489982988\n",
       " 104.99976364231688"
      ]
     },
     "metadata": {},
     "output_type": "display_data"
    },
    {
     "data": {
      "text/plain": [
       "3-element Vector{Float64}:\n",
       "  -0.000572982326346505\n",
       "   0.08005749459940859\n",
       " 104.9996486705283"
      ]
     },
     "metadata": {},
     "output_type": "display_data"
    },
    {
     "data": {
      "text/plain": [
       "3-element Vector{Float64}:\n",
       "  -0.000533973947742794\n",
       "   0.0758271377034454\n",
       " 101.95090241884068"
      ]
     },
     "metadata": {},
     "output_type": "display_data"
    },
    {
     "data": {
      "text/plain": [
       "3-element Vector{Float64}:\n",
       " -0.0004963336460512835\n",
       "  0.0695178881901235\n",
       " 88.24310210677476"
      ]
     },
     "metadata": {},
     "output_type": "display_data"
    },
    {
     "data": {
      "text/plain": [
       "3-element Vector{Float64}:\n",
       " -0.000449162781944068\n",
       "  0.06523031369284027\n",
       " 78.91728161567084"
      ]
     },
     "metadata": {},
     "output_type": "display_data"
    },
    {
     "data": {
      "text/plain": [
       "3-element Vector{Float64}:\n",
       " -0.0005597703643509533\n",
       "  0.06211056827825345\n",
       " 75.4401700108462"
      ]
     },
     "metadata": {},
     "output_type": "display_data"
    },
    {
     "data": {
      "text/plain": [
       "3-element Vector{Float64}:\n",
       "  0.0009629044260535125\n",
       "  0.059301662807314415\n",
       " 75.5875084229273"
      ]
     },
     "metadata": {},
     "output_type": "display_data"
    },
    {
     "data": {
      "text/plain": [
       "3-element Vector{Float64}:\n",
       "  0.002081978827973785\n",
       "  0.056501076972910624\n",
       " 77.13112420831385"
      ]
     },
     "metadata": {},
     "output_type": "display_data"
    },
    {
     "data": {
      "text/plain": [
       "3-element Vector{Float64}:\n",
       "  0.0026109582775397655\n",
       "  0.053424987235626276\n",
       " 78.81718997686934"
      ]
     },
     "metadata": {},
     "output_type": "display_data"
    },
    {
     "data": {
      "text/plain": [
       "3-element Vector{Float64}:\n",
       "  0.002684352013677227\n",
       "  0.04947318472144957\n",
       " 80.21146129595249"
      ]
     },
     "metadata": {},
     "output_type": "display_data"
    },
    {
     "data": {
      "text/plain": [
       "3-element Vector{Float64}:\n",
       "  0.00256660131022457\n",
       "  0.04610259405713535\n",
       " 81.28992431388966"
      ]
     },
     "metadata": {},
     "output_type": "display_data"
    },
    {
     "data": {
      "text/plain": [
       "3-element Vector{Float64}:\n",
       "  0.0024133172060487595\n",
       "  0.04340502722684292\n",
       " 82.16258955852624"
      ]
     },
     "metadata": {},
     "output_type": "display_data"
    },
    {
     "data": {
      "text/plain": [
       "3-element Vector{Float64}:\n",
       "  0.0022788843511314383\n",
       "  0.041148964843486624\n",
       " 82.9309379097918"
      ]
     },
     "metadata": {},
     "output_type": "display_data"
    },
    {
     "data": {
      "text/plain": [
       "3-element Vector{Float64}:\n",
       "  0.0021681708312897285\n",
       "  0.03912515979423148\n",
       " 83.65166243271759"
      ]
     },
     "metadata": {},
     "output_type": "display_data"
    },
    {
     "data": {
      "text/plain": [
       "3-element Vector{Float64}:\n",
       "  0.0020720603703061613\n",
       "  0.03722391417879933\n",
       " 84.34554109004146"
      ]
     },
     "metadata": {},
     "output_type": "display_data"
    },
    {
     "data": {
      "text/plain": [
       "3-element Vector{Float64}:\n",
       "  0.001982432296372849\n",
       "  0.03540538237542279\n",
       " 85.015235767151"
      ]
     },
     "metadata": {},
     "output_type": "display_data"
    },
    {
     "data": {
      "text/plain": [
       "3-element Vector{Float64}:\n",
       "  0.0018953338628477923\n",
       "  0.03366246054170574\n",
       " 85.65796191536484"
      ]
     },
     "metadata": {},
     "output_type": "display_data"
    },
    {
     "data": {
      "text/plain": [
       "3-element Vector{Float64}:\n",
       "  0.001809821357946717\n",
       "  0.03199767037389023\n",
       " 86.27131306487243"
      ]
     },
     "metadata": {},
     "output_type": "display_data"
    },
    {
     "data": {
      "text/plain": [
       "3-element Vector{Float64}:\n",
       "  0.0017274075782722775\n",
       "  0.030413095783316635\n",
       " 86.85468573945138"
      ]
     },
     "metadata": {},
     "output_type": "display_data"
    },
    {
     "data": {
      "text/plain": [
       "3-element Vector{Float64}:\n",
       "  0.0016482354818609934\n",
       "  0.028907956411778457\n",
       " 87.40886804167415"
      ]
     },
     "metadata": {},
     "output_type": "display_data"
    },
    {
     "data": {
      "text/plain": [
       "3-element Vector{Float64}:\n",
       "  0.0015754061792367935\n",
       "  0.02747934521300266\n",
       " 87.93529382810735"
      ]
     },
     "metadata": {},
     "output_type": "display_data"
    },
    {
     "data": {
      "text/plain": [
       "3-element Vector{Float64}:\n",
       "  0.0015140986122048616\n",
       "  0.026123234387551264\n",
       " 88.43552500690497"
      ]
     },
     "metadata": {},
     "output_type": "display_data"
    },
    {
     "data": {
      "text/plain": [
       "3-element Vector{Float64}:\n",
       "  0.0014587768441085558\n",
       "  0.02483461879553417\n",
       " 88.9110210641266"
      ]
     },
     "metadata": {},
     "output_type": "display_data"
    },
    {
     "data": {
      "text/plain": [
       "3-element Vector{Float64}:\n",
       "  0.0016528955179389015\n",
       "  0.023609385644316916\n",
       " 89.3630933693183"
      ]
     },
     "metadata": {},
     "output_type": "display_data"
    },
    {
     "data": {
      "text/plain": [
       "3-element Vector{Float64}:\n",
       "  0.0028113702194598744\n",
       "  0.022446314044238136\n",
       " 89.7929309868309"
      ]
     },
     "metadata": {},
     "output_type": "display_data"
    },
    {
     "data": {
      "text/plain": [
       "3-element Vector{Float64}:\n",
       "  0.0035729130898296546\n",
       "  0.021340907168394097\n",
       " 90.20163001868869"
      ]
     },
     "metadata": {},
     "output_type": "display_data"
    },
    {
     "data": {
      "text/plain": [
       "3-element Vector{Float64}:\n",
       "  0.003830747687620928\n",
       "  0.02028913160890511\n",
       " 90.58758083817172"
      ]
     },
     "metadata": {},
     "output_type": "display_data"
    },
    {
     "data": {
      "text/plain": [
       "3-element Vector{Float64}:\n",
       "  0.003770680055394493\n",
       "  0.01929086468562602\n",
       " 90.9484219946712"
      ]
     },
     "metadata": {},
     "output_type": "display_data"
    },
    {
     "data": {
      "text/plain": [
       "3-element Vector{Float64}:\n",
       "  0.0035909491649395164\n",
       "  0.018341150674359596\n",
       " 91.2967830241987"
      ]
     },
     "metadata": {},
     "output_type": "display_data"
    },
    {
     "data": {
      "text/plain": [
       "3-element Vector{Float64}:\n",
       "  0.003395788677224232\n",
       "  0.017438489302039173\n",
       " 91.63247153569618"
      ]
     },
     "metadata": {},
     "output_type": "display_data"
    },
    {
     "data": {
      "text/plain": [
       "3-element Vector{Float64}:\n",
       "  0.0032194051410741054\n",
       "  0.016580190130774497\n",
       " 91.95254057000504"
      ]
     },
     "metadata": {},
     "output_type": "display_data"
    },
    {
     "data": {
      "text/plain": [
       "3-element Vector{Float64}:\n",
       "  0.0030635880662277515\n",
       "  0.015762561457570712\n",
       " 92.2533138427865"
      ]
     },
     "metadata": {},
     "output_type": "display_data"
    },
    {
     "data": {
      "text/plain": [
       "3-element Vector{Float64}:\n",
       "  0.0029223392578323626\n",
       "  0.01498860368178967\n",
       " 92.53462831708346"
      ]
     },
     "metadata": {},
     "output_type": "display_data"
    },
    {
     "data": {
      "text/plain": [
       "3-element Vector{Float64}:\n",
       "  0.002788964848612352\n",
       "  0.014250897716125976\n",
       " 92.8055529709139"
      ]
     },
     "metadata": {},
     "output_type": "display_data"
    },
    {
     "data": {
      "text/plain": [
       "3-element Vector{Float64}:\n",
       "  0.0026605751412347445\n",
       "  0.01354960211556211\n",
       " 93.06702845711472"
      ]
     },
     "metadata": {},
     "output_type": "display_data"
    },
    {
     "data": {
      "text/plain": [
       "3-element Vector{Float64}:\n",
       "  0.0025362909852901794\n",
       "  0.012882800624108626\n",
       " 93.31647715535537"
      ]
     },
     "metadata": {},
     "output_type": "display_data"
    },
    {
     "data": {
      "text/plain": [
       "3-element Vector{Float64}:\n",
       "  0.0024158055733227712\n",
       "  0.012248879633396825\n",
       " 93.5534780146171"
      ]
     },
     "metadata": {},
     "output_type": "display_data"
    },
    {
     "data": {
      "text/plain": [
       "3-element Vector{Float64}:\n",
       "  0.0023008447502395057\n",
       "  0.011645595377506979\n",
       " 93.76736295377012"
      ]
     },
     "metadata": {},
     "output_type": "display_data"
    },
    {
     "data": {
      "text/plain": [
       "3-element Vector{Float64}:\n",
       "  0.002190741518084849\n",
       "  0.011072780718016872\n",
       " 93.97732621428996"
      ]
     },
     "metadata": {},
     "output_type": "display_data"
    },
    {
     "data": {
      "text/plain": [
       "3-element Vector{Float64}:\n",
       "  0.0020855351065378613\n",
       "  0.010528298303864148\n",
       " 94.18127841778565"
      ]
     },
     "metadata": {},
     "output_type": "display_data"
    },
    {
     "data": {
      "text/plain": [
       "3-element Vector{Float64}:\n",
       "  0.001986524396313527\n",
       "  0.010010497489870929\n",
       " 94.37638337451374"
      ]
     },
     "metadata": {},
     "output_type": "display_data"
    },
    {
     "data": {
      "text/plain": [
       "3-element Vector{Float64}:\n",
       "  0.0018955776872751073\n",
       "  0.009517971821942695\n",
       " 94.56185607139562"
      ]
     },
     "metadata": {},
     "output_type": "display_data"
    },
    {
     "data": {
      "text/plain": [
       "3-element Vector{Float64}:\n",
       "  0.0018216743955150605\n",
       "  0.009050671534513555\n",
       " 94.72596060049828"
      ]
     },
     "metadata": {},
     "output_type": "display_data"
    },
    {
     "data": {
      "text/plain": [
       "3-element Vector{Float64}:\n",
       "  0.001698262019932173\n",
       "  0.008605368572119687\n",
       " 94.88893923220557"
      ]
     },
     "metadata": {},
     "output_type": "display_data"
    },
    {
     "data": {
      "text/plain": [
       "3-element Vector{Float64}:\n",
       "  0.0022554532543210826\n",
       "  0.00818558022699456\n",
       " 95.04786222547091"
      ]
     },
     "metadata": {},
     "output_type": "display_data"
    },
    {
     "data": {
      "text/plain": [
       "3-element Vector{Float64}:\n",
       "  0.0031705186662502882\n",
       "  0.0077831096694414015\n",
       " 95.20041685328572"
      ]
     },
     "metadata": {},
     "output_type": "display_data"
    },
    {
     "data": {
      "text/plain": [
       "3-element Vector{Float64}:\n",
       "  0.003671669775805242\n",
       "  0.007397973642596867\n",
       " 95.34231950634599"
      ]
     },
     "metadata": {},
     "output_type": "display_data"
    },
    {
     "data": {
      "text/plain": [
       "3-element Vector{Float64}:\n",
       "  0.003775005347339544\n",
       "  0.007021601771171504\n",
       " 95.47179767007799"
      ]
     },
     "metadata": {},
     "output_type": "display_data"
    },
    {
     "data": {
      "text/plain": [
       "3-element Vector{Float64}:\n",
       "  0.0036668199778926436\n",
       "  0.006664209571090041\n",
       " 95.59811930829594"
      ]
     },
     "metadata": {},
     "output_type": "display_data"
    },
    {
     "data": {
      "text/plain": [
       "3-element Vector{Float64}:\n",
       "  0.0034813190513336423\n",
       "  0.006171443296972612\n",
       " 95.72166959995063"
      ]
     },
     "metadata": {},
     "output_type": "display_data"
    },
    {
     "data": {
      "text/plain": [
       "3-element Vector{Float64}:\n",
       "  0.003297940085639439\n",
       "  0.005245496446917741\n",
       " 95.84085108247419"
      ]
     },
     "metadata": {},
     "output_type": "display_data"
    },
    {
     "data": {
      "text/plain": [
       "3-element Vector{Float64}:\n",
       "  0.0031319185768357016\n",
       "  0.004511136744049793\n",
       " 95.94724102062351"
      ]
     },
     "metadata": {},
     "output_type": "display_data"
    },
    {
     "data": {
      "text/plain": [
       "3-element Vector{Float64}:\n",
       "  0.0029828564080034425\n",
       "  0.004058031982882682\n",
       " 96.04992908075603"
      ]
     },
     "metadata": {},
     "output_type": "display_data"
    },
    {
     "data": {
      "text/plain": [
       "3-element Vector{Float64}:\n",
       "  0.0028451810071796757\n",
       "  0.0037833483564106984\n",
       " 96.14880356106629"
      ]
     },
     "metadata": {},
     "output_type": "display_data"
    },
    {
     "data": {
      "text/plain": [
       "3-element Vector{Float64}:\n",
       "  0.002714449469831237\n",
       "  0.0035885867370097912\n",
       " 96.24539287162285"
      ]
     },
     "metadata": {},
     "output_type": "display_data"
    },
    {
     "data": {
      "text/plain": [
       "3-element Vector{Float64}:\n",
       "  0.0025884933023601064\n",
       "  0.0034197483087936575\n",
       " 96.33866302904906"
      ]
     },
     "metadata": {},
     "output_type": "display_data"
    },
    {
     "data": {
      "text/plain": [
       "3-element Vector{Float64}:\n",
       "  0.002466748045401701\n",
       "  0.003256297707682876\n",
       " 96.41498094363575"
      ]
     },
     "metadata": {},
     "output_type": "display_data"
    },
    {
     "data": {
      "text/plain": [
       "3-element Vector{Float64}:\n",
       "  0.002349359521824468\n",
       "  0.0030948068510276983\n",
       " 96.49729227869715"
      ]
     },
     "metadata": {},
     "output_type": "display_data"
    },
    {
     "data": {
      "text/plain": [
       "3-element Vector{Float64}:\n",
       "  0.002236605263932212\n",
       "  0.002937619907761757\n",
       " 96.57613730611993"
      ]
     },
     "metadata": {},
     "output_type": "display_data"
    },
    {
     "data": {
      "text/plain": [
       "3-element Vector{Float64}:\n",
       "  0.0021286532807662795\n",
       "  0.0027873518480205917\n",
       " 96.65248702403484"
      ]
     },
     "metadata": {},
     "output_type": "display_data"
    },
    {
     "data": {
      "text/plain": [
       "3-element Vector{Float64}:\n",
       "  0.0020255233371191395\n",
       "  0.0026452656604227798\n",
       " 96.71576282042847"
      ]
     },
     "metadata": {},
     "output_type": "display_data"
    },
    {
     "data": {
      "text/plain": [
       "3-element Vector{Float64}:\n",
       "  0.0019271269068683594\n",
       "  0.002511424209750146\n",
       " 96.78111347265232"
      ]
     },
     "metadata": {},
     "output_type": "display_data"
    },
    {
     "data": {
      "text/plain": [
       "3-element Vector{Float64}:\n",
       "  0.0018335372912723358\n",
       "  0.0023852801571724314\n",
       " 96.84684258907807"
      ]
     },
     "metadata": {},
     "output_type": "display_data"
    },
    {
     "data": {
      "text/plain": [
       "3-element Vector{Float64}:\n",
       "  0.0017446207475595443\n",
       "  0.0022661358380382524\n",
       " 96.90902988949355"
      ]
     },
     "metadata": {},
     "output_type": "display_data"
    },
    {
     "data": {
      "text/plain": [
       "3-element Vector{Float64}:\n",
       "  0.001660252449440236\n",
       "  0.0021533650618703604\n",
       " 96.96193088105284"
      ]
     },
     "metadata": {},
     "output_type": "display_data"
    },
    {
     "data": {
      "text/plain": [
       "3-element Vector{Float64}:\n",
       "  0.0015815008794639596\n",
       "  0.0020464674411293515\n",
       " 97.00789815270298"
      ]
     },
     "metadata": {},
     "output_type": "display_data"
    },
    {
     "data": {
      "text/plain": [
       "3-element Vector{Float64}:\n",
       "  0.0015104114766897325\n",
       "  0.0019450474930202688\n",
       " 97.06581021146388"
      ]
     },
     "metadata": {},
     "output_type": "display_data"
    },
    {
     "data": {
      "text/plain": [
       "3-element Vector{Float64}:\n",
       "  0.0014624213811051945\n",
       "  0.0018487778074618433\n",
       " 97.11868453819105"
      ]
     },
     "metadata": {},
     "output_type": "display_data"
    },
    {
     "data": {
      "text/plain": [
       "3-element Vector{Float64}:\n",
       "  0.001346124092819423\n",
       "  0.0017573708103686414\n",
       " 97.1619652122006"
      ]
     },
     "metadata": {},
     "output_type": "display_data"
    },
    {
     "data": {
      "text/plain": [
       "3-element Vector{Float64}:\n",
       "  0.0022313442554393603\n",
       "  0.0016705631229303464\n",
       " 97.19025499397401"
      ]
     },
     "metadata": {},
     "output_type": "display_data"
    },
    {
     "data": {
      "text/plain": [
       "3-element Vector{Float64}:\n",
       "  0.002943220384731049\n",
       "  0.0015881087800551086\n",
       " 97.24238119476178"
      ]
     },
     "metadata": {},
     "output_type": "display_data"
    },
    {
     "data": {
      "text/plain": [
       "3-element Vector{Float64}:\n",
       "  0.003235209308965814\n",
       "  0.0015097768208720552\n",
       " 97.28970225298318"
      ]
     },
     "metadata": {},
     "output_type": "display_data"
    },
    {
     "data": {
      "text/plain": [
       "3-element Vector{Float64}:\n",
       "  0.0032366686947593593\n",
       "  0.0014353503493245157\n",
       " 97.32084483246506"
      ]
     },
     "metadata": {},
     "output_type": "display_data"
    },
    {
     "data": {
      "text/plain": [
       "3-element Vector{Float64}:\n",
       "  0.0031085668784740506\n",
       "  0.0013646257756265712\n",
       " 97.33863910412819"
      ]
     },
     "metadata": {},
     "output_type": "display_data"
    },
    {
     "data": {
      "text/plain": [
       "3-element Vector{Float64}:\n",
       "  0.0029475622397558965\n",
       "  0.0012974119120618965\n",
       " 97.38534309209544"
      ]
     },
     "metadata": {},
     "output_type": "display_data"
    },
    {
     "data": {
      "text/plain": [
       "3-element Vector{Float64}:\n",
       "  0.002794055729028244\n",
       "  0.0012335289738372168\n",
       " 97.42886176856095"
      ]
     },
     "metadata": {},
     "output_type": "display_data"
    },
    {
     "data": {
      "text/plain": [
       "3-element Vector{Float64}:\n",
       "  0.0026570146365041403\n",
       "  0.0011728076055543823\n",
       " 97.44434546266555"
      ]
     },
     "metadata": {},
     "output_type": "display_data"
    },
    {
     "data": {
      "text/plain": [
       "3-element Vector{Float64}:\n",
       "  0.002533239971698187\n",
       "  0.0011150880063253155\n",
       " 97.45929416078081"
      ]
     },
     "metadata": {},
     "output_type": "display_data"
    },
    {
     "data": {
      "text/plain": [
       "3-element Vector{Float64}:\n",
       "  0.0024176615581348315\n",
       "  0.0010602191733246613\n",
       " 97.50159015649632"
      ]
     },
     "metadata": {},
     "output_type": "display_data"
    },
    {
     "data": {
      "text/plain": [
       "3-element Vector{Float64}:\n",
       "  0.002306972133538032\n",
       "  0.0010080582529212734\n",
       " 97.55204388120093"
      ]
     },
     "metadata": {},
     "output_type": "display_data"
    },
    {
     "data": {
      "text/plain": [
       "3-element Vector{Float64}:\n",
       "  0.0021998687088582436\n",
       "  0.0009584699791700402\n",
       " 97.5330961312204"
      ]
     },
     "metadata": {},
     "output_type": "display_data"
    },
    {
     "data": {
      "text/plain": [
       "3-element Vector{Float64}:\n",
       "  0.0020962293040533986\n",
       "  0.0009113261783904036\n",
       " 97.55151748563294"
      ]
     },
     "metadata": {},
     "output_type": "display_data"
    },
    {
     "data": {
      "text/plain": [
       "3-element Vector{Float64}:\n",
       "  0.0019963405259657563\n",
       "  0.0008665053273126944\n",
       " 97.5940702912607"
      ]
     },
     "metadata": {},
     "output_type": "display_data"
    },
    {
     "data": {
      "text/plain": [
       "3-element Vector{Float64}:\n",
       "  0.0019004753823521625\n",
       "  0.0008238921523009424\n",
       " 97.64179604488534"
      ]
     },
     "metadata": {},
     "output_type": "display_data"
    },
    {
     "data": {
      "text/plain": [
       "3-element Vector{Float64}:\n",
       "  0.0018087581675625408\n",
       "  0.0007833772649608051\n",
       " 97.61494473995833"
      ]
     },
     "metadata": {},
     "output_type": "display_data"
    },
    {
     "data": {
      "text/plain": [
       "3-element Vector{Float64}:\n",
       "  0.0017211751510215478\n",
       "  0.0007448568275725265\n",
       " 97.62757393288906"
      ]
     },
     "metadata": {},
     "output_type": "display_data"
    },
    {
     "data": {
      "text/plain": [
       "3-element Vector{Float64}:\n",
       "  0.0016376272403637593\n",
       "  0.0007082322442020228\n",
       " 97.71999963465205"
      ]
     },
     "metadata": {},
     "output_type": "display_data"
    },
    {
     "data": {
      "text/plain": [
       "3-element Vector{Float64}:\n",
       "  0.0015579757846435616\n",
       "  0.0006734098750884598\n",
       " 97.69715792373802"
      ]
     },
     "metadata": {},
     "output_type": "display_data"
    },
    {
     "data": {
      "text/plain": [
       "3-element Vector{Float64}:\n",
       "  0.0014820694384347632\n",
       "  0.0006403007708017938\n",
       " 97.6641335863018"
      ]
     },
     "metadata": {},
     "output_type": "display_data"
    },
    {
     "data": {
      "text/plain": [
       "3-element Vector{Float64}:\n",
       "  0.001409755907445076\n",
       "  0.0006088204241354589\n",
       " 97.78073147288407"
      ]
     },
     "metadata": {},
     "output_type": "display_data"
    },
    {
     "data": {
      "text/plain": [
       "3-element Vector{Float64}:\n",
       "  0.0013408855431618072\n",
       "  0.0005788885379089947\n",
       " 97.82457379499114"
      ]
     },
     "metadata": {},
     "output_type": "display_data"
    },
    {
     "data": {
      "text/plain": [
       "3-element Vector{Float64}:\n",
       "  0.0012753118620011383\n",
       "  0.0005504288069957397\n",
       " 97.76032507249411"
      ]
     },
     "metadata": {},
     "output_type": "display_data"
    },
    {
     "data": {
      "text/plain": [
       "3-element Vector{Float64}:\n",
       "  0.0012128914932217905\n",
       "  0.000523368713259309\n",
       " 97.92115349930471"
      ]
     },
     "metadata": {},
     "output_type": "display_data"
    },
    {
     "data": {
      "text/plain": [
       "3-element Vector{Float64}:\n",
       "  0.0011534843423649521\n",
       "  0.0004976393324813699\n",
       " 98.09384201582927"
      ]
     },
     "metadata": {},
     "output_type": "display_data"
    },
    {
     "data": {
      "text/plain": [
       "3-element Vector{Float64}:\n",
       "  0.0010969539870399059\n",
       "  0.00047317515185518744\n",
       " 98.04465077981256"
      ]
     },
     "metadata": {},
     "output_type": "display_data"
    },
    {
     "data": {
      "text/plain": [
       "3-element Vector{Float64}:\n",
       "  0.0010431681298533751\n",
       "  0.0004499138977642758\n",
       " 98.30032915035379"
      ]
     },
     "metadata": {},
     "output_type": "display_data"
    },
    {
     "data": {
      "text/plain": [
       "3-element Vector{Float64}:\n",
       "  0.0009919989724087863\n",
       "  0.0004277963731924572\n",
       " 98.86973681585457"
      ]
     },
     "metadata": {},
     "output_type": "display_data"
    },
    {
     "data": {
      "text/plain": [
       "3-element Vector{Float64}:\n",
       "  0.0009433234608189345\n",
       "  0.0004067663032856217\n",
       " 98.85505239968346"
      ]
     },
     "metadata": {},
     "output_type": "display_data"
    },
    {
     "data": {
      "text/plain": [
       "3-element Vector{Float64}:\n",
       "  0.0008970234071352667\n",
       "  0.0003867701894706421\n",
       " 98.83360119440718"
      ]
     },
     "metadata": {},
     "output_type": "display_data"
    },
    {
     "data": {
      "text/plain": [
       "3-element Vector{Float64}:\n",
       "  0.0008529855159381539\n",
       "  0.00036775717115933304\n",
       " 98.8152237504418"
      ]
     },
     "metadata": {},
     "output_type": "display_data"
    },
    {
     "data": {
      "text/plain": [
       "3-element Vector{Float64}:\n",
       "  0.0008111013429813463\n",
       "  0.0003496788943038176\n",
       " 98.79602445489711"
      ]
     },
     "metadata": {},
     "output_type": "display_data"
    },
    {
     "data": {
      "text/plain": [
       "3-element Vector{Float64}:\n",
       "  0.0007712672098723061\n",
       "  0.00033248938707641784\n",
       " 98.77690210089192"
      ]
     },
     "metadata": {},
     "output_type": "display_data"
    },
    {
     "data": {
      "text/plain": [
       "3-element Vector{Float64}:\n",
       "  0.0007333840885110909\n",
       "  0.0003161449417450335\n",
       " 98.75808477164614"
      ]
     },
     "metadata": {},
     "output_type": "display_data"
    },
    {
     "data": {
      "text/plain": [
       "3-element Vector{Float64}:\n",
       "  0.0006973574656417014\n",
       "  0.0003006040027686563\n",
       " 98.73967165403549"
      ]
     },
     "metadata": {},
     "output_type": "display_data"
    },
    {
     "data": {
      "text/plain": [
       "3-element Vector{Float64}:\n",
       "  0.0006630971946712805\n",
       "  0.00028582705998170255\n",
       " 98.72168693811368"
      ]
     },
     "metadata": {},
     "output_type": "display_data"
    },
    {
     "data": {
      "text/plain": [
       "3-element Vector{Float64}:\n",
       "  0.0006305173384564267\n",
       "  0.0002717765477542322\n",
       " 98.70398704168545"
      ]
     },
     "metadata": {},
     "output_type": "display_data"
    },
    {
     "data": {
      "text/plain": [
       "3-element Vector{Float64}:\n",
       "  0.0005995360082069467\n",
       "  0.0002584167489472211\n",
       " 98.6870131678451"
      ]
     },
     "metadata": {},
     "output_type": "display_data"
    },
    {
     "data": {
      "text/plain": [
       "3-element Vector{Float64}:\n",
       "   0.7218857652454178\n",
       "   0.3395289557589183\n",
       " 103.78090973284336"
      ]
     },
     "metadata": {},
     "output_type": "display_data"
    },
    {
     "data": {
      "text/plain": [
       "3-element Vector{Float64}:\n",
       "   1.1407327599113761\n",
       "   0.5144547819152925\n",
       " 103.78570999999103"
      ]
     },
     "metadata": {},
     "output_type": "display_data"
    },
    {
     "data": {
      "text/plain": [
       "3-element Vector{Float64}:\n",
       "   1.2949855898989724\n",
       "   0.5457685224304031\n",
       " 103.71037971592173"
      ]
     },
     "metadata": {},
     "output_type": "display_data"
    },
    {
     "data": {
      "text/plain": [
       "3-element Vector{Float64}:\n",
       "   1.3232217398995676\n",
       "   0.5081463090196181\n",
       " 103.65207412567325"
      ]
     },
     "metadata": {},
     "output_type": "display_data"
    },
    {
     "data": {
      "text/plain": [
       "3-element Vector{Float64}:\n",
       "   1.3228410896221947\n",
       "   0.45525688550467125\n",
       " 103.58785977924649"
      ]
     },
     "metadata": {},
     "output_type": "display_data"
    },
    {
     "data": {
      "text/plain": [
       "3-element Vector{Float64}:\n",
       "   1.3358293295915382\n",
       "   0.4105533846856897\n",
       " 103.51715335479372"
      ]
     },
     "metadata": {},
     "output_type": "display_data"
    },
    {
     "data": {
      "text/plain": [
       "3-element Vector{Float64}:\n",
       "   1.3702012364867224\n",
       "   0.3782297104841005\n",
       " 103.4402635590327"
      ]
     },
     "metadata": {},
     "output_type": "display_data"
    },
    {
     "data": {
      "text/plain": [
       "3-element Vector{Float64}:\n",
       "   1.4210666076512766\n",
       "   0.35479979415726937\n",
       " 103.35736811906055"
      ]
     },
     "metadata": {},
     "output_type": "display_data"
    },
    {
     "data": {
      "text/plain": [
       "3-element Vector{Float64}:\n",
       "   1.482140556468838\n",
       "   0.3358380681819013\n",
       " 103.26863338652308"
      ]
     },
     "metadata": {},
     "output_type": "display_data"
    },
    {
     "data": {
      "text/plain": [
       "3-element Vector{Float64}:\n",
       "   1.549537971014984\n",
       "   0.3184142012435509\n",
       " 103.17422164631984"
      ]
     },
     "metadata": {},
     "output_type": "display_data"
    },
    {
     "data": {
      "text/plain": [
       "3-element Vector{Float64}:\n",
       "   1.6217814562986015\n",
       "   0.30121594791519646\n",
       " 103.074290587429"
      ]
     },
     "metadata": {},
     "output_type": "display_data"
    },
    {
     "data": {
      "text/plain": [
       "3-element Vector{Float64}:\n",
       "   1.6987215271549345\n",
       "   0.2839555868147924\n",
       " 102.9689933726028"
      ]
     },
     "metadata": {},
     "output_type": "display_data"
    },
    {
     "data": {
      "text/plain": [
       "3-element Vector{Float64}:\n",
       "   1.7804723478688351\n",
       "   0.2669012184937579\n",
       " 102.8583597596986"
      ]
     },
     "metadata": {},
     "output_type": "display_data"
    },
    {
     "data": {
      "text/plain": [
       "3-element Vector{Float64}:\n",
       "   1.8664172250482325\n",
       "   0.2508681021155076\n",
       " 102.75231258105045"
      ]
     },
     "metadata": {},
     "output_type": "display_data"
    },
    {
     "data": {
      "text/plain": [
       "3-element Vector{Float64}:\n",
       "   1.953726739251334\n",
       "   0.23788397616743406\n",
       " 104.76107484496632"
      ]
     },
     "metadata": {},
     "output_type": "display_data"
    },
    {
     "data": {
      "text/plain": [
       "3-element Vector{Float64}:\n",
       "   2.034180323211119\n",
       "   0.23302980770223214\n",
       " 104.9999241196382"
      ]
     },
     "metadata": {},
     "output_type": "display_data"
    },
    {
     "data": {
      "text/plain": [
       "3-element Vector{Float64}:\n",
       "   2.0866827424713787\n",
       "   0.24882576181914684\n",
       " 104.99984497184342"
      ]
     },
     "metadata": {},
     "output_type": "display_data"
    },
    {
     "data": {
      "text/plain": [
       "3-element Vector{Float64}:\n",
       "   2.059445117210392\n",
       "   0.31558859851926624\n",
       " 105.00005403694972"
      ]
     },
     "metadata": {},
     "output_type": "display_data"
    },
    {
     "data": {
      "text/plain": [
       "3-element Vector{Float64}:\n",
       "   1.827525592484342\n",
       "   0.5060247615203779\n",
       " 105.00001988983963"
      ]
     },
     "metadata": {},
     "output_type": "display_data"
    },
    {
     "data": {
      "text/plain": [
       "0.8725188815332116"
      ]
     },
     "metadata": {},
     "output_type": "display_data"
    }
   ],
   "source": [
    "# MPC loop for each\n",
    "# opti = \"ECOS\"\n",
    "# opti = \"SCS\"\n",
    "opti = \"TinyMPC\"\n",
    "\n",
    "freq = 200.0  # Hz\n",
    "optimizers = (\n",
    "    # Use ECOS [1]\n",
    "    JuMP.optimizer_with_attributes(ECOS.Optimizer, \n",
    "        \"verbose\"=>false, \"abstol\"=>1e-2, \"reltol\"=>1e-2, \"maxit\"=>round(Int, 1e6/freq/tpis[1])),\n",
    "    # Use SCS [2]\n",
    "    JuMP.optimizer_with_attributes(SCS.Optimizer, \n",
    "    \"verbose\"=>false, \"eps_abs\"=>1e-2, \"eps_rel\"=>1e-2, \"max_iters\"=>round(Int, 1e6/freq/tpis[2])),\n",
    "    \"TinyMPC\")\n",
    "solver.settings.max_iter = round(Int, 1e6/freq/tpis[3])\n",
    "\n",
    "if (opti == \"TinyMPC\")\n",
    "    compute_cache!(solver, Q, R)\n",
    "end\n",
    "\n",
    "info = SolnStats(0, 0, 0, 0, 0, 0, 0)\n",
    "\n",
    "Random.seed!(1)\n",
    "Xhist = zeros(NSTATES, NTOTAL)\n",
    "Xhist[:,1] .= x0*1.1\n",
    "Uhist = zeros(NINPUTS, NTOTAL-1)\n",
    "\n",
    "Xhrz = 1*Xref[:,1:NHORIZON]\n",
    "Xhrz[:,1] .= Xhist[:,1]\n",
    "Uhrz = 1*Uref[:,1:NHORIZON-1]\n",
    "\n",
    "for i = 1:NTOTAL-1\n",
    "    # i%10 == 0 && print(\"i = \", i, \"\\n\")\n",
    "    # Get measurements\n",
    "    solver.workspace.x[:,1] = Xhist[:,i] \n",
    "    Xhrz[:,1] .= Xhist[:,i]\n",
    "    # print(\"x = \", solver.workspace.x[:,1], \"\\n\")\n",
    "    # display(solver.workspace.x[:,1])\n",
    "\n",
    "    # Update references\n",
    "    solver.workspace.Xref .= Xref[:,i:i+NHORIZON-1]\n",
    "    params.Xref .= Xref[:,i:i+NHORIZON-1]\n",
    "    # solver.workspace.Uref .= Uref[:,i:i+NHORIZON-2]\n",
    "    # print(\"xref = \", solver.workspace.Xref[:,1], \"\\n\")\n",
    "    # display(solver.workspace.Xref[:,1])\n",
    "    \n",
    "    # Solve\n",
    "    if (opti == \"ECOS\")\n",
    "        solve_mpc_JuMP(optimizers[1], params, Xhrz, Uhrz; warm_start=false)\n",
    "    elseif (opti == \"SCS\")\n",
    "        solve_mpc_JuMP(optimizers[2], params, Xhrz, Uhrz; warm_start=false)        \n",
    "    else\n",
    "        solve_admm!(solver)\n",
    "        Xhrz .= solver.workspace.x\n",
    "        Uhrz .= solver.workspace.u\n",
    "    end\n",
    "    check_solution!(info, opti, params, Xhrz, Uhrz)    \n",
    "    Uhist[:,i] .= Uhrz[:,1]\n",
    "    \n",
    "    # print(\"u = \", Uhist[:,i], \"\\n\")\n",
    "    # display(Uhist[:,i])\n",
    "\n",
    "    # Simulate\n",
    "    Uhist[:,i] = clamp.(Uhist[:,i], params.u_min, params.u_max)\n",
    "\n",
    "    Xhist[:,i+1] .= Adyn*Xhist[:,i] + Bdyn*Uhist[:,i] + fdyn\n",
    "    # display(Xhrz)\n",
    "    # display(Uhrz)\n",
    "end\n",
    "info.tracking_error = norm(Xhist[:,NTOTAL] - xg)"
   ]
  },
  {
   "cell_type": "code",
   "execution_count": 133,
   "id": "23353a4f",
   "metadata": {},
   "outputs": [
    {
     "data": {
      "text/plain": [
       "SolnStats(0.0, 0.0, 2.3624945503773915, 0.01426348227557467, 0.23624758370933918, 0.001666253324915339, 0.8725188674183626)"
      ]
     },
     "metadata": {},
     "output_type": "display_data"
    }
   ],
   "source": [
    "info"
   ]
  },
  {
   "attachments": {},
   "cell_type": "markdown",
   "id": "a620a4f1",
   "metadata": {},
   "source": [
    "### Get data for all solvers at one frequency"
   ]
  },
  {
   "cell_type": "code",
   "execution_count": 68,
   "id": "9b7418f4",
   "metadata": {},
   "outputs": [],
   "source": [
    "infos = [SolnStats(0, 0, 0, 0, 0, 0, 0), SolnStats(0, 0, 0, 0, 0, 0, 0), SolnStats(0, 0, 0, 0, 0, 0, 0)]\n",
    "if 1==1\n",
    "    optis = [\"ECOS\", \"SCS\", \"TinyMPC\"]    \n",
    "    freq = 500.0\n",
    "    optimizers = (\n",
    "        # Use ECOS [1]\n",
    "        JuMP.optimizer_with_attributes(ECOS.Optimizer, \n",
    "            \"verbose\"=>false, \"abstol\"=>1e-2, \"reltol\"=>1e-2, \"maxit\"=>round(Int, 1e6/freq/tpis[1])),\n",
    "        # Use SCS [2]\n",
    "        JuMP.optimizer_with_attributes(SCS.Optimizer, \n",
    "        \"verbose\"=>false, \"eps_abs\"=>1e-2, \"eps_rel\"=>1e-2, \"max_iters\"=>round(Int, 1e6/freq/tpis[2])),\n",
    "        \"TinyMPC\")\n",
    "    solver.settings.max_iter = round(Int, 1e6/freq/tpis[3])\n",
    "\n",
    "    for solver_idx = 1:length(optis)\n",
    "        opti = optis[solver_idx]\n",
    "        if (opti == \"TinyMPC\")\n",
    "            compute_cache!(solver, Q, R)\n",
    "        end\n",
    "        \n",
    "        Random.seed!(1)\n",
    "        Xhist = zeros(NSTATES, NTOTAL)\n",
    "        Xhist[:,1] .= x0*1.1\n",
    "        Uhist = zeros(NINPUTS, NTOTAL-1)\n",
    "\n",
    "        Xhrz = 1*Xref[:,1:NHORIZON]\n",
    "        Xhrz[:,1] .= Xhist[:,1]\n",
    "        Uhrz = 1*Uref[:,1:NHORIZON-1]\n",
    "\n",
    "        for i = 1:NTOTAL-1\n",
    "            # i%10 == 0 && print(\"i = \", i, \"\\n\")\n",
    "            # Get measurements\n",
    "            solver.workspace.x[:,1] = Xhist[:,i] \n",
    "            Xhrz[:,1] .= Xhist[:,i]\n",
    "            # print(\"x = \", solver.workspace.x[:,1], \"\\n\")\n",
    "            # display(solver.workspace.x[:,1])\n",
    "\n",
    "            # Update references\n",
    "            solver.workspace.Xref .= Xref[:,i:i+NHORIZON-1]\n",
    "            params.Xref .= Xref[:,i:i+NHORIZON-1]\n",
    "            # solver.workspace.Uref .= Uref[:,i:i+NHORIZON-2]\n",
    "            # print(\"xref = \", solver.workspace.Xref[:,1], \"\\n\")\n",
    "            # display(solver.workspace.Xref[:,1])\n",
    "            \n",
    "            # Solve\n",
    "            if (opti == \"ECOS\")\n",
    "                solve_mpc_JuMP(optimizers[1], params, Xhrz, Uhrz; warm_start=false)\n",
    "            elseif (opti == \"SCS\")\n",
    "                solve_mpc_JuMP(optimizers[2], params, Xhrz, Uhrz; warm_start=false)        \n",
    "            else\n",
    "                solve_admm!(solver)\n",
    "                Xhrz .= solver.workspace.x\n",
    "                Uhrz .= solver.workspace.u\n",
    "            end\n",
    "            check_solution!(infos[solver_idx], opti, params, Xhrz, Uhrz)    \n",
    "            Uhist[:,i] .= Uhrz[:,1]\n",
    "            \n",
    "            # print(\"u = \", Uhist[:,i], \"\\n\")\n",
    "            # display(Uhist[:,i])\n",
    "\n",
    "            # Simulate\n",
    "            Xhist[:,i+1] .= Adyn*Xhist[:,i] + Bdyn*Uhist[:,i] + fdyn\n",
    "            # display(Xhrz)\n",
    "            # display(Uhrz)\n",
    "        end\n",
    "        infos[solver_idx].tracking_error = norm(Xhist[:,NTOTAL] - xg)\n",
    "    end\n",
    "end"
   ]
  },
  {
   "attachments": {},
   "cell_type": "markdown",
   "id": "03276ea6",
   "metadata": {},
   "source": [
    "### Get data for all solvers for all frequencies"
   ]
  },
  {
   "cell_type": "code",
   "execution_count": 81,
   "id": "6823b8a8",
   "metadata": {},
   "outputs": [],
   "source": [
    "infoss = [[SolnStats(0, 0, 0, 0, 0, 0, 0), SolnStats(0, 0, 0, 0, 0, 0, 0), SolnStats(0, 0, 0, 0, 0, 0, 0)] for i = 1:length(freqs)]\n",
    "if 1==1\n",
    "    optis = [\"ECOS\", \"SCS\", \"TinyMPC\"]  # solvers\n",
    "    freqs = [10.0, 50.0, 100.0, 500.0]  # evaluating frequencies\n",
    "    for freq_indx = 1:length(freqs)\n",
    "        freq = freqs[freq_indx]\n",
    "        optimizers = (\n",
    "            # Use ECOS [1]\n",
    "            JuMP.optimizer_with_attributes(ECOS.Optimizer, \n",
    "                \"verbose\"=>false, \"abstol\"=>1e-2, \"reltol\"=>1e-2, \"maxit\"=>round(Int, 1e6/freqs[freq_indx]/tpis[1])),\n",
    "            # Use SCS [2]\n",
    "            JuMP.optimizer_with_attributes(SCS.Optimizer, \n",
    "            \"verbose\"=>false, \"eps_abs\"=>1e-2, \"eps_rel\"=>1e-2, \"max_iters\"=>round(Int, 1e6/freqs[freq_indx]/tpis[2])),\n",
    "            \"TinyMPC\")\n",
    "        solver.settings.max_iter = round(Int, 1e6/freqs[freq_indx]/tpis[3])\n",
    "        infos = infoss[freq_indx]\n",
    "        for solver_idx = 1:length(optis)\n",
    "            opti = optis[solver_idx]\n",
    "            if (opti == \"TinyMPC\")\n",
    "                compute_cache!(solver, Q, R)\n",
    "            end\n",
    "            \n",
    "            Random.seed!(1)\n",
    "            Xhist = zeros(NSTATES, NTOTAL)\n",
    "            Xhist[:,1] .= x0*1.1\n",
    "            Uhist = zeros(NINPUTS, NTOTAL-1)\n",
    "\n",
    "            Xhrz = 1*Xref[:,1:NHORIZON]\n",
    "            Xhrz[:,1] .= Xhist[:,1]\n",
    "            Uhrz = 1*Uref[:,1:NHORIZON-1]\n",
    "\n",
    "            for i = 1:NTOTAL-1\n",
    "                # i%10 == 0 && print(\"i = \", i, \"\\n\")\n",
    "                # Get measurements\n",
    "                solver.workspace.x[:,1] = Xhist[:,i] \n",
    "                Xhrz[:,1] .= Xhist[:,i]\n",
    "                # print(\"x = \", solver.workspace.x[:,1], \"\\n\")\n",
    "                # display(solver.workspace.x[:,1])\n",
    "\n",
    "                # Update references\n",
    "                solver.workspace.Xref .= Xref[:,i:i+NHORIZON-1]\n",
    "                params.Xref .= Xref[:,i:i+NHORIZON-1]\n",
    "                # solver.workspace.Uref .= Uref[:,i:i+NHORIZON-2]\n",
    "                # print(\"xref = \", solver.workspace.Xref[:,1], \"\\n\")\n",
    "                # display(solver.workspace.Xref[:,1])\n",
    "                \n",
    "                # Solve\n",
    "                if (opti == \"ECOS\")\n",
    "                    solve_mpc_JuMP(optimizers[1], params, Xhrz, Uhrz; warm_start=false)\n",
    "                elseif (opti == \"SCS\")\n",
    "                    solve_mpc_JuMP(optimizers[2], params, Xhrz, Uhrz; warm_start=false)        \n",
    "                else\n",
    "                    solve_admm!(solver)\n",
    "                    Xhrz .= solver.workspace.x\n",
    "                    Uhrz .= solver.workspace.u\n",
    "                end\n",
    "                check_solution!(infos[solver_idx], opti, params, Xhrz, Uhrz)    \n",
    "                Uhist[:,i] .= Uhrz[:,1]\n",
    "                \n",
    "                # print(\"u = \", Uhist[:,i], \"\\n\")\n",
    "                # display(Uhist[:,i])\n",
    "\n",
    "                # Simulate\n",
    "                Xhist[:,i+1] .= Adyn*Xhist[:,i] + Bdyn*Uhist[:,i] + fdyn\n",
    "                # display(Xhrz)\n",
    "                # display(Uhrz)\n",
    "            end\n",
    "            infos[solver_idx].tracking_error = norm(Xhist[:,NTOTAL] - xg)\n",
    "        end\n",
    "    end\n",
    "end"
   ]
  },
  {
   "cell_type": "code",
   "execution_count": 131,
   "id": "b2799c91",
   "metadata": {},
   "outputs": [
    {
     "name": "stdout",
     "output_type": "stream",
     "text": [
      "-----------------------\n",
      "freq: 10\n",
      "-----------------------\n",
      "   ECOS:       1.33\n",
      "    SCS:       1.35\n",
      "TinyMPC:       0.87\n",
      "-----------------------\n",
      "freq: 50\n",
      "-----------------------\n",
      "   ECOS:       1.33\n",
      "    SCS:       1.35\n",
      "TinyMPC:       0.87\n",
      "-----------------------\n",
      "freq: 100\n",
      "-----------------------\n",
      "   ECOS:       1.33\n",
      "    SCS:       1.36\n",
      "TinyMPC:       0.87\n",
      "-----------------------\n",
      "freq: 500\n",
      "-----------------------\n",
      "   ECOS:     428.76\n",
      "    SCS:       1.36\n",
      "TinyMPC:       0.88\n"
     ]
    }
   ],
   "source": [
    "for freq_idx = 1:length(freqs)\n",
    "    @printf \"-----------------------\\n\"\n",
    "    @printf \"freq: %d\\n\" freqs[freq_idx]\n",
    "    @printf \"-----------------------\\n\"\n",
    "    for solver_idx = 1:length(optis)\n",
    "        info = infoss[freq_idx][solver_idx]\n",
    "        # metric = info.max_bnd_violation + info.max_soc_violation\n",
    "        metric = info.tracking_error\n",
    "        @printf \"%7s: %10.2f\\n\" optis[solver_idx] metric\n",
    "    end\n",
    "end"
   ]
  },
  {
   "cell_type": "code",
   "execution_count": 10,
   "id": "69c1370a",
   "metadata": {},
   "outputs": [
    {
     "ename": "UndefVarError",
     "evalue": "UndefVarError: Xhist not defined",
     "output_type": "error",
     "traceback": [
      "UndefVarError: Xhist not defined\n",
      "\n",
      "Stacktrace:\n",
      " [1] top-level scope\n",
      "   @ ~/tinympc-dev-julia/rocket_landing_Zac/early_term_test.ipynb:3"
     ]
    }
   ],
   "source": [
    "fig = plt.figure()\n",
    "plot(Xref[1,1:NTOTAL-1]) # x\n",
    "plot(Xhist[1,1:NTOTAL-1])\n",
    "plot(Xref[2,1:NTOTAL-1]) # y\n",
    "plot(Xhist[2,1:NTOTAL-1])\n",
    "plot(Xref[3,1:NTOTAL-1]) # z\n",
    "plot(Xhist[3,1:NTOTAL-1])\n",
    "plt.title(opti * \" Rocket Landing\")\n",
    "# put limit on axis\n",
    "# plt.ylim(-5, 20)\n",
    "# plt.xlim(0, 300)\n",
    "fig"
   ]
  },
  {
   "cell_type": "code",
   "execution_count": 11,
   "id": "1c859450",
   "metadata": {},
   "outputs": [
    {
     "ename": "UndefVarError",
     "evalue": "UndefVarError: Xhist not defined",
     "output_type": "error",
     "traceback": [
      "UndefVarError: Xhist not defined\n",
      "\n",
      "Stacktrace:\n",
      " [1] top-level scope\n",
      "   @ ~/tinympc-dev-julia/rocket_landing_Zac/early_term_test.ipynb:3"
     ]
    }
   ],
   "source": [
    "fig = plt.figure()\n",
    "plot(Xref[1,1:NTOTAL-1]) # x\n",
    "plot(Xhist[1,1:NTOTAL-1])\n",
    "plot(Xref[2,1:NTOTAL-1]) # y\n",
    "plot(Xhist[2,1:NTOTAL-1])\n",
    "plot(Xref[3,1:NTOTAL-1]) # z\n",
    "plot(Xhist[3,1:NTOTAL-1])\n",
    "plt.title(opti * \" Rocket Landing\")\n",
    "# put limit on axis\n",
    "# plt.ylim(-5, 20)\n",
    "# plt.xlim(0, 300)\n",
    "fig"
   ]
  },
  {
   "cell_type": "code",
   "execution_count": 12,
   "id": "10872d75",
   "metadata": {},
   "outputs": [
    {
     "ename": "UndefVarError",
     "evalue": "UndefVarError: Uhist not defined",
     "output_type": "error",
     "traceback": [
      "UndefVarError: Uhist not defined\n",
      "\n",
      "Stacktrace:\n",
      " [1] top-level scope\n",
      "   @ ~/tinympc-dev-julia/rocket_landing_Zac/early_term_test.ipynb:2"
     ]
    }
   ],
   "source": [
    "fig = plt.figure()\n",
    "plot(Uhist[1,1:NTOTAL-1])\n",
    "plot(Uhist[2,1:NTOTAL-1])\n",
    "plot(Uhist[3,1:NTOTAL-1])\n",
    "plt.title(opti * \" Rocket Landing\")\n",
    "fig"
   ]
  },
  {
   "cell_type": "code",
   "execution_count": 13,
   "id": "5421c5d2",
   "metadata": {},
   "outputs": [
    {
     "ename": "UndefVarError",
     "evalue": "UndefVarError: Uhist not defined",
     "output_type": "error",
     "traceback": [
      "UndefVarError: Uhist not defined\n",
      "\n",
      "Stacktrace:\n",
      " [1] top-level scope\n",
      "   @ ~/tinympc-dev-julia/rocket_landing_Zac/early_term_test.ipynb:2"
     ]
    }
   ],
   "source": [
    "fig = plt.figure()\n",
    "plot(Uhist[1,1:NTOTAL-1])\n",
    "plot(Uhist[2,1:NTOTAL-1])\n",
    "plot(Uhist[3,1:NTOTAL-1])\n",
    "plt.title(opti * \" Rocket Landing\")\n",
    "fig"
   ]
  },
  {
   "cell_type": "code",
   "execution_count": 14,
   "id": "e9e7e88c",
   "metadata": {},
   "outputs": [
    {
     "ename": "UndefVarError",
     "evalue": "UndefVarError: infoss not defined",
     "output_type": "error",
     "traceback": [
      "UndefVarError: infoss not defined\n"
     ]
    }
   ],
   "source": [
    "infoss"
   ]
  }
 ],
 "metadata": {
  "kernelspec": {
   "display_name": "Julia 1.6.7",
   "language": "julia",
   "name": "julia-1.6"
  },
  "language_info": {
   "file_extension": ".jl",
   "mimetype": "application/julia",
   "name": "julia",
   "version": "1.6.7"
  }
 },
 "nbformat": 4,
 "nbformat_minor": 5
}
