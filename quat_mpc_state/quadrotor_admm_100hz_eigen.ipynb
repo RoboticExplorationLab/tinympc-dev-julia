{
 "cells": [
  {
   "cell_type": "code",
   "execution_count": 9,
   "metadata": {},
   "outputs": [
    {
     "name": "stderr",
     "output_type": "stream",
     "text": [
      "\u001b[32m\u001b[1m  Activating\u001b[22m\u001b[39m environment at `~/SSD/Code/Julia/tinympc-julia/quat_mpc_state/Project.toml`\n"
     ]
    },
    {
     "name": "stderr",
     "output_type": "stream",
     "text": [
      "\u001b[32m\u001b[1mPrecompiling\u001b[22m\u001b[39m "
     ]
    },
    {
     "name": "stderr",
     "output_type": "stream",
     "text": [
      "project...\n"
     ]
    },
    {
     "name": "stderr",
     "output_type": "stream",
     "text": [
      "\u001b[32m  ✓ \u001b[39m\u001b[90mCodecZlib\u001b[39m\n"
     ]
    },
    {
     "name": "stderr",
     "output_type": "stream",
     "text": [
      "\u001b[32m  ✓ \u001b[39m\u001b[90mURIs\u001b[39m\n",
      "\u001b[32m  ✓ \u001b[39m\u001b[90mLoggingExtras\u001b[39m\n",
      "\u001b[32m  ✓ \u001b[39m\u001b[90mExceptionUnwrapping\u001b[39m\n",
      "\u001b[32m  ✓ \u001b[39m\u001b[90mConstructionBase\u001b[39m\n",
      "\u001b[32m  ✓ \u001b[39m\u001b[90mConcurrentUtilities\u001b[39m\n"
     ]
    },
    {
     "name": "stderr",
     "output_type": "stream",
     "text": [
      "\u001b[32m  ✓ \u001b[39m\u001b[90mLatexify\u001b[39m\n"
     ]
    },
    {
     "name": "stderr",
     "output_type": "stream",
     "text": [
      "\u001b[32m  ✓ \u001b[39m\u001b[90mHTTP\u001b[39m\n"
     ]
    },
    {
     "name": "stderr",
     "output_type": "stream",
     "text": [
      "\u001b[32m  ✓ \u001b[39m\u001b[90mGR\u001b[39m\n"
     ]
    },
    {
     "name": "stderr",
     "output_type": "stream",
     "text": [
      "\u001b[32m  ✓ \u001b[39m\u001b[90mUnitful\u001b[39m\n"
     ]
    },
    {
     "name": "stderr",
     "output_type": "stream",
     "text": [
      "\u001b[32m  ✓ \u001b[39m\u001b[90mUnitfulLatexify\u001b[39m\n"
     ]
    },
    {
     "name": "stderr",
     "output_type": "stream",
     "text": [
      "\u001b[32m  ✓ \u001b[39mPlots\n"
     ]
    },
    {
     "name": "stderr",
     "output_type": "stream",
     "text": [
      "  12 dependencies successfully precompiled in 72 seconds (131 already precompiled)\n"
     ]
    }
   ],
   "source": [
    "import Pkg;\n",
    "Pkg.activate(@__DIR__);\n",
    "Pkg.instantiate();"
   ]
  },
  {
   "cell_type": "code",
   "execution_count": 10,
   "metadata": {},
   "outputs": [],
   "source": [
    "using LinearAlgebra\n",
    "using BlockDiagonals\n",
    "using ForwardDiff\n",
    "using Plots\n",
    "using Random;\n",
    "using Printf"
   ]
  },
  {
   "cell_type": "code",
   "execution_count": 11,
   "metadata": {},
   "outputs": [
    {
     "data": {
      "text/plain": [
       "E (generic function with 1 method)"
      ]
     },
     "metadata": {},
     "output_type": "display_data"
    }
   ],
   "source": [
    "#Quaternion stuff\n",
    "function hat(v)\n",
    "    return [0 -v[3] v[2]\n",
    "        v[3] 0 -v[1]\n",
    "        -v[2] v[1] 0]\n",
    "end\n",
    "function L(q)\n",
    "    s = q[1]\n",
    "    v = q[2:4]\n",
    "    L = [s -v'\n",
    "        v s*I+hat(v)]\n",
    "    return L\n",
    "end\n",
    "T = Diagonal([1; -ones(3)])\n",
    "H = [zeros(1, 3); I]\n",
    "function qtoQ(q)\n",
    "    return H' * T * L(q) * T * L(q) * H\n",
    "end\n",
    "function G(q)\n",
    "    G = L(q) * H\n",
    "end\n",
    "function rptoq(ϕ)\n",
    "    (1 / sqrt(1 + ϕ' * ϕ)) * [1; ϕ]\n",
    "end\n",
    "function qtorp(q)\n",
    "    q[2:4] / q[1]\n",
    "end\n",
    "function E(q)\n",
    "    E = BlockDiagonal([1.0 * I(3), G(q), 1.0 * I(6)])\n",
    "end"
   ]
  },
  {
   "cell_type": "code",
   "execution_count": 12,
   "metadata": {},
   "outputs": [],
   "source": [
    "#Quadrotor parameters\n",
    "m = 0.035\n",
    "ℓ = 0.046\n",
    "J = [16.6e-6 0.83e-6 0.72e-6\n",
    "    0.83e-6 16.6e-6 1.8e-6\n",
    "    0.72e-6 1.8e-6 29.3e-6];\n",
    "g = 9.81\n",
    "# thrustToTorque = 0.005964552\n",
    "thrustToTorque = 0.0008\n",
    "ℓ = 0.046 / sqrt(2)\n",
    "scale = 65535\n",
    "kt = 2.245365e-6 * scale # u is PWM in range [0...1]\n",
    "km = kt * thrustToTorque #4.4733e-8\n",
    "\n",
    "freq1 = 100\n",
    "h = 1 / freq1 #50 Hz\n",
    "\n",
    "Nx = 13     # number of states (quaternion)\n",
    "Nx̃ = 12     # number of states (linearized)\n",
    "Nu = 4     # number of controls\n",
    "nx = Nx̃\n",
    "nu = Nu\n",
    "Tfinal = 5.0 # final time\n",
    "Nt = Int(Tfinal / h) + 1    # number of time steps\n",
    "t_vec = h * (0:Nt-1)\n",
    "thist = Array(range(0, h * (Nt - 1), step=h));"
   ]
  },
  {
   "cell_type": "code",
   "execution_count": 13,
   "metadata": {},
   "outputs": [
    {
     "data": {
      "text/plain": [
       "quad_dynamics_rk4 (generic function with 1 method)"
      ]
     },
     "metadata": {},
     "output_type": "display_data"
    }
   ],
   "source": [
    "function quad_dynamics(x, u)\n",
    "  r = x[1:3]\n",
    "  q = x[4:7] / norm(x[4:7]) #normalize q just to be careful\n",
    "  v = x[8:10]\n",
    "  ω = x[11:13]\n",
    "  Q = qtoQ(q)\n",
    "\n",
    "  ṙ = v\n",
    "  q̇ = 0.5 * L(q) * H * ω\n",
    "\n",
    "  v̇ = [0; 0; -g] + (1 / m) * Q * [zeros(2, 4); kt * ones(1, 4)] * u\n",
    "\n",
    "  ω̇ = J \\ (-hat(ω) * J * ω + [-ℓ*kt -ℓ*kt ℓ*kt ℓ*kt; -ℓ*kt ℓ*kt ℓ*kt -ℓ*kt; -km km -km km] * u)\n",
    "\n",
    "  return [ṙ; q̇; v̇; ω̇]\n",
    "end\n",
    "function quad_dynamics_rk4(x, u, h)\n",
    "  #RK4 integration with zero-order hold on u\n",
    "  f1 = quad_dynamics(x, u)\n",
    "  f2 = quad_dynamics(x + 0.5 * h * f1, u)\n",
    "  f3 = quad_dynamics(x + 0.5 * h * f2, u)\n",
    "  f4 = quad_dynamics(x + h * f3, u)\n",
    "  xn = x + (h / 6.0) * (f1 + 2 * f2 + 2 * f3 + f4)\n",
    "  xn[4:7] .= xn[4:7] / norm(xn[4:7]) #re-normalize quaternion\n",
    "  return xn\n",
    "end"
   ]
  },
  {
   "cell_type": "code",
   "execution_count": 14,
   "metadata": {},
   "outputs": [
    {
     "name": "stdout",
     "output_type": "stream",
     "text": [
      "uhover = (((m * g) / kt) / 4) * ones(4) = [0.5833333520642209, 0.5833333520642209, 0.5833333520642209, 0.5833333520642209]\n"
     ]
    }
   ],
   "source": [
    "#Goal state\n",
    "@show uhover = (m * g / kt / 4) * ones(4)  # m = 30g and max thrust = 60g\n",
    "rg = [0.0; 0; 0.0]\n",
    "qg = [1.0; 0; 0; 0]\n",
    "vg = zeros(3)\n",
    "ωg = zeros(3)\n",
    "xg = [rg; qg; vg; ωg];"
   ]
  },
  {
   "cell_type": "code",
   "execution_count": 15,
   "metadata": {},
   "outputs": [
    {
     "data": {
      "text/plain": [
       "discrete_dynamics (generic function with 1 method)"
      ]
     },
     "metadata": {},
     "output_type": "display_data"
    }
   ],
   "source": [
    "#Linearize dynamics about hover\n",
    "A = ForwardDiff.jacobian(x -> quad_dynamics_rk4(x, uhover, h), xg)\n",
    "B = ForwardDiff.jacobian(u -> quad_dynamics_rk4(xg, u, h), uhover);\n",
    "Ã = Array(E(qg)' * A * E(qg))\n",
    "B̃ = Array(E(qg)' * B);\n",
    "function discrete_dynamics(params, x, u, k)\n",
    "  Ã * x + B̃ * u\n",
    "end"
   ]
  },
  {
   "cell_type": "code",
   "execution_count": 16,
   "metadata": {},
   "outputs": [],
   "source": [
    "#Linearize dynamics about hover\n",
    "A1 = ForwardDiff.jacobian(x -> quad_dynamics(x, uhover), xg)\n",
    "B1 = ForwardDiff.jacobian(u -> quad_dynamics(xg, u), uhover);\n",
    "Ã1 = Array(E(qg)' * A1 * E(qg))\n",
    "B̃1 = Array(E(qg)' * B1);"
   ]
  },
  {
   "cell_type": "code",
   "execution_count": 17,
   "metadata": {},
   "outputs": [
    {
     "data": {
      "text/plain": [
       "75.83970103963972"
      ]
     },
     "metadata": {},
     "output_type": "display_data"
    }
   ],
   "source": [
    "cond(B)"
   ]
  },
  {
   "cell_type": "code",
   "execution_count": 18,
   "metadata": {},
   "outputs": [
    {
     "data": {
      "text/plain": [
       "13×13 Matrix{Float64}:\n",
       " 0.0  0.0  0.0  0.0    0.0    0.0   0.0  1.0  0.0  0.0  0.0  0.0  0.0\n",
       " 0.0  0.0  0.0  0.0    0.0    0.0   0.0  0.0  1.0  0.0  0.0  0.0  0.0\n",
       " 0.0  0.0  0.0  0.0    0.0    0.0   0.0  0.0  0.0  1.0  0.0  0.0  0.0\n",
       " 0.0  0.0  0.0  0.0    0.0    0.0   0.0  0.0  0.0  0.0  0.0  0.0  0.0\n",
       " 0.0  0.0  0.0  0.0    0.0    0.0   0.0  0.0  0.0  0.0  0.5  0.0  0.0\n",
       " 0.0  0.0  0.0  0.0    0.0    0.0   0.0  0.0  0.0  0.0  0.0  0.5  0.0\n",
       " 0.0  0.0  0.0  0.0    0.0    0.0   0.0  0.0  0.0  0.0  0.0  0.0  0.5\n",
       " 0.0  0.0  0.0  0.0    0.0   19.62  0.0  0.0  0.0  0.0  0.0  0.0  0.0\n",
       " 0.0  0.0  0.0  0.0  -19.62   0.0   0.0  0.0  0.0  0.0  0.0  0.0  0.0\n",
       " 0.0  0.0  0.0  0.0    0.0    0.0   0.0  0.0  0.0  0.0  0.0  0.0  0.0\n",
       " 0.0  0.0  0.0  0.0    0.0    0.0   0.0  0.0  0.0  0.0  0.0  0.0  0.0\n",
       " 0.0  0.0  0.0  0.0    0.0    0.0   0.0  0.0  0.0  0.0  0.0  0.0  0.0\n",
       " 0.0  0.0  0.0  0.0    0.0    0.0   0.0  0.0  0.0  0.0  0.0  0.0  0.0"
      ]
     },
     "metadata": {},
     "output_type": "display_data"
    }
   ],
   "source": [
    "A1"
   ]
  },
  {
   "cell_type": "code",
   "execution_count": 19,
   "metadata": {},
   "outputs": [
    {
     "ename": "UndefVarError",
     "evalue": "UndefVarError: export_mat_to_eigen not defined",
     "output_type": "error",
     "traceback": [
      "UndefVarError: export_mat_to_eigen not defined\n",
      "\n",
      "Stacktrace:\n",
      " [1] top-level scope\n",
      "   @ ~/SSD/Code/Julia/tinympc-julia/quat_mpc_state/quadrotor_admm_100hz_eigen.ipynb:1"
     ]
    }
   ],
   "source": [
    "@printf(\"%s\", export_mat_to_eigen(\"A << \", Ã))"
   ]
  },
  {
   "cell_type": "code",
   "execution_count": 41,
   "metadata": {},
   "outputs": [
    {
     "data": {
      "text/plain": [
       "discrete_dynamics_stretch (generic function with 1 method)"
      ]
     },
     "metadata": {},
     "output_type": "display_data"
    }
   ],
   "source": [
    "# Adaptive step in MPC horizon: use normal dt and model in the first specified \n",
    "# `adaptive_step` steps and after that use the stretch mode (larger dt and model)\n",
    "freq2 = 1\n",
    "h = 1 / freq2 #25 Hz stretch interval dynamics\n",
    "#Linearize dynamics about hover\n",
    "As = ForwardDiff.jacobian(x -> quad_dynamics_rk4(x, uhover, h), xg)\n",
    "Bs = ForwardDiff.jacobian(u -> quad_dynamics_rk4(xg, u, h), uhover);\n",
    "Ãs = Array(E(qg)' * As * E(qg))\n",
    "B̃s = Array(E(qg)' * Bs);\n",
    "function discrete_dynamics_stretch(params, x, u, k)\n",
    "  Ãs * x + B̃s * u\n",
    "end\n"
   ]
  },
  {
   "cell_type": "code",
   "execution_count": 42,
   "metadata": {},
   "outputs": [
    {
     "data": {
      "text/plain": [
       "100"
      ]
     },
     "metadata": {},
     "output_type": "display_data"
    }
   ],
   "source": [
    "h = 1 / freq1 #50 Hz normal dynamics\n",
    "step_ratio = Int(freq1 / freq2)\n",
    "# display(Ãs)\n",
    "# display(Ã)"
   ]
  },
  {
   "cell_type": "code",
   "execution_count": 960,
   "metadata": {},
   "outputs": [
    {
     "data": {
      "text/plain": [
       "37.55799096559032"
      ]
     },
     "metadata": {},
     "output_type": "display_data"
    }
   ],
   "source": [
    "# IHLQR terminal cost\n",
    "P = [zeros(nx, nx) for i = 1:200]   # cost to go quadratic term\n",
    "p = [zeros(nx) for i = 1:200]      # cost to go linear term\n",
    "d = [zeros(nu) for i = 1:200-1]    # feedforward control\n",
    "K = [zeros(nu, nx) for i = 1:200-1] # feedback gain\n",
    "\n",
    "# Cost weights\n",
    "# Saved\n",
    "# max_dev_x = [0.1; 0.1; 0.1;  0.5; 0.5; 0.05;  0.5; 0.5; 0.5;  0.5; 0.5; 0.1]\n",
    "# max_dev_u = [0.5; 0.5; 0.5; 0.5]/10\n",
    "max_dev_x = [0.1; 0.1; 0.1; 0.5; 0.5; 0.05; 0.5; 0.5; 0.5; 0.7; 0.7; 0.2] / 1\n",
    "max_dev_u = [0.5; 0.5; 0.5; 0.5] / 6\n",
    "Q = diagm(1 ./ (max_dev_x .^ 2))\n",
    "R = diagm(1 ./ (max_dev_u .^ 2))\n",
    "\n",
    "# Q = Array(Diagonal([10; 10; 10; 1; 1; 1; 1; 1; 1; 1; 1; 1.]));\n",
    "# R = Array(1*I(Nu));\n",
    "Qf = 1 * Q\n",
    "\n",
    "# IHLQR for orginal problem\n",
    "P[200] .= Q\n",
    "for k = (200-1):-1:1\n",
    "    K[k] .= (R + B̃s' * P[k+1] * B̃s) \\ (B̃s' * P[k+1] * Ãs)\n",
    "    P[k] .= Q + Ãs' * P[k+1] * (Ãs - B̃s * K[k])\n",
    "end\n",
    "Qf = P[1]\n",
    "\n",
    "# PENALTY - important!!\n",
    "ρ = 250.0 * 100\n",
    "R̃ = R + ρ * I\n",
    "Q̃ = Q + ρ * I\n",
    "Q̃f = Qf + ρ * I\n",
    "\n",
    "# Precompute\n",
    "cache = (\n",
    "    Kinf=zeros(nu, nx),\n",
    "    Pinf=zeros(nx, nx),\n",
    "    Kinf2=zeros(nu, nx),\n",
    "    Pinf2=zeros(nx, nx),\n",
    "    Quu_inv=zeros(nu, nu),\n",
    "    Quu_inv2=zeros(nu, nu),\n",
    "    AmBKt=zeros(nx, nx),\n",
    "    AmBKt2=zeros(nx, nx), #(Ã - B̃*K[1])',\n",
    "    coeff_d2p=zeros(nx, nu),\n",
    "    coeff_d2p2=zeros(nx, nu),\n",
    ")\n",
    "\n",
    "P[200] .= Q̃f\n",
    "for k = (200-1):-1:1\n",
    "    K[k] .= (R̃ + B̃s' * P[k+1] * B̃s) \\ (B̃s' * P[k+1] * Ãs)\n",
    "    P[k] .= Q̃ + Ãs' * P[k+1] * (Ãs - B̃s * K[k])\n",
    "end\n",
    "cache.Kinf2 .= K[1]  # correct, tested with dlqr\n",
    "cache.Pinf2 .= P[1]\n",
    "cache.AmBKt2 .= (Ãs - B̃s * K[1])'\n",
    "for k = (200-1):-1:1\n",
    "    K[k] .= (R̃ + B̃' * P[k+1] * B̃) \\ (B̃' * P[k+1] * Ã)\n",
    "    P[k] .= Q̃ + Ã' * P[k+1] * (Ã - B̃ * K[k])\n",
    "end\n",
    "cache.Kinf .= K[1]\n",
    "cache.Pinf .= P[1]\n",
    "cache.AmBKt .= (Ã - B̃ * K[1])'\n",
    "\n",
    "cache.Quu_inv .= (R̃ + B̃' * cache.Pinf * B̃) \\ I\n",
    "display(cond(cache.Quu_inv))\n",
    "cache.Quu_inv2 .= (R̃ + B̃s' * cache.Pinf2 * B̃s) \\ I\n",
    "\n",
    "cache.coeff_d2p .= cache.Kinf' * R̃ - cache.AmBKt * cache.Pinf * B̃\n",
    "cache.coeff_d2p2 .= cache.Kinf2' * R̃ - cache.AmBKt2 * cache.Pinf2 * B̃s;"
   ]
  },
  {
   "cell_type": "code",
   "execution_count": 961,
   "metadata": {},
   "outputs": [],
   "source": [
    "# display(cache.Kinf)\n",
    "# # C Language for LQR2 alone\n",
    "# @printf(\"FOR C:\\n\");\n",
    "# str = \"static float K[NU][NXt] = {\\n\"\n",
    "# for i = 1:4\n",
    "#   str = str * \"  {\"\n",
    "#   for j = 1:12\n",
    "#     # if abs(K[i, j]) < 1e-6\n",
    "#     #   K[i, j] = 0.0\n",
    "#     # end\n",
    "#     this_str = @sprintf(\"%.6f\", cache.Kinf[i, j])\n",
    "\n",
    "#     str = str * this_str * \"f\"\n",
    "#     if j < 12\n",
    "#       str = str * \",\"\n",
    "#     end\n",
    "#   end\n",
    "#   str = str * \"},\\n\"\n",
    "# end\n",
    "# str = str * \"};\"\n",
    "# @printf(\"%s\",str)"
   ]
  },
  {
   "cell_type": "code",
   "execution_count": 1034,
   "metadata": {},
   "outputs": [
    {
     "data": {
      "text/plain": [
       "update_constraint (generic function with 2 methods)"
      ]
     },
     "metadata": {},
     "output_type": "display_data"
    }
   ],
   "source": [
    "#Feedback tracking controller\n",
    "include(\"../LibTinyMPC.jl\")\n",
    "N = 25\n",
    "dt = 1 / freq1\n",
    "Tfinal = 11.0 # final time\n",
    "Nt = Int(Tfinal / h) + 1    # number of time steps\n",
    "t_vec = h * (0:Nt-1)\n",
    "\n",
    "\n",
    "#Create trajectory to follow\n",
    "Xref = [[zeros(3); 1; zeros(9)] for i = 1:Nt]\n",
    "Δx̃ref = [zeros(nx) for i = 1:Nt]\n",
    "ΔUref = [zeros(nu) for i = 1:Nt-1]\n",
    "\n",
    "## Hovering\n",
    "# Xref = [xg for i = 1:Nt]\n",
    "\n",
    "## Number-eight\n",
    "# Xref = [[1*cos(t)*sin(t);1*cos(t);0.5;1;zeros(9)] for t = range(-pi/2, 3*pi/2, length = Nt)]  \n",
    "\n",
    "## Triangle\n",
    "p0 = [0; 0; 1.0];\n",
    "p1 = [3; 4; 1.0];\n",
    "p2 = [0; 8; 1.0];\n",
    "p3 = [0; -2; 1.0];\n",
    "range1 = collect(LinRange(p0, p1, round(Int, (Nt) / 3)))\n",
    "range2 = collect(LinRange(p1, p2, round(Int, (Nt) / 3)))\n",
    "range3 = collect(LinRange(p2, p3, round(Int, (Nt) / 3) + 1))\n",
    "range123 = [range1; range2; range3]\n",
    "for k = 1:Nt\n",
    "    Xref[k][1:3] .= range123[k]\n",
    "end\n",
    "\n",
    "# Square\n",
    "# p0 = [0; 0; 0.5]; p1 = [2; 0; 0.5]; p2 = [2; 2; 0.5]; p3 = [0; 2; 0.5]\n",
    "# range1 = collect(LinRange(p0, p1, round(Int,(Nt)/4)))\n",
    "# range2 = collect(LinRange(p1, p2, round(Int,(Nt)/4)))\n",
    "# range3 = collect(LinRange(p2, p3, round(Int,(Nt)/4)))\n",
    "# range4 = collect(LinRange(p3, p0, round(Int,(Nt)/4)+1))\n",
    "# range1234 = [range1; range2; range3; range4]\n",
    "# for k = 1:Nt\n",
    "#     Xref[k][1:3] .= range1234[k]\n",
    "# end\n",
    "\n",
    "# Velocity reference: speeds up the tracking but less smooth\n",
    "for i = 1:Nt-1\n",
    "    Xref[i][8:10] = (Xref[i+1][1:3] - Xref[i][1:3]) / dt / 1.0\n",
    "end\n",
    "for k = 1:Nt\n",
    "    x = Xref[k]\n",
    "    q = x[4:7]\n",
    "    ϕ = qtorp(L(qg)' * q)\n",
    "    Δx̃ref[k] .= [x[1:3] - rg; ϕ; x[8:10] - vg; x[11:13] - ωg]\n",
    "end\n",
    "\n",
    "\n",
    "u_min = -uhover #-0.5*ones(nu)\n",
    "u_max = 1 .- uhover #0.5*ones(nu)\n",
    "u_min = -100.0*ones(nu)\n",
    "u_max = 100.0*ones(nu)\n",
    "# state is x y v θ\n",
    "x_min = -100 * ones(nx)\n",
    "# x_min[3] = 0.85\n",
    "x_max = 100 * ones(nx)\n",
    "# x_max[1] = 3.05\n",
    "# Halfspace\n",
    "Acu = I(nu)\n",
    "bcu = 100 * ones(nu)\n",
    "Acx = [1, 0, 0.]\n",
    "bcx = 3.0 * 1\n",
    "\n",
    "# Obstacle\n",
    "obs_c = [0, 4., 1.0]\n",
    "obs_r = 0.5\n",
    "\n",
    "# previous MPC iterate\n",
    "X = [zeros(nx) for i = 1:N]\n",
    "U = [zeros(nu) for k = 1:N-1]\n",
    "ZU = [zeros(nu) for i = 1:N-1]\n",
    "ZU_new = [zeros(nu) for i = 1:N-1]\n",
    "YU = [zeros(nu) for i = 1:N-1]\n",
    "ZX = [zeros(nx) for i = 1:N]\n",
    "ZX_new = [zeros(nx) for i = 1:N]\n",
    "YX = [zeros(nx) for i = 1:N]\n",
    "\n",
    "params = (\n",
    "    nx=nx, nu=nu,\n",
    "    N=N, Q=Q, R=R, Qf=Qf,\n",
    "    u_min=u_min, u_max=u_max, Acu=Acu, bcu=bcu,\n",
    "    x_min=x_min, x_max=x_max, Acx=Acx, bcx=bcx,\n",
    "    Xref=Δx̃ref, Uref=ΔUref, dt=dt, cache=cache\n",
    ");\n",
    "\n",
    "\n",
    "P = [zeros(nx, nx) for i = 1:N]   # cost to go quadratic term\n",
    "p = [zeros(nx) for i = 1:N]      # cost to go linear term\n",
    "d = [zeros(nu) for i = 1:N-1]    # feedforward control\n",
    "K = [zeros(nu, nx) for i = 1:N-1] # feedback gain\n",
    "qq = [zeros(nx) for i = 1:N]\n",
    "r = [zeros(nu) for i = 1:N-1]\n",
    "\n",
    "verbose = 0\n",
    "adaptive_step = 0\n",
    "iters = zeros(1000)\n",
    "function controller_mpc(params, x, k)\n",
    "    q = x[4:7]\n",
    "    ϕ = qtorp(L(qg)' * q)\n",
    "\n",
    "    Δx̃ = [x[1:3] - rg; ϕ; x[8:10] - vg; x[11:13] - ωg]\n",
    "    X[1] .= Δx̃\n",
    "    u, status, iters[k] = solve_admm!(params, qq, r, p, d, X, ZX, ZX_new, YX, U, ZU, ZU_new, YU; ρ=ρ, abs_tol=1e-2, max_iter=2000, adaptive_step=adaptive_step)\n",
    "    # u = -cache.Kinf*(Δx̃ - Δx̃ref[k])\n",
    "    # display(iters[k])\n",
    "    # status == 0 && display(\"Max iteration reached\")\n",
    "    return u + uhover\n",
    "end\n",
    "\n",
    "#ASK: Do I need to stretch the reference?\n",
    "function update_reference(params, k)\n",
    "    Uref_ = 1 * ΔUref[k:N+k-2]\n",
    "    Xref_ = 1 * Δx̃ref[k:N+k-1]\n",
    "\n",
    "    if (adaptive_step > 0)\n",
    "        for i = 3:N-1\n",
    "            Uref_[i] .= ΔUref[k+1+(i-2)*step_ratio]\n",
    "            Xref_[i] .= Δx̃ref[k+1+(i-2)*step_ratio]\n",
    "        end\n",
    "        Xref_[N] .= Δx̃ref[k+1+(N-2)*step_ratio]\n",
    "        # for i = 3:N-1\n",
    "        #     Xref_[i][7:9] = (Xref_[i+1][1:3] - Xref_[i][1:3])/freq2\n",
    "        # end\n",
    "    end\n",
    "\n",
    "    params_new = (; params..., Uref=Uref_, Xref=Xref_)  # update ref\n",
    "    return params_new\n",
    "end\n",
    "\n",
    "function update_constraint(params, x, k)\n",
    "    xp = x[1:3]\n",
    "    vecXC = obs_c - xp\n",
    "    d = sqrt(vecXC'*vecXC)\n",
    "    if (d > 2*obs_r)\n",
    "        Acx_ = zeros(3)\n",
    "        bcx_ = 1.0\n",
    "    else\n",
    "        vecXI = vecXC * (d - obs_r) / d\n",
    "        Xi = xp + vecXI    \n",
    "        ∇f = 2*(obs_c - Xi)\n",
    "        Acx_ = ∇f\n",
    "        bcx_ = ∇f' * Xi\n",
    "    end\n",
    "    params_new = (; params..., Acx=Acx_, bcx=bcx_)  # update ref\n",
    "    # println(xp, Acx_, bcx_)\n",
    "    return params_new\n",
    "end\n"
   ]
  },
  {
   "cell_type": "code",
   "execution_count": 1035,
   "metadata": {},
   "outputs": [],
   "source": [
    "# Simulation\n",
    "uhist = [zeros(Nu) for i in 1:Nt-1]\n",
    "xhist = [zeros(Nx) for i in 1:Nt]\n",
    "Random.seed!(12);\n",
    "# xhist[1] .= [rg+0*randn(3)/3; L(qg)*rptoq([1; 0; 0]); vg; ωg]  # initial conditions\n",
    "# xhist[1] .= Xref[1]\n",
    "xhist[1] .= Xref[1]; xhist[1][1:3] += rand(3)*0.2\n",
    "backward_pass!(Q̃, R̃, P, params, adaptive_step)\n",
    "Nsim = Nt - 100 - 1\n",
    "for k = 1:Nsim\n",
    "    # for k = 1:3\n",
    "    params1 = update_reference(params, k)\n",
    "    params2 = update_constraint(params1, xhist[k], k)\n",
    "    # display(params1.Xref)\n",
    "    # display(xhist[k])\n",
    "    # shift_fill(U)\n",
    "    uhist[k] = controller_mpc(params2, xhist[k], k)\n",
    "    uhist[k] = clamp.(uhist[k], (uhover+u_min)[1], (uhover+u_max)[1])\n",
    "    xhist[k+1] = quad_dynamics_rk4(xhist[k], uhist[k], h)\n",
    "end"
   ]
  },
  {
   "cell_type": "code",
   "execution_count": null,
   "metadata": {},
   "outputs": [],
   "source": [
    "print(maximum(iters))\n",
    "for i = 1:length(iters)\n",
    "  # xhist[i][3] > 1.0 + 0.01 && error(\"infeasibilty\")\n",
    "end\n",
    "maximum(xhist)"
   ]
  },
  {
   "cell_type": "code",
   "execution_count": null,
   "metadata": {},
   "outputs": [],
   "source": [
    "Xsim_m = mat_from_vec(Xref[1:Nsim])\n",
    "plot(Xsim_m[2, :], Xsim_m[1, :], label=\"ref\", linestyle=:solid, linewidth=2, title=\"State History\", xlabel=\"y\", ylabel=\"x\")\n",
    "Xsim_m = mat_from_vec(xhist[1:Nsim])\n",
    "display(plot!(Xsim_m[2, :], Xsim_m[1, :], label=\"real\", linestyle=:dash, linewidth=2, title=\"State History\", xlabel=\"y\", ylabel=\"x\", aspect_ratio=:equal))\n",
    "display(scatter!([obs_c[2]],[obs_c[1]], color = \"red\", label = \"\", markersize = 70*obs_r))\n"
   ]
  },
  {
   "cell_type": "code",
   "execution_count": null,
   "metadata": {},
   "outputs": [],
   "source": [
    "Xsim_m = mat_from_vec(Xref[1:1:Nsim])\n",
    "plot(Xsim_m[2, :], Xsim_m[1, :], label=\"ref\",\n",
    "  linestyle=:solid, linewidth=2,\n",
    "  title=\"State History\", xlabel=\"y\", ylabel=\"x\")\n",
    "Xsim_m = mat_from_vec(xhist[1:1:Nsim])\n",
    "display(plot!(Xsim_m[2, :], Xsim_m[1, :], label=\"real\", linestyle=:dash, linewidth=2,\n",
    "  title=\"State History\", xlabel=\"y\", ylabel=\"x\", aspect_ratio=:equal))"
   ]
  },
  {
   "cell_type": "code",
   "execution_count": null,
   "metadata": {},
   "outputs": [],
   "source": [
    "Xsim_m = mat_from_vec(xhist[1:Nsim] - 0 * Xref[1:Nsim])\n",
    "Usim_m = mat_from_vec(uhist[1:Nsim-1])\n",
    "display(plot(Xsim_m[1:7, :]', label=[\"x\" \"y\" \"z\" \"qw\" \"qx\" \"qy\" \"qz\"],\n",
    "  linestyle=[:solid :solid :solid :dash :dash :dash :dash], linewidth=[2 2 2 2 2 2 2],\n",
    "  title=\"State History\", xlabel=\"time (s)\", ylabel=\"x\"))\n",
    "display(plot(Usim_m', label=[\"u₁\" \"u₂\" \"u₃\" \"u₄\"],\n",
    "  title=\"Input History\", linewidth=[2 2 2 2 2 2 2],\n",
    "  xlabel=\"time (s)\", ylabel=\"u\"))\n",
    "norm(xhist[1:Nsim] - 0 * Xref[1:Nsim])"
   ]
  },
  {
   "cell_type": "code",
   "execution_count": null,
   "metadata": {},
   "outputs": [],
   "source": [
    "Xsim_m = mat_from_vec(xhist[1:Nsim])\n",
    "Usim_m = mat_from_vec(uhist[1:Nsim-1])\n",
    "display(plot(Xsim_m[1:7, :]', label=[\"x\" \"y\" \"z\" \"qw\" \"qx\" \"qy\" \"qz\"],\n",
    "  linestyle=[:solid :solid :solid :dash :dash :dash :dash], linewidth=[2 2 2 2 2 2 2],\n",
    "  title=\"State History\", xlabel=\"time (s)\", ylabel=\"x\"))\n",
    "display(plot(Usim_m', label=[\"u₁\" \"u₂\" \"u₃\" \"u₄\"],\n",
    "  title=\"Input History\", linewidth=[2 2 2 2 2 2 2],\n",
    "  xlabel=\"time (s)\", ylabel=\"u\"))\n",
    "norm(xhist[1:Nsim] - 0 * Xref[1:Nsim])"
   ]
  },
  {
   "cell_type": "code",
   "execution_count": null,
   "metadata": {},
   "outputs": [],
   "source": [
    "# # function export_mat_to_eigen(prefix, data)\n",
    "# #   str = prefix * \"\\n\"\n",
    "# #   for i = 1:size(data, 1)\n",
    "# #       for j = 1:size(data, 2)\n",
    "# #           this_str = @sprintf(\"%.6f\", data[i, j])\n",
    "# #           str = str * this_str * \"f\"\n",
    "# #           if (i == size(data, 1) && j == size(data, 2))\n",
    "# #             str = str * \").finished();\"\n",
    "# #           else\n",
    "# #             str = str * \",\"\n",
    "# #           end\n",
    "# #       end\n",
    "# #       str = str * \"\\n\"\n",
    "# #   end\n",
    "# #   str = str * \"\\n\"\n",
    "# #   return str\n",
    "# # end\n",
    "\n",
    "# function export_mat_to_eigen(prefix, data)\n",
    "#   str = prefix * \"\\n\"\n",
    "#   for i = 1:size(data, 1)\n",
    "#       for j = 1:size(data, 2)\n",
    "#           this_str = @sprintf(\"%.6f\", data[i, j])\n",
    "#           str = str * this_str * \"f\"\n",
    "#           if (i == size(data, 1) && j == size(data, 2))\n",
    "#             str = str * \";\"\n",
    "#           else\n",
    "#             str = str * \",\"\n",
    "#           end\n",
    "#       end\n",
    "#       str = str * \"\\n\"\n",
    "#   end\n",
    "#   str = str * \"\\n\"\n",
    "#   return str\n",
    "# end\n",
    "\n",
    "# @printf(\"%s\",export_mat_to_eigen(\"A << \", Ã))\n",
    "# @printf(\"%s\",export_mat_to_eigen(\"B << \", B̃))\n",
    "# @printf(\"%s\",export_mat_to_eigen(\"Kinf << \", cache.Kinf))\n",
    "# @printf(\"%s\",export_mat_to_eigen(\"Pinf << \", cache.Pinf))\n",
    "# @printf(\"%s\",export_mat_to_eigen(\"Quu_inv << \", cache.Quu_inv))\n",
    "# @printf(\"%s\",export_mat_to_eigen(\"AmBKt << \",   cache.AmBKt))\n",
    "# @printf(\"%s\",export_mat_to_eigen(\"coeff_d2p << \", cache.coeff_d2p))\n",
    "# @printf(\"%s\",export_mat_to_eigen(\"Q << \", Q))\n",
    "# @printf(\"%s\",export_mat_to_eigen(\"R << \", R))\n",
    "# # @printf(\"%s\",export_mat_to_eigen(\"Kinf_data[NINPUTS*NSTATES]\", cache.Kinf2))\n",
    "# # @printf(\"%s\",export_mat_to_eigen(\"Pinf_data[NSTATES*NSTATES]\", cache.Pinf2))\n",
    "# # @printf(\"%s\",export_mat_to_eigen(\"Quu_inv_data[NINPUTS*NINPUTS]\", cache.Quu_inv2))\n",
    "# # @printf(\"%s\",export_mat_to_eigen(\"AmBKt_data[NSTATES*NSTATES]\", cache.AmBKt2))\n",
    "# # @printf(\"%s\",export_mat_to_eigen(\"coeff_d2p_data[NSTATES*NINPUTS]\", cache.coeff_d2p2))"
   ]
  },
  {
   "cell_type": "code",
   "execution_count": null,
   "metadata": {},
   "outputs": [],
   "source": [
    "# X_ref_data = [Δx̃ref[i][1:12] for i = 1:Nt]\n",
    "# # Export a vector of Eigen matrix to C header and source \n",
    "# function export_vec_to_c(filename, var_type, var_name, data)\n",
    "#   declare = \"static Eigen::\" * var_type * \" \" * var_name\n",
    "#   def = declare * \" = {\\n\"\n",
    "#   for i=1:length(data)\n",
    "#       def = def * \"(Eigen::\" * var_type * \"() << \"\n",
    "#       for j=1:length(data[1])\n",
    "#           def = def * string(data[i][j])\n",
    "#           if j < length(data[1]) \n",
    "#               def = def * \",\"\n",
    "#           end\n",
    "#       end\n",
    "#     def = def * \").finished(),\\n\"\n",
    "#   end\n",
    "#   def = def*\"}\"\n",
    "\n",
    "#   open(filename*\".h\",\"a\") do io\n",
    "#           println(io, def * \";\\n\")\n",
    "#   end\n",
    "#   return true\n",
    "# end\n",
    "# export_vec_to_c(\"data\", \"VectorNf\", \"XrefAll[]\", X_ref_data)"
   ]
  }
 ],
 "metadata": {
  "kernelspec": {
   "display_name": "Julia 1.6.7",
   "language": "julia",
   "name": "julia-1.6"
  },
  "language_info": {
   "file_extension": ".jl",
   "mimetype": "application/julia",
   "name": "julia",
   "version": "1.6.7"
  }
 },
 "nbformat": 4,
 "nbformat_minor": 4
}
