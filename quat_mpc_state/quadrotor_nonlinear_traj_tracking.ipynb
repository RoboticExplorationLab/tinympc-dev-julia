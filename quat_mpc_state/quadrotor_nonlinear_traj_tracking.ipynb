{
 "cells": [
  {
   "cell_type": "code",
   "execution_count": 1,
   "metadata": {},
   "outputs": [
    {
     "name": "stderr",
     "output_type": "stream",
     "text": [
      "\u001b[32m\u001b[1m  Activating\u001b[22m\u001b[39m environment at `~/Git/solvers/tinympc/tinympc-dev-julia/quat_mpc_state/Project.toml`\n"
     ]
    },
    {
     "data": {
      "text/plain": [
       "q_distance (generic function with 1 method)"
      ]
     },
     "metadata": {},
     "output_type": "display_data"
    }
   ],
   "source": [
    "import Pkg;\n",
    "Pkg.activate(@__DIR__);\n",
    "Pkg.instantiate();\n",
    "\n",
    "using LinearAlgebra\n",
    "using BlockDiagonals\n",
    "using ForwardDiff\n",
    "using Plots\n",
    "using Random;\n",
    "using Printf\n",
    "\n",
    "using RobotZoo: Quadrotor\n",
    "using RobotDynamics\n",
    "using MeshCat\n",
    "using ColorTypes\n",
    "using TrajOptPlots\n",
    "using GeometryBasics: Point, Cylinder\n",
    "using CoordinateTransformations\n",
    "using Rotations\n",
    "\n",
    "include(\"../quaternion-stuff.jl\")"
   ]
  },
  {
   "cell_type": "code",
   "execution_count": 2,
   "metadata": {},
   "outputs": [
    {
     "data": {
      "text/plain": [
       "quad_dynamics_rk4 (generic function with 1 method)"
      ]
     },
     "metadata": {},
     "output_type": "display_data"
    }
   ],
   "source": [
    "#Quadrotor parameters\n",
    "m = 0.035\n",
    "ℓ = 0.046\n",
    "J = [16.6e-6 0.83e-6 0.72e-6\n",
    "    0.83e-6 16.6e-6 1.8e-6\n",
    "    0.72e-6 1.8e-6 29.3e-6];\n",
    "g = 9.81\n",
    "# thrustToTorque = 0.005964552\n",
    "thrustToTorque = 0.0008\n",
    "ℓ = 0.046 / sqrt(2)\n",
    "scale = 65535\n",
    "kt = 2.245365e-6 * scale # u is PWM in range [0...1]\n",
    "km = kt * thrustToTorque #4.4733e-8\n",
    "\n",
    "freq1 = 50\n",
    "h = 1 / freq1 #50 Hz\n",
    "\n",
    "nx = 12     # number of states (linearized)\n",
    "nu = 4     # number of controls\n",
    "\n",
    "function quad_dynamics(x, u)\n",
    "    r = x[1:3]\n",
    "    q = x[4:7] / norm(x[4:7]) #normalize q just to be careful\n",
    "    v = x[8:10]\n",
    "    ω = x[11:13]\n",
    "    Q = qtoQ(q)\n",
    "  \n",
    "    ṙ = v\n",
    "    q̇ = 0.5 * L(q) * H * ω\n",
    "  \n",
    "    v̇ = [0; 0; -g] + (1 / m) * Q * [zeros(2, 4); kt * ones(1, 4)] * u\n",
    "  \n",
    "    ω̇ = J \\ (-hat(ω) * J * ω + [-ℓ*kt -ℓ*kt ℓ*kt ℓ*kt; -ℓ*kt ℓ*kt ℓ*kt -ℓ*kt; -km km -km km] * u)\n",
    "  \n",
    "    return [ṙ; q̇; v̇; ω̇]\n",
    "  end\n",
    "  \n",
    "  function quad_dynamics_rk4(x, u, h)\n",
    "    #RK4 integration with zero-order hold on u\n",
    "    f1 = quad_dynamics(x, u)\n",
    "    f2 = quad_dynamics(x + 0.5 * h * f1, u)\n",
    "    f3 = quad_dynamics(x + 0.5 * h * f2, u)\n",
    "    f4 = quad_dynamics(x + h * f3, u)\n",
    "    xn = x + (h / 6.0) * (f1 + 2 * f2 + 2 * f3 + f4)\n",
    "    xn[4:7] .= xn[4:7] / norm(xn[4:7]) #re-normalize quaternion\n",
    "    return xn\n",
    "  end"
   ]
  },
  {
   "cell_type": "code",
   "execution_count": 3,
   "metadata": {},
   "outputs": [
    {
     "name": "stderr",
     "output_type": "stream",
     "text": [
      "┌ Info: MeshCat server started. You can open the visualizer by visiting the following URL in your browser:\n",
      "│ http://127.0.0.1:8700\n",
      "└ @ MeshCat /home/sam/.julia/packages/MeshCat/GlCMx/src/visualizer.jl:73\n"
     ]
    },
    {
     "data": {
      "text/plain": [
       "false"
      ]
     },
     "metadata": {},
     "output_type": "display_data"
    }
   ],
   "source": [
    "vis = Visualizer()\n",
    "quad_model = Quadrotor()\n",
    "TrajOptPlots.set_mesh!(vis, quad_model)"
   ]
  },
  {
   "cell_type": "code",
   "execution_count": 132,
   "metadata": {},
   "outputs": [
    {
     "data": {
      "text/plain": [
       "MeshCat Visualizer with path /meshcat/XrefLine at http://127.0.0.1:8700"
      ]
     },
     "metadata": {},
     "output_type": "display_data"
    }
   ],
   "source": [
    "# Create reference trajectory\n",
    "\n",
    "Tfinal = 5.0\n",
    "NTOTAL = Int(Tfinal/h)+1\n",
    "\n",
    "# Reference trajectory\n",
    "X̃ref = [zeros(nx) for i = 1:NTOTAL]\n",
    "scale = 5\n",
    "# Xref = [[sin(2*t); 1.5*cos(t); 0.7*sin(3*t); 1; zeros(9)] for t in range(-pi/2*2, 3*pi/2*2, length=NTOTAL)] # mega pringle\n",
    "# Xref = [[sin(scale*t)*cos(t); cos(scale*t)*cos(t); 0.75*sin(t); 1; zeros(9)] for t in range(0, 2*pi, length=NTOTAL)] # ball\n",
    "# Xref = [[0.05; t; 0.5;   1; zeros(3);   zeros(6)] for t = range(0, 5, length = NTOTAL)]; # straight line\n",
    "# Xref = [zeros(nx+1) for i = 1:NTOTAL] # origin\n",
    "\n",
    "\n",
    "\n",
    "\n",
    "# Xref = [[0.0; t; 0.5;   1; zeros(3);   zeros(6)] for t = range(0, 5, length = NTOTAL)]; # straight line with barrel roll\n",
    "# num_ref_points = length(Xref)\n",
    "\n",
    "# # start barrel roll at 2/5 and end at 3/5 of trajectory\n",
    "# start_barrel_roll_ratio = 2.0/5.0\n",
    "# end_barrel_roll_ratio = 3.0/5.0\n",
    "# num_point_in_barrel_roll = Int(floor(num_ref_points * (end_barrel_roll_ratio - start_barrel_roll_ratio)))\n",
    "# barrel_roll_angles = LinRange(0.0, 2*pi, num_point_in_barrel_roll) # create rough desired angles for barrel roll\n",
    "# quats = [[cos(α/2), 0, sin(α/2), 0] for α in barrel_roll_angles]\n",
    "# start_barrel_roll_index = Int(floor(num_ref_points*start_barrel_roll_ratio))\n",
    "# for i in 1:num_point_in_barrel_roll\n",
    "#     Xref[i+start_barrel_roll_index][4:7] = quats[i]\n",
    "# end\n",
    "\n",
    "# # zigzag attitude trajectory\n",
    "# zigzag_1_ratio = 1.0/6.0\n",
    "# zigzag_2_ratio = 2.0/6.0\n",
    "# zigzag_3_ratio = 4.0/6.0\n",
    "# zigzag_4_ratio = 5.0/6.0\n",
    "# num_points_per_zig = Int(floor(num_ref_points * (zigzag_4_ratio - zigzag_1_ratio)/4))\n",
    "# zigzag_1_angles = LinRange(0.0, pi/4, num_points_per_zig) # create rough desired angles for barrel roll\n",
    "# zigzag_2_angles = LinRange(pi/4, -pi/4, num_points_per_zig*2) # create rough desired angles for barrel roll\n",
    "# zigzag_3_angles = LinRange(-pi/4, 0, num_points_per_zig) # create rough desired angles for barrel roll\n",
    "# quats_zigzag_1 = [[cos(α/2), 0, sin(α/2), 0] for α in zigzag_1_angles]\n",
    "# quats_zigzag_2 = [[cos(α/2), 0, sin(α/2), 0] for α in zigzag_2_angles]\n",
    "# quats_zigzag_3 = [[cos(α/2), 0, sin(α/2), 0] for α in zigzag_3_angles]\n",
    "# quats_zigzag = [quats_zigzag_1; quats_zigzag_2; quats_zigzag_3]\n",
    "# start_zigzag_index = Int(floor(num_ref_points*zigzag_1_ratio))\n",
    "# for i in 1:num_points_per_zig*4\n",
    "#     Xref[i+start_zigzag_index][4:7] = quats_zigzag[i]\n",
    "# end\n",
    "\n",
    "\n",
    "\n",
    "# power loop\n",
    "Xref_lead_in = [[t; 0.0; 0.5;   1; zeros(3);   zeros(6)] for t = range(0, 2.5, length = Int(floor(NTOTAL/4))+1)];\n",
    "num_points_for_loop = Int(floor(NTOTAL*1/2))\n",
    "# Xref_loop = [[2.5 + cos(theta - pi/2); 0; 1.5 + sin(theta - pi/2);   \n",
    "#               cos(-theta/2); 0; sin(-theta/2); 0;\n",
    "#               zeros(6)] for theta = range(0, 2*pi, length = num_points_for_loop)]\n",
    "Xref_loop = [[2.5 + cos(theta - pi/2); 0; 1.5 + sin(theta - pi/2);   \n",
    "            1; 0; 0; 0;\n",
    "            zeros(6)] for theta = range(0, 2*pi, length = num_points_for_loop)]\n",
    "Xref_lead_out = [[t; 0.0; 0.5;   1; zeros(3);   zeros(6)] for t = range(2.5, 5, length = Int(floor(NTOTAL/4))+1)];\n",
    "Xref = [Xref_lead_in; Xref_loop; Xref_lead_out]\n",
    "num_ref_points = length(Xref)\n",
    "\n",
    "\n",
    "Uref = [zeros(nu) for i = 1:NTOTAL-1]\n",
    "\n",
    "# Compute reference velocity from reference position\n",
    "for i = 1:NTOTAL-1\n",
    "    Xref[i][8:10] = (Xref[i+1][1:3] - Xref[i][1:3])/h\n",
    "end\n",
    "\n",
    "# Convert (13 state) Xref to reduced form (12 state) X̃ref\n",
    "for k = 1:NTOTAL\n",
    "    x = Xref[k]\n",
    "    X̃ref[k] = [x[1:3]; qtorp(x[4:7]); x[8:10]; x[11:13]]\n",
    "end\n",
    "\n",
    "X̃ref = hcat(X̃ref...)\n",
    "Uref = hcat(Uref...)\n",
    "\n",
    "# Visualize reference\n",
    "delete!(vis[\"xHistLine\"])\n",
    "delete!(vis[\"XrefLine\"])\n",
    "XrefLine = [Point(x_[1], x_[2], x_[3]) for x_ in Xref]\n",
    "setobject!(vis[\"XrefLine\"], Object(PointCloud(XrefLine), \n",
    "        LineBasicMaterial(color=Colors.RGBA(0.0, 0.45, 1.0)), \"Line\"))"
   ]
  },
  {
   "cell_type": "code",
   "execution_count": 133,
   "metadata": {},
   "outputs": [],
   "source": [
    "# Visualize trajectory attitude\n",
    "\n",
    "x_arrow_material = LineBasicMaterial(color=Colors.RGBA(0.55,0.1,0.1,1.0))\n",
    "x_shaft = Cylinder(zero(Point{3, Float64}), Point(0.2, 0.0, 0.0), 0.01)\n",
    "setobject!(vis[\"coordinate_frame_ref\"][:xarrow][:shaft], x_shaft, x_arrow_material)\n",
    "x_head = Cone(Point(0.2, 0.0, 0.0), Point(0.25, 0.0, 0.0), 0.025)\n",
    "setobject!(vis[\"coordinate_frame_ref\"][:xarrow][:head], x_head, x_arrow_material)\n",
    "\n",
    "y_arrow_material = LineBasicMaterial(color=Colors.RGBA(0.1,0.55,0.1,1.0))\n",
    "y_shaft = Cylinder(zero(Point{3, Float64}), Point(0.0, 0.2, 0.0), 0.01)\n",
    "setobject!(vis[\"coordinate_frame_ref\"][:yarrow][:shaft], y_shaft, y_arrow_material)\n",
    "y_head = Cone(Point(0.0, 0.2, 0.0), Point(0.0, 0.25, 0.0), 0.025)\n",
    "setobject!(vis[\"coordinate_frame_ref\"][:yarrow][:head], y_head, y_arrow_material)\n",
    "\n",
    "z_arrow_material = LineBasicMaterial(color=Colors.RGBA(0.1,0.1,0.55,1.0))\n",
    "z_shaft = Cylinder(zero(Point{3, Float64}), Point(0.0, 0.0, 0.2), 0.01)\n",
    "setobject!(vis[\"coordinate_frame_ref\"][:zarrow][:shaft], z_shaft, z_arrow_material)\n",
    "z_head = Cone(Point(0.0, 0.0, 0.2), Point(0.0, 0.0, 0.25), 0.025)\n",
    "setobject!(vis[\"coordinate_frame_ref\"][:zarrow][:head], z_head, z_arrow_material)\n",
    "\n",
    "# delete!(vis[coordinate_frame_name])\n",
    "\n",
    "for i in 1:length(Xref)\n",
    "    settransform!(vis[\"coordinate_frame_ref\"], Translation(Xref[i][1:3]) ∘ LinearMap(UnitQuaternion(rptoq(X̃ref[4:6,i]))))\n",
    "    sleep(0.01)\n",
    "end"
   ]
  },
  {
   "cell_type": "code",
   "execution_count": 134,
   "metadata": {},
   "outputs": [
    {
     "data": {
      "text/plain": [
       "\"ihlqr converged in 550 iterations\""
      ]
     },
     "metadata": {},
     "output_type": "display_data"
    },
    {
     "data": {
      "text/plain": [
       "TinySolver(TinySettings(0.01, 0.01, 50, 1, 0, 1, 0, 0, true), TinyCache[TinyCache(10.0, [-0.5578823839562904 0.49947409133902587 … -0.13600986098137036 -1.1144986141153508; 0.5254473167737371 0.38475082316502157 … 0.13050702634646846 1.1148675876852103; 0.3523747836591953 -0.4173260084110342 … -0.0012306376087847532 -1.1154241840268992; -0.31993971647664277 -0.46689890609301943 … 0.0067334722436868475 1.115055210457044], [519989.2702408192 -117.40790936200946 … 370.78807810792915 639.0560375346466; -117.40790936201006 519880.70054136653 … -21.65907058994005 -255.4575431194231; … ; 370.78807810792983 -21.659070589940015 … 52.895096443111896 385.42924186902826; 639.0560375346479 -255.45754311942298 … 385.42924186902826 6300.278690517662], [0.0009806415865479228 9.979392937243925e-5 0.000894807053686412 0.00010020417886280017; 9.979392937243915e-5 0.0009735809033045986 0.00010146119307123287 0.0009006107227212994; 0.000894807053686412 0.00010146119307123302 0.0009762952764353637 0.00010288322527656538; 0.00010020417886280012 0.0009006107227212996 0.0001028832252765653 0.0009717486216089054], [0.9999666664417208 -3.596689644206355e-7 … -10.193748709221708 0.5905071792803729; -3.5946237818496935e-7 0.9999666015904178 … -0.10992733277827726 -0.2310269685036149; … ; 8.178328252764842e-6 -2.7646384745649163e-8 … -0.49898218569882524 0.06982398013215484; 1.4629670277772859e-7 -5.788033394208913e-8 … 0.044739052837224236 0.6384459138721181], [0.0, 0.0, 0.0, 0.0, 0.0, 0.0, 0.0, 0.0, 0.0, 0.0, 0.0, 0.0], [0.0, 0.0, 0.0, 0.0], [1.0 0.0 … 1.3080000000000002e-5 0.0; 0.0 1.0 … 0.0 0.0; … ; 0.0 0.0 … 1.0 0.0; 0.0 0.0 … 0.0 1.0], [-1.8096638963250834e-5 1.9899808540159687e-5 1.8153045375848536e-5 -1.995621495275738e-5; 1.8008191254201994e-5 1.9831505978467163e-5 -1.8028336401558313e-5 -1.981136083111085e-5; … ; -5.5341403557342 6.085568360905102 5.551390023195271 -6.10281802836617; 0.3949542336901706 -0.1444727986870304 -0.556875219321762 0.30639378431862185], [0.0, 0.0, 0.0, 0.0, 0.0, 0.0, 0.0, 0.0, 0.0, 0.0, 0.0, 0.0], [0.0, 0.0, 0.0, 1.0, 0.0, 0.0, 0.0, 0.0, 0.0, 0.0, 0.0, 0.0, 0.0])], TinyWorkspace(12, 4, 20, [0.0 0.0 … 0.0 0.0; 0.0 0.0 … 0.0 0.0; … ; 0.0 0.0 … 0.0 0.0; 0.0 0.0 … 0.0 0.0], [0.0 0.0 … 0.0 0.0; 0.0 0.0 … 0.0 0.0; 0.0 0.0 … 0.0 0.0; 0.0 0.0 … 0.0 0.0], [0.0 0.0 … 0.0 0.0; 0.0 0.0 … 0.0 0.0; … ; 0.0 0.0 … 0.0 0.0; 0.0 0.0 … 0.0 0.0], [0.0 0.0 … 0.0 0.0; 0.0 0.0 … 0.0 0.0; 0.0 0.0 … 0.0 0.0; 0.0 0.0 … 0.0 0.0], [0.0 0.0 … 0.0 -931794.5647545976; 0.0 0.0 … 0.0 337.77664185264723; … ; 0.0 0.0 … 0.0 -1057.0512256766974; 0.0 0.0 … 0.0 -1931.2390645175508], [0.0 0.0 … 0.0 0.0; 0.0 0.0 … 0.0 0.0; 0.0 0.0 … 0.0 0.0; 0.0 0.0 … 0.0 0.0], 1.0, 1.0, 1.0, 1.0, 0, 0, [10000.0 0.0 … 0.0 0.0; 0.0 10000.0 … 0.0 0.0; … ; 0.0 0.0 … 2.0408163265306127 0.0; 0.0 0.0 … 0.0 24.999999999999996], [399.99999999999994 0.0 0.0 0.0; 0.0 399.99999999999994 0.0 0.0; 0.0 0.0 399.99999999999994 0.0; 0.0 0.0 0.0 399.99999999999994], [0.0 0.04032258064516129 … 4.959677419354839 5.0; 0.0 0.0 … 0.0 0.0; … ; 0.0 0.0 … 0.0 0.0; 0.0 0.0 … 0.0 0.0], [0.0 0.0 … 0.0 0.0; 0.0 0.0 … 0.0 0.0; 0.0 0.0 … 0.0 0.0; 0.0 0.0 … 0.0 0.0], [0.0 0.0 … 0.0 0.0; 0.0 0.0 … 0.0 0.0; … ; 0.0 0.0 … 0.0 0.0; 0.0 0.0 … 0.0 0.0], TinyBounds([-1000.0 -1000.0 … -1000.0 -1000.0; -1000.0 -1000.0 … -1000.0 -1000.0; -1000.0 -1000.0 … -1000.0 -1000.0; -1000.0 -1000.0 … -1000.0 -1000.0], [1000.0 1000.0 … 1000.0 1000.0; 1000.0 1000.0 … 1000.0 1000.0; 1000.0 1000.0 … 1000.0 1000.0; 1000.0 1000.0 … 1000.0 1000.0], [-1000.0 -1000.0 … -1000.0 -1000.0; -1000.0 -1000.0 … -1000.0 -1000.0; … ; -1000.0 -1000.0 … -1000.0 -1000.0; -1000.0 -1000.0 … -1000.0 -1000.0], [1000.0 1000.0 … 1000.0 1000.0; 1000.0 1000.0 … 1000.0 1000.0; … ; 1000.0 1000.0 … 1000.0 1000.0; 1000.0 1000.0 … 1000.0 1000.0], [0.0 0.0 … 0.0 0.0; 0.0 0.0 … 0.0 0.0; 0.0 0.0 … 0.0 0.0; 0.0 0.0 … 0.0 0.0], [0.0 0.0 … 0.0 0.0; 0.0 0.0 … 0.0 0.0; 0.0 0.0 … 0.0 0.0; 0.0 0.0 … 0.0 0.0], [0.0 0.0 … 0.0 0.0; 0.0 0.0 … 0.0 0.0; … ; 0.0 0.0 … 0.0 0.0; 0.0 0.0 … 0.0 0.0], [0.0 0.0 … 0.0 0.0; 0.0 0.0 … 0.0 0.0; … ; 0.0 0.0 … 0.0 0.0; 0.0 0.0 … 0.0 0.0], [0.0 0.0 … 0.0 0.0; 0.0 0.0 … 0.0 0.0; 0.0 0.0 … 0.0 0.0; 0.0 0.0 … 0.0 0.0], [0.0 0.0 … 0.0 0.0; 0.0 0.0 … 0.0 0.0; … ; 0.0 0.0 … 0.0 0.0; 0.0 0.0 … 0.0 0.0]), TinySocs(0, 0, [0.0], [0.0], [0], [0], [0], [0], [[0.0 0.0 … 0.0 0.0; 0.0 0.0 … 0.0 0.0; 0.0 0.0 … 0.0 0.0; 0.0 0.0 … 0.0 0.0], [0.0 0.0 … 0.0 0.0; 0.0 0.0 … 0.0 0.0; 0.0 0.0 … 0.0 0.0; 0.0 0.0 … 0.0 0.0]], [[0.0 0.0 … 0.0 0.0; 0.0 0.0 … 0.0 0.0; … ; 0.0 0.0 … 0.0 0.0; 0.0 0.0 … 0.0 0.0], [0.0 0.0 … 0.0 0.0; 0.0 0.0 … 0.0 0.0; … ; 0.0 0.0 … 0.0 0.0; 0.0 0.0 … 0.0 0.0]], [[0.0 0.0 … 0.0 0.0; 0.0 0.0 … 0.0 0.0; 0.0 0.0 … 0.0 0.0; 0.0 0.0 … 0.0 0.0], [0.0 0.0 … 0.0 0.0; 0.0 0.0 … 0.0 0.0; 0.0 0.0 … 0.0 0.0; 0.0 0.0 … 0.0 0.0]], [[0.0 0.0 … 0.0 0.0; 0.0 0.0 … 0.0 0.0; … ; 0.0 0.0 … 0.0 0.0; 0.0 0.0 … 0.0 0.0], [0.0 0.0 … 0.0 0.0; 0.0 0.0 … 0.0 0.0; … ; 0.0 0.0 … 0.0 0.0; 0.0 0.0 … 0.0 0.0]], [[0.0 0.0 … 0.0 0.0; 0.0 0.0 … 0.0 0.0; 0.0 0.0 … 0.0 0.0; 0.0 0.0 … 0.0 0.0], [0.0 0.0 … 0.0 0.0; 0.0 0.0 … 0.0 0.0; 0.0 0.0 … 0.0 0.0; 0.0 0.0 … 0.0 0.0]], [[0.0 0.0 … 0.0 0.0; 0.0 0.0 … 0.0 0.0; … ; 0.0 0.0 … 0.0 0.0; 0.0 0.0 … 0.0 0.0], [0.0 0.0 … 0.0 0.0; 0.0 0.0 … 0.0 0.0; … ; 0.0 0.0 … 0.0 0.0; 0.0 0.0 … 0.0 0.0]])))"
      ]
     },
     "metadata": {},
     "output_type": "display_data"
    }
   ],
   "source": [
    "include(\"../LibTinyMPC.jl\")\n",
    "\n",
    "# Goal state (initialize solver with cache corresponding to\n",
    "# this linearization. Can add more linearization caches later)\n",
    "quat_lin_1 = [1.0; 0; 0; 0]\n",
    "x_lin_1 = [zeros(3); quat_lin_1; zeros(3); zeros(3)];\n",
    "u_lin_1 = (m * g / kt / 4) * ones(4)  # m = 30g and max thrust = 60g\n",
    "\n",
    "# Linearize dynamics about hover\n",
    "A = ForwardDiff.jacobian(x -> quad_dynamics_rk4(x, u_lin_1, h), x_lin_1)\n",
    "B = ForwardDiff.jacobian(u -> quad_dynamics_rk4(x_lin_1, u, h), u_lin_1);\n",
    "Ã = Array(E(quat_lin_1)' * A * E(quat_lin_1))\n",
    "B̃ = Array(E(quat_lin_1)' * B);\n",
    "\n",
    "max_dev_x = [0.01; 0.01; 0.01; 0.001; 0.001; 0.001; 0.5; 0.5; 0.5; 0.7; 0.7; 0.2] / 1\n",
    "max_dev_u = [0.5; 0.5; 0.5; 0.5] / 10\n",
    "Q = diagm(1 ./ (max_dev_x .^ 2))\n",
    "R = diagm(1 ./ (max_dev_u .^ 2))\n",
    "\n",
    "Nh = 20\n",
    "\n",
    "solver = TinySolver(x_lin_1, Ã, B̃, Q, R, Nh, X̃ref, Uref);\n",
    "\n",
    "\n",
    "# # Create more caches for different attitudes\n",
    "# linearization_angles = LinRange(0.0, 2*pi, 17)\n",
    "# quats_linearize = [[cos(α/2), 0, sin(α/2), 0] for α in linearization_angles[1:end-1]]\n",
    "# new_caches = []\n",
    "# for quat in quats_linearize\n",
    "\n",
    "#     # Compute stuff\n",
    "#     x_lin = [zeros(3); quat; zeros(3); zeros(3)]\n",
    "#     u_lin = (m * g / kt / 4) * ones(4)  # m = 30g and max thrust = 60g\n",
    "\n",
    "\n",
    "#     # Visualize stuff\n",
    "#     settransform!(vis[\"coordinate_frame_ref\"], Translation(0.0, 0.0, 0.5) ∘ LinearMap(UnitQuaternion(quat)))\n",
    "\n",
    "#     xbar = RBState(quad_model, x_lin[:,1])\n",
    "#     if quad_model.ned\n",
    "#         rq = position(xbar)\n",
    "#         vq = linear_velocity(xbar)\n",
    "#         rq = SA[rq[1],-rq[2],-rq[3]]\n",
    "#         vq = SA[vq[1],-vq[2],-vq[3]]\n",
    "#         xbar = RBState(rq, RotX(pi)*orientation(xbar), vq, angular_velocity(xbar)) \n",
    "#     end\n",
    "#     settransform!(vis[\"robot\"], Translation(position(xbar)) ∘ LinearMap(UnitQuaternion(orientation(xbar))))\n",
    "\n",
    "#     # Compute more stuff\n",
    "#     # Linearize dynamics about hover\n",
    "#     A_cache = ForwardDiff.jacobian(x -> quad_dynamics_rk4(x, u_lin, h), x_lin)\n",
    "#     B_cache = ForwardDiff.jacobian(u -> quad_dynamics_rk4(x_lin, u, h), u_lin);\n",
    "#     Ã_cache = Array(E(quat)' * A_cache * E(quat))\n",
    "#     B̃_cache = Array(E(quat)' * B_cache);\n",
    "\n",
    "\n",
    "#     # Add cache to new caches\n",
    "#     push!(new_caches, compute_cache!(x_lin, 1e1, Ã_cache, B̃_cache, zeros(nx), Q, R; verbose=true))\n",
    "    \n",
    "#     # sleep(0.1)\n",
    "# end\n",
    "\n",
    "# solver.caches = deepcopy(new_caches)"
   ]
  },
  {
   "cell_type": "code",
   "execution_count": 116,
   "metadata": {},
   "outputs": [
    {
     "data": {
      "text/plain": [
       "MeshCat Visualizer with path /meshcat/coordinate_frame_sol/zarrow/head at http://127.0.0.1:8700"
      ]
     },
     "metadata": {},
     "output_type": "display_data"
    }
   ],
   "source": [
    "x_arrow_material = LineBasicMaterial(color=Colors.RGBA(0.55,0.1,0.1,1.0))\n",
    "x_shaft = Cylinder(zero(Point{3, Float64}), Point(0.2, 0.0, 0.0), 0.01)\n",
    "setobject!(vis[\"coordinate_frame_sol\"][:xarrow][:shaft], x_shaft, x_arrow_material)\n",
    "x_head = Cone(Point(0.2, 0.0, 0.0), Point(0.25, 0.0, 0.0), 0.025)\n",
    "setobject!(vis[\"coordinate_frame_sol\"][:xarrow][:head], x_head, x_arrow_material)\n",
    "\n",
    "y_arrow_material = LineBasicMaterial(color=Colors.RGBA(0.1,0.55,0.1,1.0))\n",
    "y_shaft = Cylinder(zero(Point{3, Float64}), Point(0.0, 0.2, 0.0), 0.01)\n",
    "setobject!(vis[\"coordinate_frame_sol\"][:yarrow][:shaft], y_shaft, y_arrow_material)\n",
    "y_head = Cone(Point(0.0, 0.2, 0.0), Point(0.0, 0.25, 0.0), 0.025)\n",
    "setobject!(vis[\"coordinate_frame_sol\"][:yarrow][:head], y_head, y_arrow_material)\n",
    "\n",
    "z_arrow_material = LineBasicMaterial(color=Colors.RGBA(0.1,0.1,0.55,1.0))\n",
    "z_shaft = Cylinder(zero(Point{3, Float64}), Point(0.0, 0.0, 0.2), 0.01)\n",
    "setobject!(vis[\"coordinate_frame_sol\"][:zarrow][:shaft], z_shaft, z_arrow_material)\n",
    "z_head = Cone(Point(0.0, 0.0, 0.2), Point(0.0, 0.0, 0.25), 0.025)\n",
    "setobject!(vis[\"coordinate_frame_sol\"][:zarrow][:head], z_head, z_arrow_material)"
   ]
  },
  {
   "cell_type": "code",
   "execution_count": 126,
   "metadata": {},
   "outputs": [],
   "source": [
    "for ref in Xref\n",
    "    cache_index = argmin([q_distance(c_.xlin[4:7], ref[4:7]) for c_ in solver.caches])\n",
    "    settransform!(vis[\"coordinate_frame_sol\"], Translation(ref[1:3] + [0, -0.5, 0]) ∘ LinearMap(UnitQuaternion(solver.caches[cache_index].xlin[4:7])))\n",
    "    settransform!(vis[\"coordinate_frame_ref\"], Translation(ref[1:3]) ∘ LinearMap(UnitQuaternion(ref[4:7])))\n",
    "    sleep(.015)\n",
    "end"
   ]
  },
  {
   "cell_type": "code",
   "execution_count": 138,
   "metadata": {},
   "outputs": [],
   "source": [
    "include(\"../LibTinyMPC.jl\")\n",
    "x0 = X̃ref[:,1] + randn(nx)*0.0\n",
    "# x0 = zero(X̃ref[:,1])\n",
    "Xhist = zeros(nx+1, NTOTAL)\n",
    "Xhist[:,1] .= [x0[1:3]; rptoq(x0[4:6]); x0[7:12]]\n",
    "Uhist = zeros(nu, NTOTAL-1)\n",
    "\n",
    "reset_solver!(solver)\n",
    "\n",
    "for i = 1:NTOTAL-1\n",
    "    # Update initial state\n",
    "    solver.workspace.x[:,1] = [Xhist[:,i][1:3]; qtorp(Xhist[:,i][4:7]); Xhist[:,i][8:end]]\n",
    "\n",
    "    # Update reference\n",
    "    if i < NTOTAL - Nh\n",
    "        solver.workspace.Xref = X̃ref[:,i:i+Nh-1]\n",
    "    else\n",
    "        solver.workspace.Xref = [X̃ref[:,i:end] repeat(X̃ref[:,end], 1, i+Nh-NTOTAL)]\n",
    "    end\n",
    "\n",
    "    # Solve\n",
    "    solve_admm!(solver)\n",
    "    Uhist[:,i] .= clamp.(solver.workspace.u[:,1] + u_lin_1, -1, 1)\n",
    "\n",
    "    # Simulate with control\n",
    "    Xhist[:,i+1] = quad_dynamics_rk4(Xhist[:,i], Uhist[:,i], h)\n",
    "\n",
    "\n",
    "\n",
    "\n",
    "\n",
    "\n",
    "\n",
    "\n",
    "    # Visualization stuff\n",
    "\n",
    "    # Update quadrotor transform\n",
    "    xbar = RBState(quad_model, Xhist[:,i])\n",
    "    if quad_model.ned\n",
    "        rq = position(xbar)\n",
    "        vq = linear_velocity(xbar)\n",
    "        rq = SA[rq[1],-rq[2],-rq[3]]\n",
    "        vq = SA[vq[1],-vq[2],-vq[3]]\n",
    "        xbar = RBState(rq, RotX(pi)*orientation(xbar), vq, angular_velocity(xbar)) \n",
    "    end\n",
    "    settransform!(vis[\"robot\"], Translation(position(xbar)) ∘ LinearMap(UnitQuaternion(orientation(xbar))))\n",
    "    \n",
    "    # Visualize solution\n",
    "    delete!(vis[\"xLinearized\"])\n",
    "    Xsol = [solver.workspace.x[:,j] for j in 1:size(solver.workspace.x, 2)]\n",
    "    x_linearized = [Point(x_[1], x_[2], x_[3]+0.001) for x_ in Xsol]\n",
    "    setobject!(vis[\"xLinearized\"], Object(PointCloud(x_linearized), \n",
    "    LineBasicMaterial(color=Colors.RGBA(1,0.6,0.0)), \"Line\"))\n",
    "\n",
    "    # Visualize quaternion at end of solution via coordinate frame\n",
    "    settransform!(vis[\"coordinate_frame_sol\"], Translation(Xsol[end][1:3]) ∘ LinearMap(UnitQuaternion(rptoq(Xsol[end][4:6]))))\n",
    "    # Visualize quaternion at corresponding reference trajectory knot point via coordinate frame\n",
    "    settransform!(vis[\"coordinate_frame_ref\"], Translation(Xref[i][1:3]) ∘ LinearMap(UnitQuaternion(Xref[i][4:7])))\n",
    "\n",
    "    # Visualize history\n",
    "    xhist = [Xhist[:,j] for j in 1:i]\n",
    "    delete!(vis[\"xHistLine\"])\n",
    "    xHistLine = [Point(x_[1], x_[2], x_[3]+0.001) for x_ in xhist]\n",
    "    setobject!(vis[\"xHistLine\"], Object(PointCloud(xHistLine), \n",
    "    LineBasicMaterial(color=Colors.RGBA(0.75,0.5,0.8)), \"Line\"))\n",
    "\n",
    "    sleep(0.05)\n",
    "end"
   ]
  },
  {
   "cell_type": "code",
   "execution_count": 128,
   "metadata": {},
   "outputs": [
    {
     "data": {
      "text/plain": [
       "4×250 Matrix{Float64}:\n",
       " 0.625569  0.622031  0.614314  0.608609  …  NaN  NaN  NaN  NaN  NaN  NaN  NaN\n",
       " 0.643744  0.629284  0.61986   0.610438     NaN  NaN  NaN  NaN  NaN  NaN  NaN\n",
       " 0.628219  0.619071  0.614609  0.608713     NaN  NaN  NaN  NaN  NaN  NaN  NaN\n",
       " 0.641759  0.631607  0.619527  0.610399     NaN  NaN  NaN  NaN  NaN  NaN  NaN"
      ]
     },
     "metadata": {},
     "output_type": "display_data"
    }
   ],
   "source": [
    "Uhist"
   ]
  },
  {
   "cell_type": "code",
   "execution_count": 42,
   "metadata": {},
   "outputs": [],
   "source": [
    "for i in 1:size(Xhist, 2)\n",
    "    settransform!(vis[coordinate_frame_name], Translation(Xhist[:,i][1:3]) ∘ LinearMap(UnitQuaternion(Xhist[:,i][4:7])))\n",
    "    sleep(0.01)\n",
    "end"
   ]
  }
 ],
 "metadata": {
  "kernelspec": {
   "display_name": "Julia 1.6.7",
   "language": "julia",
   "name": "julia-1.6"
  },
  "language_info": {
   "file_extension": ".jl",
   "mimetype": "application/julia",
   "name": "julia",
   "version": "1.6.7"
  }
 },
 "nbformat": 4,
 "nbformat_minor": 4
}
