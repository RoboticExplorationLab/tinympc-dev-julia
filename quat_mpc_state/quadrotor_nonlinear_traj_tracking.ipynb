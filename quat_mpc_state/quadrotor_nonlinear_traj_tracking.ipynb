{
 "cells": [
  {
   "cell_type": "code",
   "execution_count": 1,
   "metadata": {},
   "outputs": [
    {
     "name": "stderr",
     "output_type": "stream",
     "text": [
      "\u001b[32m\u001b[1m  Activating\u001b[22m\u001b[39m environment at `~/Git/solvers/tinympc/tinympc-dev-julia/quat_mpc_state/Project.toml`\n"
     ]
    }
   ],
   "source": [
    "import Pkg;\n",
    "Pkg.activate(@__DIR__);\n",
    "Pkg.instantiate();"
   ]
  },
  {
   "cell_type": "code",
   "execution_count": 2,
   "metadata": {},
   "outputs": [
    {
     "data": {
      "text/plain": [
       "E (generic function with 1 method)"
      ]
     },
     "metadata": {},
     "output_type": "display_data"
    }
   ],
   "source": [
    "using LinearAlgebra\n",
    "using BlockDiagonals\n",
    "using ForwardDiff\n",
    "using Plots\n",
    "using Random;\n",
    "using Printf\n",
    "\n",
    "using RobotZoo: Quadrotor\n",
    "using RobotDynamics\n",
    "using MeshCat\n",
    "using ColorTypes\n",
    "using TrajOptPlots\n",
    "using GeometryBasics: Point, Cylinder\n",
    "using CoordinateTransformations\n",
    "using Rotations\n",
    "\n",
    "include(\"../quaternion-stuff.jl\")"
   ]
  },
  {
   "cell_type": "code",
   "execution_count": 3,
   "metadata": {},
   "outputs": [
    {
     "data": {
      "text/plain": [
       "4"
      ]
     },
     "metadata": {},
     "output_type": "display_data"
    }
   ],
   "source": [
    "#Quadrotor parameters\n",
    "m = 0.035\n",
    "ℓ = 0.046\n",
    "J = [16.6e-6 0.83e-6 0.72e-6\n",
    "    0.83e-6 16.6e-6 1.8e-6\n",
    "    0.72e-6 1.8e-6 29.3e-6];\n",
    "g = 9.81\n",
    "# thrustToTorque = 0.005964552\n",
    "thrustToTorque = 0.0008\n",
    "ℓ = 0.046 / sqrt(2)\n",
    "scale = 65535\n",
    "kt = 2.245365e-6 * scale # u is PWM in range [0...1]\n",
    "km = kt * thrustToTorque #4.4733e-8\n",
    "\n",
    "freq1 = 50\n",
    "h = 1 / freq1 #50 Hz\n",
    "\n",
    "nx = 12     # number of states (linearized)\n",
    "nu = 4     # number of controls"
   ]
  },
  {
   "cell_type": "code",
   "execution_count": 4,
   "metadata": {},
   "outputs": [
    {
     "data": {
      "text/plain": [
       "quad_dynamics_rk4 (generic function with 1 method)"
      ]
     },
     "metadata": {},
     "output_type": "display_data"
    }
   ],
   "source": [
    "function quad_dynamics(x, u)\n",
    "  r = x[1:3]\n",
    "  q = x[4:7] / norm(x[4:7]) #normalize q just to be careful\n",
    "  v = x[8:10]\n",
    "  ω = x[11:13]\n",
    "  Q = qtoQ(q)\n",
    "\n",
    "  ṙ = v\n",
    "  q̇ = 0.5 * L(q) * H * ω\n",
    "\n",
    "  v̇ = [0; 0; -g] + (1 / m) * Q * [zeros(2, 4); kt * ones(1, 4)] * u\n",
    "\n",
    "  ω̇ = J \\ (-hat(ω) * J * ω + [-ℓ*kt -ℓ*kt ℓ*kt ℓ*kt; -ℓ*kt ℓ*kt ℓ*kt -ℓ*kt; -km km -km km] * u)\n",
    "\n",
    "  return [ṙ; q̇; v̇; ω̇]\n",
    "end\n",
    "\n",
    "function quad_dynamics_rk4(x, u, h)\n",
    "  #RK4 integration with zero-order hold on u\n",
    "  f1 = quad_dynamics(x, u)\n",
    "  f2 = quad_dynamics(x + 0.5 * h * f1, u)\n",
    "  f3 = quad_dynamics(x + 0.5 * h * f2, u)\n",
    "  f4 = quad_dynamics(x + h * f3, u)\n",
    "  xn = x + (h / 6.0) * (f1 + 2 * f2 + 2 * f3 + f4)\n",
    "  xn[4:7] .= xn[4:7] / norm(xn[4:7]) #re-normalize quaternion\n",
    "  return xn\n",
    "end"
   ]
  },
  {
   "cell_type": "code",
   "execution_count": 5,
   "metadata": {},
   "outputs": [
    {
     "name": "stdout",
     "output_type": "stream",
     "text": [
      "uhover = (((m * g) / kt) / 4) * ones(4) = [0.5833333520642209, 0.5833333520642209, 0.5833333520642209, 0.5833333520642209]\n"
     ]
    }
   ],
   "source": [
    "# Goal state\n",
    "@show uhover = (m * g / kt / 4) * ones(4)  # m = 30g and max thrust = 60g\n",
    "rg = [0.0; 0; 0.0]\n",
    "qg = [1.0; 0; 0; 0]\n",
    "vg = zeros(3)\n",
    "ωg = zeros(3)\n",
    "xg = [rg; qg; vg; ωg];"
   ]
  },
  {
   "cell_type": "code",
   "execution_count": 6,
   "metadata": {},
   "outputs": [],
   "source": [
    "# Linearize dynamics about hover\n",
    "A = ForwardDiff.jacobian(x -> quad_dynamics_rk4(x, uhover, h), xg)\n",
    "B = ForwardDiff.jacobian(u -> quad_dynamics_rk4(xg, u, h), uhover);\n",
    "Ã = Array(E(qg)' * A * E(qg))\n",
    "B̃ = Array(E(qg)' * B);"
   ]
  },
  {
   "cell_type": "code",
   "execution_count": 7,
   "metadata": {},
   "outputs": [
    {
     "name": "stderr",
     "output_type": "stream",
     "text": [
      "┌ Info: MeshCat server started. You can open the visualizer by visiting the following URL in your browser:\n",
      "│ http://127.0.0.1:8702\n",
      "└ @ MeshCat /home/sam/.julia/packages/MeshCat/GlCMx/src/visualizer.jl:73\n"
     ]
    },
    {
     "data": {
      "text/plain": [
       "false"
      ]
     },
     "metadata": {},
     "output_type": "display_data"
    }
   ],
   "source": [
    "vis = Visualizer()\n",
    "quad_model = Quadrotor()\n",
    "TrajOptPlots.set_mesh!(vis, quad_model)"
   ]
  },
  {
   "cell_type": "code",
   "execution_count": 86,
   "metadata": {},
   "outputs": [
    {
     "data": {
      "text/plain": [
       "\"ihlqr converged in 311 iterations\""
      ]
     },
     "metadata": {},
     "output_type": "display_data"
    }
   ],
   "source": [
    "include(\"../LibTinyMPC.jl\")\n",
    "\n",
    "Tfinal = 5.0\n",
    "NTOTAL = Int(Tfinal/h)+1\n",
    "\n",
    "# Reference trajectory\n",
    "X̃ref = [zeros(nx) for i = 1:NTOTAL]\n",
    "scale = 5\n",
    "# Xref = [[sin(2*t); 1.5*cos(t); 0.7*sin(3*t); 1; zeros(9)] for t in range(-pi/2*2, 3*pi/2*2, length=NTOTAL)] # mega pringle\n",
    "# Xref = [[sin(scale*t)*cos(t); cos(scale*t)*cos(t); 0.75*sin(t); 1; zeros(9)] for t in range(0, 2*pi, length=NTOTAL)] # ball\n",
    "# Xref = [[0.05; t; 0.5;   1; zeros(3);   zeros(6)] for t = range(0, 5, length = NTOTAL)]; # straight line\n",
    "# Xref = [zeros(nx+1) for i = 1:NTOTAL] # origin\n",
    "\n",
    "Xref = [[0.0; t; 0.5;   1; zeros(3);   zeros(6)] for t = range(0, 5, length = NTOTAL)]; # straight line with barrel roll\n",
    "num_ref_points = length(Xref)\n",
    "# start barrel roll at 2/5 and end at 3/5 of trajectory\n",
    "start_barrel_roll_ratio = 2.0/5.0\n",
    "end_barrel_roll_ratio = 3.0/5.0\n",
    "num_point_in_barrel_roll = Int(floor(num_ref_points * (end_barrel_roll_ratio - start_barrel_roll_ratio)))\n",
    "barrel_roll_angles = LinRange(0.0, 2*pi, num_point_in_barrel_roll) # create rough desired angles for barrel roll\n",
    "quats = [[cos(α/2), 0, sin(α/2), 0] for α in barrel_roll_angles]\n",
    "\n",
    "start_barrel_roll_index = Int(floor(num_ref_points*start_barrel_roll_ratio))\n",
    "for i in 1:num_point_in_barrel_roll\n",
    "    Xref[i+start_barrel_roll_index][4:7] = quats[i]\n",
    "end\n",
    "\n",
    "Uref = [zeros(nu) for i = 1:NTOTAL-1]\n",
    "\n",
    "# Compute reference velocity from reference position\n",
    "for i = 1:NTOTAL-1\n",
    "    Xref[i][8:10] = (Xref[i+1][1:3] - Xref[i][1:3])/h\n",
    "end\n",
    "\n",
    "# Convert (13 state) Xref to reduced form (12 state) X̃ref\n",
    "for k = 1:NTOTAL\n",
    "    x = Xref[k]\n",
    "    qx = x[4:7]\n",
    "    ϕ = qtorp(L(qg)'*qx)\n",
    "    X̃ref[k] = [x[1:3]; ϕ; x[8:10]; x[11:13]]\n",
    "end\n",
    "\n",
    "X̃ref = hcat(X̃ref...)\n",
    "Uref = hcat(Uref...)\n",
    "\n",
    "# Visualize reference\n",
    "delete!(vis[\"xHistLine\"])\n",
    "delete!(vis[\"XrefLine\"])\n",
    "XrefLine = [Point(x_[1], x_[2], x_[3]) for x_ in Xref]\n",
    "setobject!(vis[\"XrefLine\"], Object(PointCloud(XrefLine), \n",
    "        LineBasicMaterial(color=Colors.RGBA(0.0, 0.45, 1.0)), \"Line\"))\n",
    "\n",
    "max_dev_x = [0.001; 0.001; 0.001; 0.5; 0.5; 0.05; 0.5; 0.5; 0.5; 0.7; 0.7; 0.2] / 1\n",
    "max_dev_u = [0.5; 0.5; 0.5; 0.5] / 10\n",
    "Q = diagm(1 ./ (max_dev_x .^ 2))\n",
    "R = diagm(1 ./ (max_dev_u .^ 2))\n",
    "\n",
    "Nh = 100\n",
    "\n",
    "solver = TinySolver(Ã, B̃, Q, R, Nh, X̃ref, Uref);"
   ]
  },
  {
   "cell_type": "code",
   "execution_count": null,
   "metadata": {},
   "outputs": [],
   "source": [
    "# Create more caches for different attitudes\n",
    "\n",
    "xbar = RBState(quad_model, Xhist[:,1])\n",
    "if quad_model.ned\n",
    "    rq = position(xbar)\n",
    "    vq = linear_velocity(xbar)\n",
    "    rq = SA[rq[1],-rq[2],-rq[3]]\n",
    "    vq = SA[vq[1],-vq[2],-vq[3]]\n",
    "    xbar = RBState(rq, RotX(pi)*orientation(xbar), vq, angular_velocity(xbar)) \n",
    "end\n",
    "settransform!(vis[\"robot\"], Translation(position(xbar)) ∘ LinearMap(UnitQuaternion(orientation(xbar))))\n"
   ]
  },
  {
   "cell_type": "code",
   "execution_count": 103,
   "metadata": {},
   "outputs": [],
   "source": [
    "linearization_angles = LinRange(0.0, 2*pi, 9)\n",
    "quats_linearize = [[cos(α/2), 0, sin(α/2), 0] for α in linearization_angles[1:end-1]]\n",
    "for quat in quats_linearize\n",
    "    settransform!(vis[coordinate_frame_name], Translation(0, 0, 0.5) ∘ LinearMap(UnitQuaternion(quat)))\n",
    "    sleep(0.5)\n",
    "end"
   ]
  },
  {
   "cell_type": "code",
   "execution_count": 82,
   "metadata": {},
   "outputs": [],
   "source": [
    "for i in 1:length(Xref)\n",
    "    settransform!(vis[coordinate_frame_name], Translation(Xref[i][1:3]) ∘ LinearMap(UnitQuaternion(Xref[i][4:7])))\n",
    "    sleep(0.01)\n",
    "end"
   ]
  },
  {
   "cell_type": "code",
   "execution_count": 11,
   "metadata": {},
   "outputs": [
    {
     "data": {
      "text/plain": [
       "MeshCat Visualizer with path /meshcat/solution_end_horizon_frame/zarrow/head at http://127.0.0.1:8702"
      ]
     },
     "metadata": {},
     "output_type": "display_data"
    }
   ],
   "source": [
    "coordinate_frame_name = \"solution_end_horizon_frame\"\n",
    "\n",
    "x_arrow_material = LineBasicMaterial(color=Colors.RGBA(0.55,0.1,0.1,1.0))\n",
    "x_shaft = Cylinder(zero(Point{3, Float64}), Point(0.2, 0.0, 0.0), 0.01)\n",
    "setobject!(vis[coordinate_frame_name][:xarrow][:shaft], x_shaft, x_arrow_material)\n",
    "x_head = Cone(Point(0.2, 0.0, 0.0), Point(0.25, 0.0, 0.0), 0.025)\n",
    "setobject!(vis[coordinate_frame_name][:xarrow][:head], x_head, x_arrow_material)\n",
    "\n",
    "y_arrow_material = LineBasicMaterial(color=Colors.RGBA(0.1,0.55,0.1,1.0))\n",
    "y_shaft = Cylinder(zero(Point{3, Float64}), Point(0.0, 0.2, 0.0), 0.01)\n",
    "setobject!(vis[coordinate_frame_name][:yarrow][:shaft], y_shaft, y_arrow_material)\n",
    "y_head = Cone(Point(0.0, 0.2, 0.0), Point(0.0, 0.25, 0.0), 0.025)\n",
    "setobject!(vis[coordinate_frame_name][:yarrow][:head], y_head, y_arrow_material)\n",
    "\n",
    "z_arrow_material = LineBasicMaterial(color=Colors.RGBA(0.1,0.1,0.55,1.0))\n",
    "z_shaft = Cylinder(zero(Point{3, Float64}), Point(0.0, 0.0, 0.2), 0.01)\n",
    "setobject!(vis[coordinate_frame_name][:zarrow][:shaft], z_shaft, z_arrow_material)\n",
    "z_head = Cone(Point(0.0, 0.0, 0.2), Point(0.0, 0.0, 0.25), 0.025)\n",
    "setobject!(vis[coordinate_frame_name][:zarrow][:head], z_head, z_arrow_material)\n",
    "\n",
    "# delete!(vis[coordinate_frame_name])"
   ]
  },
  {
   "cell_type": "code",
   "execution_count": 87,
   "metadata": {},
   "outputs": [],
   "source": [
    "include(\"../LibTinyMPC.jl\")\n",
    "x0 = X̃ref[:,1] + randn(nx)*0.0\n",
    "Xhist = zeros(nx+1, NTOTAL)\n",
    "Xhist[:,1] .= [x0[1:3]; rptoq(x0[4:6]); x0[7:12]]\n",
    "Uhist = zeros(nu, NTOTAL-1)\n",
    "\n",
    "for i = 1:NTOTAL-1\n",
    "    # Update initial state\n",
    "    solver.workspace.x[:,1] = [Xhist[:,i][1:3]; qtorp(Xhist[:,i][4:7]); Xhist[:,i][8:end]]\n",
    "\n",
    "    # Update reference\n",
    "    if i < NTOTAL - Nh\n",
    "        solver.workspace.Xref = X̃ref[:,i:i+Nh-1]\n",
    "    else\n",
    "        solver.workspace.Xref = [X̃ref[:,i:end] repeat(X̃ref[:,end], 1, i+Nh-NTOTAL)]\n",
    "    end\n",
    "\n",
    "    # Solve\n",
    "    solve_admm!(solver)\n",
    "    Uhist[:,i] .= solver.workspace.u[:,1] + uhover\n",
    "\n",
    "    # Simulate with control\n",
    "    Xhist[:,i+1] = quad_dynamics_rk4(Xhist[:,i], Uhist[:,i], h)\n",
    "\n",
    "\n",
    "\n",
    "\n",
    "\n",
    "\n",
    "\n",
    "\n",
    "    # Visualization stuff\n",
    "\n",
    "    # Update quadrotor transform\n",
    "    xbar = RBState(quad_model, Xhist[:,i])\n",
    "    if quad_model.ned\n",
    "        rq = position(xbar)\n",
    "        vq = linear_velocity(xbar)\n",
    "        rq = SA[rq[1],-rq[2],-rq[3]]\n",
    "        vq = SA[vq[1],-vq[2],-vq[3]]\n",
    "        xbar = RBState(rq, RotX(pi)*orientation(xbar), vq, angular_velocity(xbar)) \n",
    "    end\n",
    "    settransform!(vis[\"robot\"], Translation(position(xbar)) ∘ LinearMap(UnitQuaternion(orientation(xbar))))\n",
    "    \n",
    "    # Visualize solution\n",
    "    delete!(vis[\"xLinearized\"])\n",
    "    Xsol = [solver.workspace.x[:,j] for j in 1:size(solver.workspace.x, 2)]\n",
    "    x_linearized = [Point(x_[1], x_[2], x_[3]) for x_ in Xsol]\n",
    "    setobject!(vis[\"xLinearized\"], Object(PointCloud(x_linearized), \n",
    "    LineBasicMaterial(color=Colors.RGBA(1,0.6,0.0)), \"Line\"))\n",
    "\n",
    "    # Visualize quaternion at end of solution via coordinate frame\n",
    "    settransform!(vis[coordinate_frame_name], Translation(Xsol[end][1:3]) ∘ LinearMap(UnitQuaternion(rptoq(Xsol[end][4:6]))))\n",
    "\n",
    "    # Visualize history\n",
    "    xhist = [Xhist[:,j] for j in 1:i]\n",
    "    delete!(vis[\"xHistline\"])\n",
    "    xHistline = [Point(x_[1], x_[2], x_[3]) for x_ in xhist]\n",
    "    setobject!(vis[\"xHistline\"], Object(PointCloud(xHistline), \n",
    "    LineBasicMaterial(color=Colors.RGBA(0.75,0.5,0.8)), \"Line\"))\n",
    "\n",
    "    sleep(0.01)\n",
    "end"
   ]
  },
  {
   "cell_type": "code",
   "execution_count": 145,
   "metadata": {},
   "outputs": [],
   "source": [
    "for i in 1:size(Xhist, 2)\n",
    "    settransform!(vis[coordinate_frame_name], Translation(Xhist[:,i][1:3]) ∘ LinearMap(UnitQuaternion(Xhist[:,i][4:7])))\n",
    "    sleep(0.01)\n",
    "end"
   ]
  }
 ],
 "metadata": {
  "kernelspec": {
   "display_name": "Julia 1.6.7",
   "language": "julia",
   "name": "julia-1.6"
  },
  "language_info": {
   "file_extension": ".jl",
   "mimetype": "application/julia",
   "name": "julia",
   "version": "1.6.7"
  }
 },
 "nbformat": 4,
 "nbformat_minor": 4
}
