{
 "cells": [
  {
   "cell_type": "code",
   "execution_count": 860,
   "metadata": {},
   "outputs": [
    {
     "name": "stderr",
     "output_type": "stream",
     "text": [
      "\u001b[32m\u001b[1m  Activating\u001b[22m\u001b[39m environment at `~/SSD/Code/Julia/tinympc-julia/quadrotor_traj_gen/Project.toml`\n"
     ]
    }
   ],
   "source": [
    "import Pkg; Pkg.activate(@__DIR__); Pkg.instantiate()"
   ]
  },
  {
   "cell_type": "code",
   "execution_count": 861,
   "metadata": {},
   "outputs": [],
   "source": [
    "using LinearAlgebra\n",
    "using BlockDiagonals\n",
    "using ForwardDiff\n",
    "using Plots\n",
    "using Random\n",
    "using JuMP\n",
    "using COSMO\n",
    "using OSQP\n",
    "using Printf"
   ]
  },
  {
   "cell_type": "code",
   "execution_count": 862,
   "metadata": {},
   "outputs": [
    {
     "name": "stderr",
     "output_type": "stream",
     "text": [
      "┌ Info: MeshCat server started. You can open the visualizer by visiting the following URL in your browser:\n",
      "│ http://127.0.0.1:8725\n",
      "└ @ MeshCat /home/khai/.julia/packages/MeshCat/GlCMx/src/visualizer.jl:73\n"
     ]
    },
    {
     "data": {
      "text/html": [
       "    <div style=\"height: 500px; width: 100%; overflow-x: auto; overflow-y: hidden; resize: both\">\n",
       "    <iframe src=\"http://127.0.0.1:8725\" style=\"width: 100%; height: 100%; border: none\"></iframe>\n",
       "    </div>\n"
      ],
      "text/plain": [
       "MeshCat.DisplayedVisualizer(MeshCat.CoreVisualizer(MeshCat.SceneTrees.SceneNode(nothing, nothing, Dict{String, Vector{UInt8}}(), nothing, Dict{String, MeshCat.SceneTrees.SceneNode}()), Set{Any}(), ip\"127.0.0.1\", 8725))"
      ]
     },
     "metadata": {},
     "output_type": "display_data"
    }
   ],
   "source": [
    "#Set up visualization\n",
    "using TrajOptPlots\n",
    "using MeshCat\n",
    "using StaticArrays\n",
    "using RobotZoo:Quadrotor\n",
    "\n",
    "vis = Visualizer()\n",
    "render(vis)"
   ]
  },
  {
   "cell_type": "code",
   "execution_count": 863,
   "metadata": {},
   "outputs": [
    {
     "data": {
      "text/plain": [
       "E (generic function with 1 method)"
      ]
     },
     "metadata": {},
     "output_type": "display_data"
    }
   ],
   "source": [
    "#Quaternion stuff\n",
    "function hat(v)\n",
    "    return [0 -v[3] v[2];\n",
    "            v[3] 0 -v[1];\n",
    "            -v[2] v[1] 0]\n",
    "end\n",
    "function L(q)\n",
    "    s = q[1]\n",
    "    v = q[2:4]\n",
    "    L = [s    -v';\n",
    "         v  s*I+hat(v)]\n",
    "    return L\n",
    "end\n",
    "T = Diagonal([1; -ones(3)])\n",
    "H = [zeros(1,3); I]\n",
    "function qtoQ(q)\n",
    "    return H'*T*L(q)*T*L(q)*H\n",
    "end\n",
    "function G(q)\n",
    "    G = L(q)*H\n",
    "end\n",
    "function rptoq(ϕ)\n",
    "    (1/sqrt(1+ϕ'*ϕ))*[1; ϕ]\n",
    "end\n",
    "function qtorp(q)\n",
    "    q[2:4]/q[1]\n",
    "end\n",
    "function E(q)\n",
    "    E = BlockDiagonal([1.0*I(3), G(q), 1.0*I(6)])\n",
    "end"
   ]
  },
  {
   "cell_type": "code",
   "execution_count": 864,
   "metadata": {},
   "outputs": [
    {
     "data": {
      "text/plain": [
       "4"
      ]
     },
     "metadata": {},
     "output_type": "display_data"
    }
   ],
   "source": [
    "#Quadrotor parameters\n",
    "m = 0.035\n",
    "ℓ = 0.046\n",
    "J = [16.6e-6 0.83e-6 0.72e-6;\n",
    "    0.83e-6 16.6e-6 1.8e-6;\n",
    "    0.72e-6 1.8e-6 29.3e-6];\n",
    "g = 9.81\n",
    "# thrustToTorque = 0.005964552\n",
    "thrustToTorque = 0.0008\n",
    "ℓ = 0.046/sqrt(2)\n",
    "scale = 65535\n",
    "kt = 2.245365e-6*scale # u is PWM in range [0...1]\n",
    "km = kt*thrustToTorque #4.4733e-8\n",
    "\n",
    "freq1 = 20\n",
    "h = 1/freq1 #50 Hz\n",
    "\n",
    "Nx = 13     # number of states (quaternion)\n",
    "Nx̃ = 12     # number of states (linearized)\n",
    "Nu = 4     # number of controls\n",
    "nx = Nx̃\n",
    "nu = Nu"
   ]
  },
  {
   "cell_type": "code",
   "execution_count": 865,
   "metadata": {},
   "outputs": [
    {
     "data": {
      "text/plain": [
       "quad_dynamics_rk4 (generic function with 1 method)"
      ]
     },
     "metadata": {},
     "output_type": "display_data"
    }
   ],
   "source": [
    "function quad_dynamics(x,u)\n",
    "  r = x[1:3]\n",
    "  q = x[4:7]/norm(x[4:7]) #normalize q just to be careful\n",
    "  v = x[8:10]\n",
    "  ω = x[11:13]\n",
    "  Q = qtoQ(q)\n",
    "  \n",
    "  ṙ = v\n",
    "  q̇ = 0.5*L(q)*H*ω\n",
    "  \n",
    "  v̇ = [0; 0; -g] + (1/m)*Q*[zeros(2,4); kt*ones(1,4)]*u \n",
    "\n",
    "  ω̇ = J\\(-hat(ω)*J*ω + [-ℓ*kt -ℓ*kt ℓ*kt ℓ*kt; -ℓ*kt ℓ*kt ℓ*kt -ℓ*kt; -km km -km km]*u)\n",
    "  \n",
    "  return [ṙ; q̇; v̇; ω̇]\n",
    "end\n",
    "function quad_dynamics_rk4(x,u)\n",
    "  #RK4 integration with zero-order hold on u\n",
    "  f1 = quad_dynamics(x, u)\n",
    "  f2 = quad_dynamics(x + 0.5*h*f1, u)\n",
    "  f3 = quad_dynamics(x + 0.5*h*f2, u)\n",
    "  f4 = quad_dynamics(x + h*f3, u)\n",
    "  xn = x + (h/6.0)*(f1 + 2*f2 + 2*f3 + f4)\n",
    "  xn[4:7] .= xn[4:7]/norm(xn[4:7]) #re-normalize quaternion\n",
    "  return xn\n",
    "end"
   ]
  },
  {
   "cell_type": "code",
   "execution_count": 866,
   "metadata": {},
   "outputs": [
    {
     "name": "stdout",
     "output_type": "stream",
     "text": [
      "uhover = (((m * g) / kt) / 4) * ones(4) = [0.5833333520642209, 0.5833333520642209, 0.5833333520642209, 0.5833333520642209]\n"
     ]
    }
   ],
   "source": [
    "#Goal state\n",
    "@show uhover = (m*g/kt/4)*ones(4)  # m = 30g and max thrust = 60g\n",
    "rg = [0.0; 0; 0.0]\n",
    "qg = [1.0; 0; 0; 0]\n",
    "vg = zeros(3)\n",
    "ωg = zeros(3)\n",
    "xg = [rg; qg; vg; ωg];"
   ]
  },
  {
   "cell_type": "code",
   "execution_count": 867,
   "metadata": {},
   "outputs": [],
   "source": [
    "#Linearize dynamics about hover\n",
    "A = ForwardDiff.jacobian(x->quad_dynamics_rk4(x,uhover),xg)\n",
    "B = ForwardDiff.jacobian(u->quad_dynamics_rk4(xg,u),uhover);\n",
    "Ã = Array(E(qg)'*A*E(qg))\n",
    "B̃ = Array(E(qg)'*B);\n",
    "function discrete_dynamics(params,x,u,k)\n",
    "  Ã*x + B̃*u \n",
    "end"
   ]
  },
  {
   "cell_type": "code",
   "execution_count": null,
   "metadata": {},
   "outputs": [],
   "source": [
    "# Cost weights\n",
    "# Saved\n",
    "# max_dev_x = [0.1; 0.1; 0.1;  0.5; 0.5; 0.05;  0.5; 0.5; 0.5;  0.5; 0.5; 0.1]\n",
    "# max_dev_u = [0.5; 0.5; 0.5; 0.5]/10\n",
    "max_dev_x = [0.1; 0.1; 0.1;  0.5; 0.5; 0.03;  0.5; 0.5; 0.5;  0.7; 0.7; 0.2]/10\n",
    "max_dev_u = [0.5; 0.5; 0.5; 0.5]\n",
    "Q = diagm(1 ./(max_dev_x.^2))\n",
    "R = diagm(1 ./(max_dev_u.^2))\n",
    "Qf = 10*Q"
   ]
  },
  {
   "cell_type": "code",
   "execution_count": null,
   "metadata": {},
   "outputs": [],
   "source": [
    "#Feedback tracking controller\n",
    "include(\"tinyMPC.jl\")\n",
    "include(\"mpc_JuMP.jl\")\n",
    "dt = 1/freq1\n",
    "Tfinal = 20.0 # final time\n",
    "Nt = Int(Tfinal/dt)+1    # number of time steps\n",
    "N = Nt\n",
    "Nh = Nt\n",
    "t_vec = h*(0:Nt-1)\n",
    "\n",
    "#Create trajectory to follow\n",
    "Xref = [[zeros(3); 1; zeros(9)] for i = 1:Nt]\n",
    "Δx̃ref = [zeros(nx) for i = 1:Nt]\n",
    "ΔUref = [zeros(nu) for i = 1:Nt-1]\n",
    "\n",
    "## Hovering\n",
    "# Xref = [xg for i = 1:Nt]\n",
    "\n",
    "## Number-eight\n",
    "# Xref = [[1*cos(t)*sin(t);1*cos(t);1;1;zeros(9)] for t = range(-pi/2, 3*pi/2, length = Nt)]  \n",
    "\n",
    "## Fast circle\n",
    "radius = 1.2\n",
    "Xref = [[radius*cos(t); radius*sin(t); 1; 1; zeros(9)] for t = range(-pi/2, 3*pi/2+2*pi, length = Nt)]  \n",
    "\n",
    "# Triangle\n",
    "# p0 = [0; 0; 1.0]; p1 = [3; 4; 1.]; p2 = [0; 8; 1.]; p3 = [0; 0; 1.0]\n",
    "# range1 = collect(LinRange(p0, p1, round(Int,(Nt)/3)))\n",
    "# range2 = collect(LinRange(p1, p2, round(Int,(Nt)/3)))\n",
    "# range3 = collect(LinRange(p2, p3, round(Int,(Nt)/3)+1))\n",
    "# range123 = [range1; range2; range3]\n",
    "# for k = 1:Nt\n",
    "#     Xref[k][1:3] .= range123[k]\n",
    "# end\n",
    "\n",
    "## Square\n",
    "# p0 = [0; 0; 1]; p1 = [2; 0; 1]; p2 = [2; 2; 1]; p3 = [0; 2; 1]\n",
    "# range1 = collect(LinRange(p0, p1, round(Int,(Nt)/4)))\n",
    "# range2 = collect(LinRange(p1, p2, round(Int,(Nt)/4)))\n",
    "# range3 = collect(LinRange(p2, p3, round(Int,(Nt)/4)))\n",
    "# range4 = collect(LinRange(p3, p0, round(Int,(Nt)/4)+1))\n",
    "# range1234 = [range1; range2; range3; range4]\n",
    "# for k = 1:Nt\n",
    "#     Xref[k][1:3] .= range1234[k]\n",
    "# end\n",
    "\n",
    "## Vertical Circular Flip \n",
    "# p0 = [0; 0; 1; 1; 0; 0; 0]; \n",
    "# p1 = [0; 0.5; 1.5; 0.7071068; 0.7071068; 0; 0]; p2 = [0; 0; 2; 0; 1; 0; 0]; \n",
    "# p3 = [0; -0.5; 1.5; -0.7071068; 0.7071068; 0; 0]; p4 = [0; 0; 1; 1; 0; 0; 0];\n",
    "# range1 = collect(LinRange(p0, p1, round(Int,(Nt)/4)))\n",
    "# range2 = collect(LinRange(p1, p2, round(Int,(Nt)/4)))\n",
    "# range3 = collect(LinRange(p2, p3, round(Int,(Nt)/4)))\n",
    "# range4 = collect(LinRange(p3, p4, round(Int,(Nt)/4)+1))\n",
    "# range1234 = [range1; range2; range3; range4]\n",
    "# for k = 1:Nt\n",
    "#     Xref[k][1:7] .= range1234[k]\n",
    "#     Xref[k][4:7] .= Xref[k][4:7]/norm(Xref[k][4:7])\n",
    "# end\n",
    "# p0 = [0; 0; 1; 1; 0; 0; 0];\n",
    "# p1 = [-1; -1; 1; 0.7071068; 0; 0.7071068; 0]; p2 = [0; -2; 1; 1; 0; 0; 0]; \n",
    "# range1 = collect(LinRange(p0, p1, round(Int,(Nt)/2)))\n",
    "# range2 = collect(LinRange(p1, p2, round(Int,(Nt)/2)+1))\n",
    "# range1234 = [range1; range2]\n",
    "# for k = 1:Nt \n",
    "#     Xref[k][1:7] .= range1234[k]\n",
    "#     Xref[k][4:7] .= Xref[k][4:7]/norm(Xref[k][4:7])\n",
    "# end\n",
    "\n",
    "# Velocity reference: speeds up the tracking but less smooth\n",
    "for i = 1:Nt-1\n",
    "    Xref[i][8:10] = (Xref[i+1][1:3] - Xref[i][1:3])/dt\n",
    "end\n",
    "for k = 1:Nt\n",
    "    x = Xref[k]\n",
    "    q = x[4:7]\n",
    "    ϕ = qtorp(L(qg)'*q)   \n",
    "    Δx̃ref[k] .= [x[1:3]-rg; ϕ; x[8:10]-vg; x[11:13]-ωg]\n",
    "end  \n",
    "\n",
    "optimizer = JuMP.optimizer_with_attributes(OSQP.Optimizer,\n",
    "        \"verbose\"=>false,\n",
    "        \"eps_abs\"=>1e-3,\n",
    "        \"eps_rel\"=>1e-3,\n",
    "        \"eps_prim_inf\"=>1e-3,\n",
    "        \"eps_dual_inf\"=>1e-3,\n",
    "        \"max_iter\"=>1000)\n",
    "        # \"rho\"=>1e-2,\n",
    "        # \"scaling\"=>0,\n",
    "        # \"alpha\"=>1.0,)  \n",
    "\n",
    "model = Model(optimizer)\n",
    "\n",
    "u_min = -uhover + 0.1*[1; 1; 1; 1]\n",
    "u_max =  0.9*[1; 1; 1; 1] - uhover\n",
    "\n",
    "# state is x y v θ\n",
    "x_min = -100*ones(nx)\n",
    "x_min[3] = -0.2\n",
    "x_max = 100*ones(nx)\n",
    "x_max[3] = 0.2\n",
    "\n",
    "# previous MPC iterate\n",
    "X = [zeros(nx) for i = 1:N]\n",
    "X[1][1:3] .= Xref[1][1:3]\n",
    "U = [uhover for k = 1:N-1]\n",
    "\n",
    "params = (\n",
    "    nx = nx, nu = nu, ncx = 0, ncu = 1, ncg = 1, ncu_cone = 0,\n",
    "    N = N, Q = Q, R = R, Qf = Qf,\n",
    "    u_min = u_min, u_max = u_max,\n",
    "    x_min = x_min, x_max = x_max,\n",
    "    Xref = Δx̃ref, Uref = ΔUref, dt = dt, cache = cache\n",
    ");\n",
    "\n",
    "u = trajopt_JuMP!(optimizer, params, X, U, Ã, B̃, 0.0; warm_start=true)"
   ]
  },
  {
   "cell_type": "code",
   "execution_count": null,
   "metadata": {},
   "outputs": [],
   "source": [
    "# Plots\n",
    "Xsim_m = mat_from_vec(X)\n",
    "Usim_m = mat_from_vec(U)\n",
    "display(plot(t_vec,Xsim_m[1:7,:]',label=[\"x\" \"y\" \"z\" \"qw\" \"qx\" \"qy\" \"qz\"],\n",
    "linestyle=[:solid :solid :solid :dash :dash :dash :dash], linewidth=[2 2 2 2 2 2 2],\n",
    "             title=\"State Solution\", xlabel=\"time (s)\", ylabel=\"x\"))\n",
    "display(plot(t_vec[1:end-1],Usim_m',label=[\"u₁\" \"u₂\" \"u₃\" \"u₄\"],\n",
    "             title=\"Input Solution\", linewidth=[2 2 2 2 2 2 2],\n",
    "             xlabel=\"time (s)\", ylabel=\"u\"))"
   ]
  },
  {
   "cell_type": "code",
   "execution_count": null,
   "metadata": {},
   "outputs": [],
   "source": [
    "Xsim_m = mat_from_vec(Xref[1:N])\n",
    "plot(Xsim_m[2,:],Xsim_m[1,:],label=\"ref\",\n",
    "linestyle=:solid, linewidth=2,\n",
    "             title=\"State History\", xlabel=\"y\", ylabel=\"x\")\n",
    "Xsim_m = mat_from_vec(X[1:N])   \n",
    "display(plot!(Xsim_m[2,:],Xsim_m[1,:],label=\"real\", linestyle=:dash, linewidth=2,\n",
    "             title=\"State History\", xlabel=\"y\", ylabel=\"x\", aspect_ratio=:equal))"
   ]
  },
  {
   "cell_type": "code",
   "execution_count": null,
   "metadata": {},
   "outputs": [],
   "source": [
    "model = Quadrotor()\n",
    "TrajOptPlots.set_mesh!(vis, model)\n",
    "X1 = [zeros(13) for i = 1:Nt]\n",
    "for k = 1:Nt\n",
    "  x = 1*X[k]\n",
    "  ϕ = 1*x[4:6]\n",
    "  qq = 1*rptoq(ϕ)\n",
    "  X1[k] .= [x[1:3]+rg; qq; x[7:9]+vg; x[10:12]+ωg]\n",
    "end  \n",
    "X2 = [SVector{13}(x) for x in X1];\n",
    "visualize!(vis, model, t_vec[end], X2)"
   ]
  },
  {
   "cell_type": "code",
   "execution_count": null,
   "metadata": {},
   "outputs": [],
   "source": [
    "X_ref_data = [X[i][1:nx] for i = 1:Nt]\n",
    "interpl_step = Int(300/freq1)\n",
    "X_ref_data1 = [zeros(nx) for i = 1:(Nt)*interpl_step]\n",
    "for k = 1:Nt-1\n",
    "  X_ref_data1[((k-1)*interpl_step+1):k*interpl_step] .= collect(LinRange(X_ref_data[k], X_ref_data[k+1], interpl_step+1))[1:interpl_step]\n",
    "end\n",
    "X_ref_data1[((Nt-1)*interpl_step+1):Nt*interpl_step] .= X_ref_data1[((Nt-2)*interpl_step+1):(Nt-1)*interpl_step]\n",
    "\n",
    "# Export a vector of vectors to C header and source \n",
    "function export_vec_to_c(filename, var_type, var_name, data)\n",
    "  declare = var_type * \" \" * var_name\n",
    "  def = declare * \" = {\\n\"\n",
    "  for i=1:length(data)\n",
    "      def = def * \"  \"\n",
    "      for j=1:length(data[1])\n",
    "          def = def * @sprintf(\"%.4f\", data[i][j])\n",
    "          if j < length(data[1]) \n",
    "              def = def * \",\"\n",
    "          end\n",
    "      end\n",
    "      if i < length(data)\n",
    "          def = def * \",\\n\"\n",
    "      end\n",
    "  end\n",
    "  def = def*\"}\"\n",
    "\n",
    "  open(filename*\".h\",\"a\") do io\n",
    "          println(io, def * \";\\n\")\n",
    "  end\n",
    "  return true\n",
    "end\n",
    "export_vec_to_c(\"data\", \"static const float\", \"X_ref_data[]\", X_ref_data1)"
   ]
  },
  {
   "cell_type": "code",
   "execution_count": null,
   "metadata": {},
   "outputs": [],
   "source": [
    "U_ref_data = [U[i][1:nu] for i = 1:Nt-1]\n",
    "U_ref_data1 = [zeros(nx) for i = 1:(Nt-1)*interpl_step]\n",
    "for k = 1:Nt-2\n",
    "  U_ref_data1[(k-1)*interpl_step+1:k*interpl_step] .= collect(LinRange(U_ref_data[k], U_ref_data[k+1], interpl_step+1))[1:interpl_step]\n",
    "end\n",
    "export_vec_to_c(\"data\", \"static const float\", \"U_ref_data[]\", U_ref_data1)"
   ]
  }
 ],
 "metadata": {
  "kernelspec": {
   "display_name": "Julia 1.6.7",
   "language": "julia",
   "name": "julia-1.6"
  },
  "language_info": {
   "file_extension": ".jl",
   "mimetype": "application/julia",
   "name": "julia",
   "version": "1.6.7"
  }
 },
 "nbformat": 4,
 "nbformat_minor": 4
}
