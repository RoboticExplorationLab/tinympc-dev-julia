{
 "cells": [
  {
   "cell_type": "code",
   "execution_count": 1,
   "id": "ab2235ce-04bf-4ed1-82c7-6eb1c2f0bd1d",
   "metadata": {},
   "outputs": [
    {
     "name": "stderr",
     "output_type": "stream",
     "text": [
      "\u001b[32m\u001b[1m  Activating\u001b[22m\u001b[39m environment at `~/SSD/Code/Julia/tinympc-dev-julia/quadrotor_socp/Project.toml`\n"
     ]
    }
   ],
   "source": [
    "import Pkg; Pkg.activate(@__DIR__); Pkg.instantiate()"
   ]
  },
  {
   "cell_type": "code",
   "execution_count": 2,
   "id": "9e2caea3-a473-4674-9614-e5764f8c07e0",
   "metadata": {},
   "outputs": [],
   "source": [
    "using LinearAlgebra\n",
    "using PyPlot\n",
    "using Printf\n",
    "using Random"
   ]
  },
  {
   "cell_type": "code",
   "execution_count": 3,
   "id": "328e9710",
   "metadata": {},
   "outputs": [
    {
     "data": {
      "text/plain": [
       "export_diag_to_c (generic function with 1 method)"
      ]
     },
     "metadata": {},
     "output_type": "display_data"
    }
   ],
   "source": [
    "include(\"../LibTinyMPC_clean.jl\")"
   ]
  },
  {
   "cell_type": "code",
   "execution_count": 25,
   "id": "34103b5a-8e27-4361-ad0e-4246db21f07b",
   "metadata": {},
   "outputs": [
    {
     "data": {
      "text/plain": [
       "6×6 SparseArrays.SparseMatrixCSC{Float64, Int64} with 9 stored entries:\n",
       " 1.0   ⋅    ⋅   0.02   ⋅     ⋅ \n",
       "  ⋅   1.0   ⋅    ⋅    0.02   ⋅ \n",
       "  ⋅    ⋅   1.0   ⋅     ⋅    0.02\n",
       "  ⋅    ⋅    ⋅   1.0    ⋅     ⋅ \n",
       "  ⋅    ⋅    ⋅    ⋅    1.0    ⋅ \n",
       "  ⋅    ⋅    ⋅    ⋅     ⋅    1.0"
      ]
     },
     "metadata": {},
     "output_type": "display_data"
    },
    {
     "data": {
      "text/plain": [
       "6×3 SparseArrays.SparseMatrixCSC{Float64, Int64} with 6 stored entries:\n",
       " 0.0002   ⋅       ⋅ \n",
       "  ⋅      0.0002   ⋅ \n",
       "  ⋅       ⋅      0.0002\n",
       " 0.02     ⋅       ⋅ \n",
       "  ⋅      0.02     ⋅ \n",
       "  ⋅       ⋅      0.02"
      ]
     },
     "metadata": {},
     "output_type": "display_data"
    },
    {
     "data": {
      "text/plain": [
       "6-element Vector{Float64}:\n",
       "  0.0\n",
       "  0.0\n",
       " -0.001962\n",
       "  0.0\n",
       "  0.0\n",
       " -0.1962"
      ]
     },
     "metadata": {},
     "output_type": "display_data"
    },
    {
     "data": {
      "text/plain": [
       "TinySolver(TinySettings(0.01, 0.01, 100, 1, 0, 1, 0, 1), TinyCache(100.0, [0.0 0.0 … 0.0 0.0; 0.0 0.0 … 0.0 0.0; 0.0 0.0 … 0.0 0.0], [0.0 0.0 … 0.0 0.0; 0.0 0.0 … 0.0 0.0; … ; 0.0 0.0 … 0.0 0.0; 0.0 0.0 … 0.0 0.0], [0.0 0.0 0.0; 0.0 0.0 0.0; 0.0 0.0 0.0], [0.0 0.0 … 0.0 0.0; 0.0 0.0 … 0.0 0.0; … ; 0.0 0.0 … 0.0 0.0; 0.0 0.0 … 0.0 0.0], [0.0, 0.0, 0.0, 0.0, 0.0, 0.0], [0.0, 0.0, 0.0]), TinyWorkspace([0.0 0.0 … 0.0 0.0; 0.0 0.0 … 0.0 0.0; … ; 0.0 0.0 … 0.0 0.0; 0.0 0.0 … 0.0 0.0], [0.0 0.0 … 0.0 0.0; 0.0 0.0 … 0.0 0.0; 0.0 0.0 … 0.0 0.0], [0.0 0.0 … 0.0 0.0; 0.0 0.0 … 0.0 0.0; … ; 0.0 0.0 … 0.0 0.0; 0.0 0.0 … 0.0 0.0], [0.0 0.0 … 0.0 0.0; 0.0 0.0 … 0.0 0.0; 0.0 0.0 … 0.0 0.0], [0.0 0.0 … 0.0 0.0; 0.0 0.0 … 0.0 0.0; … ; 0.0 0.0 … 0.0 0.0; 0.0 0.0 … 0.0 0.0], [0.0 0.0 … 0.0 0.0; 0.0 0.0 … 0.0 0.0; 0.0 0.0 … 0.0 0.0], 1.0, 1.0, 1.0, 1.0, 0, 0, [0.0 0.0 … 0.0 0.0; 0.0 0.0 … 0.0 0.0; … ; 0.0 0.0 … 0.0 0.0; 0.0 0.0 … 0.0 0.0], [100.0 0.0 0.0; 0.0 100.0 0.0; 0.0 0.0 100.0], [1.0 0.0 … 0.0 0.0; 0.0 1.0 … 0.02 0.0; … ; 0.0 0.0 … 1.0 0.0; 0.0 0.0 … 0.0 1.0], [0.0002 0.0 0.0; 0.0 0.0002 0.0; … ; 0.0 0.02 0.0; 0.0 0.0 0.02], [0.0, 0.0, -0.001962, 0.0, 0.0, -0.1962], [0.0 0.018317043850693177 … 0.7702718169161326 0.7818236541924963; 1.0 0.9998322288787114 … 0.6377157110066523 0.6234996180793473; … ; 0.0 0.0 … 0.0 0.0; 0.0 0.0 … 0.0 0.0], [0.0 0.0 … 0.0 0.0; 0.0 0.0 … 0.0 0.0; 9.81 9.81 … 9.81 9.81], [0.0 0.0 0.0; 0.0 0.0 0.0; 0.0 0.0 0.0], TinyBounds([-10.0 -10.0 … -10.0 -10.0; -10.0 -10.0 … -10.0 -10.0; 0.0 0.0 … 0.0 0.0], [10.0 10.0 … 10.0 10.0; 10.0 10.0 … 10.0 10.0; 15.0 15.0 … 15.0 15.0], [-4.5 -4.5 … -4.5 -4.5; -4.5 -4.5 … -4.5 -4.5; … ; -10.0 -10.0 … -10.0 -10.0; -20.0 -20.0 … -20.0 -20.0], [4.5 4.5 … 4.5 4.5; 4.5 4.5 … 4.5 4.5; … ; 10.0 10.0 … 10.0 10.0; 20.0 20.0 … 20.0 20.0], [0.0 0.0 … 0.0 0.0; 0.0 0.0 … 0.0 0.0; 0.0 0.0 … 0.0 0.0], [0.0 0.0 … 0.0 0.0; 0.0 0.0 … 0.0 0.0; 0.0 0.0 … 0.0 0.0], [0.0 0.0 … 0.0 0.0; 0.0 0.0 … 0.0 0.0; … ; 0.0 0.0 … 0.0 0.0; 0.0 0.0 … 0.0 0.0], [0.0 0.0 … 0.0 0.0; 0.0 0.0 … 0.0 0.0; … ; 0.0 0.0 … 0.0 0.0; 0.0 0.0 … 0.0 0.0], [0.0 0.0 … 0.0 0.0; 0.0 0.0 … 0.0 0.0; 0.0 0.0 … 0.0 0.0], [0.0 0.0 … 0.0 0.0; 0.0 0.0 … 0.0 0.0; … ; 0.0 0.0 … 0.0 0.0; 0.0 0.0 … 0.0 0.0]), TinySocs(1, 0, [0.3, 0.0], [0.5, 0.0], [3, 0], [3, 0], [1, 0], [1, 0], [[0.0 0.0 … 0.0 0.0; 0.0 0.0 … 0.0 0.0; 0.0 0.0 … 0.0 0.0], [0.0 0.0 … 0.0 0.0; 0.0 0.0 … 0.0 0.0; 0.0 0.0 … 0.0 0.0]], [[0.0 0.0 … 0.0 0.0; 0.0 0.0 … 0.0 0.0; 0.0 0.0 … 0.0 0.0], [0.0 0.0 … 0.0 0.0; 0.0 0.0 … 0.0 0.0; 0.0 0.0 … 0.0 0.0]], [[0.0 0.0 … 0.0 0.0; 0.0 0.0 … 0.0 0.0; … ; 0.0 0.0 … 0.0 0.0; 0.0 0.0 … 0.0 0.0], [0.0 0.0 … 0.0 0.0; 0.0 0.0 … 0.0 0.0; … ; 0.0 0.0 … 0.0 0.0; 0.0 0.0 … 0.0 0.0]], [[0.0 0.0 … 0.0 0.0; 0.0 0.0 … 0.0 0.0; … ; 0.0 0.0 … 0.0 0.0; 0.0 0.0 … 0.0 0.0], [0.0 0.0 … 0.0 0.0; 0.0 0.0 … 0.0 0.0; … ; 0.0 0.0 … 0.0 0.0; 0.0 0.0 … 0.0 0.0]], [[0.0 0.0 … 0.0 0.0; 0.0 0.0 … 0.0 0.0; 0.0 0.0 … 0.0 0.0], [0.0 0.0 … 0.0 0.0; 0.0 0.0 … 0.0 0.0; 0.0 0.0 … 0.0 0.0]], [[0.0 0.0 … 0.0 0.0; 0.0 0.0 … 0.0 0.0; … ; 0.0 0.0 … 0.0 0.0; 0.0 0.0 … 0.0 0.0], [0.0 0.0 … 0.0 0.0; 0.0 0.0 … 0.0 0.0; … ; 0.0 0.0 … 0.0 0.0; 0.0 0.0 … 0.0 0.0]])))"
      ]
     },
     "metadata": {},
     "output_type": "display_data"
    }
   ],
   "source": [
    "#Rocket landing\n",
    "NSTATES = 6\n",
    "NINPUTS = 3\n",
    "NHORIZON = 50\n",
    "NTOTAL = 1201\n",
    "\n",
    "# Initialize cache, settings, bounds, socs, workspace, solver\n",
    "\n",
    "###### Cache\n",
    "rho = 1e2\n",
    "Kinf = zeros(NINPUTS,NSTATES)\n",
    "Pinf = zeros(NSTATES,NSTATES)\n",
    "Quu_inv = zeros(NINPUTS,NINPUTS)\n",
    "AmBKt = zeros(NSTATES,NSTATES)\n",
    "APf = zeros(NSTATES)\n",
    "BPf = zeros(NINPUTS)\n",
    "my_cache = TinyCache(rho, Kinf, Pinf, Quu_inv, AmBKt, APf, BPf)\n",
    "#####\n",
    "\n",
    "##### Settings\n",
    "abs_pri_tol = 1e-2\n",
    "abs_dua_tol = 1e-2\n",
    "max_iter = 100\n",
    "check_termination = 1\n",
    "en_state_bound = 0  # ENABLE CONSTRAINTS OR NOT\n",
    "en_input_bound = 1\n",
    "en_state_soc = 0\n",
    "en_input_soc = 1\n",
    "my_stgs = TinySettings(abs_pri_tol, abs_dua_tol, max_iter, check_termination, en_state_bound, en_input_bound, en_state_soc, en_input_soc)\n",
    "#####\n",
    "\n",
    "###### Bounds\n",
    "# umin = -10.0*ones(NINPUTS, NHORIZON-1)\n",
    "# umax = 105*ones(NINPUTS, NHORIZON-1)\n",
    "umin = repeat([-10; -10; 0.0], 1, NHORIZON-1)*1\n",
    "umax = repeat([10; 10; 15], 1, NHORIZON-1)*1\n",
    "xmin = repeat([-4.5; -4.5; -0.5; -10; -10; -20], 1, NHORIZON)\n",
    "xmax = repeat([4.5; 4.5; 100.0; 10; 10; 20], 1, NHORIZON)\n",
    "z = zeros(NINPUTS, NHORIZON-1)\n",
    "znew = zeros(NINPUTS, NHORIZON-1)\n",
    "v = zeros(NSTATES, NHORIZON)\n",
    "vnew = zeros(NSTATES, NHORIZON)\n",
    "y = zeros(NINPUTS, NHORIZON-1)\n",
    "g = zeros(NSTATES, NHORIZON)\n",
    "my_bounds = TinyBounds(umin, umax, xmin, xmax, z, znew, v, vnew, y, g)\n",
    "#####\n",
    "\n",
    "##### SOCS\n",
    "ncu = 1\n",
    "ncx = 0\n",
    "cu = [0.3, 0]  # 0.3 is the thrust coefficient\n",
    "cx = [0.5, 0]\n",
    "qcu = [3, 0]  # 3 is the dimensions of 1st cone\n",
    "qux = [3, 0]\n",
    "Acu = [1, 0]\n",
    "Acx = [1, 0]\n",
    "zc = [zeros(NINPUTS, NHORIZON-1), zeros(NINPUTS, NHORIZON-1)]\n",
    "vc = [zeros(NSTATES, NHORIZON), zeros(NSTATES, NHORIZON)]\n",
    "zcnew = [zeros(NINPUTS, NHORIZON-1), zeros(NINPUTS, NHORIZON-1)]\n",
    "vcnew = [zeros(NSTATES, NHORIZON), zeros(NSTATES, NHORIZON)]\n",
    "yc = [zeros(NINPUTS, NHORIZON-1), zeros(NINPUTS, NHORIZON-1)]\n",
    "gc = [zeros(NSTATES, NHORIZON), zeros(NSTATES, NHORIZON)]\n",
    "my_socs = TinySocs(ncu, ncx, cu, cx, qcu, qux, Acu, Acx, zc, zcnew, vc, vcnew, yc, gc)\n",
    "#####\n",
    "\n",
    "##### Workspace\n",
    "x = zeros(NSTATES, NHORIZON)\n",
    "u = zeros(NINPUTS, NHORIZON-1)\n",
    "q = zeros(NSTATES, NHORIZON)\n",
    "r = zeros(NINPUTS, NHORIZON-1)\n",
    "p = zeros(NSTATES, NHORIZON)\n",
    "d = zeros(NINPUTS, NHORIZON-1)\n",
    "pri_res_state = 1.0\n",
    "pri_res_input = 1.0\n",
    "dua_res_state = 1.0\n",
    "dua_res_input = 1.0\n",
    "status = 0\n",
    "iter = 0\n",
    "Q = Diagonal([1e1, 1e1, 1e2, 1e1, 1e1, 1e2])*0\n",
    "R = 1e2*I(NINPUTS)\n",
    "\n",
    "# Actually double-integrator dynamics\n",
    "h = 0.02 #20 Hz\n",
    "gravity = 9.81\n",
    "temp_n = Int(NSTATES/2)\n",
    "Adyn = [I(temp_n) h*I(temp_n); zeros(temp_n,temp_n) I(temp_n)]\n",
    "Bdyn = [0.5*h*h*I(temp_n); h*I(temp_n)];  # thrust vectors = 1/10 controls, making condition number nicer :) \n",
    "fdyn = [0.0, 0.0, -0.5*h*h*gravity, 0.0, 0.0, -h*gravity]\n",
    "display(Adyn)\n",
    "display(Bdyn)\n",
    "display(fdyn)\n",
    "\n",
    "t = h*(0:NTOTAL-1)\n",
    "Xref = zeros(NSTATES, NTOTAL+NHORIZON-1)\n",
    "x0 = [0, 0, 0.0, 0, 0, 0.0]\n",
    "xg = [5.0, 0.0, 0.0, 0.0, 0.0, 0.0]\n",
    "# xg = x0*1\n",
    "for k = 1:NTOTAL\n",
    "  # Xref[1:3,k] = sin(1*t[k])*2*ones(temp_n)\n",
    "  Xref[1:3,k] = [1.0*sin(22/NTOTAL*(k-1)); 1.0*cos(22/NTOTAL*(k-1)); 1.0 - 1.0*k/NTOTAL]\n",
    "  # Xref[:,k] .= xg\n",
    "end\n",
    "Uref = repeat([0; 0; gravity], 1, NTOTAL-1) \n",
    "Xref_hrz = 1*Xref[:,1:NHORIZON]\n",
    "Uref_hrz = 1*Uref[:,1:NHORIZON-1]\n",
    "# Could provide a better reference from other solvers\n",
    "\n",
    "Qu = zeros(NINPUTS, NINPUTS)\n",
    "my_work = TinyWorkspace(x, u, q, r, p, d, pri_res_state, pri_res_input, dua_res_state, dua_res_input, status, iter, Q, R, Adyn, Bdyn, fdyn, Xref_hrz, Uref_hrz, Qu, my_bounds, my_socs)\n",
    "#####\n",
    "\n",
    "# Solver\n",
    "solver = TinySolver(my_stgs, my_cache, my_work)"
   ]
  },
  {
   "cell_type": "code",
   "execution_count": 5,
   "id": "3992d1f9",
   "metadata": {},
   "outputs": [
    {
     "data": {
      "text/plain": [
       "6×850 Matrix{Float64}:\n",
       " 0.0      0.02247   0.0449287  …  0.0  0.0  0.0  0.0  0.0  0.0  0.0\n",
       " 1.0      0.999748  0.99899       0.0  0.0  0.0  0.0  0.0  0.0  0.0\n",
       " 1.49813  1.49625   1.49438       0.0  0.0  0.0  0.0  0.0  0.0  0.0\n",
       " 0.0      0.0       0.0           0.0  0.0  0.0  0.0  0.0  0.0  0.0\n",
       " 0.0      0.0       0.0           0.0  0.0  0.0  0.0  0.0  0.0  0.0\n",
       " 0.0      0.0       0.0        …  0.0  0.0  0.0  0.0  0.0  0.0  0.0"
      ]
     },
     "metadata": {},
     "output_type": "display_data"
    }
   ],
   "source": [
    "Xref\n",
    "# Xref[:,end-40:end-NHORIZON+1]"
   ]
  },
  {
   "cell_type": "code",
   "execution_count": 6,
   "id": "9765f1a0",
   "metadata": {},
   "outputs": [
    {
     "data": {
      "text/plain": [
       "6-element Vector{Float64}:\n",
       "  -8768.58079049917\n",
       "  -4450.530463507399\n",
       " -13829.332114992672\n",
       "  -6305.523917861502\n",
       "  -3200.3954750834423\n",
       "  -9944.731821781204"
      ]
     },
     "metadata": {},
     "output_type": "display_data"
    }
   ],
   "source": [
    "compute_cache!(solver, Q, R)"
   ]
  },
  {
   "cell_type": "code",
   "execution_count": 26,
   "id": "fcee5771",
   "metadata": {},
   "outputs": [
    {
     "data": {
      "text/plain": [
       "44932"
      ]
     },
     "metadata": {},
     "output_type": "display_data"
    }
   ],
   "source": [
    "boilerplate = \"#pragma once\\n\\n#include <tinympc/types.hpp>\\n\\n\"\n",
    "\n",
    "# rho_string = \"static const tinytype rho_value = \" * string(solver.cache.rho) * \";\\n\\n\"\n",
    "\n",
    "# A_data_string = export_mat_to_c(\"Adyn_data[NSTATES*NSTATES] \", solver.workspace.Adyn) * \"\\n\\n\"\n",
    "# B_data_string = export_mat_to_c(\"Bdyn_data[NSTATES*NINPUTS] \", solver.workspace.Bdyn) * \"\\n\\n\"\n",
    "# f_data_string = export_vec_to_c(\"fdyn_data[NSTATES] \", solver.workspace.fdyn) * \"\\n\\n\"\n",
    "\n",
    "# Kinf_data_string = export_mat_to_c(\"Kinf_data[NINPUTS*NSTATES] \", solver.cache.Kinf) * \"\\n\\n\"\n",
    "# Pinf_data_string = export_mat_to_c(\"Pinf_data[NSTATES*NSTATES] \", solver.cache.Pinf) * \"\\n\\n\"\n",
    "# Quu_inv_data_string = export_mat_to_c(\"Quu_inv_data[NINPUTS*NINPUTS] \", solver.cache.Quu_inv) * \"\\n\\n\"\n",
    "# AmBKt_data_string = export_mat_to_c(\"AmBKt_data[NSTATES*NSTATES] \", solver.cache.AmBKt) * \"\\n\\n\"\n",
    "# APf_data_string = export_vec_to_c(\"APf_data[NSTATES] \", solver.cache.APf) * \"\\n\\n\"\n",
    "# BPf_data_string = export_vec_to_c(\"BPf_data[NINPUTS] \", solver.cache.BPf) * \"\\n\\n\"\n",
    "\n",
    "# Q_data_string = export_diag_to_c(\"Q_data[NSTATES]\", solver.workspace.Q) * \"\\n\\n\"\n",
    "# R_data_string = export_diag_to_c(\"R_data[NINPUTS]\", solver.workspace.R) * \"\\n\\n\"\n",
    "\n",
    "# open(\"param_files/quadrotor_20hz_params.hpp\", \"w\") do file\n",
    "# # open(\"/home/khai/SSD/Code/tinympc-crazyflie-firmware/examples/controller_tinympc_socp/src/quadrotor_20hz.hpp\", \"w\") do file\n",
    "#     write(file, boilerplate);\n",
    "#     write(file, rho_string);\n",
    "#     write(file, A_data_string);\n",
    "#     write(file, B_data_string);\n",
    "#     write(file, f_data_string);\n",
    "#     write(file, Q_data_string);\n",
    "#     write(file, R_data_string);\n",
    "#     write(file, Kinf_data_string);\n",
    "#     write(file, Pinf_data_string);\n",
    "#     write(file, Quu_inv_data_string);\n",
    "#     write(file, AmBKt_data_string);\n",
    "#     write(file, APf_data_string);\n",
    "#     write(file, BPf_data_string);\n",
    "\n",
    "# end\n",
    "\n",
    "Xref_pos = Xref[1:3,:]\n",
    "Xref_data_string = export_mat_to_c(\"Xref_data[3*(NTOTAL+ADDITIONAL-1)] \", Xref_pos') * \"\\n\\n\"\n",
    "open(\"param_files/landing_trajectory.hpp\", \"w\") do file\n",
    "# open(\"/home/khai/SSD/Code/tinympc-crazyflie-firmware/examples/controller_tinympc_socp/src/quadrotor_20hz.hpp\", \"w\") do file\n",
    "    write(file, boilerplate);\n",
    "    write(file, Xref_data_string);\n",
    "end"
   ]
  },
  {
   "cell_type": "code",
   "execution_count": 23,
   "id": "37eaa018",
   "metadata": {},
   "outputs": [
    {
     "data": {
      "image/png": "[encoded data removed]",
      "text/plain": [
       "Figure(PyObject <Figure size 640x480 with 1 Axes>)"
      ]
     },
     "metadata": {},
     "output_type": "display_data"
    }
   ],
   "source": [
    "Xref\n",
    "# 3D\n",
    "fig = plt.figure()\n",
    "plot3D(Xref[1,1:NTOTAL-1],Xref[2,1:NTOTAL-1], Xref[3,1:NTOTAL-1])\n",
    "fig\n",
    "# Xhist[:,NTOTAL-1]"
   ]
  },
  {
   "cell_type": "code",
   "execution_count": 10,
   "id": "8c4f4f79-da22-4ab1-aa33-f236a40f8002",
   "metadata": {},
   "outputs": [],
   "source": [
    "# MPC loop\n",
    "solver.settings.en_input_soc = 1\n",
    "# solver.settings.en_state_bound = 0\n",
    "# solver.settings.en_state_soc = 1\n",
    "\n",
    "Random.seed!(1234)\n",
    "Xhist = zeros(NSTATES, NTOTAL)\n",
    "# x0 = [4, 2, 3, 1, -2, 2.0]\n",
    "Xhist[:,1] .= x0*1.0 + randn(NSTATES)*0.0\n",
    "display(Xhist[:,1])\n",
    "Uhist = zeros(NINPUTS, NTOTAL-1)\n",
    "\n",
    "alpha = 0.5\n",
    "\n",
    "NRUNS = NTOTAL-1  \n",
    "for i = 1:NRUNS\n",
    "    # i%10 == 0 && print(\"i = \", i, \"\\n\")\n",
    "    # Get measurements\n",
    "    pos_norm = norm(Xhist[1:3, i], Inf) / 1e2 # 1% noise\n",
    "    vel_norm = norm(Xhist[4:6, i], Inf) / 1e4 # 1ppm noise\n",
    "    noise_pos = randn(3)\n",
    "    noise_vel = randn(3)\n",
    "    solver.workspace.x[:,1] = Xhist[:,i] + 0*[noise_pos * pos_norm; noise_vel * vel_norm]\n",
    "    # print(\"x = \", solver.workspace.x[:,1], \"\\n\")\n",
    "\n",
    "    # Reference\n",
    "    solver.workspace.Xref = 1*Xref[:,i:i+NHORIZON-1]\n",
    "\n",
    "    solve_admm!(solver)\n",
    "    # Uhist[:,i] .= solver.workspace.u[:,1]\n",
    "    # Uhist[:,i] .= solver.workspace.Uref[:,1]\n",
    "    Uhist[:,i] .= [2.0; 0; gravity]\n",
    "\n",
    "    # Simulate\n",
    "\n",
    "    # Attitude inner loop -- first-order system\n",
    "    # if i > 1\n",
    "    #     Uhist[:,i] .= Uhist[:,i] * alpha + Uhist[:,i-1] * (1 - alpha)\n",
    "    # end\n",
    "\n",
    "    # Clamp control input\n",
    "    # Uhist[:,i] = max.(min.(Uhist[:,i], umax[:,1]), umin[:,1])\n",
    "\n",
    "    # print(Upred, \"\\n\")\n",
    "    # print(solver.workspace.u, \"\\n\")\n",
    "    # print(solver.workspace.x, \"\\n\")\n",
    "    \n",
    "    Xhist[:,i+1] .= Adyn*Xhist[:,i] + Bdyn*Uhist[:,i] + fdyn\n",
    "end"
   ]
  },
  {
   "cell_type": "code",
   "execution_count": null,
   "id": "efbe834d",
   "metadata": {},
   "outputs": [],
   "source": [
    "cu_hist = zeros(NRUNS)\n",
    "collCmd = zeros(NRUNS)\n",
    "for i = 1:NRUNS\n",
    "    cu_hist[i] = 10*norm(Uhist[1:2,i])/Uhist[3,i]\n",
    "    collCmd[i] = norm(Uhist[:,i])/1\n",
    "end\n",
    "fig = plt.figure()\n",
    "plot(cu_hist, label=\"cu\")\n",
    "plot(collCmd, label=\"collCmd\")\n",
    "plt.legend()\n",
    "fig"
   ]
  },
  {
   "cell_type": "code",
   "execution_count": null,
   "id": "8b0390a6-9531-495d-b4bc-969093b2fd80",
   "metadata": {},
   "outputs": [],
   "source": [
    "fig = plt.figure()\n",
    "plot(Uhist[1, 1:NRUNS], Uhist[3, 1:NRUNS])\n",
    "fig"
   ]
  },
  {
   "cell_type": "code",
   "execution_count": null,
   "id": "e59f04c2",
   "metadata": {},
   "outputs": [],
   "source": [
    "fig = plt.figure()\n",
    "plot(Uhist[1, 1:NRUNS])\n",
    "plot(Uhist[2, 1:NRUNS])\n",
    "plot(Uhist[3, 1:NRUNS])\n",
    "plt.legend([\"ux\", \"uy\", \"uz\"])\n",
    "fig"
   ]
  },
  {
   "cell_type": "code",
   "execution_count": null,
   "id": "fbdb00e9",
   "metadata": {},
   "outputs": [],
   "source": [
    "vio_count = 0\n",
    "for idx in 1:NRUNS\n",
    "    (sqrt(Uhist[1,idx]^2 + Uhist[2,idx]^2) - cu[1]*Uhist[3,idx] >= 1e-2) && (vio_count += 1)  # test cone constraint\n",
    "    # (sqrt(Xhist[1,idx]^2 + Xhist[2,idx]^2) - cx[1]*Xhist[3,idx] >= 1e-1) && (vio_count += 1)  # test cone constraint\n",
    "end\n",
    "print(\"vio_count = \", vio_count, \"\\n\")\n",
    "print(\"max control = \", maximum(Uhist[:, 1:NRUNS]), \"\\n\")\n",
    "print(\"min control = \", minimum(Uhist[:, 1:NRUNS]), \"\\n\")\n",
    "print(\"max state = \", maximum(Xhist[2,:]))"
   ]
  },
  {
   "cell_type": "code",
   "execution_count": null,
   "id": "9de91c6b",
   "metadata": {},
   "outputs": [],
   "source": [
    "fig = plt.figure()\n",
    "plot(Xref[1,1:NRUNS], \"--\")\n",
    "plot(Xhist[1,1:NRUNS])\n",
    "plot(Xref[2,1:NRUNS], \"--\") \n",
    "plot(Xhist[2,1:NRUNS])\n",
    "plot(Xref[3,1:NRUNS], \"--\") \n",
    "plot(Xhist[3,1:NRUNS])\n",
    "plt.legend([\"xref\", \"x\", \"yref\", \"y\", \"zref\", \"z\"])\n",
    "# put limit on axis\n",
    "# plt.ylim(-5, 20)\n",
    "# plt.xlim(0, 300)\n",
    "fig"
   ]
  },
  {
   "cell_type": "code",
   "execution_count": null,
   "id": "5a426e78",
   "metadata": {},
   "outputs": [],
   "source": [
    "fig = plt.figure()\n",
    "plot(Xref[1,1:NRUNS], \"--\")\n",
    "plot(Xhist[1,1:NRUNS])\n",
    "plot(Xref[2,1:NRUNS], \"--\") \n",
    "plot(Xhist[2,1:NRUNS])\n",
    "plot(Xref[3,1:NRUNS], \"--\") \n",
    "plot(Xhist[3,1:NRUNS])\n",
    "plt.legend([\"xref\", \"x\", \"yref\", \"y\", \"zref\", \"z\"])\n",
    "# put limit on axis\n",
    "# plt.ylim(-5, 20)\n",
    "# plt.xlim(0, 300)\n",
    "fig"
   ]
  },
  {
   "cell_type": "code",
   "execution_count": null,
   "id": "8145d2d2",
   "metadata": {},
   "outputs": [],
   "source": [
    "fig = plt.figure()\n",
    "plot(Xref[1,1:NRUNS], \"--\")\n",
    "plot(Xhist[1,1:NRUNS])\n",
    "plot(Xref[2,1:NRUNS], \"--\") \n",
    "plot(Xhist[2,1:NRUNS])\n",
    "plot(Xref[3,1:NRUNS], \"--\") \n",
    "plot(Xhist[3,1:NRUNS])\n",
    "plt.legend([\"xref\", \"x\", \"yref\", \"y\", \"zref\", \"z\"])\n",
    "# put limit on axis\n",
    "# plt.ylim(-5, 20)\n",
    "# plt.xlim(0, 300)\n",
    "fig"
   ]
  },
  {
   "cell_type": "code",
   "execution_count": null,
   "id": "7b35a633",
   "metadata": {},
   "outputs": [],
   "source": [
    "# # 3D\n",
    "# fig = plt.figure()\n",
    "# plot3D(Xhist[1,1:NTOTAL-1],Xhist[2,1:NTOTAL-1], Xhist[3,1:NTOTAL-1])\n",
    "# fig\n",
    "# # Xhist[:,NTOTAL-1]\n",
    "fig = plt.figure()\n",
    "plot(Xhist[1,1:NRUNS], Xhist[3,1:NRUNS])\n",
    "plt.ylim(-1, 1.0)\n",
    "plt.xlim(0, 1.0)\n",
    "fig"
   ]
  },
  {
   "cell_type": "code",
   "execution_count": null,
   "id": "a5c445c3",
   "metadata": {},
   "outputs": [],
   "source": [
    "fig = plt.figure()\n",
    "plot(Xhist[4,1:NRUNS])\n",
    "plot(Xhist[5,1:NRUNS])\n",
    "plot(Xhist[6,1:NRUNS])\n",
    "plt.legend([\"vx\", \"vy\", \"vz\"])\n",
    "# put limit on axis\n",
    "# plt.ylim(-5, 20)\n",
    "# plt.xlim(0, 300)\n",
    "fig"
   ]
  },
  {
   "cell_type": "code",
   "execution_count": null,
   "id": "8c3fdd53",
   "metadata": {},
   "outputs": [],
   "source": [
    "fig = plt.figure()\n",
    "plot(Xhist[4,1:NRUNS])\n",
    "plot(Xhist[5,1:NRUNS])\n",
    "plot(Xhist[6,1:NRUNS])\n",
    "plt.legend([\"vx\", \"vy\", \"vz\"])\n",
    "# put limit on axis\n",
    "# plt.ylim(-5, 20)\n",
    "# plt.xlim(0, 300)\n",
    "fig"
   ]
  }
 ],
 "metadata": {
  "kernelspec": {
   "display_name": "Julia 1.6.7",
   "language": "julia",
   "name": "julia-1.6"
  },
  "language_info": {
   "file_extension": ".jl",
   "mimetype": "application/julia",
   "name": "julia",
   "version": "1.6.7"
  }
 },
 "nbformat": 4,
 "nbformat_minor": 5
}
