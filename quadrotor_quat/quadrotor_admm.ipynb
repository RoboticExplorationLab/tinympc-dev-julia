{
 "cells": [
  {
   "cell_type": "code",
   "execution_count": 264,
   "metadata": {},
   "outputs": [
    {
     "name": "stderr",
     "output_type": "stream",
     "text": [
      "\u001b[32m\u001b[1m  Activating\u001b[22m\u001b[39m environment at `~/SSD/Code/Julia/tinympc-julia/quadrotor_quat/Project.toml`\n"
     ]
    }
   ],
   "source": [
    "import Pkg; Pkg.activate(@__DIR__); Pkg.instantiate()"
   ]
  },
  {
   "cell_type": "code",
   "execution_count": 265,
   "metadata": {},
   "outputs": [],
   "source": [
    "using LinearAlgebra\n",
    "using BlockDiagonals\n",
    "using ForwardDiff\n",
    "using Plots\n",
    "using Random; \n",
    "using Printf"
   ]
  },
  {
   "cell_type": "code",
   "execution_count": 266,
   "metadata": {},
   "outputs": [
    {
     "data": {
      "text/plain": [
       "E (generic function with 1 method)"
      ]
     },
     "metadata": {},
     "output_type": "display_data"
    }
   ],
   "source": [
    "#Quaternion stuff\n",
    "function hat(v)\n",
    "    return [0 -v[3] v[2];\n",
    "            v[3] 0 -v[1];\n",
    "            -v[2] v[1] 0]\n",
    "end\n",
    "function L(q)\n",
    "    s = q[1]\n",
    "    v = q[2:4]\n",
    "    L = [s    -v';\n",
    "         v  s*I+hat(v)]\n",
    "    return L\n",
    "end\n",
    "T = Diagonal([1; -ones(3)])\n",
    "H = [zeros(1,3); I]\n",
    "function qtoQ(q)\n",
    "    return H'*T*L(q)*T*L(q)*H\n",
    "end\n",
    "function G(q)\n",
    "    G = L(q)*H\n",
    "end\n",
    "function rptoq(ϕ)\n",
    "    (1/sqrt(1+ϕ'*ϕ))*[1; ϕ]\n",
    "end\n",
    "function qtorp(q)\n",
    "    q[2:4]/q[1]\n",
    "end\n",
    "function E(q)\n",
    "    E = BlockDiagonal([1.0*I(3), G(q), 1.0*I(6)])\n",
    "end"
   ]
  },
  {
   "cell_type": "code",
   "execution_count": 267,
   "metadata": {},
   "outputs": [],
   "source": [
    "#Quadrotor parameters\n",
    "m = 0.03\n",
    "ℓ = 0.046\n",
    "J = [16.6e-6 0.83e-6 0.72e-6;\n",
    "    0.83e-6 16.6e-6 1.8e-6;\n",
    "    0.72e-6 1.8e-6 29.3e-6];\n",
    "g = 9.81\n",
    "thrustToTorque = 0.005964552\n",
    "ℓ = 0.046/sqrt(2)\n",
    "scale = 65535\n",
    "kt = 2.245365e-7*scale*g # u is PWM in range [0...1]\n",
    "km = kt*thrustToTorque #4.4733e-8\n",
    "\n",
    "\n",
    "h = 1/50 #50 Hz\n",
    "\n",
    "Nx = 13     # number of states (quaternion)\n",
    "Nx̃ = 12     # number of states (linearized)\n",
    "Nu = 4     # number of controls\n",
    "nx = Nx̃\n",
    "nu = Nu\n",
    "Tfinal = 5.0 # final time\n",
    "Nt = Int(Tfinal/h)+1    # number of time steps\n",
    "t_vec = h*(0:Nt-1)\n",
    "thist = Array(range(0,h*(Nt-1), step=h));"
   ]
  },
  {
   "cell_type": "code",
   "execution_count": 268,
   "metadata": {},
   "outputs": [
    {
     "data": {
      "text/plain": [
       "quad_dynamics_rk4 (generic function with 1 method)"
      ]
     },
     "metadata": {},
     "output_type": "display_data"
    }
   ],
   "source": [
    "function quad_dynamics(x,u)\n",
    "  r = x[1:3]\n",
    "  q = x[4:7]/norm(x[4:7]) #normalize q just to be careful\n",
    "  v = x[8:10]\n",
    "  ω = x[11:13]\n",
    "  Q = qtoQ(q)\n",
    "  \n",
    "  ṙ = Q*v\n",
    "  q̇ = 0.5*L(q)*H*ω\n",
    "  \n",
    "  v̇ = Q'*[0; 0; -g] + (1/m)*[zeros(2,4); kt*ones(1,4)]*u - hat(ω)*v\n",
    "  \n",
    "  ω̇ = J\\(-hat(ω)*J*ω + [-ℓ*kt -ℓ*kt ℓ*kt ℓ*kt; ℓ*kt -ℓ*kt -ℓ*kt ℓ*kt; -km km -km km]*u)\n",
    "  \n",
    "  return [ṙ; q̇; v̇; ω̇]\n",
    "end\n",
    "function quad_dynamics_rk4(x,u)\n",
    "  #RK4 integration with zero-order hold on u\n",
    "  f1 = quad_dynamics(x, u)\n",
    "  f2 = quad_dynamics(x + 0.5*h*f1, u)\n",
    "  f3 = quad_dynamics(x + 0.5*h*f2, u)\n",
    "  f4 = quad_dynamics(x + h*f3, u)\n",
    "  xn = x + (h/6.0)*(f1 + 2*f2 + 2*f3 + f4)\n",
    "  xn[4:7] .= xn[4:7]/norm(xn[4:7]) #re-normalize quaternion\n",
    "  return xn\n",
    "end"
   ]
  },
  {
   "cell_type": "code",
   "execution_count": 269,
   "metadata": {},
   "outputs": [],
   "source": [
    "#Goal state\n",
    "uhover = (0.5)*ones(4)  # m = 30g and max thrust = 60g\n",
    "rg = [0.0; 0; 1.0]\n",
    "qg = [1.0; 0; 0; 0]\n",
    "vg = zeros(3)\n",
    "ωg = zeros(3)\n",
    "xg = [rg; qg; vg; ωg];"
   ]
  },
  {
   "cell_type": "code",
   "execution_count": 270,
   "metadata": {},
   "outputs": [
    {
     "data": {
      "text/plain": [
       "discrete_dynamics (generic function with 1 method)"
      ]
     },
     "metadata": {},
     "output_type": "display_data"
    }
   ],
   "source": [
    "#Linearize dynamics about hover\n",
    "A = ForwardDiff.jacobian(x->quad_dynamics_rk4(x,uhover),xg)\n",
    "B = ForwardDiff.jacobian(u->quad_dynamics_rk4(xg,u),uhover);\n",
    "Ã = Array(E(qg)'*A*E(qg))\n",
    "B̃ = Array(E(qg)'*B);\n",
    "function discrete_dynamics(params,x,u,k)\n",
    "  Ã*x + B̃*u \n",
    "end"
   ]
  },
  {
   "cell_type": "code",
   "execution_count": 271,
   "metadata": {},
   "outputs": [
    {
     "data": {
      "text/plain": [
       "discrete_dynamics_stretch (generic function with 1 method)"
      ]
     },
     "metadata": {},
     "output_type": "display_data"
    }
   ],
   "source": [
    "# Adaptive step in MPC horizon: use normal dt and model in the first specified \n",
    "# `adaptive_step` steps and after that use the stretch mode (larger dt and model)\n",
    "h = 1/1 #25 Hz stretch interval dynamics\n",
    "#Linearize dynamics about hover\n",
    "As = ForwardDiff.jacobian(x->quad_dynamics_rk4(x,uhover),xg)\n",
    "Bs = ForwardDiff.jacobian(u->quad_dynamics_rk4(xg,u),uhover);\n",
    "Ãs = Array(E(qg)'*As*E(qg))\n",
    "B̃s = Array(E(qg)'*Bs);\n",
    "function discrete_dynamics_stretch(params,x,u,k)\n",
    "  Ãs*x + B̃s*u\n",
    "end"
   ]
  },
  {
   "cell_type": "code",
   "execution_count": 272,
   "metadata": {},
   "outputs": [
    {
     "data": {
      "text/plain": [
       "12×12 Matrix{Float64}:\n",
       " 1.0  0.0  0.0    0.0       9.62361  0.0  …  0.0  0.0   0.0      1.60393  0.0\n",
       " 0.0  1.0  0.0   -9.62361   0.0      0.0     1.0  0.0  -1.60393  0.0      0.0\n",
       " 0.0  0.0  1.0    0.0       0.0      0.0     0.0  1.0   0.0      0.0      0.0\n",
       " 0.0  0.0  0.0    1.0       0.0      0.0     0.0  0.0   0.5      0.0      0.0\n",
       " 0.0  0.0  0.0    0.0       1.0      0.0     0.0  0.0   0.0      0.5      0.0\n",
       " 0.0  0.0  0.0    0.0       0.0      1.0  …  0.0  0.0   0.0      0.0      0.5\n",
       " 0.0  0.0  0.0    0.0      19.62     0.0     0.0  0.0   0.0      4.9982   0.0\n",
       " 0.0  0.0  0.0  -19.62      0.0      0.0     1.0  0.0  -4.9982   0.0      0.0\n",
       " 0.0  0.0  0.0    0.0       0.0      0.0     0.0  1.0   0.0      0.0      0.0\n",
       " 0.0  0.0  0.0    0.0       0.0      0.0     0.0  0.0   1.0      0.0      0.0\n",
       " 0.0  0.0  0.0    0.0       0.0      0.0  …  0.0  0.0   0.0      1.0      0.0\n",
       " 0.0  0.0  0.0    0.0       0.0      0.0     0.0  0.0   0.0      0.0      1.0"
      ]
     },
     "metadata": {},
     "output_type": "display_data"
    },
    {
     "data": {
      "text/plain": [
       "12×12 Matrix{Float64}:\n",
       " 1.0  0.0  0.0   0.0         …  0.0    0.0         1.28315e-5  0.0\n",
       " 0.0  1.0  0.0  -0.00384944     0.0   -1.28315e-5  0.0         0.0\n",
       " 0.0  0.0  1.0   0.0            0.02   0.0         0.0         0.0\n",
       " 0.0  0.0  0.0   1.0            0.0    0.01        0.0         0.0\n",
       " 0.0  0.0  0.0   0.0            0.0    0.0         0.01        0.0\n",
       " 0.0  0.0  0.0   0.0         …  0.0    0.0         0.0         0.01\n",
       " 0.0  0.0  0.0   0.0            0.0    0.0         0.00199928  0.0\n",
       " 0.0  0.0  0.0  -0.3924         0.0   -0.00199928  0.0         0.0\n",
       " 0.0  0.0  0.0   0.0            1.0    0.0         0.0         0.0\n",
       " 0.0  0.0  0.0   0.0            0.0    1.0         0.0         0.0\n",
       " 0.0  0.0  0.0   0.0         …  0.0    0.0         1.0         0.0\n",
       " 0.0  0.0  0.0   0.0            0.0    0.0         0.0         1.0"
      ]
     },
     "metadata": {},
     "output_type": "display_data"
    }
   ],
   "source": [
    "h = 1/50 #50 Hz normal dynamics\n",
    "step_ratio = Int(50/1)\n",
    "display(Ãs)\n",
    "display(Ã)"
   ]
  },
  {
   "cell_type": "code",
   "execution_count": 273,
   "metadata": {},
   "outputs": [],
   "source": [
    "# IHLQR terminal cost\n",
    "P = [zeros(nx,nx) for i = 1:200]   # cost to go quadratic term\n",
    "p = [zeros(nx) for i = 1:200]      # cost to go linear term\n",
    "d = [zeros(nu) for i = 1:200-1]    # feedforward control\n",
    "K = [zeros(nu,nx) for i = 1:200-1] # feedback gain\n",
    "\n",
    "# Cost weights\n",
    "Q = Array(Diagonal([10; 10; 10; 1; 1; 1; 1; 1; 1; 1; 1; 1.]));\n",
    "R = Array(1*I(Nu));\n",
    "Qf = Q\n",
    "\n",
    "# PENALTY - important!!\n",
    "ρ = 5.0\n",
    "R̃ = R + ρ*I  # use regularized R\n",
    "\n",
    "# Precompute\n",
    "cache = (\n",
    "    Kinf = zeros(nu,nx),\n",
    "    Pinf = zeros(nx,nx),\n",
    "    Kinf2 = zeros(nu,nx),\n",
    "    Pinf2 = zeros(nx,nx),\n",
    "    Quu_inv = zeros(nu,nu),\n",
    "    Quu_inv2 = zeros(nu,nu),\n",
    "    AmBKt = zeros(nx,nx), \n",
    "    AmBKt2 = zeros(nx,nx), #(Ã - B̃*K[1])',\n",
    "    coeff_d2p = zeros(nx,nu), \n",
    "    coeff_d2p2 = zeros(nx,nu), \n",
    ")\n",
    "\n",
    "P[200] = Q\n",
    "for k = (200-1):-1:1\n",
    "    K[k] .= (R + B̃s'*P[k+1]*B̃s)\\(B̃s'*P[k+1]*Ãs)\n",
    "    P[k] .= Q + Ãs'*P[k+1]*(Ãs - B̃s*K[k])\n",
    "end\n",
    "cache.Kinf2 .= K[1]\n",
    "cache.Pinf2 .= P[1]\n",
    "cache.AmBKt2 .= (Ãs - B̃s*K[1])'\n",
    "for k = (200-1):-1:1\n",
    "    K[k] .= (R + B̃'*P[k+1]*B̃)\\(B̃'*P[k+1]*Ã)\n",
    "    P[k] .= Q + Ã'*P[k+1]*(Ã - B̃*K[k])\n",
    "end\n",
    "cache.Kinf .= K[1]\n",
    "cache.Pinf .= P[1]\n",
    "cache.AmBKt .= (Ã - B̃*K[1])'\n",
    "\n",
    "cache.Quu_inv .= (R̃ + B̃'*cache.Pinf*B̃)\\I\n",
    "cache.Quu_inv2 .= (R̃ + B̃s'*cache.Pinf2*B̃s)\\I\n",
    "\n",
    "cache.coeff_d2p .= cache.Kinf'*R̃ - cache.AmBKt*cache.Pinf*B̃\n",
    "cache.coeff_d2p2 .= cache.Kinf2'*R̃ - cache.AmBKt2*cache.Pinf2*B̃s;"
   ]
  },
  {
   "cell_type": "code",
   "execution_count": null,
   "metadata": {},
   "outputs": [],
   "source": [
    "function export_mat_to_c(declare, data)\n",
    "  str = \"sfloat \" * declare * \" = {\\n\"\n",
    "  dataT = data'\n",
    "  for i = 1:size(dataT, 1)\n",
    "      str = str * \"  \"\n",
    "      for j = 1:size(dataT, 2)\n",
    "          this_str = @sprintf(\"%.6f\", dataT[i, j])\n",
    "          str = str * this_str * \"f,\"\n",
    "      end\n",
    "      str = str * \"\\n\"\n",
    "  end\n",
    "  str = str * \"};\\n\"\n",
    "  return str\n",
    "end\n",
    "\n",
    "@printf(\"%s\",export_mat_to_c(\"Kinf_data[NINPUTS*NSTATES]\", cache.Kinf))\n",
    "@printf(\"%s\",export_mat_to_c(\"Pinf_data[NSTATES*NSTATES]\", cache.Pinf))\n",
    "@printf(\"%s\",export_mat_to_c(\"Quu_inv_data[NINPUTS*NINPUTS]\", cache.Quu_inv))\n",
    "@printf(\"%s\",export_mat_to_c(\"AmBKt_data[NSTATES*NSTATES]\", cache.AmBKt))\n",
    "@printf(\"%s\",export_mat_to_c(\"coeff_d2p_data[NSTATES*NINPUTS]\", cache.coeff_d2p))"
   ]
  },
  {
   "cell_type": "code",
   "execution_count": null,
   "metadata": {},
   "outputs": [],
   "source": [
    "#Feedback tracking controller\n",
    "include(\"tinyMPC-ADMM.jl\")\n",
    "N = 5\n",
    "dt = 1/50\n",
    "Tfinal = 10.0 # final time\n",
    "Nt = Int(Tfinal/h)+1    # number of time steps\n",
    "t_vec = h*(0:Nt-1)\n",
    "\n",
    "\n",
    "#Create trajectory to follow\n",
    "Xref = [xg for i = 1:Nt]\n",
    "Δx̃ref = [zeros(nx) for i = 1:Nt]\n",
    "ΔUref = [zeros(nu) for i = 1:Nt-1]\n",
    "\n",
    "# Number-eight\n",
    "# Xref = [[1*cos(t)*sin(t);1*cos(t);1;1;zeros(9)] for t = range(0, 2*pi + 1*pi/4, length = Nt)]  \n",
    "\n",
    "## Triangle\n",
    "# p0 = [0; 0; 1.0]; p1 = [3; 4; 1.]; p2 = [0; 8; 1.]; p3 = [0; -2; 1.0]\n",
    "# range1 = collect(LinRange(p0, p1, round(Int,(Nt)/3)))\n",
    "# range2 = collect(LinRange(p1, p2, round(Int,(Nt)/3)))\n",
    "# range3 = collect(LinRange(p2, p3, round(Int,(Nt)/3)+1))\n",
    "# range123 = [range1; range2; range3]\n",
    "# for k = 1:Nt\n",
    "#     Xref[k][1:3] .= range123[k]\n",
    "# end\n",
    "\n",
    "\n",
    "for i = 1:Nt-1\n",
    "    Xref[i][8:10] = (Xref[i+1][1:3] - Xref[i][1:3])/dt\n",
    "end\n",
    "for k = 1:Nt\n",
    "    x = Xref[k]\n",
    "    q = x[4:7]\n",
    "    ϕ = qtorp(L(qg)'*q)   \n",
    "    Δx̃ref[k] .= [x[1:3]-rg; ϕ; x[8:10]-vg; x[11:13]-ωg]\n",
    "end\n",
    "\n",
    "u_min = -0.5*ones(nu)\n",
    "u_max =  15*ones(nu)\n",
    "\n",
    "# state is x y v θ\n",
    "x_min = -100*ones(nx)\n",
    "x_min[3] = -0.2\n",
    "x_max = 100*ones(nx)\n",
    "x_max[3] = 0.2\n",
    "\n",
    "# previous MPC iterate\n",
    "X = [zeros(nx) for i = 1:N]\n",
    "U = [zeros(nu) for k = 1:N-1]\n",
    "Z = [zeros(nu) for i = 1:N-1]\n",
    "Znew = [zeros(nu) for i = 1:N-1]\n",
    "Y = [zeros(nu) for i = 1:N-1]\n",
    "\n",
    "params = (\n",
    "    nx = nx, nu = nu,\n",
    "    N = N, Q = Q, R = R, Qf = Qf,\n",
    "    u_min = u_min, u_max = u_max,\n",
    "    x_min = x_min, x_max = x_max,\n",
    "    Xref = Δx̃ref, Uref = ΔUref, dt = dt, cache = cache\n",
    ");\n",
    "\n",
    "P = [zeros(nx,nx) for i = 1:N]   # cost to go quadratic term\n",
    "p = [zeros(nx) for i = 1:N]      # cost to go linear term\n",
    "d = [zeros(nu) for i = 1:N-1]    # feedforward control\n",
    "K = [zeros(nu,nx) for i = 1:N-1] # feedback gain\n",
    "qq = [zeros(nx) for i = 1:N]\n",
    "r = [zeros(nu) for i = 1:N-1]\n",
    "\n",
    "verbose = 0\n",
    "adaptive_step = 0\n",
    "function controller_mpc(params, x, k)\n",
    "    q = x[4:7]\n",
    "    ϕ = qtorp(L(qg)'*q)\n",
    "    \n",
    "    Δx̃ = [x[1:3]-rg; ϕ; x[8:10]-vg; x[11:13]-ωg]\n",
    "    X[1] .= Δx̃\n",
    "    # u = mpc_JuMP(optimizer, params, X, U, Ã, B̃, 0.0; warm_start=true)\n",
    "    # u = mpc!(params,X,U,P,p,K,d,Xn,Un; atol=1e-2,max_iters=10,max_inner_iters=5,verbose=false,ρ=1e0,ρ_max=1e6, ϕ=10.0, adaptive_step=1)\n",
    "    u, status, iter = solve_admm!(params,qq,R̃,r,P,p,K,d,X,U,Z,Znew,Y; ρ=ρ,abs_tol=1e-2,max_iter=200,adaptive_step=adaptive_step)\n",
    "    @show iter\n",
    "    status == 0 && display(\"Max iteration reached\")\n",
    "    return u + uhover\n",
    "end\n",
    "\n",
    "#ASK: Do I need to stretch the reference?\n",
    "function update_reference(params, k)\n",
    "    Uref_ = 1*ΔUref[k:N+k-2]\n",
    "    Xref_ = 1*Δx̃ref[k:N+k-1]\n",
    "\n",
    "    # for i = 3:N-1\n",
    "    #     Uref_[i] .= ΔUref[k+1+(i-2)*step_ratio]\n",
    "    #     Xref_[i] .= Δx̃ref[k+1+(i-2)*step_ratio]\n",
    "    # end\n",
    "    # Xref_[N] .= Δx̃ref[k+1+(N-2)*step_ratio]\n",
    "    \n",
    "    params1 = (; params..., Uref = Uref_, Xref = Xref_)  # update ref\n",
    "    return params1\n",
    "end\n"
   ]
  },
  {
   "cell_type": "code",
   "execution_count": null,
   "metadata": {},
   "outputs": [],
   "source": [
    "# Simulation\n",
    "uhist = [zeros(Nu) for i in 1:Nt-1]\n",
    "xhist = [zeros(Nx) for i in 1:Nt]\n",
    "Random.seed!(12);\n",
    "# xhist[1] .= [rg+0*randn(3)/3; L(qg)*rptoq([1; 0; 0]); vg; ωg]  # initial conditions\n",
    "xhist[1] .= Xref[1]\n",
    "# xhist[1] .= Xref[1]; xhist[1][1:3] += rand(3)*0.2\n",
    "# backward_pass!(Q,qq,R̃,r,P,p,K,d,params,adaptive_step)\n",
    "Nsim = Nt - 70 - 1\n",
    "for k = 1:Nsim\n",
    "# for k = 1:3\n",
    "    params1 = update_reference(params, k)\n",
    "    # display(params1.Xref)\n",
    "    # display(xhist[k])\n",
    "    # shift_fill(U)\n",
    "    uhist[k] = controller_mpc(params1, xhist[k], k)\n",
    "    # uhist[k] = clamp.(uhist[k], (uhover+u_min)[1], (uhover+u_max)[1])\n",
    "    xhist[k+1] = quad_dynamics_rk4(xhist[k],uhist[k]) \n",
    "end"
   ]
  },
  {
   "cell_type": "code",
   "execution_count": null,
   "metadata": {},
   "outputs": [],
   "source": [
    "xhist[1] .= [rg+randn(3)/3; L(qg)*rptoq([1; 0; 0]); vg; ωg]  # initial conditions"
   ]
  },
  {
   "cell_type": "code",
   "execution_count": null,
   "metadata": {},
   "outputs": [],
   "source": [
    "Xsim_m = mat_from_vec(Xref[1:Nsim])\n",
    "plot(Xsim_m[2,:],Xsim_m[1,:],label=\"ref\",\n",
    "linestyle=:solid, linewidth=2,\n",
    "             title=\"State History\", xlabel=\"y\", ylabel=\"x\")\n",
    "Xsim_m = mat_from_vec(xhist[1:Nsim])   \n",
    "display(plot!(Xsim_m[2,:],Xsim_m[1,:],label=\"real\", linestyle=:dash, linewidth=2,\n",
    "             title=\"State History\", xlabel=\"y\", ylabel=\"x\", aspect_ratio=:equal))"
   ]
  },
  {
   "cell_type": "code",
   "execution_count": null,
   "metadata": {},
   "outputs": [],
   "source": [
    "Xsim_m = mat_from_vec(Xref[1:1:Nsim])\n",
    "plot(Xsim_m[2,:],Xsim_m[1,:],label=\"ref\",\n",
    "linestyle=:solid, linewidth=2,\n",
    "             title=\"State History\", xlabel=\"y\", ylabel=\"x\")\n",
    "Xsim_m = mat_from_vec(xhist[1:1:Nsim])   \n",
    "display(plot!(Xsim_m[2,:],Xsim_m[1,:],label=\"real\", linestyle=:dash, linewidth=2,\n",
    "             title=\"State History\", xlabel=\"y\", ylabel=\"x\", aspect_ratio=:equal))"
   ]
  },
  {
   "cell_type": "code",
   "execution_count": null,
   "metadata": {},
   "outputs": [],
   "source": [
    "# Xsim_m = mat_from_vec(xhist[1:Nsim]-Xref[1:Nsim])   \n",
    "# Usim_m = mat_from_vec(uhist[1:Nsim-1])   \n",
    "# display(plot(Xsim_m[1:7,:]',label=[\"x\" \"y\" \"z\" \"qw\" \"qx\" \"qy\" \"qz\"],\n",
    "# linestyle=[:solid :solid :solid :dash :dash :dash :dash], linewidth=[2 2 2 2 2 2 2],\n",
    "#              title=\"State History\", xlabel=\"time (s)\", ylabel=\"x\"))\n",
    "# display(plot(Usim_m',label=[\"u₁\" \"u₂\" \"u₃\" \"u₄\"],\n",
    "#              title=\"Input History\", linewidth=[2 2 2 2 2 2 2],\n",
    "#              xlabel=\"time (s)\", ylabel=\"u\"))"
   ]
  },
  {
   "cell_type": "code",
   "execution_count": null,
   "metadata": {},
   "outputs": [],
   "source": [
    "Xsim_m = mat_from_vec(xhist[1:Nsim])   \n",
    "Usim_m = mat_from_vec(uhist[1:Nsim-1])   \n",
    "display(plot(Xsim_m[1:7,:]',label=[\"x\" \"y\" \"z\" \"qw\" \"qx\" \"qy\" \"qz\"],\n",
    "linestyle=[:solid :solid :solid :dash :dash :dash :dash], linewidth=[2 2 2 2 2 2 2],\n",
    "             title=\"State History\", xlabel=\"time (s)\", ylabel=\"x\"))\n",
    "display(plot(Usim_m',label=[\"u₁\" \"u₂\" \"u₃\" \"u₄\"],\n",
    "             title=\"Input History\", linewidth=[2 2 2 2 2 2 2],\n",
    "             xlabel=\"time (s)\", ylabel=\"u\"))"
   ]
  }
 ],
 "metadata": {
  "kernelspec": {
   "display_name": "Julia 1.7.3",
   "language": "julia",
   "name": "julia-1.7"
  },
  "language_info": {
   "file_extension": ".jl",
   "mimetype": "application/julia",
   "name": "julia",
   "version": "1.6.7"
  }
 },
 "nbformat": 4,
 "nbformat_minor": 4
}
