{
 "cells": [
  {
   "cell_type": "code",
   "execution_count": 58,
   "metadata": {},
   "outputs": [
    {
     "name": "stderr",
     "output_type": "stream",
     "text": [
      "\u001b[32m\u001b[1m  Activating\u001b[22m\u001b[39m environment at `~/SSD/Code/Julia/tinympc-julia/quat_mpc_lqr/Project.toml`\n"
     ]
    },
    {
     "name": "stderr",
     "output_type": "stream",
     "text": [
      "\u001b[32m\u001b[1mPrecompiling\u001b[22m\u001b[39m "
     ]
    },
    {
     "name": "stderr",
     "output_type": "stream",
     "text": [
      "project...\n"
     ]
    },
    {
     "name": "stderr",
     "output_type": "stream",
     "text": [
      "\u001b[32m  ✓ \u001b[39m\u001b[90mConstructionBase\u001b[39m\n"
     ]
    },
    {
     "name": "stderr",
     "output_type": "stream",
     "text": [
      "\u001b[32m  ✓ \u001b[39m\u001b[90mConcurrentUtilities\u001b[39m\n"
     ]
    },
    {
     "name": "stderr",
     "output_type": "stream",
     "text": [
      "\u001b[32m  ✓ \u001b[39m\u001b[90mTranscodingStreams\u001b[39m\n"
     ]
    },
    {
     "name": "stderr",
     "output_type": "stream",
     "text": [
      "\u001b[32m  ✓ \u001b[39m\u001b[90mCodecZlib\u001b[39m\n"
     ]
    },
    {
     "name": "stderr",
     "output_type": "stream",
     "text": [
      "\u001b[32m  ✓ \u001b[39m\u001b[90mOpenSSL\u001b[39m\n"
     ]
    },
    {
     "name": "stderr",
     "output_type": "stream",
     "text": [
      "\u001b[32m  ✓ \u001b[39m\u001b[90mLatexify\u001b[39m\n"
     ]
    },
    {
     "name": "stderr",
     "output_type": "stream",
     "text": [
      "\u001b[32m  ✓ \u001b[39m\u001b[90mHTTP\u001b[39m\n"
     ]
    },
    {
     "name": "stderr",
     "output_type": "stream",
     "text": [
      "\u001b[33m  ✓ \u001b[39m\u001b[90mGR\u001b[39m\n"
     ]
    },
    {
     "name": "stderr",
     "output_type": "stream",
     "text": [
      "\u001b[32m  ✓ \u001b[39m\u001b[90mUnitful\u001b[39m\n"
     ]
    },
    {
     "name": "stderr",
     "output_type": "stream",
     "text": [
      "\u001b[32m  ✓ \u001b[39m\u001b[90mUnitfulLatexify\u001b[39m\n"
     ]
    },
    {
     "name": "stderr",
     "output_type": "stream",
     "text": [
      "\u001b[33m  ✓ \u001b[39mPlots\n"
     ]
    },
    {
     "name": "stderr",
     "output_type": "stream",
     "text": [
      "  11 dependencies successfully precompiled in 67 seconds (124 already precompiled)\n",
      "  \u001b[33m2\u001b[39m dependencies precompiled but different versions are currently loaded. Restart julia to access the new versions\n"
     ]
    }
   ],
   "source": [
    "import Pkg; Pkg.activate(@__DIR__); Pkg.instantiate()"
   ]
  },
  {
   "cell_type": "code",
   "execution_count": 60,
   "metadata": {},
   "outputs": [],
   "source": [
    "using LinearAlgebra\n",
    "using BlockDiagonals\n",
    "using ForwardDiff\n",
    "using Plots\n",
    "using Random; \n",
    "using Printf"
   ]
  },
  {
   "cell_type": "code",
   "execution_count": 61,
   "metadata": {},
   "outputs": [
    {
     "data": {
      "text/plain": [
       "E (generic function with 1 method)"
      ]
     },
     "metadata": {},
     "output_type": "display_data"
    }
   ],
   "source": [
    "#Quaternion stuff\n",
    "function hat(v)\n",
    "    return [0 -v[3] v[2];\n",
    "            v[3] 0 -v[1];\n",
    "            -v[2] v[1] 0]\n",
    "end\n",
    "function L(q)\n",
    "    s = q[1]\n",
    "    v = q[2:4]\n",
    "    L = [s    -v';\n",
    "         v  s*I+hat(v)]\n",
    "    return L\n",
    "end\n",
    "T = Diagonal([1; -ones(3)])\n",
    "H = [zeros(1,3); I]\n",
    "function qtoQ(q)\n",
    "    return H'*T*L(q)*T*L(q)*H\n",
    "end\n",
    "function G(q)\n",
    "    G = L(q)*H\n",
    "end\n",
    "function rptoq(ϕ)\n",
    "    (1/sqrt(1+ϕ'*ϕ))*[1; ϕ]\n",
    "end\n",
    "function qtorp(q)\n",
    "    q[2:4]/q[1]\n",
    "end\n",
    "function E(q)\n",
    "    E = BlockDiagonal([1.0*I(3), G(q), 1.0*I(6)])\n",
    "end"
   ]
  },
  {
   "cell_type": "code",
   "execution_count": 327,
   "metadata": {},
   "outputs": [],
   "source": [
    "#Quadrotor parameters\n",
    "m = 0.035\n",
    "ℓ = 0.046\n",
    "J = [16.6e-6 0.83e-6 0.72e-6;\n",
    "    0.83e-6 16.6e-6 1.8e-6;\n",
    "    0.72e-6 1.8e-6 29.3e-6];\n",
    "g = 9.81\n",
    "# thrustToTorque = 0.005964552\n",
    "thrustToTorque = 0.0008\n",
    "ℓ = 0.046/sqrt(2)\n",
    "scale = 65535\n",
    "kt = 2.245365e-6*scale # u is PWM in range [0...1]\n",
    "km = kt*thrustToTorque #4.4733e-8\n",
    "\n",
    "freq1 = 100\n",
    "h = 1/freq1 #50 Hz\n",
    "\n",
    "Nx = 13     # number of states (quaternion)\n",
    "Nx̃ = 12     # number of states (linearized)\n",
    "Nu = 4     # number of controls\n",
    "nx = Nx̃\n",
    "nu = Nu\n",
    "Tfinal = 5.0 # final time\n",
    "Nt = Int(Tfinal/h)+1    # number of time steps\n",
    "t_vec = h*(0:Nt-1)\n",
    "thist = Array(range(0,h*(Nt-1), step=h));"
   ]
  },
  {
   "cell_type": "code",
   "execution_count": 328,
   "metadata": {},
   "outputs": [
    {
     "data": {
      "text/plain": [
       "quad_dynamics_rk4 (generic function with 2 methods)"
      ]
     },
     "metadata": {},
     "output_type": "display_data"
    }
   ],
   "source": [
    "function quad_dynamics(x,u)\n",
    "  r = x[1:3]\n",
    "  q = x[4:7]/norm(x[4:7]) #normalize q just to be careful\n",
    "  v = x[8:10]\n",
    "  ω = x[11:13]\n",
    "  Q = qtoQ(q)\n",
    "  \n",
    "  ṙ = v\n",
    "  q̇ = 0.5*L(q)*H*ω\n",
    "  \n",
    "  v̇ = [0; 0; -g] + (1/m)*Q*[zeros(2,4); kt*ones(1,4)]*u \n",
    "\n",
    "  ω̇ = J\\(-hat(ω)*J*ω + [-ℓ*kt -ℓ*kt ℓ*kt ℓ*kt; -ℓ*kt ℓ*kt ℓ*kt -ℓ*kt; -km km -km km]*u)\n",
    "  \n",
    "  return [ṙ; q̇; v̇; ω̇]\n",
    "end\n",
    "function quad_dynamics_rk4(x,u,h)\n",
    "  #RK4 integration with zero-order hold on u\n",
    "  f1 = quad_dynamics(x, u)\n",
    "  f2 = quad_dynamics(x + 0.5*h*f1, u)\n",
    "  f3 = quad_dynamics(x + 0.5*h*f2, u)\n",
    "  f4 = quad_dynamics(x + h*f3, u)\n",
    "  xn = x + (h/6.0)*(f1 + 2*f2 + 2*f3 + f4)\n",
    "  xn[4:7] .= xn[4:7]/norm(xn[4:7]) #re-normalize quaternion\n",
    "  return xn\n",
    "end"
   ]
  },
  {
   "cell_type": "code",
   "execution_count": 329,
   "metadata": {},
   "outputs": [
    {
     "name": "stdout",
     "output_type": "stream",
     "text": [
      "uhover = (((m * g) / kt) / 4) * ones(4) = [0.5833333520642209, 0.5833333520642209, 0.5833333520642209, 0.5833333520642209]\n"
     ]
    }
   ],
   "source": [
    "#Goal state\n",
    "@show uhover = (m*g/kt/4)*ones(4)  # m = 30g and max thrust = 60g\n",
    "rg = [0.0; 0; 0.0]\n",
    "qg = [1.0; 0; 0; 0]\n",
    "vg = zeros(3)\n",
    "ωg = zeros(3)\n",
    "xg = [rg; qg; vg; ωg];"
   ]
  },
  {
   "cell_type": "code",
   "execution_count": 330,
   "metadata": {},
   "outputs": [
    {
     "ename": "InterruptException",
     "evalue": "InterruptException:",
     "output_type": "error",
     "traceback": [
      "InterruptException:\n",
      "\n",
      "Stacktrace:\n",
      " [1] qtoQ(q::Vector{ForwardDiff.Dual{ForwardDiff.Tag{var\"#1288#1289\", Float64}, Float64, 7}})\n",
      "   @ Main ~/SSD/Code/Julia/tinympc-julia/quat_mpc_lqr/quadrotor_admm_100hz_eigen.ipynb:17\n",
      " [2] quad_dynamics(x::Vector{ForwardDiff.Dual{ForwardDiff.Tag{var\"#1288#1289\", Float64}, Float64, 7}}, u::Vector{Float64})\n",
      "   @ Main ~/SSD/Code/Julia/tinympc-julia/quat_mpc_lqr/quadrotor_admm_100hz_eigen.ipynb:6\n",
      " [3] quad_dynamics_rk4(x::Vector{ForwardDiff.Dual{ForwardDiff.Tag{var\"#1288#1289\", Float64}, Float64, 7}}, u::Vector{Float64}, h::Float64)\n",
      "   @ Main ~/SSD/Code/Julia/tinympc-julia/quat_mpc_lqr/quadrotor_admm_100hz_eigen.ipynb:19\n",
      " [4] (::var\"#1288#1289\")(x::Vector{ForwardDiff.Dual{ForwardDiff.Tag{var\"#1288#1289\", Float64}, Float64, 7}})\n",
      "   @ Main ~/SSD/Code/Julia/tinympc-julia/quat_mpc_lqr/quadrotor_admm_100hz_eigen.ipynb:2\n",
      " [5] chunk_mode_jacobian(f::var\"#1288#1289\", x::Vector{Float64}, cfg::ForwardDiff.JacobianConfig{ForwardDiff.Tag{var\"#1288#1289\", Float64}, Float64, 7, Vector{ForwardDiff.Dual{ForwardDiff.Tag{var\"#1288#1289\", Float64}, Float64, 7}}})\n",
      "   @ ForwardDiff ~/.julia/packages/ForwardDiff/vXysl/src/jacobian.jl:183\n",
      " [6] jacobian(f::Function, x::Vector{Float64}, cfg::ForwardDiff.JacobianConfig{ForwardDiff.Tag{var\"#1288#1289\", Float64}, Float64, 7, Vector{ForwardDiff.Dual{ForwardDiff.Tag{var\"#1288#1289\", Float64}, Float64, 7}}}, ::Val{true})\n",
      "   @ ForwardDiff ~/.julia/packages/ForwardDiff/vXysl/src/jacobian.jl:23\n",
      " [7] jacobian(f::Function, x::Vector{Float64}, cfg::ForwardDiff.JacobianConfig{ForwardDiff.Tag{var\"#1288#1289\", Float64}, Float64, 7, Vector{ForwardDiff.Dual{ForwardDiff.Tag{var\"#1288#1289\", Float64}, Float64, 7}}}) (repeats 2 times)\n",
      "   @ ForwardDiff ~/.julia/packages/ForwardDiff/vXysl/src/jacobian.jl:19\n",
      " [8] top-level scope\n",
      "   @ ~/SSD/Code/Julia/tinympc-julia/quat_mpc_lqr/quadrotor_admm_100hz_eigen.ipynb:2"
     ]
    }
   ],
   "source": [
    "#Linearize dynamics about hover\n",
    "A = ForwardDiff.jacobian(x->quad_dynamics_rk4(x,uhover,h),xg)\n",
    "B = ForwardDiff.jacobian(u->quad_dynamics_rk4(xg,u,h),uhover);\n",
    "Ã = Array(E(qg)'*A*E(qg))\n",
    "B̃ = Array(E(qg)'*B);\n",
    "function discrete_dynamics(params,x,u,k)\n",
    "  Ã*x + B̃*u \n",
    "end"
   ]
  },
  {
   "cell_type": "code",
   "execution_count": 331,
   "metadata": {},
   "outputs": [],
   "source": [
    "#Linearize dynamics about hover\n",
    "A1 = ForwardDiff.jacobian(x->quad_dynamics(x,uhover),xg)\n",
    "B1 = ForwardDiff.jacobian(u->quad_dynamics(xg,u),uhover);\n",
    "Ã1 = Array(E(qg)'*A1*E(qg))\n",
    "B̃1 = Array(E(qg)'*B1);"
   ]
  },
  {
   "cell_type": "code",
   "execution_count": 332,
   "metadata": {},
   "outputs": [
    {
     "data": {
      "text/plain": [
       "75.83970103963972"
      ]
     },
     "metadata": {},
     "output_type": "display_data"
    }
   ],
   "source": [
    "cond(B)"
   ]
  },
  {
   "cell_type": "code",
   "execution_count": 333,
   "metadata": {},
   "outputs": [
    {
     "data": {
      "text/plain": [
       "13×13 Matrix{Float64}:\n",
       " 0.0  0.0  0.0  0.0    0.0    0.0   0.0  1.0  0.0  0.0  0.0  0.0  0.0\n",
       " 0.0  0.0  0.0  0.0    0.0    0.0   0.0  0.0  1.0  0.0  0.0  0.0  0.0\n",
       " 0.0  0.0  0.0  0.0    0.0    0.0   0.0  0.0  0.0  1.0  0.0  0.0  0.0\n",
       " 0.0  0.0  0.0  0.0    0.0    0.0   0.0  0.0  0.0  0.0  0.0  0.0  0.0\n",
       " 0.0  0.0  0.0  0.0    0.0    0.0   0.0  0.0  0.0  0.0  0.5  0.0  0.0\n",
       " 0.0  0.0  0.0  0.0    0.0    0.0   0.0  0.0  0.0  0.0  0.0  0.5  0.0\n",
       " 0.0  0.0  0.0  0.0    0.0    0.0   0.0  0.0  0.0  0.0  0.0  0.0  0.5\n",
       " 0.0  0.0  0.0  0.0    0.0   19.62  0.0  0.0  0.0  0.0  0.0  0.0  0.0\n",
       " 0.0  0.0  0.0  0.0  -19.62   0.0   0.0  0.0  0.0  0.0  0.0  0.0  0.0\n",
       " 0.0  0.0  0.0  0.0    0.0    0.0   0.0  0.0  0.0  0.0  0.0  0.0  0.0\n",
       " 0.0  0.0  0.0  0.0    0.0    0.0   0.0  0.0  0.0  0.0  0.0  0.0  0.0\n",
       " 0.0  0.0  0.0  0.0    0.0    0.0   0.0  0.0  0.0  0.0  0.0  0.0  0.0\n",
       " 0.0  0.0  0.0  0.0    0.0    0.0   0.0  0.0  0.0  0.0  0.0  0.0  0.0"
      ]
     },
     "metadata": {},
     "output_type": "display_data"
    }
   ],
   "source": [
    "A1"
   ]
  },
  {
   "cell_type": "code",
   "execution_count": 334,
   "metadata": {},
   "outputs": [
    {
     "name": "stdout",
     "output_type": "stream",
     "text": [
      "A << \n",
      "1.000000f,0.000000f,0.000000f,0.000000f,0.000981f,0.000000f,0.010000f,0.000000f,0.000000f,0.000000f,0.000002f,0.000000f,\n",
      "0.000000f,1.000000f,0.000000f,-0.000981f,0.000000f,0.000000f,0.000000f,0.010000f,0.000000f,-0.000002f,0.000000f,0.000000f,\n",
      "0.000000f,0.000000f,1.000000f,0.000000f,0.000000f,0.000000f,0.000000f,0.000000f,0.010000f,0.000000f,0.000000f,0.000000f,\n",
      "0.000000f,0.000000f,0.000000f,1.000000f,0.000000f,0.000000f,0.000000f,0.000000f,0.000000f,0.005000f,0.000000f,0.000000f,\n",
      "0.000000f,0.000000f,0.000000f,0.000000f,1.000000f,0.000000f,0.000000f,0.000000f,0.000000f,0.000000f,0.005000f,0.000000f,\n",
      "0.000000f,0.000000f,0.000000f,0.000000f,0.000000f,1.000000f,0.000000f,0.000000f,0.000000f,0.000000f,0.000000f,0.005000f,\n",
      "0.000000f,0.000000f,0.000000f,0.000000f,0.196200f,0.000000f,1.000000f,0.000000f,0.000000f,0.000000f,0.000491f,0.000000f,\n",
      "0.000000f,0.000000f,0.000000f,-0.196200f,0.000000f,0.000000f,0.000000f,1.000000f,0.000000f,-0.000491f,0.000000f,0.000000f,\n",
      "0.000000f,0.000000f,0.000000f,0.000000f,0.000000f,0.000000f,0.000000f,0.000000f,1.000000f,0.000000f,0.000000f,0.000000f,\n",
      "0.000000f,0.000000f,0.000000f,0.000000f,0.000000f,0.000000f,0.000000f,0.000000f,0.000000f,1.000000f,0.000000f,0.000000f,\n",
      "0.000000f,0.000000f,0.000000f,0.000000f,0.000000f,0.000000f,0.000000f,0.000000f,0.000000f,0.000000f,1.000000f,0.000000f,\n",
      "0.000000f,0.000000f,0.000000f,0.000000f,0.000000f,0.000000f,0.000000f,0.000000f,0.000000f,0.000000f,0.000000f,1.000000f;\n",
      "\n"
     ]
    }
   ],
   "source": [
    "@printf(\"%s\",export_mat_to_eigen(\"A << \", Ã))"
   ]
  },
  {
   "cell_type": "code",
   "execution_count": 335,
   "metadata": {},
   "outputs": [
    {
     "data": {
      "text/plain": [
       "discrete_dynamics_stretch (generic function with 1 method)"
      ]
     },
     "metadata": {},
     "output_type": "display_data"
    }
   ],
   "source": [
    "# Adaptive step in MPC horizon: use normal dt and model in the first specified \n",
    "# `adaptive_step` steps and after that use the stretch mode (larger dt and model)\n",
    "freq2 = 1\n",
    "h = 1/freq2 #25 Hz stretch interval dynamics\n",
    "#Linearize dynamics about hover\n",
    "As = ForwardDiff.jacobian(x->quad_dynamics_rk4(x,uhover,h),xg)\n",
    "Bs = ForwardDiff.jacobian(u->quad_dynamics_rk4(xg,u,h),uhover);\n",
    "Ãs = Array(E(qg)'*As*E(qg))\n",
    "B̃s = Array(E(qg)'*Bs);\n",
    "function discrete_dynamics_stretch(params,x,u,k)\n",
    "  Ãs*x + B̃s*u\n",
    "end\n"
   ]
  },
  {
   "cell_type": "code",
   "execution_count": 336,
   "metadata": {},
   "outputs": [
    {
     "data": {
      "text/plain": [
       "250"
      ]
     },
     "metadata": {},
     "output_type": "display_data"
    }
   ],
   "source": [
    "h = 1/freq1 #50 Hz normal dynamics\n",
    "step_ratio = Int(freq1/freq2)\n",
    "# display(Ãs)\n",
    "# display(Ã)"
   ]
  },
  {
   "cell_type": "code",
   "execution_count": 337,
   "metadata": {},
   "outputs": [
    {
     "data": {
      "text/plain": [
       "12×12 Matrix{Float64}:\n",
       " 100.0    0.0    0.0  0.0  0.0    0.0  0.0  0.0  0.0  0.0      0.0       0.0\n",
       "   0.0  100.0    0.0  0.0  0.0    0.0  0.0  0.0  0.0  0.0      0.0       0.0\n",
       "   0.0    0.0  100.0  0.0  0.0    0.0  0.0  0.0  0.0  0.0      0.0       0.0\n",
       "   0.0    0.0    0.0  4.0  0.0    0.0  0.0  0.0  0.0  0.0      0.0       0.0\n",
       "   0.0    0.0    0.0  0.0  4.0    0.0  0.0  0.0  0.0  0.0      0.0       0.0\n",
       "   0.0    0.0    0.0  0.0  0.0  400.0  0.0  0.0  0.0  0.0      0.0       0.0\n",
       "   0.0    0.0    0.0  0.0  0.0    0.0  4.0  0.0  0.0  0.0      0.0       0.0\n",
       "   0.0    0.0    0.0  0.0  0.0    0.0  0.0  4.0  0.0  0.0      0.0       0.0\n",
       "   0.0    0.0    0.0  0.0  0.0    0.0  0.0  0.0  4.0  0.0      0.0       0.0\n",
       "   0.0    0.0    0.0  0.0  0.0    0.0  0.0  0.0  0.0  2.04082  0.0       0.0\n",
       "   0.0    0.0    0.0  0.0  0.0    0.0  0.0  0.0  0.0  0.0      2.04082   0.0\n",
       "   0.0    0.0    0.0  0.0  0.0    0.0  0.0  0.0  0.0  0.0      0.0      25.0"
      ]
     },
     "metadata": {},
     "output_type": "display_data"
    },
    {
     "data": {
      "text/plain": [
       "4×4 Matrix{Float64}:\n",
       " 394.0    0.0    0.0    0.0\n",
       "   0.0  394.0    0.0    0.0\n",
       "   0.0    0.0  394.0    0.0\n",
       "   0.0    0.0    0.0  394.0"
      ]
     },
     "metadata": {},
     "output_type": "display_data"
    },
    {
     "data": {
      "text/plain": [
       "1.63644107032777"
      ]
     },
     "metadata": {},
     "output_type": "display_data"
    }
   ],
   "source": [
    "# IHLQR terminal cost\n",
    "P = [zeros(nx,nx) for i = 1:200]   # cost to go quadratic term\n",
    "p = [zeros(nx) for i = 1:200]      # cost to go linear term\n",
    "d = [zeros(nu) for i = 1:200-1]    # feedforward control\n",
    "K = [zeros(nu,nx) for i = 1:200-1] # feedback gain\n",
    "\n",
    "# Cost weights\n",
    "# Saved\n",
    "# max_dev_x = [0.1; 0.1; 0.1;  0.5; 0.5; 0.05;  0.5; 0.5; 0.5;  0.5; 0.5; 0.1]\n",
    "# max_dev_u = [0.5; 0.5; 0.5; 0.5]/10\n",
    "max_dev_x = [0.1; 0.1; 0.1;  0.5; 0.5; 0.05;  0.5; 0.5; 0.5;  0.7; 0.7; 0.2]\n",
    "max_dev_u = [0.5; 0.5; 0.5; 0.5]/6\n",
    "Q = diagm(1 ./(max_dev_x.^2))\n",
    "R = diagm(1 ./(max_dev_u.^2))\n",
    "\n",
    "# Q = Array(Diagonal([10; 10; 10; 1; 1; 1; 1; 1; 1; 1; 1; 1.]));\n",
    "# R = Array(1*I(Nu));\n",
    "Qf = 1*Q\n",
    "\n",
    "# PENALTY - important!!\n",
    "ρ = 250.0\n",
    "R̃ = R + ρ*I  \n",
    "\n",
    "display(Q)\n",
    "display(R̃)\n",
    "\n",
    "# Precompute\n",
    "cache = (\n",
    "    Kinf = zeros(nu,nx),\n",
    "    Pinf = zeros(nx,nx),\n",
    "    Kinf2 = zeros(nu,nx),\n",
    "    Pinf2 = zeros(nx,nx),\n",
    "    Quu_inv = zeros(nu,nu),\n",
    "    Quu_inv2 = zeros(nu,nu),\n",
    "    AmBKt = zeros(nx,nx), \n",
    "    AmBKt2 = zeros(nx,nx), #(Ã - B̃*K[1])',\n",
    "    coeff_d2p = zeros(nx,nu), \n",
    "    coeff_d2p2 = zeros(nx,nu), \n",
    ")\n",
    "\n",
    "P[200] .= Q\n",
    "for k = (200-1):-1:1\n",
    "    K[k] .= (R̃ + B̃s'*P[k+1]*B̃s)\\(B̃s'*P[k+1]*Ãs)\n",
    "    P[k] .= Q + Ãs'*P[k+1]*(Ãs - B̃s*K[k])\n",
    "end\n",
    "cache.Kinf2 .= K[1]  # correct, tested with dlqr\n",
    "cache.Pinf2 .= P[1]\n",
    "cache.AmBKt2 .= (Ãs - B̃s*K[1])'\n",
    "for k = (200-1):-1:1\n",
    "    K[k] .= (R̃ + B̃'*P[k+1]*B̃)\\(B̃'*P[k+1]*Ã)\n",
    "    P[k] .= Q + Ã'*P[k+1]*(Ã - B̃*K[k])\n",
    "end\n",
    "cache.Kinf .= K[1]\n",
    "cache.Pinf .= P[1]\n",
    "cache.AmBKt .= (Ã - B̃*K[1])'\n",
    "\n",
    "cache.Quu_inv .= (R̃ + B̃'*cache.Pinf*B̃)\\I\n",
    "display(cond(cache.Quu_inv))\n",
    "cache.Quu_inv2 .= (R̃ + B̃s'*cache.Pinf2*B̃s)\\I\n",
    "\n",
    "cache.coeff_d2p .= cache.Kinf'*R̃ - cache.AmBKt*cache.Pinf*B̃\n",
    "cache.coeff_d2p2 .= cache.Kinf2'*R̃ - cache.AmBKt2*cache.Pinf2*B̃s;"
   ]
  },
  {
   "cell_type": "code",
   "execution_count": 338,
   "metadata": {},
   "outputs": [
    {
     "data": {
      "text/plain": [
       "4×12 Matrix{Float64}:\n",
       " -0.200445   0.199248  0.244297  …  -0.0414776  -0.0496284  -0.213035\n",
       "  0.197451   0.192874  0.244297     -0.0293596   0.0480693   0.213545\n",
       "  0.192755  -0.196186  0.244297      0.0309591   0.0233255  -0.214782\n",
       " -0.189761  -0.195936  0.244297      0.0398781  -0.0217665   0.214272"
      ]
     },
     "metadata": {},
     "output_type": "display_data"
    },
    {
     "name": "stdout",
     "output_type": "stream",
     "text": [
      "FOR C:\n",
      "static float K[NU][NXt] = {\n",
      "  {-0.200445f,0.199248f,0.244297f,-0.578989f,-0.616091f,-0.483924f,-0.117380f,0.114797f,0.177146f,-0.041478f,-0.049628f,-0.213035f},\n",
      "  {0.197451f,0.192874f,0.244297f,-0.513415f,0.598443f,0.488622f,0.114843f,0.108382f,0.177146f,-0.029360f,0.048069f,0.213545f},\n",
      "  {0.192755f,-0.196186f,0.244297f,0.531814f,0.498047f,-0.500136f,0.108093f,-0.111090f,0.177146f,0.030959f,0.023326f,-0.214782f},\n",
      "  {-0.189761f,-0.195936f,0.244297f,0.560590f,-0.480399f,0.495439f,-0.105555f,-0.112088f,0.177146f,0.039878f,-0.021766f,0.214272f},\n",
      "};"
     ]
    }
   ],
   "source": [
    "display(cache.Kinf)\n",
    "# C Language for LQR2 alone\n",
    "@printf(\"FOR C:\\n\");\n",
    "str = \"static float K[NU][NXt] = {\\n\"\n",
    "for i = 1:4\n",
    "  str = str * \"  {\"\n",
    "  for j = 1:12\n",
    "    # if abs(K[i, j]) < 1e-6\n",
    "    #   K[i, j] = 0.0\n",
    "    # end\n",
    "    this_str = @sprintf(\"%.6f\", cache.Kinf[i, j])\n",
    "\n",
    "    str = str * this_str * \"f\"\n",
    "    if j < 12\n",
    "      str = str * \",\"\n",
    "    end\n",
    "  end\n",
    "  str = str * \"},\\n\"\n",
    "end\n",
    "str = str * \"};\"\n",
    "@printf(\"%s\",str)"
   ]
  },
  {
   "cell_type": "code",
   "execution_count": 339,
   "metadata": {},
   "outputs": [
    {
     "data": {
      "text/plain": [
       "update_reference (generic function with 1 method)"
      ]
     },
     "metadata": {},
     "output_type": "display_data"
    }
   ],
   "source": [
    "#Feedback tracking controller\n",
    "include(\"tinyMPC-ADMM-dt.jl\")\n",
    "N = 3\n",
    "dt = 1/freq1\n",
    "Tfinal = 10.0 # final time\n",
    "Nt = Int(Tfinal/h)+1    # number of time steps\n",
    "t_vec = h*(0:Nt-1)\n",
    "\n",
    "\n",
    "#Create trajectory to follow\n",
    "Xref = [[zeros(3); 1; zeros(9)] for i = 1:Nt]\n",
    "Δx̃ref = [zeros(nx) for i = 1:Nt]\n",
    "ΔUref = [zeros(nu) for i = 1:Nt-1]\n",
    "\n",
    "## Hovering\n",
    "# Xref = [xg for i = 1:Nt]\n",
    "\n",
    "## Number-eight\n",
    "# Xref = [[1*cos(t)*sin(t);1*cos(t);0.5;1;zeros(9)] for t = range(-pi/2, 3*pi/2, length = Nt)]  \n",
    "\n",
    "## Triangle\n",
    "p0 = [0; 0; 1.0]; p1 = [3; 4; 1.]; p2 = [0; 8; 1.]; p3 = [0; -2; 1.0]\n",
    "range1 = collect(LinRange(p0, p1, round(Int,(Nt)/3)))\n",
    "range2 = collect(LinRange(p1, p2, round(Int,(Nt)/3)))\n",
    "range3 = collect(LinRange(p2, p3, round(Int,(Nt)/3)+1))\n",
    "range123 = [range1; range2; range3]\n",
    "for k = 1:Nt\n",
    "    Xref[k][1:3] .= range123[k]\n",
    "end\n",
    "\n",
    "# Square\n",
    "# p0 = [0; 0; 0.5]; p1 = [2; 0; 0.5]; p2 = [2; 2; 0.5]; p3 = [0; 2; 0.5]\n",
    "# range1 = collect(LinRange(p0, p1, round(Int,(Nt)/4)))\n",
    "# range2 = collect(LinRange(p1, p2, round(Int,(Nt)/4)))\n",
    "# range3 = collect(LinRange(p2, p3, round(Int,(Nt)/4)))\n",
    "# range4 = collect(LinRange(p3, p0, round(Int,(Nt)/4)+1))\n",
    "# range1234 = [range1; range2; range3; range4]\n",
    "# for k = 1:Nt\n",
    "#     Xref[k][1:3] .= range1234[k]\n",
    "# end\n",
    "\n",
    "# Velocity reference: speeds up the tracking but less smooth\n",
    "for i = 1:Nt-1\n",
    "    Xref[i][8:10] = (Xref[i+1][1:3] - Xref[i][1:3])/dt/1.0\n",
    "end\n",
    "for k = 1:Nt\n",
    "    x = Xref[k]\n",
    "    q = x[4:7]\n",
    "    ϕ = qtorp(L(qg)'*q)   \n",
    "    Δx̃ref[k] .= [x[1:3]-rg; ϕ; x[8:10]-vg; x[11:13]-ωg]\n",
    "end\n",
    "\n",
    "\n",
    "u_min = -uhover #-0.5*ones(nu)\n",
    "u_max =  1 .- uhover #0.5*ones(nu)\n",
    "\n",
    "# state is x y v θ\n",
    "x_min = -100*ones(nx)\n",
    "x_min[3] = -0.2\n",
    "x_max = 100*ones(nx)\n",
    "x_max[3] = 0.2\n",
    "\n",
    "# previous MPC iterate\n",
    "X = [zeros(nx) for i = 1:N]\n",
    "U = [zeros(nu) for k = 1:N-1]\n",
    "Z = [zeros(nu) for i = 1:N-1]\n",
    "Znew = [zeros(nu) for i = 1:N-1]\n",
    "Y = [zeros(nu) for i = 1:N-1]\n",
    "\n",
    "params = (\n",
    "    nx = nx, nu = nu,\n",
    "    N = N, Q = Q, R = R, Qf = Qf,\n",
    "    u_min = u_min, u_max = u_max,\n",
    "    x_min = x_min, x_max = x_max,\n",
    "    Xref = Δx̃ref, Uref = ΔUref, dt = dt, cache = cache\n",
    ");\n",
    "\n",
    "\n",
    "P = [zeros(nx,nx) for i = 1:N]   # cost to go quadratic term\n",
    "p = [zeros(nx) for i = 1:N]      # cost to go linear term\n",
    "d = [zeros(nu) for i = 1:N-1]    # feedforward control\n",
    "K = [zeros(nu,nx) for i = 1:N-1] # feedback gain\n",
    "qq = [zeros(nx) for i = 1:N]\n",
    "r = [zeros(nu) for i = 1:N-1]\n",
    "\n",
    "verbose = 0\n",
    "adaptive_step = 0\n",
    "iters = zeros(1000)\n",
    "function controller_mpc(params, x, k)\n",
    "    q = x[4:7]\n",
    "    ϕ = qtorp(L(qg)'*q)\n",
    "    \n",
    "    Δx̃ = [x[1:3]-rg; ϕ; x[8:10]-vg; x[11:13]-ωg]\n",
    "    X[1] .= Δx̃\n",
    "    u, status, iters[k] = solve_admm!(params,qq,R̃,r,P,p,K,d,X,U,Z,Znew,Y; ρ=ρ,abs_tol=1e-2,max_iter=100,adaptive_step=adaptive_step)\n",
    "    # u = -cache.Kinf*(Δx̃ - Δx̃ref[k])\n",
    "    # display(iters[k])\n",
    "    # status == 0 && display(\"Max iteration reached\")\n",
    "    return u + uhover\n",
    "end\n",
    "\n",
    "#ASK: Do I need to stretch the reference?\n",
    "function update_reference(params, k)\n",
    "    Uref_ = 1*ΔUref[k:N+k-2]\n",
    "    Xref_ = 1*Δx̃ref[k:N+k-1]\n",
    "\n",
    "    if (adaptive_step > 0)\n",
    "        for i = 3:N-1\n",
    "            Uref_[i] .= ΔUref[k+1+(i-2)*step_ratio]\n",
    "            Xref_[i] .= Δx̃ref[k+1+(i-2)*step_ratio]\n",
    "        end\n",
    "        Xref_[N] .= Δx̃ref[k+1+(N-2)*step_ratio]\n",
    "        # for i = 3:N-1\n",
    "        #     Xref_[i][7:9] = (Xref_[i+1][1:3] - Xref_[i][1:3])/freq2\n",
    "        # end\n",
    "    end\n",
    "\n",
    "    params1 = (; params..., Uref = Uref_, Xref = Xref_)  # update ref\n",
    "    return params1\n",
    "end\n"
   ]
  },
  {
   "cell_type": "code",
   "execution_count": 340,
   "metadata": {},
   "outputs": [
    {
     "ename": "BoundsError",
     "evalue": "BoundsError: attempt to access 1000-element Vector{Float64} at index [1001]",
     "output_type": "error",
     "traceback": [
      "BoundsError: attempt to access 1000-element Vector{Float64} at index [1001]\n",
      "\n",
      "Stacktrace:\n",
      " [1] setindex!(A::Vector{Float64}, x::Int64, i1::Int64)\n",
      "   @ Base ./array.jl:843\n",
      " [2] controller_mpc(params::NamedTuple{(:nx, :nu, :N, :Q, :R, :Qf, :u_min, :u_max, :x_min, :x_max, :Xref, :Uref, :dt, :cache), Tuple{Int64, Int64, Int64, Matrix{Float64}, Matrix{Float64}, Matrix{Float64}, Vector{Float64}, Vector{Float64}, Vector{Float64}, Vector{Float64}, Vector{Vector{Float64}}, Vector{Vector{Float64}}, Float64, NamedTuple{(:Kinf, :Pinf, :Kinf2, :Pinf2, :Quu_inv, :Quu_inv2, :AmBKt, :AmBKt2, :coeff_d2p, :coeff_d2p2), NTuple{10, Matrix{Float64}}}}}, x::Vector{Float64}, k::Int64)\n",
      "   @ Main ~/SSD/Code/Julia/tinympc-julia/quat_mpc_lqr/quadrotor_admm_100hz_eigen.ipynb:95\n",
      " [3] top-level scope\n",
      "   @ ~/SSD/Code/Julia/tinympc-julia/quat_mpc_lqr/quadrotor_admm_100hz_eigen.ipynb:16"
     ]
    }
   ],
   "source": [
    "# Simulation\n",
    "uhist = [zeros(Nu) for i in 1:Nt-1]\n",
    "xhist = [zeros(Nx) for i in 1:Nt]\n",
    "Random.seed!(12);\n",
    "# xhist[1] .= [rg+0*randn(3)/3; L(qg)*rptoq([1; 0; 0]); vg; ωg]  # initial conditions\n",
    "# xhist[1] .= Xref[1]\n",
    "xhist[1] .= Xref[1]; xhist[1][1:3] += rand(3)*0.2\n",
    "backward_pass!(Q,qq,R̃,r,P,p,K,d,params,adaptive_step)\n",
    "Nsim = Nt - 100 - 1\n",
    "for k = 1:Nsim\n",
    "# for k = 1:3\n",
    "    params1 = update_reference(params, k)\n",
    "    # display(params1.Xref)\n",
    "    # display(xhist[k])\n",
    "    # shift_fill(U)\n",
    "    uhist[k] = controller_mpc(params1, xhist[k], k)\n",
    "    uhist[k] = clamp.(uhist[k], (uhover+u_min)[1], (uhover+u_max)[1])\n",
    "    xhist[k+1] = quad_dynamics_rk4(xhist[k],uhist[k],h) \n",
    "end"
   ]
  },
  {
   "cell_type": "code",
   "execution_count": 341,
   "metadata": {},
   "outputs": [
    {
     "data": {
      "text/plain": [
       "2.0"
      ]
     },
     "metadata": {},
     "output_type": "display_data"
    }
   ],
   "source": [
    "maximum(iters)"
   ]
  },
  {
   "cell_type": "code",
   "execution_count": 342,
   "metadata": {},
   "outputs": [
    {
     "ename": "InterruptException",
     "evalue": "InterruptException:",
     "output_type": "error",
     "traceback": [
      "InterruptException:\n",
      "\n",
      "Stacktrace:\n",
      " [1] hcat(::Vector{Float64}, ::Vector{Float64}, ::Vector{Float64}, ::Vararg{Vector{Float64}, N} where N)\n",
      "   @ Base ./array.jl:1717\n",
      " [2] mat_from_vec(X::Vector{Vector{Float64}})\n",
      "   @ Main ~/SSD/Code/Julia/tinympc-julia/quat_mpc_lqr/tinyMPC-ADMM-dt.jl:130\n",
      " [3] top-level scope\n",
      "   @ ~/SSD/Code/Julia/tinympc-julia/quat_mpc_lqr/quadrotor_admm_100hz_eigen.ipynb:1"
     ]
    }
   ],
   "source": [
    "Xsim_m = mat_from_vec(Xref[1:Nsim])\n",
    "plot(Xsim_m[2,:],Xsim_m[1,:],label=\"ref\",\n",
    "linestyle=:solid, linewidth=2,\n",
    "             title=\"State History\", xlabel=\"y\", ylabel=\"x\")\n",
    "Xsim_m = mat_from_vec(xhist[1:Nsim])   \n",
    "display(plot!(Xsim_m[2,:],Xsim_m[1,:],label=\"real\", linestyle=:dash, linewidth=2,\n",
    "             title=\"State History\", xlabel=\"y\", ylabel=\"x\", aspect_ratio=:equal))"
   ]
  },
  {
   "cell_type": "code",
   "execution_count": 343,
   "metadata": {},
   "outputs": [
    {
     "data": {
      "image/png": "[encoded data removed]",
      "image/svg+xml": [
       "<?xml version=\"1.0\" encoding=\"utf-8\"?>\n",
       "<svg xmlns=\"http://www.w3.org/2000/svg\" xmlns:xlink=\"http://www.w3.org/1999/xlink\" width=\"600\" height=\"400\" viewBox=\"0 0 2400 1600\">\n",
       "<defs>\n",
       "  <clipPath id=\"clip130\">\n",
       "    <rect x=\"0\" y=\"0\" width=\"2400\" height=\"1600\"/>\n",
       "  </clipPath>\n",
       "</defs>\n",
       "<path clip-path=\"url(#clip130)\" d=\"M0 1600 L2400 1600 L2400 0 L0 0  Z\" fill=\"#ffffff\" fill-rule=\"evenodd\" fill-opacity=\"1\"/>\n",
       "<defs>\n",
       "  <clipPath id=\"clip131\">\n",
       "    <rect x=\"480\" y=\"0\" width=\"1681\" height=\"1600\"/>\n",
       "  </clipPath>\n",
       "</defs>\n",
       "<path clip-path=\"url(#clip130)\" d=\"M174.149 1423.18 L2352.76 1423.18 L2352.76 123.472 L174.149 123.472  Z\" fill=\"#ffffff\" fill-rule=\"evenodd\" fill-opacity=\"1\"/>\n",
       "<defs>\n",
       "  <clipPath id=\"clip132\">\n",
       "    <rect x=\"174\" y=\"123\" width=\"2180\" height=\"1301\"/>\n",
       "  </clipPath>\n",
       "</defs>\n",
       "<polyline clip-path=\"url(#clip132)\" style=\"stroke:#000000; stroke-linecap:round; stroke-linejoin:round; stroke-width:2; stroke-opacity:0.1; fill:none\" points=\"415.189,1423.18 415.189,123.472 \"/>\n",
       "<polyline clip-path=\"url(#clip132)\" style=\"stroke:#000000; stroke-linecap:round; stroke-linejoin:round; stroke-width:2; stroke-opacity:0.1; fill:none\" points=\"884.166,1423.18 884.166,123.472 \"/>\n",
       "<polyline clip-path=\"url(#clip132)\" style=\"stroke:#000000; stroke-linecap:round; stroke-linejoin:round; stroke-width:2; stroke-opacity:0.1; fill:none\" points=\"1353.14,1423.18 1353.14,123.472 \"/>\n",
       "<polyline clip-path=\"url(#clip132)\" style=\"stroke:#000000; stroke-linecap:round; stroke-linejoin:round; stroke-width:2; stroke-opacity:0.1; fill:none\" points=\"1822.12,1423.18 1822.12,123.472 \"/>\n",
       "<polyline clip-path=\"url(#clip132)\" style=\"stroke:#000000; stroke-linecap:round; stroke-linejoin:round; stroke-width:2; stroke-opacity:0.1; fill:none\" points=\"2291.1,1423.18 2291.1,123.472 \"/>\n",
       "<polyline clip-path=\"url(#clip130)\" style=\"stroke:#000000; stroke-linecap:round; stroke-linejoin:round; stroke-width:4; stroke-opacity:1; fill:none\" points=\"174.149,1423.18 2352.76,1423.18 \"/>\n",
       "<polyline clip-path=\"url(#clip130)\" style=\"stroke:#000000; stroke-linecap:round; stroke-linejoin:round; stroke-width:4; stroke-opacity:1; fill:none\" points=\"415.189,1423.18 415.189,1404.28 \"/>\n",
       "<polyline clip-path=\"url(#clip130)\" style=\"stroke:#000000; stroke-linecap:round; stroke-linejoin:round; stroke-width:4; stroke-opacity:1; fill:none\" points=\"884.166,1423.18 884.166,1404.28 \"/>\n",
       "<polyline clip-path=\"url(#clip130)\" style=\"stroke:#000000; stroke-linecap:round; stroke-linejoin:round; stroke-width:4; stroke-opacity:1; fill:none\" points=\"1353.14,1423.18 1353.14,1404.28 \"/>\n",
       "<polyline clip-path=\"url(#clip130)\" style=\"stroke:#000000; stroke-linecap:round; stroke-linejoin:round; stroke-width:4; stroke-opacity:1; fill:none\" points=\"1822.12,1423.18 1822.12,1404.28 \"/>\n",
       "<polyline clip-path=\"url(#clip130)\" style=\"stroke:#000000; stroke-linecap:round; stroke-linejoin:round; stroke-width:4; stroke-opacity:1; fill:none\" points=\"2291.1,1423.18 2291.1,1404.28 \"/>\n",
       "<path clip-path=\"url(#clip130)\" d=\"M415.189 1454.1 Q411.577 1454.1 409.749 1457.66 Q407.943 1461.2 407.943 1468.33 Q407.943 1475.44 409.749 1479.01 Q411.577 1482.55 415.189 1482.55 Q418.823 1482.55 420.628 1479.01 Q422.457 1475.44 422.457 1468.33 Q422.457 1461.2 420.628 1457.66 Q418.823 1454.1 415.189 1454.1 M415.189 1450.39 Q420.999 1450.39 424.054 1455 Q427.133 1459.58 427.133 1468.33 Q427.133 1477.06 424.054 1481.67 Q420.999 1486.25 415.189 1486.25 Q409.378 1486.25 406.3 1481.67 Q403.244 1477.06 403.244 1468.33 Q403.244 1459.58 406.3 1455 Q409.378 1450.39 415.189 1450.39 Z\" fill=\"#000000\" fill-rule=\"nonzero\" fill-opacity=\"1\" /><path clip-path=\"url(#clip130)\" d=\"M878.819 1481.64 L895.138 1481.64 L895.138 1485.58 L873.194 1485.58 L873.194 1481.64 Q875.856 1478.89 880.439 1474.26 Q885.045 1469.61 886.226 1468.27 Q888.471 1465.74 889.351 1464.01 Q890.254 1462.25 890.254 1460.56 Q890.254 1457.8 888.309 1456.07 Q886.388 1454.33 883.286 1454.33 Q881.087 1454.33 878.633 1455.09 Q876.203 1455.86 873.425 1457.41 L873.425 1452.69 Q876.249 1451.55 878.703 1450.97 Q881.156 1450.39 883.194 1450.39 Q888.564 1450.39 891.758 1453.08 Q894.953 1455.77 894.953 1460.26 Q894.953 1462.39 894.143 1464.31 Q893.355 1466.2 891.249 1468.8 Q890.67 1469.47 887.568 1472.69 Q884.467 1475.88 878.819 1481.64 Z\" fill=\"#000000\" fill-rule=\"nonzero\" fill-opacity=\"1\" /><path clip-path=\"url(#clip130)\" d=\"M1356.15 1455.09 L1344.35 1473.54 L1356.15 1473.54 L1356.15 1455.09 M1354.93 1451.02 L1360.8 1451.02 L1360.8 1473.54 L1365.74 1473.54 L1365.74 1477.43 L1360.8 1477.43 L1360.8 1485.58 L1356.15 1485.58 L1356.15 1477.43 L1340.55 1477.43 L1340.55 1472.92 L1354.93 1451.02 Z\" fill=\"#000000\" fill-rule=\"nonzero\" fill-opacity=\"1\" /><path clip-path=\"url(#clip130)\" d=\"M1822.53 1466.44 Q1819.38 1466.44 1817.53 1468.59 Q1815.7 1470.74 1815.7 1474.49 Q1815.7 1478.22 1817.53 1480.39 Q1819.38 1482.55 1822.53 1482.55 Q1825.67 1482.55 1827.5 1480.39 Q1829.35 1478.22 1829.35 1474.49 Q1829.35 1470.74 1827.5 1468.59 Q1825.67 1466.44 1822.53 1466.44 M1831.81 1451.78 L1831.81 1456.04 Q1830.05 1455.21 1828.24 1454.77 Q1826.46 1454.33 1824.7 1454.33 Q1820.07 1454.33 1817.62 1457.45 Q1815.19 1460.58 1814.84 1466.9 Q1816.21 1464.89 1818.27 1463.82 Q1820.33 1462.73 1822.8 1462.73 Q1828.01 1462.73 1831.02 1465.9 Q1834.05 1469.05 1834.05 1474.49 Q1834.05 1479.82 1830.9 1483.03 Q1827.76 1486.25 1822.53 1486.25 Q1816.53 1486.25 1813.36 1481.67 Q1810.19 1477.06 1810.19 1468.33 Q1810.19 1460.14 1814.08 1455.28 Q1817.96 1450.39 1824.52 1450.39 Q1826.28 1450.39 1828.06 1450.74 Q1829.86 1451.09 1831.81 1451.78 Z\" fill=\"#000000\" fill-rule=\"nonzero\" fill-opacity=\"1\" /><path clip-path=\"url(#clip130)\" d=\"M2291.1 1469.17 Q2287.76 1469.17 2285.84 1470.95 Q2283.94 1472.73 2283.94 1475.86 Q2283.94 1478.98 2285.84 1480.77 Q2287.76 1482.55 2291.1 1482.55 Q2294.43 1482.55 2296.35 1480.77 Q2298.27 1478.96 2298.27 1475.86 Q2298.27 1472.73 2296.35 1470.95 Q2294.45 1469.17 2291.1 1469.17 M2286.42 1467.18 Q2283.41 1466.44 2281.72 1464.38 Q2280.06 1462.32 2280.06 1459.35 Q2280.06 1455.21 2283 1452.8 Q2285.96 1450.39 2291.1 1450.39 Q2296.26 1450.39 2299.2 1452.8 Q2302.14 1455.21 2302.14 1459.35 Q2302.14 1462.32 2300.45 1464.38 Q2298.78 1466.44 2295.8 1467.18 Q2299.18 1467.96 2301.05 1470.26 Q2302.95 1472.55 2302.95 1475.86 Q2302.95 1480.88 2299.87 1483.57 Q2296.81 1486.25 2291.1 1486.25 Q2285.38 1486.25 2282.3 1483.57 Q2279.25 1480.88 2279.25 1475.86 Q2279.25 1472.55 2281.14 1470.26 Q2283.04 1467.96 2286.42 1467.18 M2284.71 1459.79 Q2284.71 1462.48 2286.38 1463.98 Q2288.06 1465.49 2291.1 1465.49 Q2294.11 1465.49 2295.8 1463.98 Q2297.51 1462.48 2297.51 1459.79 Q2297.51 1457.11 2295.8 1455.6 Q2294.11 1454.1 2291.1 1454.1 Q2288.06 1454.1 2286.38 1455.6 Q2284.71 1457.11 2284.71 1459.79 Z\" fill=\"#000000\" fill-rule=\"nonzero\" fill-opacity=\"1\" /><path clip-path=\"url(#clip130)\" d=\"M1265.14 1571.35 Q1262.66 1577.72 1260.3 1579.66 Q1257.95 1581.6 1254 1581.6 L1249.32 1581.6 L1249.32 1576.7 L1252.76 1576.7 Q1255.18 1576.7 1256.51 1575.56 Q1257.85 1574.41 1259.47 1570.14 L1260.52 1567.47 L1246.11 1532.4 L1252.31 1532.4 L1263.45 1560.28 L1274.59 1532.4 L1280.8 1532.4 L1265.14 1571.35 Z\" fill=\"#000000\" fill-rule=\"nonzero\" fill-opacity=\"1\" /><polyline clip-path=\"url(#clip132)\" style=\"stroke:#000000; stroke-linecap:round; stroke-linejoin:round; stroke-width:2; stroke-opacity:0.1; fill:none\" points=\"174.149,1373.68 2352.76,1373.68 \"/>\n",
       "<polyline clip-path=\"url(#clip132)\" style=\"stroke:#000000; stroke-linecap:round; stroke-linejoin:round; stroke-width:2; stroke-opacity:0.1; fill:none\" points=\"174.149,1139.2 2352.76,1139.2 \"/>\n",
       "<polyline clip-path=\"url(#clip132)\" style=\"stroke:#000000; stroke-linecap:round; stroke-linejoin:round; stroke-width:2; stroke-opacity:0.1; fill:none\" points=\"174.149,904.707 2352.76,904.707 \"/>\n",
       "<polyline clip-path=\"url(#clip132)\" style=\"stroke:#000000; stroke-linecap:round; stroke-linejoin:round; stroke-width:2; stroke-opacity:0.1; fill:none\" points=\"174.149,670.218 2352.76,670.218 \"/>\n",
       "<polyline clip-path=\"url(#clip132)\" style=\"stroke:#000000; stroke-linecap:round; stroke-linejoin:round; stroke-width:2; stroke-opacity:0.1; fill:none\" points=\"174.149,435.729 2352.76,435.729 \"/>\n",
       "<polyline clip-path=\"url(#clip132)\" style=\"stroke:#000000; stroke-linecap:round; stroke-linejoin:round; stroke-width:2; stroke-opacity:0.1; fill:none\" points=\"174.149,201.241 2352.76,201.241 \"/>\n",
       "<polyline clip-path=\"url(#clip130)\" style=\"stroke:#000000; stroke-linecap:round; stroke-linejoin:round; stroke-width:4; stroke-opacity:1; fill:none\" points=\"174.149,1423.18 174.149,123.472 \"/>\n",
       "<polyline clip-path=\"url(#clip130)\" style=\"stroke:#000000; stroke-linecap:round; stroke-linejoin:round; stroke-width:4; stroke-opacity:1; fill:none\" points=\"174.149,1373.68 193.047,1373.68 \"/>\n",
       "<polyline clip-path=\"url(#clip130)\" style=\"stroke:#000000; stroke-linecap:round; stroke-linejoin:round; stroke-width:4; stroke-opacity:1; fill:none\" points=\"174.149,1139.2 193.047,1139.2 \"/>\n",
       "<polyline clip-path=\"url(#clip130)\" style=\"stroke:#000000; stroke-linecap:round; stroke-linejoin:round; stroke-width:4; stroke-opacity:1; fill:none\" points=\"174.149,904.707 193.047,904.707 \"/>\n",
       "<polyline clip-path=\"url(#clip130)\" style=\"stroke:#000000; stroke-linecap:round; stroke-linejoin:round; stroke-width:4; stroke-opacity:1; fill:none\" points=\"174.149,670.218 193.047,670.218 \"/>\n",
       "<polyline clip-path=\"url(#clip130)\" style=\"stroke:#000000; stroke-linecap:round; stroke-linejoin:round; stroke-width:4; stroke-opacity:1; fill:none\" points=\"174.149,435.729 193.047,435.729 \"/>\n",
       "<polyline clip-path=\"url(#clip130)\" style=\"stroke:#000000; stroke-linecap:round; stroke-linejoin:round; stroke-width:4; stroke-opacity:1; fill:none\" points=\"174.149,201.241 193.047,201.241 \"/>\n",
       "<path clip-path=\"url(#clip130)\" d=\"M77.6631 1374.14 L107.339 1374.14 L107.339 1378.07 L77.6631 1378.07 L77.6631 1374.14 Z\" fill=\"#000000\" fill-rule=\"nonzero\" fill-opacity=\"1\" /><path clip-path=\"url(#clip130)\" d=\"M118.242 1387.03 L125.88 1387.03 L125.88 1360.66 L117.57 1362.33 L117.57 1358.07 L125.834 1356.4 L130.51 1356.4 L130.51 1387.03 L138.149 1387.03 L138.149 1390.96 L118.242 1390.96 L118.242 1387.03 Z\" fill=\"#000000\" fill-rule=\"nonzero\" fill-opacity=\"1\" /><path clip-path=\"url(#clip130)\" d=\"M126.205 1124.99 Q122.593 1124.99 120.765 1128.56 Q118.959 1132.1 118.959 1139.23 Q118.959 1146.34 120.765 1149.9 Q122.593 1153.44 126.205 1153.44 Q129.839 1153.44 131.644 1149.9 Q133.473 1146.34 133.473 1139.23 Q133.473 1132.1 131.644 1128.56 Q129.839 1124.99 126.205 1124.99 M126.205 1121.29 Q132.015 1121.29 135.07 1125.9 Q138.149 1130.48 138.149 1139.23 Q138.149 1147.96 135.07 1152.56 Q132.015 1157.15 126.205 1157.15 Q120.394 1157.15 117.316 1152.56 Q114.26 1147.96 114.26 1139.23 Q114.26 1130.48 117.316 1125.9 Q120.394 1121.29 126.205 1121.29 Z\" fill=\"#000000\" fill-rule=\"nonzero\" fill-opacity=\"1\" /><path clip-path=\"url(#clip130)\" d=\"M118.242 918.051 L125.88 918.051 L125.88 891.686 L117.57 893.353 L117.57 889.093 L125.834 887.427 L130.51 887.427 L130.51 918.051 L138.149 918.051 L138.149 921.987 L118.242 921.987 L118.242 918.051 Z\" fill=\"#000000\" fill-rule=\"nonzero\" fill-opacity=\"1\" /><path clip-path=\"url(#clip130)\" d=\"M121.83 683.563 L138.149 683.563 L138.149 687.498 L116.205 687.498 L116.205 683.563 Q118.867 680.808 123.45 676.179 Q128.056 671.526 129.237 670.183 Q131.482 667.66 132.362 665.924 Q133.265 664.165 133.265 662.475 Q133.265 659.72 131.32 657.984 Q129.399 656.248 126.297 656.248 Q124.098 656.248 121.644 657.012 Q119.214 657.776 116.436 659.327 L116.436 654.605 Q119.26 653.47 121.714 652.892 Q124.168 652.313 126.205 652.313 Q131.575 652.313 134.769 654.998 Q137.964 657.683 137.964 662.174 Q137.964 664.304 137.154 666.225 Q136.367 668.123 134.26 670.716 Q133.681 671.387 130.58 674.605 Q127.478 677.799 121.83 683.563 Z\" fill=\"#000000\" fill-rule=\"nonzero\" fill-opacity=\"1\" /><path clip-path=\"url(#clip130)\" d=\"M131.019 434.375 Q134.376 435.093 136.251 437.361 Q138.149 439.63 138.149 442.963 Q138.149 448.079 134.63 450.88 Q131.112 453.681 124.63 453.681 Q122.455 453.681 120.14 453.241 Q117.848 452.824 115.394 451.968 L115.394 447.454 Q117.339 448.588 119.654 449.167 Q121.968 449.746 124.492 449.746 Q128.89 449.746 131.181 448.01 Q133.496 446.273 133.496 442.963 Q133.496 439.908 131.343 438.195 Q129.214 436.459 125.394 436.459 L121.367 436.459 L121.367 432.616 L125.58 432.616 Q129.029 432.616 130.857 431.25 Q132.686 429.861 132.686 427.269 Q132.686 424.607 130.788 423.195 Q128.913 421.76 125.394 421.76 Q123.473 421.76 121.274 422.176 Q119.075 422.593 116.436 423.473 L116.436 419.306 Q119.098 418.565 121.413 418.195 Q123.751 417.824 125.811 417.824 Q131.135 417.824 134.237 420.255 Q137.339 422.662 137.339 426.783 Q137.339 429.653 135.695 431.644 Q134.052 433.611 131.019 434.375 Z\" fill=\"#000000\" fill-rule=\"nonzero\" fill-opacity=\"1\" /><path clip-path=\"url(#clip130)\" d=\"M128.566 188.035 L116.76 206.484 L128.566 206.484 L128.566 188.035 M127.339 183.961 L133.218 183.961 L133.218 206.484 L138.149 206.484 L138.149 210.373 L133.218 210.373 L133.218 218.521 L128.566 218.521 L128.566 210.373 L112.964 210.373 L112.964 205.859 L127.339 183.961 Z\" fill=\"#000000\" fill-rule=\"nonzero\" fill-opacity=\"1\" /><path clip-path=\"url(#clip130)\" d=\"M-8.24083 756.711 L9.10572 769.602 L27.4071 756.043 L27.4071 762.95 L13.4026 773.326 L27.4071 783.702 L27.4071 790.609 L8.75561 776.763 L-8.24083 789.431 L-8.24083 782.524 L4.45876 773.071 L-8.24083 763.618 L-8.24083 756.711 Z\" fill=\"#000000\" fill-rule=\"nonzero\" fill-opacity=\"1\" /><path clip-path=\"url(#clip130)\" d=\"M1035.79 14.0809 L1035.79 22.0612 Q1031.13 19.8332 1027 18.7395 Q1022.87 17.6457 1019.02 17.6457 Q1012.34 17.6457 1008.69 20.2383 Q1005.09 22.8309 1005.09 27.611 Q1005.09 31.6214 1007.48 33.6873 Q1009.91 35.7128 1016.63 36.9686 L1021.57 37.9813 Q1030.73 39.7232 1035.06 44.1387 Q1039.44 48.5136 1039.44 55.8863 Q1039.44 64.6767 1033.52 69.2137 Q1027.65 73.7508 1016.27 73.7508 Q1011.97 73.7508 1007.11 72.7785 Q1002.29 71.8063 997.105 69.9024 L997.105 61.4765 Q1002.09 64.2716 1006.87 65.6895 Q1011.65 67.1073 1016.27 67.1073 Q1023.27 67.1073 1027.08 64.3527 Q1030.89 61.598 1030.89 56.4939 Q1030.89 52.0379 1028.14 49.5264 Q1025.42 47.0148 1019.18 45.759 L1014.2 44.7868 Q1005.05 42.9639 1000.95 39.075 Q996.862 35.1862 996.862 28.2591 Q996.862 20.2383 1002.49 15.6203 Q1008.16 11.0023 1018.09 11.0023 Q1022.34 11.0023 1026.76 11.7719 Q1031.17 12.5416 1035.79 14.0809 Z\" fill=\"#000000\" fill-rule=\"nonzero\" fill-opacity=\"1\" /><path clip-path=\"url(#clip130)\" d=\"M1059.25 14.324 L1059.25 27.2059 L1074.6 27.2059 L1074.6 32.9987 L1059.25 32.9987 L1059.25 57.6282 Q1059.25 63.1779 1060.75 64.7578 Q1062.28 66.3376 1066.94 66.3376 L1074.6 66.3376 L1074.6 72.576 L1066.94 72.576 Q1058.31 72.576 1055.03 69.3758 Q1051.75 66.1351 1051.75 57.6282 L1051.75 32.9987 L1046.28 32.9987 L1046.28 27.2059 L1051.75 27.2059 L1051.75 14.324 L1059.25 14.324 Z\" fill=\"#000000\" fill-rule=\"nonzero\" fill-opacity=\"1\" /><path clip-path=\"url(#clip130)\" d=\"M1105.02 49.7694 Q1095.99 49.7694 1092.5 51.8354 Q1089.02 53.9013 1089.02 58.8839 Q1089.02 62.8538 1091.61 65.2034 Q1094.25 67.5124 1098.74 67.5124 Q1104.94 67.5124 1108.67 63.1374 Q1112.43 58.7219 1112.43 51.4303 L1112.43 49.7694 L1105.02 49.7694 M1119.89 46.6907 L1119.89 72.576 L1112.43 72.576 L1112.43 65.6895 Q1109.88 69.8214 1106.07 71.8063 Q1102.27 73.7508 1096.76 73.7508 Q1089.79 73.7508 1085.66 69.8619 Q1081.57 65.9325 1081.57 59.3701 Q1081.57 51.7138 1086.67 47.825 Q1091.82 43.9361 1101.98 43.9361 L1112.43 43.9361 L1112.43 43.2069 Q1112.43 38.0623 1109.03 35.2672 Q1105.67 32.4315 1099.55 32.4315 Q1095.66 32.4315 1091.98 33.3632 Q1088.29 34.295 1084.89 36.1584 L1084.89 29.2718 Q1088.98 27.692 1092.83 26.9223 Q1096.68 26.1121 1100.32 26.1121 Q1110.17 26.1121 1115.03 31.2163 Q1119.89 36.3204 1119.89 46.6907 Z\" fill=\"#000000\" fill-rule=\"nonzero\" fill-opacity=\"1\" /><path clip-path=\"url(#clip130)\" d=\"M1142.61 14.324 L1142.61 27.2059 L1157.97 27.2059 L1157.97 32.9987 L1142.61 32.9987 L1142.61 57.6282 Q1142.61 63.1779 1144.11 64.7578 Q1145.65 66.3376 1150.31 66.3376 L1157.97 66.3376 L1157.97 72.576 L1150.31 72.576 Q1141.68 72.576 1138.4 69.3758 Q1135.12 66.1351 1135.12 57.6282 L1135.12 32.9987 L1129.65 32.9987 L1129.65 27.2059 L1135.12 27.2059 L1135.12 14.324 L1142.61 14.324 Z\" fill=\"#000000\" fill-rule=\"nonzero\" fill-opacity=\"1\" /><path clip-path=\"url(#clip130)\" d=\"M1206.58 48.0275 L1206.58 51.6733 L1172.31 51.6733 Q1172.79 59.3701 1176.93 63.421 Q1181.1 67.4314 1188.51 67.4314 Q1192.8 67.4314 1196.82 66.3781 Q1200.87 65.3249 1204.84 63.2184 L1204.84 70.267 Q1200.83 71.9684 1196.61 72.8596 Q1192.4 73.7508 1188.07 73.7508 Q1177.21 73.7508 1170.85 67.4314 Q1164.53 61.1119 1164.53 50.3365 Q1164.53 39.1965 1170.52 32.6746 Q1176.56 26.1121 1186.77 26.1121 Q1195.92 26.1121 1201.23 32.0264 Q1206.58 37.9003 1206.58 48.0275 M1199.12 45.84 Q1199.04 39.7232 1195.68 36.0774 Q1192.36 32.4315 1186.85 32.4315 Q1180.61 32.4315 1176.84 35.9558 Q1173.12 39.4801 1172.55 45.8805 L1199.12 45.84 Z\" fill=\"#000000\" fill-rule=\"nonzero\" fill-opacity=\"1\" /><path clip-path=\"url(#clip130)\" d=\"M1245.51 12.096 L1253.69 12.096 L1253.69 36.8875 L1283.42 36.8875 L1283.42 12.096 L1291.61 12.096 L1291.61 72.576 L1283.42 72.576 L1283.42 43.7741 L1253.69 43.7741 L1253.69 72.576 L1245.51 72.576 L1245.51 12.096 Z\" fill=\"#000000\" fill-rule=\"nonzero\" fill-opacity=\"1\" /><path clip-path=\"url(#clip130)\" d=\"M1307.57 27.2059 L1315.02 27.2059 L1315.02 72.576 L1307.57 72.576 L1307.57 27.2059 M1307.57 9.54393 L1315.02 9.54393 L1315.02 18.9825 L1307.57 18.9825 L1307.57 9.54393 Z\" fill=\"#000000\" fill-rule=\"nonzero\" fill-opacity=\"1\" /><path clip-path=\"url(#clip130)\" d=\"M1359.54 28.5427 L1359.54 35.5912 Q1356.38 33.9709 1352.98 33.1607 Q1349.57 32.3505 1345.93 32.3505 Q1340.38 32.3505 1337.58 34.0519 Q1334.83 35.7533 1334.83 39.156 Q1334.83 41.7486 1336.81 43.2475 Q1338.8 44.7058 1344.79 46.0426 L1347.35 46.6097 Q1355.29 48.3111 1358.61 51.4303 Q1361.97 54.509 1361.97 60.0587 Q1361.97 66.3781 1356.95 70.0644 Q1351.96 73.7508 1343.21 73.7508 Q1339.57 73.7508 1335.6 73.0216 Q1331.67 72.3329 1327.29 70.9151 L1327.29 63.2184 Q1331.43 65.3654 1335.44 66.4591 Q1339.45 67.5124 1343.38 67.5124 Q1348.64 67.5124 1351.48 65.73 Q1354.31 63.9071 1354.31 60.6258 Q1354.31 57.5877 1352.25 55.9673 Q1350.22 54.3469 1343.3 52.8481 L1340.7 52.2405 Q1333.78 50.7821 1330.7 47.7845 Q1327.62 44.7463 1327.62 39.4801 Q1327.62 33.0797 1332.16 29.5959 Q1336.69 26.1121 1345.04 26.1121 Q1349.17 26.1121 1352.82 26.7198 Q1356.46 27.3274 1359.54 28.5427 Z\" fill=\"#000000\" fill-rule=\"nonzero\" fill-opacity=\"1\" /><path clip-path=\"url(#clip130)\" d=\"M1381.21 14.324 L1381.21 27.2059 L1396.57 27.2059 L1396.57 32.9987 L1381.21 32.9987 L1381.21 57.6282 Q1381.21 63.1779 1382.71 64.7578 Q1384.25 66.3376 1388.91 66.3376 L1396.57 66.3376 L1396.57 72.576 L1388.91 72.576 Q1380.28 72.576 1377 69.3758 Q1373.72 66.1351 1373.72 57.6282 L1373.72 32.9987 L1368.25 32.9987 L1368.25 27.2059 L1373.72 27.2059 L1373.72 14.324 L1381.21 14.324 Z\" fill=\"#000000\" fill-rule=\"nonzero\" fill-opacity=\"1\" /><path clip-path=\"url(#clip130)\" d=\"M1423.95 32.4315 Q1417.95 32.4315 1414.47 37.1306 Q1410.99 41.7891 1410.99 49.9314 Q1410.99 58.0738 1414.43 62.7728 Q1417.91 67.4314 1423.95 67.4314 Q1429.9 67.4314 1433.39 62.7323 Q1436.87 58.0333 1436.87 49.9314 Q1436.87 41.8701 1433.39 37.1711 Q1429.9 32.4315 1423.95 32.4315 M1423.95 26.1121 Q1433.67 26.1121 1439.22 32.4315 Q1444.77 38.7509 1444.77 49.9314 Q1444.77 61.0714 1439.22 67.4314 Q1433.67 73.7508 1423.95 73.7508 Q1414.19 73.7508 1408.64 67.4314 Q1403.13 61.0714 1403.13 49.9314 Q1403.13 38.7509 1408.64 32.4315 Q1414.19 26.1121 1423.95 26.1121 Z\" fill=\"#000000\" fill-rule=\"nonzero\" fill-opacity=\"1\" /><path clip-path=\"url(#clip130)\" d=\"M1483.42 34.1734 Q1482.16 33.4443 1480.66 33.1202 Q1479.2 32.7556 1477.42 32.7556 Q1471.1 32.7556 1467.7 36.8875 Q1464.34 40.9789 1464.34 48.6757 L1464.34 72.576 L1456.84 72.576 L1456.84 27.2059 L1464.34 27.2059 L1464.34 34.2544 Q1466.69 30.1225 1470.45 28.1376 Q1474.22 26.1121 1479.61 26.1121 Q1480.38 26.1121 1481.31 26.2337 Q1482.24 26.3147 1483.38 26.5172 L1483.42 34.1734 Z\" fill=\"#000000\" fill-rule=\"nonzero\" fill-opacity=\"1\" /><path clip-path=\"url(#clip130)\" d=\"M1510.11 76.7889 Q1506.95 84.8907 1503.95 87.3618 Q1500.96 89.8329 1495.93 89.8329 L1489.98 89.8329 L1489.98 83.5945 L1494.35 83.5945 Q1497.43 83.5945 1499.13 82.1361 Q1500.84 80.6778 1502.9 75.2496 L1504.24 71.8468 L1485.89 27.2059 L1493.79 27.2059 L1507.96 62.6918 L1522.14 27.2059 L1530.04 27.2059 L1510.11 76.7889 Z\" fill=\"#000000\" fill-rule=\"nonzero\" fill-opacity=\"1\" /><polyline clip-path=\"url(#clip132)\" style=\"stroke:#009af9; stroke-linecap:round; stroke-linejoin:round; stroke-width:8; stroke-opacity:1; fill:none\" points=\"415.189,1139.2 416.315,1138.35 417.441,1137.51 418.567,1136.66 419.693,1135.82 420.819,1134.97 421.945,1134.13 423.071,1133.28 424.197,1132.44 425.323,1131.59 426.449,1130.75 427.575,1129.91 428.701,1129.06 429.827,1128.22 430.952,1127.37 432.078,1126.53 433.204,1125.68 434.33,1124.84 435.456,1123.99 436.582,1123.15 437.708,1122.31 438.834,1121.46 439.96,1120.62 441.086,1119.77 442.212,1118.93 443.338,1118.08 444.464,1117.24 445.59,1116.39 446.716,1115.55 447.842,1114.7 448.968,1113.86 450.094,1113.02 451.22,1112.17 452.346,1111.33 453.472,1110.48 454.598,1109.64 455.724,1108.79 456.85,1107.95 457.976,1107.1 459.102,1106.26 460.228,1105.42 461.354,1104.57 462.48,1103.73 463.606,1102.88 464.732,1102.04 465.858,1101.19 466.984,1100.35 468.11,1099.5 469.236,1098.66 470.362,1097.81 471.488,1096.97 472.614,1096.13 473.74,1095.28 474.866,1094.44 475.992,1093.59 477.118,1092.75 478.244,1091.9 479.37,1091.06 480.496,1090.21 481.622,1089.37 482.748,1088.53 483.874,1087.68 485,1086.84 486.126,1085.99 487.252,1085.15 488.378,1084.3 489.504,1083.46 490.63,1082.61 491.756,1081.77 492.882,1080.92 494.008,1080.08 495.134,1079.24 496.26,1078.39 497.386,1077.55 498.512,1076.7 499.638,1075.86 500.764,1075.01 501.89,1074.17 503.016,1073.32 504.142,1072.48 505.268,1071.64 506.394,1070.79 507.52,1069.95 508.646,1069.1 509.772,1068.26 510.898,1067.41 512.024,1066.57 513.15,1065.72 514.276,1064.88 515.402,1064.04 516.528,1063.19 517.654,1062.35 518.78,1061.5 519.906,1060.66 521.032,1059.81 522.158,1058.97 523.284,1058.12 524.41,1057.28 525.536,1056.43 526.662,1055.59 527.788,1054.75 528.914,1053.9 530.04,1053.06 531.166,1052.21 532.292,1051.37 533.418,1050.52 534.544,1049.68 535.67,1048.83 536.796,1047.99 537.922,1047.15 539.048,1046.3 540.174,1045.46 541.3,1044.61 542.426,1043.77 543.552,1042.92 544.678,1042.08 545.804,1041.23 546.93,1040.39 548.056,1039.54 549.182,1038.7 550.308,1037.86 551.434,1037.01 552.56,1036.17 553.686,1035.32 554.812,1034.48 555.938,1033.63 557.064,1032.79 558.19,1031.94 559.316,1031.1 560.442,1030.26 561.568,1029.41 562.694,1028.57 563.82,1027.72 564.946,1026.88 566.072,1026.03 567.198,1025.19 568.324,1024.34 569.45,1023.5 570.576,1022.65 571.702,1021.81 572.828,1020.97 573.954,1020.12 575.08,1019.28 576.206,1018.43 577.332,1017.59 578.458,1016.74 579.584,1015.9 580.71,1015.05 581.836,1014.21 582.962,1013.37 584.088,1012.52 585.214,1011.68 586.34,1010.83 587.466,1009.99 588.592,1009.14 589.718,1008.3 590.844,1007.45 591.97,1006.61 593.096,1005.76 594.222,1004.92 595.348,1004.08 596.474,1003.23 597.6,1002.39 598.726,1001.54 599.852,1000.7 600.978,999.853 602.104,999.009 603.23,998.164 604.356,997.32 605.482,996.475 606.608,995.631 607.734,994.786 608.86,993.942 609.986,993.097 611.112,992.253 612.238,991.408 613.364,990.564 614.49,989.719 615.616,988.875 616.742,988.03 617.868,987.186 618.994,986.341 620.12,985.497 621.246,984.652 622.372,983.808 623.498,982.963 624.624,982.119 625.75,981.274 626.876,980.43 628.002,979.585 629.128,978.741 630.254,977.896 631.38,977.052 632.506,976.207 633.632,975.363 634.758,974.518 635.884,973.674 637.01,972.829 638.136,971.985 639.262,971.14 640.388,970.296 641.514,969.451 642.64,968.607 643.766,967.762 644.892,966.918 646.018,966.073 647.144,965.229 648.27,964.384 649.396,963.54 650.522,962.695 651.648,961.851 652.774,961.006 653.9,960.162 655.026,959.317 656.152,958.473 657.278,957.628 658.404,956.784 659.53,955.939 660.656,955.095 661.782,954.25 662.908,953.406 664.034,952.561 665.16,951.717 666.286,950.872 667.412,950.028 668.538,949.183 669.664,948.339 670.79,947.494 671.916,946.65 673.042,945.805 674.168,944.961 675.294,944.116 676.42,943.272 677.546,942.428 678.672,941.583 679.798,940.739 680.924,939.894 682.05,939.05 683.176,938.205 684.302,937.361 685.428,936.516 686.553,935.672 687.679,934.827 688.805,933.983 689.931,933.138 691.057,932.294 692.183,931.449 693.309,930.605 694.435,929.76 695.561,928.916 696.687,928.071 697.813,927.227 698.939,926.382 700.065,925.538 701.191,924.693 702.317,923.849 703.443,923.004 704.569,922.16 705.695,921.315 706.821,920.471 707.947,919.626 709.073,918.782 710.199,917.937 711.325,917.093 712.451,916.248 713.577,915.404 714.703,914.559 715.829,913.715 716.955,912.87 718.081,912.026 719.207,911.181 720.333,910.337 721.459,909.492 722.585,908.648 723.711,907.803 724.837,906.959 725.963,906.114 727.089,905.27 728.215,904.425 729.341,903.581 730.467,902.736 731.593,901.892 732.719,901.047 733.845,900.203 734.971,899.358 736.097,898.514 737.223,897.669 738.349,896.825 739.475,895.98 740.601,895.136 741.727,894.291 742.853,893.447 743.979,892.602 745.105,891.758 746.231,890.913 747.357,890.069 748.483,889.224 749.609,888.38 750.735,887.535 751.861,886.691 752.987,885.846 754.113,885.002 755.239,884.157 756.365,883.313 757.491,882.468 758.617,881.624 759.743,880.779 760.869,879.935 761.995,879.09 763.121,878.246 764.247,877.401 765.373,876.557 766.499,875.712 767.625,874.868 768.751,874.023 769.877,873.179 771.003,872.334 772.129,871.49 773.255,870.645 774.381,869.801 775.507,868.956 776.633,868.112 777.759,867.267 778.885,866.423 780.011,865.578 781.137,864.734 782.263,863.889 783.389,863.045 784.515,862.2 785.641,861.356 786.767,860.511 787.893,859.667 789.019,858.822 790.145,857.978 791.271,857.133 792.397,856.289 793.523,855.444 794.649,854.6 795.775,853.755 796.901,852.911 798.027,852.066 799.153,851.222 800.279,850.377 801.405,849.533 802.531,848.688 803.657,847.844 804.783,846.999 805.909,846.155 807.035,845.31 808.161,844.466 809.287,843.621 810.413,842.777 811.539,841.932 812.665,841.088 813.791,840.243 814.917,839.399 816.043,838.554 817.169,837.71 818.295,836.865 819.421,836.021 820.547,835.176 821.673,834.332 822.799,833.487 823.925,832.643 825.051,831.798 826.177,830.954 827.303,830.109 828.429,829.265 829.555,828.42 830.681,827.576 831.807,826.731 832.933,825.887 834.059,825.042 835.185,824.198 836.311,823.353 837.437,822.509 838.563,821.664 839.689,820.82 840.815,819.975 841.941,819.131 843.067,818.286 844.193,817.442 845.319,816.597 846.445,815.753 847.571,814.909 848.697,814.064 849.823,813.22 850.949,812.375 852.075,811.531 853.201,810.686 854.327,809.842 855.453,808.997 856.579,808.153 857.705,807.308 858.831,806.464 859.957,805.619 861.083,804.775 862.209,803.93 863.335,803.086 864.461,802.241 865.587,801.397 866.713,800.552 867.839,799.708 868.965,798.863 870.091,798.019 871.217,797.174 872.343,796.33 873.469,795.485 874.595,794.641 875.721,793.796 876.847,792.952 877.973,792.107 879.099,791.263 880.225,790.418 881.351,789.574 882.477,788.729 883.603,787.885 884.729,787.04 885.855,786.196 886.981,785.351 888.107,784.507 889.233,783.662 890.359,782.818 891.485,781.973 892.611,781.129 893.737,780.284 894.863,779.44 895.989,778.595 897.115,777.751 898.241,776.906 899.367,776.062 900.493,775.217 901.619,774.373 902.745,773.528 903.871,772.684 904.997,771.839 906.123,770.995 907.249,770.15 908.375,769.306 909.501,768.461 910.627,767.617 911.753,766.772 912.879,765.928 914.005,765.083 915.131,764.239 916.257,763.394 917.383,762.55 918.509,761.705 919.635,760.861 920.761,760.016 921.887,759.172 923.013,758.327 924.139,757.483 925.265,756.638 926.391,755.794 927.517,754.949 928.643,754.105 929.769,753.26 930.895,752.416 932.021,751.571 933.147,750.727 934.273,749.882 935.399,749.038 936.525,748.193 937.651,747.349 938.777,746.504 939.903,745.66 941.029,744.815 942.154,743.971 943.28,743.126 944.406,742.282 945.532,741.437 946.658,740.593 947.784,739.748 948.91,738.904 950.036,738.059 951.162,737.215 952.288,736.37 953.414,735.526 954.54,734.681 955.666,733.837 956.792,732.992 957.918,732.148 959.044,731.303 960.17,730.459 961.296,729.614 962.422,728.77 963.548,727.925 964.674,727.081 965.8,726.236 966.926,725.392 968.052,724.547 969.178,723.703 970.304,722.858 971.43,722.014 972.556,721.169 973.682,720.325 974.808,719.48 975.934,718.636 977.06,717.791 978.186,716.947 979.312,716.102 980.438,715.258 981.564,714.413 982.69,713.569 983.816,712.724 984.942,711.88 986.068,711.035 987.194,710.191 988.32,709.346 989.446,708.502 990.572,707.657 991.698,706.813 992.824,705.968 993.95,705.124 995.076,704.279 996.202,703.435 997.328,702.59 998.454,701.746 999.58,700.901 1000.71,700.057 1001.83,699.212 1002.96,698.368 1004.08,697.523 1005.21,696.679 1006.34,695.834 1007.46,694.99 1008.59,694.145 1009.71,693.301 1010.84,692.456 1011.97,691.612 1013.09,690.767 1014.22,689.923 1015.34,689.078 1016.47,688.234 1017.6,687.39 1018.72,686.545 1019.85,685.701 1020.97,684.856 1022.1,684.012 1023.23,683.167 1024.35,682.323 1025.48,681.478 1026.6,680.634 1027.73,679.789 1028.86,678.945 1029.98,678.1 1031.11,677.256 1032.23,676.411 1033.36,675.567 1034.49,674.722 1035.61,673.878 1036.74,673.033 1037.86,672.189 1038.99,671.344 1040.12,670.5 1041.24,669.655 1042.37,668.811 1043.49,667.966 1044.62,667.122 1045.75,666.277 1046.87,665.433 1048,664.588 1049.12,663.744 1050.25,662.899 1051.38,662.055 1052.5,661.21 1053.63,660.366 1054.75,659.521 1055.88,658.677 1057.01,657.832 1058.13,656.988 1059.26,656.143 1060.38,655.299 1061.51,654.454 1062.64,653.61 1063.76,652.765 1064.89,651.921 1066.01,651.076 1067.14,650.232 1068.27,649.387 1069.39,648.543 1070.52,647.698 1071.64,646.854 1072.77,646.009 1073.9,645.165 1075.02,644.32 1076.15,643.476 1077.27,642.631 1078.4,641.787 1079.53,640.942 1080.65,640.098 1081.78,639.253 1082.9,638.409 1084.03,637.564 1085.16,636.72 1086.28,635.875 1087.41,635.031 1088.53,634.186 1089.66,633.342 1090.79,632.497 1091.91,631.653 1093.04,630.808 1094.16,629.964 1095.29,629.119 1096.42,628.275 1097.54,627.43 1098.67,626.586 1099.79,625.741 1100.92,624.897 1102.05,624.052 1103.17,623.208 1104.3,622.363 1105.42,621.519 1106.55,620.674 1107.68,619.83 1108.8,618.985 1109.93,618.141 1111.05,617.296 1112.18,616.452 1113.31,615.607 1114.43,614.763 1115.56,613.918 1116.68,613.074 1117.81,612.229 1118.94,611.385 1120.06,610.54 1121.19,609.696 1122.31,608.851 1123.44,608.007 1124.57,607.162 1125.69,606.318 1126.82,605.473 1127.94,604.629 1129.07,603.784 1130.2,602.94 1131.32,602.095 1132.45,601.251 1133.57,600.406 1134.7,599.562 1135.83,598.717 1136.95,597.873 1138.08,597.028 1139.2,596.184 1140.33,595.339 1141.46,594.495 1142.58,593.65 1143.71,592.806 1144.83,591.961 1145.96,591.117 1147.09,590.272 1148.21,589.428 1149.34,588.583 1150.46,587.739 1151.59,586.894 1152.72,586.05 1153.84,585.205 1154.97,584.361 1156.09,583.516 1157.22,582.672 1158.35,581.827 1159.47,580.983 1160.6,580.138 1161.72,579.294 1162.85,578.449 1163.98,577.605 1165.1,576.76 1166.23,575.916 1167.35,575.071 1168.48,574.227 1169.61,573.382 1170.73,572.538 1171.86,571.693 1172.98,570.849 1174.11,570.004 1175.24,569.16 1176.36,568.315 1177.49,567.471 1178.61,566.626 1179.74,565.782 1180.87,564.937 1181.99,564.093 1183.12,563.248 1184.24,562.404 1185.37,561.559 1186.5,560.715 1187.62,559.871 1188.75,559.026 1189.87,558.182 1191,557.337 1192.13,556.493 1193.25,555.648 1194.38,554.804 1195.5,553.959 1196.63,553.115 1197.76,552.27 1198.88,551.426 1200.01,550.581 1201.13,549.737 1202.26,548.892 1203.39,548.048 1204.51,547.203 1205.64,546.359 1206.76,545.514 1207.89,544.67 1209.02,543.825 1210.14,542.981 1211.27,542.136 1212.39,541.292 1213.52,540.447 1214.65,539.603 1215.77,538.758 1216.9,537.914 1218.02,537.069 1219.15,536.225 1220.28,535.38 1221.4,534.536 1222.53,533.691 1223.65,532.847 1224.78,532.002 1225.91,531.158 1227.03,530.313 1228.16,529.469 1229.28,528.624 1230.41,527.78 1231.54,526.935 1232.66,526.091 1233.79,525.246 1234.91,524.402 1236.04,523.557 1237.17,522.713 1238.29,521.868 1239.42,521.024 1240.54,520.179 1241.67,519.335 1242.8,518.49 1243.92,517.646 1245.05,516.801 1246.17,515.957 1247.3,515.112 1248.43,514.268 1249.55,513.423 1250.68,512.579 1251.8,511.734 1252.93,510.89 1254.06,510.045 1255.18,509.201 1256.31,508.356 1257.43,507.512 1258.56,506.667 1259.69,505.823 1260.81,504.978 1261.94,504.134 1263.06,503.289 1264.19,502.445 1265.32,501.6 1266.44,500.756 1267.57,499.911 1268.69,499.067 1269.82,498.222 1270.95,497.378 1272.07,496.533 1273.2,495.689 1274.32,494.844 1275.45,494 1276.58,493.155 1277.7,492.311 1278.83,491.466 1279.95,490.622 1281.08,489.777 1282.21,488.933 1283.33,488.088 1284.46,487.244 1285.58,486.399 1286.71,485.555 1287.84,484.71 1288.96,483.866 1290.09,483.021 1291.21,482.177 1292.34,481.332 1293.47,480.488 1294.59,479.643 1295.72,478.799 1296.84,477.954 1297.97,477.11 1299.1,476.265 1300.22,475.421 1301.35,474.576 1302.47,473.732 1303.6,472.887 1304.73,472.043 1305.85,471.198 1306.98,470.354 1308.1,469.509 1309.23,468.665 1310.36,467.82 1311.48,466.976 1312.61,466.131 1313.73,465.287 1314.86,464.442 1315.99,463.598 1317.11,462.753 1318.24,461.909 1319.36,461.064 1320.49,460.22 1321.62,459.375 1322.74,458.531 1323.87,457.686 1324.99,456.842 1326.12,455.997 1327.24,455.153 1328.37,454.308 1329.5,453.464 1330.62,452.619 1331.75,451.775 1332.87,450.93 1334,450.086 1335.13,449.241 1336.25,448.397 1337.38,447.552 1338.5,446.708 1339.63,445.863 1340.76,445.019 1341.88,444.174 1343.01,443.33 1344.13,442.485 1345.26,441.641 1346.39,440.796 1347.51,439.952 1348.64,439.107 1349.76,438.263 1350.89,437.418 1352.02,436.574 1353.14,435.729 1354.27,436.574 1355.39,437.418 1356.52,438.263 1357.65,439.107 1358.77,439.952 1359.9,440.796 1361.02,441.641 1362.15,442.485 1363.28,443.33 1364.4,444.174 1365.53,445.019 1366.65,445.863 1367.78,446.708 1368.91,447.552 1370.03,448.397 1371.16,449.241 1372.28,450.086 1373.41,450.93 1374.54,451.775 1375.66,452.619 1376.79,453.464 1377.91,454.308 1379.04,455.153 1380.17,455.997 1381.29,456.842 1382.42,457.686 1383.54,458.531 1384.67,459.375 1385.8,460.22 1386.92,461.064 1388.05,461.909 1389.17,462.753 1390.3,463.598 1391.43,464.442 1392.55,465.287 1393.68,466.131 1394.8,466.976 1395.93,467.82 1397.06,468.665 1398.18,469.509 1399.31,470.354 1400.43,471.198 1401.56,472.043 1402.69,472.887 1403.81,473.732 1404.94,474.576 1406.06,475.421 1407.19,476.265 1408.32,477.11 1409.44,477.954 1410.57,478.799 1411.69,479.643 1412.82,480.488 1413.95,481.332 1415.07,482.177 1416.2,483.021 1417.32,483.866 1418.45,484.71 1419.58,485.555 1420.7,486.399 1421.83,487.244 1422.95,488.088 1424.08,488.933 1425.21,489.777 1426.33,490.622 1427.46,491.466 1428.58,492.311 1429.71,493.155 1430.84,494 1431.96,494.844 1433.09,495.689 1434.21,496.533 1435.34,497.378 1436.47,498.222 1437.59,499.067 1438.72,499.911 1439.84,500.756 1440.97,501.6 1442.1,502.445 1443.22,503.289 1444.35,504.134 1445.47,504.978 1446.6,505.823 1447.73,506.667 1448.85,507.512 1449.98,508.356 1451.1,509.201 1452.23,510.045 1453.36,510.89 1454.48,511.734 1455.61,512.579 1456.73,513.423 1457.86,514.268 1458.99,515.112 1460.11,515.957 1461.24,516.801 1462.36,517.646 1463.49,518.49 1464.62,519.335 1465.74,520.179 1466.87,521.024 1467.99,521.868 1469.12,522.713 1470.25,523.557 1471.37,524.402 1472.5,525.246 1473.62,526.091 1474.75,526.935 1475.88,527.78 1477,528.624 1478.13,529.469 1479.25,530.313 1480.38,531.158 1481.51,532.002 1482.63,532.847 1483.76,533.691 1484.88,534.536 1486.01,535.38 1487.14,536.225 1488.26,537.069 1489.39,537.914 1490.51,538.758 1491.64,539.603 1492.77,540.447 1493.89,541.292 1495.02,542.136 1496.14,542.981 1497.27,543.825 1498.4,544.67 1499.52,545.514 1500.65,546.359 1501.77,547.203 1502.9,548.048 1504.03,548.892 1505.15,549.737 1506.28,550.581 1507.4,551.426 1508.53,552.27 1509.66,553.115 1510.78,553.959 1511.91,554.804 1513.03,555.648 1514.16,556.493 1515.29,557.337 1516.41,558.182 1517.54,559.026 1518.66,559.871 1519.79,560.715 1520.92,561.559 1522.04,562.404 1523.17,563.248 1524.29,564.093 1525.42,564.937 1526.55,565.782 1527.67,566.626 1528.8,567.471 1529.92,568.315 1531.05,569.16 1532.18,570.004 1533.3,570.849 1534.43,571.693 1535.55,572.538 1536.68,573.382 1537.81,574.227 1538.93,575.071 1540.06,575.916 1541.18,576.76 1542.31,577.605 1543.44,578.449 1544.56,579.294 1545.69,580.138 1546.81,580.983 1547.94,581.827 1549.07,582.672 1550.19,583.516 1551.32,584.361 1552.44,585.205 1553.57,586.05 1554.7,586.894 1555.82,587.739 1556.95,588.583 1558.07,589.428 1559.2,590.272 1560.33,591.117 1561.45,591.961 1562.58,592.806 1563.7,593.65 1564.83,594.495 1565.96,595.339 1567.08,596.184 1568.21,597.028 1569.33,597.873 1570.46,598.717 1571.59,599.562 1572.71,600.406 1573.84,601.251 1574.96,602.095 1576.09,602.94 1577.22,603.784 1578.34,604.629 1579.47,605.473 1580.59,606.318 1581.72,607.162 1582.85,608.007 1583.97,608.851 1585.1,609.696 1586.22,610.54 1587.35,611.385 1588.48,612.229 1589.6,613.074 1590.73,613.918 1591.85,614.763 1592.98,615.607 1594.11,616.452 1595.23,617.296 1596.36,618.141 1597.48,618.985 1598.61,619.83 1599.74,620.674 1600.86,621.519 1601.99,622.363 1603.11,623.208 1604.24,624.052 1605.37,624.897 1606.49,625.741 1607.62,626.586 1608.74,627.43 1609.87,628.275 1611,629.119 1612.12,629.964 1613.25,630.808 1614.37,631.653 1615.5,632.497 1616.63,633.342 1617.75,634.186 1618.88,635.031 1620,635.875 1621.13,636.72 1622.26,637.564 1623.38,638.409 1624.51,639.253 1625.63,640.098 1626.76,640.942 1627.89,641.787 1629.01,642.631 1630.14,643.476 1631.26,644.32 1632.39,645.165 1633.52,646.009 1634.64,646.854 1635.77,647.698 1636.89,648.543 1638.02,649.387 1639.15,650.232 1640.27,651.076 1641.4,651.921 1642.52,652.765 1643.65,653.61 1644.78,654.454 1645.9,655.299 1647.03,656.143 1648.15,656.988 1649.28,657.832 1650.41,658.677 1651.53,659.521 1652.66,660.366 1653.78,661.21 1654.91,662.055 1656.04,662.899 1657.16,663.744 1658.29,664.588 1659.41,665.433 1660.54,666.277 1661.67,667.122 1662.79,667.966 1663.92,668.811 1665.04,669.655 1666.17,670.5 1667.3,671.344 1668.42,672.189 1669.55,673.033 1670.67,673.878 1671.8,674.722 1672.93,675.567 1674.05,676.411 1675.18,677.256 1676.3,678.1 1677.43,678.945 1678.56,679.789 1679.68,680.634 1680.81,681.478 1681.93,682.323 1683.06,683.167 1684.19,684.012 1685.31,684.856 1686.44,685.701 1687.56,686.545 1688.69,687.39 1689.82,688.234 1690.94,689.078 1692.07,689.923 1693.19,690.767 1694.32,691.612 1695.45,692.456 1696.57,693.301 1697.7,694.145 1698.82,694.99 1699.95,695.834 1701.08,696.679 1702.2,697.523 1703.33,698.368 1704.45,699.212 1705.58,700.057 1706.71,700.901 1707.83,701.746 1708.96,702.59 1710.08,703.435 1711.21,704.279 1712.34,705.124 1713.46,705.968 1714.59,706.813 1715.71,707.657 1716.84,708.502 1717.97,709.346 1719.09,710.191 1720.22,711.035 1721.34,711.88 1722.47,712.724 1723.6,713.569 1724.72,714.413 1725.85,715.258 1726.97,716.102 1728.1,716.947 1729.23,717.791 1730.35,718.636 1731.48,719.48 1732.6,720.325 1733.73,721.169 1734.86,722.014 1735.98,722.858 1737.11,723.703 1738.23,724.547 1739.36,725.392 1740.49,726.236 1741.61,727.081 1742.74,727.925 1743.86,728.77 1744.99,729.614 1746.12,730.459 1747.24,731.303 1748.37,732.148 1749.49,732.992 1750.62,733.837 1751.75,734.681 1752.87,735.526 1754,736.37 1755.12,737.215 1756.25,738.059 1757.38,738.904 1758.5,739.748 1759.63,740.593 1760.75,741.437 1761.88,742.282 1763.01,743.126 1764.13,743.971 1765.26,744.815 1766.38,745.66 1767.51,746.504 1768.64,747.349 1769.76,748.193 1770.89,749.038 1772.01,749.882 1773.14,750.727 1774.27,751.571 1775.39,752.416 1776.52,753.26 1777.64,754.105 1778.77,754.949 1779.9,755.794 1781.02,756.638 1782.15,757.483 1783.27,758.327 1784.4,759.172 1785.53,760.016 1786.65,760.861 1787.78,761.705 1788.9,762.55 1790.03,763.394 1791.16,764.239 1792.28,765.083 1793.41,765.928 1794.53,766.772 1795.66,767.617 1796.79,768.461 1797.91,769.306 1799.04,770.15 1800.16,770.995 1801.29,771.839 1802.42,772.684 1803.54,773.528 1804.67,774.373 1805.79,775.217 1806.92,776.062 1808.05,776.906 1809.17,777.751 1810.3,778.595 1811.42,779.44 1812.55,780.284 1813.68,781.129 1814.8,781.973 1815.93,782.818 1817.05,783.662 1818.18,784.507 1819.31,785.351 1820.43,786.196 1821.56,787.04 1822.68,787.885 1823.81,788.729 1824.94,789.574 1826.06,790.418 1827.19,791.263 1828.31,792.107 1829.44,792.952 1830.57,793.796 1831.69,794.641 1832.82,795.485 1833.94,796.33 1835.07,797.174 1836.19,798.019 1837.32,798.863 1838.45,799.708 1839.57,800.552 1840.7,801.397 1841.82,802.241 1842.95,803.086 1844.08,803.93 1845.2,804.775 1846.33,805.619 1847.45,806.464 1848.58,807.308 1849.71,808.153 1850.83,808.997 1851.96,809.842 1853.08,810.686 1854.21,811.531 1855.34,812.375 1856.46,813.22 1857.59,814.064 1858.71,814.909 1859.84,815.753 1860.97,816.597 1862.09,817.442 1863.22,818.286 1864.34,819.131 1865.47,819.975 1866.6,820.82 1867.72,821.664 1868.85,822.509 1869.97,823.353 1871.1,824.198 1872.23,825.042 1873.35,825.887 1874.48,826.731 1875.6,827.576 1876.73,828.42 1877.86,829.265 1878.98,830.109 1880.11,830.954 1881.23,831.798 1882.36,832.643 1883.49,833.487 1884.61,834.332 1885.74,835.176 1886.86,836.021 1887.99,836.865 1889.12,837.71 1890.24,838.554 1891.37,839.399 1892.49,840.243 1893.62,841.088 1894.75,841.932 1895.87,842.777 1897,843.621 1898.12,844.466 1899.25,845.31 1900.38,846.155 1901.5,846.999 1902.63,847.844 1903.75,848.688 1904.88,849.533 1906.01,850.377 1907.13,851.222 1908.26,852.066 1909.38,852.911 1910.51,853.755 1911.64,854.6 1912.76,855.444 1913.89,856.289 1915.01,857.133 1916.14,857.978 1917.27,858.822 1918.39,859.667 1919.52,860.511 1920.64,861.356 1921.77,862.2 1922.9,863.045 1924.02,863.889 1925.15,864.734 1926.27,865.578 1927.4,866.423 1928.53,867.267 1929.65,868.112 1930.78,868.956 1931.9,869.801 1933.03,870.645 1934.16,871.49 1935.28,872.334 1936.41,873.179 1937.53,874.023 1938.66,874.868 1939.79,875.712 1940.91,876.557 1942.04,877.401 1943.16,878.246 1944.29,879.09 1945.42,879.935 1946.54,880.779 1947.67,881.624 1948.79,882.468 1949.92,883.313 1951.05,884.157 1952.17,885.002 1953.3,885.846 1954.42,886.691 1955.55,887.535 1956.68,888.38 1957.8,889.224 1958.93,890.069 1960.05,890.913 1961.18,891.758 1962.31,892.602 1963.43,893.447 1964.56,894.291 1965.68,895.136 1966.81,895.98 1967.94,896.825 1969.06,897.669 1970.19,898.514 1971.31,899.358 1972.44,900.203 1973.57,901.047 1974.69,901.892 1975.82,902.736 1976.94,903.581 1978.07,904.425 1979.2,905.27 1980.32,906.114 1981.45,906.959 1982.57,907.803 1983.7,908.648 1984.83,909.492 1985.95,910.337 1987.08,911.181 1988.2,912.026 1989.33,912.87 1990.46,913.715 1991.58,914.559 1992.71,915.404 1993.83,916.248 1994.96,917.093 1996.09,917.937 1997.21,918.782 1998.34,919.626 1999.46,920.471 2000.59,921.315 2001.72,922.16 2002.84,923.004 2003.97,923.849 2005.09,924.693 2006.22,925.538 2007.35,926.382 2008.47,927.227 2009.6,928.071 2010.72,928.916 2011.85,929.76 2012.98,930.605 2014.1,931.449 2015.23,932.294 2016.35,933.138 2017.48,933.983 2018.61,934.827 2019.73,935.672 2020.86,936.516 2021.98,937.361 2023.11,938.205 2024.24,939.05 2025.36,939.894 2026.49,940.739 2027.61,941.583 2028.74,942.428 2029.87,943.272 2030.99,944.116 2032.12,944.961 2033.24,945.805 2034.37,946.65 2035.5,947.494 2036.62,948.339 2037.75,949.183 2038.87,950.028 2040,950.872 2041.13,951.717 2042.25,952.561 2043.38,953.406 2044.5,954.25 2045.63,955.095 2046.76,955.939 2047.88,956.784 2049.01,957.628 2050.13,958.473 2051.26,959.317 2052.39,960.162 2053.51,961.006 2054.64,961.851 2055.76,962.695 2056.89,963.54 2058.02,964.384 2059.14,965.229 2060.27,966.073 2061.39,966.918 2062.52,967.762 2063.65,968.607 2064.77,969.451 2065.9,970.296 2067.02,971.14 2068.15,971.985 2069.28,972.829 2070.4,973.674 2071.53,974.518 2072.65,975.363 2073.78,976.207 2074.91,977.052 2076.03,977.896 2077.16,978.741 2078.28,979.585 2079.41,980.43 2080.54,981.274 2081.66,982.119 2082.79,982.963 2083.91,983.808 2085.04,984.652 2086.17,985.497 2087.29,986.341 2088.42,987.186 2089.54,988.03 2090.67,988.875 2091.8,989.719 2092.92,990.564 2094.05,991.408 2095.17,992.253 2096.3,993.097 2097.43,993.942 2098.55,994.786 2099.68,995.631 2100.8,996.475 2101.93,997.32 2103.06,998.164 2104.18,999.009 2105.31,999.853 2106.43,1000.7 2107.56,1001.54 2108.69,1002.39 2109.81,1003.23 2110.94,1004.08 2112.06,1004.92 2113.19,1005.76 2114.32,1006.61 2115.44,1007.45 2116.57,1008.3 2117.69,1009.14 2118.82,1009.99 2119.95,1010.83 2121.07,1011.68 2122.2,1012.52 2123.32,1013.37 2124.45,1014.21 2125.58,1015.05 2126.7,1015.9 2127.83,1016.74 2128.95,1017.59 2130.08,1018.43 2131.21,1019.28 2132.33,1020.12 2133.46,1020.97 2134.58,1021.81 2135.71,1022.65 2136.84,1023.5 2137.96,1024.34 2139.09,1025.19 2140.21,1026.03 2141.34,1026.88 2142.47,1027.72 2143.59,1028.57 2144.72,1029.41 2145.84,1030.26 2146.97,1031.1 2148.1,1031.94 2149.22,1032.79 2150.35,1033.63 2151.47,1034.48 2152.6,1035.32 2153.73,1036.17 2154.85,1037.01 2155.98,1037.86 2157.1,1038.7 2158.23,1039.54 2159.36,1040.39 2160.48,1041.23 2161.61,1042.08 2162.73,1042.92 2163.86,1043.77 2164.99,1044.61 2166.11,1045.46 2167.24,1046.3 2168.36,1047.15 2169.49,1047.99 2170.62,1048.83 2171.74,1049.68 2172.87,1050.52 2173.99,1051.37 2175.12,1052.21 2176.25,1053.06 2177.37,1053.9 2178.5,1054.75 2179.62,1055.59 2180.75,1056.43 2181.88,1057.28 2183,1058.12 2184.13,1058.97 2185.25,1059.81 2186.38,1060.66 2187.51,1061.5 2188.63,1062.35 2189.76,1063.19 2190.88,1064.04 2192.01,1064.88 2193.14,1065.72 2194.26,1066.57 2195.39,1067.41 2196.51,1068.26 2197.64,1069.1 2198.77,1069.95 2199.89,1070.79 2201.02,1071.64 2202.14,1072.48 2203.27,1073.32 2204.4,1074.17 2205.52,1075.01 2206.65,1075.86 2207.77,1076.7 2208.9,1077.55 2210.03,1078.39 2211.15,1079.24 2212.28,1080.08 2213.4,1080.92 2214.53,1081.77 2215.66,1082.61 2216.78,1083.46 2217.91,1084.3 2219.03,1085.15 2220.16,1085.99 2221.29,1086.84 2222.41,1087.68 2223.54,1088.53 2224.66,1089.37 2225.79,1090.21 2226.92,1091.06 2228.04,1091.9 2229.17,1092.75 2230.29,1093.59 2231.42,1094.44 2232.55,1095.28 2233.67,1096.13 2234.8,1096.97 2235.92,1097.81 2237.05,1098.66 2238.18,1099.5 2239.3,1100.35 2240.43,1101.19 2241.55,1102.04 2242.68,1102.88 2243.81,1103.73 2244.93,1104.57 2246.06,1105.42 2247.18,1106.26 2248.31,1107.1 2249.44,1107.95 2250.56,1108.79 2251.69,1109.64 2252.81,1110.48 2253.94,1111.33 2255.07,1112.17 2256.19,1113.02 2257.32,1113.86 2258.44,1114.7 2259.57,1115.55 2260.7,1116.39 2261.82,1117.24 2262.95,1118.08 2264.07,1118.93 2265.2,1119.77 2266.33,1120.62 2267.45,1121.46 2268.58,1122.31 2269.7,1123.15 2270.83,1123.99 2271.96,1124.84 2273.08,1125.68 2274.21,1126.53 2275.33,1127.37 2276.46,1128.22 2277.59,1129.06 2278.71,1129.91 2279.84,1130.75 2280.96,1131.59 2282.09,1132.44 2283.22,1133.28 2284.34,1134.13 2285.47,1134.97 2286.59,1135.82 2287.72,1136.66 2288.85,1137.51 2289.97,1138.35 2291.1,1139.2 2288.29,1139.2 2285.47,1139.2 2282.66,1139.2 2279.85,1139.2 2277.04,1139.2 2274.23,1139.2 2271.42,1139.2 2268.6,1139.2 2265.79,1139.2 2262.98,1139.2 2260.17,1139.2 2257.36,1139.2 2254.55,1139.2 2251.73,1139.2 2248.92,1139.2 2246.11,1139.2 2243.3,1139.2 2240.49,1139.2 2237.68,1139.2 2234.86,1139.2 2232.05,1139.2 2229.24,1139.2 2226.43,1139.2 2223.62,1139.2 2220.81,1139.2 2218,1139.2 2215.18,1139.2 2212.37,1139.2 2209.56,1139.2 2206.75,1139.2 2203.94,1139.2 2201.13,1139.2 2198.31,1139.2 2195.5,1139.2 2192.69,1139.2 2189.88,1139.2 2187.07,1139.2 2184.26,1139.2 2181.44,1139.2 2178.63,1139.2 2175.82,1139.2 2173.01,1139.2 2170.2,1139.2 2167.39,1139.2 2164.57,1139.2 2161.76,1139.2 2158.95,1139.2 2156.14,1139.2 2153.33,1139.2 2150.52,1139.2 2147.7,1139.2 2144.89,1139.2 2142.08,1139.2 2139.27,1139.2 2136.46,1139.2 2133.65,1139.2 2130.84,1139.2 2128.02,1139.2 2125.21,1139.2 2122.4,1139.2 2119.59,1139.2 2116.78,1139.2 2113.97,1139.2 2111.15,1139.2 2108.34,1139.2 2105.53,1139.2 2102.72,1139.2 2099.91,1139.2 2097.1,1139.2 2094.28,1139.2 2091.47,1139.2 2088.66,1139.2 2085.85,1139.2 2083.04,1139.2 2080.23,1139.2 2077.41,1139.2 2074.6,1139.2 2071.79,1139.2 2068.98,1139.2 2066.17,1139.2 2063.36,1139.2 2060.54,1139.2 2057.73,1139.2 2054.92,1139.2 2052.11,1139.2 2049.3,1139.2 2046.49,1139.2 2043.68,1139.2 2040.86,1139.2 2038.05,1139.2 2035.24,1139.2 2032.43,1139.2 2029.62,1139.2 2026.81,1139.2 2023.99,1139.2 2021.18,1139.2 2018.37,1139.2 2015.56,1139.2 2012.75,1139.2 2009.94,1139.2 2007.12,1139.2 2004.31,1139.2 2001.5,1139.2 1998.69,1139.2 1995.88,1139.2 1993.07,1139.2 1990.25,1139.2 1987.44,1139.2 1984.63,1139.2 1981.82,1139.2 1979.01,1139.2 1976.2,1139.2 1973.38,1139.2 1970.57,1139.2 1967.76,1139.2 1964.95,1139.2 1962.14,1139.2 1959.33,1139.2 1956.52,1139.2 1953.7,1139.2 1950.89,1139.2 1948.08,1139.2 1945.27,1139.2 1942.46,1139.2 1939.65,1139.2 1936.83,1139.2 1934.02,1139.2 1931.21,1139.2 1928.4,1139.2 1925.59,1139.2 1922.78,1139.2 1919.96,1139.2 1917.15,1139.2 1914.34,1139.2 1911.53,1139.2 1908.72,1139.2 1905.91,1139.2 1903.09,1139.2 1900.28,1139.2 1897.47,1139.2 1894.66,1139.2 1891.85,1139.2 1889.04,1139.2 1886.22,1139.2 1883.41,1139.2 1880.6,1139.2 1877.79,1139.2 1874.98,1139.2 1872.17,1139.2 1869.36,1139.2 1866.54,1139.2 1863.73,1139.2 1860.92,1139.2 1858.11,1139.2 1855.3,1139.2 1852.49,1139.2 1849.67,1139.2 1846.86,1139.2 1844.05,1139.2 1841.24,1139.2 1838.43,1139.2 1835.62,1139.2 1832.8,1139.2 1829.99,1139.2 1827.18,1139.2 1824.37,1139.2 1821.56,1139.2 1818.75,1139.2 1815.93,1139.2 1813.12,1139.2 1810.31,1139.2 1807.5,1139.2 1804.69,1139.2 1801.88,1139.2 1799.06,1139.2 1796.25,1139.2 1793.44,1139.2 1790.63,1139.2 1787.82,1139.2 1785.01,1139.2 1782.2,1139.2 1779.38,1139.2 1776.57,1139.2 1773.76,1139.2 1770.95,1139.2 1768.14,1139.2 1765.33,1139.2 1762.51,1139.2 1759.7,1139.2 1756.89,1139.2 1754.08,1139.2 1751.27,1139.2 1748.46,1139.2 1745.64,1139.2 1742.83,1139.2 1740.02,1139.2 1737.21,1139.2 1734.4,1139.2 1731.59,1139.2 1728.77,1139.2 1725.96,1139.2 1723.15,1139.2 1720.34,1139.2 1717.53,1139.2 1714.72,1139.2 1711.9,1139.2 1709.09,1139.2 1706.28,1139.2 1703.47,1139.2 1700.66,1139.2 1697.85,1139.2 1695.04,1139.2 1692.22,1139.2 1689.41,1139.2 1686.6,1139.2 1683.79,1139.2 1680.98,1139.2 1678.17,1139.2 1675.35,1139.2 1672.54,1139.2 1669.73,1139.2 1666.92,1139.2 1664.11,1139.2 1661.3,1139.2 1658.48,1139.2 1655.67,1139.2 1652.86,1139.2 1650.05,1139.2 1647.24,1139.2 1644.43,1139.2 1641.61,1139.2 1638.8,1139.2 1635.99,1139.2 1633.18,1139.2 1630.37,1139.2 1627.56,1139.2 1624.74,1139.2 1621.93,1139.2 1619.12,1139.2 1616.31,1139.2 1613.5,1139.2 1610.69,1139.2 1607.88,1139.2 1605.06,1139.2 1602.25,1139.2 1599.44,1139.2 1596.63,1139.2 1593.82,1139.2 1591.01,1139.2 1588.19,1139.2 1585.38,1139.2 1582.57,1139.2 1579.76,1139.2 1576.95,1139.2 1574.14,1139.2 1571.32,1139.2 1568.51,1139.2 1565.7,1139.2 1562.89,1139.2 1560.08,1139.2 1557.27,1139.2 1554.45,1139.2 1551.64,1139.2 1548.83,1139.2 1546.02,1139.2 1543.21,1139.2 1540.4,1139.2 1537.58,1139.2 1534.77,1139.2 1531.96,1139.2 1529.15,1139.2 1526.34,1139.2 1523.53,1139.2 1520.72,1139.2 1517.9,1139.2 1515.09,1139.2 1512.28,1139.2 1509.47,1139.2 1506.66,1139.2 1503.85,1139.2 1501.03,1139.2 1498.22,1139.2 1495.41,1139.2 1492.6,1139.2 1489.79,1139.2 1486.98,1139.2 1484.16,1139.2 1481.35,1139.2 1478.54,1139.2 1475.73,1139.2 1472.92,1139.2 1470.11,1139.2 1467.29,1139.2 1464.48,1139.2 1461.67,1139.2 1458.86,1139.2 1456.05,1139.2 1453.24,1139.2 1450.42,1139.2 1447.61,1139.2 1444.8,1139.2 1441.99,1139.2 1439.18,1139.2 1436.37,1139.2 1433.56,1139.2 1430.74,1139.2 1427.93,1139.2 1425.12,1139.2 1422.31,1139.2 1419.5,1139.2 1416.69,1139.2 1413.87,1139.2 1411.06,1139.2 1408.25,1139.2 1405.44,1139.2 1402.63,1139.2 1399.82,1139.2 1397,1139.2 1394.19,1139.2 1391.38,1139.2 1388.57,1139.2 1385.76,1139.2 1382.95,1139.2 1380.13,1139.2 1377.32,1139.2 1374.51,1139.2 1371.7,1139.2 1368.89,1139.2 1366.08,1139.2 1363.26,1139.2 1360.45,1139.2 1357.64,1139.2 1354.83,1139.2 1352.02,1139.2 1349.21,1139.2 1346.4,1139.2 1343.58,1139.2 1340.77,1139.2 1337.96,1139.2 1335.15,1139.2 1332.34,1139.2 1329.53,1139.2 1326.71,1139.2 1323.9,1139.2 1321.09,1139.2 1318.28,1139.2 1315.47,1139.2 1312.66,1139.2 1309.84,1139.2 1307.03,1139.2 1304.22,1139.2 1301.41,1139.2 1298.6,1139.2 1295.79,1139.2 1292.97,1139.2 1290.16,1139.2 1287.35,1139.2 1284.54,1139.2 1281.73,1139.2 1278.92,1139.2 1276.1,1139.2 1273.29,1139.2 1270.48,1139.2 1267.67,1139.2 1264.86,1139.2 1262.05,1139.2 1259.23,1139.2 1256.42,1139.2 1253.61,1139.2 1250.8,1139.2 1247.99,1139.2 1245.18,1139.2 1242.37,1139.2 1239.55,1139.2 1236.74,1139.2 1233.93,1139.2 1231.12,1139.2 1228.31,1139.2 1225.5,1139.2 1222.68,1139.2 1219.87,1139.2 1217.06,1139.2 1214.25,1139.2 1211.44,1139.2 1208.63,1139.2 1205.81,1139.2 1203,1139.2 1200.19,1139.2 1197.38,1139.2 1194.57,1139.2 1191.76,1139.2 1188.94,1139.2 1186.13,1139.2 1183.32,1139.2 1180.51,1139.2 1177.7,1139.2 1174.89,1139.2 1172.07,1139.2 1169.26,1139.2 1166.45,1139.2 1163.64,1139.2 1160.83,1139.2 1158.02,1139.2 1155.21,1139.2 1152.39,1139.2 1149.58,1139.2 1146.77,1139.2 1143.96,1139.2 1141.15,1139.2 1138.34,1139.2 1135.52,1139.2 1132.71,1139.2 1129.9,1139.2 1127.09,1139.2 1124.28,1139.2 1121.47,1139.2 1118.65,1139.2 1115.84,1139.2 1113.03,1139.2 1110.22,1139.2 1107.41,1139.2 1104.6,1139.2 1101.78,1139.2 1098.97,1139.2 1096.16,1139.2 1093.35,1139.2 1090.54,1139.2 1087.73,1139.2 1084.91,1139.2 1082.1,1139.2 1079.29,1139.2 1076.48,1139.2 1073.67,1139.2 1070.86,1139.2 1068.05,1139.2 1065.23,1139.2 1062.42,1139.2 1059.61,1139.2 1056.8,1139.2 1053.99,1139.2 1051.18,1139.2 1048.36,1139.2 1045.55,1139.2 1042.74,1139.2 1039.93,1139.2 1037.12,1139.2 1034.31,1139.2 1031.49,1139.2 1028.68,1139.2 1025.87,1139.2 1023.06,1139.2 1020.25,1139.2 1017.44,1139.2 1014.62,1139.2 1011.81,1139.2 1009,1139.2 1006.19,1139.2 1003.38,1139.2 1000.57,1139.2 997.755,1139.2 994.943,1139.2 992.132,1139.2 989.32,1139.2 986.508,1139.2 983.697,1139.2 980.885,1139.2 978.074,1139.2 975.262,1139.2 972.45,1139.2 969.639,1139.2 966.827,1139.2 964.016,1139.2 961.204,1139.2 958.392,1139.2 955.581,1139.2 952.769,1139.2 949.957,1139.2 947.146,1139.2 944.334,1139.2 941.523,1139.2 938.711,1139.2 935.899,1139.2 933.088,1139.2 930.276,1139.2 927.465,1139.2 924.653,1139.2 921.841,1139.2 919.03,1139.2 916.218,1139.2 913.407,1139.2 910.595,1139.2 907.783,1139.2 904.972,1139.2 902.16,1139.2 899.348,1139.2 896.537,1139.2 893.725,1139.2 890.914,1139.2 888.102,1139.2 885.29,1139.2 882.479,1139.2 879.667,1139.2 876.856,1139.2 874.044,1139.2 871.232,1139.2 868.421,1139.2 865.609,1139.2 862.797,1139.2 859.986,1139.2 857.174,1139.2 854.363,1139.2 851.551,1139.2 848.739,1139.2 845.928,1139.2 843.116,1139.2 840.305,1139.2 837.493,1139.2 834.681,1139.2 831.87,1139.2 829.058,1139.2 826.246,1139.2 823.435,1139.2 820.623,1139.2 817.812,1139.2 815,1139.2 812.188,1139.2 809.377,1139.2 806.565,1139.2 803.754,1139.2 800.942,1139.2 798.13,1139.2 795.319,1139.2 792.507,1139.2 789.696,1139.2 786.884,1139.2 784.072,1139.2 781.261,1139.2 778.449,1139.2 775.637,1139.2 772.826,1139.2 770.014,1139.2 767.203,1139.2 764.391,1139.2 761.579,1139.2 758.768,1139.2 755.956,1139.2 753.145,1139.2 750.333,1139.2 747.521,1139.2 744.71,1139.2 741.898,1139.2 739.086,1139.2 736.275,1139.2 733.463,1139.2 730.652,1139.2 727.84,1139.2 725.028,1139.2 722.217,1139.2 719.405,1139.2 716.594,1139.2 713.782,1139.2 710.97,1139.2 708.159,1139.2 705.347,1139.2 702.535,1139.2 699.724,1139.2 696.912,1139.2 694.101,1139.2 691.289,1139.2 688.477,1139.2 685.666,1139.2 682.854,1139.2 680.043,1139.2 677.231,1139.2 674.419,1139.2 671.608,1139.2 668.796,1139.2 665.985,1139.2 663.173,1139.2 660.361,1139.2 657.55,1139.2 654.738,1139.2 651.926,1139.2 649.115,1139.2 646.303,1139.2 643.492,1139.2 640.68,1139.2 637.868,1139.2 635.057,1139.2 632.245,1139.2 629.434,1139.2 626.622,1139.2 623.81,1139.2 620.999,1139.2 618.187,1139.2 615.375,1139.2 612.564,1139.2 609.752,1139.2 606.941,1139.2 604.129,1139.2 601.317,1139.2 598.506,1139.2 595.694,1139.2 592.883,1139.2 590.071,1139.2 587.259,1139.2 584.448,1139.2 581.636,1139.2 578.824,1139.2 576.013,1139.2 573.201,1139.2 570.39,1139.2 567.578,1139.2 564.766,1139.2 561.955,1139.2 559.143,1139.2 556.332,1139.2 553.52,1139.2 550.708,1139.2 547.897,1139.2 545.085,1139.2 542.273,1139.2 539.462,1139.2 536.65,1139.2 533.839,1139.2 531.027,1139.2 528.215,1139.2 525.404,1139.2 522.592,1139.2 519.781,1139.2 516.969,1139.2 514.157,1139.2 511.346,1139.2 508.534,1139.2 505.723,1139.2 502.911,1139.2 500.099,1139.2 497.288,1139.2 494.476,1139.2 491.664,1139.2 488.853,1139.2 486.041,1139.2 483.23,1139.2 480.418,1139.2 477.606,1139.2 474.795,1139.2 471.983,1139.2 469.172,1139.2 466.36,1139.2 463.548,1139.2 460.737,1139.2 457.925,1139.2 455.113,1139.2 452.302,1139.2 449.49,1139.2 446.679,1139.2 443.867,1139.2 441.055,1139.2 438.244,1139.2 435.432,1139.2 432.621,1139.2 429.809,1139.2 426.997,1139.2 424.186,1139.2 421.374,1139.2 418.562,1139.2 415.751,1139.2 412.939,1139.2 410.128,1139.2 407.316,1139.2 404.504,1139.2 401.693,1139.2 398.881,1139.2 396.07,1139.2 393.258,1139.2 390.446,1139.2 387.635,1139.2 384.823,1139.2 382.012,1139.2 379.2,1139.2 376.388,1139.2 373.577,1139.2 370.765,1139.2 367.953,1139.2 365.142,1139.2 362.33,1139.2 359.519,1139.2 356.707,1139.2 353.895,1139.2 351.084,1139.2 348.272,1139.2 345.461,1139.2 342.649,1139.2 339.837,1139.2 337.026,1139.2 334.214,1139.2 331.402,1139.2 328.591,1139.2 325.779,1139.2 322.968,1139.2 320.156,1139.2 317.344,1139.2 314.533,1139.2 311.721,1139.2 308.91,1139.2 306.098,1139.2 303.286,1139.2 300.475,1139.2 297.663,1139.2 294.851,1139.2 292.04,1139.2 289.228,1139.2 286.417,1139.2 283.605,1139.2 280.793,1139.2 277.982,1139.2 275.17,1139.2 272.359,1139.2 269.547,1139.2 266.735,1139.2 263.924,1139.2 261.112,1139.2 258.301,1139.2 255.489,1139.2 252.677,1139.2 249.866,1139.2 247.054,1139.2 244.242,1139.2 241.431,1139.2 238.619,1139.2 235.808,1139.2 \"/>\n",
       "<polyline clip-path=\"url(#clip132)\" style=\"stroke:#e26f46; stroke-linecap:round; stroke-linejoin:round; stroke-width:8; stroke-opacity:1; fill:none\" stroke-dasharray=\"32, 20\" points=\"460.644,1127.07 461.77,1126.23 462.896,1125.38 464.022,1124.54 465.148,1123.69 466.273,1122.85 467.398,1122.01 468.522,1121.16 469.646,1120.32 470.769,1119.48 471.89,1118.63 473.011,1117.79 474.13,1116.95 475.247,1116.11 476.363,1115.27 477.478,1114.43 478.59,1113.59 479.7,1112.75 480.809,1111.91 481.914,1111.07 483.018,1110.24 484.119,1109.4 485.218,1108.57 486.313,1107.73 487.406,1106.9 488.497,1106.07 489.584,1105.24 490.668,1104.41 491.749,1103.58 492.827,1102.75 493.901,1101.92 494.973,1101.1 496.04,1100.27 497.105,1099.45 498.166,1098.63 499.223,1097.81 500.277,1096.99 501.327,1096.17 502.373,1095.35 503.416,1094.53 504.455,1093.72 505.49,1092.9 506.522,1092.09 507.549,1091.28 508.573,1090.47 509.593,1089.66 510.609,1088.85 511.621,1088.04 512.629,1087.24 513.634,1086.43 514.634,1085.63 515.631,1084.83 516.623,1084.03 517.612,1083.23 518.597,1082.43 519.578,1081.63 520.555,1080.84 521.529,1080.04 522.498,1079.25 523.464,1078.46 524.426,1077.67 525.384,1076.88 526.339,1076.09 527.29,1075.3 528.237,1074.51 529.18,1073.73 530.12,1072.94 531.057,1072.16 531.989,1071.38 532.919,1070.6 533.845,1069.82 534.767,1069.04 535.686,1068.26 536.602,1067.48 537.515,1066.71 538.424,1065.93 539.33,1065.16 540.233,1064.39 541.133,1063.61 542.03,1062.84 542.924,1062.07 543.816,1061.3 544.704,1060.54 545.589,1059.77 546.472,1059 547.352,1058.24 548.229,1057.47 549.104,1056.71 549.976,1055.94 550.846,1055.18 551.713,1054.42 552.578,1053.66 553.441,1052.89 554.302,1052.13 555.16,1051.37 556.016,1050.62 556.871,1049.86 557.723,1049.1 558.573,1048.34 559.422,1047.59 560.268,1046.83 561.113,1046.07 561.957,1045.32 562.799,1044.56 563.639,1043.81 564.478,1043.06 565.315,1042.3 566.151,1041.55 566.986,1040.8 567.819,1040.04 568.652,1039.29 569.483,1038.54 570.313,1037.79 571.143,1037.04 571.971,1036.29 572.798,1035.53 573.625,1034.78 574.451,1034.03 575.277,1033.28 576.101,1032.53 576.926,1031.78 577.749,1031.03 578.573,1030.28 579.396,1029.53 580.218,1028.78 581.041,1028.03 581.863,1027.28 582.685,1026.54 583.507,1025.79 584.329,1025.04 585.151,1024.29 585.973,1023.54 586.795,1022.79 587.618,1022.04 588.44,1021.29 589.263,1020.54 590.087,1019.79 590.91,1019.04 591.735,1018.28 592.559,1017.53 593.384,1016.78 594.21,1016.03 595.037,1015.28 595.864,1014.53 596.692,1013.78 597.52,1013.02 598.35,1012.27 599.18,1011.52 600.011,1010.76 600.843,1010.01 601.676,1009.26 602.511,1008.5 603.346,1007.75 604.182,1006.99 605.02,1006.24 605.858,1005.48 606.698,1004.73 607.54,1003.97 608.382,1003.21 609.226,1002.45 610.071,1001.7 610.918,1000.94 611.766,1000.18 612.615,999.419 613.466,998.659 614.319,997.898 615.173,997.137 616.028,996.376 616.886,995.614 617.745,994.851 618.605,994.088 619.468,993.324 620.332,992.56 621.197,991.795 622.065,991.03 622.934,990.264 623.805,989.497 624.678,988.73 625.553,987.962 626.43,987.194 627.309,986.425 628.189,985.655 629.072,984.885 629.956,984.114 630.842,983.343 631.731,982.571 632.621,981.798 633.513,981.025 634.408,980.251 635.304,979.476 636.203,978.7 637.103,977.924 638.006,977.148 638.911,976.37 639.818,975.592 640.727,974.814 641.638,974.034 642.551,973.254 643.466,972.474 644.384,971.692 645.304,970.91 646.225,970.128 647.149,969.344 648.075,968.56 649.004,967.775 649.934,966.99 650.867,966.204 651.802,965.417 652.739,964.629 653.678,963.841 654.619,963.052 655.563,962.263 656.509,961.472 657.457,960.681 658.407,959.89 659.359,959.097 660.314,958.304 661.271,957.511 662.229,956.716 663.19,955.921 664.154,955.126 665.119,954.329 666.087,953.532 667.056,952.734 668.028,951.936 669.002,951.137 669.978,950.337 670.957,949.537 671.937,948.736 672.92,947.934 673.904,947.132 674.891,946.329 675.88,945.525 676.871,944.721 677.864,943.916 678.859,943.11 679.856,942.304 680.856,941.497 681.857,940.689 682.86,939.881 683.865,939.073 684.873,938.263 685.882,937.453 686.893,936.643 687.907,935.831 688.922,935.02 689.939,934.207 690.958,933.394 691.979,932.581 693.002,931.766 694.027,930.952 695.054,930.136 696.082,929.32 697.113,928.504 698.145,927.687 699.179,926.869 700.215,926.051 701.253,925.232 702.292,924.413 703.334,923.593 704.377,922.773 705.421,921.952 706.468,921.131 707.516,920.309 708.566,919.487 709.618,918.664 710.671,917.84 711.726,917.016 712.782,916.192 713.84,915.367 714.9,914.542 715.961,913.716 717.024,912.89 718.089,912.063 719.155,911.236 720.222,910.408 721.291,909.58 722.362,908.751 723.433,907.922 724.507,907.093 725.582,906.263 726.658,905.432 727.735,904.602 728.814,903.77 729.895,902.939 730.976,902.107 732.059,901.275 733.143,900.442 734.229,899.609 735.316,898.775 736.404,897.941 737.493,897.107 738.584,896.272 739.676,895.437 740.769,894.602 741.863,893.766 742.958,892.93 744.055,892.094 745.152,891.257 746.251,890.42 747.351,889.582 748.452,888.745 749.553,887.907 750.656,887.068 751.76,886.23 752.865,885.391 753.971,884.552 755.078,883.712 756.186,882.872 757.295,882.032 758.405,881.192 759.515,880.351 760.627,879.51 761.739,878.669 762.853,877.828 763.967,876.986 765.082,876.144 766.198,875.302 767.314,874.46 768.432,873.617 769.55,872.775 770.669,871.932 771.788,871.088 772.909,870.245 774.03,869.401 775.152,868.557 776.274,867.713 777.397,866.869 778.521,866.025 779.646,865.18 780.771,864.335 781.896,863.49 783.023,862.645 784.149,861.8 785.277,860.954 786.405,860.109 787.533,859.263 788.662,858.417 789.792,857.571 790.922,856.725 792.052,855.878 793.183,855.032 794.315,854.185 795.447,853.338 796.579,852.491 797.712,851.644 798.845,850.797 799.979,849.95 801.113,849.103 802.247,848.255 803.382,847.408 804.517,846.56 805.653,845.712 806.789,844.864 807.925,844.016 809.061,843.168 810.198,842.32 811.335,841.472 812.472,840.624 813.61,839.775 814.748,838.927 815.886,838.079 817.024,837.23 818.163,836.381 819.302,835.533 820.441,834.684 821.58,833.835 822.72,832.986 823.859,832.138 824.999,831.289 826.139,830.44 827.279,829.591 828.419,828.742 829.56,827.892 830.7,827.043 831.841,826.194 832.982,825.345 834.123,824.496 835.264,823.647 836.405,822.797 837.546,821.948 838.688,821.099 839.829,820.249 840.97,819.4 842.112,818.551 843.254,817.701 844.395,816.852 845.537,816.003 846.679,815.153 847.82,814.304 848.962,813.455 850.104,812.605 851.246,811.756 852.387,810.907 853.529,810.057 854.671,809.208 855.813,808.359 856.954,807.509 858.096,806.66 859.238,805.811 860.38,804.961 861.521,804.112 862.663,803.263 863.804,802.414 864.946,801.564 866.087,800.715 867.229,799.866 868.37,799.017 869.511,798.168 870.652,797.319 871.794,796.47 872.935,795.621 874.076,794.772 875.216,793.923 876.357,793.074 877.498,792.225 878.639,791.376 879.779,790.527 880.919,789.678 882.06,788.829 883.2,787.981 884.34,787.132 885.48,786.283 886.62,785.435 887.76,784.586 888.899,783.738 890.039,782.889 891.178,782.041 892.317,781.192 893.457,780.344 894.596,779.495 895.735,778.647 896.873,777.799 898.012,776.951 899.15,776.102 900.289,775.254 901.427,774.406 902.565,773.558 903.703,772.71 904.841,771.862 905.978,771.014 907.116,770.166 908.253,769.319 909.39,768.471 910.527,767.623 911.664,766.775 912.801,765.928 913.938,765.08 915.074,764.233 916.21,763.385 917.347,762.538 918.483,761.69 919.618,760.843 920.754,759.996 921.89,759.148 923.025,758.301 924.16,757.454 925.295,756.607 926.43,755.76 927.565,754.913 928.7,754.066 929.834,753.219 930.969,752.372 932.103,751.525 933.237,750.679 934.371,749.832 935.504,748.985 936.638,748.138 937.771,747.292 938.905,746.445 940.038,745.599 941.171,744.752 942.304,743.906 943.436,743.059 944.569,742.213 945.701,741.367 946.833,740.521 947.966,739.674 949.098,738.828 950.229,737.982 951.361,737.136 952.492,736.29 953.624,735.444 954.755,734.598 955.886,733.752 957.017,732.906 958.148,732.061 959.279,731.215 960.409,730.369 961.54,729.523 962.67,728.678 963.8,727.832 964.93,726.986 966.06,726.141 967.19,725.295 968.319,724.45 969.449,723.605 970.578,722.759 971.708,721.914 972.837,721.068 973.966,720.223 975.095,719.378 976.223,718.533 977.352,717.688 978.481,716.842 979.609,715.997 980.737,715.152 981.866,714.307 982.994,713.462 984.122,712.617 985.25,711.772 986.377,710.927 987.505,710.082 988.633,709.238 989.76,708.393 990.887,707.548 992.015,706.703 993.142,705.858 994.269,705.014 995.396,704.169 996.523,703.324 997.65,702.48 998.776,701.635 999.903,700.79 1001.03,699.946 1002.16,699.101 1003.28,698.257 1004.41,697.412 1005.53,696.568 1006.66,695.723 1007.79,694.879 1008.91,694.035 1010.04,693.19 1011.16,692.346 1012.29,691.502 1013.42,690.657 1014.54,689.813 1015.67,688.969 1016.79,688.124 1017.92,687.28 1019.04,686.436 1020.17,685.592 1021.29,684.748 1022.42,683.903 1023.54,683.059 1024.67,682.215 1025.79,681.371 1026.92,680.527 1028.04,679.683 1029.17,678.839 1030.29,677.995 1031.42,677.151 1032.54,676.307 1033.67,675.463 1034.79,674.619 1035.92,673.775 1037.04,672.931 1038.16,672.087 1039.29,671.243 1040.41,670.399 1041.54,669.555 1042.66,668.711 1043.79,667.867 1044.91,667.023 1046.03,666.179 1047.16,665.335 1048.28,664.491 1049.41,663.648 1050.53,662.804 1051.65,661.96 1052.78,661.116 1053.9,660.272 1055.03,659.428 1056.15,658.584 1057.27,657.741 1058.4,656.897 1059.52,656.053 1060.64,655.209 1061.77,654.365 1062.89,653.522 1064.02,652.678 1065.14,651.834 1066.26,650.99 1067.39,650.146 1068.51,649.303 1069.63,648.459 1070.76,647.615 1071.88,646.771 1073.01,645.927 1074.13,645.084 1075.25,644.24 1076.38,643.396 1077.5,642.552 1078.62,641.709 1079.75,640.865 1080.87,640.021 1081.99,639.177 1083.12,638.333 1084.24,637.49 1085.36,636.646 1086.49,635.802 1087.61,634.958 1088.74,634.115 1089.86,633.271 1090.98,632.427 1092.11,631.583 1093.23,630.74 1094.35,629.896 1095.48,629.052 1096.6,628.208 1097.72,627.364 1098.85,626.521 1099.97,625.677 1101.09,624.833 1102.22,623.989 1103.34,623.145 1104.47,622.302 1105.59,621.458 1106.71,620.614 1107.84,619.77 1108.96,618.926 1110.08,618.082 1111.21,617.239 1112.33,616.395 1113.45,615.551 1114.58,614.707 1115.7,613.863 1116.83,613.019 1117.95,612.176 1119.07,611.332 1120.2,610.488 1121.32,609.644 1122.44,608.8 1123.57,607.956 1124.69,607.112 1125.82,606.268 1126.94,605.424 1128.06,604.581 1129.19,603.737 1130.31,602.893 1131.44,602.049 1132.56,601.205 1133.68,600.361 1134.81,599.517 1135.93,598.673 1137.06,597.829 1138.18,596.985 1139.3,596.141 1140.43,595.297 1141.55,594.453 1142.68,593.609 1143.8,592.765 1144.92,591.921 1146.05,591.077 1147.17,590.233 1148.3,589.389 1149.42,588.545 1150.55,587.701 1151.67,586.857 1152.79,586.013 1153.92,585.169 1155.04,584.325 1156.17,583.481 1157.29,582.637 1158.42,581.793 1159.54,580.949 1160.67,580.105 1161.79,579.261 1162.91,578.416 1164.04,577.572 1165.16,576.728 1166.29,575.884 1167.41,575.04 1168.54,574.196 1169.66,573.352 1170.79,572.508 1171.91,571.663 1173.04,570.819 1174.16,569.975 1175.29,569.131 1176.41,568.287 1177.53,567.443 1178.66,566.598 1179.78,565.754 1180.91,564.91 1182.03,564.066 1183.16,563.221 1184.28,562.377 1185.41,561.533 1186.53,560.689 1187.66,559.845 1188.78,559 1189.91,558.156 1191.03,557.312 1192.16,556.468 1193.28,555.623 1194.41,554.779 1195.53,553.935 1196.66,553.09 1197.78,552.246 1198.91,551.402 1200.03,550.558 1201.16,549.713 1202.28,548.869 1203.41,548.025 1204.54,547.18 1205.66,546.336 1206.79,545.492 1207.91,544.647 1209.04,543.803 1210.16,542.959 1211.29,542.114 1212.41,541.27 1213.54,540.425 1214.66,539.581 1215.79,538.737 1216.91,537.892 1218.04,537.048 1219.17,536.204 1220.29,535.359 1221.42,534.515 1222.54,533.67 1223.67,532.826 1224.79,531.981 1225.92,531.137 1227.04,530.293 1228.17,529.448 1229.3,528.604 1230.42,527.759 1231.55,526.915 1232.67,526.07 1233.8,525.226 1234.92,524.382 1236.05,523.537 1237.18,522.693 1238.3,521.848 1239.43,521.004 1240.55,520.159 1241.68,519.315 1242.8,518.47 1243.93,517.626 1245.06,516.781 1246.18,515.937 1247.31,515.092 1248.43,514.248 1249.56,513.403 1250.69,512.559 1251.81,511.714 1252.94,510.87 1254.06,510.025 1255.19,509.181 1256.31,508.336 1257.44,507.492 1258.57,506.647 1259.69,505.803 1260.82,504.958 1261.94,504.114 1263.07,503.269 1264.2,502.425 1265.32,501.58 1266.45,500.735 1267.57,499.891 1268.7,499.046 1269.83,498.202 1270.95,497.357 1272.08,496.513 1273.2,495.668 1274.33,494.824 1275.46,493.979 1276.58,493.134 1277.71,492.29 1278.84,491.445 1279.96,490.601 1281.09,489.756 1282.21,488.912 1283.34,488.067 1284.47,487.222 1285.59,486.378 1286.72,485.533 1287.84,484.689 1288.97,483.844 1290.1,483 1291.22,482.155 1292.35,481.31 1293.48,480.466 1294.6,479.621 1295.73,478.777 1296.85,477.932 1297.98,477.087 1299.11,476.243 1300.23,475.398 1301.36,474.554 1302.49,473.709 1303.61,472.864 1304.74,472.02 1305.86,471.175 1306.99,470.331 1308.12,469.486 1309.24,468.641 1310.37,467.797 1311.49,466.952 1312.62,466.108 1313.75,465.263 1314.87,464.418 1316,463.574 1317.13,462.729 1318.25,461.885 1319.38,461.04 1320.51,460.195 1321.63,459.351 1322.76,458.506 1323.88,457.662 1325.01,456.817 1326.14,455.972 1327.26,455.128 1328.39,454.283 1329.52,453.439 1330.64,452.594 1331.77,451.749 1332.89,450.905 1334.02,450.06 1335.15,449.215 1336.27,448.371 1337.4,447.526 1338.53,446.682 1339.65,445.837 1340.78,444.992 1341.9,444.148 1343.03,443.303 1344.16,442.459 1345.28,441.614 1346.41,440.769 1347.54,439.925 1348.66,439.08 1349.79,438.236 1350.91,437.391 1352.04,436.547 1353.17,435.704 1354.29,434.863 1355.42,434.023 1356.54,433.186 1357.66,432.352 1358.79,431.522 1359.91,430.697 1361.03,429.877 1362.15,429.064 1363.27,428.257 1364.39,427.458 1365.51,426.667 1366.63,425.885 1367.75,425.113 1368.87,424.351 1369.98,423.6 1371.1,422.86 1372.21,422.132 1373.33,421.416 1374.44,420.714 1375.56,420.025 1376.67,419.351 1377.78,418.691 1378.9,418.046 1380.01,417.417 1381.12,416.804 1382.23,416.207 1383.34,415.627 1384.45,415.064 1385.56,414.518 1386.66,413.991 1387.77,413.482 1388.88,412.992 1389.99,412.52 1391.09,412.068 1392.2,411.636 1393.3,411.223 1394.41,410.83 1395.51,410.458 1396.61,410.107 1397.71,409.777 1398.82,409.467 1399.92,409.179 1401.02,408.913 1402.12,408.668 1403.22,408.446 1404.32,408.245 1405.42,408.067 1406.52,407.912 1407.61,407.779 1408.71,407.668 1409.81,407.581 1410.9,407.516 1412,407.475 1413.1,407.457 1414.19,407.462 1415.29,407.49 1416.38,407.542 1417.48,407.617 1418.57,407.716 1419.66,407.838 1420.76,407.984 1421.85,408.153 1422.94,408.346 1424.03,408.563 1425.13,408.803 1426.22,409.066 1427.31,409.353 1428.4,409.664 1429.49,409.997 1430.58,410.354 1431.67,410.735 1432.76,411.138 1433.85,411.565 1434.94,412.014 1436.03,412.487 1437.12,412.982 1438.21,413.499 1439.3,414.04 1440.39,414.602 1441.48,415.187 1442.57,415.794 1443.66,416.422 1444.75,417.072 1445.84,417.744 1446.93,418.437 1448.02,419.151 1449.11,419.886 1450.2,420.642 1451.29,421.419 1452.38,422.215 1453.47,423.032 1454.56,423.868 1455.65,424.724 1456.74,425.599 1457.83,426.494 1458.93,427.407 1460.02,428.339 1461.11,429.289 1462.2,430.257 1463.3,431.243 1464.39,432.246 1465.48,433.267 1466.58,434.304 1467.67,435.358 1468.77,436.429 1469.86,437.515 1470.96,438.617 1472.05,439.735 1473.15,440.868 1474.25,442.016 1475.35,443.178 1476.44,444.355 1477.54,445.545 1478.64,446.75 1479.74,447.967 1480.84,449.198 1481.94,450.441 1483.04,451.697 1484.14,452.965 1485.25,454.245 1486.35,455.537 1487.45,456.84 1488.56,458.153 1489.66,459.478 1490.77,460.812 1491.87,462.157 1492.98,463.511 1494.08,464.875 1495.19,466.248 1496.3,467.63 1497.41,469.021 1498.52,470.42 1499.63,471.827 1500.74,473.241 1501.85,474.663 1502.96,476.092 1504.07,477.529 1505.19,478.971 1506.3,480.42 1507.41,481.876 1508.53,483.337 1509.64,484.803 1510.76,486.275 1511.88,487.752 1512.99,489.234 1514.11,490.72 1515.23,492.211 1516.35,493.706 1517.47,495.204 1518.59,496.707 1519.71,498.212 1520.83,499.721 1521.95,501.232 1523.07,502.747 1524.2,504.264 1525.32,505.783 1526.44,507.304 1527.57,508.827 1528.69,510.351 1529.82,511.877 1530.95,513.405 1532.07,514.933 1533.2,516.462 415.189,1139.2 \"/>\n",
       "<path clip-path=\"url(#clip130)\" d=\"M1981.19 322.316 L2280.14 322.316 L2280.14 166.796 L1981.19 166.796  Z\" fill=\"#ffffff\" fill-rule=\"evenodd\" fill-opacity=\"1\"/>\n",
       "<polyline clip-path=\"url(#clip130)\" style=\"stroke:#000000; stroke-linecap:round; stroke-linejoin:round; stroke-width:4; stroke-opacity:1; fill:none\" points=\"1981.19,322.316 2280.14,322.316 2280.14,166.796 1981.19,166.796 1981.19,322.316 \"/>\n",
       "<polyline clip-path=\"url(#clip130)\" style=\"stroke:#009af9; stroke-linecap:round; stroke-linejoin:round; stroke-width:8; stroke-opacity:1; fill:none\" points=\"2005.39,218.636 2150.63,218.636 \"/>\n",
       "<path clip-path=\"url(#clip130)\" d=\"M2190.03 213.971 Q2189.31 213.555 2188.45 213.37 Q2187.62 213.161 2186.6 213.161 Q2182.99 213.161 2181.05 215.522 Q2179.12 217.86 2179.12 222.258 L2179.12 235.916 L2174.84 235.916 L2174.84 209.99 L2179.12 209.99 L2179.12 214.018 Q2180.47 211.657 2182.62 210.522 Q2184.77 209.365 2187.85 209.365 Q2188.29 209.365 2188.82 209.434 Q2189.36 209.481 2190 209.596 L2190.03 213.971 Z\" fill=\"#000000\" fill-rule=\"nonzero\" fill-opacity=\"1\" /><path clip-path=\"url(#clip130)\" d=\"M2215.63 221.888 L2215.63 223.971 L2196.04 223.971 Q2196.32 228.369 2198.68 230.684 Q2201.07 232.976 2205.3 232.976 Q2207.76 232.976 2210.05 232.374 Q2212.36 231.772 2214.63 230.569 L2214.63 234.596 Q2212.34 235.568 2209.93 236.078 Q2207.53 236.587 2205.05 236.587 Q2198.85 236.587 2195.21 232.976 Q2191.6 229.365 2191.6 223.207 Q2191.6 216.842 2195.03 213.115 Q2198.48 209.365 2204.31 209.365 Q2209.54 209.365 2212.57 212.745 Q2215.63 216.101 2215.63 221.888 M2211.37 220.638 Q2211.32 217.143 2209.4 215.059 Q2207.5 212.976 2204.36 212.976 Q2200.79 212.976 2198.64 214.99 Q2196.51 217.004 2196.18 220.661 L2211.37 220.638 Z\" fill=\"#000000\" fill-rule=\"nonzero\" fill-opacity=\"1\" /><path clip-path=\"url(#clip130)\" d=\"M2235.74 199.897 L2235.74 203.439 L2231.67 203.439 Q2229.38 203.439 2228.48 204.365 Q2227.6 205.291 2227.6 207.698 L2227.6 209.99 L2234.61 209.99 L2234.61 213.3 L2227.6 213.3 L2227.6 235.916 L2223.31 235.916 L2223.31 213.3 L2219.24 213.3 L2219.24 209.99 L2223.31 209.99 L2223.31 208.184 Q2223.31 203.856 2225.33 201.888 Q2227.34 199.897 2231.72 199.897 L2235.74 199.897 Z\" fill=\"#000000\" fill-rule=\"nonzero\" fill-opacity=\"1\" /><polyline clip-path=\"url(#clip130)\" style=\"stroke:#e26f46; stroke-linecap:round; stroke-linejoin:round; stroke-width:8; stroke-opacity:1; fill:none\" stroke-dasharray=\"32, 20\" points=\"2005.39,270.476 2150.63,270.476 \"/>\n",
       "<path clip-path=\"url(#clip130)\" d=\"M2190.03 265.811 Q2189.31 265.395 2188.45 265.21 Q2187.62 265.001 2186.6 265.001 Q2182.99 265.001 2181.05 267.362 Q2179.12 269.7 2179.12 274.098 L2179.12 287.756 L2174.84 287.756 L2174.84 261.83 L2179.12 261.83 L2179.12 265.858 Q2180.47 263.497 2182.62 262.362 Q2184.77 261.205 2187.85 261.205 Q2188.29 261.205 2188.82 261.274 Q2189.36 261.321 2190 261.436 L2190.03 265.811 Z\" fill=\"#000000\" fill-rule=\"nonzero\" fill-opacity=\"1\" /><path clip-path=\"url(#clip130)\" d=\"M2215.63 273.728 L2215.63 275.811 L2196.04 275.811 Q2196.32 280.209 2198.68 282.524 Q2201.07 284.816 2205.3 284.816 Q2207.76 284.816 2210.05 284.214 Q2212.36 283.612 2214.63 282.409 L2214.63 286.436 Q2212.34 287.408 2209.93 287.918 Q2207.53 288.427 2205.05 288.427 Q2198.85 288.427 2195.21 284.816 Q2191.6 281.205 2191.6 275.047 Q2191.6 268.682 2195.03 264.955 Q2198.48 261.205 2204.31 261.205 Q2209.54 261.205 2212.57 264.585 Q2215.63 267.941 2215.63 273.728 M2211.37 272.478 Q2211.32 268.983 2209.4 266.899 Q2207.5 264.816 2204.36 264.816 Q2200.79 264.816 2198.64 266.83 Q2196.51 268.844 2196.18 272.501 L2211.37 272.478 Z\" fill=\"#000000\" fill-rule=\"nonzero\" fill-opacity=\"1\" /><path clip-path=\"url(#clip130)\" d=\"M2234.4 274.723 Q2229.24 274.723 2227.25 275.904 Q2225.26 277.084 2225.26 279.932 Q2225.26 282.2 2226.74 283.543 Q2228.24 284.862 2230.81 284.862 Q2234.35 284.862 2236.48 282.362 Q2238.64 279.839 2238.64 275.672 L2238.64 274.723 L2234.4 274.723 M2242.9 272.964 L2242.9 287.756 L2238.64 287.756 L2238.64 283.821 Q2237.18 286.182 2235 287.316 Q2232.83 288.427 2229.68 288.427 Q2225.7 288.427 2223.34 286.205 Q2221 283.959 2221 280.209 Q2221 275.834 2223.92 273.612 Q2226.86 271.39 2232.67 271.39 L2238.64 271.39 L2238.64 270.973 Q2238.64 268.034 2236.69 266.436 Q2234.77 264.816 2231.28 264.816 Q2229.05 264.816 2226.95 265.348 Q2224.84 265.881 2222.9 266.946 L2222.9 263.01 Q2225.23 262.108 2227.43 261.668 Q2229.63 261.205 2231.72 261.205 Q2237.34 261.205 2240.12 264.122 Q2242.9 267.038 2242.9 272.964 Z\" fill=\"#000000\" fill-rule=\"nonzero\" fill-opacity=\"1\" /><path clip-path=\"url(#clip130)\" d=\"M2251.67 251.737 L2255.93 251.737 L2255.93 287.756 L2251.67 287.756 L2251.67 251.737 Z\" fill=\"#000000\" fill-rule=\"nonzero\" fill-opacity=\"1\" /></svg>\n"
      ],
      "text/html": [
       "<?xml version=\"1.0\" encoding=\"utf-8\"?>\n",
       "<svg xmlns=\"http://www.w3.org/2000/svg\" xmlns:xlink=\"http://www.w3.org/1999/xlink\" width=\"600\" height=\"400\" viewBox=\"0 0 2400 1600\">\n",
       "<defs>\n",
       "  <clipPath id=\"clip180\">\n",
       "    <rect x=\"0\" y=\"0\" width=\"2400\" height=\"1600\"/>\n",
       "  </clipPath>\n",
       "</defs>\n",
       "<path clip-path=\"url(#clip180)\" d=\"M0 1600 L2400 1600 L2400 0 L0 0  Z\" fill=\"#ffffff\" fill-rule=\"evenodd\" fill-opacity=\"1\"/>\n",
       "<defs>\n",
       "  <clipPath id=\"clip181\">\n",
       "    <rect x=\"480\" y=\"0\" width=\"1681\" height=\"1600\"/>\n",
       "  </clipPath>\n",
       "</defs>\n",
       "<path clip-path=\"url(#clip180)\" d=\"M210.746 1423.18 L2352.76 1423.18 L2352.76 123.472 L210.746 123.472  Z\" fill=\"#ffffff\" fill-rule=\"evenodd\" fill-opacity=\"1\"/>\n",
       "<defs>\n",
       "  <clipPath id=\"clip182\">\n",
       "    <rect x=\"210\" y=\"123\" width=\"2143\" height=\"1301\"/>\n",
       "  </clipPath>\n",
       "</defs>\n",
       "<polyline clip-path=\"url(#clip182)\" style=\"stroke:#000000; stroke-linecap:round; stroke-linejoin:round; stroke-width:2; stroke-opacity:0.1; fill:none\" points=\"447.737,1423.18 447.737,123.472 \"/>\n",
       "<polyline clip-path=\"url(#clip182)\" style=\"stroke:#000000; stroke-linecap:round; stroke-linejoin:round; stroke-width:2; stroke-opacity:0.1; fill:none\" points=\"908.836,1423.18 908.836,123.472 \"/>\n",
       "<polyline clip-path=\"url(#clip182)\" style=\"stroke:#000000; stroke-linecap:round; stroke-linejoin:round; stroke-width:2; stroke-opacity:0.1; fill:none\" points=\"1369.93,1423.18 1369.93,123.472 \"/>\n",
       "<polyline clip-path=\"url(#clip182)\" style=\"stroke:#000000; stroke-linecap:round; stroke-linejoin:round; stroke-width:2; stroke-opacity:0.1; fill:none\" points=\"1831.03,1423.18 1831.03,123.472 \"/>\n",
       "<polyline clip-path=\"url(#clip182)\" style=\"stroke:#000000; stroke-linecap:round; stroke-linejoin:round; stroke-width:2; stroke-opacity:0.1; fill:none\" points=\"2292.13,1423.18 2292.13,123.472 \"/>\n",
       "<polyline clip-path=\"url(#clip180)\" style=\"stroke:#000000; stroke-linecap:round; stroke-linejoin:round; stroke-width:4; stroke-opacity:1; fill:none\" points=\"210.746,1423.18 2352.76,1423.18 \"/>\n",
       "<polyline clip-path=\"url(#clip180)\" style=\"stroke:#000000; stroke-linecap:round; stroke-linejoin:round; stroke-width:4; stroke-opacity:1; fill:none\" points=\"447.737,1423.18 447.737,1404.28 \"/>\n",
       "<polyline clip-path=\"url(#clip180)\" style=\"stroke:#000000; stroke-linecap:round; stroke-linejoin:round; stroke-width:4; stroke-opacity:1; fill:none\" points=\"908.836,1423.18 908.836,1404.28 \"/>\n",
       "<polyline clip-path=\"url(#clip180)\" style=\"stroke:#000000; stroke-linecap:round; stroke-linejoin:round; stroke-width:4; stroke-opacity:1; fill:none\" points=\"1369.93,1423.18 1369.93,1404.28 \"/>\n",
       "<polyline clip-path=\"url(#clip180)\" style=\"stroke:#000000; stroke-linecap:round; stroke-linejoin:round; stroke-width:4; stroke-opacity:1; fill:none\" points=\"1831.03,1423.18 1831.03,1404.28 \"/>\n",
       "<polyline clip-path=\"url(#clip180)\" style=\"stroke:#000000; stroke-linecap:round; stroke-linejoin:round; stroke-width:4; stroke-opacity:1; fill:none\" points=\"2292.13,1423.18 2292.13,1404.28 \"/>\n",
       "<path clip-path=\"url(#clip180)\" d=\"M447.737 1454.1 Q444.125 1454.1 442.297 1457.66 Q440.491 1461.2 440.491 1468.33 Q440.491 1475.44 442.297 1479.01 Q444.125 1482.55 447.737 1482.55 Q451.371 1482.55 453.176 1479.01 Q455.005 1475.44 455.005 1468.33 Q455.005 1461.2 453.176 1457.66 Q451.371 1454.1 447.737 1454.1 M447.737 1450.39 Q453.547 1450.39 456.602 1455 Q459.681 1459.58 459.681 1468.33 Q459.681 1477.06 456.602 1481.67 Q453.547 1486.25 447.737 1486.25 Q441.926 1486.25 438.848 1481.67 Q435.792 1477.06 435.792 1468.33 Q435.792 1459.58 438.848 1455 Q441.926 1450.39 447.737 1450.39 Z\" fill=\"#000000\" fill-rule=\"nonzero\" fill-opacity=\"1\" /><path clip-path=\"url(#clip180)\" d=\"M903.488 1481.64 L919.808 1481.64 L919.808 1485.58 L897.863 1485.58 L897.863 1481.64 Q900.525 1478.89 905.109 1474.26 Q909.715 1469.61 910.896 1468.27 Q913.141 1465.74 914.021 1464.01 Q914.924 1462.25 914.924 1460.56 Q914.924 1457.8 912.979 1456.07 Q911.058 1454.33 907.956 1454.33 Q905.757 1454.33 903.303 1455.09 Q900.873 1455.86 898.095 1457.41 L898.095 1452.69 Q900.919 1451.55 903.373 1450.97 Q905.826 1450.39 907.863 1450.39 Q913.234 1450.39 916.428 1453.08 Q919.623 1455.77 919.623 1460.26 Q919.623 1462.39 918.812 1464.31 Q918.025 1466.2 915.919 1468.8 Q915.34 1469.47 912.238 1472.69 Q909.137 1475.88 903.488 1481.64 Z\" fill=\"#000000\" fill-rule=\"nonzero\" fill-opacity=\"1\" /><path clip-path=\"url(#clip180)\" d=\"M1372.94 1455.09 L1361.14 1473.54 L1372.94 1473.54 L1372.94 1455.09 M1371.72 1451.02 L1377.6 1451.02 L1377.6 1473.54 L1382.53 1473.54 L1382.53 1477.43 L1377.6 1477.43 L1377.6 1485.58 L1372.94 1485.58 L1372.94 1477.43 L1357.34 1477.43 L1357.34 1472.92 L1371.72 1451.02 Z\" fill=\"#000000\" fill-rule=\"nonzero\" fill-opacity=\"1\" /><path clip-path=\"url(#clip180)\" d=\"M1831.44 1466.44 Q1828.29 1466.44 1826.44 1468.59 Q1824.61 1470.74 1824.61 1474.49 Q1824.61 1478.22 1826.44 1480.39 Q1828.29 1482.55 1831.44 1482.55 Q1834.59 1482.55 1836.42 1480.39 Q1838.27 1478.22 1838.27 1474.49 Q1838.27 1470.74 1836.42 1468.59 Q1834.59 1466.44 1831.44 1466.44 M1840.72 1451.78 L1840.72 1456.04 Q1838.96 1455.21 1837.16 1454.77 Q1835.37 1454.33 1833.61 1454.33 Q1828.99 1454.33 1826.53 1457.45 Q1824.1 1460.58 1823.75 1466.9 Q1825.12 1464.89 1827.18 1463.82 Q1829.24 1462.73 1831.72 1462.73 Q1836.93 1462.73 1839.93 1465.9 Q1842.97 1469.05 1842.97 1474.49 Q1842.97 1479.82 1839.82 1483.03 Q1836.67 1486.25 1831.44 1486.25 Q1825.44 1486.25 1822.27 1481.67 Q1819.1 1477.06 1819.1 1468.33 Q1819.1 1460.14 1822.99 1455.28 Q1826.88 1450.39 1833.43 1450.39 Q1835.19 1450.39 1836.97 1450.74 Q1838.78 1451.09 1840.72 1451.78 Z\" fill=\"#000000\" fill-rule=\"nonzero\" fill-opacity=\"1\" /><path clip-path=\"url(#clip180)\" d=\"M2292.13 1469.17 Q2288.8 1469.17 2286.88 1470.95 Q2284.98 1472.73 2284.98 1475.86 Q2284.98 1478.98 2286.88 1480.77 Q2288.8 1482.55 2292.13 1482.55 Q2295.47 1482.55 2297.39 1480.77 Q2299.31 1478.96 2299.31 1475.86 Q2299.31 1472.73 2297.39 1470.95 Q2295.49 1469.17 2292.13 1469.17 M2287.46 1467.18 Q2284.45 1466.44 2282.76 1464.38 Q2281.09 1462.32 2281.09 1459.35 Q2281.09 1455.21 2284.03 1452.8 Q2286.99 1450.39 2292.13 1450.39 Q2297.29 1450.39 2300.23 1452.8 Q2303.17 1455.21 2303.17 1459.35 Q2303.17 1462.32 2301.48 1464.38 Q2299.82 1466.44 2296.83 1467.18 Q2300.21 1467.96 2302.09 1470.26 Q2303.98 1472.55 2303.98 1475.86 Q2303.98 1480.88 2300.91 1483.57 Q2297.85 1486.25 2292.13 1486.25 Q2286.42 1486.25 2283.34 1483.57 Q2280.28 1480.88 2280.28 1475.86 Q2280.28 1472.55 2282.18 1470.26 Q2284.08 1467.96 2287.46 1467.18 M2285.74 1459.79 Q2285.74 1462.48 2287.41 1463.98 Q2289.1 1465.49 2292.13 1465.49 Q2295.14 1465.49 2296.83 1463.98 Q2298.54 1462.48 2298.54 1459.79 Q2298.54 1457.11 2296.83 1455.6 Q2295.14 1454.1 2292.13 1454.1 Q2289.1 1454.1 2287.41 1455.6 Q2285.74 1457.11 2285.74 1459.79 Z\" fill=\"#000000\" fill-rule=\"nonzero\" fill-opacity=\"1\" /><path clip-path=\"url(#clip180)\" d=\"M1283.44 1571.35 Q1280.96 1577.72 1278.6 1579.66 Q1276.24 1581.6 1272.3 1581.6 L1267.62 1581.6 L1267.62 1576.7 L1271.06 1576.7 Q1273.48 1576.7 1274.81 1575.56 Q1276.15 1574.41 1277.77 1570.14 L1278.82 1567.47 L1264.4 1532.4 L1270.61 1532.4 L1281.75 1560.28 L1292.89 1532.4 L1299.1 1532.4 L1283.44 1571.35 Z\" fill=\"#000000\" fill-rule=\"nonzero\" fill-opacity=\"1\" /><polyline clip-path=\"url(#clip182)\" style=\"stroke:#000000; stroke-linecap:round; stroke-linejoin:round; stroke-width:2; stroke-opacity:0.1; fill:none\" points=\"210.746,1363.6 2352.76,1363.6 \"/>\n",
       "<polyline clip-path=\"url(#clip182)\" style=\"stroke:#000000; stroke-linecap:round; stroke-linejoin:round; stroke-width:2; stroke-opacity:0.1; fill:none\" points=\"210.746,1133.05 2352.76,1133.05 \"/>\n",
       "<polyline clip-path=\"url(#clip182)\" style=\"stroke:#000000; stroke-linecap:round; stroke-linejoin:round; stroke-width:2; stroke-opacity:0.1; fill:none\" points=\"210.746,902.5 2352.76,902.5 \"/>\n",
       "<polyline clip-path=\"url(#clip182)\" style=\"stroke:#000000; stroke-linecap:round; stroke-linejoin:round; stroke-width:2; stroke-opacity:0.1; fill:none\" points=\"210.746,671.95 2352.76,671.95 \"/>\n",
       "<polyline clip-path=\"url(#clip182)\" style=\"stroke:#000000; stroke-linecap:round; stroke-linejoin:round; stroke-width:2; stroke-opacity:0.1; fill:none\" points=\"210.746,441.401 2352.76,441.401 \"/>\n",
       "<polyline clip-path=\"url(#clip182)\" style=\"stroke:#000000; stroke-linecap:round; stroke-linejoin:round; stroke-width:2; stroke-opacity:0.1; fill:none\" points=\"210.746,210.851 2352.76,210.851 \"/>\n",
       "<polyline clip-path=\"url(#clip180)\" style=\"stroke:#000000; stroke-linecap:round; stroke-linejoin:round; stroke-width:4; stroke-opacity:1; fill:none\" points=\"210.746,1423.18 210.746,123.472 \"/>\n",
       "<polyline clip-path=\"url(#clip180)\" style=\"stroke:#000000; stroke-linecap:round; stroke-linejoin:round; stroke-width:4; stroke-opacity:1; fill:none\" points=\"210.746,1363.6 229.644,1363.6 \"/>\n",
       "<polyline clip-path=\"url(#clip180)\" style=\"stroke:#000000; stroke-linecap:round; stroke-linejoin:round; stroke-width:4; stroke-opacity:1; fill:none\" points=\"210.746,1133.05 229.644,1133.05 \"/>\n",
       "<polyline clip-path=\"url(#clip180)\" style=\"stroke:#000000; stroke-linecap:round; stroke-linejoin:round; stroke-width:4; stroke-opacity:1; fill:none\" points=\"210.746,902.5 229.644,902.5 \"/>\n",
       "<polyline clip-path=\"url(#clip180)\" style=\"stroke:#000000; stroke-linecap:round; stroke-linejoin:round; stroke-width:4; stroke-opacity:1; fill:none\" points=\"210.746,671.95 229.644,671.95 \"/>\n",
       "<polyline clip-path=\"url(#clip180)\" style=\"stroke:#000000; stroke-linecap:round; stroke-linejoin:round; stroke-width:4; stroke-opacity:1; fill:none\" points=\"210.746,441.401 229.644,441.401 \"/>\n",
       "<polyline clip-path=\"url(#clip180)\" style=\"stroke:#000000; stroke-linecap:round; stroke-linejoin:round; stroke-width:4; stroke-opacity:1; fill:none\" points=\"210.746,210.851 229.644,210.851 \"/>\n",
       "<path clip-path=\"url(#clip180)\" d=\"M114.26 1364.05 L143.936 1364.05 L143.936 1367.99 L114.26 1367.99 L114.26 1364.05 Z\" fill=\"#000000\" fill-rule=\"nonzero\" fill-opacity=\"1\" /><path clip-path=\"url(#clip180)\" d=\"M154.839 1376.94 L162.477 1376.94 L162.477 1350.58 L154.167 1352.24 L154.167 1347.99 L162.431 1346.32 L167.107 1346.32 L167.107 1376.94 L174.746 1376.94 L174.746 1380.88 L154.839 1380.88 L154.839 1376.94 Z\" fill=\"#000000\" fill-rule=\"nonzero\" fill-opacity=\"1\" /><path clip-path=\"url(#clip180)\" d=\"M162.802 1118.85 Q159.19 1118.85 157.362 1122.41 Q155.556 1125.95 155.556 1133.08 Q155.556 1140.19 157.362 1143.76 Q159.19 1147.3 162.802 1147.3 Q166.436 1147.3 168.241 1143.76 Q170.07 1140.19 170.07 1133.08 Q170.07 1125.95 168.241 1122.41 Q166.436 1118.85 162.802 1118.85 M162.802 1115.14 Q168.612 1115.14 171.667 1119.75 Q174.746 1124.33 174.746 1133.08 Q174.746 1141.81 171.667 1146.42 Q168.612 1151 162.802 1151 Q156.991 1151 153.913 1146.42 Q150.857 1141.81 150.857 1133.08 Q150.857 1124.33 153.913 1119.75 Q156.991 1115.14 162.802 1115.14 Z\" fill=\"#000000\" fill-rule=\"nonzero\" fill-opacity=\"1\" /><path clip-path=\"url(#clip180)\" d=\"M154.839 915.845 L162.477 915.845 L162.477 889.479 L154.167 891.146 L154.167 886.886 L162.431 885.22 L167.107 885.22 L167.107 915.845 L174.746 915.845 L174.746 919.78 L154.839 919.78 L154.839 915.845 Z\" fill=\"#000000\" fill-rule=\"nonzero\" fill-opacity=\"1\" /><path clip-path=\"url(#clip180)\" d=\"M158.427 685.295 L174.746 685.295 L174.746 689.23 L152.802 689.23 L152.802 685.295 Q155.464 682.54 160.047 677.911 Q164.653 673.258 165.834 671.915 Q168.079 669.392 168.959 667.656 Q169.862 665.897 169.862 664.207 Q169.862 661.452 167.917 659.716 Q165.996 657.98 162.894 657.98 Q160.695 657.98 158.241 658.744 Q155.811 659.508 153.033 661.059 L153.033 656.337 Q155.857 655.203 158.311 654.624 Q160.765 654.045 162.802 654.045 Q168.172 654.045 171.366 656.73 Q174.561 659.415 174.561 663.906 Q174.561 666.036 173.751 667.957 Q172.964 669.855 170.857 672.448 Q170.278 673.119 167.177 676.337 Q164.075 679.531 158.427 685.295 Z\" fill=\"#000000\" fill-rule=\"nonzero\" fill-opacity=\"1\" /><path clip-path=\"url(#clip180)\" d=\"M167.616 440.046 Q170.973 440.764 172.848 443.032 Q174.746 445.301 174.746 448.634 Q174.746 453.75 171.227 456.551 Q167.709 459.352 161.227 459.352 Q159.052 459.352 156.737 458.912 Q154.445 458.495 151.991 457.639 L151.991 453.125 Q153.936 454.259 156.251 454.838 Q158.565 455.417 161.089 455.417 Q165.487 455.417 167.778 453.681 Q170.093 451.944 170.093 448.634 Q170.093 445.579 167.94 443.866 Q165.811 442.13 161.991 442.13 L157.964 442.13 L157.964 438.287 L162.177 438.287 Q165.626 438.287 167.454 436.921 Q169.283 435.533 169.283 432.94 Q169.283 430.278 167.385 428.866 Q165.51 427.431 161.991 427.431 Q160.07 427.431 157.871 427.847 Q155.672 428.264 153.033 429.144 L153.033 424.977 Q155.695 424.236 158.01 423.866 Q160.348 423.496 162.408 423.496 Q167.732 423.496 170.834 425.926 Q173.936 428.333 173.936 432.454 Q173.936 435.324 172.292 437.315 Q170.649 439.283 167.616 440.046 Z\" fill=\"#000000\" fill-rule=\"nonzero\" fill-opacity=\"1\" /><path clip-path=\"url(#clip180)\" d=\"M165.163 197.645 L153.357 216.094 L165.163 216.094 L165.163 197.645 M163.936 193.571 L169.815 193.571 L169.815 216.094 L174.746 216.094 L174.746 219.983 L169.815 219.983 L169.815 228.131 L165.163 228.131 L165.163 219.983 L149.561 219.983 L149.561 215.469 L163.936 193.571 Z\" fill=\"#000000\" fill-rule=\"nonzero\" fill-opacity=\"1\" /><path clip-path=\"url(#clip180)\" d=\"M28.3562 756.711 L45.7028 769.602 L64.0042 756.043 L64.0042 762.95 L49.9996 773.326 L64.0042 783.702 L64.0042 790.609 L45.3526 776.763 L28.3562 789.431 L28.3562 782.524 L41.0558 773.071 L28.3562 763.618 L28.3562 756.711 Z\" fill=\"#000000\" fill-rule=\"nonzero\" fill-opacity=\"1\" /><path clip-path=\"url(#clip180)\" d=\"M1054.09 14.0809 L1054.09 22.0612 Q1049.43 19.8332 1045.3 18.7395 Q1041.17 17.6457 1037.32 17.6457 Q1030.64 17.6457 1026.99 20.2383 Q1023.38 22.8309 1023.38 27.611 Q1023.38 31.6214 1025.77 33.6873 Q1028.2 35.7128 1034.93 36.9686 L1039.87 37.9813 Q1049.03 39.7232 1053.36 44.1387 Q1057.74 48.5136 1057.74 55.8863 Q1057.74 64.6767 1051.82 69.2137 Q1045.95 73.7508 1034.56 73.7508 Q1030.27 73.7508 1025.41 72.7785 Q1020.59 71.8063 1015.4 69.9024 L1015.4 61.4765 Q1020.39 64.2716 1025.17 65.6895 Q1029.95 67.1073 1034.56 67.1073 Q1041.57 67.1073 1045.38 64.3527 Q1049.19 61.598 1049.19 56.4939 Q1049.19 52.0379 1046.43 49.5264 Q1043.72 47.0148 1037.48 45.759 L1032.5 44.7868 Q1023.34 42.9639 1019.25 39.075 Q1015.16 35.1862 1015.16 28.2591 Q1015.16 20.2383 1020.79 15.6203 Q1026.46 11.0023 1036.39 11.0023 Q1040.64 11.0023 1045.06 11.7719 Q1049.47 12.5416 1054.09 14.0809 Z\" fill=\"#000000\" fill-rule=\"nonzero\" fill-opacity=\"1\" /><path clip-path=\"url(#clip180)\" d=\"M1077.54 14.324 L1077.54 27.2059 L1092.9 27.2059 L1092.9 32.9987 L1077.54 32.9987 L1077.54 57.6282 Q1077.54 63.1779 1079.04 64.7578 Q1080.58 66.3376 1085.24 66.3376 L1092.9 66.3376 L1092.9 72.576 L1085.24 72.576 Q1076.61 72.576 1073.33 69.3758 Q1070.05 66.1351 1070.05 57.6282 L1070.05 32.9987 L1064.58 32.9987 L1064.58 27.2059 L1070.05 27.2059 L1070.05 14.324 L1077.54 14.324 Z\" fill=\"#000000\" fill-rule=\"nonzero\" fill-opacity=\"1\" /><path clip-path=\"url(#clip180)\" d=\"M1123.32 49.7694 Q1114.29 49.7694 1110.8 51.8354 Q1107.32 53.9013 1107.32 58.8839 Q1107.32 62.8538 1109.91 65.2034 Q1112.54 67.5124 1117.04 67.5124 Q1123.24 67.5124 1126.97 63.1374 Q1130.73 58.7219 1130.73 51.4303 L1130.73 49.7694 L1123.32 49.7694 M1138.19 46.6907 L1138.19 72.576 L1130.73 72.576 L1130.73 65.6895 Q1128.18 69.8214 1124.37 71.8063 Q1120.57 73.7508 1115.06 73.7508 Q1108.09 73.7508 1103.96 69.8619 Q1099.87 65.9325 1099.87 59.3701 Q1099.87 51.7138 1104.97 47.825 Q1110.11 43.9361 1120.28 43.9361 L1130.73 43.9361 L1130.73 43.2069 Q1130.73 38.0623 1127.33 35.2672 Q1123.97 32.4315 1117.85 32.4315 Q1113.96 32.4315 1110.28 33.3632 Q1106.59 34.295 1103.19 36.1584 L1103.19 29.2718 Q1107.28 27.692 1111.13 26.9223 Q1114.98 26.1121 1118.62 26.1121 Q1128.46 26.1121 1133.33 31.2163 Q1138.19 36.3204 1138.19 46.6907 Z\" fill=\"#000000\" fill-rule=\"nonzero\" fill-opacity=\"1\" /><path clip-path=\"url(#clip180)\" d=\"M1160.91 14.324 L1160.91 27.2059 L1176.27 27.2059 L1176.27 32.9987 L1160.91 32.9987 L1160.91 57.6282 Q1160.91 63.1779 1162.41 64.7578 Q1163.95 66.3376 1168.61 66.3376 L1176.27 66.3376 L1176.27 72.576 L1168.61 72.576 Q1159.98 72.576 1156.7 69.3758 Q1153.42 66.1351 1153.42 57.6282 L1153.42 32.9987 L1147.95 32.9987 L1147.95 27.2059 L1153.42 27.2059 L1153.42 14.324 L1160.91 14.324 Z\" fill=\"#000000\" fill-rule=\"nonzero\" fill-opacity=\"1\" /><path clip-path=\"url(#clip180)\" d=\"M1224.88 48.0275 L1224.88 51.6733 L1190.61 51.6733 Q1191.09 59.3701 1195.22 63.421 Q1199.4 67.4314 1206.81 67.4314 Q1211.1 67.4314 1215.11 66.3781 Q1219.16 65.3249 1223.13 63.2184 L1223.13 70.267 Q1219.12 71.9684 1214.91 72.8596 Q1210.7 73.7508 1206.36 73.7508 Q1195.51 73.7508 1189.15 67.4314 Q1182.83 61.1119 1182.83 50.3365 Q1182.83 39.1965 1188.82 32.6746 Q1194.86 26.1121 1205.07 26.1121 Q1214.22 26.1121 1219.53 32.0264 Q1224.88 37.9003 1224.88 48.0275 M1217.42 45.84 Q1217.34 39.7232 1213.98 36.0774 Q1210.66 32.4315 1205.15 32.4315 Q1198.91 32.4315 1195.14 35.9558 Q1191.42 39.4801 1190.85 45.8805 L1217.42 45.84 Z\" fill=\"#000000\" fill-rule=\"nonzero\" fill-opacity=\"1\" /><path clip-path=\"url(#clip180)\" d=\"M1263.81 12.096 L1271.99 12.096 L1271.99 36.8875 L1301.72 36.8875 L1301.72 12.096 L1309.9 12.096 L1309.9 72.576 L1301.72 72.576 L1301.72 43.7741 L1271.99 43.7741 L1271.99 72.576 L1263.81 72.576 L1263.81 12.096 Z\" fill=\"#000000\" fill-rule=\"nonzero\" fill-opacity=\"1\" /><path clip-path=\"url(#clip180)\" d=\"M1325.87 27.2059 L1333.32 27.2059 L1333.32 72.576 L1325.87 72.576 L1325.87 27.2059 M1325.87 9.54393 L1333.32 9.54393 L1333.32 18.9825 L1325.87 18.9825 L1325.87 9.54393 Z\" fill=\"#000000\" fill-rule=\"nonzero\" fill-opacity=\"1\" /><path clip-path=\"url(#clip180)\" d=\"M1377.84 28.5427 L1377.84 35.5912 Q1374.68 33.9709 1371.28 33.1607 Q1367.87 32.3505 1364.23 32.3505 Q1358.68 32.3505 1355.88 34.0519 Q1353.13 35.7533 1353.13 39.156 Q1353.13 41.7486 1355.11 43.2475 Q1357.1 44.7058 1363.09 46.0426 L1365.65 46.6097 Q1373.58 48.3111 1376.91 51.4303 Q1380.27 54.509 1380.27 60.0587 Q1380.27 66.3781 1375.25 70.0644 Q1370.26 73.7508 1361.51 73.7508 Q1357.87 73.7508 1353.9 73.0216 Q1349.97 72.3329 1345.59 70.9151 L1345.59 63.2184 Q1349.73 65.3654 1353.74 66.4591 Q1357.75 67.5124 1361.68 67.5124 Q1366.94 67.5124 1369.78 65.73 Q1372.61 63.9071 1372.61 60.6258 Q1372.61 57.5877 1370.55 55.9673 Q1368.52 54.3469 1361.59 52.8481 L1359 52.2405 Q1352.07 50.7821 1349 47.7845 Q1345.92 44.7463 1345.92 39.4801 Q1345.92 33.0797 1350.45 29.5959 Q1354.99 26.1121 1363.34 26.1121 Q1367.47 26.1121 1371.11 26.7198 Q1374.76 27.3274 1377.84 28.5427 Z\" fill=\"#000000\" fill-rule=\"nonzero\" fill-opacity=\"1\" /><path clip-path=\"url(#clip180)\" d=\"M1399.51 14.324 L1399.51 27.2059 L1414.86 27.2059 L1414.86 32.9987 L1399.51 32.9987 L1399.51 57.6282 Q1399.51 63.1779 1401.01 64.7578 Q1402.55 66.3376 1407.21 66.3376 L1414.86 66.3376 L1414.86 72.576 L1407.21 72.576 Q1398.58 72.576 1395.3 69.3758 Q1392.02 66.1351 1392.02 57.6282 L1392.02 32.9987 L1386.55 32.9987 L1386.55 27.2059 L1392.02 27.2059 L1392.02 14.324 L1399.51 14.324 Z\" fill=\"#000000\" fill-rule=\"nonzero\" fill-opacity=\"1\" /><path clip-path=\"url(#clip180)\" d=\"M1442.25 32.4315 Q1436.25 32.4315 1432.77 37.1306 Q1429.28 41.7891 1429.28 49.9314 Q1429.28 58.0738 1432.73 62.7728 Q1436.21 67.4314 1442.25 67.4314 Q1448.2 67.4314 1451.69 62.7323 Q1455.17 58.0333 1455.17 49.9314 Q1455.17 41.8701 1451.69 37.1711 Q1448.2 32.4315 1442.25 32.4315 M1442.25 26.1121 Q1451.97 26.1121 1457.52 32.4315 Q1463.07 38.7509 1463.07 49.9314 Q1463.07 61.0714 1457.52 67.4314 Q1451.97 73.7508 1442.25 73.7508 Q1432.49 73.7508 1426.94 67.4314 Q1421.43 61.0714 1421.43 49.9314 Q1421.43 38.7509 1426.94 32.4315 Q1432.49 26.1121 1442.25 26.1121 Z\" fill=\"#000000\" fill-rule=\"nonzero\" fill-opacity=\"1\" /><path clip-path=\"url(#clip180)\" d=\"M1501.72 34.1734 Q1500.46 33.4443 1498.96 33.1202 Q1497.5 32.7556 1495.72 32.7556 Q1489.4 32.7556 1486 36.8875 Q1482.64 40.9789 1482.64 48.6757 L1482.64 72.576 L1475.14 72.576 L1475.14 27.2059 L1482.64 27.2059 L1482.64 34.2544 Q1484.98 30.1225 1488.75 28.1376 Q1492.52 26.1121 1497.91 26.1121 Q1498.68 26.1121 1499.61 26.2337 Q1500.54 26.3147 1501.67 26.5172 L1501.72 34.1734 Z\" fill=\"#000000\" fill-rule=\"nonzero\" fill-opacity=\"1\" /><path clip-path=\"url(#clip180)\" d=\"M1528.41 76.7889 Q1525.25 84.8907 1522.25 87.3618 Q1519.26 89.8329 1514.23 89.8329 L1508.28 89.8329 L1508.28 83.5945 L1512.65 83.5945 Q1515.73 83.5945 1517.43 82.1361 Q1519.13 80.6778 1521.2 75.2496 L1522.54 71.8468 L1504.19 27.2059 L1512.09 27.2059 L1526.26 62.6918 L1540.44 27.2059 L1548.34 27.2059 L1528.41 76.7889 Z\" fill=\"#000000\" fill-rule=\"nonzero\" fill-opacity=\"1\" /><polyline clip-path=\"url(#clip182)\" style=\"stroke:#009af9; stroke-linecap:round; stroke-linejoin:round; stroke-width:8; stroke-opacity:1; fill:none\" points=\"447.737,1133.05 448.844,1132.22 449.951,1131.39 451.058,1130.56 452.165,1129.73 453.272,1128.9 454.379,1128.07 455.486,1127.24 456.593,1126.41 457.7,1125.58 458.807,1124.75 459.914,1123.92 461.021,1123.09 462.129,1122.26 463.236,1121.42 464.343,1120.59 465.45,1119.76 466.557,1118.93 467.664,1118.1 468.771,1117.27 469.878,1116.44 470.985,1115.61 472.092,1114.78 473.199,1113.95 474.306,1113.12 475.414,1112.29 476.521,1111.46 477.628,1110.63 478.735,1109.8 479.842,1108.97 480.949,1108.14 482.056,1107.31 483.163,1106.48 484.27,1105.65 485.377,1104.82 486.484,1103.99 487.591,1103.16 488.699,1102.33 489.806,1101.5 490.913,1100.67 492.02,1099.84 493.127,1099.01 494.234,1098.18 495.341,1097.35 496.448,1096.52 497.555,1095.69 498.662,1094.85 499.769,1094.02 500.876,1093.19 501.983,1092.36 503.091,1091.53 504.198,1090.7 505.305,1089.87 506.412,1089.04 507.519,1088.21 508.626,1087.38 509.733,1086.55 510.84,1085.72 511.947,1084.89 513.054,1084.06 514.161,1083.23 515.268,1082.4 516.376,1081.57 517.483,1080.74 518.59,1079.91 519.697,1079.08 520.804,1078.25 521.911,1077.42 523.018,1076.59 524.125,1075.76 525.232,1074.93 526.339,1074.1 527.446,1073.27 528.553,1072.44 529.66,1071.61 530.768,1070.78 531.875,1069.95 532.982,1069.12 534.089,1068.29 535.196,1067.45 536.303,1066.62 537.41,1065.79 538.517,1064.96 539.624,1064.13 540.731,1063.3 541.838,1062.47 542.945,1061.64 544.053,1060.81 545.16,1059.98 546.267,1059.15 547.374,1058.32 548.481,1057.49 549.588,1056.66 550.695,1055.83 551.802,1055 552.909,1054.17 554.016,1053.34 555.123,1052.51 556.23,1051.68 557.338,1050.85 558.445,1050.02 559.552,1049.19 560.659,1048.36 561.766,1047.53 562.873,1046.7 563.98,1045.87 565.087,1045.04 566.194,1044.21 567.301,1043.38 568.408,1042.55 569.515,1041.72 570.622,1040.88 571.73,1040.05 572.837,1039.22 573.944,1038.39 575.051,1037.56 576.158,1036.73 577.265,1035.9 578.372,1035.07 579.479,1034.24 580.586,1033.41 581.693,1032.58 582.8,1031.75 583.907,1030.92 585.015,1030.09 586.122,1029.26 587.229,1028.43 588.336,1027.6 589.443,1026.77 590.55,1025.94 591.657,1025.11 592.764,1024.28 593.871,1023.45 594.978,1022.62 596.085,1021.79 597.192,1020.96 598.299,1020.13 599.407,1019.3 600.514,1018.47 601.621,1017.64 602.728,1016.81 603.835,1015.98 604.942,1015.15 606.049,1014.31 607.156,1013.48 608.263,1012.65 609.37,1011.82 610.477,1010.99 611.584,1010.16 612.692,1009.33 613.799,1008.5 614.906,1007.67 616.013,1006.84 617.12,1006.01 618.227,1005.18 619.334,1004.35 620.441,1003.52 621.548,1002.69 622.655,1001.86 623.762,1001.03 624.869,1000.2 625.977,999.369 627.084,998.539 628.191,997.709 629.298,996.878 630.405,996.048 631.512,995.218 632.619,994.387 633.726,993.557 634.833,992.727 635.94,991.896 637.047,991.066 638.154,990.236 639.261,989.406 640.369,988.575 641.476,987.745 642.583,986.915 643.69,986.084 644.797,985.254 645.904,984.424 647.011,983.593 648.118,982.763 649.225,981.933 650.332,981.102 651.439,980.272 652.546,979.442 653.654,978.611 654.761,977.781 655.868,976.951 656.975,976.121 658.082,975.29 659.189,974.46 660.296,973.63 661.403,972.799 662.51,971.969 663.617,971.139 664.724,970.308 665.831,969.478 666.938,968.648 668.046,967.817 669.153,966.987 670.26,966.157 671.367,965.327 672.474,964.496 673.581,963.666 674.688,962.836 675.795,962.005 676.902,961.175 678.009,960.345 679.116,959.514 680.223,958.684 681.331,957.854 682.438,957.023 683.545,956.193 684.652,955.363 685.759,954.532 686.866,953.702 687.973,952.872 689.08,952.042 690.187,951.211 691.294,950.381 692.401,949.551 693.508,948.72 694.616,947.89 695.723,947.06 696.83,946.229 697.937,945.399 699.044,944.569 700.151,943.738 701.258,942.908 702.365,942.078 703.472,941.247 704.579,940.417 705.686,939.587 706.793,938.757 707.9,937.926 709.008,937.096 710.115,936.266 711.222,935.435 712.329,934.605 713.436,933.775 714.543,932.944 715.65,932.114 716.757,931.284 717.864,930.453 718.971,929.623 720.078,928.793 721.185,927.963 722.293,927.132 723.4,926.302 724.507,925.472 725.614,924.641 726.721,923.811 727.828,922.981 728.935,922.15 730.042,921.32 731.149,920.49 732.256,919.659 733.363,918.829 734.47,917.999 735.578,917.168 736.685,916.338 737.792,915.508 738.899,914.678 740.006,913.847 741.113,913.017 742.22,912.187 743.327,911.356 744.434,910.526 745.541,909.696 746.648,908.865 747.755,908.035 748.862,907.205 749.97,906.374 751.077,905.544 752.184,904.714 753.291,903.884 754.398,903.053 755.505,902.223 756.612,901.393 757.719,900.562 758.826,899.732 759.933,898.902 761.04,898.071 762.147,897.241 763.255,896.411 764.362,895.58 765.469,894.75 766.576,893.92 767.683,893.089 768.79,892.259 769.897,891.429 771.004,890.599 772.111,889.768 773.218,888.938 774.325,888.108 775.432,887.277 776.539,886.447 777.647,885.617 778.754,884.786 779.861,883.956 780.968,883.126 782.075,882.295 783.182,881.465 784.289,880.635 785.396,879.805 786.503,878.974 787.61,878.144 788.717,877.314 789.824,876.483 790.932,875.653 792.039,874.823 793.146,873.992 794.253,873.162 795.36,872.332 796.467,871.501 797.574,870.671 798.681,869.841 799.788,869.01 800.895,868.18 802.002,867.35 803.109,866.52 804.217,865.689 805.324,864.859 806.431,864.029 807.538,863.198 808.645,862.368 809.752,861.538 810.859,860.707 811.966,859.877 813.073,859.047 814.18,858.216 815.287,857.386 816.394,856.556 817.501,855.726 818.609,854.895 819.716,854.065 820.823,853.235 821.93,852.404 823.037,851.574 824.144,850.744 825.251,849.913 826.358,849.083 827.465,848.253 828.572,847.422 829.679,846.592 830.786,845.762 831.894,844.931 833.001,844.101 834.108,843.271 835.215,842.441 836.322,841.61 837.429,840.78 838.536,839.95 839.643,839.119 840.75,838.289 841.857,837.459 842.964,836.628 844.071,835.798 845.178,834.968 846.286,834.137 847.393,833.307 848.5,832.477 849.607,831.647 850.714,830.816 851.821,829.986 852.928,829.156 854.035,828.325 855.142,827.495 856.249,826.665 857.356,825.834 858.463,825.004 859.571,824.174 860.678,823.343 861.785,822.513 862.892,821.683 863.999,820.852 865.106,820.022 866.213,819.192 867.32,818.362 868.427,817.531 869.534,816.701 870.641,815.871 871.748,815.04 872.856,814.21 873.963,813.38 875.07,812.549 876.177,811.719 877.284,810.889 878.391,810.058 879.498,809.228 880.605,808.398 881.712,807.568 882.819,806.737 883.926,805.907 885.033,805.077 886.14,804.246 887.248,803.416 888.355,802.586 889.462,801.755 890.569,800.925 891.676,800.095 892.783,799.264 893.89,798.434 894.997,797.604 896.104,796.773 897.211,795.943 898.318,795.113 899.425,794.283 900.533,793.452 901.64,792.622 902.747,791.792 903.854,790.961 904.961,790.131 906.068,789.301 907.175,788.47 908.282,787.64 909.389,786.81 910.496,785.979 911.603,785.149 912.71,784.319 913.817,783.488 914.925,782.658 916.032,781.828 917.139,780.998 918.246,780.167 919.353,779.337 920.46,778.507 921.567,777.676 922.674,776.846 923.781,776.016 924.888,775.185 925.995,774.355 927.102,773.525 928.21,772.694 929.317,771.864 930.424,771.034 931.531,770.204 932.638,769.373 933.745,768.543 934.852,767.713 935.959,766.882 937.066,766.052 938.173,765.222 939.28,764.391 940.387,763.561 941.495,762.731 942.602,761.9 943.709,761.07 944.816,760.24 945.923,759.409 947.03,758.579 948.137,757.749 949.244,756.919 950.351,756.088 951.458,755.258 952.565,754.428 953.672,753.597 954.779,752.767 955.887,751.937 956.994,751.106 958.101,750.276 959.208,749.446 960.315,748.615 961.422,747.785 962.529,746.955 963.636,746.125 964.743,745.294 965.85,744.464 966.957,743.634 968.064,742.803 969.172,741.973 970.279,741.143 971.386,740.312 972.493,739.482 973.6,738.652 974.707,737.821 975.814,736.991 976.921,736.161 978.028,735.33 979.135,734.5 980.242,733.67 981.349,732.84 982.456,732.009 983.564,731.179 984.671,730.349 985.778,729.518 986.885,728.688 987.992,727.858 989.099,727.027 990.206,726.197 991.313,725.367 992.42,724.536 993.527,723.706 994.634,722.876 995.741,722.046 996.849,721.215 997.956,720.385 999.063,719.555 1000.17,718.724 1001.28,717.894 1002.38,717.064 1003.49,716.233 1004.6,715.403 1005.71,714.573 1006.81,713.742 1007.92,712.912 1009.03,712.082 1010.13,711.251 1011.24,710.421 1012.35,709.591 1013.45,708.761 1014.56,707.93 1015.67,707.1 1016.78,706.27 1017.88,705.439 1018.99,704.609 1020.1,703.779 1021.2,702.948 1022.31,702.118 1023.42,701.288 1024.53,700.457 1025.63,699.627 1026.74,698.797 1027.85,697.967 1028.95,697.136 1030.06,696.306 1031.17,695.476 1032.28,694.645 1033.38,693.815 1034.49,692.985 1035.6,692.154 1036.7,691.324 1037.81,690.494 1038.92,689.663 1040.02,688.833 1041.13,688.003 1042.24,687.172 1043.35,686.342 1044.45,685.512 1045.56,684.682 1046.67,683.851 1047.77,683.021 1048.88,682.191 1049.99,681.36 1051.1,680.53 1052.2,679.7 1053.31,678.869 1054.42,678.039 1055.52,677.209 1056.63,676.378 1057.74,675.548 1058.85,674.718 1059.95,673.888 1061.06,673.057 1062.17,672.227 1063.27,671.397 1064.38,670.566 1065.49,669.736 1066.59,668.906 1067.7,668.075 1068.81,667.245 1069.92,666.415 1071.02,665.584 1072.13,664.754 1073.24,663.924 1074.34,663.093 1075.45,662.263 1076.56,661.433 1077.67,660.603 1078.77,659.772 1079.88,658.942 1080.99,658.112 1082.09,657.281 1083.2,656.451 1084.31,655.621 1085.42,654.79 1086.52,653.96 1087.63,653.13 1088.74,652.299 1089.84,651.469 1090.95,650.639 1092.06,649.808 1093.16,648.978 1094.27,648.148 1095.38,647.318 1096.49,646.487 1097.59,645.657 1098.7,644.827 1099.81,643.996 1100.91,643.166 1102.02,642.336 1103.13,641.505 1104.24,640.675 1105.34,639.845 1106.45,639.014 1107.56,638.184 1108.66,637.354 1109.77,636.524 1110.88,635.693 1111.98,634.863 1113.09,634.033 1114.2,633.202 1115.31,632.372 1116.41,631.542 1117.52,630.711 1118.63,629.881 1119.73,629.051 1120.84,628.22 1121.95,627.39 1123.06,626.56 1124.16,625.729 1125.27,624.899 1126.38,624.069 1127.48,623.239 1128.59,622.408 1129.7,621.578 1130.81,620.748 1131.91,619.917 1133.02,619.087 1134.13,618.257 1135.23,617.426 1136.34,616.596 1137.45,615.766 1138.55,614.935 1139.66,614.105 1140.77,613.275 1141.88,612.445 1142.98,611.614 1144.09,610.784 1145.2,609.954 1146.3,609.123 1147.41,608.293 1148.52,607.463 1149.63,606.632 1150.73,605.802 1151.84,604.972 1152.95,604.141 1154.05,603.311 1155.16,602.481 1156.27,601.65 1157.38,600.82 1158.48,599.99 1159.59,599.16 1160.7,598.329 1161.8,597.499 1162.91,596.669 1164.02,595.838 1165.12,595.008 1166.23,594.178 1167.34,593.347 1168.45,592.517 1169.55,591.687 1170.66,590.856 1171.77,590.026 1172.87,589.196 1173.98,588.366 1175.09,587.535 1176.2,586.705 1177.3,585.875 1178.41,585.044 1179.52,584.214 1180.62,583.384 1181.73,582.553 1182.84,581.723 1183.95,580.893 1185.05,580.062 1186.16,579.232 1187.27,578.402 1188.37,577.571 1189.48,576.741 1190.59,575.911 1191.69,575.081 1192.8,574.25 1193.91,573.42 1195.02,572.59 1196.12,571.759 1197.23,570.929 1198.34,570.099 1199.44,569.268 1200.55,568.438 1201.66,567.608 1202.77,566.777 1203.87,565.947 1204.98,565.117 1206.09,564.287 1207.19,563.456 1208.3,562.626 1209.41,561.796 1210.52,560.965 1211.62,560.135 1212.73,559.305 1213.84,558.474 1214.94,557.644 1216.05,556.814 1217.16,555.983 1218.26,555.153 1219.37,554.323 1220.48,553.492 1221.59,552.662 1222.69,551.832 1223.8,551.002 1224.91,550.171 1226.01,549.341 1227.12,548.511 1228.23,547.68 1229.34,546.85 1230.44,546.02 1231.55,545.189 1232.66,544.359 1233.76,543.529 1234.87,542.698 1235.98,541.868 1237.09,541.038 1238.19,540.208 1239.3,539.377 1240.41,538.547 1241.51,537.717 1242.62,536.886 1243.73,536.056 1244.83,535.226 1245.94,534.395 1247.05,533.565 1248.16,532.735 1249.26,531.904 1250.37,531.074 1251.48,530.244 1252.58,529.413 1253.69,528.583 1254.8,527.753 1255.91,526.923 1257.01,526.092 1258.12,525.262 1259.23,524.432 1260.33,523.601 1261.44,522.771 1262.55,521.941 1263.66,521.11 1264.76,520.28 1265.87,519.45 1266.98,518.619 1268.08,517.789 1269.19,516.959 1270.3,516.129 1271.4,515.298 1272.51,514.468 1273.62,513.638 1274.73,512.807 1275.83,511.977 1276.94,511.147 1278.05,510.316 1279.15,509.486 1280.26,508.656 1281.37,507.825 1282.48,506.995 1283.58,506.165 1284.69,505.334 1285.8,504.504 1286.9,503.674 1288.01,502.844 1289.12,502.013 1290.22,501.183 1291.33,500.353 1292.44,499.522 1293.55,498.692 1294.65,497.862 1295.76,497.031 1296.87,496.201 1297.97,495.371 1299.08,494.54 1300.19,493.71 1301.3,492.88 1302.4,492.049 1303.51,491.219 1304.62,490.389 1305.72,489.559 1306.83,488.728 1307.94,487.898 1309.05,487.068 1310.15,486.237 1311.26,485.407 1312.37,484.577 1313.47,483.746 1314.58,482.916 1315.69,482.086 1316.79,481.255 1317.9,480.425 1319.01,479.595 1320.12,478.765 1321.22,477.934 1322.33,477.104 1323.44,476.274 1324.54,475.443 1325.65,474.613 1326.76,473.783 1327.87,472.952 1328.97,472.122 1330.08,471.292 1331.19,470.461 1332.29,469.631 1333.4,468.801 1334.51,467.97 1335.62,467.14 1336.72,466.31 1337.83,465.48 1338.94,464.649 1340.04,463.819 1341.15,462.989 1342.26,462.158 1343.36,461.328 1344.47,460.498 1345.58,459.667 1346.69,458.837 1347.79,458.007 1348.9,457.176 1350.01,456.346 1351.11,455.516 1352.22,454.686 1353.33,453.855 1354.44,453.025 1355.54,452.195 1356.65,451.364 1357.76,450.534 1358.86,449.704 1359.97,448.873 1361.08,448.043 1362.19,447.213 1363.29,446.382 1364.4,445.552 1365.51,444.722 1366.61,443.891 1367.72,443.061 1368.83,442.231 1369.93,441.401 1371.04,442.231 1372.15,443.061 1373.26,443.891 1374.36,444.722 1375.47,445.552 1376.58,446.382 1377.68,447.213 1378.79,448.043 1379.9,448.873 1381.01,449.704 1382.11,450.534 1383.22,451.364 1384.33,452.195 1385.43,453.025 1386.54,453.855 1387.65,454.686 1388.76,455.516 1389.86,456.346 1390.97,457.176 1392.08,458.007 1393.18,458.837 1394.29,459.667 1395.4,460.498 1396.5,461.328 1397.61,462.158 1398.72,462.989 1399.83,463.819 1400.93,464.649 1402.04,465.48 1403.15,466.31 1404.25,467.14 1405.36,467.97 1406.47,468.801 1407.58,469.631 1408.68,470.461 1409.79,471.292 1410.9,472.122 1412,472.952 1413.11,473.783 1414.22,474.613 1415.33,475.443 1416.43,476.274 1417.54,477.104 1418.65,477.934 1419.75,478.765 1420.86,479.595 1421.97,480.425 1423.07,481.255 1424.18,482.086 1425.29,482.916 1426.4,483.746 1427.5,484.577 1428.61,485.407 1429.72,486.237 1430.82,487.068 1431.93,487.898 1433.04,488.728 1434.15,489.559 1435.25,490.389 1436.36,491.219 1437.47,492.049 1438.57,492.88 1439.68,493.71 1440.79,494.54 1441.89,495.371 1443,496.201 1444.11,497.031 1445.22,497.862 1446.32,498.692 1447.43,499.522 1448.54,500.353 1449.64,501.183 1450.75,502.013 1451.86,502.844 1452.97,503.674 1454.07,504.504 1455.18,505.334 1456.29,506.165 1457.39,506.995 1458.5,507.825 1459.61,508.656 1460.72,509.486 1461.82,510.316 1462.93,511.147 1464.04,511.977 1465.14,512.807 1466.25,513.638 1467.36,514.468 1468.46,515.298 1469.57,516.129 1470.68,516.959 1471.79,517.789 1472.89,518.619 1474,519.45 1475.11,520.28 1476.21,521.11 1477.32,521.941 1478.43,522.771 1479.54,523.601 1480.64,524.432 1481.75,525.262 1482.86,526.092 1483.96,526.923 1485.07,527.753 1486.18,528.583 1487.29,529.413 1488.39,530.244 1489.5,531.074 1490.61,531.904 1491.71,532.735 1492.82,533.565 1493.93,534.395 1495.03,535.226 1496.14,536.056 1497.25,536.886 1498.36,537.717 1499.46,538.547 1500.57,539.377 1501.68,540.208 1502.78,541.038 1503.89,541.868 1505,542.698 1506.11,543.529 1507.21,544.359 1508.32,545.189 1509.43,546.02 1510.53,546.85 1511.64,547.68 1512.75,548.511 1513.86,549.341 1514.96,550.171 1516.07,551.002 1517.18,551.832 1518.28,552.662 1519.39,553.492 1520.5,554.323 1521.6,555.153 1522.71,555.983 1523.82,556.814 1524.93,557.644 1526.03,558.474 1527.14,559.305 1528.25,560.135 1529.35,560.965 1530.46,561.796 1531.57,562.626 1532.68,563.456 1533.78,564.287 1534.89,565.117 1536,565.947 1537.1,566.777 1538.21,567.608 1539.32,568.438 1540.43,569.268 1541.53,570.099 1542.64,570.929 1543.75,571.759 1544.85,572.59 1545.96,573.42 1547.07,574.25 1548.17,575.081 1549.28,575.911 1550.39,576.741 1551.5,577.571 1552.6,578.402 1553.71,579.232 1554.82,580.062 1555.92,580.893 1557.03,581.723 1558.14,582.553 1559.25,583.384 1560.35,584.214 1561.46,585.044 1562.57,585.875 1563.67,586.705 1564.78,587.535 1565.89,588.366 1567,589.196 1568.1,590.026 1569.21,590.856 1570.32,591.687 1571.42,592.517 1572.53,593.347 1573.64,594.178 1574.74,595.008 1575.85,595.838 1576.96,596.669 1578.07,597.499 1579.17,598.329 1580.28,599.16 1581.39,599.99 1582.49,600.82 1583.6,601.65 1584.71,602.481 1585.82,603.311 1586.92,604.141 1588.03,604.972 1589.14,605.802 1590.24,606.632 1591.35,607.463 1592.46,608.293 1593.57,609.123 1594.67,609.954 1595.78,610.784 1596.89,611.614 1597.99,612.445 1599.1,613.275 1600.21,614.105 1601.31,614.935 1602.42,615.766 1603.53,616.596 1604.64,617.426 1605.74,618.257 1606.85,619.087 1607.96,619.917 1609.06,620.748 1610.17,621.578 1611.28,622.408 1612.39,623.239 1613.49,624.069 1614.6,624.899 1615.71,625.729 1616.81,626.56 1617.92,627.39 1619.03,628.22 1620.13,629.051 1621.24,629.881 1622.35,630.711 1623.46,631.542 1624.56,632.372 1625.67,633.202 1626.78,634.033 1627.88,634.863 1628.99,635.693 1630.1,636.524 1631.21,637.354 1632.31,638.184 1633.42,639.014 1634.53,639.845 1635.63,640.675 1636.74,641.505 1637.85,642.336 1638.96,643.166 1640.06,643.996 1641.17,644.827 1642.28,645.657 1643.38,646.487 1644.49,647.318 1645.6,648.148 1646.7,648.978 1647.81,649.808 1648.92,650.639 1650.03,651.469 1651.13,652.299 1652.24,653.13 1653.35,653.96 1654.45,654.79 1655.56,655.621 1656.67,656.451 1657.78,657.281 1658.88,658.112 1659.99,658.942 1661.1,659.772 1662.2,660.603 1663.31,661.433 1664.42,662.263 1665.53,663.093 1666.63,663.924 1667.74,664.754 1668.85,665.584 1669.95,666.415 1671.06,667.245 1672.17,668.075 1673.27,668.906 1674.38,669.736 1675.49,670.566 1676.6,671.397 1677.7,672.227 1678.81,673.057 1679.92,673.888 1681.02,674.718 1682.13,675.548 1683.24,676.378 1684.35,677.209 1685.45,678.039 1686.56,678.869 1687.67,679.7 1688.77,680.53 1689.88,681.36 1690.99,682.191 1692.1,683.021 1693.2,683.851 1694.31,684.682 1695.42,685.512 1696.52,686.342 1697.63,687.172 1698.74,688.003 1699.84,688.833 1700.95,689.663 1702.06,690.494 1703.17,691.324 1704.27,692.154 1705.38,692.985 1706.49,693.815 1707.59,694.645 1708.7,695.476 1709.81,696.306 1710.92,697.136 1712.02,697.967 1713.13,698.797 1714.24,699.627 1715.34,700.457 1716.45,701.288 1717.56,702.118 1718.67,702.948 1719.77,703.779 1720.88,704.609 1721.99,705.439 1723.09,706.27 1724.2,707.1 1725.31,707.93 1726.41,708.761 1727.52,709.591 1728.63,710.421 1729.74,711.251 1730.84,712.082 1731.95,712.912 1733.06,713.742 1734.16,714.573 1735.27,715.403 1736.38,716.233 1737.49,717.064 1738.59,717.894 1739.7,718.724 1740.81,719.555 1741.91,720.385 1743.02,721.215 1744.13,722.046 1745.24,722.876 1746.34,723.706 1747.45,724.536 1748.56,725.367 1749.66,726.197 1750.77,727.027 1751.88,727.858 1752.98,728.688 1754.09,729.518 1755.2,730.349 1756.31,731.179 1757.41,732.009 1758.52,732.84 1759.63,733.67 1760.73,734.5 1761.84,735.33 1762.95,736.161 1764.06,736.991 1765.16,737.821 1766.27,738.652 1767.38,739.482 1768.48,740.312 1769.59,741.143 1770.7,741.973 1771.81,742.803 1772.91,743.634 1774.02,744.464 1775.13,745.294 1776.23,746.125 1777.34,746.955 1778.45,747.785 1779.55,748.615 1780.66,749.446 1781.77,750.276 1782.88,751.106 1783.98,751.937 1785.09,752.767 1786.2,753.597 1787.3,754.428 1788.41,755.258 1789.52,756.088 1790.63,756.919 1791.73,757.749 1792.84,758.579 1793.95,759.409 1795.05,760.24 1796.16,761.07 1797.27,761.9 1798.37,762.731 1799.48,763.561 1800.59,764.391 1801.7,765.222 1802.8,766.052 1803.91,766.882 1805.02,767.713 1806.12,768.543 1807.23,769.373 1808.34,770.204 1809.45,771.034 1810.55,771.864 1811.66,772.694 1812.77,773.525 1813.87,774.355 1814.98,775.185 1816.09,776.016 1817.2,776.846 1818.3,777.676 1819.41,778.507 1820.52,779.337 1821.62,780.167 1822.73,780.998 1823.84,781.828 1824.94,782.658 1826.05,783.488 1827.16,784.319 1828.27,785.149 1829.37,785.979 1830.48,786.81 1831.59,787.64 1832.69,788.47 1833.8,789.301 1834.91,790.131 1836.02,790.961 1837.12,791.792 1838.23,792.622 1839.34,793.452 1840.44,794.283 1841.55,795.113 1842.66,795.943 1843.77,796.773 1844.87,797.604 1845.98,798.434 1847.09,799.264 1848.19,800.095 1849.3,800.925 1850.41,801.755 1851.51,802.586 1852.62,803.416 1853.73,804.246 1854.84,805.077 1855.94,805.907 1857.05,806.737 1858.16,807.568 1859.26,808.398 1860.37,809.228 1861.48,810.058 1862.59,810.889 1863.69,811.719 1864.8,812.549 1865.91,813.38 1867.01,814.21 1868.12,815.04 1869.23,815.871 1870.34,816.701 1871.44,817.531 1872.55,818.362 1873.66,819.192 1874.76,820.022 1875.87,820.852 1876.98,821.683 1878.08,822.513 1879.19,823.343 1880.3,824.174 1881.41,825.004 1882.51,825.834 1883.62,826.665 1884.73,827.495 1885.83,828.325 1886.94,829.156 1888.05,829.986 1889.16,830.816 1890.26,831.647 1891.37,832.477 1892.48,833.307 1893.58,834.137 1894.69,834.968 1895.8,835.798 1896.91,836.628 1898.01,837.459 1899.12,838.289 1900.23,839.119 1901.33,839.95 1902.44,840.78 1903.55,841.61 1904.65,842.441 1905.76,843.271 1906.87,844.101 1907.98,844.931 1909.08,845.762 1910.19,846.592 1911.3,847.422 1912.4,848.253 1913.51,849.083 1914.62,849.913 1915.73,850.744 1916.83,851.574 1917.94,852.404 1919.05,853.235 1920.15,854.065 1921.26,854.895 1922.37,855.726 1923.48,856.556 1924.58,857.386 1925.69,858.216 1926.8,859.047 1927.9,859.877 1929.01,860.707 1930.12,861.538 1931.22,862.368 1932.33,863.198 1933.44,864.029 1934.55,864.859 1935.65,865.689 1936.76,866.52 1937.87,867.35 1938.97,868.18 1940.08,869.01 1941.19,869.841 1942.3,870.671 1943.4,871.501 1944.51,872.332 1945.62,873.162 1946.72,873.992 1947.83,874.823 1948.94,875.653 1950.05,876.483 1951.15,877.314 1952.26,878.144 1953.37,878.974 1954.47,879.805 1955.58,880.635 1956.69,881.465 1957.79,882.295 1958.9,883.126 1960.01,883.956 1961.12,884.786 1962.22,885.617 1963.33,886.447 1964.44,887.277 1965.54,888.108 1966.65,888.938 1967.76,889.768 1968.87,890.599 1969.97,891.429 1971.08,892.259 1972.19,893.089 1973.29,893.92 1974.4,894.75 1975.51,895.58 1976.61,896.411 1977.72,897.241 1978.83,898.071 1979.94,898.902 1981.04,899.732 1982.15,900.562 1983.26,901.393 1984.36,902.223 1985.47,903.053 1986.58,903.884 1987.69,904.714 1988.79,905.544 1989.9,906.374 1991.01,907.205 1992.11,908.035 1993.22,908.865 1994.33,909.696 1995.44,910.526 1996.54,911.356 1997.65,912.187 1998.76,913.017 1999.86,913.847 2000.97,914.678 2002.08,915.508 2003.18,916.338 2004.29,917.168 2005.4,917.999 2006.51,918.829 2007.61,919.659 2008.72,920.49 2009.83,921.32 2010.93,922.15 2012.04,922.981 2013.15,923.811 2014.26,924.641 2015.36,925.472 2016.47,926.302 2017.58,927.132 2018.68,927.963 2019.79,928.793 2020.9,929.623 2022.01,930.453 2023.11,931.284 2024.22,932.114 2025.33,932.944 2026.43,933.775 2027.54,934.605 2028.65,935.435 2029.75,936.266 2030.86,937.096 2031.97,937.926 2033.08,938.757 2034.18,939.587 2035.29,940.417 2036.4,941.247 2037.5,942.078 2038.61,942.908 2039.72,943.738 2040.83,944.569 2041.93,945.399 2043.04,946.229 2044.15,947.06 2045.25,947.89 2046.36,948.72 2047.47,949.551 2048.58,950.381 2049.68,951.211 2050.79,952.042 2051.9,952.872 2053,953.702 2054.11,954.532 2055.22,955.363 2056.32,956.193 2057.43,957.023 2058.54,957.854 2059.65,958.684 2060.75,959.514 2061.86,960.345 2062.97,961.175 2064.07,962.005 2065.18,962.836 2066.29,963.666 2067.4,964.496 2068.5,965.327 2069.61,966.157 2070.72,966.987 2071.82,967.817 2072.93,968.648 2074.04,969.478 2075.15,970.308 2076.25,971.139 2077.36,971.969 2078.47,972.799 2079.57,973.63 2080.68,974.46 2081.79,975.29 2082.89,976.121 2084,976.951 2085.11,977.781 2086.22,978.611 2087.32,979.442 2088.43,980.272 2089.54,981.102 2090.64,981.933 2091.75,982.763 2092.86,983.593 2093.97,984.424 2095.07,985.254 2096.18,986.084 2097.29,986.915 2098.39,987.745 2099.5,988.575 2100.61,989.406 2101.72,990.236 2102.82,991.066 2103.93,991.896 2105.04,992.727 2106.14,993.557 2107.25,994.387 2108.36,995.218 2109.46,996.048 2110.57,996.878 2111.68,997.709 2112.79,998.539 2113.89,999.369 2115,1000.2 2116.11,1001.03 2117.21,1001.86 2118.32,1002.69 2119.43,1003.52 2120.54,1004.35 2121.64,1005.18 2122.75,1006.01 2123.86,1006.84 2124.96,1007.67 2126.07,1008.5 2127.18,1009.33 2128.29,1010.16 2129.39,1010.99 2130.5,1011.82 2131.61,1012.65 2132.71,1013.48 2133.82,1014.31 2134.93,1015.15 2136.03,1015.98 2137.14,1016.81 2138.25,1017.64 2139.36,1018.47 2140.46,1019.3 2141.57,1020.13 2142.68,1020.96 2143.78,1021.79 2144.89,1022.62 2146,1023.45 2147.11,1024.28 2148.21,1025.11 2149.32,1025.94 2150.43,1026.77 2151.53,1027.6 2152.64,1028.43 2153.75,1029.26 2154.85,1030.09 2155.96,1030.92 2157.07,1031.75 2158.18,1032.58 2159.28,1033.41 2160.39,1034.24 2161.5,1035.07 2162.6,1035.9 2163.71,1036.73 2164.82,1037.56 2165.93,1038.39 2167.03,1039.22 2168.14,1040.05 2169.25,1040.88 2170.35,1041.72 2171.46,1042.55 2172.57,1043.38 2173.68,1044.21 2174.78,1045.04 2175.89,1045.87 2177,1046.7 2178.1,1047.53 2179.21,1048.36 2180.32,1049.19 2181.42,1050.02 2182.53,1050.85 2183.64,1051.68 2184.75,1052.51 2185.85,1053.34 2186.96,1054.17 2188.07,1055 2189.17,1055.83 2190.28,1056.66 2191.39,1057.49 2192.5,1058.32 2193.6,1059.15 2194.71,1059.98 2195.82,1060.81 2196.92,1061.64 2198.03,1062.47 2199.14,1063.3 2200.25,1064.13 2201.35,1064.96 2202.46,1065.79 2203.57,1066.62 2204.67,1067.45 2205.78,1068.29 2206.89,1069.12 2207.99,1069.95 2209.1,1070.78 2210.21,1071.61 2211.32,1072.44 2212.42,1073.27 2213.53,1074.1 2214.64,1074.93 2215.74,1075.76 2216.85,1076.59 2217.96,1077.42 2219.07,1078.25 2220.17,1079.08 2221.28,1079.91 2222.39,1080.74 2223.49,1081.57 2224.6,1082.4 2225.71,1083.23 2226.82,1084.06 2227.92,1084.89 2229.03,1085.72 2230.14,1086.55 2231.24,1087.38 2232.35,1088.21 2233.46,1089.04 2234.56,1089.87 2235.67,1090.7 2236.78,1091.53 2237.89,1092.36 2238.99,1093.19 2240.1,1094.02 2241.21,1094.85 2242.31,1095.69 2243.42,1096.52 2244.53,1097.35 2245.64,1098.18 2246.74,1099.01 2247.85,1099.84 2248.96,1100.67 2250.06,1101.5 2251.17,1102.33 2252.28,1103.16 2253.39,1103.99 2254.49,1104.82 2255.6,1105.65 2256.71,1106.48 2257.81,1107.31 2258.92,1108.14 2260.03,1108.97 2261.13,1109.8 2262.24,1110.63 2263.35,1111.46 2264.46,1112.29 2265.56,1113.12 2266.67,1113.95 2267.78,1114.78 2268.88,1115.61 2269.99,1116.44 2271.1,1117.27 2272.21,1118.1 2273.31,1118.93 2274.42,1119.76 2275.53,1120.59 2276.63,1121.42 2277.74,1122.26 2278.85,1123.09 2279.96,1123.92 2281.06,1124.75 2282.17,1125.58 2283.28,1126.41 2284.38,1127.24 2285.49,1128.07 2286.6,1128.9 2287.7,1129.73 2288.81,1130.56 2289.92,1131.39 2291.03,1132.22 2292.13,1133.05 2289.37,1133.05 2286.6,1133.05 2283.84,1133.05 2281.08,1133.05 2278.31,1133.05 2275.55,1133.05 2272.78,1133.05 2270.02,1133.05 2267.25,1133.05 2264.49,1133.05 2261.72,1133.05 2258.96,1133.05 2256.2,1133.05 2253.43,1133.05 2250.67,1133.05 2247.9,1133.05 2245.14,1133.05 2242.37,1133.05 2239.61,1133.05 2236.85,1133.05 2234.08,1133.05 2231.32,1133.05 2228.55,1133.05 2225.79,1133.05 2223.02,1133.05 2220.26,1133.05 2217.49,1133.05 2214.73,1133.05 2211.97,1133.05 2209.2,1133.05 2206.44,1133.05 2203.67,1133.05 2200.91,1133.05 2198.14,1133.05 2195.38,1133.05 2192.62,1133.05 2189.85,1133.05 2187.09,1133.05 2184.32,1133.05 2181.56,1133.05 2178.79,1133.05 2176.03,1133.05 2173.26,1133.05 2170.5,1133.05 2167.74,1133.05 2164.97,1133.05 2162.21,1133.05 2159.44,1133.05 2156.68,1133.05 2153.91,1133.05 2151.15,1133.05 2148.39,1133.05 2145.62,1133.05 2142.86,1133.05 2140.09,1133.05 2137.33,1133.05 2134.56,1133.05 2131.8,1133.05 2129.03,1133.05 2126.27,1133.05 2123.51,1133.05 2120.74,1133.05 2117.98,1133.05 2115.21,1133.05 2112.45,1133.05 2109.68,1133.05 2106.92,1133.05 2104.15,1133.05 2101.39,1133.05 2098.63,1133.05 2095.86,1133.05 2093.1,1133.05 2090.33,1133.05 2087.57,1133.05 2084.8,1133.05 2082.04,1133.05 2079.28,1133.05 2076.51,1133.05 2073.75,1133.05 2070.98,1133.05 2068.22,1133.05 2065.45,1133.05 2062.69,1133.05 2059.92,1133.05 2057.16,1133.05 2054.4,1133.05 2051.63,1133.05 2048.87,1133.05 2046.1,1133.05 2043.34,1133.05 2040.57,1133.05 2037.81,1133.05 2035.05,1133.05 2032.28,1133.05 2029.52,1133.05 2026.75,1133.05 2023.99,1133.05 2021.22,1133.05 2018.46,1133.05 2015.69,1133.05 2012.93,1133.05 2010.17,1133.05 2007.4,1133.05 2004.64,1133.05 2001.87,1133.05 1999.11,1133.05 1996.34,1133.05 1993.58,1133.05 1990.82,1133.05 1988.05,1133.05 1985.29,1133.05 1982.52,1133.05 1979.76,1133.05 1976.99,1133.05 1974.23,1133.05 1971.46,1133.05 1968.7,1133.05 1965.94,1133.05 1963.17,1133.05 1960.41,1133.05 1957.64,1133.05 1954.88,1133.05 1952.11,1133.05 1949.35,1133.05 1946.59,1133.05 1943.82,1133.05 1941.06,1133.05 1938.29,1133.05 1935.53,1133.05 1932.76,1133.05 1930,1133.05 1927.23,1133.05 1924.47,1133.05 1921.71,1133.05 1918.94,1133.05 1916.18,1133.05 1913.41,1133.05 1910.65,1133.05 1907.88,1133.05 1905.12,1133.05 1902.35,1133.05 1899.59,1133.05 1896.83,1133.05 1894.06,1133.05 1891.3,1133.05 1888.53,1133.05 1885.77,1133.05 1883,1133.05 1880.24,1133.05 1877.48,1133.05 1874.71,1133.05 1871.95,1133.05 1869.18,1133.05 1866.42,1133.05 1863.65,1133.05 1860.89,1133.05 1858.12,1133.05 1855.36,1133.05 1852.6,1133.05 1849.83,1133.05 1847.07,1133.05 1844.3,1133.05 1841.54,1133.05 1838.77,1133.05 1836.01,1133.05 1833.25,1133.05 1830.48,1133.05 1827.72,1133.05 1824.95,1133.05 1822.19,1133.05 1819.42,1133.05 1816.66,1133.05 1813.89,1133.05 1811.13,1133.05 1808.37,1133.05 1805.6,1133.05 1802.84,1133.05 1800.07,1133.05 1797.31,1133.05 1794.54,1133.05 1791.78,1133.05 1789.02,1133.05 1786.25,1133.05 1783.49,1133.05 1780.72,1133.05 1777.96,1133.05 1775.19,1133.05 1772.43,1133.05 1769.66,1133.05 1766.9,1133.05 1764.14,1133.05 1761.37,1133.05 1758.61,1133.05 1755.84,1133.05 1753.08,1133.05 1750.31,1133.05 1747.55,1133.05 1744.79,1133.05 1742.02,1133.05 1739.26,1133.05 1736.49,1133.05 1733.73,1133.05 1730.96,1133.05 1728.2,1133.05 1725.43,1133.05 1722.67,1133.05 1719.91,1133.05 1717.14,1133.05 1714.38,1133.05 1711.61,1133.05 1708.85,1133.05 1706.08,1133.05 1703.32,1133.05 1700.55,1133.05 1697.79,1133.05 1695.03,1133.05 1692.26,1133.05 1689.5,1133.05 1686.73,1133.05 1683.97,1133.05 1681.2,1133.05 1678.44,1133.05 1675.68,1133.05 1672.91,1133.05 1670.15,1133.05 1667.38,1133.05 1664.62,1133.05 1661.85,1133.05 1659.09,1133.05 1656.32,1133.05 1653.56,1133.05 1650.8,1133.05 1648.03,1133.05 1645.27,1133.05 1642.5,1133.05 1639.74,1133.05 1636.97,1133.05 1634.21,1133.05 1631.45,1133.05 1628.68,1133.05 1625.92,1133.05 1623.15,1133.05 1620.39,1133.05 1617.62,1133.05 1614.86,1133.05 1612.09,1133.05 1609.33,1133.05 1606.57,1133.05 1603.8,1133.05 1601.04,1133.05 1598.27,1133.05 1595.51,1133.05 1592.74,1133.05 1589.98,1133.05 1587.22,1133.05 1584.45,1133.05 1581.69,1133.05 1578.92,1133.05 1576.16,1133.05 1573.39,1133.05 1570.63,1133.05 1567.86,1133.05 1565.1,1133.05 1562.34,1133.05 1559.57,1133.05 1556.81,1133.05 1554.04,1133.05 1551.28,1133.05 1548.51,1133.05 1545.75,1133.05 1542.99,1133.05 1540.22,1133.05 1537.46,1133.05 1534.69,1133.05 1531.93,1133.05 1529.16,1133.05 1526.4,1133.05 1523.63,1133.05 1520.87,1133.05 1518.11,1133.05 1515.34,1133.05 1512.58,1133.05 1509.81,1133.05 1507.05,1133.05 1504.28,1133.05 1501.52,1133.05 1498.76,1133.05 1495.99,1133.05 1493.23,1133.05 1490.46,1133.05 1487.7,1133.05 1484.93,1133.05 1482.17,1133.05 1479.4,1133.05 1476.64,1133.05 1473.88,1133.05 1471.11,1133.05 1468.35,1133.05 1465.58,1133.05 1462.82,1133.05 1460.05,1133.05 1457.29,1133.05 1454.52,1133.05 1451.76,1133.05 1449,1133.05 1446.23,1133.05 1443.47,1133.05 1440.7,1133.05 1437.94,1133.05 1435.17,1133.05 1432.41,1133.05 1429.65,1133.05 1426.88,1133.05 1424.12,1133.05 1421.35,1133.05 1418.59,1133.05 1415.82,1133.05 1413.06,1133.05 1410.29,1133.05 1407.53,1133.05 1404.77,1133.05 1402,1133.05 1399.24,1133.05 1396.47,1133.05 1393.71,1133.05 1390.94,1133.05 1388.18,1133.05 1385.42,1133.05 1382.65,1133.05 1379.89,1133.05 1377.12,1133.05 1374.36,1133.05 1371.59,1133.05 1368.83,1133.05 1366.06,1133.05 1363.3,1133.05 1360.54,1133.05 1357.77,1133.05 1355.01,1133.05 1352.24,1133.05 1349.48,1133.05 1346.71,1133.05 1343.95,1133.05 1341.19,1133.05 1338.42,1133.05 1335.66,1133.05 1332.89,1133.05 1330.13,1133.05 1327.36,1133.05 1324.6,1133.05 1321.83,1133.05 1319.07,1133.05 1316.31,1133.05 1313.54,1133.05 1310.78,1133.05 1308.01,1133.05 1305.25,1133.05 1302.48,1133.05 1299.72,1133.05 1296.96,1133.05 1294.19,1133.05 1291.43,1133.05 1288.66,1133.05 1285.9,1133.05 1283.13,1133.05 1280.37,1133.05 1277.6,1133.05 1274.84,1133.05 1272.08,1133.05 1269.31,1133.05 1266.55,1133.05 1263.78,1133.05 1261.02,1133.05 1258.25,1133.05 1255.49,1133.05 1252.72,1133.05 1249.96,1133.05 1247.2,1133.05 1244.43,1133.05 1241.67,1133.05 1238.9,1133.05 1236.14,1133.05 1233.37,1133.05 1230.61,1133.05 1227.85,1133.05 1225.08,1133.05 1222.32,1133.05 1219.55,1133.05 1216.79,1133.05 1214.02,1133.05 1211.26,1133.05 1208.49,1133.05 1205.73,1133.05 1202.97,1133.05 1200.2,1133.05 1197.44,1133.05 1194.67,1133.05 1191.91,1133.05 1189.14,1133.05 1186.38,1133.05 1183.62,1133.05 1180.85,1133.05 1178.09,1133.05 1175.32,1133.05 1172.56,1133.05 1169.79,1133.05 1167.03,1133.05 1164.26,1133.05 1161.5,1133.05 1158.74,1133.05 1155.97,1133.05 1153.21,1133.05 1150.44,1133.05 1147.68,1133.05 1144.91,1133.05 1142.15,1133.05 1139.39,1133.05 1136.62,1133.05 1133.86,1133.05 1131.09,1133.05 1128.33,1133.05 1125.56,1133.05 1122.8,1133.05 1120.03,1133.05 1117.27,1133.05 1114.51,1133.05 1111.74,1133.05 1108.98,1133.05 1106.21,1133.05 1103.45,1133.05 1100.68,1133.05 1097.92,1133.05 1095.16,1133.05 1092.39,1133.05 1089.63,1133.05 1086.86,1133.05 1084.1,1133.05 1081.33,1133.05 1078.57,1133.05 1075.8,1133.05 1073.04,1133.05 1070.28,1133.05 1067.51,1133.05 1064.75,1133.05 1061.98,1133.05 1059.22,1133.05 1056.45,1133.05 1053.69,1133.05 1050.92,1133.05 1048.16,1133.05 1045.4,1133.05 1042.63,1133.05 1039.87,1133.05 1037.1,1133.05 1034.34,1133.05 1031.57,1133.05 1028.81,1133.05 1026.05,1133.05 1023.28,1133.05 1020.52,1133.05 1017.75,1133.05 1014.99,1133.05 1012.22,1133.05 1009.46,1133.05 1006.69,1133.05 1003.93,1133.05 1001.17,1133.05 998.402,1133.05 995.637,1133.05 992.873,1133.05 990.108,1133.05 987.344,1133.05 984.58,1133.05 981.815,1133.05 979.051,1133.05 976.287,1133.05 973.522,1133.05 970.758,1133.05 967.993,1133.05 965.229,1133.05 962.465,1133.05 959.7,1133.05 956.936,1133.05 954.172,1133.05 951.407,1133.05 948.643,1133.05 945.878,1133.05 943.114,1133.05 940.35,1133.05 937.585,1133.05 934.821,1133.05 932.056,1133.05 929.292,1133.05 926.528,1133.05 923.763,1133.05 920.999,1133.05 918.235,1133.05 915.47,1133.05 912.706,1133.05 909.941,1133.05 907.177,1133.05 904.413,1133.05 901.648,1133.05 898.884,1133.05 896.119,1133.05 893.355,1133.05 890.591,1133.05 887.826,1133.05 885.062,1133.05 882.298,1133.05 879.533,1133.05 876.769,1133.05 874.004,1133.05 871.24,1133.05 868.476,1133.05 865.711,1133.05 862.947,1133.05 860.182,1133.05 857.418,1133.05 854.654,1133.05 851.889,1133.05 849.125,1133.05 846.361,1133.05 843.596,1133.05 840.832,1133.05 838.067,1133.05 835.303,1133.05 832.539,1133.05 829.774,1133.05 827.01,1133.05 824.246,1133.05 821.481,1133.05 818.717,1133.05 815.952,1133.05 813.188,1133.05 810.424,1133.05 807.659,1133.05 804.895,1133.05 802.13,1133.05 799.366,1133.05 796.602,1133.05 793.837,1133.05 791.073,1133.05 788.309,1133.05 785.544,1133.05 782.78,1133.05 780.015,1133.05 777.251,1133.05 774.487,1133.05 771.722,1133.05 768.958,1133.05 766.193,1133.05 763.429,1133.05 760.665,1133.05 757.9,1133.05 755.136,1133.05 752.372,1133.05 749.607,1133.05 746.843,1133.05 744.078,1133.05 741.314,1133.05 738.55,1133.05 735.785,1133.05 733.021,1133.05 730.256,1133.05 727.492,1133.05 724.728,1133.05 721.963,1133.05 719.199,1133.05 716.435,1133.05 713.67,1133.05 710.906,1133.05 708.141,1133.05 705.377,1133.05 702.613,1133.05 699.848,1133.05 697.084,1133.05 694.319,1133.05 691.555,1133.05 688.791,1133.05 686.026,1133.05 683.262,1133.05 680.498,1133.05 677.733,1133.05 674.969,1133.05 672.204,1133.05 669.44,1133.05 666.676,1133.05 663.911,1133.05 661.147,1133.05 658.383,1133.05 655.618,1133.05 652.854,1133.05 650.089,1133.05 647.325,1133.05 644.561,1133.05 641.796,1133.05 639.032,1133.05 636.267,1133.05 633.503,1133.05 630.739,1133.05 627.974,1133.05 625.21,1133.05 622.446,1133.05 619.681,1133.05 616.917,1133.05 614.152,1133.05 611.388,1133.05 608.624,1133.05 605.859,1133.05 603.095,1133.05 600.33,1133.05 597.566,1133.05 594.802,1133.05 592.037,1133.05 589.273,1133.05 586.509,1133.05 583.744,1133.05 580.98,1133.05 578.215,1133.05 575.451,1133.05 572.687,1133.05 569.922,1133.05 567.158,1133.05 564.393,1133.05 561.629,1133.05 558.865,1133.05 556.1,1133.05 553.336,1133.05 550.572,1133.05 547.807,1133.05 545.043,1133.05 542.278,1133.05 539.514,1133.05 536.75,1133.05 533.985,1133.05 531.221,1133.05 528.457,1133.05 525.692,1133.05 522.928,1133.05 520.163,1133.05 517.399,1133.05 514.635,1133.05 511.87,1133.05 509.106,1133.05 506.341,1133.05 503.577,1133.05 500.813,1133.05 498.048,1133.05 495.284,1133.05 492.52,1133.05 489.755,1133.05 486.991,1133.05 484.226,1133.05 481.462,1133.05 478.698,1133.05 475.933,1133.05 473.169,1133.05 470.404,1133.05 467.64,1133.05 464.876,1133.05 462.111,1133.05 459.347,1133.05 456.583,1133.05 453.818,1133.05 451.054,1133.05 448.289,1133.05 445.525,1133.05 442.761,1133.05 439.996,1133.05 437.232,1133.05 434.467,1133.05 431.703,1133.05 428.939,1133.05 426.174,1133.05 423.41,1133.05 420.646,1133.05 417.881,1133.05 415.117,1133.05 412.352,1133.05 409.588,1133.05 406.824,1133.05 404.059,1133.05 401.295,1133.05 398.53,1133.05 395.766,1133.05 393.002,1133.05 390.237,1133.05 387.473,1133.05 384.709,1133.05 381.944,1133.05 379.18,1133.05 376.415,1133.05 373.651,1133.05 370.887,1133.05 368.122,1133.05 365.358,1133.05 362.594,1133.05 359.829,1133.05 357.065,1133.05 354.3,1133.05 351.536,1133.05 348.772,1133.05 346.007,1133.05 343.243,1133.05 340.478,1133.05 337.714,1133.05 334.95,1133.05 332.185,1133.05 329.421,1133.05 326.657,1133.05 323.892,1133.05 321.128,1133.05 318.363,1133.05 315.599,1133.05 312.835,1133.05 310.07,1133.05 307.306,1133.05 304.541,1133.05 301.777,1133.05 299.013,1133.05 296.248,1133.05 293.484,1133.05 290.72,1133.05 287.955,1133.05 285.191,1133.05 282.426,1133.05 279.662,1133.05 276.898,1133.05 274.133,1133.05 271.369,1133.05 \"/>\n",
       "<polyline clip-path=\"url(#clip182)\" style=\"stroke:#e26f46; stroke-linecap:round; stroke-linejoin:round; stroke-width:8; stroke-opacity:1; fill:none\" stroke-dasharray=\"32, 20\" points=\"492.429,1121.13 493.536,1120.3 494.643,1119.47 495.75,1118.64 496.857,1117.81 497.963,1116.98 499.069,1116.15 500.174,1115.32 501.279,1114.49 502.383,1113.66 503.486,1112.83 504.587,1112 505.688,1111.18 506.787,1110.35 507.884,1109.52 508.979,1108.7 510.073,1107.87 511.165,1107.05 512.254,1106.22 513.342,1105.4 514.427,1104.58 515.509,1103.76 516.589,1102.94 517.667,1102.12 518.741,1101.3 519.813,1100.48 520.882,1099.66 521.948,1098.85 523.011,1098.03 524.07,1097.22 525.127,1096.4 526.18,1095.59 527.23,1094.78 528.277,1093.97 529.32,1093.16 530.359,1092.36 531.395,1091.55 532.428,1090.74 533.457,1089.94 534.482,1089.14 535.504,1088.34 536.521,1087.54 537.535,1086.74 538.546,1085.94 539.552,1085.14 540.555,1084.35 541.554,1083.55 542.549,1082.76 543.54,1081.97 544.528,1081.18 545.512,1080.39 546.491,1079.6 547.467,1078.81 548.44,1078.02 549.408,1077.24 550.372,1076.46 551.333,1075.67 552.29,1074.89 553.244,1074.11 554.193,1073.33 555.139,1072.55 556.081,1071.78 557.02,1071 557.954,1070.23 558.886,1069.45 559.813,1068.68 560.737,1067.91 561.658,1067.14 562.575,1066.37 563.489,1065.6 564.399,1064.84 565.306,1064.07 566.21,1063.31 567.111,1062.54 568.008,1061.78 568.902,1061.02 569.793,1060.26 570.681,1059.5 571.566,1058.74 572.448,1057.98 573.327,1057.22 574.203,1056.47 575.076,1055.71 575.947,1054.96 576.814,1054.2 577.68,1053.45 578.542,1052.7 579.402,1051.95 580.26,1051.19 581.115,1050.44 581.968,1049.69 582.818,1048.95 583.667,1048.2 584.513,1047.45 585.357,1046.7 586.199,1045.96 587.038,1045.21 587.876,1044.47 588.712,1043.72 589.547,1042.98 590.379,1042.23 591.21,1041.49 592.039,1040.75 592.867,1040.01 593.693,1039.27 594.518,1038.52 595.341,1037.78 596.163,1037.04 596.984,1036.3 597.803,1035.56 598.622,1034.82 599.439,1034.08 600.255,1033.35 601.071,1032.61 601.885,1031.87 602.699,1031.13 603.512,1030.39 604.324,1029.65 605.135,1028.92 605.946,1028.18 606.757,1027.44 607.567,1026.7 608.376,1025.97 609.185,1025.23 609.994,1024.49 610.803,1023.76 611.611,1023.02 612.419,1022.28 613.228,1021.54 614.036,1020.81 614.844,1020.07 615.652,1019.33 616.461,1018.6 617.269,1017.86 618.078,1017.12 618.887,1016.38 619.697,1015.65 620.507,1014.91 621.317,1014.17 622.128,1013.43 622.939,1012.69 623.751,1011.95 624.563,1011.22 625.377,1010.48 626.191,1009.74 627.005,1009 627.821,1008.26 628.637,1007.52 629.454,1006.78 630.272,1006.03 631.092,1005.29 631.912,1004.55 632.733,1003.81 633.555,1003.07 634.379,1002.32 635.203,1001.58 636.029,1000.84 636.856,1000.09 637.685,999.349 638.514,998.605 639.345,997.859 640.178,997.114 641.011,996.367 641.847,995.621 642.683,994.873 643.522,994.126 644.361,993.377 645.203,992.629 646.046,991.879 646.89,991.13 647.736,990.379 648.584,989.629 649.434,988.877 650.285,988.125 651.138,987.373 651.992,986.619 652.849,985.866 653.707,985.112 654.567,984.357 655.429,983.601 656.293,982.845 657.159,982.089 658.027,981.331 658.896,980.573 659.768,979.815 660.641,979.056 661.517,978.296 662.394,977.536 663.273,976.775 664.155,976.013 665.038,975.251 665.924,974.488 666.811,973.724 667.701,972.96 668.592,972.195 669.486,971.429 670.382,970.663 671.28,969.896 672.18,969.128 673.082,968.36 673.986,967.591 674.892,966.822 675.801,966.051 676.711,965.28 677.624,964.509 678.539,963.737 679.456,962.964 680.375,962.19 681.296,961.416 682.22,960.641 683.145,959.865 684.073,959.089 685.003,958.312 685.935,957.534 686.869,956.756 687.806,955.977 688.744,955.197 689.685,954.417 690.628,953.636 691.572,952.854 692.519,952.072 693.469,951.289 694.42,950.505 695.373,949.721 696.329,948.936 697.287,948.15 698.246,947.364 699.208,946.577 700.172,945.789 701.138,945.001 702.106,944.212 703.077,943.422 704.049,942.632 705.023,941.841 705.999,941.05 706.978,940.258 707.958,939.465 708.941,938.672 709.925,937.878 710.912,937.083 711.9,936.288 712.89,935.492 713.883,934.696 714.877,933.899 715.873,933.102 716.871,932.303 717.872,931.505 718.874,930.705 719.877,929.905 720.883,929.105 721.891,928.304 722.9,927.502 723.912,926.7 724.925,925.897 725.94,925.094 726.957,924.29 727.975,923.486 728.995,922.681 730.017,921.875 731.041,921.069 732.067,920.263 733.094,919.456 734.123,918.648 735.154,917.84 736.186,917.031 737.22,916.222 738.255,915.413 739.292,914.603 740.331,913.792 741.372,912.981 742.413,912.17 743.457,911.358 744.502,910.545 745.548,909.732 746.597,908.919 747.646,908.105 748.697,907.291 749.749,906.476 750.803,905.661 751.859,904.846 752.915,904.03 753.973,903.213 755.033,902.396 756.094,901.579 757.156,900.762 758.219,899.944 759.284,899.125 760.35,898.306 761.418,897.487 762.486,896.668 763.556,895.848 764.627,895.028 765.699,894.207 766.773,893.386 767.847,892.565 768.923,891.743 770,890.921 771.078,890.099 772.157,889.276 773.238,888.453 774.319,887.63 775.401,886.806 776.485,885.982 777.569,885.158 778.654,884.333 779.741,883.508 780.828,882.683 781.917,881.858 783.006,881.032 784.096,880.206 785.187,879.38 786.279,878.553 787.372,877.727 788.466,876.9 789.561,876.072 790.656,875.245 791.752,874.417 792.849,873.589 793.947,872.761 795.046,871.933 796.145,871.104 797.245,870.275 798.346,869.446 799.448,868.617 800.55,867.787 801.653,866.958 802.756,866.128 803.861,865.298 804.966,864.467 806.071,863.637 807.177,862.806 808.284,861.976 809.391,861.145 810.499,860.314 811.608,859.482 812.717,858.651 813.826,857.819 814.937,856.988 816.047,856.156 817.158,855.324 818.27,854.492 819.382,853.659 820.494,852.827 821.607,851.994 822.721,851.162 823.834,850.329 824.949,849.496 826.063,848.663 827.178,847.83 828.293,846.997 829.409,846.163 830.525,845.33 831.642,844.496 832.758,843.663 833.875,842.829 834.993,841.995 836.11,841.161 837.228,840.327 838.347,839.493 839.465,838.659 840.584,837.825 841.703,836.991 842.822,836.157 843.942,835.322 845.061,834.488 846.181,833.653 847.301,832.819 848.422,831.984 849.542,831.15 850.663,830.315 851.784,829.48 852.905,828.645 854.026,827.811 855.147,826.976 856.269,826.141 857.39,825.306 858.512,824.471 859.633,823.636 860.755,822.801 861.877,821.966 862.999,821.131 864.122,820.296 865.244,819.461 866.366,818.626 867.488,817.791 868.611,816.956 869.733,816.121 870.856,815.286 871.978,814.451 873.101,813.616 874.223,812.781 875.346,811.946 876.468,811.11 877.591,810.275 878.714,809.44 879.836,808.605 880.959,807.77 882.081,806.935 883.204,806.1 884.326,805.265 885.449,804.43 886.571,803.595 887.694,802.76 888.816,801.925 889.939,801.09 891.061,800.255 892.183,799.42 893.305,798.585 894.427,797.751 895.549,796.916 896.671,796.081 897.793,795.246 898.915,794.411 900.037,793.577 901.158,792.742 902.28,791.907 903.401,791.073 904.523,790.238 905.644,789.404 906.765,788.569 907.886,787.735 909.007,786.9 910.128,786.066 911.249,785.231 912.369,784.397 913.49,783.563 914.61,782.728 915.73,781.894 916.85,781.06 917.97,780.226 919.09,779.392 920.21,778.558 921.33,777.724 922.449,776.89 923.569,776.056 924.688,775.222 925.807,774.388 926.926,773.554 928.045,772.721 929.163,771.887 930.282,771.053 931.4,770.22 932.518,769.386 933.637,768.552 934.754,767.719 935.872,766.886 936.99,766.052 938.107,765.219 939.225,764.385 940.342,763.552 941.459,762.719 942.576,761.886 943.693,761.053 944.809,760.22 945.926,759.387 947.042,758.554 948.158,757.721 949.274,756.888 950.39,756.055 951.506,755.222 952.622,754.389 953.737,753.557 954.852,752.724 955.967,751.892 957.082,751.059 958.197,750.226 959.312,749.394 960.426,748.562 961.541,747.729 962.655,746.897 963.769,746.065 964.883,745.232 965.997,744.4 967.111,743.568 968.224,742.736 969.337,741.904 970.451,741.072 971.564,740.24 972.677,739.408 973.789,738.576 974.902,737.744 976.015,736.912 977.127,736.08 978.239,735.249 979.351,734.417 980.463,733.585 981.575,732.754 982.687,731.922 983.798,731.091 984.91,730.259 986.021,729.428 987.132,728.596 988.243,727.765 989.354,726.934 990.465,726.102 991.576,725.271 992.686,724.44 993.797,723.609 994.907,722.777 996.017,721.946 997.127,721.115 998.237,720.284 999.347,719.453 1000.46,718.622 1001.57,717.791 1002.68,716.96 1003.79,716.129 1004.89,715.299 1006,714.468 1007.11,713.637 1008.22,712.806 1009.33,711.975 1010.44,711.145 1011.55,710.314 1012.66,709.483 1013.76,708.653 1014.87,707.822 1015.98,706.992 1017.09,706.161 1018.2,705.331 1019.31,704.5 1020.41,703.67 1021.52,702.839 1022.63,702.009 1023.74,701.179 1024.84,700.348 1025.95,699.518 1027.06,698.688 1028.17,697.857 1029.27,697.027 1030.38,696.197 1031.49,695.367 1032.59,694.536 1033.7,693.706 1034.81,692.876 1035.91,692.046 1037.02,691.216 1038.13,690.386 1039.23,689.556 1040.34,688.726 1041.45,687.896 1042.55,687.066 1043.66,686.236 1044.77,685.406 1045.87,684.576 1046.98,683.746 1048.08,682.916 1049.19,682.086 1050.3,681.256 1051.4,680.426 1052.51,679.596 1053.61,678.766 1054.72,677.936 1055.83,677.107 1056.93,676.277 1058.04,675.447 1059.14,674.617 1060.25,673.787 1061.35,672.958 1062.46,672.128 1063.56,671.298 1064.67,670.468 1065.77,669.639 1066.88,668.809 1067.98,667.979 1069.09,667.149 1070.2,666.32 1071.3,665.49 1072.41,664.66 1073.51,663.831 1074.62,663.001 1075.72,662.171 1076.83,661.342 1077.93,660.512 1079.04,659.682 1080.14,658.853 1081.25,658.023 1082.35,657.193 1083.46,656.364 1084.56,655.534 1085.66,654.704 1086.77,653.875 1087.87,653.045 1088.98,652.216 1090.08,651.386 1091.19,650.556 1092.29,649.727 1093.4,648.897 1094.5,648.068 1095.61,647.238 1096.71,646.408 1097.82,645.579 1098.92,644.749 1100.03,643.92 1101.13,643.09 1102.24,642.26 1103.34,641.431 1104.45,640.601 1105.55,639.772 1106.65,638.942 1107.76,638.112 1108.86,637.283 1109.97,636.453 1111.07,635.624 1112.18,634.794 1113.28,633.964 1114.39,633.135 1115.49,632.305 1116.6,631.476 1117.7,630.646 1118.81,629.816 1119.91,628.987 1121.02,628.157 1122.12,627.327 1123.23,626.498 1124.33,625.668 1125.43,624.839 1126.54,624.009 1127.64,623.179 1128.75,622.35 1129.85,621.52 1130.96,620.69 1132.06,619.861 1133.17,619.031 1134.27,618.201 1135.38,617.372 1136.48,616.542 1137.59,615.712 1138.69,614.883 1139.8,614.053 1140.9,613.223 1142.01,612.394 1143.11,611.564 1144.22,610.734 1145.32,609.904 1146.43,609.075 1147.53,608.245 1148.64,607.415 1149.74,606.585 1150.85,605.756 1151.95,604.926 1153.06,604.096 1154.16,603.266 1155.27,602.437 1156.37,601.607 1157.48,600.777 1158.58,599.947 1159.69,599.118 1160.79,598.288 1161.9,597.458 1163,596.628 1164.11,595.798 1165.21,594.969 1166.32,594.139 1167.42,593.309 1168.53,592.479 1169.64,591.649 1170.74,590.819 1171.85,589.99 1172.95,589.16 1174.06,588.33 1175.16,587.5 1176.27,586.67 1177.37,585.84 1178.48,585.01 1179.58,584.18 1180.69,583.35 1181.8,582.521 1182.9,581.691 1184.01,580.861 1185.11,580.031 1186.22,579.201 1187.32,578.371 1188.43,577.541 1189.54,576.711 1190.64,575.881 1191.75,575.051 1192.85,574.221 1193.96,573.391 1195.06,572.561 1196.17,571.731 1197.28,570.901 1198.38,570.071 1199.49,569.241 1200.59,568.411 1201.7,567.581 1202.81,566.751 1203.91,565.921 1205.02,565.091 1206.12,564.261 1207.23,563.431 1208.34,562.601 1209.44,561.771 1210.55,560.94 1211.65,560.11 1212.76,559.28 1213.87,558.45 1214.97,557.62 1216.08,556.79 1217.19,555.96 1218.29,555.13 1219.4,554.3 1220.5,553.47 1221.61,552.639 1222.72,551.809 1223.82,550.979 1224.93,550.149 1226.04,549.319 1227.14,548.489 1228.25,547.658 1229.36,546.828 1230.46,545.998 1231.57,545.168 1232.68,544.338 1233.78,543.508 1234.89,542.677 1235.99,541.847 1237.1,541.017 1238.21,540.187 1239.31,539.357 1240.42,538.526 1241.53,537.696 1242.63,536.866 1243.74,536.036 1244.85,535.205 1245.95,534.375 1247.06,533.545 1248.17,532.715 1249.27,531.884 1250.38,531.054 1251.49,530.224 1252.59,529.394 1253.7,528.563 1254.81,527.733 1255.92,526.903 1257.02,526.073 1258.13,525.242 1259.24,524.412 1260.34,523.582 1261.45,522.751 1262.56,521.921 1263.66,521.091 1264.77,520.261 1265.88,519.43 1266.98,518.6 1268.09,517.77 1269.2,516.939 1270.31,516.109 1271.41,515.279 1272.52,514.448 1273.63,513.618 1274.73,512.788 1275.84,511.957 1276.95,511.127 1278.05,510.297 1279.16,509.466 1280.27,508.636 1281.38,507.806 1282.48,506.975 1283.59,506.145 1284.7,505.314 1285.8,504.484 1286.91,503.654 1288.02,502.823 1289.13,501.993 1290.23,501.163 1291.34,500.332 1292.45,499.502 1293.55,498.672 1294.66,497.841 1295.77,497.011 1296.88,496.18 1297.98,495.35 1299.09,494.52 1300.2,493.689 1301.3,492.859 1302.41,492.029 1303.52,491.198 1304.63,490.368 1305.73,489.537 1306.84,488.707 1307.95,487.877 1309.05,487.046 1310.16,486.216 1311.27,485.385 1312.38,484.555 1313.48,483.725 1314.59,482.894 1315.7,482.064 1316.81,481.233 1317.91,480.403 1319.02,479.573 1320.13,478.742 1321.24,477.912 1322.34,477.081 1323.45,476.251 1324.56,475.42 1325.66,474.59 1326.77,473.76 1327.88,472.929 1328.99,472.099 1330.09,471.268 1331.2,470.438 1332.31,469.608 1333.42,468.777 1334.52,467.947 1335.63,467.116 1336.74,466.286 1337.85,465.455 1338.95,464.625 1340.06,463.795 1341.17,462.964 1342.27,462.134 1343.38,461.303 1344.49,460.473 1345.6,459.643 1346.7,458.812 1347.81,457.982 1348.92,457.151 1350.03,456.321 1351.13,455.49 1352.24,454.66 1353.35,453.83 1354.46,452.999 1355.56,452.169 1356.67,451.338 1357.78,450.508 1358.89,449.677 1359.99,448.847 1361.1,448.017 1362.21,447.186 1363.31,446.356 1364.42,445.525 1365.53,444.695 1366.64,443.865 1367.74,443.034 1368.85,442.205 1369.96,441.376 1371.06,440.548 1372.17,439.723 1373.27,438.9 1374.38,438.08 1375.48,437.264 1376.59,436.453 1377.69,435.647 1378.79,434.847 1379.89,434.054 1381,433.268 1382.1,432.491 1383.2,431.722 1384.3,430.962 1385.39,430.213 1386.49,429.474 1387.59,428.747 1388.69,428.031 1389.78,427.328 1390.88,426.637 1391.97,425.96 1393.07,425.297 1394.16,424.648 1395.26,424.014 1396.35,423.396 1397.44,422.793 1398.53,422.206 1399.62,421.635 1400.71,421.082 1401.8,420.546 1402.89,420.027 1403.98,419.527 1405.07,419.045 1406.16,418.581 1407.25,418.137 1408.33,417.711 1409.42,417.306 1410.5,416.92 1411.59,416.554 1412.67,416.208 1413.76,415.884 1414.84,415.579 1415.92,415.296 1417.01,415.035 1418.09,414.794 1419.17,414.575 1420.25,414.378 1421.33,414.203 1422.41,414.05 1423.49,413.919 1424.57,413.811 1425.65,413.725 1426.73,413.661 1427.8,413.621 1428.88,413.603 1429.96,413.608 1431.03,413.636 1432.11,413.687 1433.19,413.761 1434.26,413.858 1435.34,413.978 1436.41,414.121 1437.49,414.288 1438.56,414.477 1439.63,414.69 1440.71,414.926 1441.78,415.185 1442.85,415.467 1443.93,415.773 1445,416.101 1446.07,416.452 1447.14,416.826 1448.22,417.222 1449.29,417.642 1450.36,418.084 1451.43,418.548 1452.5,419.035 1453.57,419.544 1454.65,420.075 1455.72,420.628 1456.79,421.203 1457.86,421.799 1458.93,422.417 1460,423.057 1461.07,423.717 1462.15,424.399 1463.22,425.101 1464.29,425.824 1465.36,426.567 1466.43,427.33 1467.5,428.113 1468.58,428.916 1469.65,429.738 1470.72,430.58 1471.79,431.441 1472.87,432.32 1473.94,433.218 1475.02,434.134 1476.09,435.068 1477.16,436.02 1478.24,436.989 1479.31,437.976 1480.39,438.979 1481.46,439.999 1482.54,441.035 1483.62,442.088 1484.69,443.156 1485.77,444.24 1486.85,445.339 1487.93,446.453 1489.01,447.581 1490.08,448.724 1491.16,449.881 1492.24,451.051 1493.32,452.236 1494.41,453.433 1495.49,454.643 1496.57,455.865 1497.65,457.1 1498.73,458.347 1499.82,459.605 1500.9,460.875 1501.99,462.156 1503.07,463.448 1504.16,464.75 1505.25,466.062 1506.33,467.384 1507.42,468.716 1508.51,470.057 1509.6,471.407 1510.69,472.766 1511.78,474.133 1512.87,475.508 1513.96,476.891 1515.05,478.282 1516.14,479.68 1517.24,481.086 1518.33,482.498 1519.42,483.916 1520.52,485.341 1521.61,486.772 1522.71,488.208 1523.81,489.65 1524.9,491.097 1526,492.549 1527.1,494.006 1528.2,495.468 1529.3,496.933 1530.4,498.403 1531.5,499.876 1532.6,501.353 1533.7,502.834 1534.8,504.317 1535.91,505.803 1537.01,507.292 1538.11,508.783 1539.22,510.277 1540.32,511.772 1541.43,513.27 1542.54,514.769 1543.64,516.269 1544.75,517.771 1545.86,519.273 1546.97,520.777 447.737,1133.05 \"/>\n",
       "<path clip-path=\"url(#clip180)\" d=\"M1986.07 322.316 L2281.36 322.316 L2281.36 166.796 L1986.07 166.796  Z\" fill=\"#ffffff\" fill-rule=\"evenodd\" fill-opacity=\"1\"/>\n",
       "<polyline clip-path=\"url(#clip180)\" style=\"stroke:#000000; stroke-linecap:round; stroke-linejoin:round; stroke-width:4; stroke-opacity:1; fill:none\" points=\"1986.07,322.316 2281.36,322.316 2281.36,166.796 1986.07,166.796 1986.07,322.316 \"/>\n",
       "<polyline clip-path=\"url(#clip180)\" style=\"stroke:#009af9; stroke-linecap:round; stroke-linejoin:round; stroke-width:8; stroke-opacity:1; fill:none\" points=\"2009.87,218.636 2152.67,218.636 \"/>\n",
       "<path clip-path=\"url(#clip180)\" d=\"M2191.65 213.971 Q2190.94 213.555 2190.08 213.37 Q2189.25 213.161 2188.23 213.161 Q2184.62 213.161 2182.67 215.522 Q2180.75 217.86 2180.75 222.258 L2180.75 235.916 L2176.47 235.916 L2176.47 209.99 L2180.75 209.99 L2180.75 214.018 Q2182.09 211.657 2184.25 210.522 Q2186.4 209.365 2189.48 209.365 Q2189.92 209.365 2190.45 209.434 Q2190.98 209.481 2191.63 209.596 L2191.65 213.971 Z\" fill=\"#000000\" fill-rule=\"nonzero\" fill-opacity=\"1\" /><path clip-path=\"url(#clip180)\" d=\"M2217.25 221.888 L2217.25 223.971 L2197.67 223.971 Q2197.95 228.369 2200.31 230.684 Q2202.69 232.976 2206.93 232.976 Q2209.38 232.976 2211.68 232.374 Q2213.99 231.772 2216.26 230.569 L2216.26 234.596 Q2213.97 235.568 2211.56 236.078 Q2209.15 236.587 2206.68 236.587 Q2200.47 236.587 2196.84 232.976 Q2193.23 229.365 2193.23 223.207 Q2193.23 216.842 2196.65 213.115 Q2200.1 209.365 2205.94 209.365 Q2211.17 209.365 2214.2 212.745 Q2217.25 216.101 2217.25 221.888 M2213 220.638 Q2212.95 217.143 2211.03 215.059 Q2209.13 212.976 2205.98 212.976 Q2202.42 212.976 2200.26 214.99 Q2198.13 217.004 2197.81 220.661 L2213 220.638 Z\" fill=\"#000000\" fill-rule=\"nonzero\" fill-opacity=\"1\" /><path clip-path=\"url(#clip180)\" d=\"M2237.37 199.897 L2237.37 203.439 L2233.3 203.439 Q2231 203.439 2230.1 204.365 Q2229.22 205.291 2229.22 207.698 L2229.22 209.99 L2236.24 209.99 L2236.24 213.3 L2229.22 213.3 L2229.22 235.916 L2224.94 235.916 L2224.94 213.3 L2220.87 213.3 L2220.87 209.99 L2224.94 209.99 L2224.94 208.184 Q2224.94 203.856 2226.95 201.888 Q2228.97 199.897 2233.34 199.897 L2237.37 199.897 Z\" fill=\"#000000\" fill-rule=\"nonzero\" fill-opacity=\"1\" /><polyline clip-path=\"url(#clip180)\" style=\"stroke:#e26f46; stroke-linecap:round; stroke-linejoin:round; stroke-width:8; stroke-opacity:1; fill:none\" stroke-dasharray=\"32, 20\" points=\"2009.87,270.476 2152.67,270.476 \"/>\n",
       "<path clip-path=\"url(#clip180)\" d=\"M2191.65 265.811 Q2190.94 265.395 2190.08 265.21 Q2189.25 265.001 2188.23 265.001 Q2184.62 265.001 2182.67 267.362 Q2180.75 269.7 2180.75 274.098 L2180.75 287.756 L2176.47 287.756 L2176.47 261.83 L2180.75 261.83 L2180.75 265.858 Q2182.09 263.497 2184.25 262.362 Q2186.4 261.205 2189.48 261.205 Q2189.92 261.205 2190.45 261.274 Q2190.98 261.321 2191.63 261.436 L2191.65 265.811 Z\" fill=\"#000000\" fill-rule=\"nonzero\" fill-opacity=\"1\" /><path clip-path=\"url(#clip180)\" d=\"M2217.25 273.728 L2217.25 275.811 L2197.67 275.811 Q2197.95 280.209 2200.31 282.524 Q2202.69 284.816 2206.93 284.816 Q2209.38 284.816 2211.68 284.214 Q2213.99 283.612 2216.26 282.409 L2216.26 286.436 Q2213.97 287.408 2211.56 287.918 Q2209.15 288.427 2206.68 288.427 Q2200.47 288.427 2196.84 284.816 Q2193.23 281.205 2193.23 275.047 Q2193.23 268.682 2196.65 264.955 Q2200.1 261.205 2205.94 261.205 Q2211.17 261.205 2214.2 264.585 Q2217.25 267.941 2217.25 273.728 M2213 272.478 Q2212.95 268.983 2211.03 266.899 Q2209.13 264.816 2205.98 264.816 Q2202.42 264.816 2200.26 266.83 Q2198.13 268.844 2197.81 272.501 L2213 272.478 Z\" fill=\"#000000\" fill-rule=\"nonzero\" fill-opacity=\"1\" /><path clip-path=\"url(#clip180)\" d=\"M2236.03 274.723 Q2230.87 274.723 2228.88 275.904 Q2226.88 277.084 2226.88 279.932 Q2226.88 282.2 2228.37 283.543 Q2229.87 284.862 2232.44 284.862 Q2235.98 284.862 2238.11 282.362 Q2240.26 279.839 2240.26 275.672 L2240.26 274.723 L2236.03 274.723 M2244.52 272.964 L2244.52 287.756 L2240.26 287.756 L2240.26 283.821 Q2238.81 286.182 2236.63 287.316 Q2234.45 288.427 2231.31 288.427 Q2227.32 288.427 2224.96 286.205 Q2222.63 283.959 2222.63 280.209 Q2222.63 275.834 2225.54 273.612 Q2228.48 271.39 2234.29 271.39 L2240.26 271.39 L2240.26 270.973 Q2240.26 268.034 2238.32 266.436 Q2236.4 264.816 2232.9 264.816 Q2230.68 264.816 2228.57 265.348 Q2226.47 265.881 2224.52 266.946 L2224.52 263.01 Q2226.86 262.108 2229.06 261.668 Q2231.26 261.205 2233.34 261.205 Q2238.97 261.205 2241.75 264.122 Q2244.52 267.038 2244.52 272.964 Z\" fill=\"#000000\" fill-rule=\"nonzero\" fill-opacity=\"1\" /><path clip-path=\"url(#clip180)\" d=\"M2253.3 251.737 L2257.56 251.737 L2257.56 287.756 L2253.3 287.756 L2253.3 251.737 Z\" fill=\"#000000\" fill-rule=\"nonzero\" fill-opacity=\"1\" /></svg>\n"
      ]
     },
     "metadata": {},
     "output_type": "display_data"
    }
   ],
   "source": [
    "Xsim_m = mat_from_vec(Xref[1:1:Nsim])\n",
    "plot(Xsim_m[2,:],Xsim_m[1,:],label=\"ref\",\n",
    "linestyle=:solid, linewidth=2,\n",
    "             title=\"State History\", xlabel=\"y\", ylabel=\"x\")\n",
    "Xsim_m = mat_from_vec(xhist[1:1:Nsim])   \n",
    "display(plot!(Xsim_m[2,:],Xsim_m[1,:],label=\"real\", linestyle=:dash, linewidth=2,\n",
    "             title=\"State History\", xlabel=\"y\", ylabel=\"x\", aspect_ratio=:equal))"
   ]
  },
  {
   "cell_type": "code",
   "execution_count": 344,
   "metadata": {},
   "outputs": [],
   "source": [
    "Xsim_m = mat_from_vec(xhist[1:Nsim]-0*Xref[1:Nsim])   \n",
    "Usim_m = mat_from_vec(uhist[1:Nsim-1])   \n",
    "display(plot(Xsim_m[1:7,:]',label=[\"x\" \"y\" \"z\" \"qw\" \"qx\" \"qy\" \"qz\"],\n",
    "linestyle=[:solid :solid :solid :dash :dash :dash :dash], linewidth=[2 2 2 2 2 2 2],\n",
    "             title=\"State History\", xlabel=\"time (s)\", ylabel=\"x\"))\n",
    "display(plot(Usim_m',label=[\"u₁\" \"u₂\" \"u₃\" \"u₄\"],\n",
    "             title=\"Input History\", linewidth=[2 2 2 2 2 2 2],\n",
    "             xlabel=\"time (s)\", ylabel=\"u\"))\n",
    "norm(xhist[1:Nsim]-0*Xref[1:Nsim])"
   ]
  },
  {
   "cell_type": "code",
   "execution_count": null,
   "metadata": {},
   "outputs": [],
   "source": [
    "Xsim_m = mat_from_vec(xhist[1:Nsim])   \n",
    "Usim_m = mat_from_vec(uhist[1:Nsim-1])   \n",
    "display(plot(Xsim_m[1:7,:]',label=[\"x\" \"y\" \"z\" \"qw\" \"qx\" \"qy\" \"qz\"],\n",
    "linestyle=[:solid :solid :solid :dash :dash :dash :dash], linewidth=[2 2 2 2 2 2 2],\n",
    "             title=\"State History\", xlabel=\"time (s)\", ylabel=\"x\"))\n",
    "display(plot(Usim_m',label=[\"u₁\" \"u₂\" \"u₃\" \"u₄\"],\n",
    "             title=\"Input History\", linewidth=[2 2 2 2 2 2 2],\n",
    "             xlabel=\"time (s)\", ylabel=\"u\"))\n",
    "norm(xhist[1:Nsim]-0*Xref[1:Nsim])            "
   ]
  },
  {
   "cell_type": "code",
   "execution_count": null,
   "metadata": {},
   "outputs": [],
   "source": [
    "# function export_mat_to_eigen(prefix, data)\n",
    "#   str = prefix * \"\\n\"\n",
    "#   for i = 1:size(data, 1)\n",
    "#       for j = 1:size(data, 2)\n",
    "#           this_str = @sprintf(\"%.6f\", data[i, j])\n",
    "#           str = str * this_str * \"f\"\n",
    "#           if (i == size(data, 1) && j == size(data, 2))\n",
    "#             str = str * \").finished();\"\n",
    "#           else\n",
    "#             str = str * \",\"\n",
    "#           end\n",
    "#       end\n",
    "#       str = str * \"\\n\"\n",
    "#   end\n",
    "#   str = str * \"\\n\"\n",
    "#   return str\n",
    "# end\n",
    "\n",
    "function export_mat_to_eigen(prefix, data)\n",
    "  str = prefix * \"\\n\"\n",
    "  for i = 1:size(data, 1)\n",
    "      for j = 1:size(data, 2)\n",
    "          this_str = @sprintf(\"%.6f\", data[i, j])\n",
    "          str = str * this_str * \"f\"\n",
    "          if (i == size(data, 1) && j == size(data, 2))\n",
    "            str = str * \";\"\n",
    "          else\n",
    "            str = str * \",\"\n",
    "          end\n",
    "      end\n",
    "      str = str * \"\\n\"\n",
    "  end\n",
    "  str = str * \"\\n\"\n",
    "  return str\n",
    "end\n",
    "\n",
    "@printf(\"%s\",export_mat_to_eigen(\"A << \", Ã))\n",
    "@printf(\"%s\",export_mat_to_eigen(\"B << \", B̃))\n",
    "@printf(\"%s\",export_mat_to_eigen(\"Kinf << \", cache.Kinf))\n",
    "@printf(\"%s\",export_mat_to_eigen(\"Pinf << \", cache.Pinf))\n",
    "@printf(\"%s\",export_mat_to_eigen(\"Quu_inv << \", cache.Quu_inv))\n",
    "@printf(\"%s\",export_mat_to_eigen(\"AmBKt << \",   cache.AmBKt))\n",
    "@printf(\"%s\",export_mat_to_eigen(\"coeff_d2p << \", cache.coeff_d2p))\n",
    "@printf(\"%s\",export_mat_to_eigen(\"Q << \", Q))\n",
    "@printf(\"%s\",export_mat_to_eigen(\"R << \", R))\n",
    "# @printf(\"%s\",export_mat_to_eigen(\"Kinf_data[NINPUTS*NSTATES]\", cache.Kinf2))\n",
    "# @printf(\"%s\",export_mat_to_eigen(\"Pinf_data[NSTATES*NSTATES]\", cache.Pinf2))\n",
    "# @printf(\"%s\",export_mat_to_eigen(\"Quu_inv_data[NINPUTS*NINPUTS]\", cache.Quu_inv2))\n",
    "# @printf(\"%s\",export_mat_to_eigen(\"AmBKt_data[NSTATES*NSTATES]\", cache.AmBKt2))\n",
    "# @printf(\"%s\",export_mat_to_eigen(\"coeff_d2p_data[NSTATES*NINPUTS]\", cache.coeff_d2p2))"
   ]
  },
  {
   "cell_type": "code",
   "execution_count": null,
   "metadata": {},
   "outputs": [],
   "source": [
    "X_ref_data = [Δx̃ref[i][1:12] for i = 1:Nt]\n",
    "# Export a vector of Eigen matrix to C header and source \n",
    "function export_vec_to_c(filename, var_type, var_name, data)\n",
    "  declare = \"static Eigen::\" * var_type * \" \" * var_name\n",
    "  def = declare * \" = {\\n\"\n",
    "  for i=1:length(data)\n",
    "      def = def * \"(Eigen::\" * var_type * \"() << \"\n",
    "      for j=1:length(data[1])\n",
    "          def = def * string(data[i][j])\n",
    "          if j < length(data[1]) \n",
    "              def = def * \",\"\n",
    "          end\n",
    "      end\n",
    "    def = def * \").finished(),\\n\"\n",
    "  end\n",
    "  def = def*\"}\"\n",
    "\n",
    "  open(filename*\".h\",\"a\") do io\n",
    "          println(io, def * \";\\n\")\n",
    "  end\n",
    "  return true\n",
    "end\n",
    "export_vec_to_c(\"data\", \"VectorNf\", \"XrefAll[]\", X_ref_data)"
   ]
  }
 ],
 "metadata": {
  "kernelspec": {
   "display_name": "Julia 1.6.7",
   "language": "julia",
   "name": "julia-1.6"
  },
  "language_info": {
   "file_extension": ".jl",
   "mimetype": "application/julia",
   "name": "julia",
   "version": "1.6.7"
  }
 },
 "nbformat": 4,
 "nbformat_minor": 4
}
