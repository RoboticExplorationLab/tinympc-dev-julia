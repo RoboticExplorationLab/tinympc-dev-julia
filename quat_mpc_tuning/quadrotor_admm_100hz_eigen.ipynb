{
 "cells": [
  {
   "cell_type": "code",
   "execution_count": 1,
   "metadata": {},
   "outputs": [
    {
     "name": "stderr",
     "output_type": "stream",
     "text": [
      "\u001b[32m\u001b[1m  Activating\u001b[22m\u001b[39m environment at `~/SSD/Code/Julia/tinympc-julia/quat_mpc_tuning/Project.toml`\n"
     ]
    },
    {
     "name": "stderr",
     "output_type": "stream",
     "text": [
      "\u001b[32m\u001b[1m    Updating\u001b[22m\u001b[39m "
     ]
    },
    {
     "name": "stderr",
     "output_type": "stream",
     "text": [
      "registry at `~/.julia/registries/General`\n"
     ]
    },
    {
     "name": "stderr",
     "output_type": "stream",
     "text": [
      "\u001b[32m\u001b[1m    Updating\u001b[22m\u001b[39m git-repo `https://github.com/JuliaRegistries/General`\n"
     ]
    },
    {
     "name": "stderr",
     "output_type": "stream",
     "text": [
      "\u001b[32m\u001b[1m   Installed\u001b[22m\u001b[39m Expat_jll ───────────────── v2.5.0+0\n",
      "\u001b[32m\u001b[1m   Installed\u001b[22m\u001b[39m ConcurrentUtilities ─────── v2.2.1\n",
      "\u001b[32m\u001b[1m   Installed\u001b[22m\u001b[39m ChangesOfVariables ──────── v0.1.8\n",
      "\u001b[32m\u001b[1m   Installed\u001b[22m\u001b[39m SpecialFunctions ────────── v2.3.1\n",
      "\u001b[32m\u001b[1m   Installed\u001b[22m\u001b[39m HTTP ────────────────────── v1.9.14\n",
      "\u001b[32m\u001b[1m   Installed\u001b[22m\u001b[39m StaticArrays ────────────── v1.6.2\n"
     ]
    },
    {
     "name": "stderr",
     "output_type": "stream",
     "text": [
      "\u001b[32m\u001b[1m   Installed\u001b[22m\u001b[39m JLLWrappers ─────────────── v1.5.0\n",
      "\u001b[32m\u001b[1m   Installed\u001b[22m\u001b[39m DataStructures ──────────── v0.18.15\n",
      "\u001b[32m\u001b[1m   Installed\u001b[22m\u001b[39m Plots ───────────────────── v1.39.0\n"
     ]
    },
    {
     "name": "stderr",
     "output_type": "stream",
     "text": [
      "\u001b[32m\u001b[1m   Installed\u001b[22m\u001b[39m Parsers ─────────────────── v2.7.2\n"
     ]
    },
    {
     "name": "stderr",
     "output_type": "stream",
     "text": [
      "\u001b[32m\u001b[1m   Installed\u001b[22m\u001b[39m LogExpFunctions ─────────── v0.3.26\n",
      "\u001b[32m\u001b[1m   Installed\u001b[22m\u001b[39m Xorg_xkbcomp_jll ────────── v1.4.6+0\n"
     ]
    },
    {
     "name": "stderr",
     "output_type": "stream",
     "text": [
      "\u001b[32m\u001b[1m   Installed\u001b[22m\u001b[39m ExceptionUnwrapping ─────── v0.1.9\n",
      "\u001b[32m\u001b[1m   Installed\u001b[22m\u001b[39m Unitful ─────────────────── v1.17.0\n",
      "\u001b[32m\u001b[1m   Installed\u001b[22m\u001b[39m Xorg_libXau_jll ─────────── v1.0.11+0\n"
     ]
    },
    {
     "name": "stderr",
     "output_type": "stream",
     "text": [
      "\u001b[32m\u001b[1m   Installed\u001b[22m\u001b[39m URIs ────────────────────── v1.5.0\n"
     ]
    },
    {
     "name": "stderr",
     "output_type": "stream",
     "text": [
      "\u001b[32m\u001b[1m   Installed\u001b[22m\u001b[39m Xorg_libxkbfile_jll ─────── v1.1.2+0\n",
      "\u001b[32m\u001b[1m   Installed\u001b[22m\u001b[39m MacroTools ──────────────── v0.5.11\n"
     ]
    },
    {
     "name": "stderr",
     "output_type": "stream",
     "text": [
      "\u001b[32m\u001b[1m   Installed\u001b[22m\u001b[39m Xorg_libpthread_stubs_jll ─ v0.1.1+0\n",
      "\u001b[32m\u001b[1m   Installed\u001b[22m\u001b[39m InverseFunctions ────────── v0.1.12\n",
      "\u001b[32m\u001b[1m   Installed\u001b[22m\u001b[39m ConstructionBase ────────── v1.5.3\n"
     ]
    },
    {
     "name": "stderr",
     "output_type": "stream",
     "text": [
      "\u001b[32m\u001b[1m   Installed\u001b[22m\u001b[39m Libiconv_jll ────────────── v1.17.0+0\n",
      "\u001b[32m\u001b[1m   Installed\u001b[22m\u001b[39m XML2_jll ────────────────── v2.10.4+0\n",
      "\u001b[32m\u001b[1m   Installed\u001b[22m\u001b[39m OrderedCollections ──────── v1.6.2\n"
     ]
    },
    {
     "name": "stderr",
     "output_type": "stream",
     "text": [
      "\u001b[32m\u001b[1m   Installed\u001b[22m\u001b[39m Xorg_libxcb_jll ─────────── v1.15.0+0\n"
     ]
    },
    {
     "name": "stderr",
     "output_type": "stream",
     "text": [
      "\u001b[32m\u001b[1m   Installed\u001b[22m\u001b[39m Latexify ────────────────── v0.16.1\n"
     ]
    },
    {
     "name": "stderr",
     "output_type": "stream",
     "text": [
      "\u001b[32m\u001b[1m   Installed\u001b[22m\u001b[39m CodecZlib ───────────────── v0.7.2\n",
      "\u001b[32m\u001b[1m   Installed\u001b[22m\u001b[39m LoggingExtras ───────────── v1.0.2\n",
      "\u001b[32m\u001b[1m   Installed\u001b[22m\u001b[39m PrecompileTools ─────────── v1.2.0\n"
     ]
    },
    {
     "name": "stderr",
     "output_type": "stream",
     "text": [
      "\u001b[32m\u001b[1m   Installed\u001b[22m\u001b[39m OpenSSL_jll ─────────────── v1.1.22+0\n"
     ]
    },
    {
     "name": "stderr",
     "output_type": "stream",
     "text": [
      "\u001b[32m\u001b[1m   Installed\u001b[22m\u001b[39m FreeType2_jll ───────────── v2.13.1+0\n"
     ]
    },
    {
     "name": "stderr",
     "output_type": "stream",
     "text": [
      "\u001b[32m\u001b[1m   Installed\u001b[22m\u001b[39m GR_jll ──────────────────── v0.72.8+0\n",
      "\u001b[32m\u001b[1m   Installed\u001b[22m\u001b[39m Xorg_libX11_jll ─────────── v1.8.6+0\n",
      "\u001b[32m\u001b[1m   Installed\u001b[22m\u001b[39m FiniteDifferences ───────── v0.12.30\n"
     ]
    },
    {
     "name": "stderr",
     "output_type": "stream",
     "text": [
      "\u001b[32m\u001b[1m   Installed\u001b[22m\u001b[39m Compat ──────────────────── v4.9.0\n"
     ]
    },
    {
     "name": "stderr",
     "output_type": "stream",
     "text": [
      "\u001b[32m\u001b[1m   Installed\u001b[22m\u001b[39m Xorg_libXdmcp_jll ───────── v1.1.4+0\n"
     ]
    },
    {
     "name": "stderr",
     "output_type": "stream",
     "text": [
      "\u001b[32m\u001b[1m   Installed\u001b[22m\u001b[39m Xorg_xkeyboard_config_jll ─ v2.39.0+0\n",
      "\u001b[32m\u001b[1m   Installed\u001b[22m\u001b[39m StaticArraysCore ────────── v1.4.2\n"
     ]
    },
    {
     "name": "stderr",
     "output_type": "stream",
     "text": [
      "\u001b[32m\u001b[1m   Installed\u001b[22m\u001b[39m GR ──────────────────────── v0.72.8\n"
     ]
    },
    {
     "name": "stderr",
     "output_type": "stream",
     "text": [
      "\u001b[32m\u001b[1m   Installed\u001b[22m\u001b[39m Xorg_xtrans_jll ─────────── v1.5.0+0\n"
     ]
    },
    {
     "name": "stderr",
     "output_type": "stream",
     "text": [
      "\u001b[32m\u001b[1m   Installed\u001b[22m\u001b[39m ColorSchemes ────────────── v3.23.0\n"
     ]
    },
    {
     "name": "stderr",
     "output_type": "stream",
     "text": [
      "\u001b[32m\u001b[1m    Updating\u001b[22m\u001b[39m `~/SSD/Code/Julia/tinympc-julia/quat_mpc_tuning/Project.toml`\n",
      " \u001b[90m [0a1fb500] \u001b[39m\u001b[92m+ BlockDiagonals v0.1.41\u001b[39m\n",
      " \u001b[90m [91a5bcdd] \u001b[39m\u001b[92m+ Plots v1.39.0\u001b[39m\n",
      "\u001b[32m\u001b[1m    Updating\u001b[22m\u001b[39m `~/SSD/Code/Julia/tinympc-julia/quat_mpc_tuning/Manifest.toml`\n",
      " \u001b[90m [d1d4a3ce] \u001b[39m\u001b[92m+ BitFlags v0.1.7\u001b[39m\n",
      " \u001b[90m [0a1fb500] \u001b[39m\u001b[92m+ BlockDiagonals v0.1.41\u001b[39m\n",
      " \u001b[90m [d360d2e6] \u001b[39m\u001b[92m+ ChainRulesCore v1.16.0\u001b[39m\n",
      " \u001b[90m [9e997f8a] \u001b[39m\u001b[92m+ ChangesOfVariables v0.1.8\u001b[39m\n",
      " \u001b[90m [944b1d66] \u001b[39m\u001b[92m+ CodecZlib v0.7.2\u001b[39m\n",
      " \u001b[90m [35d6a980] \u001b[39m\u001b[92m+ ColorSchemes v3.23.0\u001b[39m\n",
      " \u001b[90m [3da002f7] \u001b[39m\u001b[92m+ ColorTypes v0.11.4\u001b[39m\n",
      " \u001b[90m [c3611d14] \u001b[39m\u001b[92m+ ColorVectorSpace v0.9.10\u001b[39m\n",
      " \u001b[90m [5ae59095] \u001b[39m\u001b[92m+ Colors v0.12.10\u001b[39m\n",
      " \u001b[90m [34da2185] \u001b[39m\u001b[92m+ Compat v4.9.0\u001b[39m\n",
      " \u001b[90m [f0e56b4a] \u001b[39m\u001b[92m+ ConcurrentUtilities v2.2.1\u001b[39m\n",
      " \u001b[90m [187b0558] \u001b[39m\u001b[92m+ ConstructionBase v1.5.3\u001b[39m\n",
      " \u001b[90m [d38c429a] \u001b[39m\u001b[92m+ Contour v0.6.2\u001b[39m\n",
      " \u001b[90m [9a962f9c] \u001b[39m\u001b[92m+ DataAPI v1.15.0\u001b[39m\n",
      " \u001b[90m [864edb3b] \u001b[39m\u001b[92m+ DataStructures v0.18.15\u001b[39m\n",
      " \u001b[90m [ffbed154] \u001b[39m\u001b[92m+ DocStringExtensions v0.9.3\u001b[39m\n",
      " \u001b[90m [460bff9d] \u001b[39m\u001b[92m+ ExceptionUnwrapping v0.1.9\u001b[39m\n",
      " \u001b[90m [c87230d0] \u001b[39m\u001b[92m+ FFMPEG v0.4.1\u001b[39m\n",
      " \u001b[90m [1a297f60] \u001b[39m\u001b[92m+ FillArrays v0.13.11\u001b[39m\n",
      " \u001b[90m [26cc04aa] \u001b[39m\u001b[92m+ FiniteDifferences v0.12.30\u001b[39m\n",
      " \u001b[90m [53c48c17] \u001b[39m\u001b[92m+ FixedPointNumbers v0.8.4\u001b[39m\n",
      " \u001b[90m [59287772] \u001b[39m\u001b[92m+ Formatting v0.4.2\u001b[39m\n",
      " \u001b[90m [28b8d3ca] \u001b[39m\u001b[92m+ GR v0.72.8\u001b[39m\n",
      " \u001b[90m [42e2da0e] \u001b[39m\u001b[92m+ Grisu v1.0.2\u001b[39m\n",
      " \u001b[90m [cd3eb016] \u001b[39m\u001b[92m+ HTTP v1.9.14\u001b[39m\n",
      " \u001b[90m [3587e190] \u001b[39m\u001b[92m+ InverseFunctions v0.1.12\u001b[39m\n",
      " \u001b[90m [92d709cd] \u001b[39m\u001b[92m+ IrrationalConstants v0.2.2\u001b[39m\n",
      " \u001b[90m [1019f520] \u001b[39m\u001b[92m+ JLFzf v0.1.5\u001b[39m\n",
      " \u001b[90m [692b3bcd] \u001b[39m\u001b[92m+ JLLWrappers v1.5.0\u001b[39m\n",
      " \u001b[90m [682c06a0] \u001b[39m\u001b[92m+ JSON v0.21.4\u001b[39m\n",
      " \u001b[90m [b964fa9f] \u001b[39m\u001b[92m+ LaTeXStrings v1.3.0\u001b[39m\n",
      " \u001b[90m [23fbe1c1] \u001b[39m\u001b[92m+ Latexify v0.16.1\u001b[39m\n",
      " \u001b[90m [2ab3a3ac] \u001b[39m\u001b[92m+ LogExpFunctions v0.3.26\u001b[39m\n",
      " \u001b[90m [e6f89c97] \u001b[39m\u001b[92m+ LoggingExtras v1.0.2\u001b[39m\n",
      " \u001b[90m [1914dd2f] \u001b[39m\u001b[92m+ MacroTools v0.5.11\u001b[39m\n",
      " \u001b[90m [739be429] \u001b[39m\u001b[92m+ MbedTLS v1.1.7\u001b[39m\n",
      " \u001b[90m [442fdcdd] \u001b[39m\u001b[92m+ Measures v0.3.2\u001b[39m\n",
      " \u001b[90m [e1d29d7a] \u001b[39m\u001b[92m+ Missings v1.1.0\u001b[39m\n",
      " \u001b[90m [77ba4419] \u001b[39m\u001b[92m+ NaNMath v1.0.2\u001b[39m\n",
      " \u001b[90m [4d8831e6] \u001b[39m\u001b[92m+ OpenSSL v1.4.1\u001b[39m\n",
      " \u001b[90m [bac558e1] \u001b[39m\u001b[92m+ OrderedCollections v1.6.2\u001b[39m\n",
      " \u001b[90m [69de0a69] \u001b[39m\u001b[92m+ Parsers v2.7.2\u001b[39m\n",
      " \u001b[90m [b98c9c47] \u001b[39m\u001b[92m+ Pipe v1.3.0\u001b[39m\n",
      " \u001b[90m [ccf2f8ad] \u001b[39m\u001b[92m+ PlotThemes v3.1.0\u001b[39m\n",
      " \u001b[90m [995b91a9] \u001b[39m\u001b[92m+ PlotUtils v1.3.5\u001b[39m\n",
      " \u001b[90m [91a5bcdd] \u001b[39m\u001b[92m+ Plots v1.39.0\u001b[39m\n",
      " \u001b[90m [aea7be01] \u001b[39m\u001b[92m+ PrecompileTools v1.2.0\u001b[39m\n",
      " \u001b[90m [21216c6a] \u001b[39m\u001b[92m+ Preferences v1.4.0\u001b[39m\n",
      " \u001b[90m [3cdcf5f2] \u001b[39m\u001b[92m+ RecipesBase v1.3.4\u001b[39m\n",
      " \u001b[90m [01d81517] \u001b[39m\u001b[92m+ RecipesPipeline v0.6.12\u001b[39m\n",
      " \u001b[90m [189a3867] \u001b[39m\u001b[92m+ Reexport v1.2.2\u001b[39m\n",
      " \u001b[90m [05181044] \u001b[39m\u001b[92m+ RelocatableFolders v1.0.0\u001b[39m\n",
      " \u001b[90m [ae029012] \u001b[39m\u001b[92m+ Requires v1.3.0\u001b[39m\n",
      " \u001b[90m [708f8203] \u001b[39m\u001b[92m+ Richardson v1.4.0\u001b[39m\n",
      " \u001b[90m [6c6a2e73] \u001b[39m\u001b[92m+ Scratch v1.2.0\u001b[39m\n",
      " \u001b[90m [992d4aef] \u001b[39m\u001b[92m+ Showoff v1.0.3\u001b[39m\n",
      " \u001b[90m [777ac1f9] \u001b[39m\u001b[92m+ SimpleBufferStream v1.1.0\u001b[39m\n",
      " \u001b[90m [a2af1166] \u001b[39m\u001b[92m+ SortingAlgorithms v1.1.1\u001b[39m\n",
      " \u001b[90m [276daf66] \u001b[39m\u001b[92m+ SpecialFunctions v2.3.1\u001b[39m\n",
      " \u001b[90m [90137ffa] \u001b[39m\u001b[92m+ StaticArrays v1.6.2\u001b[39m\n",
      " \u001b[90m [1e83bf80] \u001b[39m\u001b[92m+ StaticArraysCore v1.4.2\u001b[39m\n",
      " \u001b[90m [82ae8749] \u001b[39m\u001b[92m+ StatsAPI v1.6.0\u001b[39m\n",
      " \u001b[90m [2913bbd2] \u001b[39m\u001b[92m+ StatsBase v0.34.0\u001b[39m\n",
      " \u001b[90m [62fd8b95] \u001b[39m\u001b[92m+ TensorCore v0.1.1\u001b[39m\n",
      " \u001b[90m [3bb67fe8] \u001b[39m\u001b[92m+ TranscodingStreams v0.9.13\u001b[39m\n",
      " \u001b[90m [5c2747f8] \u001b[39m\u001b[92m+ URIs v1.5.0\u001b[39m\n",
      " \u001b[90m [1cfade01] \u001b[39m\u001b[92m+ UnicodeFun v0.4.1\u001b[39m\n",
      " \u001b[90m [1986cc42] \u001b[39m\u001b[92m+ Unitful v1.17.0\u001b[39m\n",
      " \u001b[90m [45397f5d] \u001b[39m\u001b[92m+ UnitfulLatexify v1.6.3\u001b[39m\n",
      " \u001b[90m [41fe7b60] \u001b[39m\u001b[92m+ Unzip v0.1.2\u001b[39m\n",
      " \u001b[90m [6e34b625] \u001b[39m\u001b[92m+ Bzip2_jll v1.0.8+0\u001b[39m\n",
      " \u001b[90m [83423d85] \u001b[39m\u001b[92m+ Cairo_jll v1.16.1+1\u001b[39m\n",
      " \u001b[90m [2e619515] \u001b[39m\u001b[92m+ Expat_jll v2.5.0+0\u001b[39m\n"
     ]
    },
    {
     "name": "stderr",
     "output_type": "stream",
     "text": [
      " \u001b[90m [b22a6f82] \u001b[39m\u001b[92m+ FFMPEG_jll v4.4.2+2\u001b[39m\n",
      " \u001b[90m [a3f928ae] \u001b[39m\u001b[92m+ Fontconfig_jll v2.13.93+0\u001b[39m\n",
      " \u001b[90m [d7e528f0] \u001b[39m\u001b[92m+ FreeType2_jll v2.13.1+0\u001b[39m\n",
      " \u001b[90m [559328eb] \u001b[39m\u001b[92m+ FriBidi_jll v1.0.10+0\u001b[39m\n",
      " \u001b[90m [0656b61e] \u001b[39m\u001b[92m+ GLFW_jll v3.3.8+0\u001b[39m\n",
      " \u001b[90m [d2c73de3] \u001b[39m\u001b[92m+ GR_jll v0.72.8+0\u001b[39m\n",
      " \u001b[90m [78b55507] \u001b[39m\u001b[92m+ Gettext_jll v0.21.0+0\u001b[39m\n",
      " \u001b[90m [7746bdde] \u001b[39m\u001b[92m+ Glib_jll v2.74.0+2\u001b[39m\n",
      " \u001b[90m [3b182d85] \u001b[39m\u001b[92m+ Graphite2_jll v1.3.14+0\u001b[39m\n",
      " \u001b[90m [2e76f6c2] \u001b[39m\u001b[92m+ HarfBuzz_jll v2.8.1+1\u001b[39m\n",
      " \u001b[90m [aacddb02] \u001b[39m\u001b[92m+ JpegTurbo_jll v2.1.91+0\u001b[39m\n",
      " \u001b[90m [c1c5ebd0] \u001b[39m\u001b[92m+ LAME_jll v3.100.1+0\u001b[39m\n",
      " \u001b[90m [88015f11] \u001b[39m\u001b[92m+ LERC_jll v3.0.0+1\u001b[39m\n",
      " \u001b[90m [1d63c593] \u001b[39m\u001b[92m+ LLVMOpenMP_jll v15.0.4+0\u001b[39m\n",
      " \u001b[90m [dd4b983a] \u001b[39m\u001b[92m+ LZO_jll v2.10.1+0\u001b[39m\n",
      " \u001b[90m [e9f186c6] \u001b[39m\u001b[92m+ Libffi_jll v3.2.2+1\u001b[39m\n",
      " \u001b[90m [d4300ac3] \u001b[39m\u001b[92m+ Libgcrypt_jll v1.8.7+0\u001b[39m\n",
      " \u001b[90m [7e76a0d4] \u001b[39m\u001b[92m+ Libglvnd_jll v1.6.0+0\u001b[39m\n",
      " \u001b[90m [7add5ba3] \u001b[39m\u001b[92m+ Libgpg_error_jll v1.42.0+0\u001b[39m\n",
      " \u001b[90m [94ce4f54] \u001b[39m\u001b[92m+ Libiconv_jll v1.17.0+0\u001b[39m\n",
      " \u001b[90m [4b2f31a3] \u001b[39m\u001b[92m+ Libmount_jll v2.35.0+0\u001b[39m\n",
      " \u001b[90m [89763e89] \u001b[39m\u001b[92m+ Libtiff_jll v4.4.0+0\u001b[39m\n",
      " \u001b[90m [38a345b3] \u001b[39m\u001b[92m+ Libuuid_jll v2.36.0+0\u001b[39m\n",
      " \u001b[90m [e7412a2a] \u001b[39m\u001b[92m+ Ogg_jll v1.3.5+1\u001b[39m\n",
      " \u001b[90m [458c3c95] \u001b[39m\u001b[92m+ OpenSSL_jll v1.1.22+0\u001b[39m\n",
      " \u001b[90m [efe28fd5] \u001b[39m\u001b[92m+ OpenSpecFun_jll v0.5.5+0\u001b[39m\n",
      " \u001b[90m [91d4177d] \u001b[39m\u001b[92m+ Opus_jll v1.3.2+0\u001b[39m\n",
      " \u001b[90m [30392449] \u001b[39m\u001b[92m+ Pixman_jll v0.42.2+0\u001b[39m\n",
      " \u001b[90m [ea2cea3b] \u001b[39m\u001b[92m+ Qt5Base_jll v5.15.3+2\u001b[39m\n",
      " \u001b[90m [a2964d1f] \u001b[39m\u001b[92m+ Wayland_jll v1.21.0+0\u001b[39m\n",
      " \u001b[90m [2381bf8a] \u001b[39m\u001b[92m+ Wayland_protocols_jll v1.25.0+0\u001b[39m\n",
      " \u001b[90m [02c8fc9c] \u001b[39m\u001b[92m+ XML2_jll v2.10.4+0\u001b[39m\n",
      " \u001b[90m [aed1982a] \u001b[39m\u001b[92m+ XSLT_jll v1.1.34+0\u001b[39m\n",
      " \u001b[90m [4f6342f7] \u001b[39m\u001b[92m+ Xorg_libX11_jll v1.8.6+0\u001b[39m\n",
      " \u001b[90m [0c0b7dd1] \u001b[39m\u001b[92m+ Xorg_libXau_jll v1.0.11+0\u001b[39m\n",
      " \u001b[90m [935fb764] \u001b[39m\u001b[92m+ Xorg_libXcursor_jll v1.2.0+4\u001b[39m\n",
      " \u001b[90m [a3789734] \u001b[39m\u001b[92m+ Xorg_libXdmcp_jll v1.1.4+0\u001b[39m\n",
      " \u001b[90m [1082639a] \u001b[39m\u001b[92m+ Xorg_libXext_jll v1.3.4+4\u001b[39m\n",
      " \u001b[90m [d091e8ba] \u001b[39m\u001b[92m+ Xorg_libXfixes_jll v5.0.3+4\u001b[39m\n",
      " \u001b[90m [a51aa0fd] \u001b[39m\u001b[92m+ Xorg_libXi_jll v1.7.10+4\u001b[39m\n",
      " \u001b[90m [d1454406] \u001b[39m\u001b[92m+ Xorg_libXinerama_jll v1.1.4+4\u001b[39m\n",
      " \u001b[90m [ec84b674] \u001b[39m\u001b[92m+ Xorg_libXrandr_jll v1.5.2+4\u001b[39m\n",
      " \u001b[90m [ea2f1a96] \u001b[39m\u001b[92m+ Xorg_libXrender_jll v0.9.10+4\u001b[39m\n",
      " \u001b[90m [14d82f49] \u001b[39m\u001b[92m+ Xorg_libpthread_stubs_jll v0.1.1+0\u001b[39m\n",
      " \u001b[90m [c7cfdc94] \u001b[39m\u001b[92m+ Xorg_libxcb_jll v1.15.0+0\u001b[39m\n",
      " \u001b[90m [cc61e674] \u001b[39m\u001b[92m+ Xorg_libxkbfile_jll v1.1.2+0\u001b[39m\n",
      " \u001b[90m [12413925] \u001b[39m\u001b[92m+ Xorg_xcb_util_image_jll v0.4.0+1\u001b[39m\n",
      " \u001b[90m [2def613f] \u001b[39m\u001b[92m+ Xorg_xcb_util_jll v0.4.0+1\u001b[39m\n",
      " \u001b[90m [975044d2] \u001b[39m\u001b[92m+ Xorg_xcb_util_keysyms_jll v0.4.0+1\u001b[39m\n",
      " \u001b[90m [0d47668e] \u001b[39m\u001b[92m+ Xorg_xcb_util_renderutil_jll v0.3.9+1\u001b[39m\n",
      " \u001b[90m [c22f9ab0] \u001b[39m\u001b[92m+ Xorg_xcb_util_wm_jll v0.4.1+1\u001b[39m\n",
      " \u001b[90m [35661453] \u001b[39m\u001b[92m+ Xorg_xkbcomp_jll v1.4.6+0\u001b[39m\n",
      " \u001b[90m [33bec58e] \u001b[39m\u001b[92m+ Xorg_xkeyboard_config_jll v2.39.0+0\u001b[39m\n",
      " \u001b[90m [c5fb5394] \u001b[39m\u001b[92m+ Xorg_xtrans_jll v1.5.0+0\u001b[39m\n",
      " \u001b[90m [3161d3a3] \u001b[39m\u001b[92m+ Zstd_jll v1.5.5+0\u001b[39m\n",
      " \u001b[90m [214eeab7] \u001b[39m\u001b[92m+ fzf_jll v0.29.0+0\u001b[39m\n",
      " \u001b[90m [a4ae2306] \u001b[39m\u001b[92m+ libaom_jll v3.4.0+0\u001b[39m\n",
      " \u001b[90m [0ac62f75] \u001b[39m\u001b[92m+ libass_jll v0.15.1+0\u001b[39m\n",
      " \u001b[90m [f638f0a6] \u001b[39m\u001b[92m+ libfdk_aac_jll v2.0.2+0\u001b[39m\n",
      " \u001b[90m [b53b4c65] \u001b[39m\u001b[92m+ libpng_jll v1.6.38+0\u001b[39m\n",
      " \u001b[90m [f27f6e37] \u001b[39m\u001b[92m+ libvorbis_jll v1.3.7+1\u001b[39m\n",
      " \u001b[90m [1270edf5] \u001b[39m\u001b[92m+ x264_jll v2021.5.5+0\u001b[39m\n",
      " \u001b[90m [dfaa095f] \u001b[39m\u001b[92m+ x265_jll v3.5.0+0\u001b[39m\n",
      " \u001b[90m [d8fb68d0] \u001b[39m\u001b[92m+ xkbcommon_jll v1.4.1+0\u001b[39m\n",
      " \u001b[90m [0dad84c5] \u001b[39m\u001b[92m+ ArgTools\u001b[39m\n",
      " \u001b[90m [56f22d72] \u001b[39m\u001b[92m+ Artifacts\u001b[39m\n",
      " \u001b[90m [2a0f44e3] \u001b[39m\u001b[92m+ Base64\u001b[39m\n",
      " \u001b[90m [ade2ca70] \u001b[39m\u001b[92m+ Dates\u001b[39m\n",
      " \u001b[90m [8bb1440f] \u001b[39m\u001b[92m+ DelimitedFiles\u001b[39m\n",
      " \u001b[90m [f43a241f] \u001b[39m\u001b[92m+ Downloads\u001b[39m\n",
      " \u001b[90m [b77e0a4c] \u001b[39m\u001b[92m+ InteractiveUtils\u001b[39m\n",
      " \u001b[90m [b27032c2] \u001b[39m\u001b[92m+ LibCURL\u001b[39m\n",
      " \u001b[90m [76f85450] \u001b[39m\u001b[92m+ LibGit2\u001b[39m\n",
      " \u001b[90m [8f399da3] \u001b[39m\u001b[92m+ Libdl\u001b[39m\n",
      " \u001b[90m [37e2e46d] \u001b[39m\u001b[92m+ LinearAlgebra\u001b[39m\n",
      " \u001b[90m [56ddb016] \u001b[39m\u001b[92m+ Logging\u001b[39m\n",
      " \u001b[90m [d6f4376e] \u001b[39m\u001b[92m+ Markdown\u001b[39m\n",
      " \u001b[90m [a63ad114] \u001b[39m\u001b[92m+ Mmap\u001b[39m\n",
      " \u001b[90m [ca575930] \u001b[39m\u001b[92m+ NetworkOptions\u001b[39m\n",
      " \u001b[90m [44cfe95a] \u001b[39m\u001b[92m+ Pkg\u001b[39m\n",
      " \u001b[90m [de0858da] \u001b[39m\u001b[92m+ Printf\u001b[39m\n",
      " \u001b[90m [3fa0cd96] \u001b[39m\u001b[92m+ REPL\u001b[39m\n",
      " \u001b[90m [9a3f8284] \u001b[39m\u001b[92m+ Random\u001b[39m\n",
      " \u001b[90m [ea8e919c] \u001b[39m\u001b[92m+ SHA\u001b[39m\n",
      " \u001b[90m [9e88b42a] \u001b[39m\u001b[92m+ Serialization\u001b[39m\n",
      " \u001b[90m [6462fe0b] \u001b[39m\u001b[92m+ Sockets\u001b[39m\n",
      " \u001b[90m [2f01184e] \u001b[39m\u001b[92m+ SparseArrays\u001b[39m\n",
      " \u001b[90m [10745b16] \u001b[39m\u001b[92m+ Statistics\u001b[39m\n",
      " \u001b[90m [fa267f1f] \u001b[39m\u001b[92m+ TOML\u001b[39m\n",
      " \u001b[90m [a4e569a6] \u001b[39m\u001b[92m+ Tar\u001b[39m\n",
      " \u001b[90m [8dfed614] \u001b[39m\u001b[92m+ Test\u001b[39m\n",
      " \u001b[90m [cf7118a7] \u001b[39m\u001b[92m+ UUIDs\u001b[39m\n",
      " \u001b[90m [4ec0a83e] \u001b[39m\u001b[92m+ Unicode\u001b[39m\n",
      " \u001b[90m [e66e0078] \u001b[39m\u001b[92m+ CompilerSupportLibraries_jll\u001b[39m\n",
      " \u001b[90m [deac9b47] \u001b[39m\u001b[92m+ LibCURL_jll\u001b[39m\n",
      " \u001b[90m [29816b5a] \u001b[39m\u001b[92m+ LibSSH2_jll\u001b[39m\n",
      " \u001b[90m [c8ffd9c3] \u001b[39m\u001b[92m+ MbedTLS_jll\u001b[39m\n",
      " \u001b[90m [14a3606d] \u001b[39m\u001b[92m+ MozillaCACerts_jll\u001b[39m\n",
      " \u001b[90m [05823500] \u001b[39m\u001b[92m+ OpenLibm_jll\u001b[39m\n",
      " \u001b[90m [efcefdf7] \u001b[39m\u001b[92m+ PCRE2_jll\u001b[39m\n",
      " \u001b[90m [83775a58] \u001b[39m\u001b[92m+ Zlib_jll\u001b[39m\n",
      " \u001b[90m [8e850ede] \u001b[39m\u001b[92m+ nghttp2_jll\u001b[39m\n",
      " \u001b[90m [3f19e933] \u001b[39m\u001b[92m+ p7zip_jll\u001b[39m\n"
     ]
    }
   ],
   "source": [
    "import Pkg; Pkg.activate(@__DIR__); Pkg.instantiate()"
   ]
  },
  {
   "cell_type": "code",
   "execution_count": 2,
   "metadata": {},
   "outputs": [],
   "source": [
    "using LinearAlgebra\n",
    "using BlockDiagonals\n",
    "using ForwardDiff\n",
    "using Plots\n",
    "using Random; \n",
    "using Printf"
   ]
  },
  {
   "cell_type": "code",
   "execution_count": null,
   "metadata": {},
   "outputs": [],
   "source": [
    "#Quaternion stuff\n",
    "function hat(v)\n",
    "    return [0 -v[3] v[2];\n",
    "            v[3] 0 -v[1];\n",
    "            -v[2] v[1] 0]\n",
    "end\n",
    "function L(q)\n",
    "    s = q[1]\n",
    "    v = q[2:4]\n",
    "    L = [s    -v';\n",
    "         v  s*I+hat(v)]\n",
    "    return L\n",
    "end\n",
    "T = Diagonal([1; -ones(3)])\n",
    "H = [zeros(1,3); I]\n",
    "function qtoQ(q)\n",
    "    return H'*T*L(q)*T*L(q)*H\n",
    "end\n",
    "function G(q)\n",
    "    G = L(q)*H\n",
    "end\n",
    "function rptoq(ϕ)\n",
    "    (1/sqrt(1+ϕ'*ϕ))*[1; ϕ]\n",
    "end\n",
    "function qtorp(q)\n",
    "    q[2:4]/q[1]\n",
    "end\n",
    "function E(q)\n",
    "    E = BlockDiagonal([1.0*I(3), G(q), 1.0*I(6)])\n",
    "end"
   ]
  },
  {
   "cell_type": "code",
   "execution_count": null,
   "metadata": {},
   "outputs": [],
   "source": [
    "#Quadrotor parameters\n",
    "m = 0.035\n",
    "ℓ = 0.046\n",
    "J = [16.6e-6 0.83e-6 0.72e-6;\n",
    "    0.83e-6 16.6e-6 1.8e-6;\n",
    "    0.72e-6 1.8e-6 29.3e-6];\n",
    "g = 9.81\n",
    "# thrustToTorque = 0.005964552\n",
    "thrustToTorque = 0.0008\n",
    "ℓ = 0.046/sqrt(2)\n",
    "scale = 65535\n",
    "kt = 2.245365e-6*scale # u is PWM in range [0...1]\n",
    "km = kt*thrustToTorque #4.4733e-8\n",
    "\n",
    "freq1 = 100\n",
    "h = 1/freq1 #50 Hz\n",
    "\n",
    "Nx = 13     # number of states (quaternion)\n",
    "Nx̃ = 12     # number of states (linearized)\n",
    "Nu = 4     # number of controls\n",
    "nx = Nx̃\n",
    "nu = Nu\n",
    "Tfinal = 5.0 # final time\n",
    "Nt = Int(Tfinal/h)+1    # number of time steps\n",
    "t_vec = h*(0:Nt-1)\n",
    "thist = Array(range(0,h*(Nt-1), step=h));"
   ]
  },
  {
   "cell_type": "code",
   "execution_count": null,
   "metadata": {},
   "outputs": [],
   "source": [
    "function quad_dynamics(x,u)\n",
    "  r = x[1:3]\n",
    "  q = x[4:7]/norm(x[4:7]) #normalize q just to be careful\n",
    "  v = x[8:10]\n",
    "  ω = x[11:13]\n",
    "  Q = qtoQ(q)\n",
    "  \n",
    "  ṙ = v\n",
    "  q̇ = 0.5*L(q)*H*ω\n",
    "  \n",
    "  v̇ = [0; 0; -g] + (1/m)*Q*[zeros(2,4); kt*ones(1,4)]*u \n",
    "\n",
    "  ω̇ = J\\(-hat(ω)*J*ω + [-ℓ*kt -ℓ*kt ℓ*kt ℓ*kt; -ℓ*kt ℓ*kt ℓ*kt -ℓ*kt; -km km -km km]*u)\n",
    "  \n",
    "  return [ṙ; q̇; v̇; ω̇]\n",
    "end\n",
    "function quad_dynamics_rk4(x,u,h)\n",
    "  #RK4 integration with zero-order hold on u\n",
    "  f1 = quad_dynamics(x, u)\n",
    "  f2 = quad_dynamics(x + 0.5*h*f1, u)\n",
    "  f3 = quad_dynamics(x + 0.5*h*f2, u)\n",
    "  f4 = quad_dynamics(x + h*f3, u)\n",
    "  xn = x + (h/6.0)*(f1 + 2*f2 + 2*f3 + f4)\n",
    "  xn[4:7] .= xn[4:7]/norm(xn[4:7]) #re-normalize quaternion\n",
    "  return xn\n",
    "end"
   ]
  },
  {
   "cell_type": "code",
   "execution_count": null,
   "metadata": {},
   "outputs": [],
   "source": [
    "#Goal state\n",
    "@show uhover = (m*g/kt/4)*ones(4)  # m = 30g and max thrust = 60g\n",
    "rg = [0.0; 0; 0.0]\n",
    "qg = [1.0; 0; 0; 0]\n",
    "vg = zeros(3)\n",
    "ωg = zeros(3)\n",
    "xg = [rg; qg; vg; ωg];"
   ]
  },
  {
   "cell_type": "code",
   "execution_count": null,
   "metadata": {},
   "outputs": [],
   "source": [
    "#Linearize dynamics about hover\n",
    "A = ForwardDiff.jacobian(x->quad_dynamics_rk4(x,uhover,h),xg)\n",
    "B = ForwardDiff.jacobian(u->quad_dynamics_rk4(xg,u,h),uhover);\n",
    "Ã = Array(E(qg)'*A*E(qg))\n",
    "B̃ = Array(E(qg)'*B);\n",
    "function discrete_dynamics(params,x,u,k)\n",
    "  Ã*x + B̃*u \n",
    "end"
   ]
  },
  {
   "cell_type": "code",
   "execution_count": null,
   "metadata": {},
   "outputs": [],
   "source": [
    "#Linearize dynamics about hover\n",
    "A1 = ForwardDiff.jacobian(x->quad_dynamics(x,uhover),xg)\n",
    "B1 = ForwardDiff.jacobian(u->quad_dynamics(xg,u),uhover);\n",
    "Ã1 = Array(E(qg)'*A1*E(qg))\n",
    "B̃1 = Array(E(qg)'*B1);"
   ]
  },
  {
   "cell_type": "code",
   "execution_count": null,
   "metadata": {},
   "outputs": [],
   "source": [
    "cond(B)"
   ]
  },
  {
   "cell_type": "code",
   "execution_count": null,
   "metadata": {},
   "outputs": [],
   "source": [
    "A1"
   ]
  },
  {
   "cell_type": "code",
   "execution_count": null,
   "metadata": {},
   "outputs": [],
   "source": [
    "@printf(\"%s\",export_mat_to_eigen(\"A << \", Ã))"
   ]
  },
  {
   "cell_type": "code",
   "execution_count": null,
   "metadata": {},
   "outputs": [],
   "source": [
    "# Adaptive step in MPC horizon: use normal dt and model in the first specified \n",
    "# `adaptive_step` steps and after that use the stretch mode (larger dt and model)\n",
    "freq2 = 1\n",
    "h = 1/freq2 #25 Hz stretch interval dynamics\n",
    "#Linearize dynamics about hover\n",
    "As = ForwardDiff.jacobian(x->quad_dynamics_rk4(x,uhover,h),xg)\n",
    "Bs = ForwardDiff.jacobian(u->quad_dynamics_rk4(xg,u,h),uhover);\n",
    "Ãs = Array(E(qg)'*As*E(qg))\n",
    "B̃s = Array(E(qg)'*Bs);\n",
    "function discrete_dynamics_stretch(params,x,u,k)\n",
    "  Ãs*x + B̃s*u\n",
    "end\n"
   ]
  },
  {
   "cell_type": "code",
   "execution_count": null,
   "metadata": {},
   "outputs": [],
   "source": [
    "h = 1/freq1 #50 Hz normal dynamics\n",
    "step_ratio = Int(freq1/freq2)\n",
    "# display(Ãs)\n",
    "# display(Ã)"
   ]
  },
  {
   "cell_type": "code",
   "execution_count": null,
   "metadata": {},
   "outputs": [],
   "source": [
    "# IHLQR terminal cost\n",
    "P = [zeros(nx,nx) for i = 1:200]   # cost to go quadratic term\n",
    "p = [zeros(nx) for i = 1:200]      # cost to go linear term\n",
    "d = [zeros(nu) for i = 1:200-1]    # feedforward control\n",
    "K = [zeros(nu,nx) for i = 1:200-1] # feedback gain\n",
    "\n",
    "# Cost weights\n",
    "# Saved\n",
    "# max_dev_x = [0.1; 0.1; 0.1;  0.5; 0.5; 0.05;  0.5; 0.5; 0.5;  0.5; 0.5; 0.1]\n",
    "# max_dev_u = [0.5; 0.5; 0.5; 0.5]/10\n",
    "max_dev_x = [0.1; 0.1; 0.1;  0.5; 0.5; 0.05;  0.5; 0.5; 0.5;  0.7; 0.7; 0.2]\n",
    "max_dev_u = [0.5; 0.5; 0.5; 0.5]/6\n",
    "Q = diagm(1 ./(max_dev_x.^2))\n",
    "R = diagm(1 ./(max_dev_u.^2))\n",
    "\n",
    "# Q = Array(Diagonal([10; 10; 10; 1; 1; 1; 1; 1; 1; 1; 1; 1.]));\n",
    "# R = Array(1*I(Nu));\n",
    "Qf = 1*Q\n",
    "\n",
    "# PENALTY - important!!\n",
    "ρ = 250.0\n",
    "R̃ = R + ρ*I  \n",
    "\n",
    "display(Q)\n",
    "display(R̃)\n",
    "\n",
    "# Precompute\n",
    "cache = (\n",
    "    Kinf = zeros(nu,nx),\n",
    "    Pinf = zeros(nx,nx),\n",
    "    Kinf2 = zeros(nu,nx),\n",
    "    Pinf2 = zeros(nx,nx),\n",
    "    Quu_inv = zeros(nu,nu),\n",
    "    Quu_inv2 = zeros(nu,nu),\n",
    "    AmBKt = zeros(nx,nx), \n",
    "    AmBKt2 = zeros(nx,nx), #(Ã - B̃*K[1])',\n",
    "    coeff_d2p = zeros(nx,nu), \n",
    "    coeff_d2p2 = zeros(nx,nu), \n",
    ")\n",
    "\n",
    "P[200] .= Q\n",
    "for k = (200-1):-1:1\n",
    "    K[k] .= (R̃ + B̃s'*P[k+1]*B̃s)\\(B̃s'*P[k+1]*Ãs)\n",
    "    P[k] .= Q + Ãs'*P[k+1]*(Ãs - B̃s*K[k])\n",
    "end\n",
    "cache.Kinf2 .= K[1]  # correct, tested with dlqr\n",
    "cache.Pinf2 .= P[1]\n",
    "cache.AmBKt2 .= (Ãs - B̃s*K[1])'\n",
    "for k = (200-1):-1:1\n",
    "    K[k] .= (R̃ + B̃'*P[k+1]*B̃)\\(B̃'*P[k+1]*Ã)\n",
    "    P[k] .= Q + Ã'*P[k+1]*(Ã - B̃*K[k])\n",
    "end\n",
    "cache.Kinf .= K[1]\n",
    "cache.Pinf .= P[1]\n",
    "cache.AmBKt .= (Ã - B̃*K[1])'\n",
    "\n",
    "cache.Quu_inv .= (R̃ + B̃'*cache.Pinf*B̃)\\I\n",
    "display(cond(cache.Quu_inv))\n",
    "cache.Quu_inv2 .= (R̃ + B̃s'*cache.Pinf2*B̃s)\\I\n",
    "\n",
    "cache.coeff_d2p .= cache.Kinf'*R̃ - cache.AmBKt*cache.Pinf*B̃\n",
    "cache.coeff_d2p2 .= cache.Kinf2'*R̃ - cache.AmBKt2*cache.Pinf2*B̃s;"
   ]
  },
  {
   "cell_type": "code",
   "execution_count": null,
   "metadata": {},
   "outputs": [],
   "source": [
    "display(cache.Kinf)\n",
    "# C Language for LQR2 alone\n",
    "@printf(\"FOR C:\\n\");\n",
    "str = \"static float K[NU][NXt] = {\\n\"\n",
    "for i = 1:4\n",
    "  str = str * \"  {\"\n",
    "  for j = 1:12\n",
    "    # if abs(K[i, j]) < 1e-6\n",
    "    #   K[i, j] = 0.0\n",
    "    # end\n",
    "    this_str = @sprintf(\"%.6f\", cache.Kinf[i, j])\n",
    "\n",
    "    str = str * this_str * \"f\"\n",
    "    if j < 12\n",
    "      str = str * \",\"\n",
    "    end\n",
    "  end\n",
    "  str = str * \"},\\n\"\n",
    "end\n",
    "str = str * \"};\"\n",
    "@printf(\"%s\",str)"
   ]
  },
  {
   "cell_type": "code",
   "execution_count": null,
   "metadata": {},
   "outputs": [],
   "source": [
    "#Feedback tracking controller\n",
    "include(\"tinyMPC-ADMM-dt.jl\")\n",
    "N = 3\n",
    "dt = 1/freq1\n",
    "Tfinal = 10.0 # final time\n",
    "Nt = Int(Tfinal/h)+1    # number of time steps\n",
    "t_vec = h*(0:Nt-1)\n",
    "\n",
    "\n",
    "#Create trajectory to follow\n",
    "Xref = [[zeros(3); 1; zeros(9)] for i = 1:Nt]\n",
    "Δx̃ref = [zeros(nx) for i = 1:Nt]\n",
    "ΔUref = [zeros(nu) for i = 1:Nt-1]\n",
    "\n",
    "## Hovering\n",
    "# Xref = [xg for i = 1:Nt]\n",
    "\n",
    "## Number-eight\n",
    "# Xref = [[1*cos(t)*sin(t);1*cos(t);0.5;1;zeros(9)] for t = range(-pi/2, 3*pi/2, length = Nt)]  \n",
    "\n",
    "## Triangle\n",
    "p0 = [0; 0; 1.0]; p1 = [3; 4; 1.]; p2 = [0; 8; 1.]; p3 = [0; -2; 1.0]\n",
    "range1 = collect(LinRange(p0, p1, round(Int,(Nt)/3)))\n",
    "range2 = collect(LinRange(p1, p2, round(Int,(Nt)/3)))\n",
    "range3 = collect(LinRange(p2, p3, round(Int,(Nt)/3)+1))\n",
    "range123 = [range1; range2; range3]\n",
    "for k = 1:Nt\n",
    "    Xref[k][1:3] .= range123[k]\n",
    "end\n",
    "\n",
    "# Square\n",
    "# p0 = [0; 0; 0.5]; p1 = [2; 0; 0.5]; p2 = [2; 2; 0.5]; p3 = [0; 2; 0.5]\n",
    "# range1 = collect(LinRange(p0, p1, round(Int,(Nt)/4)))\n",
    "# range2 = collect(LinRange(p1, p2, round(Int,(Nt)/4)))\n",
    "# range3 = collect(LinRange(p2, p3, round(Int,(Nt)/4)))\n",
    "# range4 = collect(LinRange(p3, p0, round(Int,(Nt)/4)+1))\n",
    "# range1234 = [range1; range2; range3; range4]\n",
    "# for k = 1:Nt\n",
    "#     Xref[k][1:3] .= range1234[k]\n",
    "# end\n",
    "\n",
    "# Velocity reference: speeds up the tracking but less smooth\n",
    "for i = 1:Nt-1\n",
    "    Xref[i][8:10] = (Xref[i+1][1:3] - Xref[i][1:3])/dt/1.0\n",
    "end\n",
    "for k = 1:Nt\n",
    "    x = Xref[k]\n",
    "    q = x[4:7]\n",
    "    ϕ = qtorp(L(qg)'*q)   \n",
    "    Δx̃ref[k] .= [x[1:3]-rg; ϕ; x[8:10]-vg; x[11:13]-ωg]\n",
    "end\n",
    "\n",
    "\n",
    "u_min = -uhover #-0.5*ones(nu)\n",
    "u_max =  1 .- uhover #0.5*ones(nu)\n",
    "\n",
    "# state is x y v θ\n",
    "x_min = -100*ones(nx)\n",
    "x_min[3] = -0.2\n",
    "x_max = 100*ones(nx)\n",
    "x_max[3] = 0.2\n",
    "\n",
    "# previous MPC iterate\n",
    "X = [zeros(nx) for i = 1:N]\n",
    "U = [zeros(nu) for k = 1:N-1]\n",
    "Z = [zeros(nu) for i = 1:N-1]\n",
    "Znew = [zeros(nu) for i = 1:N-1]\n",
    "Y = [zeros(nu) for i = 1:N-1]\n",
    "\n",
    "params = (\n",
    "    nx = nx, nu = nu,\n",
    "    N = N, Q = Q, R = R, Qf = Qf,\n",
    "    u_min = u_min, u_max = u_max,\n",
    "    x_min = x_min, x_max = x_max,\n",
    "    Xref = Δx̃ref, Uref = ΔUref, dt = dt, cache = cache\n",
    ");\n",
    "\n",
    "\n",
    "P = [zeros(nx,nx) for i = 1:N]   # cost to go quadratic term\n",
    "p = [zeros(nx) for i = 1:N]      # cost to go linear term\n",
    "d = [zeros(nu) for i = 1:N-1]    # feedforward control\n",
    "K = [zeros(nu,nx) for i = 1:N-1] # feedback gain\n",
    "qq = [zeros(nx) for i = 1:N]\n",
    "r = [zeros(nu) for i = 1:N-1]\n",
    "\n",
    "verbose = 0\n",
    "adaptive_step = 0\n",
    "iters = zeros(1000)\n",
    "function controller_mpc(params, x, k)\n",
    "    q = x[4:7]\n",
    "    ϕ = qtorp(L(qg)'*q)\n",
    "    \n",
    "    Δx̃ = [x[1:3]-rg; ϕ; x[8:10]-vg; x[11:13]-ωg]\n",
    "    X[1] .= Δx̃\n",
    "    u, status, iters[k] = solve_admm!(params,qq,R̃,r,P,p,K,d,X,U,Z,Znew,Y; ρ=ρ,abs_tol=1e-2,max_iter=100,adaptive_step=adaptive_step)\n",
    "    # u = -cache.Kinf*(Δx̃ - Δx̃ref[k])\n",
    "    # display(iters[k])\n",
    "    # status == 0 && display(\"Max iteration reached\")\n",
    "    return u + uhover\n",
    "end\n",
    "\n",
    "#ASK: Do I need to stretch the reference?\n",
    "function update_reference(params, k)\n",
    "    Uref_ = 1*ΔUref[k:N+k-2]\n",
    "    Xref_ = 1*Δx̃ref[k:N+k-1]\n",
    "\n",
    "    if (adaptive_step > 0)\n",
    "        for i = 3:N-1\n",
    "            Uref_[i] .= ΔUref[k+1+(i-2)*step_ratio]\n",
    "            Xref_[i] .= Δx̃ref[k+1+(i-2)*step_ratio]\n",
    "        end\n",
    "        Xref_[N] .= Δx̃ref[k+1+(N-2)*step_ratio]\n",
    "        # for i = 3:N-1\n",
    "        #     Xref_[i][7:9] = (Xref_[i+1][1:3] - Xref_[i][1:3])/freq2\n",
    "        # end\n",
    "    end\n",
    "\n",
    "    params1 = (; params..., Uref = Uref_, Xref = Xref_)  # update ref\n",
    "    return params1\n",
    "end\n"
   ]
  },
  {
   "cell_type": "code",
   "execution_count": null,
   "metadata": {},
   "outputs": [],
   "source": [
    "# Simulation\n",
    "uhist = [zeros(Nu) for i in 1:Nt-1]\n",
    "xhist = [zeros(Nx) for i in 1:Nt]\n",
    "Random.seed!(12);\n",
    "# xhist[1] .= [rg+0*randn(3)/3; L(qg)*rptoq([1; 0; 0]); vg; ωg]  # initial conditions\n",
    "# xhist[1] .= Xref[1]\n",
    "xhist[1] .= Xref[1]; xhist[1][1:3] += rand(3)*0.2\n",
    "backward_pass!(Q,qq,R̃,r,P,p,K,d,params,adaptive_step)\n",
    "Nsim = Nt - 100 - 1\n",
    "for k = 1:Nsim\n",
    "# for k = 1:3\n",
    "    params1 = update_reference(params, k)\n",
    "    # display(params1.Xref)\n",
    "    # display(xhist[k])\n",
    "    # shift_fill(U)\n",
    "    uhist[k] = controller_mpc(params1, xhist[k], k)\n",
    "    uhist[k] = clamp.(uhist[k], (uhover+u_min)[1], (uhover+u_max)[1])\n",
    "    xhist[k+1] = quad_dynamics_rk4(xhist[k],uhist[k],h) \n",
    "end"
   ]
  },
  {
   "cell_type": "code",
   "execution_count": null,
   "metadata": {},
   "outputs": [],
   "source": [
    "maximum(iters)"
   ]
  },
  {
   "cell_type": "code",
   "execution_count": null,
   "metadata": {},
   "outputs": [],
   "source": [
    "Xsim_m = mat_from_vec(Xref[1:Nsim])\n",
    "plot(Xsim_m[2,:],Xsim_m[1,:],label=\"ref\",\n",
    "linestyle=:solid, linewidth=2,\n",
    "             title=\"State History\", xlabel=\"y\", ylabel=\"x\")\n",
    "Xsim_m = mat_from_vec(xhist[1:Nsim])   \n",
    "display(plot!(Xsim_m[2,:],Xsim_m[1,:],label=\"real\", linestyle=:dash, linewidth=2,\n",
    "             title=\"State History\", xlabel=\"y\", ylabel=\"x\", aspect_ratio=:equal))"
   ]
  },
  {
   "cell_type": "code",
   "execution_count": null,
   "metadata": {},
   "outputs": [],
   "source": [
    "Xsim_m = mat_from_vec(Xref[1:1:Nsim])\n",
    "plot(Xsim_m[2,:],Xsim_m[1,:],label=\"ref\",\n",
    "linestyle=:solid, linewidth=2,\n",
    "             title=\"State History\", xlabel=\"y\", ylabel=\"x\")\n",
    "Xsim_m = mat_from_vec(xhist[1:1:Nsim])   \n",
    "display(plot!(Xsim_m[2,:],Xsim_m[1,:],label=\"real\", linestyle=:dash, linewidth=2,\n",
    "             title=\"State History\", xlabel=\"y\", ylabel=\"x\", aspect_ratio=:equal))"
   ]
  },
  {
   "cell_type": "code",
   "execution_count": null,
   "metadata": {},
   "outputs": [],
   "source": [
    "Xsim_m = mat_from_vec(xhist[1:Nsim]-0*Xref[1:Nsim])   \n",
    "Usim_m = mat_from_vec(uhist[1:Nsim-1])   \n",
    "display(plot(Xsim_m[1:7,:]',label=[\"x\" \"y\" \"z\" \"qw\" \"qx\" \"qy\" \"qz\"],\n",
    "linestyle=[:solid :solid :solid :dash :dash :dash :dash], linewidth=[2 2 2 2 2 2 2],\n",
    "             title=\"State History\", xlabel=\"time (s)\", ylabel=\"x\"))\n",
    "display(plot(Usim_m',label=[\"u₁\" \"u₂\" \"u₃\" \"u₄\"],\n",
    "             title=\"Input History\", linewidth=[2 2 2 2 2 2 2],\n",
    "             xlabel=\"time (s)\", ylabel=\"u\"))\n",
    "norm(xhist[1:Nsim]-0*Xref[1:Nsim])"
   ]
  },
  {
   "cell_type": "code",
   "execution_count": null,
   "metadata": {},
   "outputs": [],
   "source": [
    "Xsim_m = mat_from_vec(xhist[1:Nsim])   \n",
    "Usim_m = mat_from_vec(uhist[1:Nsim-1])   \n",
    "display(plot(Xsim_m[1:7,:]',label=[\"x\" \"y\" \"z\" \"qw\" \"qx\" \"qy\" \"qz\"],\n",
    "linestyle=[:solid :solid :solid :dash :dash :dash :dash], linewidth=[2 2 2 2 2 2 2],\n",
    "             title=\"State History\", xlabel=\"time (s)\", ylabel=\"x\"))\n",
    "display(plot(Usim_m',label=[\"u₁\" \"u₂\" \"u₃\" \"u₄\"],\n",
    "             title=\"Input History\", linewidth=[2 2 2 2 2 2 2],\n",
    "             xlabel=\"time (s)\", ylabel=\"u\"))\n",
    "norm(xhist[1:Nsim]-0*Xref[1:Nsim])            "
   ]
  },
  {
   "cell_type": "code",
   "execution_count": null,
   "metadata": {},
   "outputs": [],
   "source": [
    "# function export_mat_to_eigen(prefix, data)\n",
    "#   str = prefix * \"\\n\"\n",
    "#   for i = 1:size(data, 1)\n",
    "#       for j = 1:size(data, 2)\n",
    "#           this_str = @sprintf(\"%.6f\", data[i, j])\n",
    "#           str = str * this_str * \"f\"\n",
    "#           if (i == size(data, 1) && j == size(data, 2))\n",
    "#             str = str * \").finished();\"\n",
    "#           else\n",
    "#             str = str * \",\"\n",
    "#           end\n",
    "#       end\n",
    "#       str = str * \"\\n\"\n",
    "#   end\n",
    "#   str = str * \"\\n\"\n",
    "#   return str\n",
    "# end\n",
    "\n",
    "function export_mat_to_eigen(prefix, data)\n",
    "  str = prefix * \"\\n\"\n",
    "  for i = 1:size(data, 1)\n",
    "      for j = 1:size(data, 2)\n",
    "          this_str = @sprintf(\"%.6f\", data[i, j])\n",
    "          str = str * this_str * \"f\"\n",
    "          if (i == size(data, 1) && j == size(data, 2))\n",
    "            str = str * \";\"\n",
    "          else\n",
    "            str = str * \",\"\n",
    "          end\n",
    "      end\n",
    "      str = str * \"\\n\"\n",
    "  end\n",
    "  str = str * \"\\n\"\n",
    "  return str\n",
    "end\n",
    "\n",
    "@printf(\"%s\",export_mat_to_eigen(\"A << \", Ã))\n",
    "@printf(\"%s\",export_mat_to_eigen(\"B << \", B̃))\n",
    "@printf(\"%s\",export_mat_to_eigen(\"Kinf << \", cache.Kinf))\n",
    "@printf(\"%s\",export_mat_to_eigen(\"Pinf << \", cache.Pinf))\n",
    "@printf(\"%s\",export_mat_to_eigen(\"Quu_inv << \", cache.Quu_inv))\n",
    "@printf(\"%s\",export_mat_to_eigen(\"AmBKt << \",   cache.AmBKt))\n",
    "@printf(\"%s\",export_mat_to_eigen(\"coeff_d2p << \", cache.coeff_d2p))\n",
    "@printf(\"%s\",export_mat_to_eigen(\"Q << \", Q))\n",
    "@printf(\"%s\",export_mat_to_eigen(\"R << \", R))\n",
    "# @printf(\"%s\",export_mat_to_eigen(\"Kinf_data[NINPUTS*NSTATES]\", cache.Kinf2))\n",
    "# @printf(\"%s\",export_mat_to_eigen(\"Pinf_data[NSTATES*NSTATES]\", cache.Pinf2))\n",
    "# @printf(\"%s\",export_mat_to_eigen(\"Quu_inv_data[NINPUTS*NINPUTS]\", cache.Quu_inv2))\n",
    "# @printf(\"%s\",export_mat_to_eigen(\"AmBKt_data[NSTATES*NSTATES]\", cache.AmBKt2))\n",
    "# @printf(\"%s\",export_mat_to_eigen(\"coeff_d2p_data[NSTATES*NINPUTS]\", cache.coeff_d2p2))"
   ]
  },
  {
   "cell_type": "code",
   "execution_count": null,
   "metadata": {},
   "outputs": [],
   "source": [
    "X_ref_data = [Δx̃ref[i][1:12] for i = 1:Nt]\n",
    "# Export a vector of Eigen matrix to C header and source \n",
    "function export_vec_to_c(filename, var_type, var_name, data)\n",
    "  declare = \"static Eigen::\" * var_type * \" \" * var_name\n",
    "  def = declare * \" = {\\n\"\n",
    "  for i=1:length(data)\n",
    "      def = def * \"(Eigen::\" * var_type * \"() << \"\n",
    "      for j=1:length(data[1])\n",
    "          def = def * string(data[i][j])\n",
    "          if j < length(data[1]) \n",
    "              def = def * \",\"\n",
    "          end\n",
    "      end\n",
    "    def = def * \").finished(),\\n\"\n",
    "  end\n",
    "  def = def*\"}\"\n",
    "\n",
    "  open(filename*\".h\",\"a\") do io\n",
    "          println(io, def * \";\\n\")\n",
    "  end\n",
    "  return true\n",
    "end\n",
    "export_vec_to_c(\"data\", \"VectorNf\", \"XrefAll[]\", X_ref_data)"
   ]
  }
 ],
 "metadata": {
  "kernelspec": {
   "display_name": "Julia 1.6.7",
   "language": "julia",
   "name": "julia-1.6"
  },
  "language_info": {
   "file_extension": ".jl",
   "mimetype": "application/julia",
   "name": "julia",
   "version": "1.6.7"
  }
 },
 "nbformat": 4,
 "nbformat_minor": 4
}
