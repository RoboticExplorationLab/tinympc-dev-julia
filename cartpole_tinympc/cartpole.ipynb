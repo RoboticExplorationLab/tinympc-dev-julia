{
 "cells": [
  {
   "cell_type": "code",
   "execution_count": 1,
   "metadata": {},
   "outputs": [
    {
     "name": "stderr",
     "output_type": "stream",
     "text": [
      "\u001b[32m\u001b[1m  Activating\u001b[22m\u001b[39m environment at `~/SSD/Code/Julia/tinympc-julia/cartpole_tinympc/Project.toml`\n"
     ]
    },
    {
     "name": "stderr",
     "output_type": "stream",
     "text": [
      "\u001b[32m\u001b[1mPrecompiling\u001b[22m\u001b[39m "
     ]
    },
    {
     "name": "stderr",
     "output_type": "stream",
     "text": [
      "project...\n"
     ]
    },
    {
     "name": "stderr",
     "output_type": "stream",
     "text": [
      "\u001b[32m  ✓ \u001b[39m\u001b[90mLaTeXStrings\u001b[39m\n"
     ]
    },
    {
     "name": "stderr",
     "output_type": "stream",
     "text": [
      "\u001b[32m  ✓ \u001b[39m\u001b[90mConcurrentUtilities\u001b[39m\n",
      "\u001b[32m  ✓ \u001b[39m\u001b[90mLoggingExtras\u001b[39m\n",
      "\u001b[32m  ✓ \u001b[39m\u001b[90mConstructionBase\u001b[39m\n",
      "\u001b[32m  ✓ \u001b[39m\u001b[90mURIs\u001b[39m\n"
     ]
    },
    {
     "name": "stderr",
     "output_type": "stream",
     "text": [
      "\u001b[32m  ✓ \u001b[39m\u001b[90mTranscodingStreams\u001b[39m\n"
     ]
    },
    {
     "name": "stderr",
     "output_type": "stream",
     "text": [
      "\u001b[32m  ✓ \u001b[39m\u001b[90mMbedTLS\u001b[39m\n"
     ]
    },
    {
     "name": "stderr",
     "output_type": "stream",
     "text": [
      "\u001b[32m  ✓ \u001b[39m\u001b[90mCodecZlib\u001b[39m\n"
     ]
    },
    {
     "name": "stderr",
     "output_type": "stream",
     "text": [
      "\u001b[32m  ✓ \u001b[39m\u001b[90mLatexify\u001b[39m\n"
     ]
    },
    {
     "name": "stderr",
     "output_type": "stream",
     "text": [
      "\u001b[32m  ✓ \u001b[39m\u001b[90mHTTP\u001b[39m\n"
     ]
    },
    {
     "name": "stderr",
     "output_type": "stream",
     "text": [
      "\u001b[32m  ✓ \u001b[39m\u001b[90mGR\u001b[39m\n"
     ]
    },
    {
     "name": "stderr",
     "output_type": "stream",
     "text": [
      "\u001b[32m  ✓ \u001b[39m\u001b[90mUnitful\u001b[39m\n"
     ]
    },
    {
     "name": "stderr",
     "output_type": "stream",
     "text": [
      "\u001b[32m  ✓ \u001b[39m\u001b[90mUnitfulLatexify\u001b[39m\n"
     ]
    },
    {
     "name": "stderr",
     "output_type": "stream",
     "text": [
      "\u001b[32m  ✓ \u001b[39mPlots\n"
     ]
    },
    {
     "name": "stderr",
     "output_type": "stream",
     "text": [
      "  14 dependencies successfully precompiled in 72 seconds (138 already precompiled)\n"
     ]
    }
   ],
   "source": [
    "import Pkg;\n",
    "Pkg.activate(@__DIR__);\n",
    "Pkg.instantiate();"
   ]
  },
  {
   "cell_type": "code",
   "execution_count": 2,
   "metadata": {},
   "outputs": [],
   "source": [
    "using LinearAlgebra\n",
    "using BlockDiagonals\n",
    "using ForwardDiff\n",
    "using Plots\n",
    "using Random;\n",
    "using Printf"
   ]
  },
  {
   "cell_type": "code",
   "execution_count": 152,
   "metadata": {},
   "outputs": [],
   "source": [
    "#Cartpole parameters: [x, xd, theta, thetad]\n",
    "M = 0.5\n",
    "m = 0.2\n",
    "l = 0.3\n",
    "I = 0.1\n",
    "g = 9.8\n",
    "a12 = m^2 * g * l^2 / ((M+m)*I+M*m*l^2)\n",
    "a32 = m * g * l * (M+m) / ((M+m)*I+M*m*l^2)\n",
    "b1 = (I+m*l^2) / ((M+m)*I+M*m*l^2)\n",
    "b3 = m * l / ((M+m)*I+M*m*l^2)\n",
    "Ac = [0 1 0 0; 0 0 a12 0; 0 0 0 1; 0 0 a32 0]\n",
    "Bc = [0; b1; 0; b3]\n",
    "\n",
    "freq1 = 100\n",
    "h = 1 / freq1 #50 Hz\n",
    "\n",
    "Nx = 4     # number of states (quaternion)\n",
    "Nu = 1     # number of controls\n",
    "nx = Nx\n",
    "nu = Nu\n",
    "Tfinal = 5.0 # final time\n",
    "Nt = Int(Tfinal / h) + 1    # number of time steps\n",
    "t_vec = h * (0:Nt-1)\n",
    "thist = Array(range(0, h * (Nt - 1), step=h));"
   ]
  },
  {
   "cell_type": "code",
   "execution_count": 153,
   "metadata": {},
   "outputs": [
    {
     "data": {
      "text/plain": [
       "quad_dynamics_rk4 (generic function with 1 method)"
      ]
     },
     "metadata": {},
     "output_type": "display_data"
    }
   ],
   "source": [
    "function quad_dynamics(x, u)\n",
    "  return Ac*x + Bc*u\n",
    "end\n",
    "function quad_dynamics_rk4(x, u, h)\n",
    "  #RK4 integration with zero-order hold on u\n",
    "  f1 = quad_dynamics(x, u)\n",
    "  f2 = quad_dynamics(x + 0.5 * h * f1, u)\n",
    "  f3 = quad_dynamics(x + 0.5 * h * f2, u)\n",
    "  f4 = quad_dynamics(x + h * f3, u)\n",
    "  xn = x + (h / 6.0) * (f1 + 2 * f2 + 2 * f3 + f4)\n",
    "  return xn\n",
    "end"
   ]
  },
  {
   "cell_type": "code",
   "execution_count": 154,
   "metadata": {},
   "outputs": [],
   "source": [
    "#Goal state, upright position\n",
    "xg = [0.; 0; 0; 0]; \n",
    "ug = 0.;"
   ]
  },
  {
   "cell_type": "code",
   "execution_count": 155,
   "metadata": {},
   "outputs": [
    {
     "data": {
      "text/plain": [
       "discrete_dynamics (generic function with 1 method)"
      ]
     },
     "metadata": {},
     "output_type": "display_data"
    }
   ],
   "source": [
    "#Linearize dynamics about hover\n",
    "A = ForwardDiff.jacobian(x -> quad_dynamics_rk4(x, ug, h), xg)\n",
    "B = ForwardDiff.derivative(u -> quad_dynamics_rk4(xg, u, h), ug);\n",
    "function discrete_dynamics(params, x, u, k)\n",
    "  A * x + B * u\n",
    "end"
   ]
  },
  {
   "cell_type": "code",
   "execution_count": 156,
   "metadata": {},
   "outputs": [
    {
     "data": {
      "text/plain": [
       "4×4 Matrix{Float64}:\n",
       " 1.0  0.01  2.23301e-5  7.44304e-8\n",
       " 0.0  1.0   0.00446621  2.23301e-5\n",
       " 0.0  0.0   1.00026     0.0100009\n",
       " 0.0  0.0   0.0521058   1.00026"
      ]
     },
     "metadata": {},
     "output_type": "display_data"
    },
    {
     "data": {
      "text/plain": [
       "4-element Vector{Float64}:\n",
       " 7.468368562730335e-5\n",
       " 0.014936765390161838\n",
       " 3.79763323185387e-5\n",
       " 0.007595596218554721"
      ]
     },
     "metadata": {},
     "output_type": "display_data"
    },
    {
     "name": "stdout",
     "output_type": "stream",
     "text": [
      "A' = [1.0 0.0 0.0 0.0; 0.01 1.0 0.0 0.0; 2.2330083403300767e-5 0.004466210576510177 1.0002605176397052 0.05210579005928538; 7.443037974683548e-8 2.2330083403300767e-5 0.01000086835443038 1.0002605176397052]\n",
      "B = [7.468368562730335e-5, 0.014936765390161838, 3.79763323185387e-5, 0.007595596218554721]\n"
     ]
    },
    {
     "data": {
      "text/plain": [
       "4-element Vector{Float64}:\n",
       " 7.468368562730335e-5\n",
       " 0.014936765390161838\n",
       " 3.79763323185387e-5\n",
       " 0.007595596218554721"
      ]
     },
     "metadata": {},
     "output_type": "display_data"
    }
   ],
   "source": [
    "display(A)\n",
    "display(B)\n",
    "@show(A')\n",
    "@show(B)"
   ]
  },
  {
   "cell_type": "code",
   "execution_count": 169,
   "metadata": {},
   "outputs": [
    {
     "data": {
      "text/plain": [
       "1×4 Matrix{Float64}:\n",
       " -2.45857  -4.16675  40.2322  17.853"
      ]
     },
     "metadata": {},
     "output_type": "display_data"
    },
    {
     "data": {
      "text/plain": [
       "4×4 Matrix{Float64}:\n",
       "  1553.98   1174.13  -5904.03  -2646.95\n",
       "  1174.13   1279.31  -6875.44  -3085.2\n",
       " -5904.03  -6875.44  42758.0   18973.0\n",
       " -2646.95  -3085.2   18973.0    8487.34"
      ]
     },
     "metadata": {},
     "output_type": "display_data"
    }
   ],
   "source": [
    "# IHLQR terminal cost\n",
    "P = [zeros(nx, nx) for i = 1:1000]   # cost to go quadratic term\n",
    "p = [zeros(nx) for i = 1:1000]      # cost to go linear term\n",
    "d = [zeros(nu) for i = 1:1000-1]    # feedforward control\n",
    "K = [zeros(nu, nx) for i = 1:1000-1] # feedback gain\n",
    "\n",
    "# Cost weights\n",
    "# Saved\n",
    "# max_dev_x = [0.1; 0.1; 0.1;  0.5; 0.5; 0.05;  0.5; 0.5; 0.5;  0.5; 0.5; 0.1]\n",
    "# max_dev_u = [0.5; 0.5; 0.5; 0.5]/10\n",
    "# max_dev_x = [5; 5; 0.001; 0.5; 0.5; 0.05; 0.5; 0.5; 0.5; 0.7; 0.7; 0.2] / 1\n",
    "# max_dev_u = [0.5; 0.5; 0.5; 0.5] / 1\n",
    "# Q = diagm(1 ./ (max_dev_x .^ 2))\n",
    "# R = diagm(1 ./ (max_dev_u .^ 2))\n",
    "\n",
    "Q = [1.0 0 0 0; 0 0.1 0 0; 0 0 1.0 0; 0 0 0 0.1]*10\n",
    "R = 1.0\n",
    "Qf = 1 * Q\n",
    "\n",
    "# IHLQR terminal cost for orginal problem\n",
    "P[1000] .= Q\n",
    "for k = (1000-1):-1:1\n",
    "    K[k] .= (R + B' * P[k+1] * B) \\ (B' * P[k+1] * A)\n",
    "    P[k] .= Q + A' * P[k+1] * (A - B * K[k])\n",
    "end\n",
    "Qf = P[1]\n",
    "display(K[1])\n",
    "display(P[1])"
   ]
  },
  {
   "cell_type": "code",
   "execution_count": 170,
   "metadata": {},
   "outputs": [
    {
     "data": {
      "text/plain": [
       "1.0"
      ]
     },
     "metadata": {},
     "output_type": "display_data"
    },
    {
     "name": "stdout",
     "output_type": "stream",
     "text": [
      "cache.Kinf .= K[1] = [-3.038285934765668 -4.969170646522577 45.19435775437705 20.089877758824557]\n",
      "cache.Pinf .= P[1] = [1635.5177732493137 1279.281604440924 -6538.146901457742 -2932.4242188080893; 1279.2816044409426 1419.2335459442818 -7728.018316795391 -3469.2382213306814; -6538.146901457785 -7728.018316795453 47973.525344154645 21322.768546355954; -2932.424218808135 -3469.238221330693 21322.76854635586 9545.982297269238]\n"
     ]
    },
    {
     "data": {
      "text/plain": [
       "4×1 Matrix{Float64}:\n",
       " -7.061018436615996e-14\n",
       " -8.615330671091215e-14\n",
       "  2.2737367544323206e-13\n",
       "  1.7408297026122455e-13"
      ]
     },
     "metadata": {},
     "output_type": "display_data"
    }
   ],
   "source": [
    "# PENALTY - important!! Trade-off between obj and constraint\n",
    "ρ = 0.0\n",
    "\n",
    "# data for new admm formulation\n",
    "R̃ = R \n",
    "Q̃ = Q \n",
    "Q̃f = Qf \n",
    "\n",
    "# Precompute\n",
    "cache = (\n",
    "    Kinf=zeros(nu, nx),\n",
    "    Pinf=zeros(nx, nx),\n",
    "    Kinf2=zeros(nu, nx),\n",
    "    Pinf2=zeros(nx, nx),\n",
    "    Quu_inv=zeros(nu, nu),\n",
    "    Quu_inv2=zeros(nu, nu),\n",
    "    AmBKt=zeros(nx, nx),\n",
    "    AmBKt2=zeros(nx, nx), #(Ã - B̃*K[1])',\n",
    "    coeff_d2p=zeros(nx, nu),\n",
    "    coeff_d2p2=zeros(nx, nu),\n",
    ")\n",
    "\n",
    "# IHLQR terminal cost for new problem\n",
    "P = [zeros(nx, nx) for i = 1:1000]   # cost to go quadratic term\n",
    "p = [zeros(nx) for i = 1:1000]      # cost to go linear term\n",
    "d = [zeros(nu) for i = 1:1000-1]    # feedforward control\n",
    "K = [zeros(nu, nx) for i = 1:1000-1] # feedback gain\n",
    "\n",
    "P[1000] .= Q̃f\n",
    "# For streched dynamics (unused -> set `adaptive_step = 0`)\n",
    "for k = (1000-1):-1:1\n",
    "    K[k] .= (R̃ + B' * P[k+1] * B) \\ (B' * P[k+1] * A)\n",
    "    P[k] .= Q̃ + A' * P[k+1] * (A - B * K[k])\n",
    "end\n",
    "cache.Kinf .= K[1]\n",
    "cache.Pinf .= P[1]\n",
    "cache.AmBKt .= (A - B * K[1])'\n",
    "cache.Quu_inv .= (R̃ + B' * cache.Pinf * B) \\ I\n",
    "display(cond(R̃ + B' * cache.Pinf * B))\n",
    "cache.coeff_d2p .= cache.Kinf' * R̃ - cache.AmBKt * cache.Pinf * B\n"
   ]
  },
  {
   "cell_type": "code",
   "execution_count": 171,
   "metadata": {},
   "outputs": [
    {
     "data": {
      "text/plain": [
       "1×4 Matrix{Float64}:\n",
       " -3.03829  -4.96917  45.1944  20.0899"
      ]
     },
     "metadata": {},
     "output_type": "display_data"
    },
    {
     "data": {
      "text/plain": [
       "4×4 Matrix{Float64}:\n",
       "  1635.52   1279.28  -6538.15  -2932.42\n",
       "  1279.28   1419.23  -7728.02  -3469.24\n",
       " -6538.15  -7728.02  47973.5   21322.8\n",
       " -2932.42  -3469.24  21322.8    9545.98"
      ]
     },
     "metadata": {},
     "output_type": "display_data"
    },
    {
     "data": {
      "text/plain": [
       "4×4 Matrix{Float64}:\n",
       "  1.00023      0.0453822  0.000115383   0.0230776\n",
       "  0.0103711    1.07422    0.000188711   0.0377438\n",
       " -0.00335295  -0.670591   0.998544     -0.291172\n",
       " -0.00150031  -0.300055   0.00923793    0.847666"
      ]
     },
     "metadata": {},
     "output_type": "display_data"
    },
    {
     "data": {
      "text/plain": [
       "1×1 Matrix{Float64}:\n",
       " 0.09231181421394602"
      ]
     },
     "metadata": {},
     "output_type": "display_data"
    },
    {
     "data": {
      "text/plain": [
       "4×1 Matrix{Float64}:\n",
       " -7.061018436615996e-14\n",
       " -8.615330671091215e-14\n",
       "  2.2737367544323206e-13\n",
       "  1.7408297026122455e-13"
      ]
     },
     "metadata": {},
     "output_type": "display_data"
    }
   ],
   "source": [
    "display(cache.Kinf)\n",
    "display(cache.Pinf)\n",
    "display(cache.AmBKt)\n",
    "display(cache.Quu_inv)\n",
    "display(cache.coeff_d2p)\n"
   ]
  },
  {
   "cell_type": "code",
   "execution_count": 159,
   "metadata": {},
   "outputs": [],
   "source": [
    "# display(cache.Kinf)\n",
    "# # C Language for LQR2 alone\n",
    "# @printf(\"FOR C:\\n\");\n",
    "# str = \"static float K[NU][NXt] = {\\n\"\n",
    "# for i = 1:4\n",
    "#   str = str * \"  {\"\n",
    "#   for j = 1:12\n",
    "#     # if abs(K[i, j]) < 1e-6\n",
    "#     #   K[i, j] = 0.0\n",
    "#     # end\n",
    "#     this_str = @sprintf(\"%.6f\", cache.Kinf[i, j])\n",
    "\n",
    "#     str = str * this_str * \"f\"\n",
    "#     if j < 12\n",
    "#       str = str * \",\"\n",
    "#     end\n",
    "#   end\n",
    "#   str = str * \"},\\n\"\n",
    "# end\n",
    "# str = str * \"};\"\n",
    "# @printf(\"%s\",str)"
   ]
  },
  {
   "cell_type": "code",
   "execution_count": 160,
   "metadata": {},
   "outputs": [
    {
     "ename": "UndefVarError",
     "evalue": "UndefVarError: L not defined",
     "output_type": "error",
     "traceback": [
      "UndefVarError: L not defined\n",
      "\n",
      "Stacktrace:\n",
      " [1] top-level scope\n",
      "   @ ~/SSD/Code/Julia/tinympc-julia/cartpole_tinympc/cartpole.ipynb:61"
     ]
    }
   ],
   "source": [
    "#Feedback tracking controller\n",
    "include(\"../LibTinyMPC.jl\")\n",
    "N = 10\n",
    "dt = 1 / freq1\n",
    "Tfinal = 10.0 # final time\n",
    "Nt = Int(Tfinal / h) + 1    # number of time steps\n",
    "t_vec = h * (0:Nt-1)\n",
    "\n",
    "\n",
    "#Create trajectory to follow\n",
    "z_ref = 0.6\n",
    "Xref = [[zeros(3); 1; zeros(9)] for i = 1:Nt]\n",
    "Δx̃ref = [zeros(nx) for i = 1:Nt]\n",
    "ΔUref = [zeros(nu) for i = 1:Nt-1]\n",
    "\n",
    "## Hovering\n",
    "# Xref = [xg for i = 1:Nt]\n",
    "\n",
    "## Landing\n",
    "# x_landing = [1; 1.2; 0; 1; zeros(9)]\n",
    "# Xref = [x_landing for i = 1:Nt]\n",
    "\n",
    "# Number-eight\n",
    "# Xref = [[1*cos(t)*sin(t);1*cos(t);z_ref;1;zeros(9)] for t = range(-pi/2, 3*pi/2, length = Nt)]  \n",
    "\n",
    "# Cyclone\n",
    "t_end = 4*2*pi\n",
    "Xref = [[0.5*sin(t);0.5*cos(t);z_ref/(3*t/t_end+1);1;zeros(9)] for t = range(0, t_end, length = Nt)]  \n",
    "\n",
    "## Triangle\n",
    "# p0 = [0; 0; z_ref];\n",
    "# p1 = [3; 4; z_ref];\n",
    "# p2 = [0; 8; z_ref];\n",
    "# p3 = [0; -2; z_ref];\n",
    "# range1 = collect(LinRange(p0, p1, round(Int, (Nt) / 3)))\n",
    "# range2 = collect(LinRange(p1, p2, round(Int, (Nt) / 3)))\n",
    "# range3 = collect(LinRange(p2, p3, round(Int, (Nt) / 3) + 1))\n",
    "# range123 = [range1; range2; range3]\n",
    "# for k = 1:Nt\n",
    "#     Xref[k][1:3] .= range123[k]\n",
    "# end\n",
    "\n",
    "# Square\n",
    "# p0 = [0; 0; 0.5]; p1 = [2; 0; 0.5]; p2 = [2; 2; 0.5]; p3 = [0; 2; 0.5]\n",
    "# range1 = collect(LinRange(p0, p1, round(Int,(Nt)/4)))\n",
    "# range2 = collect(LinRange(p1, p2, round(Int,(Nt)/4)))\n",
    "# range3 = collect(LinRange(p2, p3, round(Int,(Nt)/4)))\n",
    "# range4 = collect(LinRange(p3, p0, round(Int,(Nt)/4)+1))\n",
    "# range1234 = [range1; range2; range3; range4]\n",
    "# for k = 1:Nt\n",
    "#     Xref[k][1:3] .= range1234[k]\n",
    "# end\n",
    "\n",
    "# Velocity reference: speeds up the tracking but less smooth\n",
    "for i = 1:Nt-1\n",
    "    Xref[i][8:10] = (Xref[i+1][1:3] - Xref[i][1:3]) / dt / 1.0\n",
    "end\n",
    "for k = 1:Nt\n",
    "    x = Xref[k]\n",
    "    q = x[4:7]\n",
    "    ϕ = qtorp(L(qg)' * q)\n",
    "    Δx̃ref[k] .= [x[1:3] - rg; ϕ; x[8:10] - vg; x[11:13] - ωg]\n",
    "end\n",
    "\n",
    "\n",
    "u_min = -uhover #-0.5*ones(nu)\n",
    "u_max = 1 .- uhover #0.5*ones(nu)\n",
    "# u_min = -50.0*ones(nu)\n",
    "# u_max = 50.0*ones(nu)\n",
    "# state is x y v θ\n",
    "x_min = []\n",
    "# x_min[3] = 0.85\n",
    "x_max = []\n",
    "# x_max[1] = 3.05\n",
    "# Halfspace\n",
    "Acu = []\n",
    "bcu = 0.0\n",
    "Acx = []\n",
    "bcx = 0.0\n",
    "\n",
    "# Obstacle\n",
    "obs_c = [3.1, 4.0, 1.0]\n",
    "obs_r = 0.5\n",
    "\n",
    "# previous MPC iterate\n",
    "X = [zeros(nx) for i = 1:N]\n",
    "U = [zeros(nu) for k = 1:N-1]\n",
    "ZU = [zeros(nu) for i = 1:N-1]\n",
    "ZU_new = [zeros(nu) for i = 1:N-1]\n",
    "YU = [zeros(nu) for i = 1:N-1]\n",
    "ZX = [zeros(nx) for i = 1:N]\n",
    "ZX_new = [zeros(nx) for i = 1:N]\n",
    "YX = [zeros(nx) for i = 1:N]\n",
    "\n",
    "params = (\n",
    "    nx=nx, nu=nu,\n",
    "    N=N, Q=Q, R=R, Qf=Qf,\n",
    "    en_box_input=1, u_min=u_min, u_max=u_max, Acu=Acu, bcu=bcu,\n",
    "    en_box_state=0, x_min=x_min, x_max=x_max, Acx=Acx, bcx=bcx,\n",
    "    en_hplane_state=0,\n",
    "    en_box_soc=0, en_soc_state=1, mu=0.8,\n",
    "    Xref=Δx̃ref, Uref=ΔUref, dt=dt, cache=cache,\n",
    ");\n",
    "\n",
    "\n",
    "\n",
    "P = [zeros(nx, nx) for i = 1:N]   # cost to go quadratic term\n",
    "p = [zeros(nx) for i = 1:N]      # cost to go linear term\n",
    "d = [zeros(nu) for i = 1:N-1]    # feedforward control\n",
    "K = [zeros(nu, nx) for i = 1:N-1] # feedback gain\n",
    "qq = [zeros(nx) for i = 1:N]\n",
    "r = [zeros(nu) for i = 1:N-1]\n",
    "\n",
    "verbose = 0\n",
    "adaptive_step = 0\n",
    "iters = zeros(10000)\n",
    "function controller_mpc(params, x, k)\n",
    "    q = x[4:7]\n",
    "    ϕ = qtorp(L(qg)' * q)\n",
    "\n",
    "    Δx̃ = [x[1:3] - rg; ϕ; x[8:10] - vg; x[11:13] - ωg]\n",
    "    X[1] .= Δx̃\n",
    "\n",
    "    U = [zeros(nu) for k = 1:N-1]  # reset because previous sln does not converge\n",
    "    # ZU = [zeros(nu) for i = 1:N-1]\n",
    "    # ZU_new = [zeros(nu) for i = 1:N-1]\n",
    "    YU = [zeros(nu) for i = 1:N-1]\n",
    "    # ZX = [zeros(nx) for i = 1:N]\n",
    "    # ZX_new = [zeros(nx) for i = 1:N]\n",
    "    YX = [zeros(nx) for i = 1:N]\n",
    "\n",
    "    u, status, iters[k] = solve_admm!(params, qq, r, p, d, X, ZX, ZX_new, YX, U, ZU, ZU_new, YU; ρ=ρ, abs_tol=1e-2, max_iter=500, adaptive_step=adaptive_step)\n",
    "    # u = -cache.Kinf*(Δx̃ - Δx̃ref[k])\n",
    "    # display(iters[k])\n",
    "    # status == 0 && display(\"Max iteration reached\")\n",
    "    return u + uhover\n",
    "end\n",
    "\n",
    "#ASK: Do I need to stretch the reference?\n",
    "function update_reference(params, k)\n",
    "    Uref_ = 1 * ΔUref[k:N+k-2]\n",
    "    Xref_ = 1 * Δx̃ref[k:N+k-1]\n",
    "\n",
    "    if (adaptive_step > 0)\n",
    "        for i = 3:N-1\n",
    "            Uref_[i] .= ΔUref[k+1+(i-2)*step_ratio]\n",
    "            Xref_[i] .= Δx̃ref[k+1+(i-2)*step_ratio]\n",
    "        end\n",
    "        Xref_[N] .= Δx̃ref[k+1+(N-2)*step_ratio]\n",
    "        # for i = 3:N-1\n",
    "        #     Xref_[i][7:9] = (Xref_[i+1][1:3] - Xref_[i][1:3])/freq2\n",
    "        # end\n",
    "    end\n",
    "\n",
    "    params_new = (; params..., Uref=Uref_, Xref=Xref_)  # update ref\n",
    "    return params_new\n",
    "end\n",
    "\n",
    "function update_constraint(params, X, k)\n",
    "    Acx_ = [zeros(3) for i = 1:N]  # only three for position\n",
    "    bcx_ = [1.0 for i = 1:N]\n",
    "    for k = 1:N\n",
    "        xp = X[k][1:3]\n",
    "        vecXC = obs_c - xp\n",
    "        d = sqrt(vecXC' * vecXC)\n",
    "        if (d > (3 * obs_r))\n",
    "            # unactivated if far from obstacle\n",
    "            # Acx_[k] = zeros(3)\n",
    "            # bcx_[k] = 1.0\n",
    "        else\n",
    "            vecXI = vecXC * (d - obs_r) / d\n",
    "            Xi = xp + vecXI\n",
    "            ∇f = 2 * (obs_c - Xi)\n",
    "            denom = sqrt(∇f' * ∇f)\n",
    "            Acx_[k] = ∇f / denom\n",
    "            bcx_[k] = ∇f' * Xi / denom\n",
    "        end\n",
    "    end\n",
    "    params_new = (; params..., Acx=Acx_, bcx=bcx_)  # update ref\n",
    "    # println(xp, Acx_, bcx_)\n",
    "    return params_new\n",
    "end\n"
   ]
  },
  {
   "cell_type": "code",
   "execution_count": 161,
   "metadata": {},
   "outputs": [
    {
     "ename": "DimensionMismatch",
     "evalue": "DimensionMismatch(\"array could not be broadcast to match destination\")",
     "output_type": "error",
     "traceback": [
      "DimensionMismatch(\"array could not be broadcast to match destination\")\n",
      "\n",
      "Stacktrace:\n",
      " [1] check_broadcast_shape\n",
      "   @ ./broadcast.jl:520 [inlined]\n",
      " [2] check_broadcast_axes\n",
      "   @ ./broadcast.jl:523 [inlined]\n",
      " [3] instantiate\n",
      "   @ ./broadcast.jl:269 [inlined]\n",
      " [4] materialize!\n",
      "   @ ./broadcast.jl:894 [inlined]\n",
      " [5] materialize!(dest::Vector{Float64}, bc::Base.Broadcast.Broadcasted{Base.Broadcast.DefaultArrayStyle{1}, Nothing, typeof(identity), Tuple{Vector{Float64}}})\n",
      "   @ Base.Broadcast ./broadcast.jl:891\n",
      " [6] top-level scope\n",
      "   @ ~/SSD/Code/Julia/tinympc-julia/cartpole_tinympc/cartpole.ipynb:6"
     ]
    }
   ],
   "source": [
    "# Simulation\n",
    "uhist = [zeros(Nu) for i in 1:Nt-1]\n",
    "xhist = [zeros(Nx) for i in 1:Nt]\n",
    "Random.seed!(12);\n",
    "# xhist[1] .= [rg+0*randn(3)/3; L(qg)*rptoq([1; 0; 0]); vg; ωg]  # initial conditions\n",
    "xhist[1] .= Xref[1]\n",
    "# xhist[1][1:3] .= [0; 0; 3.0]\n",
    "# xhist[1][1:3] += rand(3) * 0.2;\n",
    "# xhist[1][1:2] = [0;0]\n",
    "backward_pass!(Q̃, R̃, P, params, adaptive_step)\n",
    "Nsim = Nt - 100 - 1\n",
    "for k = 1:Nsim\n",
    "# for k = 1:10\n",
    "    params = update_reference(params, k)\n",
    "    # params = update_constraint(params, X, k)\n",
    "    # display(params1.Xref)\n",
    "    # display(xhist[k])\n",
    "    # shift_fill(U)\n",
    "    uhist[k] = controller_mpc(params, xhist[k], k)\n",
    "    uhist[k] = clamp.(uhist[k], (uhover+u_min)[1], (uhover+u_max)[1])\n",
    "    xhist[k+1] = quad_dynamics_rk4(xhist[k], uhist[k], h)\n",
    "end"
   ]
  },
  {
   "cell_type": "code",
   "execution_count": 162,
   "metadata": {},
   "outputs": [
    {
     "ename": "UndefVarError",
     "evalue": "UndefVarError: iters not defined",
     "output_type": "error",
     "traceback": [
      "UndefVarError: iters not defined\n",
      "\n",
      "Stacktrace:\n",
      " [1] top-level scope\n",
      "   @ ~/SSD/Code/Julia/tinympc-julia/cartpole_tinympc/cartpole.ipynb:1"
     ]
    }
   ],
   "source": [
    "display(maximum(iters))\n",
    "for i = 1:Nsim\n",
    "  # xhist[i][3] > 1.0 + 0.01 && error(\"infeasibilty\")\n",
    "  # @show ( (norm(xhist[i][1:2]) - params.mu * xhist[i][3]))\n",
    "  (norm(xhist[i][1:2]) - params.mu * xhist[i][3]) > 0.1 && error(\"infeasibilty\", i)\n",
    "  \n",
    "end\n",
    "maximum(xhist)"
   ]
  },
  {
   "cell_type": "code",
   "execution_count": 163,
   "metadata": {},
   "outputs": [
    {
     "ename": "UndefVarError",
     "evalue": "UndefVarError: Nsim not defined",
     "output_type": "error",
     "traceback": [
      "UndefVarError: Nsim not defined\n",
      "\n",
      "Stacktrace:\n",
      " [1] top-level scope\n",
      "   @ ~/SSD/Code/Julia/tinympc-julia/cartpole_tinympc/cartpole.ipynb:1"
     ]
    }
   ],
   "source": [
    "Xsim_m = mat_from_vec(Xref[1:Nsim])\n",
    "plot(Xsim_m[2, :], Xsim_m[1, :], label=\"ref\", linestyle=:solid, linewidth=2, title=\"State History\", xlabel=\"y\", ylabel=\"x\")\n",
    "Xsim_m = mat_from_vec(xhist[1:Nsim])\n",
    "display(plot!(Xsim_m[2, :], Xsim_m[1, :], label=\"real\", linestyle=:dash, linewidth=2, title=\"State History\", xlabel=\"y\", ylabel=\"x\", aspect_ratio=:equal))\n",
    "# display(scatter!([obs_c[2]], [obs_c[1]], color=\"red\", label=\"\", markersize=70 * obs_r))\n"
   ]
  },
  {
   "cell_type": "code",
   "execution_count": 164,
   "metadata": {},
   "outputs": [
    {
     "ename": "UndefVarError",
     "evalue": "UndefVarError: Nsim not defined",
     "output_type": "error",
     "traceback": [
      "UndefVarError: Nsim not defined\n",
      "\n",
      "Stacktrace:\n",
      " [1] top-level scope\n",
      "   @ ~/SSD/Code/Julia/tinympc-julia/cartpole_tinympc/cartpole.ipynb:1"
     ]
    }
   ],
   "source": [
    "Xsim_m = mat_from_vec(Xref[1:1:Nsim])\n",
    "plot(Xsim_m[2, :], Xsim_m[1, :], label=\"ref\",\n",
    "  linestyle=:solid, linewidth=2,\n",
    "  title=\"State History\", xlabel=\"y\", ylabel=\"x\")\n",
    "Xsim_m = mat_from_vec(xhist[1:1:Nsim])\n",
    "display(plot!(Xsim_m[2, :], Xsim_m[1, :], label=\"real\", linestyle=:dash, linewidth=2,\n",
    "  title=\"State History\", xlabel=\"y\", ylabel=\"x\", aspect_ratio=:equal))"
   ]
  },
  {
   "cell_type": "code",
   "execution_count": 165,
   "metadata": {},
   "outputs": [
    {
     "ename": "UndefVarError",
     "evalue": "UndefVarError: Nsim not defined",
     "output_type": "error",
     "traceback": [
      "UndefVarError: Nsim not defined\n",
      "\n",
      "Stacktrace:\n",
      " [1] top-level scope\n",
      "   @ ~/SSD/Code/Julia/tinympc-julia/cartpole_tinympc/cartpole.ipynb:1"
     ]
    }
   ],
   "source": [
    "Xsim_m = mat_from_vec(xhist[1:Nsim] - 0 * Xref[1:Nsim])\n",
    "Usim_m = mat_from_vec(uhist[1:Nsim-1])\n",
    "display(plot(Xsim_m[1:7, :]', label=[\"x\" \"y\" \"z\" \"qw\" \"qx\" \"qy\" \"qz\"],\n",
    "  linestyle=[:solid :solid :solid :dash :dash :dash :dash], linewidth=[2 2 2 2 2 2 2],\n",
    "  title=\"State History\", xlabel=\"time (s)\", ylabel=\"x\"))\n",
    "display(plot(Usim_m', label=[\"u₁\" \"u₂\" \"u₃\" \"u₄\"],\n",
    "  title=\"Input History\", linewidth=[2 2 2 2 2 2 2],\n",
    "  xlabel=\"time (s)\", ylabel=\"u\"))\n",
    "norm(xhist[1:Nsim] - 0 * Xref[1:Nsim])"
   ]
  },
  {
   "cell_type": "code",
   "execution_count": 166,
   "metadata": {},
   "outputs": [
    {
     "ename": "UndefVarError",
     "evalue": "UndefVarError: Nsim not defined",
     "output_type": "error",
     "traceback": [
      "UndefVarError: Nsim not defined\n",
      "\n",
      "Stacktrace:\n",
      " [1] top-level scope\n",
      "   @ ~/SSD/Code/Julia/tinympc-julia/cartpole_tinympc/cartpole.ipynb:1"
     ]
    }
   ],
   "source": [
    "Xsim_m = mat_from_vec(xhist[1:Nsim])\n",
    "Usim_m = mat_from_vec(uhist[1:Nsim-1])\n",
    "display(plot(Xsim_m[1:7, :]', label=[\"x\" \"y\" \"z\" \"qw\" \"qx\" \"qy\" \"qz\"],\n",
    "  linestyle=[:solid :solid :solid :dash :dash :dash :dash], linewidth=[2 2 2 2 2 2 2],\n",
    "  title=\"State History\", xlabel=\"time (s)\", ylabel=\"x\"))\n",
    "display(plot(Usim_m', label=[\"u₁\" \"u₂\" \"u₃\" \"u₄\"],\n",
    "  title=\"Input History\", linewidth=[2 2 2 2 2 2 2],\n",
    "  xlabel=\"time (s)\", ylabel=\"u\"))\n",
    "norm(xhist[1:Nsim] - 0 * Xref[1:Nsim])"
   ]
  },
  {
   "cell_type": "code",
   "execution_count": 167,
   "metadata": {},
   "outputs": [
    {
     "ename": "UndefVarError",
     "evalue": "UndefVarError: Ã not defined",
     "output_type": "error",
     "traceback": [
      "UndefVarError: Ã not defined\n",
      "\n",
      "Stacktrace:\n",
      " [1] top-level scope\n",
      "   @ ~/SSD/Code/Julia/tinympc-julia/cartpole_tinympc/cartpole.ipynb:37"
     ]
    }
   ],
   "source": [
    "# function export_mat_to_eigen(prefix, data)\n",
    "#   str = prefix * \"\\n\"\n",
    "#   for i = 1:size(data, 1)\n",
    "#       for j = 1:size(data, 2)\n",
    "#           this_str = @sprintf(\"%.6f\", data[i, j])\n",
    "#           str = str * this_str * \"f\"\n",
    "#           if (i == size(data, 1) && j == size(data, 2))\n",
    "#             str = str * \").finished();\"\n",
    "#           else\n",
    "#             str = str * \",\"\n",
    "#           end\n",
    "#       end\n",
    "#       str = str * \"\\n\"\n",
    "#   end\n",
    "#   str = str * \"\\n\"\n",
    "#   return str\n",
    "# end\n",
    "\n",
    "function export_mat_to_eigen(prefix, data)\n",
    "  str = prefix * \"\\n\"\n",
    "  for i = 1:size(data, 1)\n",
    "      for j = 1:size(data, 2)\n",
    "          this_str = @sprintf(\"%.6f\", data[i, j])\n",
    "          str = str * this_str * \"f\"\n",
    "          if (i == size(data, 1) && j == size(data, 2))\n",
    "            str = str * \";\"\n",
    "          else\n",
    "            str = str * \",\"\n",
    "          end\n",
    "      end\n",
    "      str = str * \"\\n\"\n",
    "  end\n",
    "  str = str * \"\\n\"\n",
    "  return str\n",
    "end\n",
    "\n",
    "@printf(\"%s\",export_mat_to_eigen(\"A << \", Ã))\n",
    "@printf(\"%s\",export_mat_to_eigen(\"B << \", B̃))\n",
    "@printf(\"%s\",export_mat_to_eigen(\"Kinf << \", cache.Kinf))\n",
    "@printf(\"%s\",export_mat_to_eigen(\"Pinf << \", cache.Pinf))\n",
    "@printf(\"%s\",export_mat_to_eigen(\"Quu_inv << \", cache.Quu_inv))\n",
    "@printf(\"%s\",export_mat_to_eigen(\"AmBKt << \",   cache.AmBKt))\n",
    "@printf(\"%s\",export_mat_to_eigen(\"coeff_d2p << \", cache.coeff_d2p))\n",
    "@printf(\"%s\",export_mat_to_eigen(\"Q << \", Q))\n",
    "@printf(\"%s\",export_mat_to_eigen(\"R << \", R))\n",
    "# @printf(\"%s\",export_mat_to_eigen(\"Kinf_data[NINPUTS*NSTATES]\", cache.Kinf2))\n",
    "# @printf(\"%s\",export_mat_to_eigen(\"Pinf_data[NSTATES*NSTATES]\", cache.Pinf2))\n",
    "# @printf(\"%s\",export_mat_to_eigen(\"Quu_inv_data[NINPUTS*NINPUTS]\", cache.Quu_inv2))\n",
    "# @printf(\"%s\",export_mat_to_eigen(\"AmBKt_data[NSTATES*NSTATES]\", cache.AmBKt2))\n",
    "# @printf(\"%s\",export_mat_to_eigen(\"coeff_d2p_data[NSTATES*NINPUTS]\", cache.coeff_d2p2))"
   ]
  },
  {
   "cell_type": "code",
   "execution_count": 168,
   "metadata": {},
   "outputs": [],
   "source": [
    "# X_ref_data = [Δx̃ref[i][1:12] for i = 1:Nt]\n",
    "# # Export a vector of Eigen matrix to C header and source \n",
    "# function export_vec_to_c(filename, var_type, var_name, data)\n",
    "#   declare = \"static Eigen::\" * var_type * \" \" * var_name\n",
    "#   def = declare * \" = {\\n\"\n",
    "#   for i=1:length(data)\n",
    "#       def = def * \"(Eigen::\" * var_type * \"() << \"\n",
    "#       for j=1:length(data[1])\n",
    "#           def = def * string(data[i][j])\n",
    "#           if j < length(data[1]) \n",
    "#               def = def * \",\"\n",
    "#           end\n",
    "#       end\n",
    "#     def = def * \").finished(),\\n\"\n",
    "#   end\n",
    "#   def = def*\"}\"\n",
    "\n",
    "#   open(filename*\".h\",\"a\") do io\n",
    "#           println(io, def * \";\\n\")\n",
    "#   end\n",
    "#   return true\n",
    "# end\n",
    "# export_vec_to_c(\"data\", \"VectorNf\", \"XrefAll[]\", X_ref_data)"
   ]
  }
 ],
 "metadata": {
  "kernelspec": {
   "display_name": "Julia 1.6.7",
   "language": "julia",
   "name": "julia-1.6"
  },
  "language_info": {
   "file_extension": ".jl",
   "mimetype": "application/julia",
   "name": "julia",
   "version": "1.6.7"
  }
 },
 "nbformat": 4,
 "nbformat_minor": 4
}
