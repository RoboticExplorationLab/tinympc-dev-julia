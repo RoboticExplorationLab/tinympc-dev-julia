{
 "cells": [
  {
   "cell_type": "code",
   "execution_count": 33,
   "metadata": {},
   "outputs": [
    {
     "name": "stderr",
     "output_type": "stream",
     "text": [
      "\u001b[32m\u001b[1m  Activating\u001b[22m\u001b[39m environment at `~/Git/tinympc-julia/state_constraints/Project.toml`\n"
     ]
    }
   ],
   "source": [
    "import Pkg;\n",
    "Pkg.activate(@__DIR__);\n",
    "Pkg.instantiate()"
   ]
  },
  {
   "cell_type": "code",
   "execution_count": 34,
   "metadata": {},
   "outputs": [
    {
     "data": {
      "text/plain": [
       "E (generic function with 1 method)"
      ]
     },
     "metadata": {},
     "output_type": "display_data"
    }
   ],
   "source": [
    "using RobotZoo:Quadrotor\n",
    "using RobotDynamics\n",
    "using ForwardDiff\n",
    "using TrajOptPlots\n",
    "using BlockDiagonals\n",
    "using LinearAlgebra\n",
    "using StaticArrays\n",
    "using SparseArrays\n",
    "\n",
    "using MeshCat\n",
    "using ColorTypes\n",
    "using GeometryBasics: HyperSphere, HyperRectangle, Cylinder, Vec, Point, Mesh\n",
    "using CoordinateTransformations\n",
    "using Rotations\n",
    "\n",
    "using Plots\n",
    "using Printf\n",
    "\n",
    "\n",
    "include(\"../quaternion-stuff.jl\")"
   ]
  },
  {
   "cell_type": "code",
   "execution_count": 35,
   "metadata": {},
   "outputs": [
    {
     "name": "stderr",
     "output_type": "stream",
     "text": [
      "┌ Info: MeshCat server started. You can open the visualizer by visiting the following URL in your browser:\n",
      "│ http://127.0.0.1:8702\n",
      "└ @ MeshCat /home/sam/.julia/packages/MeshCat/GlCMx/src/visualizer.jl:73\n"
     ]
    },
    {
     "data": {
      "text/plain": [
       "MeshCat Visualizer with path /meshcat at http://127.0.0.1:8702"
      ]
     },
     "metadata": {},
     "output_type": "display_data"
    }
   ],
   "source": [
    "vis = Visualizer()"
   ]
  },
  {
   "cell_type": "code",
   "execution_count": 36,
   "metadata": {},
   "outputs": [
    {
     "name": "stdout",
     "output_type": "stream",
     "text": [
      "uhover = (((m * gravity) / kt) / 4) * ones(4) = [0.5833333520642209, 0.5833333520642209, 0.5833333520642209, 0.5833333520642209]\n"
     ]
    }
   ],
   "source": [
    "# Quadrotor parameters\n",
    "m = 0.035 # m = 0.033 <- measured m\n",
    "ℓ = 0.046/sqrt(2)\n",
    "J = [16.6e-6 0.83e-6 0.72e-6;\n",
    "    0.83e-6 16.6e-6 1.8e-6;\n",
    "    0.72e-6 1.8e-6 29.3e-6];\n",
    "gravity = 9.81\n",
    "# thrustToTorque = 0.005964552\n",
    "thrustToTorque = 0.0008\n",
    "scale = 65535\n",
    "kt = 2.245365e-6*scale # u is PWM in range [0...1]\n",
    "# kt=1\n",
    "km = kt*thrustToTorque #4.4733e-8\n",
    "\n",
    "h = 1/100\n",
    "\n",
    "Nx = 13     # number of states (quaternion)\n",
    "Nx̃ = 12     # number of states (linearized)\n",
    "Nu = 4      # number of controls\n",
    "nx = Nx̃\n",
    "nu = Nu\n",
    "\n",
    "#Goal state\n",
    "@show uhover = (m*gravity/kt/4)*ones(4) # m = 30g and max thrust = 60g\n",
    "# @show uhover = (m*gravity/4)*ones(4) # m = 30g and max thrust = 60g\n",
    "rg = [0.0; 0; 0.0]\n",
    "qg = [1.0; 0; 0; 0]\n",
    "vg = zeros(3)\n",
    "ωg = zeros(3)\n",
    "xg = [rg; qg; vg; ωg];"
   ]
  },
  {
   "cell_type": "code",
   "execution_count": 37,
   "metadata": {},
   "outputs": [
    {
     "data": {
      "text/plain": [
       "quad_dynamics_rk4 (generic function with 1 method)"
      ]
     },
     "metadata": {},
     "output_type": "display_data"
    }
   ],
   "source": [
    "function quad_dynamics(x,u)\n",
    "  r = x[1:3]\n",
    "  q = x[4:7]/norm(x[4:7]) #normalize q just to be careful\n",
    "  v = x[8:10]\n",
    "  ω = x[11:13]\n",
    "  Q = qtoQ(q)\n",
    "  \n",
    "  ṙ = v\n",
    "  q̇ = 0.5*L(q)*H*ω\n",
    "  \n",
    "  b = 1/m\n",
    "\n",
    "  v̇ = [0; 0; -gravity] + (1/m)*Q*[zeros(2,4); kt*ones(1,4)]*u \n",
    "\n",
    "  ω̇ = J\\(-hat(ω)*J*ω + [-ℓ*kt -ℓ*kt ℓ*kt ℓ*kt; -ℓ*kt ℓ*kt ℓ*kt -ℓ*kt; -km km -km km]*u)\n",
    "  \n",
    "  return [ṙ; q̇; v̇; ω̇]\n",
    "end\n",
    "function quad_dynamics_rk4(x,u)\n",
    "  #RK4 integration with zero-order hold on u\n",
    "  f1 = quad_dynamics(x, u)\n",
    "  f2 = quad_dynamics(x + 0.5*h*f1, u)\n",
    "  f3 = quad_dynamics(x + 0.5*h*f2, u)\n",
    "  f4 = quad_dynamics(x + h*f3, u)\n",
    "  xn = x + (h/6.0)*(f1 + 2*f2 + 2*f3 + f4)\n",
    "  xn[4:7] = xn[4:7]/norm(xn[4:7]) #re-normalize quaternion\n",
    "  return xn\n",
    "end"
   ]
  },
  {
   "cell_type": "code",
   "execution_count": 38,
   "metadata": {},
   "outputs": [],
   "source": [
    "#Linearize dynamics about hover\n",
    "Adyn = ForwardDiff.jacobian(x->quad_dynamics_rk4(x,uhover),xg)\n",
    "Bdyn = ForwardDiff.jacobian(u->quad_dynamics_rk4(xg,u),uhover);\n",
    "Ãdyn = Array(E(qg)'*Adyn*E(qg))\n",
    "B̃dyn = Array(E(qg)'*Bdyn);"
   ]
  },
  {
   "cell_type": "code",
   "execution_count": 39,
   "metadata": {},
   "outputs": [],
   "source": [
    "# Cost weights\n",
    "max_dev_x = [0.1; 0.1; 0.1; 0.5; 0.5; 0.05;  0.5; 0.5; 0.5;  0.7; 0.7; 0.5]\n",
    "max_dev_u = [0.5; 0.5; 0.5; 0.5]\n",
    "Q = spdiagm(1 ./(max_dev_x.^2))\n",
    "R = spdiagm(1 ./(max_dev_u.^2))\n",
    "Qf = Q\n",
    "\n",
    "# # Number of LQR direct solve matrix sets to cache\n",
    "ρ_list_length = 1\n",
    "\n",
    "# Allocate cache\n",
    "cache = (\n",
    "    A = Ãdyn,\n",
    "    B = B̃dyn,\n",
    "    # ρ_list = [diagm(ones(nu)) for _ in 1:ρ_list_length],\n",
    "    ρ_list = [zeros(1) for _ in 1:ρ_list_length],\n",
    "    Kinf_list = [zeros(nu,nx) for _ in 1:ρ_list_length],\n",
    "    Pinf_list = [zeros(nx,nx) for _ in 1:ρ_list_length],\n",
    "    Quu_inv_list = [zeros(nu,nu) for _ in 1:ρ_list_length],\n",
    "    AmBKt_list = [zeros(nx,nx) for _ in 1:ρ_list_length],\n",
    "    coeff_d2p_list = [zeros(nx,nu) for _ in 1:ρ_list_length],\n",
    ")\n",
    "\n",
    "# Precompute all cached matrices for multiple ρ values starting at ρ = .1 and multiplying by 5\n",
    "for k = 1:ρ_list_length\n",
    "    # ρ\n",
    "    # ρ = diagm([1; 1; 1; 1])*1*5^(k-1)\n",
    "    ρ = 5*5^(k-1);\n",
    "    R̃ = R + ρ*I;\n",
    "    Q̃ = Q + ρ*I;\n",
    "    Q̃f = Qf + ρ*I;\n",
    "    \n",
    "    # Compute Kinf, Pinf\n",
    "    Nriccati = 10000\n",
    "    P = [zeros(nx,nx) for i = 1:Nriccati];   # cost to go quadratic term\n",
    "    K = [zeros(nu,nx) for i = 1:Nriccati-1]; # feedback gain\n",
    "    P[Nriccati] .= Q̃f;\n",
    "    for k = (Nriccati-1):-1:1\n",
    "        K[k] = (R̃ + cache.B'*P[k+1]*cache.B)\\(cache.B'*P[k+1]*cache.A);\n",
    "        P[k] = Q̃ + cache.A'*P[k+1]*(cache.A - cache.B*K[k]);\n",
    "    end\n",
    "\n",
    "    # Cache precomputed values\n",
    "    cache.ρ_list[k] .= ρ;\n",
    "    cache.Kinf_list[k] .= K[1];\n",
    "    cache.Pinf_list[k] .= P[1];\n",
    "    cache.Quu_inv_list[k] .= (R̃ + cache.B'*cache.Pinf_list[k]*cache.B)\\I;\n",
    "    cache.AmBKt_list[k] .= (cache.A - cache.B*cache.Kinf_list[k])';\n",
    "    cache.coeff_d2p_list[k] .= cache.Kinf_list[k]'*R̃ - cache.AmBKt_list[k]*cache.Pinf_list[k]*cache.B;\n",
    "end\n",
    "\n",
    "# Define final time for ref trajectory\n",
    "Tfinal = 15.0\n",
    "N = Int(Tfinal/h)+1\n",
    "\n",
    "# Create reference trajectory\n",
    "X̃ref = [zeros(nx) for i = 1:N]\n",
    "Xref = [[0; 0; 1; 1; zeros(9)] for i = 1:N]\n",
    "Uref = [zeros(nu) for i = 1:N-1]\n",
    "\n",
    "# Compute reference velocity from reference position\n",
    "for i = 1:N-1\n",
    "    Xref[i][8:10] = (Xref[i+1][1:3] - Xref[i][1:3])/h\n",
    "end\n",
    "\n",
    "# Convert (13 state) Xref to reduced form (12 state) X̃ref\n",
    "for k = 1:N\n",
    "    x = Xref[k]\n",
    "    qx = x[4:7]\n",
    "    ϕ = qtorp(L(qg)'*qx)   \n",
    "    X̃ref[k] = [x[1:3]; ϕ; x[8:10]; x[11:13]]\n",
    "end\n",
    "\n",
    "# Set initial state\n",
    "x0 = X̃ref[1] + [0; 0; 0; zeros(9)]\n",
    "\n",
    "# Visualize reference\n",
    "delete!(vis[\"XrefLine\"])\n",
    "XrefLine = [Point(x_[1], x_[2], x_[3]) for x_ in Xref]\n",
    "setobject!(vis[\"XrefLine\"], Object(PointCloud(XrefLine), \n",
    "        LineBasicMaterial(color=Colors.RGBA(0.,0.45,1.)), \"Line\"))\n",
    ";"
   ]
  },
  {
   "cell_type": "code",
   "execution_count": 40,
   "metadata": {},
   "outputs": [
    {
     "data": {
      "text/plain": [
       "export_Xref_to_c (generic function with 1 method)"
      ]
     },
     "metadata": {},
     "output_type": "display_data"
    }
   ],
   "source": [
    "function export_mat_to_c(declare, data)\n",
    "    str = \"tinytype\" * declare * \"= {\\n\"\n",
    "    for i = 1:size(data, 1)\n",
    "        str = str * \"  \"\n",
    "        for j = 1:size(data, 2)\n",
    "            if i == size(data, 1) && j == size(data, 2)\n",
    "                this_str = @sprintf(\"%.7f\\t\", data[i, j])\n",
    "            else\n",
    "                this_str = @sprintf(\"%.7f,\\t\", data[i, j])\n",
    "            end\n",
    "            str = str * this_str\n",
    "        end\n",
    "        str = str * \"\\n\"\n",
    "    end\n",
    "    str = str * \"};\"\n",
    "    return str\n",
    "end\n",
    "\n",
    "function export_diag_to_c(declare, data)\n",
    "    str = \"tinytype\" * declare * \"= {\"\n",
    "    for i = 1:size(data, 1)\n",
    "        if i == size(data, 1)\n",
    "            this_str = @sprintf(\"%.7f\", data[i, i])\n",
    "        else\n",
    "            this_str = @sprintf(\"%.7f,\\t\", data[i, i])\n",
    "        end\n",
    "        str = str * this_str\n",
    "    end\n",
    "    str = str * \"};\"\n",
    "    return str\n",
    "end\n",
    "\n",
    "function export_Xref_to_c(declare, data)\n",
    "    str = \"tinytype\" * declare * \"= {\\n\"\n",
    "    for i = 1:size(data, 1)\n",
    "        str = str * \"  \"\n",
    "        for j = 1:nx\n",
    "            if i == size(data, 1) && j == nx\n",
    "                this_str = @sprintf(\"%.7f\\t\", data[i][j])\n",
    "            else\n",
    "                this_str = @sprintf(\"%.7f,\\t\", data[i][j])\n",
    "            end\n",
    "            # str = str * this_str * \"f\"\n",
    "            str = str * this_str\n",
    "        end\n",
    "        str = str * \"\\n\"\n",
    "    end\n",
    "    str = str * \"};\"\n",
    "    return str\n",
    "end"
   ]
  },
  {
   "cell_type": "code",
   "execution_count": 42,
   "metadata": {},
   "outputs": [
    {
     "ename": "SystemError",
     "evalue": "SystemError: opening file \"quadrotor_100hz_params.hpp\": No such file or directory",
     "output_type": "error",
     "traceback": [
      "SystemError: opening file \"quadrotor_100hz_params.hpp\": No such file or directory\n",
      "\n",
      "Stacktrace:\n",
      " [1] systemerror(p::String, errno::Int32; extrainfo::Nothing)\n",
      "   @ Base ./error.jl:168\n",
      " [2] #systemerror#62\n",
      "   @ ./error.jl:167 [inlined]\n",
      " [3] systemerror\n",
      "   @ ./error.jl:167 [inlined]\n",
      " [4] open(fname::String; lock::Bool, read::Nothing, write::Nothing, create::Nothing, truncate::Bool, append::Nothing)\n",
      "   @ Base ./iostream.jl:293\n",
      " [5] open(fname::String, mode::String; lock::Bool)\n",
      "   @ Base ./iostream.jl:355\n",
      " [6] open(fname::String, mode::String)\n",
      "   @ Base ./iostream.jl:355\n",
      " [7] top-level scope\n",
      "   @ ~/Git/tinympc-julia/state_constraints/tinyMPC-obstacle-chase.ipynb:18"
     ]
    }
   ],
   "source": [
    "boilerplate = \"#pragma once\\n\\n#include <tinympc/types.hpp>\\n\\n\"\n",
    "\n",
    "rho_string = \"tinytype rho_value = \" * string(cache.ρ_list[1][1]) * \";\\n\\n\"\n",
    "\n",
    "A_data_string = export_mat_to_c(\" Adyn_data[NSTATES*NSTATES] \", cache.A) * \"\\n\\n\"\n",
    "B_data_string = export_mat_to_c(\" Bdyn_data[NSTATES*NINPUTS] \", cache.B) * \"\\n\\n\"\n",
    "\n",
    "Kinf_data_string = export_mat_to_c(\" Kinf_data[NINPUTS*NSTATES] \", cache.Kinf_list[1]) * \"\\n\\n\"\n",
    "Pinf_data_string = export_mat_to_c(\" Pinf_data[NSTATES*NSTATES] \", cache.Pinf_list[1]) * \"\\n\\n\"\n",
    "Quu_inv_data_string = export_mat_to_c(\" Quu_inv_data[NINPUTS*NINPUTS] \", cache.Quu_inv_list[1]) * \"\\n\\n\"\n",
    "AmBKt_data_string = export_mat_to_c(\" AmBKt_data[NSTATES*NSTATES] \", cache.AmBKt_list[1]) * \"\\n\\n\"\n",
    "coeff_d2p_data_string = export_mat_to_c(\" coeff_d2p_data[NSTATES*NINPUTS] \", cache.coeff_d2p_list[1]) * \"\\n\\n\"\n",
    "\n",
    "Q_data_string = export_diag_to_c(\" Q_data[NSTATES]\", Q) * \"\\n\\n\"\n",
    "Qf_data_string = export_diag_to_c(\" Qf_data[NSTATES]\", Qf) * \"\\n\\n\"\n",
    "R_data_string = export_diag_to_c(\" R_data[NINPUTS]\", R) * \"\\n\\n\"\n",
    "\n",
    "file = open(\"quadrotor_100hz_params.hpp\", \"w\")\n",
    "write(file, boilerplate);\n",
    "write(file, rho_string);\n",
    "write(file, A_data_string);\n",
    "write(file, B_data_string);\n",
    "write(file, Kinf_data_string);\n",
    "write(file, Pinf_data_string);\n",
    "write(file, Quu_inv_data_string);\n",
    "write(file, AmBKt_data_string);\n",
    "write(file, coeff_d2p_data_string);\n",
    "write(file, Q_data_string);\n",
    "write(file, Qf_data_string);\n",
    "write(file, R_data_string);"
   ]
  },
  {
   "cell_type": "code",
   "execution_count": 45,
   "metadata": {},
   "outputs": [
    {
     "data": {
      "text/plain": [
       "202675"
      ]
     },
     "metadata": {},
     "output_type": "display_data"
    }
   ],
   "source": [
    "X̃_ref_string = export_Xref_to_c(\" Xref_data[NTOTAL*NSTATES] \", X̃ref)\n",
    "\n",
    "open(\"quadrotor_100hz_ref_hover.hpp\", \"w\") do file\n",
    "    write(file, boilerplate)\n",
    "    write(file, X̃_ref_string)\n",
    "end"
   ]
  }
 ],
 "metadata": {
  "kernelspec": {
   "display_name": "Julia 1.6.7",
   "language": "julia",
   "name": "julia-1.6"
  },
  "language_info": {
   "file_extension": ".jl",
   "mimetype": "application/julia",
   "name": "julia",
   "version": "1.6.7"
  },
  "orig_nbformat": 4
 },
 "nbformat": 4,
 "nbformat_minor": 2
}
