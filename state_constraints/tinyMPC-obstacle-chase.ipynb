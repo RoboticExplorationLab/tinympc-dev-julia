{
 "cells": [
  {
   "cell_type": "code",
   "execution_count": null,
   "metadata": {},
   "outputs": [
    {
     "name": "stderr",
     "output_type": "stream",
     "text": [
      "\u001b[32m\u001b[1m  Activating\u001b[22m\u001b[39m environment at `~/tinympc-julia/state_constraints/Project.toml`\n"
     ]
    }
   ],
   "source": [
    "import Pkg;\n",
    "Pkg.activate(@__DIR__);\n",
    "Pkg.instantiate()"
   ]
  },
  {
   "cell_type": "code",
   "execution_count": 26,
   "metadata": {},
   "outputs": [
    {
     "data": {
      "text/plain": [
       "E (generic function with 1 method)"
      ]
     },
     "metadata": {},
     "output_type": "display_data"
    }
   ],
   "source": [
    "using RobotZoo:Quadrotor\n",
    "using RobotDynamics\n",
    "using ForwardDiff\n",
    "using TrajOptPlots\n",
    "using BlockDiagonals\n",
    "using LinearAlgebra\n",
    "using StaticArrays\n",
    "using SparseArrays\n",
    "using ControlSystems\n",
    "\n",
    "using MeshCat\n",
    "using ColorTypes\n",
    "using GeometryBasics: HyperSphere, HyperRectangle, Cylinder, Vec, Point, Mesh\n",
    "using CoordinateTransformations\n",
    "using Rotations\n",
    "\n",
    "using Plots\n",
    "using Printf\n",
    "\n",
    "include(\"../quaternion-stuff.jl\")"
   ]
  },
  {
   "cell_type": "code",
   "execution_count": 27,
   "metadata": {},
   "outputs": [
    {
     "data": {
      "text/plain": [
       "export_Xref_to_c (generic function with 1 method)"
      ]
     },
     "metadata": {},
     "output_type": "display_data"
    }
   ],
   "source": [
    "function export_mat_to_c(declare, data)\n",
    "    str = \"tinytype\" * declare * \"= {\\n\"\n",
    "    for i = 1:size(data, 1)\n",
    "        str = str * \"  \"\n",
    "        for j = 1:size(data, 2)\n",
    "            if i == size(data, 1) && j == size(data, 2)\n",
    "                this_str = @sprintf(\"%.7f\\t\", data[i, j])\n",
    "            else\n",
    "                this_str = @sprintf(\"%.7f,\\t\", data[i, j])\n",
    "            end\n",
    "            str = str * this_str\n",
    "        end\n",
    "        str = str * \"\\n\"\n",
    "    end\n",
    "    str = str * \"};\"\n",
    "    return str\n",
    "end\n",
    "\n",
    "function export_diag_to_c(declare, data)\n",
    "    str = \"tinytype\" * declare * \"= {\"\n",
    "    for i = 1:size(data, 1)\n",
    "        if i == size(data, 1)\n",
    "            this_str = @sprintf(\"%.7f\", data[i, i])\n",
    "        else\n",
    "            this_str = @sprintf(\"%.7f,\\t\", data[i, i])\n",
    "        end\n",
    "        str = str * this_str\n",
    "    end\n",
    "    str = str * \"};\"\n",
    "    return str\n",
    "end\n",
    "\n",
    "function export_Xref_to_c(declare, data)\n",
    "    str = \"tinytype\" * declare * \"= {\\n\"\n",
    "    for i = 1:size(data, 1)\n",
    "        str = str * \"  \"\n",
    "        for j = 1:nx\n",
    "            if i == size(data, 1) && j == nx\n",
    "                this_str = @sprintf(\"%.7f\\t\", data[i][j])\n",
    "            else\n",
    "                this_str = @sprintf(\"%.7f,\\t\", data[i][j])\n",
    "            end\n",
    "            # str = str * this_str * \"f\"\n",
    "            str = str * this_str\n",
    "        end\n",
    "        str = str * \"\\n\"\n",
    "    end\n",
    "    str = str * \"};\"\n",
    "    return str\n",
    "end\n"
   ]
  },
  {
   "cell_type": "code",
   "execution_count": 28,
   "metadata": {},
   "outputs": [],
   "source": [
    "# Quadrotor parameters\n",
    "m = 0.035\n",
    "ℓ = 0.046/sqrt(2)\n",
    "J = [16.6e-6 0.83e-6 0.72e-6;\n",
    "    0.83e-6 16.6e-6 1.8e-6;\n",
    "    0.72e-6 1.8e-6 29.3e-6];\n",
    "gravity = 9.81\n",
    "thrustToTorque = 0.0008\n",
    "scale = 65535\n",
    "kt = 2.245365e-6*scale # u is PWM in range [0...1]\n",
    "km = kt*thrustToTorque #4.4733e-8\n",
    "\n",
    "# From \"design of a trajectory tracking controller for a nanoquadcopter\"\n",
    "# J = [1.395e-5 0 0;\n",
    "#     0 1.436e-5 0;\n",
    "#     0 0 2.173e-5];\n",
    "# kt = .2025\n",
    "# km = .11\n",
    "\n",
    "# h = 1/8000\n",
    "# h = 1/5000\n",
    "# h = 1/1000\n",
    "# h = 1/500\n",
    "# h = 1/250\n",
    "# h = 1/100\n",
    "h = 1/50\n",
    "# h = 1/25\n",
    "# h = 1/10\n",
    "\n",
    "Nx = 13     # number of states (quaternion)\n",
    "Nx̃ = 12     # number of states (linearized)\n",
    "Nu = 4      # number of controls\n",
    "nx = Nx̃\n",
    "nu = Nu\n",
    "\n",
    "#Goal state\n",
    "uhover = (m*gravity/kt/4)*ones(4) # m = 30g and max thrust = 60g\n",
    "# uhover = [0.701, 0.701, 0.832, 0.732]\n",
    "rg = [0.0; 0; 0.0]\n",
    "qg = [1.0; 0; 0; 0]\n",
    "vg = zeros(3)\n",
    "ωg = zeros(3)\n",
    "xg = [rg; qg; vg; ωg];"
   ]
  },
  {
   "cell_type": "code",
   "execution_count": 29,
   "metadata": {},
   "outputs": [
    {
     "data": {
      "text/plain": [
       "4-element Vector{Float64}:\n",
       " 0.5833333520642209\n",
       " 0.5833333520642209\n",
       " 0.5833333520642209\n",
       " 0.5833333520642209"
      ]
     },
     "metadata": {},
     "output_type": "display_data"
    }
   ],
   "source": [
    "uhover"
   ]
  },
  {
   "cell_type": "code",
   "execution_count": 30,
   "metadata": {},
   "outputs": [
    {
     "data": {
      "text/plain": [
       "quad_dynamics_rk4 (generic function with 1 method)"
      ]
     },
     "metadata": {},
     "output_type": "display_data"
    }
   ],
   "source": [
    "function quad_dynamics(x,u)\n",
    "  r = x[1:3]\n",
    "  q = x[4:7]/norm(x[4:7]) #normalize q just to be careful\n",
    "  v = x[8:10]\n",
    "  ω = x[11:13]\n",
    "  Q = qtoQ(q)\n",
    "  \n",
    "  ṙ = v\n",
    "  q̇ = 0.5*L(q)*H*ω\n",
    "  \n",
    "  b = 1/m\n",
    "\n",
    "  v̇ = [0; 0; -gravity] + (1/m)*Q*[zeros(2,4); kt*ones(1,4)]*u \n",
    "\n",
    "  ω̇ = J\\(-hat(ω)*J*ω + [-ℓ*kt -ℓ*kt ℓ*kt ℓ*kt; -ℓ*kt ℓ*kt ℓ*kt -ℓ*kt; -km km -km km]*u)\n",
    "  \n",
    "  return [ṙ; q̇; v̇; ω̇]\n",
    "end\n",
    "function quad_dynamics_rk4(x,u)\n",
    "  #RK4 integration with zero-order hold on u\n",
    "  f1 = quad_dynamics(x, u)\n",
    "  f2 = quad_dynamics(x + 0.5*h*f1, u)\n",
    "  f3 = quad_dynamics(x + 0.5*h*f2, u)\n",
    "  f4 = quad_dynamics(x + h*f3, u)\n",
    "  xn = x + (h/6.0)*(f1 + 2*f2 + 2*f3 + f4)\n",
    "  xn[4:7] = xn[4:7]/norm(xn[4:7]) #re-normalize quaternion\n",
    "  return xn\n",
    "end"
   ]
  },
  {
   "cell_type": "code",
   "execution_count": 31,
   "metadata": {},
   "outputs": [],
   "source": [
    "#Linearize dynamics about hover\n",
    "Adyn = ForwardDiff.jacobian(x->quad_dynamics_rk4(x,uhover),xg)\n",
    "Bdyn = ForwardDiff.jacobian(u->quad_dynamics_rk4(xg,u),uhover);\n",
    "Ãdyn = Array(E(qg)'*Adyn*E(qg))\n",
    "B̃dyn = Array(E(qg)'*Bdyn);"
   ]
  },
  {
   "cell_type": "code",
   "execution_count": 32,
   "metadata": {},
   "outputs": [
    {
     "data": {
      "text/plain": [
       "12×12 Matrix{Float64}:\n",
       " 1.0  0.0  0.0   0.0          0.003924     …   1.308e-5     -2.96444e-27\n",
       " 0.0  1.0  0.0  -0.003924     0.0              0.0          -8.30044e-27\n",
       " 0.0  0.0  1.0   5.92889e-25  1.66009e-24      8.30044e-27   0.0\n",
       " 0.0  0.0  0.0   1.0          1.19137e-20     -1.91331e-23   2.82765e-23\n",
       " 0.0  0.0  0.0  -1.19137e-20  1.0              0.01         -1.14919e-23\n",
       " 0.0  0.0  0.0  -1.26918e-21  4.53279e-22  …   4.53279e-24   0.01\n",
       " 0.0  0.0  0.0   0.0          0.3924           0.001962     -1.57202e-24\n",
       " 0.0  0.0  0.0  -0.3924       0.0              1.35643e-23  -4.01899e-24\n",
       " 0.0  0.0  0.0   1.18578e-22  3.32018e-22      2.49013e-24   0.0\n",
       " 0.0  0.0  0.0   0.0          0.0             -1.76536e-20   7.21376e-21\n",
       " 0.0  0.0  0.0   0.0          0.0          …   1.0          -2.99429e-21\n",
       " 0.0  0.0  0.0   0.0          0.0              9.06558e-22   1.0"
      ]
     },
     "metadata": {},
     "output_type": "display_data"
    },
    {
     "data": {
      "text/plain": [
       "12×4 Matrix{Float64}:\n",
       " -1.80966e-5    1.98998e-5    1.8153e-5    -1.99562e-5\n",
       "  1.80082e-5    1.98315e-5   -1.80283e-5   -1.98114e-5\n",
       "  0.000840857   0.000840857   0.000840857   0.000840857\n",
       " -0.0275355    -0.0303234     0.0275663     0.0302926\n",
       " -0.0276707     0.0304278     0.027757     -0.0305141\n",
       "  0.00197477   -0.000722364  -0.00278438    0.00153197\n",
       " -0.00361933    0.00397996    0.00363061   -0.00399124\n",
       "  0.00360164    0.0039663    -0.00360567   -0.00396227\n",
       "  0.0840857     0.0840857     0.0840857     0.0840857\n",
       " -5.50709      -6.06468       5.51325       6.05852\n",
       " -5.53414       6.08557       5.55139      -6.10282\n",
       "  0.394954     -0.144473     -0.556875      0.306394"
      ]
     },
     "metadata": {},
     "output_type": "display_data"
    },
    {
     "data": {
      "text/plain": [
       "1.4778280166701019"
      ]
     },
     "metadata": {},
     "output_type": "display_data"
    },
    {
     "data": {
      "text/plain": [
       "75.83971616632428"
      ]
     },
     "metadata": {},
     "output_type": "display_data"
    }
   ],
   "source": [
    "display(Ãdyn)\n",
    "display(B̃dyn)\n",
    "display(cond(Ãdyn))\n",
    "display(cond(B̃dyn))"
   ]
  },
  {
   "cell_type": "code",
   "execution_count": 57,
   "metadata": {},
   "outputs": [
    {
     "name": "stderr",
     "output_type": "stream",
     "text": [
      "┌ Info: MeshCat server started. You can open the visualizer by visiting the following URL in your browser:\n",
      "│ http://127.0.0.1:8702\n",
      "└ @ MeshCat /home/tinympc/.julia/packages/MeshCat/GlCMx/src/visualizer.jl:73\n"
     ]
    },
    {
     "data": {
      "text/plain": [
       "TransformPlane (generic function with 1 method)"
      ]
     },
     "metadata": {},
     "output_type": "display_data"
    }
   ],
   "source": [
    "vis = Visualizer()\n",
    "quad_model = Quadrotor()\n",
    "TrajOptPlots.set_mesh!(vis, quad_model)\n",
    "\n",
    "function TransformPlane(visObject, center, dir)\n",
    "\n",
    "    tol = 1e-4\n",
    "    x_axis = [1.0; 0.0; 0.0]\n",
    "\n",
    "    # Compute axis angle\n",
    "    dot = x_axis'*dir\n",
    "    if dot > 1-tol\n",
    "        axis = x_axis\n",
    "    elseif dot < -1+tol\n",
    "        axis = -x_axis\n",
    "    else\n",
    "        axis = cross(x_axis, dir)\n",
    "    end\n",
    "    angle = acos(x_axis'*dir)\n",
    "\n",
    "    settransform!(visObject, Translation(center...) ∘ LinearMap(AngleAxis(angle, axis...)))\n",
    "end"
   ]
  },
  {
   "cell_type": "code",
   "execution_count": 107,
   "metadata": {},
   "outputs": [],
   "source": [
    "# Cost weights\n",
    "max_dev_x = [0.01; 0.01; 0.01; 0.5; 0.5; 0.05;  0.5; 0.5; 0.5;  0.7; 0.7; 0.5]\n",
    "max_dev_u = [0.1; 0.1; 0.1; 0.1]\n",
    "# max_dev_u = [0.02; 0.02; 0.02; 0.02]\n",
    "Q = diagm(1 ./(max_dev_x.^2))\n",
    "R = diagm(1 ./(max_dev_u.^2))\n",
    "# Q = spdiagm([100, 100, 100,  4, 4, 400,  4, 4, 4,  2, 2, 4])\n",
    "# R = spdiagm([4, 4, 4, 4])\n",
    "# Q = spdiagm([100, 100, 400,  4, 4, 100,  4, 4, 4,  2, 2, 4]) #.*5^2\n",
    "# R = spdiagm([5, 5, 5, 5]) #.*5^2\n",
    "Qf = Q\n",
    "# ρ = 5\n",
    "# R̃ = R + ρ*I;\n",
    "# Q̃ = Q + ρ*I;\n",
    "# Q̃f = Qf + ρ*I;\n",
    ";"
   ]
  },
  {
   "cell_type": "code",
   "execution_count": 116,
   "metadata": {},
   "outputs": [
    {
     "data": {
      "text/plain": [
       "4×4 Matrix{Float64}:\n",
       " 100.0    0.0    0.0    0.0\n",
       "   0.0  100.0    0.0    0.0\n",
       "   0.0    0.0  100.0    0.0\n",
       "   0.0    0.0    0.0  100.0"
      ]
     },
     "metadata": {},
     "output_type": "display_data"
    }
   ],
   "source": [
    "R"
   ]
  },
  {
   "cell_type": "code",
   "execution_count": 103,
   "metadata": {},
   "outputs": [],
   "source": [
    "# Adync = ForwardDiff.jacobian(x->quad_dynamics(x,uhover),xg)\n",
    "# Bdync = ForwardDiff.jacobian(u->quad_dynamics(xg,u),uhover);\n",
    "# Ãdync = Array(E(qg)'*Adync*E(qg))\n",
    "# B̃dync = Array(E(qg)'*Bdync);\n",
    "\n",
    "# Kc = lqr(Continuous, Ãdync, B̃dync, Q̃, R̃)\n",
    "# display(Kc)"
   ]
  },
  {
   "cell_type": "code",
   "execution_count": 108,
   "metadata": {},
   "outputs": [
    {
     "data": {
      "text/plain": [
       "4×12 Matrix{Float64}:\n",
       " -1.33252   1.33521  4.28413  -1.23061  …  -0.0546082  -0.0647876  -0.279677\n",
       "  1.23343   1.22886  4.28413  -1.05931     -0.0369556   0.0609616   0.279334\n",
       "  1.31463  -1.32819  4.28413   1.15196      0.040783    0.0302132  -0.278478\n",
       " -1.21554  -1.23588  4.28413   1.13796      0.0507808  -0.0263872   0.278821"
      ]
     },
     "metadata": {},
     "output_type": "display_data"
    }
   ],
   "source": [
    "# Number of backward pass related matrix sets to cache\n",
    "ρ_list_length = 1\n",
    "\n",
    "# Allocate cache\n",
    "cache = (\n",
    "    A = Ãdyn,\n",
    "    B = B̃dyn,\n",
    "    # ρ_list = [diagm(ones(nu)) for _ in 1:ρ_list_length],\n",
    "    ρ_list = [zeros(1) for _ in 1:ρ_list_length],\n",
    "    Kinf_list = [zeros(nu,nx) for _ in 1:ρ_list_length],\n",
    "    Pinf_list = [zeros(nx,nx) for _ in 1:ρ_list_length],\n",
    "    Quu_inv_list = [zeros(nu,nu) for _ in 1:ρ_list_length],\n",
    "    AmBKt_list = [zeros(nx,nx) for _ in 1:ρ_list_length],\n",
    "    coeff_d2p_list = [zeros(nx,nu) for _ in 1:ρ_list_length],\n",
    ")\n",
    "\n",
    "# Precompute all cached matrices for multiple ρ values starting at ρ = .1 and multiplying by 5\n",
    "for k = 1:ρ_list_length\n",
    "    # ρ\n",
    "    # ρ = diagm([1; 1; 1; 1])*1*5^(k-1)\n",
    "    ρ = 5*(5^(k-1));\n",
    "    R̃ = R + ρ*I;\n",
    "    Q̃ = Q + ρ*I;\n",
    "    Q̃f = Qf + ρ*I;\n",
    "\n",
    "    # K1 = dlqr(cache.A, cache.B, Q̃, R̃)\n",
    "    # display(K)\n",
    "    \n",
    "    K = zeros(nu,nx)\n",
    "    P = zeros(nx,nx)\n",
    "    Kprev = zeros(nu,nx)\n",
    "    Pprev = zeros(nx,nx)\n",
    "    \n",
    "    # Compute Kinf, Pinf\n",
    "    riccati_iters = 0\n",
    "    riccati_err = 1e-10\n",
    "    Pprev = Q̃f\n",
    "    while true\n",
    "        K = (R̃ + cache.B'*Pprev*cache.B)\\(cache.B'*Pprev*cache.A);\n",
    "        P = Q̃ + cache.A'*Pprev*(cache.A - cache.B*K);\n",
    "        if maximum(abs.(K - Kprev)) < riccati_err\n",
    "            break\n",
    "        end\n",
    "        Kprev = K\n",
    "        Pprev = P\n",
    "        riccati_iters += 1\n",
    "    end\n",
    "    display(K)\n",
    "    # display(maximum(K1-K))\n",
    "\n",
    "    # Cache precomputed values\n",
    "    cache.ρ_list[k] .= ρ;\n",
    "    # cache.Kinf_list[k] .= K[1];\n",
    "    # cache.Pinf_list[k] .= P[1];\n",
    "    cache.Kinf_list[k] .= K;\n",
    "    cache.Pinf_list[k] .= P;\n",
    "    cache.Quu_inv_list[k] .= (R̃ + cache.B'*cache.Pinf_list[k]*cache.B)\\I;\n",
    "    cache.AmBKt_list[k] .= (cache.A - cache.B*cache.Kinf_list[k])';\n",
    "    cache.coeff_d2p_list[k] .= cache.Kinf_list[k]'*R̃ - cache.AmBKt_list[k]*cache.Pinf_list[k]*cache.B;\n",
    "end"
   ]
  },
  {
   "cell_type": "code",
   "execution_count": 105,
   "metadata": {},
   "outputs": [
    {
     "data": {
      "text/plain": [
       "12-element Vector{Float64}:\n",
       " 0.08449506260033615\n",
       " 0.0987269619420087\n",
       " 0.9454297777422224\n",
       " 0.9454400190301139\n",
       " 0.9533006926901975\n",
       " 0.9533006926901975\n",
       " 0.9548608956785447\n",
       " 0.9548608956785447\n",
       " 0.9568599834716656\n",
       " 0.9568599834716656\n",
       " 0.9569469053227603\n",
       " 0.9569469053227603"
      ]
     },
     "metadata": {},
     "output_type": "display_data"
    }
   ],
   "source": [
    "# log.(eigvals(Ãdyn-B̃dyn*cache.Kinf_list[1]))\n",
    "abs.(eigvals(Ãdyn-B̃dyn*cache.Kinf_list[1]))"
   ]
  },
  {
   "cell_type": "code",
   "execution_count": 109,
   "metadata": {},
   "outputs": [
    {
     "data": {
      "text/plain": [
       "81"
      ]
     },
     "metadata": {},
     "output_type": "display_data"
    }
   ],
   "source": [
    "boilerplate = \"#pragma once\\n\\n#include <tinympc/types.hpp>\\n\\n\"\n",
    "\n",
    "rho_string = \"tinytype rho_value = \" * string(cache.ρ_list[1][1]) * \";\\n\\n\"\n",
    "\n",
    "A_data_string = export_mat_to_c(\" Adyn_data[NSTATES*NSTATES] \", cache.A) * \"\\n\\n\"\n",
    "B_data_string = export_mat_to_c(\" Bdyn_data[NSTATES*NINPUTS] \", cache.B) * \"\\n\\n\"\n",
    "\n",
    "Kinf_data_string = export_mat_to_c(\" Kinf_data[NINPUTS*NSTATES] \", cache.Kinf_list[1]) * \"\\n\\n\"\n",
    "Pinf_data_string = export_mat_to_c(\" Pinf_data[NSTATES*NSTATES] \", cache.Pinf_list[1]) * \"\\n\\n\"\n",
    "Quu_inv_data_string = export_mat_to_c(\" Quu_inv_data[NINPUTS*NINPUTS] \", cache.Quu_inv_list[1]) * \"\\n\\n\"\n",
    "AmBKt_data_string = export_mat_to_c(\" AmBKt_data[NSTATES*NSTATES] \", cache.AmBKt_list[1]) * \"\\n\\n\"\n",
    "coeff_d2p_data_string = export_mat_to_c(\" coeff_d2p_data[NSTATES*NINPUTS] \", cache.coeff_d2p_list[1]) * \"\\n\\n\"\n",
    "\n",
    "Q_data_string = export_diag_to_c(\" Q_data[NSTATES]\", Q) * \"\\n\\n\"\n",
    "Qf_data_string = export_diag_to_c(\" Qf_data[NSTATES]\", Qf) * \"\\n\\n\"\n",
    "R_data_string = export_diag_to_c(\" R_data[NINPUTS]\", R) * \"\\n\\n\"\n",
    "\n",
    "open(\"quadrotor_50hz_params_3.hpp\", \"w\") do file\n",
    "    write(file, boilerplate);\n",
    "    write(file, rho_string);\n",
    "    write(file, A_data_string);\n",
    "    write(file, B_data_string);\n",
    "    write(file, Kinf_data_string);\n",
    "    write(file, Pinf_data_string);\n",
    "    write(file, Quu_inv_data_string);\n",
    "    write(file, AmBKt_data_string);\n",
    "    write(file, coeff_d2p_data_string);\n",
    "    write(file, Q_data_string);\n",
    "    write(file, Qf_data_string);\n",
    "    write(file, R_data_string);\n",
    "end"
   ]
  },
  {
   "cell_type": "code",
   "execution_count": 131,
   "metadata": {},
   "outputs": [],
   "source": [
    "# Create reference sketch trajectory\n",
    "Tfinal = 5\n",
    "N = Int(Tfinal/h)+1\n",
    "\n",
    "X̃ref = [zeros(nx) for i = 1:N]\n",
    "# Xref = [[0; 0; 1; 1; zeros(9)] for i = 1:N] # Point\n",
    "Xref = [[0; t; 1; 1; zeros(9)] for t in range(-1.5, 1.5, length=N)] # Line\n",
    "# Xref = [[sin(t); cos(t); 1; 1; zeros(9)] for t in range(-pi/2, 3*pi/2, length=N)] # Circle\n",
    "# Xref = [[sin(2*t); 2*cos(t); 1; 1; zeros(9)] for t in range(-pi/2, 3*pi/2, length=N)] # Figure-eight\n",
    "Uref = [zeros(nu) for i = 1:N-1]\n",
    "\n",
    "# Compute reference velocity from reference position\n",
    "for i = 1:N-1\n",
    "    Xref[i][8:10] = (Xref[i+1][1:3] - Xref[i][1:3])/h\n",
    "end\n",
    "\n",
    "# Convert (13 state) Xref to reduced form (12 state) X̃ref\n",
    "for k = 1:N\n",
    "    x = Xref[k]\n",
    "    qx = x[4:7]\n",
    "    ϕ = qtorp(L(qg)'*qx)   \n",
    "    X̃ref[k] = [x[1:3]; ϕ; x[8:10]; x[11:13]]\n",
    "end\n",
    "\n",
    "# Set initial state\n",
    "x0 = X̃ref[1] + [0; 0; 0; zeros(9)]\n",
    "# x0 = [0.1; 0.1; 0; zeros(9)]\n",
    "\n",
    "# Visualize reference\n",
    "delete!(vis[\"XrefLine\"])\n",
    "XrefLine = [Point(x_[1], x_[2], x_[3]) for x_ in Xref]\n",
    "setobject!(vis[\"XrefLine\"], Object(PointCloud(XrefLine), \n",
    "        LineBasicMaterial(color=Colors.RGBA(0.,0.45,1.)), \"Line\"))\n",
    ";"
   ]
  },
  {
   "cell_type": "code",
   "execution_count": 133,
   "metadata": {},
   "outputs": [
    {
     "data": {
      "text/plain": [
       "34050"
      ]
     },
     "metadata": {},
     "output_type": "display_data"
    }
   ],
   "source": [
    "X̃_ref_string = export_Xref_to_c(\" Xref_data[NTOTAL*NSTATES] \", X̃ref)\n",
    "\n",
    "open(\"quadrotor_50hz_line_5s.hpp\", \"w\") do file\n",
    "    write(file, boilerplate)\n",
    "    write(file, X̃_ref_string)\n",
    "end"
   ]
  },
  {
   "cell_type": "code",
   "execution_count": 126,
   "metadata": {},
   "outputs": [
    {
     "name": "stdout",
     "output_type": "stream",
     "text": [
      "  1.669201 seconds (5.33 M allocations: 475.149 MiB, 9.09% gc time, 52.22% compilation time)\n"
     ]
    },
    {
     "data": {
      "text/plain": [
       "MeshCat Visualizer with path /meshcat/xHistline at http://127.0.0.1:8702"
      ]
     },
     "metadata": {},
     "output_type": "display_data"
    }
   ],
   "source": [
    "include(\"../tinyMPC-ADMM-dt-state.jl\")\n",
    "\n",
    "speye(N) = spdiagm(ones(N))\n",
    "\n",
    "\n",
    "# Clean up MeshCat environment from previous run\n",
    "for k in 1:10000\n",
    "    delete!(vis[\"xlin \" * string(k)])\n",
    "    delete!(vis[\"linearized constraint \" * string(k)])\n",
    "    delete!(vis[\"obstacle \" * string(k)])\n",
    "    delete!(vis[\"bounding obstacle \" * string(k)])\n",
    "end\n",
    "\n",
    "\n",
    "\n",
    "# Used for skipping skip_obs number of linearized obstacle constraints (skips both visualization and computation)\n",
    "skip_obs = 1\n",
    "\n",
    "# MPC setup\n",
    "Nh = 25\n",
    "\n",
    "\n",
    "# Create obstacle in MeshCat\n",
    "obstacle_center = [0.0; 2.0; 0.5]\n",
    "obstacle_velocity = 1 * h\n",
    "\n",
    "r_vis = 0.1\n",
    "r_obstacle = 0.75\n",
    "\n",
    "# Create visualization data to populate during MPC solution\n",
    "\n",
    "# bounding_material = MeshPhongMaterial(color=RGBA(1, 1, 1, 0.25))\n",
    "# thin_rect_material = MeshPhongMaterial(color=RGBA(0, 1, 0, 0.25))\n",
    "# constraintPlanes = [setobject!(vis[\"linearized constraint \" * string(k)], HyperRectangle(Vec(-0.0005,-0.5,-0.5), Vec(0.001,1,1)), thin_rect_material) for k in 1:skip_obs:Nh]\n",
    "\n",
    "\n",
    "# Instantiate TinyMPC-ADMM variables\n",
    "\n",
    "x = [zeros(nx) for i = 1:Nh]\n",
    "u = [zeros(nu) for i = 1:Nh-1]\n",
    "\n",
    "q = [zeros(nx) for i = 1:Nh];\n",
    "r = [zeros(nu) for i = 1:Nh-1];\n",
    "\n",
    "p = [zeros(nx) for i = 1:Nh];      # cost to go linear term\n",
    "p[Nh] = q[Nh];\n",
    "\n",
    "d = [zeros(nu) for i = 1:Nh-1];    # feedforward control\n",
    "\n",
    "# Input constraints\n",
    "umin = -[1.0; 1.0; 1.0; 1.0]*.5\n",
    "umax = [1.0; 1.0; 1.0; 1.0]*.5\n",
    "\n",
    "# State constraints\n",
    "# xmin = [-Inf .* ones(nx) for i = 1:Nh]\n",
    "# xmax = [[Inf; 0.5; Inf .* ones(10)] for i = 1:Nh]\n",
    "xmin = [-Inf for i = 1:Nh] # Only one -Inf per knot point because only one inequality constraint (for now)\n",
    "# xmax = [zeros(1) for i = 1:Nh]\n",
    "xmax = [ones(1)*Inf for i = 1:Nh]\n",
    "\n",
    "# Aineq = [speye(nx) for i = 1:Nh]\n",
    "Aineq = [zeros(nx) for i = 1:Nh]\n",
    "\n",
    "# for k = 1:skip_obs:Nh\n",
    "#     xc = obstacle_center - X̃ref[k][1:3]\n",
    "#     a = xc/norm(xc)\n",
    "\n",
    "#     Aineq[k][1:3] = a'\n",
    "\n",
    "#     q_c = obstacle_center - r_obstacle*a\n",
    "#     b = a'*q_c\n",
    "#     xmax[k][1] = b\n",
    "#     TransformPlane(constraintPlanes[cld(k,skip_obs)], q_c, a)\n",
    "# end\n",
    "\n",
    "\n",
    "\n",
    "# Simulate\n",
    "Nsim = N - Nh\n",
    "xhist = [zeros(nx+1) for _ = 1:Nsim] # nx+1 because not reduced form\n",
    "xhist[1] = [x0[1:3]; rptoq(x0[4:6]); x0[7:12]]\n",
    "uhist = [zeros(nu) for _ = 1:Nsim-1]\n",
    "@time for k = 1:Nsim-1 # Nsim-1 knotpoints for control, Nsim knotpoints for state\n",
    "\n",
    "    # State slack (auxiliary) and dual variables\n",
    "    v = [zeros(nx) for i = 1:Nh]\n",
    "    vnew = [zeros(nx) for i = 1:Nh]\n",
    "    g = [zeros(nx) for i = 1:Nh]\n",
    "\n",
    "    # Input slack (auxiliary) and dual variables\n",
    "    z = [zeros(nu) for i = 1:Nh-1]\n",
    "    znew = [zeros(nu) for i = 1:Nh-1]\n",
    "    y = [zeros(nu) for i = 1:Nh-1]\n",
    "\n",
    "    x[1] = [xhist[k][1:3]; qtorp(xhist[k][4:7]); xhist[k][8:end]]\n",
    "\n",
    "    # params.constraint_A .= Aineq\n",
    "    # params.umin .= umin\n",
    "    # params.umax .= umax\n",
    "    # params.xmin .= xmin\n",
    "    # params.xmax .= xmax\n",
    "    # params.Xref .= X̃ref[k:k+Nh-1]\n",
    "    # params.Uref .= Uref[k:k+Nh-2]\n",
    "    \n",
    "    params = (\n",
    "        N = Nh,\n",
    "        Q = Q, R = R, Qf = Qf,\n",
    "        constraint_A = Aineq,\n",
    "        umin = umin, umax = umax,\n",
    "        xmin = xmin, xmax = xmax,\n",
    "        Xref = X̃ref[k:k+Nh-1], Uref = Uref[k:k+Nh-2], \n",
    "        cache = cache,\n",
    "\n",
    "        ρ_index = [1]\n",
    "    )\n",
    "\n",
    "    # Solve\n",
    "    Δu, status, iter = solve_admm!(vis, params, q, r, p, d, x,v,vnew,g, u,z,znew,y; abs_tol=1e-3, max_iter=20)\n",
    "    # @show iter, status\n",
    "    # display(\"iter: \" * string(iter))\n",
    "    # display(\"h[z]: \" * string(x[Nh][3]))\n",
    "    # display(\"h: \" * string(x[Nh]))\n",
    "    \n",
    "    # Roll out x_k+1 with actual dynamics\n",
    "    uhist[k] = Δu[1] + uhover\n",
    "    xhist[k+1] = quad_dynamics_rk4(xhist[k], uhist[k])\n",
    "    \n",
    "    # Roll out with real dynamics\n",
    "    x_real = [zeros(nx+1) for _ = 1:Nh]\n",
    "    x_real[1] = xhist[k]\n",
    "    for j = 1:Nh-1\n",
    "        x_real[j+1] = quad_dynamics_rk4(x_real[j], uhist[k])\n",
    "    end\n",
    "\n",
    "    # Visualize solution x\n",
    "    x_linearized = [Point(xp[1], xp[2], xp[3]) for xp in x_real]\n",
    "    if k > 1\n",
    "        x_lin_name_prev = \"xlin \" * string(k-1)\n",
    "        setvisible!(vis[x_lin_name_prev], false)\n",
    "    end\n",
    "    x_lin_name = \"xlin \" * string(k)\n",
    "    setobject!(vis[x_lin_name], Object(PointCloud(x_linearized), \n",
    "        LineBasicMaterial(color=Colors.RGBA(1,0.6,0.0)), \"Line\"))\n",
    "\n",
    "    # Create constraints for each knot point in the horizon\n",
    "    #   assuming the obstacle's center moves at constant velocity between each step\n",
    "    obstacle_to_quad = x_real[1][1:3] - obstacle_center\n",
    "    obstacle_to_quad_dir = obstacle_to_quad / norm(obstacle_to_quad)\n",
    "    obstacle_dist_traveled = obstacle_velocity * obstacle_to_quad_dir\n",
    "    \n",
    "    # # Update linearized obstacle constraints\n",
    "    # if k > 1\n",
    "    #     for i = 1:Nh\n",
    "    #         setvisible!(vis[\"linearized constraint \" * string((k-2)*Nh + i)], false)\n",
    "    #     end\n",
    "    # end\n",
    "    # constraintPlanes = [setobject!(vis[\"linearized constraint \" * string((k-1)*Nh + i)], HyperRectangle(Vec(-0.0005,-0.5,-0.5), Vec(0.001,1,1)), thin_rect_material) for i in 1:skip_obs:Nh]\n",
    "    for j = 1:skip_obs:Nh\n",
    "        obstacle_center_prediction = obstacle_center + obstacle_dist_traveled*j\n",
    "        xc = obstacle_center_prediction - x_real[j][1:3]\n",
    "        a = xc/norm(xc) # hyperplane projection expects normalized a\n",
    "\n",
    "        Aineq[j][1:3] = a'\n",
    "\n",
    "        q_c = obstacle_center_prediction - r_obstacle*a\n",
    "        b = a'*q_c\n",
    "        xmax[j][1] = b\n",
    "        TransformPlane(constraintPlanes[cld(j,skip_obs)], q_c, a)\n",
    "    end\n",
    "\n",
    "    # Update actual obstacle location at x=0\n",
    "    # obstacle_center += obstacle_dist_traveled\n",
    "    \n",
    "    # # Visualize cylinder\n",
    "    # if k > 1\n",
    "    #     setvisible!(vis[\"obstacle \" * string(k-1)], false)\n",
    "    #     setvisible!(vis[\"bounding obstacle \" * string(k-1)], false)\n",
    "    # end\n",
    "    # cyl_vis = setobject!(vis[\"obstacle \" * string(k)], Cylinder(Point(0, 0, -0.5), Point(0, 0, 0.5), r_vis))\n",
    "    # cyl_avoid = setobject!(vis[\"bounding obstacle \" * string(k)], Cylinder(Point(0, 0, -5.05), Point(0, 0, 5.05), r_obstacle), bounding_material)\n",
    "    # settransform!(cyl_vis, Translation(obstacle_center[1], obstacle_center[2], obstacle_center[3]))\n",
    "\n",
    "    # # Visualize sphere\n",
    "    # if k > 1\n",
    "    #     setvisible!(vis[\"obstacle \" * string(k-1)], false)\n",
    "    #     setvisible!(vis[\"bounding obstacle \" * string(k-1)], false)\n",
    "    # end\n",
    "    # setobject!(vis[\"obstacle \" * string(k)], HyperSphere(Point(obstacle_center...), r_vis))\n",
    "    # setobject!(vis[\"bounding obstacle \" * string(k)], HyperSphere(Point(obstacle_center...), r_obstacle), bounding_material)\n",
    "end\n",
    "\n",
    "delete!(vis[\"xHistline\"])\n",
    "xHistline = [Point(x_[1], x_[2], x_[3]) for x_ in xhist]\n",
    "setobject!(vis[\"xHistline\"], Object(PointCloud(xHistline), \n",
    "LineBasicMaterial(color=Colors.RGBA(0.75,0.5,0.8)), \"Line\"))"
   ]
  },
  {
   "cell_type": "code",
   "execution_count": 127,
   "metadata": {},
   "outputs": [],
   "source": [
    "X1 = [SVector{13}(x_) for x_ in xhist];\n",
    "visualize!(vis, quad_model, Tfinal, X1)"
   ]
  },
  {
   "cell_type": "code",
   "execution_count": 35,
   "metadata": {},
   "outputs": [],
   "source": [
    "# constraintPlanes = [setobject!(vis[\"linearized constraint \" * string(k)], HyperRectangle(Vec(0.0,0.0,0.0), Vec(0.001,2.0,1.0)), thin_rect_material) for k in 1:Nh]\n",
    "for k in 1:N\n",
    "    delete!(vis[\"linearized constraint \" * string(k)])\n",
    "end\n",
    "\n",
    "# Create MeshCat animation\n",
    "anim = MeshCat.Animation()\n",
    "\n",
    "for k = 1:Nsim-1\n",
    "    atframe(anim, k-1) do\n",
    "        # Set visibility of each object to false\n",
    "        if k == 1\n",
    "            for j = 1:Nsim\n",
    "                for i = 1:Nh\n",
    "                    setvisible!(vis[\"linearized constraint \" * string((j-1)*Nh + i)], false)\n",
    "                end\n",
    "                setvisible!(vis[\"xlin \" * string(j)], false)\n",
    "                setvisible!(vis[\"obstacle \" * string(j)], false)\n",
    "                setvisible!(vis[\"bounding obstacle \" * string(j)], false)\n",
    "            end\n",
    "        end\n",
    "\n",
    "        # Change visible obstacle\n",
    "        setvisible!(vis[\"obstacle \" * string(k)], true)\n",
    "        setvisible!(vis[\"bounding obstacle \" * string(k)], true)\n",
    "        if k > 1\n",
    "            setvisible!(vis[\"obstacle \" * string(k-1)], false)\n",
    "            setvisible!(vis[\"bounding obstacle \" * string(k-1)], false)\n",
    "        end\n",
    "\n",
    "\n",
    "        # Update obstacle constraint visuals\n",
    "        for i = 1:Nh\n",
    "            setvisible!(vis[\"linearized constraint \" * string((k-1)*Nh + i)], true)\n",
    "        end\n",
    "        if k > 1\n",
    "            for i = 1:Nh\n",
    "                setvisible!(vis[\"linearized constraint \" * string((k-2)*Nh + i)], false)\n",
    "            end\n",
    "        end\n",
    "        \n",
    "\n",
    "        # Change visible horizon\n",
    "        setvisible!(vis[\"xlin \" * string(k)], true)\n",
    "        if k > 1\n",
    "            setvisible!(vis[\"xlin \" * string(k-1)], false)\n",
    "        end\n",
    "\n",
    "        # Update quadrotor transform\n",
    "        xbar = RBState(quad_model, xhist[k])\n",
    "        if quad_model.ned\n",
    "            rq = position(xbar)\n",
    "            vq = linear_velocity(xbar)\n",
    "            rq = SA[rq[1],-rq[2],-rq[3]]\n",
    "            vq = SA[vq[1],-vq[2],-vq[3]]\n",
    "            xbar = RBState(rq, RotX(pi)*orientation(xbar), vq, angular_velocity(xbar)) \n",
    "        end\n",
    "        settransform!(vis[\"robot\"], Translation(position(xbar)) ∘ LinearMap(UnitQuaternion(orientation(xbar))))\n",
    "    end\n",
    "end\n",
    "\n",
    "setanimation!(vis, anim)"
   ]
  },
  {
   "cell_type": "code",
   "execution_count": 36,
   "metadata": {},
   "outputs": [
    {
     "ename": "ErrorException",
     "evalue": "The output path /Users/anoushkaalavill/Documents/REx_Lab/tinympc-julia/state_constraints/output.mp4 already exists. To overwrite that file, you can pass `overwrite=true` to this function",
     "output_type": "error",
     "traceback": [
      "The output path /Users/anoushkaalavill/Documents/REx_Lab/tinympc-julia/state_constraints/output.mp4 already exists. To overwrite that file, you can pass `overwrite=true` to this function\n",
      "\n",
      "Stacktrace:\n",
      " [1] error(s::String)\n",
      "   @ Base ./error.jl:33\n",
      " [2] convert_frames_to_video(tar_file_path::String, output_path::String; framerate::Int64, overwrite::Bool)\n",
      "   @ MeshCat ~/.julia/packages/MeshCat/GlCMx/src/animations.jl:106\n",
      " [3] convert_frames_to_video (repeats 2 times)\n",
      "   @ ~/.julia/packages/MeshCat/GlCMx/src/animations.jl:101 [inlined]\n",
      " [4] top-level scope\n",
      "   @ ~/Documents/REx_Lab/tinympc-julia/state_constraints/tinyMPC-obstacle-chase.ipynb:1"
     ]
    }
   ],
   "source": [
    "MeshCat.convert_frames_to_video(\n",
    "    \"/Users/anoushkaalavill/Documents/REx_Lab/tinympc-julia/state_constraints/state_constraints_tinympc.tar\")"
   ]
  },
  {
   "cell_type": "code",
   "execution_count": 37,
   "metadata": {},
   "outputs": [
    {
     "data": {
      "text/plain": [
       "3-element Vector{Float64}:\n",
       " 0.3244428422615251\n",
       " 0.48666426339228763\n",
       " 0.8111071056538127"
      ]
     },
     "metadata": {},
     "output_type": "display_data"
    }
   ],
   "source": [
    "a = [2.0; 3.0; 5.0]\n",
    "a = a/norm(a)"
   ]
  },
  {
   "cell_type": "code",
   "execution_count": 38,
   "metadata": {},
   "outputs": [
    {
     "ename": "BoundsError",
     "evalue": "BoundsError: attempt to access 1-element Vector{Int64} at index [2]",
     "output_type": "error",
     "traceback": [
      "BoundsError: attempt to access 1-element Vector{Int64} at index [2]\n",
      "\n",
      "Stacktrace:\n",
      " [1] getindex\n",
      "   @ ./array.jl:805 [inlined]\n",
      " [2] update_linear_cost!(v::Vector{Vector{Float64}}, g::Vector{Vector{Float64}}, z::Vector{Vector{Float64}}, y::Vector{Vector{Float64}}, p::Vector{Vector{Float64}}, q::Vector{Vector{Float64}}, r::Vector{Vector{Float64}}, params::NamedTuple{(:N, :Q, :R, :Qf, :constraint_A, :umin, :umax, :xmin, :xmax, :Xref, :Uref, :cache, :ρ_index), Tuple{Int64, SparseMatrixCSC{Float64, Int64}, SparseMatrixCSC{Float64, Int64}, SparseMatrixCSC{Float64, Int64}, Vector{Vector{Float64}}, Vector{Float64}, Vector{Float64}, Vector{Float64}, Vector{Vector{Float64}}, Vector{Vector{Float64}}, Vector{Vector{Float64}}, NamedTuple{(:A, :B, :ρ_list, :Kinf_list, :Pinf_list, :Quu_inv_list, :AmBKt_list, :coeff_d2p_list), Tuple{Matrix{Float64}, Matrix{Float64}, Vector{Vector{Float64}}, Vector{Matrix{Float64}}, Vector{Matrix{Float64}}, Vector{Matrix{Float64}}, Vector{Matrix{Float64}}, Vector{Matrix{Float64}}}}, Vector{Int64}}})\n",
      "   @ Main ~/Documents/REx_Lab/tinympc-julia/tinyMPC-ADMM-dt-state.jl:75\n",
      " [3] solve_admm!(vis::Visualizer, params::NamedTuple{(:N, :Q, :R, :Qf, :constraint_A, :umin, :umax, :xmin, :xmax, :Xref, :Uref, :cache, :ρ_index), Tuple{Int64, SparseMatrixCSC{Float64, Int64}, SparseMatrixCSC{Float64, Int64}, SparseMatrixCSC{Float64, Int64}, Vector{Vector{Float64}}, Vector{Float64}, Vector{Float64}, Vector{Float64}, Vector{Vector{Float64}}, Vector{Vector{Float64}}, Vector{Vector{Float64}}, NamedTuple{(:A, :B, :ρ_list, :Kinf_list, :Pinf_list, :Quu_inv_list, :AmBKt_list, :coeff_d2p_list), Tuple{Matrix{Float64}, Matrix{Float64}, Vector{Vector{Float64}}, Vector{Matrix{Float64}}, Vector{Matrix{Float64}}, Vector{Matrix{Float64}}, Vector{Matrix{Float64}}, Vector{Matrix{Float64}}}}, Vector{Int64}}}, q::Vector{Vector{Float64}}, r::Vector{Vector{Float64}}, p::Vector{Vector{Float64}}, d::Vector{Vector{Float64}}, x::Vector{Vector{Float64}}, v::Vector{Vector{Float64}}, vnew::Vector{Vector{Float64}}, g::Vector{Vector{Float64}}, u::Vector{Vector{Float64}}, z::Vector{Vector{Float64}}, znew::Vector{Vector{Float64}}, y::Vector{Vector{Float64}}; abs_tol::Float64, max_iter::Int64, iters_check_rho_update::Int64)\n",
      "   @ Main ~/Documents/REx_Lab/tinympc-julia/tinyMPC-ADMM-dt-state.jl:96\n",
      " [4] top-level scope\n",
      "   @ ~/Documents/REx_Lab/tinympc-julia/state_constraints/tinyMPC-obstacle-chase.ipynb:59"
     ]
    }
   ],
   "source": [
    "include(\"../tinyMPC-ADMM-dt-state.jl\")\n",
    "\n",
    "speye(N) = spdiagm(ones(N))\n",
    "\n",
    "params = (\n",
    "    N = Nh,\n",
    "    Q = Q, R = R, Qf = Qf,\n",
    "    constraint_A = Aineq,\n",
    "    umin = umin, umax = umax,\n",
    "    xmin = xmin, xmax = xmax,\n",
    "    Xref = X̃ref[1:Nh], Uref = Uref[1:Nh-1], \n",
    "    cache = cache,\n",
    "\n",
    "    ρ_index = [1]\n",
    ")\n",
    "\n",
    "# MPC setup\n",
    "Nh = 20\n",
    "\n",
    "# Instantiate TinyMPC-ADMM variables\n",
    "x = [zeros(nx) for i = 1:Nh]\n",
    "u = [zeros(nu) for i = 1:Nh-1]\n",
    "\n",
    "q = [zeros(nx) for i = 1:Nh];\n",
    "r = [zeros(nu) for i = 1:Nh-1];\n",
    "\n",
    "p = [zeros(nx) for i = 1:Nh];      # cost to go linear term\n",
    "p[Nh] = q[Nh];\n",
    "\n",
    "d = [zeros(nu) for i = 1:Nh-1];    # feedforward control\n",
    "\n",
    "# Input constraints\n",
    "umin = -[1.0; 1.0; 1.0; 1.0]*.5\n",
    "umax = [1.0; 1.0; 1.0; 1.0]*.5\n",
    "\n",
    "# State constraints\n",
    "xmin = [-Inf for i = 1:Nh] # Only one -Inf per knot point because only one inequality constraint (for now)\n",
    "xmax = [zeros(1) for i = 1:Nh]\n",
    "\n",
    "# Aineq = [speye(nx) for i = 1:Nh]\n",
    "Aineq = [zeros(nx) for i = 1:Nh]\n",
    "# Aineq[1] = [0.32444; 0.48666; 0.81111; zeros(9)]\n",
    "\n",
    "# xmax[1] = [1]\n",
    "\n",
    "# State slack (auxiliary) and dual variables\n",
    "v = [zeros(nx) for i = 1:Nh]\n",
    "vnew = [zeros(nx) for i = 1:Nh]\n",
    "g = [zeros(nx) for i = 1:Nh]\n",
    "\n",
    "# Input slack (auxiliary) and dual variables\n",
    "z = [zeros(nu) for i = 1:Nh-1]\n",
    "znew = [zeros(nu) for i = 1:Nh-1]\n",
    "y = [zeros(nu) for i = 1:Nh-1]\n",
    "\n",
    "x[1] = params.Xref[1]\n",
    "\n",
    "# display(x)\n",
    "Δu, status, iter = solve_admm!(vis, params, q, r, p, d, x,v,vnew,g, u,z,znew,y; abs_tol=1e-3, max_iter=100)\n",
    "@show iter\n",
    "\n",
    "Δu, status, iter = solve_admm!(vis, params, q, r, p, d, x,v,vnew,g, u,z,znew,y; abs_tol=1e-3, max_iter=100)\n",
    "@show iter\n",
    "\n",
    "# p[params.N] = -params.Qf*params.Xref[params.N]\n",
    "\n",
    "# for k = 1:(params.N-1)\n",
    "#     z[k] .= min.(params.umax, max.(params.umin, u[k] + y[k]))\n",
    "# end\n",
    "# for k = 1:params.N\n",
    "#     v[k] .= project_hyperplane(k, vis, x[k] + g[k], params.constraint_A[k], params.xmax[k][1])\n",
    "# end\n",
    "# update_linear_cost!(v,g,z,y,p,q,r,params)\n",
    "\n",
    "# backward_pass_grad!(q, r, p, d, params)\n",
    "# forward_pass!(d, x, u, params)\n",
    "# display(params.cache.Quu_inv_list[1])\n",
    "# display(params.cache.B)\n",
    "# display(params.cache.AmBKt_list[1])\n",
    "# display(params.cache.Kinf_list[1])\n",
    "# display(params.cache.coeff_d2p_list[1])\n"
   ]
  }
 ],
 "metadata": {
  "kernelspec": {
   "display_name": "Julia 1.6.7",
   "language": "julia",
   "name": "julia-1.6"
  },
  "language_info": {
   "file_extension": ".jl",
   "mimetype": "application/julia",
   "name": "julia",
   "version": "1.6.7"
  },
  "orig_nbformat": 4
 },
 "nbformat": 4,
 "nbformat_minor": 2
}
