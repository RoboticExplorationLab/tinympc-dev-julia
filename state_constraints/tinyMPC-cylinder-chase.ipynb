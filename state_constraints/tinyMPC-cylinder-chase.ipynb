{
 "cells": [
  {
   "cell_type": "code",
   "execution_count": 1,
   "metadata": {},
   "outputs": [
    {
     "name": "stderr",
     "output_type": "stream",
     "text": [
      "\u001b[32m\u001b[1m  Activating\u001b[22m\u001b[39m environment at `~/Git/tinympc-julia/state_constraints/Project.toml`\n"
     ]
    }
   ],
   "source": [
    "import Pkg;\n",
    "Pkg.activate(@__DIR__);\n",
    "Pkg.instantiate()"
   ]
  },
  {
   "cell_type": "code",
   "execution_count": 2,
   "metadata": {},
   "outputs": [
    {
     "data": {
      "text/plain": [
       "E (generic function with 1 method)"
      ]
     },
     "metadata": {},
     "output_type": "display_data"
    }
   ],
   "source": [
    "using RobotZoo:Quadrotor\n",
    "using RobotDynamics\n",
    "using ForwardDiff\n",
    "using TrajOptPlots\n",
    "using BlockDiagonals\n",
    "using LinearAlgebra\n",
    "using StaticArrays\n",
    "using SparseArrays\n",
    "\n",
    "using MeshCat\n",
    "using ColorTypes\n",
    "using GeometryBasics: HyperRectangle, Cylinder, Vec, Point, Mesh\n",
    "using CoordinateTransformations\n",
    "using Rotations\n",
    "\n",
    "using Plots\n",
    "using Printf\n",
    "\n",
    "\n",
    "include(\"../quaternion-stuff.jl\")"
   ]
  },
  {
   "cell_type": "code",
   "execution_count": 3,
   "metadata": {},
   "outputs": [
    {
     "name": "stdout",
     "output_type": "stream",
     "text": [
      "uhover = (((m * gravity) / kt) / 4) * ones(4) = [0.5833333520642209, 0.5833333520642209, 0.5833333520642209, 0.5833333520642209]\n"
     ]
    }
   ],
   "source": [
    "# Quadrotor parameters\n",
    "m = 0.035\n",
    "ℓ = 0.046/sqrt(2)\n",
    "J = [16.6e-6 0.83e-6 0.72e-6;\n",
    "    0.83e-6 16.6e-6 1.8e-6;\n",
    "    0.72e-6 1.8e-6 29.3e-6];\n",
    "gravity = 9.81\n",
    "# thrustToTorque = 0.005964552\n",
    "thrustToTorque = 0.0008\n",
    "scale = 65535\n",
    "kt = 2.245365e-6*scale # u is PWM in range [0...1]\n",
    "# kt=1\n",
    "km = kt*thrustToTorque #4.4733e-8\n",
    "\n",
    "# h = 1/500\n",
    "h = 1/20\n",
    "\n",
    "Nx = 13     # number of states (quaternion)\n",
    "Nx̃ = 12     # number of states (linearized)\n",
    "Nu = 4      # number of controls\n",
    "nx = Nx̃\n",
    "nu = Nu\n",
    "\n",
    "#Goal state\n",
    "@show uhover = (m*gravity/kt/4)*ones(4) # m = 30g and max thrust = 60g\n",
    "# @show uhover = (m*gravity/4)*ones(4) # m = 30g and max thrust = 60g\n",
    "rg = [0.0; 0; 0.0]\n",
    "qg = [1.0; 0; 0; 0]\n",
    "vg = zeros(3)\n",
    "ωg = zeros(3)\n",
    "xg = [rg; qg; vg; ωg];"
   ]
  },
  {
   "cell_type": "code",
   "execution_count": 4,
   "metadata": {},
   "outputs": [
    {
     "data": {
      "text/plain": [
       "quad_dynamics_rk4 (generic function with 1 method)"
      ]
     },
     "metadata": {},
     "output_type": "display_data"
    }
   ],
   "source": [
    "function quad_dynamics(x,u)\n",
    "  r = x[1:3]\n",
    "  q = x[4:7]/norm(x[4:7]) #normalize q just to be careful\n",
    "  v = x[8:10]\n",
    "  ω = x[11:13]\n",
    "  Q = qtoQ(q)\n",
    "  \n",
    "  ṙ = v\n",
    "  q̇ = 0.5*L(q)*H*ω\n",
    "  \n",
    "  b = 1/m\n",
    "\n",
    "  v̇ = [0; 0; -gravity] + (1/m)*Q*[zeros(2,4); kt*ones(1,4)]*u \n",
    "\n",
    "  ω̇ = J\\(-hat(ω)*J*ω + [-ℓ*kt -ℓ*kt ℓ*kt ℓ*kt; -ℓ*kt ℓ*kt ℓ*kt -ℓ*kt; -km km -km km]*u)\n",
    "  \n",
    "  return [ṙ; q̇; v̇; ω̇]\n",
    "end\n",
    "function quad_dynamics_rk4(x,u)\n",
    "  #RK4 integration with zero-order hold on u\n",
    "  f1 = quad_dynamics(x, u)\n",
    "  f2 = quad_dynamics(x + 0.5*h*f1, u)\n",
    "  f3 = quad_dynamics(x + 0.5*h*f2, u)\n",
    "  f4 = quad_dynamics(x + h*f3, u)\n",
    "  xn = x + (h/6.0)*(f1 + 2*f2 + 2*f3 + f4)\n",
    "  xn[4:7] = xn[4:7]/norm(xn[4:7]) #re-normalize quaternion\n",
    "  return xn\n",
    "end"
   ]
  },
  {
   "cell_type": "code",
   "execution_count": 5,
   "metadata": {},
   "outputs": [],
   "source": [
    "#Linearize dynamics about hover\n",
    "Adyn = ForwardDiff.jacobian(x->quad_dynamics_rk4(x,uhover),xg)\n",
    "Bdyn = ForwardDiff.jacobian(u->quad_dynamics_rk4(xg,u),uhover);\n",
    "Ãdyn = Array(E(qg)'*Adyn*E(qg))\n",
    "B̃dyn = Array(E(qg)'*Bdyn);"
   ]
  },
  {
   "cell_type": "code",
   "execution_count": 45,
   "metadata": {},
   "outputs": [
    {
     "name": "stderr",
     "output_type": "stream",
     "text": [
      "┌ Info: MeshCat server started. You can open the visualizer by visiting the following URL in your browser:\n",
      "│ http://127.0.0.1:8707\n",
      "└ @ MeshCat /home/sam/.julia/packages/MeshCat/GlCMx/src/visualizer.jl:73\n"
     ]
    },
    {
     "data": {
      "text/plain": [
       "TransformPlane (generic function with 1 method)"
      ]
     },
     "metadata": {},
     "output_type": "display_data"
    }
   ],
   "source": [
    "vis = Visualizer()\n",
    "quad_model = Quadrotor()\n",
    "TrajOptPlots.set_mesh!(vis, quad_model)\n",
    "\n",
    "function TransformPlane(visObject, center, dir)\n",
    "    # dir[1] = x, dir[2] = y (for three dimensions, take cross product of [1,0,0] and 3D dir vector to get axis of rotation)\n",
    "    width = 2\n",
    "    height = 1\n",
    "    dir_inv = -[dir[2]; -dir[1]]/norm(dir)\n",
    "    bl = [center[1:2] + dir_inv*width/2; 0] # bottom left corner\n",
    "    settransform!(visObject, Translation(bl[1], bl[2], bl[3]) ∘ LinearMap(AngleAxis(-atan(dir[2], -dir[1]), 0, 0, 1)))\n",
    "end"
   ]
  },
  {
   "cell_type": "code",
   "execution_count": 51,
   "metadata": {},
   "outputs": [],
   "source": [
    "# Objective function\n",
    "\n",
    "# Cost weights\n",
    "max_dev_x = [0.1; 0.1; 0.1; 0.5; 0.5; 0.05;  0.5; 0.5; 0.5;  0.7; 0.7; 0.5]\n",
    "max_dev_u = [0.5; 0.5; 0.5; 0.5]\n",
    "Q = spdiagm(1 ./(max_dev_x.^2))\n",
    "R = spdiagm(1 ./(max_dev_u.^2))\n",
    "Qf = Q\n",
    "\n",
    "# Penalty\n",
    "ρ = 5\n",
    "R̃ = R + ρ*I;\n",
    "\n",
    "# Precompute\n",
    "cache = (\n",
    "    Ã = Ãdyn,\n",
    "    B̃ = B̃dyn,\n",
    "    Kinf = zeros(nu,nx),\n",
    "    Pinf = zeros(nx,nx),\n",
    "    Quu_inv = zeros(nu,nu),\n",
    "    AmBKt = zeros(nx,nx), \n",
    "    coeff_d2p = zeros(nx,nu), \n",
    ")\n",
    "\n",
    "\n",
    "Tfinal = 10.0\n",
    "N = Int(Tfinal/h)+1\n",
    "\n",
    "# Compute Kinf, Pinf\n",
    "Nriccati = 10000\n",
    "P = [zeros(nx,nx) for i = 1:Nriccati];   # cost to go quadratic term\n",
    "K = [zeros(nu,nx) for i = 1:Nriccati-1]; # feedback gain\n",
    "P[Nriccati] .= Qf;\n",
    "for k = (N-1):-1:1\n",
    "    K[k] = (R̃ + cache.B̃'*P[k+1]*cache.B̃)\\(cache.B̃'*P[k+1]*cache.Ã);\n",
    "    P[k] = Q + cache.Ã'*P[k+1]*(cache.Ã - cache.B̃*K[k]);\n",
    "end\n",
    "\n",
    "# Cache precomputed values\n",
    "cache.Kinf .= K[1];\n",
    "cache.Pinf .= P[1];\n",
    "cache.Quu_inv .= (R̃ + cache.B̃'*cache.Pinf*cache.B̃)\\I;\n",
    "cache.AmBKt .= (cache.Ã - cache.B̃*cache.Kinf)';\n",
    "cache.coeff_d2p .= cache.Kinf'*R̃ - cache.AmBKt*cache.Pinf*cache.B̃;\n",
    "\n",
    "\n",
    "\n",
    "# Create reference sketch trajectory\n",
    "X̃ref = [zeros(nx) for i = 1:N]\n",
    "Xref = [[0; 0; .5; 1; zeros(9)] for i = 1:N]\n",
    "Uref = [zeros(nu) for i = 1:N-1]\n",
    "\n",
    "\n",
    "\n",
    "# Convert (13 state) Xref to reduced form (12 state) X̃ref\n",
    "for k = 1:N\n",
    "    x = Xref[k]\n",
    "    qx = x[4:7]\n",
    "    ϕ = qtorp(L(qg)'*qx)   \n",
    "    X̃ref[k] = [x[1:3]; ϕ; x[8:10]; x[11:13]]\n",
    "end\n",
    "\n",
    "# Set initial state\n",
    "x0 = X̃ref[1] + [0; 0; 0; zeros(9)]\n",
    "\n",
    "# Visualize reference\n",
    "delete!(vis[\"XrefLine\"])\n",
    "XrefLine = [Point(x_[1], x_[2], x_[3]) for x_ in Xref]\n",
    "setobject!(vis[\"XrefLine\"], Object(PointCloud(XrefLine), \n",
    "        LineBasicMaterial(color=Colors.RGBA(0.,0.45,1.)), \"Line\"))\n",
    "\n",
    ";"
   ]
  },
  {
   "cell_type": "code",
   "execution_count": 67,
   "metadata": {},
   "outputs": [
    {
     "data": {
      "text/plain": [
       "MeshCat Visualizer with path /meshcat/xHistline at http://127.0.0.1:8707"
      ]
     },
     "metadata": {},
     "output_type": "display_data"
    }
   ],
   "source": [
    "include(\"../tinyMPC-ADMM-dt-state.jl\")\n",
    "\n",
    "speye(N) = spdiagm(ones(N))\n",
    "\n",
    "\n",
    "# Create obstacle in MeshCat\n",
    "# Cylinder constraint\n",
    "cylinder_center = [0.0; 2.0]\n",
    "cylinder_velocity = .2 * h\n",
    "\n",
    "r_vis = 0.1\n",
    "r_obstacle = 0.75\n",
    "setobject!(vis[\"cylinder\"], Cylinder(Point(cylinder_center[1], cylinder_center[2], 0.0), Point(cylinder_center[1], cylinder_center[2], 1.0), r_vis))\n",
    "bounding_cylinder_material = MeshPhongMaterial(color=RGBA(1, 1, 1, 0.25))\n",
    "setobject!(vis[\"bounding cylinder\"], Cylinder(Point(cylinder_center[1], cylinder_center[2], -.05), Point(cylinder_center[1], cylinder_center[2], 1.05), r_obstacle), bounding_cylinder_material)\n",
    "\n",
    "\n",
    "\n",
    "# MPC setup\n",
    "Nh = 20\n",
    "\n",
    "skip_vis = 1\n",
    "\n",
    "# Create constraint planes\n",
    "thin_rect_material = MeshPhongMaterial(color=RGBA(0, 1, 0, 0.25))\n",
    "constraintPlanes = [setobject!(vis[\"linearized constraint \" * string(k)], HyperRectangle(Vec(0.0,0.0,0.0), Vec(0.001,2.0,1.0)), thin_rect_material) for k in 1:skip_vis:Nh]\n",
    "\n",
    "# Define number of state constraints (nm)\n",
    "nm = 1\n",
    "\n",
    "# Instantiate TinyMPC-ADMM variables\n",
    "\n",
    "x = [zeros(nx) for i = 1:Nh]\n",
    "u = [zeros(nu) for i = 1:Nh-1]\n",
    "\n",
    "q = [zeros(nx) for i = 1:Nh];\n",
    "r = [zeros(nu) for i = 1:Nh-1];\n",
    "\n",
    "p = [zeros(nx) for i = 1:Nh];      # cost to go linear term\n",
    "p[Nh] = q[Nh];\n",
    "\n",
    "d = [zeros(nu) for i = 1:Nh-1];    # feedforward control\n",
    "\n",
    "# Input constraints\n",
    "umin = -[1.0; 1.0; 1.0; 1.0]*.5\n",
    "umax = [1.0; 1.0; 1.0; 1.0]*.5\n",
    "\n",
    "# State constraints\n",
    "# xmin = [-Inf .* ones(nx) for i = 1:Nh]\n",
    "# xmax = [[Inf; 0.5; Inf .* ones(10)] for i = 1:Nh]\n",
    "xmin = [-Inf for i = 1:Nh] # Only one -Inf per knot point because only one inequality constraint (for now)\n",
    "xmax = [zeros(1) for i = 1:Nh]\n",
    "\n",
    "# Aineq = [speye(nx) for i = 1:Nh]\n",
    "Aineq = [zeros(nx) for i = 1:Nh]\n",
    "\n",
    "for k = 1:skip_vis:Nh\n",
    "    xc = cylinder_center - X̃ref[k][1:2]\n",
    "    a = xc/norm(xc)\n",
    "\n",
    "    Aineq[k][1:2] = a'\n",
    "\n",
    "    q_c = cylinder_center - r_obstacle*a\n",
    "    b = a'*q_c\n",
    "    xmax[k][1] = b\n",
    "    TransformPlane(constraintPlanes[cld(k,skip_vis)], q_c, a)\n",
    "end\n",
    "\n",
    "# Simulate\n",
    "Nsim = N - Nh\n",
    "xhist = [zeros(nx+1) for _ = 1:Nsim] # nx+1 because not reduced form\n",
    "xhist[1] = [x0[1:3]; rptoq(x0[4:6]); x0[7:12]]\n",
    "uhist = [zeros(nu) for _ = 1:Nsim-1]\n",
    "\n",
    "\n",
    "for k = 1:Nsim-1 # Nsim-1 knotpoints for control, Nsim knotpoints for state\n",
    "\n",
    "    # State slack (auxiliary) and dual variables\n",
    "    v = [zeros(nx) for i = 1:Nh]\n",
    "    vnew = [zeros(nx) for i = 1:Nh]\n",
    "    g = [zeros(nx) for i = 1:Nh]\n",
    "\n",
    "    # Input slack (auxiliary) and dual variables\n",
    "    z = [zeros(nu) for i = 1:Nh-1]\n",
    "    znew = [zeros(nu) for i = 1:Nh-1]\n",
    "    y = [zeros(nu) for i = 1:Nh-1]\n",
    "\n",
    "    x[1] = [xhist[k][1:3]; qtorp(xhist[k][4:7]); xhist[k][8:end]]\n",
    "\n",
    "    params = (\n",
    "        N = Nh,\n",
    "        Q = Q, R = R, Qf = Qf,\n",
    "        A = Aineq,\n",
    "        umin = umin, umax = umax,\n",
    "        xmin = xmin, xmax = xmax,\n",
    "        Xref = X̃ref[k:k+Nh-1], Uref = Uref[k:k+Nh-2], \n",
    "        cache = cache\n",
    "    );\n",
    "\n",
    "    # Solve\n",
    "    Δu, status, iter = solve_admm!(vis, params, q, r, p, d, x,v,vnew,g, u,z,znew,y; ρ=ρ, abs_tol=1e-2, max_iter=100)\n",
    "    # @show iter, status\n",
    "    \n",
    "\n",
    "    # Visualize solution x\n",
    "    delete!(vis[\"xLinearized\"])\n",
    "    x_linearized = [Point(x_[1], x_[2], x_[3]+0.01) for x_ in x]\n",
    "    setobject!(vis[\"xLinearized\"], Object(PointCloud(x_linearized), \n",
    "    LineBasicMaterial(color=Colors.RGBA(1,0.6,0.0)), \"Line\"))\n",
    "\n",
    "    # Roll out x_k+1 with actual dynamics\n",
    "    uhist[k] = Δu[1] + uhover\n",
    "    xhist[k+1] = quad_dynamics_rk4(xhist[k], uhist[k])\n",
    "    \n",
    "    # Roll out with real dynamics\n",
    "    x_real = [zeros(nx+1) for _ = 1:Nh]\n",
    "    x_real[1] = xhist[k]\n",
    "    for j = 1:Nh-1\n",
    "        x_real[j+1] = quad_dynamics_rk4(x_real[j], uhist[k])\n",
    "    end\n",
    "\n",
    "    # Create constraints for each knot point in the horizon\n",
    "    #   assuming the cylinder moves at constant velocity between each step\n",
    "    cylinder_to_quad = x_real[1][1:2] - cylinder_center\n",
    "    cylinder_to_quad_dir = cylinder_to_quad / norm(cylinder_to_quad)\n",
    "    cylinder_dist_traveled = cylinder_velocity * cylinder_to_quad_dir\n",
    "    \n",
    "    # Update linearized cylinder constraints\n",
    "    for j = 1:skip_vis:Nh\n",
    "        cylinder_center_prediction = cylinder_center + cylinder_dist_traveled*j\n",
    "        xc = cylinder_center_prediction - x_real[j][1:2]\n",
    "        a = xc/norm(xc) # hyperplane projection expects normalized a\n",
    "\n",
    "        Aineq[j][1:2] = a'\n",
    "\n",
    "        q_c = cylinder_center_prediction - r_obstacle*a\n",
    "        b = a'*q_c\n",
    "        xmax[j][1] = b\n",
    "        TransformPlane(constraintPlanes[cld(j,skip_vis)], q_c, a)\n",
    "    end\n",
    "\n",
    "    # Update actual cylinder location at x=0\n",
    "    cylinder_center += cylinder_dist_traveled\n",
    "    \n",
    "    setobject!(vis[\"cylinder\"], Cylinder(Point(cylinder_center[1], cylinder_center[2], 0.0), Point(cylinder_center[1], cylinder_center[2], 1.0), r_vis))\n",
    "    setobject!(vis[\"bounding cylinder\"], Cylinder(Point(cylinder_center[1], cylinder_center[2], -.05), Point(cylinder_center[1], cylinder_center[2], 1.05), r_obstacle), bounding_cylinder_material)\n",
    "\n",
    "end\n",
    "\n",
    "delete!(vis[\"xHistline\"])\n",
    "xHistline = [Point(x_[1], x_[2], x_[3]) for x_ in xhist]\n",
    "setobject!(vis[\"xHistline\"], Object(PointCloud(xHistline), \n",
    "LineBasicMaterial(color=Colors.RGBA(0.75,0.5,0.8)), \"Line\"))"
   ]
  },
  {
   "cell_type": "code",
   "execution_count": 68,
   "metadata": {},
   "outputs": [
    {
     "data": {
      "text/plain": [
       "181-element Vector{Vector{Float64}}:\n",
       " [0.0, 0.0, 0.5, 1.0, 0.0, 0.0, 0.0, 0.0, 0.0, 0.0, 0.0, 0.0, 0.0]\n",
       " [1.245208733440633e-19, 3.497595128247174e-19, 0.4999760000437232, 1.0, -8.57358773318221e-17, 3.052356242166947e-17, 5.92059601269174e-17, 9.961669867525064e-18, 2.7980761025977393e-17, -0.000959998251071692, -6.858870186545766e-15, 2.4418849937335576e-15, 4.7364768101533914e-15]\n",
       " [1.9843741633207617e-18, 5.130834838020799e-18, 0.4999282067399356, 1.0, -2.2724464864409485e-16, 1.19484140176275e-16, 2.0754482023302348e-16, 7.897776126155674e-17, 1.8639932591745732e-16, -0.000951733900432572, -4.461831518436053e-15, 4.6749612266348846e-15, 7.130631998335095e-15]\n",
       " [9.341311710571555e-18, 2.0852816003452196e-17, 0.49988887559770495, 1.0, -3.1741939801092056e-16, 1.1891789407574305e-16, 4.0493108154672994e-16, 2.1520709706204368e-16, 4.572334181199921e-16, -0.0006215117887927058, -2.752148430910007e-15, -4.720260914677441e-15, 8.660268906761421e-15]\n",
       " [2.245384033748787e-17, 5.195259114117717e-17, 0.49986683939583537, 1.0, -3.5805304324891286e-16, 9.844852153032012e-17, 6.124408092142606e-16, 3.059448385288755e-16, 7.934060857623213e-16, -0.0002599362859898591, -4.985431881293803e-16, 3.0827111110435996e-15, 7.94050930664103e-15]\n",
       " [4.0660243049663694e-17, 1.0036935253784177e-16, 0.4998609648512123, 1.0, -3.358351100083404e-16, 1.4199776777973173e-16, 8.029095870784811e-16, 4.2943570731294956e-16, 1.1396296281245994e-15, 2.4954501065632608e-5, 2.2759778473751745e-15, 4.0122858890932276e-16, 7.296992922496606e-15]\n",
       " [6.583461879102698e-17, 1.6506251634987389e-16, 0.49986685576885165, 1.0, -2.636599167956861e-16, 1.8547009076953935e-16, 9.710519206830343e-16, 5.846497384886525e-16, 1.4362918119554564e-15, 0.00021068220450954904, 3.4980376096371744e-15, 3.0765572502752775e-15, 6.15439376586765e-15]\n",
       " [9.991412781988556e-17, 2.4261175503333375e-16, 0.49987986611934637, 1.0, -1.7184011162884648e-16, 1.813120096980144e-16, 1.1176431710275984e-15, 7.778506391250594e-16, 1.6506621656661724e-15, 0.0003097318152800454, 3.847546803709991e-15, -3.409203735997285e-15, 5.572906261697469e-15]\n",
       " [1.4276115235189806e-16, 3.2851380208612106e-16, 0.49989623205180644, 1.0, -6.113421612001674e-17, 1.4606063087520164e-16, 1.241107866619259e-15, 9.302663284111477e-16, 1.7673180045521608e-15, 0.00034490548312238184, 5.008924836996382e-15, 5.890934301722533e-16, 4.304269385635377e-15]\n",
       " [1.9265195764716822e-16, 4.174713835249324e-16, 0.4999133164190847, 1.0, 3.5692247071725784e-17, 8.12773249766401e-17, 1.3421552466763972e-15, 1.0547739518729708e-15, 1.775154334002363e-15, 0.00033846920800799645, 2.7371922183430113e-15, -5.771757902057186e-15, 3.779521018935682e-15]\n",
       " ⋮\n",
       " [0.10049707800860813, -0.44335644180057954, 0.4988678877597807, 0.9991585476857023, -0.013072638543771121, 0.03885611528443903, -0.0012267897554629971, 0.3407430779701214, -0.16068326164227542, 0.002351593988610513, -0.22244399441499035, -0.2656446290896666, 0.03631901819000015]\n",
       " [0.11827971514921706, -0.45107351507405136, 0.49897053168675326, 0.999960562053682, -0.006859132976175856, -0.005440832868511973, 0.001491298023970577, 0.36330955569225376, -0.14900033320089845, 0.0020165850133644367, 0.7096460613344264, -3.2828182452752626, 0.14896064668804146]\n",
       " [0.1357272797150906, -0.458483969568713, 0.49905703515426897, 0.9977651195426528, 0.00633726914826355, -0.06636772523867718, 0.004464335384104826, 0.324650143012014, -0.1496321263733829, 0.0007283733379276135, 0.34305021928870205, -1.5979737575322528, 0.0483245749306445]\n",
       " [0.15021171660330812, -0.46615893716283524, 0.4989912444245511, 0.9983858905287731, 0.005091288885040978, -0.05646261177001794, 0.003415529631824512, 0.2563403060530204, -0.15715129809081382, -0.0031582382224139365, -0.4467833523062794, 2.3916403939799817, -0.1308515069009174]\n",
       " [0.16211489398649503, -0.47405648020634394, 0.498872921711975, 0.9999867318654586, -0.005131068184571262, 0.0002251815301698397, 0.0003968949520879934, 0.22909745837089496, -0.15703662559303608, -0.0010501866423605834, -0.36944672584596605, 2.147329593272127, -0.08730337624207965]\n",
       " [0.1739499516488306, -0.4817052459072351, 0.49886623713530365, 0.9991783539181412, -0.014546469956107984, 0.037817329374744774, -0.000931059725128571, 0.25047714768661145, -0.14737946667077087, 0.0005175825440177039, -0.3813657490416258, 0.8615555502333105, -0.008780264774730012]\n",
       " [0.1873494631031627, -0.48872128204934057, 0.49888938441868574, 0.9999861666967989, -0.004104114429649992, 0.003093821681746023, 0.001118448564661951, 0.27980878264049686, -0.13496319283276328, 0.0006732070655524068, 1.2067578757116681, -3.6443915139814314, 0.16373624884712756]\n",
       " [0.20078354509800855, -0.4955672757283344, 0.4989346188191608, 0.9980738116479255, 0.013887796510887925, -0.060338308073223434, 0.0038838369577060125, 0.24718579724649611, -0.14187410298248995, 0.0005119327236032599, 0.23137338974226873, -1.4341121102463288, 0.046552905756486504]\n",
       " [0.21159507877906092, -0.5030098299101997, 0.4988888106989054, 0.9991055606704272, 0.008590467560048424, -0.04132862098968615, 0.0024955143000701665, 0.18837500659676246, -0.15494414595344508, -0.002007828384260878, -0.6600221742387441, 2.956701118987104, -0.14963199706267277]"
      ]
     },
     "metadata": {},
     "output_type": "display_data"
    }
   ],
   "source": [
    "xhist"
   ]
  },
  {
   "cell_type": "code",
   "execution_count": 69,
   "metadata": {},
   "outputs": [],
   "source": [
    "X1 = [SVector{13}(x_) for x_ in xhist];\n",
    "visualize!(vis, quad_model, Tfinal, X1)"
   ]
  },
  {
   "cell_type": "code",
   "execution_count": 28,
   "metadata": {},
   "outputs": [],
   "source": [
    "# constraintPlanes = [setobject!(vis[\"linearized constraint \" * string(k)], HyperRectangle(Vec(0.0,0.0,0.0), Vec(0.001,2.0,1.0)), thin_rect_material) for k in 1:Nh]\n",
    "for k in 1:N\n",
    "    delete!(vis[\"linearized constraint \" * string(k)])\n",
    "end"
   ]
  }
 ],
 "metadata": {
  "kernelspec": {
   "display_name": "Julia 1.6.7",
   "language": "julia",
   "name": "julia-1.6"
  },
  "language_info": {
   "file_extension": ".jl",
   "mimetype": "application/julia",
   "name": "julia",
   "version": "1.6.7"
  },
  "orig_nbformat": 4
 },
 "nbformat": 4,
 "nbformat_minor": 2
}
