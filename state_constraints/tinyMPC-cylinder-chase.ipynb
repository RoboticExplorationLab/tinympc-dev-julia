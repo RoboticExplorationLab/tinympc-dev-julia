{
 "cells": [
  {
   "cell_type": "code",
   "execution_count": 1,
   "metadata": {},
   "outputs": [
    {
     "name": "stderr",
     "output_type": "stream",
     "text": [
      "\u001b[32m\u001b[1m  Activating\u001b[22m\u001b[39m environment at `~/Git/tinympc-julia/state_constraints/Project.toml`\n"
     ]
    }
   ],
   "source": [
    "import Pkg;\n",
    "Pkg.activate(@__DIR__);\n",
    "Pkg.instantiate()"
   ]
  },
  {
   "cell_type": "code",
   "execution_count": 2,
   "metadata": {},
   "outputs": [
    {
     "data": {
      "text/plain": [
       "E (generic function with 1 method)"
      ]
     },
     "metadata": {},
     "output_type": "display_data"
    }
   ],
   "source": [
    "using RobotZoo:Quadrotor\n",
    "using RobotDynamics\n",
    "using ForwardDiff\n",
    "using TrajOptPlots\n",
    "using BlockDiagonals\n",
    "using LinearAlgebra\n",
    "using StaticArrays\n",
    "using SparseArrays\n",
    "\n",
    "using MeshCat\n",
    "using ColorTypes\n",
    "using GeometryBasics: HyperRectangle, Cylinder, Vec, Point, Mesh\n",
    "using CoordinateTransformations\n",
    "using Rotations\n",
    "\n",
    "using Plots\n",
    "using Printf\n",
    "\n",
    "\n",
    "include(\"../quaternion-stuff.jl\")"
   ]
  },
  {
   "cell_type": "code",
   "execution_count": 3,
   "metadata": {},
   "outputs": [
    {
     "name": "stdout",
     "output_type": "stream",
     "text": [
      "uhover = (((m * gravity) / kt) / 4) * ones(4) = [0.5833333520642209, 0.5833333520642209, 0.5833333520642209, 0.5833333520642209]\n"
     ]
    }
   ],
   "source": [
    "# Quadrotor parameters\n",
    "m = 0.035\n",
    "ℓ = 0.046/sqrt(2)\n",
    "J = [16.6e-6 0.83e-6 0.72e-6;\n",
    "    0.83e-6 16.6e-6 1.8e-6;\n",
    "    0.72e-6 1.8e-6 29.3e-6];\n",
    "gravity = 9.81\n",
    "# thrustToTorque = 0.005964552\n",
    "thrustToTorque = 0.0008\n",
    "scale = 65535\n",
    "kt = 2.245365e-6*scale # u is PWM in range [0...1]\n",
    "# kt=1\n",
    "km = kt*thrustToTorque #4.4733e-8\n",
    "\n",
    "# h = 1/500\n",
    "h = 1/20\n",
    "\n",
    "Nx = 13     # number of states (quaternion)\n",
    "Nx̃ = 12     # number of states (linearized)\n",
    "Nu = 4      # number of controls\n",
    "nx = Nx̃\n",
    "nu = Nu\n",
    "\n",
    "#Goal state\n",
    "@show uhover = (m*gravity/kt/4)*ones(4) # m = 30g and max thrust = 60g\n",
    "# @show uhover = (m*gravity/4)*ones(4) # m = 30g and max thrust = 60g\n",
    "rg = [0.0; 0; 0.0]\n",
    "qg = [1.0; 0; 0; 0]\n",
    "vg = zeros(3)\n",
    "ωg = zeros(3)\n",
    "xg = [rg; qg; vg; ωg];"
   ]
  },
  {
   "cell_type": "code",
   "execution_count": 4,
   "metadata": {},
   "outputs": [
    {
     "data": {
      "text/plain": [
       "quad_dynamics_rk4 (generic function with 1 method)"
      ]
     },
     "metadata": {},
     "output_type": "display_data"
    }
   ],
   "source": [
    "function quad_dynamics(x,u)\n",
    "  r = x[1:3]\n",
    "  q = x[4:7]/norm(x[4:7]) #normalize q just to be careful\n",
    "  v = x[8:10]\n",
    "  ω = x[11:13]\n",
    "  Q = qtoQ(q)\n",
    "  \n",
    "  ṙ = v\n",
    "  q̇ = 0.5*L(q)*H*ω\n",
    "  \n",
    "  b = 1/m\n",
    "\n",
    "  v̇ = [0; 0; -gravity] + (1/m)*Q*[zeros(2,4); kt*ones(1,4)]*u \n",
    "\n",
    "  ω̇ = J\\(-hat(ω)*J*ω + [-ℓ*kt -ℓ*kt ℓ*kt ℓ*kt; -ℓ*kt ℓ*kt ℓ*kt -ℓ*kt; -km km -km km]*u)\n",
    "  \n",
    "  return [ṙ; q̇; v̇; ω̇]\n",
    "end\n",
    "function quad_dynamics_rk4(x,u)\n",
    "  #RK4 integration with zero-order hold on u\n",
    "  f1 = quad_dynamics(x, u)\n",
    "  f2 = quad_dynamics(x + 0.5*h*f1, u)\n",
    "  f3 = quad_dynamics(x + 0.5*h*f2, u)\n",
    "  f4 = quad_dynamics(x + h*f3, u)\n",
    "  xn = x + (h/6.0)*(f1 + 2*f2 + 2*f3 + f4)\n",
    "  xn[4:7] = xn[4:7]/norm(xn[4:7]) #re-normalize quaternion\n",
    "  return xn\n",
    "end"
   ]
  },
  {
   "cell_type": "code",
   "execution_count": 5,
   "metadata": {},
   "outputs": [],
   "source": [
    "#Linearize dynamics about hover\n",
    "Adyn = ForwardDiff.jacobian(x->quad_dynamics_rk4(x,uhover),xg)\n",
    "Bdyn = ForwardDiff.jacobian(u->quad_dynamics_rk4(xg,u),uhover);\n",
    "Ãdyn = Array(E(qg)'*Adyn*E(qg))\n",
    "B̃dyn = Array(E(qg)'*Bdyn);"
   ]
  },
  {
   "cell_type": "code",
   "execution_count": 146,
   "metadata": {},
   "outputs": [
    {
     "name": "stderr",
     "output_type": "stream",
     "text": [
      "┌ Info: MeshCat server started. You can open the visualizer by visiting the following URL in your browser:\n",
      "│ http://127.0.0.1:8708\n",
      "└ @ MeshCat /home/sam/.julia/packages/MeshCat/GlCMx/src/visualizer.jl:73\n"
     ]
    },
    {
     "data": {
      "text/plain": [
       "TransformPlane (generic function with 1 method)"
      ]
     },
     "metadata": {},
     "output_type": "display_data"
    }
   ],
   "source": [
    "vis = Visualizer()\n",
    "quad_model = Quadrotor()\n",
    "TrajOptPlots.set_mesh!(vis, quad_model)\n",
    "\n",
    "function TransformPlane(visObject, center, dir)\n",
    "    # dir[1] = x, dir[2] = y (for three dimensions, take cross product of [1,0,0] and 3D dir vector to get axis of rotation)\n",
    "    width = 2\n",
    "    height = 1\n",
    "    dir_inv = -[dir[2]; -dir[1]]/norm(dir)\n",
    "    bl = [center[1:2] + dir_inv*width/2; 0] # bottom left corner\n",
    "    settransform!(visObject, Translation(bl[1], bl[2], bl[3]) ∘ LinearMap(AngleAxis(-atan(dir[2], -dir[1]), 0, 0, 1)))\n",
    "end"
   ]
  },
  {
   "cell_type": "code",
   "execution_count": 159,
   "metadata": {},
   "outputs": [],
   "source": [
    "# Objective function\n",
    "\n",
    "# Cost weights\n",
    "max_dev_x = [0.1; 0.1; 0.1; 0.5; 0.5; 0.05;  0.5; 0.5; 0.5;  0.7; 0.7; 0.5]\n",
    "max_dev_u = [0.5; 0.5; 0.5; 0.5]\n",
    "Q = spdiagm(1 ./(max_dev_x.^2))\n",
    "R = spdiagm(1 ./(max_dev_u.^2))\n",
    "Qf = Q\n",
    "\n",
    "# Penalty\n",
    "ρ = 5\n",
    "R̃ = R + ρ*I;\n",
    "\n",
    "# Precompute\n",
    "cache = (\n",
    "    Ã = Ãdyn,\n",
    "    B̃ = B̃dyn,\n",
    "    Kinf = zeros(nu,nx),\n",
    "    Pinf = zeros(nx,nx),\n",
    "    Quu_inv = zeros(nu,nu),\n",
    "    AmBKt = zeros(nx,nx), \n",
    "    coeff_d2p = zeros(nx,nu), \n",
    ")\n",
    "\n",
    "\n",
    "Tfinal = 60.0\n",
    "N = Int(Tfinal/h)+1\n",
    "\n",
    "# Compute Kinf, Pinf\n",
    "Nriccati = 10000\n",
    "P = [zeros(nx,nx) for i = 1:Nriccati];   # cost to go quadratic term\n",
    "K = [zeros(nu,nx) for i = 1:Nriccati-1]; # feedback gain\n",
    "P[Nriccati] .= Qf;\n",
    "for k = (N-1):-1:1\n",
    "    K[k] = (R̃ + cache.B̃'*P[k+1]*cache.B̃)\\(cache.B̃'*P[k+1]*cache.Ã);\n",
    "    P[k] = Q + cache.Ã'*P[k+1]*(cache.Ã - cache.B̃*K[k]);\n",
    "end\n",
    "\n",
    "# Cache precomputed values\n",
    "cache.Kinf .= K[1];\n",
    "cache.Pinf .= P[1];\n",
    "cache.Quu_inv .= (R̃ + cache.B̃'*cache.Pinf*cache.B̃)\\I;\n",
    "cache.AmBKt .= (cache.Ã - cache.B̃*cache.Kinf)';\n",
    "cache.coeff_d2p .= cache.Kinf'*R̃ - cache.AmBKt*cache.Pinf*cache.B̃;\n",
    "\n",
    "\n",
    "\n",
    "# Create reference sketch trajectory\n",
    "X̃ref = [zeros(nx) for i = 1:N]\n",
    "Xref = [[0; 0; .5; 1; zeros(9)] for i = 1:N]\n",
    "Uref = [zeros(nu) for i = 1:N-1]\n",
    "\n",
    "\n",
    "\n",
    "# Convert (13 state) Xref to reduced form (12 state) X̃ref\n",
    "for k = 1:N\n",
    "    x = Xref[k]\n",
    "    qx = x[4:7]\n",
    "    ϕ = qtorp(L(qg)'*qx)   \n",
    "    X̃ref[k] = [x[1:3]; ϕ; x[8:10]; x[11:13]]\n",
    "end\n",
    "\n",
    "# Set initial state\n",
    "x0 = X̃ref[1] + [0; 0; 0; zeros(9)]\n",
    "\n",
    "# Visualize reference\n",
    "delete!(vis[\"XrefLine\"])\n",
    "XrefLine = [Point(x_[1], x_[2], x_[3]) for x_ in Xref]\n",
    "setobject!(vis[\"XrefLine\"], Object(PointCloud(XrefLine), \n",
    "        LineBasicMaterial(color=Colors.RGBA(0.,0.45,1.)), \"Line\"))\n",
    "\n",
    ";"
   ]
  },
  {
   "cell_type": "code",
   "execution_count": 162,
   "metadata": {},
   "outputs": [
    {
     "ename": "DimensionMismatch",
     "evalue": "DimensionMismatch(\"tried to assign 3 elements to 2 destinations\")",
     "output_type": "error",
     "traceback": [
      "DimensionMismatch(\"tried to assign 3 elements to 2 destinations\")\n",
      "\n",
      "Stacktrace:\n",
      " [1] throw_setindex_mismatch(X::Adjoint{Float64, Vector{Float64}}, I::Tuple{Int64})\n",
      "   @ Base ./indices.jl:191\n",
      " [2] setindex_shape_check\n",
      "   @ ./indices.jl:239 [inlined]\n",
      " [3] setindex!(A::Vector{Float64}, X::Adjoint{Float64, Vector{Float64}}, I::UnitRange{Int64})\n",
      "   @ Base ./array.jl:850\n",
      " [4] macro expansion\n",
      "   @ ~/Git/tinympc-julia/state_constraints/tinyMPC-cylinder-chase.ipynb:144 [inlined]\n",
      " [5] top-level scope\n",
      "   @ timing.jl:210"
     ]
    }
   ],
   "source": [
    "include(\"../tinyMPC-ADMM-dt-state.jl\")\n",
    "\n",
    "speye(N) = spdiagm(ones(N))\n",
    "\n",
    "\n",
    "\n",
    "# Clean up MeshCat environment from previous run\n",
    "for k in 1:999\n",
    "    delete!(vis[\"xlin \" * string(k)])\n",
    "    delete!(vis[\"cyl \" * string(k)])\n",
    "    delete!(vis[\"bounding cyl \" * string(k)])\n",
    "    delete!(vis[\"linearized constraint \" * string(k)])\n",
    "end\n",
    "\n",
    "\n",
    "# Create obstacle in MeshCat\n",
    "# Cylinder constraint\n",
    "cylinder_center = [0.0; 2.0; 0.5]\n",
    "cylinder_velocity = 1 * h\n",
    "\n",
    "r_vis = 0.1\n",
    "r_obstacle = 0.75\n",
    "\n",
    "# Create visualization data to populate during MPC solution\n",
    "\n",
    "bounding_cylinder_material = MeshPhongMaterial(color=RGBA(1, 1, 1, 0.25))\n",
    "# setobject!(vis[\"cylinder\"], Cylinder(Point(cylinder_center[1], cylinder_center[2], 0.0), Point(cylinder_center[1], cylinder_center[2], 1.0), r_vis))\n",
    "# setobject!(vis[\"bounding cylinder\"], Cylinder(Point(cylinder_center[1], cylinder_center[2], -.05), Point(cylinder_center[1], cylinder_center[2], 1.05), r_obstacle), bounding_cylinder_material)\n",
    "\n",
    "thin_rect_material = MeshPhongMaterial(color=RGBA(0, 1, 0, 0.25))\n",
    "constraintPlanes = [setobject!(vis[\"linearized constraint \" * string(k)], HyperRectangle(Vec(0.0,0.0,0.0), Vec(0.001,2.0,1.0)), thin_rect_material) for k in 1:skip_cyl:Nh]\n",
    "\n",
    "\n",
    "# Used for skipping skip_cyl number of linearized cylinder constraints (skips both visualization and computation)\n",
    "skip_cyl = 1\n",
    "\n",
    "# MPC setup\n",
    "Nh = 20\n",
    "\n",
    "# Instantiate TinyMPC-ADMM variables\n",
    "\n",
    "x = [zeros(nx) for i = 1:Nh]\n",
    "u = [zeros(nu) for i = 1:Nh-1]\n",
    "\n",
    "q = [zeros(nx) for i = 1:Nh];\n",
    "r = [zeros(nu) for i = 1:Nh-1];\n",
    "\n",
    "p = [zeros(nx) for i = 1:Nh];      # cost to go linear term\n",
    "p[Nh] = q[Nh];\n",
    "\n",
    "d = [zeros(nu) for i = 1:Nh-1];    # feedforward control\n",
    "\n",
    "# Input constraints\n",
    "umin = -[1.0; 1.0; 1.0; 1.0]*.5\n",
    "umax = [1.0; 1.0; 1.0; 1.0]*.5\n",
    "\n",
    "# State constraints\n",
    "# xmin = [-Inf .* ones(nx) for i = 1:Nh]\n",
    "# xmax = [[Inf; 0.5; Inf .* ones(10)] for i = 1:Nh]\n",
    "xmin = [-Inf for i = 1:Nh] # Only one -Inf per knot point because only one inequality constraint (for now)\n",
    "xmax = [zeros(1) for i = 1:Nh]\n",
    "\n",
    "# Aineq = [speye(nx) for i = 1:Nh]\n",
    "Aineq = [zeros(nx) for i = 1:Nh]\n",
    "\n",
    "for k = 1:skip_cyl:Nh\n",
    "    xc = cylinder_center - X̃ref[k][1:3]\n",
    "    a = xc/norm(xc)\n",
    "\n",
    "    Aineq[k][1:3] = a'\n",
    "\n",
    "    q_c = cylinder_center - r_obstacle*a\n",
    "    b = a'*q_c\n",
    "    xmax[k][1] = b\n",
    "    TransformPlane(constraintPlanes[cld(k,skip_cyl)], q_c, a)\n",
    "end\n",
    "\n",
    "# Simulate\n",
    "Nsim = N - Nh\n",
    "xhist = [zeros(nx+1) for _ = 1:Nsim] # nx+1 because not reduced form\n",
    "xhist[1] = [x0[1:3]; rptoq(x0[4:6]); x0[7:12]]\n",
    "uhist = [zeros(nu) for _ = 1:Nsim-1]\n",
    "@time for k = 1:Nsim-1 # Nsim-1 knotpoints for control, Nsim knotpoints for state\n",
    "\n",
    "    # State slack (auxiliary) and dual variables\n",
    "    v = [zeros(nx) for i = 1:Nh]\n",
    "    vnew = [zeros(nx) for i = 1:Nh]\n",
    "    g = [zeros(nx) for i = 1:Nh]\n",
    "\n",
    "    # Input slack (auxiliary) and dual variables\n",
    "    z = [zeros(nu) for i = 1:Nh-1]\n",
    "    znew = [zeros(nu) for i = 1:Nh-1]\n",
    "    y = [zeros(nu) for i = 1:Nh-1]\n",
    "\n",
    "    x[1] = [xhist[k][1:3]; qtorp(xhist[k][4:7]); xhist[k][8:end]]\n",
    "\n",
    "    params = (\n",
    "        N = Nh,\n",
    "        Q = Q, R = R, Qf = Qf,\n",
    "        A = Aineq,\n",
    "        umin = umin, umax = umax,\n",
    "        xmin = xmin, xmax = xmax,\n",
    "        Xref = X̃ref[k:k+Nh-1], Uref = Uref[k:k+Nh-2], \n",
    "        cache = cache\n",
    "    );\n",
    "\n",
    "    # Solve\n",
    "    Δu, status, iter = solve_admm!(vis, params, q, r, p, d, x,v,vnew,g, u,z,znew,y; ρ=ρ, abs_tol=1e-2, max_iter=100)\n",
    "    # @show iter, status\n",
    "    \n",
    "    # Roll out x_k+1 with actual dynamics\n",
    "    uhist[k] = Δu[1] + uhover\n",
    "    xhist[k+1] = quad_dynamics_rk4(xhist[k], uhist[k])\n",
    "    \n",
    "    # Roll out with real dynamics\n",
    "    x_real = [zeros(nx+1) for _ = 1:Nh]\n",
    "    x_real[1] = xhist[k]\n",
    "    for j = 1:Nh-1\n",
    "        x_real[j+1] = quad_dynamics_rk4(x_real[j], uhist[k])\n",
    "    end\n",
    "\n",
    "    # Visualize solution x\n",
    "    x_linearized = [Point(xp[1], xp[2], xp[3]+0.01) for xp in x_real]\n",
    "    if k > 1\n",
    "        x_lin_name_prev = \"xlin \" * string(k-1)\n",
    "        setvisible!(vis[x_lin_name_prev], false)\n",
    "    end\n",
    "    x_lin_name = \"xlin \" * string(k)\n",
    "    setobject!(vis[x_lin_name], Object(PointCloud(x_linearized), \n",
    "        LineBasicMaterial(color=Colors.RGBA(1,0.6,0.0)), \"Line\"))\n",
    "\n",
    "    # Create constraints for each knot point in the horizon\n",
    "    #   assuming the cylinder moves at constant velocity between each step\n",
    "    cylinder_to_quad = x_real[1][1:3] - cylinder_center\n",
    "    cylinder_to_quad_dir = cylinder_to_quad / norm(cylinder_to_quad)\n",
    "    cylinder_dist_traveled = cylinder_velocity * cylinder_to_quad_dir\n",
    "    \n",
    "    # Update linearized cylinder constraints\n",
    "    for j = 1:skip_cyl:Nh\n",
    "        cylinder_center_prediction = cylinder_center + cylinder_dist_traveled*j\n",
    "        xc = cylinder_center_prediction - x_real[j][1:3]\n",
    "        a = xc/norm(xc) # hyperplane projection expects normalized a\n",
    "\n",
    "        Aineq[j][1:3] = a'\n",
    "\n",
    "        q_c = cylinder_center_prediction - r_obstacle*a\n",
    "        b = a'*q_c\n",
    "        xmax[j][1] = b\n",
    "        TransformPlane(constraintPlanes[cld(j,skip_cyl)], q_c, a)\n",
    "    end\n",
    "\n",
    "    # Update actual cylinder location at x=0\n",
    "    cylinder_center += cylinder_dist_traveled\n",
    "    \n",
    "    # Visualize solution x\n",
    "    if k > 1\n",
    "        setvisible!(vis[\"cyl \" * string(k-1)], false)\n",
    "        setvisible!(vis[\"bounding cyl \" * string(k-1)], false)\n",
    "    end\n",
    "    setobject!(vis[\"cyl \" * string(k)], Cylinder(Point(cylinder_center[1], cylinder_center[2], cylinder_center[3]), Point(cylinder_center[1], cylinder_center[2], cylinder_center[3]), r_vis))\n",
    "    setobject!(vis[\"bounding cyl \" * string(k)], Cylinder(Point(cylinder_center[1], cylinder_center[2], cylinder_center[3] - 0.05), Point(cylinder_center[1], cylinder_center[2], cylinder_center[3] + 0.05), r_obstacle), bounding_cylinder_material)\n",
    "end\n",
    "\n",
    "# delete!(vis[\"xHistline\"])\n",
    "# xHistline = [Point(x_[1], x_[2], x_[3]) for x_ in xhist]\n",
    "# setobject!(vis[\"xHistline\"], Object(PointCloud(xHistline), \n",
    "# LineBasicMaterial(color=Colors.RGBA(0.75,0.5,0.8)), \"Line\"))"
   ]
  },
  {
   "cell_type": "code",
   "execution_count": 134,
   "metadata": {},
   "outputs": [],
   "source": [
    "X1 = [SVector{13}(x_) for x_ in xhist];\n",
    "visualize!(vis, quad_model, Tfinal, X1)"
   ]
  },
  {
   "cell_type": "code",
   "execution_count": 161,
   "metadata": {},
   "outputs": [],
   "source": [
    "# constraintPlanes = [setobject!(vis[\"linearized constraint \" * string(k)], HyperRectangle(Vec(0.0,0.0,0.0), Vec(0.001,2.0,1.0)), thin_rect_material) for k in 1:Nh]\n",
    "for k in 1:N\n",
    "    delete!(vis[\"linearized constraint \" * string(k)])\n",
    "end\n",
    "\n",
    "# Create MeshCat animation\n",
    "anim = MeshCat.Animation()\n",
    "\n",
    "for k = 1:Nsim-1\n",
    "    atframe(anim, k-1) do\n",
    "        # Set visibility of each object to false\n",
    "        if k == 1\n",
    "            for j = 1:Nsim\n",
    "                setvisible!(vis[\"xlin \" * string(j)], false)\n",
    "                setvisible!(vis[\"cyl \" * string(j)], false)\n",
    "                setvisible!(vis[\"bounding cyl \" * string(j)], false)\n",
    "            end\n",
    "        end\n",
    "\n",
    "        # Change visible cylinder\n",
    "        setvisible!(vis[\"cyl \" * string(k)], true)\n",
    "        setvisible!(vis[\"bounding cyl \" * string(k)], true)\n",
    "        if k > 1\n",
    "            setvisible!(vis[\"cyl \" * string(k-1)], false)\n",
    "            setvisible!(vis[\"bounding cyl \" * string(k-1)], false)\n",
    "        end\n",
    "\n",
    "\n",
    "        # # Create constraints for each knot point in the horizon\n",
    "        # #   assuming the cylinder moves at constant velocity between each step\n",
    "        # cylinder_to_quad = xhist[k][1:2] - cylinder_center\n",
    "        # cylinder_to_quad_dir = cylinder_to_quad / norm(cylinder_to_quad)\n",
    "        # cylinder_dist_traveled = cylinder_velocity * cylinder_to_quad_dir\n",
    "        \n",
    "        # # Update cylinder constraint visuals\n",
    "        # for j = 1:skip_vis:Nh\n",
    "        #     if k+j-1 <= length(xhist)\n",
    "        #         x = xhist[k+j-1][1:2]\n",
    "        #     else\n",
    "        #         x = xhist[end][1:2]\n",
    "        #     end\n",
    "        #     cylinder_center_prediction = cylinder_center + cylinder_dist_traveled*j\n",
    "        #     xc = cylinder_center_prediction - x\n",
    "        #     a = xc/norm(xc)\n",
    "        #     q_c = cylinder_center_prediction - r_obstacle*a\n",
    "        #     TransformPlane(constraintPlanes[cld(j,skip_vis)], q_c, a)\n",
    "        # end\n",
    "        \n",
    "        # # Update actual cylinder location at x=0\n",
    "        # cylinder_center += cylinder_dist_traveled\n",
    "\n",
    "        # Change visible horizon\n",
    "        setvisible!(vis[\"xlin \" * string(k)], true)\n",
    "        if k > 1\n",
    "            setvisible!(vis[\"xlin \" * string(k-1)], false)\n",
    "        end\n",
    "\n",
    "        # Update quadrotor transform\n",
    "        xbar = RBState(quad_model, xhist[k])\n",
    "        if quad_model.ned\n",
    "            rq = position(xbar)\n",
    "            vq = linear_velocity(xbar)\n",
    "            rq = SA[rq[1],-rq[2],-rq[3]]\n",
    "            vq = SA[vq[1],-vq[2],-vq[3]]\n",
    "            xbar = RBState(rq, RotX(pi)*orientation(xbar), vq, angular_velocity(xbar)) \n",
    "        end\n",
    "        settransform!(vis[\"robot\"], Translation(position(xbar)) ∘ LinearMap(UnitQuaternion(orientation(xbar))))\n",
    "    end\n",
    "end\n",
    "\n",
    "setanimation!(vis, anim)"
   ]
  },
  {
   "cell_type": "code",
   "execution_count": 150,
   "metadata": {},
   "outputs": [
    {
     "name": "stderr",
     "output_type": "stream",
     "text": [
      "ffmpeg version 4.4.2 Copyright (c) 2000-2021 the FFmpeg developers\n",
      "  built with gcc 8.1.0 (GCC)\n",
      "  configuration: --enable-cross-compile --cross-prefix=/opt/x86_64-linux-gnu/bin/x86_64-linux-gnu- --arch=x86_64 --target-os=linux --cc=cc --cxx=c++ --dep-cc=cc --ar=ar --nm=nm --sysinclude=/workspace/destdir/include --pkg-config=/usr/bin/pkg-config --pkg-config-flags=--static --prefix=/workspace/destdir --sysroot=/opt/x86_64-linux-gnu/x86_64-linux-gnu/sys-root --extra-libs=-lpthread --enable-gpl --enable-version3 --enable-nonfree --disable-static --enable-shared --enable-pic --disable-debug --disable-doc --enable-avresample --enable-libaom --enable-libass --enable-libfdk-aac --enable-libfreetype --enable-libmp3lame --enable-libopus --enable-libvorbis --enable-libx264 --enable-libx265 --enable-libvpx --enable-encoders --enable-decoders --enable-muxers --enable-demuxers --enable-parsers --enable-openssl --disable-schannel --extra-cflags=-I/workspace/destdir/include --extra-ldflags=-L/workspace/destdir/lib --enable-nvenc --enable-cuda-llvm\n",
      "  libavutil      56. 70.100 / 56. 70.100\n",
      "  libavcodec     58.134.100 / 58.134.100\n",
      "  libavformat    58. 76.100 / 58. 76.100\n",
      "  libavdevice    58. 13.100 / 58. 13.100\n",
      "  libavfilter     7.110.100 /  7.110.100\n",
      "  libavresample   4.  0.  0 /  4.  0.  0\n",
      "  libswscale      5.  9.100 /  5.  9.100\n",
      "  libswresample   3.  9.100 /  3.  9.100\n",
      "  libpostproc    55.  9.100 / 55.  9.100\n",
      "Input #0, image2, from '%07d.png':\n",
      "  Duration: 00:01:34.32, start: 0.000000, bitrate: N/A\n",
      "  Stream #0:0: Video: png, rgba(pc), 1536x835, 25 fps, 25 tbr, 25 tbn, 25 tbc\n",
      "Stream mapping:\n",
      "  Stream #0:0 -> #0:0 (png (native) -> h264 (libx264))\n",
      "Press [q] to stop, [?] for help\n"
     ]
    },
    {
     "name": "stderr",
     "output_type": "stream",
     "text": [
      "[libx264 @ 0x207aa80] using cpu capabilities: MMX2 SSE2Fast SSSE3 SSE4.2 AVX FMA3 BMI2 AVX2\n",
      "[libx264 @ 0x207aa80] profile High 4:4:4 Predictive, level 4.2, 4:4:4, 8-bit\n",
      "[libx264 @ 0x207aa80] 264 - core 163 - H.264/MPEG-4 AVC codec - Copyleft 2003-2021 - http://www.videolan.org/x264.html - options: cabac=1 ref=5 deblock=1:0:0 analyse=0x3:0x113 me=hex subme=8 psy=1 psy_rd=1.00:0.00 mixed_ref=1 me_range=16 chroma_me=1 trellis=2 8x8dct=1 cqm=0 deadzone=21,11 fast_pskip=1 chroma_qp_offset=4 threads=24 lookahead_threads=4 sliced_threads=0 nr=0 decimate=1 interlaced=0 bluray_compat=0 constrained_intra=0 bframes=3 b_pyramid=2 b_adapt=1 b_bias=0 direct=3 weightb=1 open_gop=0 weightp=2 keyint=250 keyint_min=25 scenecut=40 intra_refresh=0 rc_lookahead=50 rc=crf mbtree=1 crf=18.0 qcomp=0.60 qpmin=0 qpmax=69 qpstep=4 ip_ratio=1.40 aq=1:1.00\n",
      "Output #0, mp4, to '/home/sam/Git/tinympc-julia/state_constraints/output.mp4':\n",
      "  Metadata:\n",
      "    encoder         : Lavf58.76.100\n",
      "  Stream #0:0: Video: h264 (avc1 / 0x31637661), yuv444p(tv, progressive), 1536x835, q=2-31, 60 fps, 15360 tbn\n",
      "    Metadata:\n",
      "      encoder         : Lavc58.134.100 libx264\n",
      "    Side data:\n",
      "      cpb: bitrate max/min/avg: 0/0/0 buffer size: 0 vbv_delay: N/A\n",
      "frame=    2 fps=0.0 q=0.0 size=       0kB time=00:00:00.00 bitrate=N/A dup=1 drop=0 speed=   0x    \r"
     ]
    },
    {
     "name": "stderr",
     "output_type": "stream",
     "text": [
      "frame=   57 fps=0.0 q=0.0 size=       0kB time=00:00:00.00 bitrate=N/A dup=1 drop=0 speed=   0x    \r"
     ]
    },
    {
     "name": "stderr",
     "output_type": "stream",
     "text": [
      "frame=   80 fps= 70 q=26.0 size=       0kB time=-00:00:00.01 bitrate=N/A dup=1 drop=0 speed=N/A    \r"
     ]
    },
    {
     "name": "stderr",
     "output_type": "stream",
     "text": [
      "frame=  122 fps= 74 q=26.0 size=       0kB time=00:00:00.68 bitrate=   0.6kbits/s dup=1 drop=0 speed=0.416x    \r"
     ]
    },
    {
     "name": "stderr",
     "output_type": "stream",
     "text": [
      "frame=  168 fps= 78 q=26.0 size=     256kB time=00:00:01.45 bitrate=1446.5kbits/s dup=1 drop=0 speed=0.676x    \r"
     ]
    },
    {
     "name": "stderr",
     "output_type": "stream",
     "text": [
      "frame=  223 fps= 84 q=26.0 size=     256kB time=00:00:02.36 bitrate= 886.3kbits/s dup=1 drop=0 speed=0.893x    \r"
     ]
    },
    {
     "name": "stderr",
     "output_type": "stream",
     "text": [
      "frame=  282 fps= 89 q=26.0 size=     256kB time=00:00:03.35 bitrate= 626.1kbits/s dup=1 drop=0 speed=1.06x    \r"
     ]
    },
    {
     "name": "stderr",
     "output_type": "stream",
     "text": [
      "frame=  330 fps= 84 q=26.0 size=     512kB time=00:00:04.15 bitrate=1010.8kbits/s dup=1 drop=0 speed=1.06x    \r"
     ]
    },
    {
     "name": "stderr",
     "output_type": "stream",
     "text": [
      "frame=  383 fps= 86 q=26.0 size=     768kB time=00:00:05.03 bitrate=1250.0kbits/s dup=1 drop=0 speed=1.13x    \r"
     ]
    },
    {
     "name": "stderr",
     "output_type": "stream",
     "text": [
      "frame=  435 fps= 88 q=26.0 size=     768kB time=00:00:05.90 bitrate=1066.4kbits/s dup=1 drop=0 speed=1.19x    \r"
     ]
    },
    {
     "name": "stderr",
     "output_type": "stream",
     "text": [
      "frame=  496 fps= 91 q=26.0 size=     768kB time=00:00:06.91 bitrate= 909.7kbits/s dup=1 drop=0 speed=1.27x    \r"
     ]
    },
    {
     "name": "stderr",
     "output_type": "stream",
     "text": [
      "frame=  546 fps= 92 q=26.0 size=     768kB time=00:00:07.75 bitrate= 811.8kbits/s dup=1 drop=0 speed= 1.3x    \r"
     ]
    },
    {
     "name": "stderr",
     "output_type": "stream",
     "text": [
      "frame=  580 fps= 87 q=26.0 size=    1024kB time=00:00:08.31 bitrate=1008.7kbits/s dup=1 drop=0 speed=1.25x    \r"
     ]
    },
    {
     "name": "stderr",
     "output_type": "stream",
     "text": [
      "frame=  622 fps= 87 q=26.0 size=    1280kB time=00:00:09.01 bitrate=1163.0kbits/s dup=1 drop=0 speed=1.26x    \r"
     ]
    },
    {
     "name": "stderr",
     "output_type": "stream",
     "text": [
      "frame=  678 fps= 88 q=26.0 size=    1280kB time=00:00:09.95 bitrate=1053.9kbits/s dup=1 drop=0 speed= 1.3x    \r"
     ]
    },
    {
     "name": "stderr",
     "output_type": "stream",
     "text": [
      "frame=  734 fps= 90 q=26.0 size=    1280kB time=00:00:10.88 bitrate= 963.5kbits/s dup=1 drop=0 speed=1.33x    \r"
     ]
    },
    {
     "name": "stderr",
     "output_type": "stream",
     "text": [
      "frame=  796 fps= 92 q=26.0 size=    1280kB time=00:00:11.91 bitrate= 880.0kbits/s dup=1 drop=0 speed=1.37x    \r"
     ]
    },
    {
     "name": "stderr",
     "output_type": "stream",
     "text": [
      "frame=  830 fps= 89 q=26.0 size=    1792kB time=00:00:12.48 bitrate=1176.0kbits/s dup=1 drop=0 speed=1.34x    \r"
     ]
    },
    {
     "name": "stderr",
     "output_type": "stream",
     "text": [
      "frame=  890 fps= 91 q=26.0 size=    1792kB time=00:00:13.48 bitrate=1088.8kbits/s dup=1 drop=0 speed=1.37x    \r"
     ]
    },
    {
     "name": "stderr",
     "output_type": "stream",
     "text": [
      "frame=  950 fps= 92 q=26.0 size=    1792kB time=00:00:14.48 bitrate=1013.6kbits/s dup=1 drop=0 speed= 1.4x    \r"
     ]
    },
    {
     "name": "stderr",
     "output_type": "stream",
     "text": [
      "frame= 1008 fps= 93 q=26.0 size=    1792kB time=00:00:15.45 bitrate= 950.2kbits/s dup=1 drop=0 speed=1.43x    \r"
     ]
    },
    {
     "name": "stderr",
     "output_type": "stream",
     "text": [
      "frame= 1064 fps= 94 q=26.0 size=    2048kB time=00:00:16.38 bitrate=1024.1kbits/s dup=1 drop=0 speed=1.45x    \r"
     ]
    },
    {
     "name": "stderr",
     "output_type": "stream",
     "text": [
      "frame= 1082 fps= 91 q=26.0 size=    2304kB time=00:00:16.68 bitrate=1131.3kbits/s dup=1 drop=0 speed=1.41x    \r"
     ]
    },
    {
     "name": "stderr",
     "output_type": "stream",
     "text": [
      "frame= 1141 fps= 92 q=26.0 size=    2304kB time=00:00:17.66 bitrate=1068.4kbits/s dup=1 drop=0 speed=1.43x    \r"
     ]
    },
    {
     "name": "stderr",
     "output_type": "stream",
     "text": [
      "frame= 1202 fps= 94 q=26.0 size=    2304kB time=00:00:18.68 bitrate=1010.2kbits/s dup=1 drop=0 speed=1.45x    \r"
     ]
    },
    {
     "name": "stderr",
     "output_type": "stream",
     "text": [
      "frame= 1265 fps= 95 q=26.0 size=    2304kB time=00:00:19.73 bitrate= 956.5kbits/s dup=1 drop=0 speed=1.48x    \r"
     ]
    },
    {
     "name": "stderr",
     "output_type": "stream",
     "text": [
      "frame= 1329 fps= 96 q=26.0 size=    2816kB time=00:00:20.80 bitrate=1109.1kbits/s dup=1 drop=0 speed= 1.5x    \r"
     ]
    },
    {
     "name": "stderr",
     "output_type": "stream",
     "text": [
      "frame= 1339 fps= 93 q=26.0 size=    2816kB time=00:00:20.96 bitrate=1100.3kbits/s dup=1 drop=0 speed=1.46x    \r"
     ]
    },
    {
     "name": "stderr",
     "output_type": "stream",
     "text": [
      "frame= 1393 fps= 94 q=26.0 size=    2816kB time=00:00:21.86 bitrate=1055.0kbits/s dup=1 drop=0 speed=1.47x    \r"
     ]
    },
    {
     "name": "stderr",
     "output_type": "stream",
     "text": [
      "frame= 1457 fps= 95 q=26.0 size=    2816kB time=00:00:22.93 bitrate=1005.9kbits/s dup=1 drop=0 speed=1.49x    \r"
     ]
    },
    {
     "name": "stderr",
     "output_type": "stream",
     "text": [
      "frame= 1513 fps= 95 q=26.0 size=    2816kB time=00:00:23.86 bitrate= 966.6kbits/s dup=1 drop=0 speed= 1.5x    \r"
     ]
    },
    {
     "name": "stderr",
     "output_type": "stream",
     "text": [
      "frame= 1578 fps= 96 q=26.0 size=    3072kB time=00:00:24.95 bitrate=1008.7kbits/s dup=1 drop=0 speed=1.52x    \r"
     ]
    },
    {
     "name": "stderr",
     "output_type": "stream",
     "text": [
      "frame= 1585 fps= 94 q=26.0 size=    3328kB time=00:00:25.06 bitrate=1087.6kbits/s dup=1 drop=0 speed=1.49x    \r"
     ]
    },
    {
     "name": "stderr",
     "output_type": "stream",
     "text": [
      "frame= 1640 fps= 94 q=26.0 size=    3328kB time=00:00:25.98 bitrate=1049.3kbits/s dup=1 drop=0 speed= 1.5x    \r"
     ]
    },
    {
     "name": "stderr",
     "output_type": "stream",
     "text": [
      "frame= 1692 fps= 95 q=26.0 size=    3328kB time=00:00:26.85 bitrate=1015.4kbits/s dup=1 drop=0 speed= 1.5x    \r"
     ]
    },
    {
     "name": "stderr",
     "output_type": "stream",
     "text": [
      "frame= 1743 fps= 95 q=26.0 size=    3328kB time=00:00:27.70 bitrate= 984.2kbits/s dup=1 drop=0 speed=1.51x    \r"
     ]
    },
    {
     "name": "stderr",
     "output_type": "stream",
     "text": [
      "frame= 1791 fps= 95 q=26.0 size=    3584kB time=00:00:28.50 bitrate=1030.2kbits/s dup=1 drop=0 speed=1.51x    \r"
     ]
    },
    {
     "name": "stderr",
     "output_type": "stream",
     "text": [
      "frame= 1830 fps= 93 q=26.0 size=    3840kB time=00:00:29.15 bitrate=1079.2kbits/s dup=1 drop=0 speed=1.48x    \r"
     ]
    },
    {
     "name": "stderr",
     "output_type": "stream",
     "text": [
      "frame= 1874 fps= 93 q=26.0 size=    3840kB time=00:00:29.88 bitrate=1052.7kbits/s dup=1 drop=0 speed=1.48x    \r"
     ]
    },
    {
     "name": "stderr",
     "output_type": "stream",
     "text": [
      "frame= 1930 fps= 93 q=26.0 size=    3840kB time=00:00:30.81 bitrate=1020.8kbits/s dup=1 drop=0 speed=1.49x    \r"
     ]
    },
    {
     "name": "stderr",
     "output_type": "stream",
     "text": [
      "frame= 1987 fps= 94 q=26.0 size=    4096kB time=00:00:31.76 bitrate=1056.3kbits/s dup=1 drop=0 speed= 1.5x    \r"
     ]
    },
    {
     "name": "stderr",
     "output_type": "stream",
     "text": [
      "frame= 2044 fps= 94 q=26.0 size=    4096kB time=00:00:32.71 bitrate=1025.6kbits/s dup=1 drop=0 speed=1.51x    \r"
     ]
    },
    {
     "name": "stderr",
     "output_type": "stream",
     "text": [
      "frame= 2080 fps= 93 q=26.0 size=    4352kB time=00:00:33.31 bitrate=1070.1kbits/s dup=1 drop=0 speed=1.49x    \r"
     ]
    },
    {
     "name": "stderr",
     "output_type": "stream",
     "text": [
      "frame= 2141 fps= 94 q=26.0 size=    4352kB time=00:00:34.33 bitrate=1038.4kbits/s dup=1 drop=0 speed= 1.5x    \r"
     ]
    },
    {
     "name": "stderr",
     "output_type": "stream",
     "text": [
      "frame= 2203 fps= 94 q=26.0 size=    4608kB time=00:00:35.36 bitrate=1067.4kbits/s dup=1 drop=0 speed=1.52x    \r"
     ]
    },
    {
     "name": "stderr",
     "output_type": "stream",
     "text": [
      "frame= 2267 fps= 95 q=26.0 size=    4608kB time=00:00:36.43 bitrate=1036.1kbits/s dup=1 drop=0 speed=1.53x    \r"
     ]
    },
    {
     "name": "stderr",
     "output_type": "stream",
     "text": [
      "frame= 2330 fps= 94 q=26.0 size=    4864kB time=00:00:37.48 bitrate=1063.0kbits/s dup=1 drop=0 speed=1.52x    \r"
     ]
    },
    {
     "name": "stderr",
     "output_type": "stream",
     "text": [
      "frame= 2359 fps= 93 q=-1.0 Lsize=    5154kB time=00:00:39.26 bitrate=1075.3kbits/s dup=1 drop=0 speed=1.55x    \n",
      "video:5126kB audio:0kB subtitle:0kB other streams:0kB global headers:0kB muxing overhead: 0.553680%\n",
      "[libx264 @ 0x207aa80] frame I:10    Avg QP:13.23  size:266055\n",
      "[libx264 @ 0x207aa80] frame P:605   Avg QP:19.08  size:  2482\n",
      "[libx264 @ 0x207aa80] frame B:1744  Avg QP:24.76  size:   623\n",
      "[libx264 @ 0x207aa80] consecutive B-frames:  0.5%  1.6%  3.4% 94.4%\n",
      "[libx264 @ 0x207aa80] mb I  I16..4: 17.6% 19.8% 62.6%\n",
      "[libx264 @ 0x207aa80] mb P  I16..4:  0.1%  0.1%  0.2%  P16..4:  2.0%  1.2%  0.7%  0.0%  0.0%    skip:95.7%\n",
      "[libx264 @ 0x207aa80] mb B  I16..4:  0.0%  0.0%  0.0%  B16..8:  2.6%  0.4%  0.1%  direct: 0.1%  skip:96.8%  L0:55.4% L1:41.7% BI: 2.9%\n",
      "[libx264 @ 0x207aa80] 8x8 transform intra:22.4% inter:29.5%\n",
      "[libx264 @ 0x207aa80] direct mvs  spatial:99.3% temporal:0.7%\n",
      "[libx264 @ 0x207aa80] coded y,u,v intra: 48.1% 41.2% 39.9% inter: 0.3% 0.2% 0.1%\n",
      "[libx264 @ 0x207aa80] i16 v,h,dc,p:  3% 82%  5% 10%\n",
      "[libx264 @ 0x207aa80] i8 v,h,dc,ddl,ddr,vr,hd,vl,hu:  6% 79%  7%  1%  1%  1%  2%  1%  2%\n",
      "[libx264 @ 0x207aa80] i4 v,h,dc,ddl,ddr,vr,hd,vl,hu: 17% 46% 13%  5%  3%  5%  3%  5%  3%\n",
      "[libx264 @ 0x207aa80] Weighted P-Frames: Y:0.0% UV:0.0%\n",
      "[libx264 @ 0x207aa80] ref P L0: 51.4%  7.4% 21.3% 11.5%  8.3%\n",
      "[libx264 @ 0x207aa80] ref B L0: 64.0% 31.7%  3.4%  0.8%\n",
      "[libx264 @ 0x207aa80] ref B L1: 96.1%  3.9%\n",
      "[libx264 @ 0x207aa80] kb/s:1067.85\n"
     ]
    },
    {
     "name": "stderr",
     "output_type": "stream",
     "text": [
      "┌ Info: Saved output as /home/sam/Git/tinympc-julia/state_constraints/output.mp4\n",
      "└ @ MeshCat /home/sam/.julia/packages/MeshCat/GlCMx/src/animations.jl:121\n"
     ]
    },
    {
     "data": {
      "text/plain": [
       "\"/home/sam/Git/tinympc-julia/state_constraints/output.mp4\""
      ]
     },
     "metadata": {},
     "output_type": "display_data"
    }
   ],
   "source": [
    "MeshCat.convert_frames_to_video(\n",
    "    \"/home/sam/Git/tinympc-julia/state_constraints/state_constraints_tinympc.tar\")"
   ]
  }
 ],
 "metadata": {
  "kernelspec": {
   "display_name": "Julia 1.6.7",
   "language": "julia",
   "name": "julia-1.6"
  },
  "language_info": {
   "file_extension": ".jl",
   "mimetype": "application/julia",
   "name": "julia",
   "version": "1.6.7"
  },
  "orig_nbformat": 4
 },
 "nbformat": 4,
 "nbformat_minor": 2
}
