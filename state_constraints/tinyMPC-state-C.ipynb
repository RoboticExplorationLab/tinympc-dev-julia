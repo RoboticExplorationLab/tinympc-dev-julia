{
 "cells": [
  {
   "cell_type": "code",
   "execution_count": 1,
   "metadata": {},
   "outputs": [
    {
     "name": "stderr",
     "output_type": "stream",
     "text": [
      "\u001b[32m\u001b[1m  Activating\u001b[22m\u001b[39m environment at `~/tinympc-julia/state_constraints/Project.toml`\n"
     ]
    }
   ],
   "source": [
    "import Pkg;\n",
    "Pkg.activate(@__DIR__);\n",
    "Pkg.instantiate()"
   ]
  },
  {
   "cell_type": "code",
   "execution_count": 2,
   "metadata": {},
   "outputs": [
    {
     "data": {
      "text/plain": [
       "E (generic function with 1 method)"
      ]
     },
     "metadata": {},
     "output_type": "display_data"
    }
   ],
   "source": [
    "using RobotZoo:Quadrotor\n",
    "using RobotDynamics\n",
    "using ForwardDiff\n",
    "using TrajOptPlots\n",
    "using BlockDiagonals\n",
    "using LinearAlgebra\n",
    "using StaticArrays\n",
    "using SparseArrays\n",
    "\n",
    "using MeshCat\n",
    "using ColorTypes\n",
    "using GeometryBasics: HyperRectangle, Cylinder, Vec, Point, Mesh\n",
    "using CoordinateTransformations\n",
    "using Rotations\n",
    "\n",
    "using Plots\n",
    "using Printf\n",
    "\n",
    "\n",
    "include(\"../quaternion-stuff.jl\")"
   ]
  },
  {
   "cell_type": "code",
   "execution_count": 3,
   "metadata": {},
   "outputs": [],
   "source": [
    "# Quadrotor parameters\n",
    "m = 0.035\n",
    "ℓ = 0.046/sqrt(2)\n",
    "J = [16.6e-6 0.83e-6 0.72e-6;\n",
    "    0.83e-6 16.6e-6 1.8e-6;\n",
    "    0.72e-6 1.8e-6 29.3e-6];\n",
    "gravity = 9.81\n",
    "thrustToTorque = 0.0008\n",
    "scale = 65535\n",
    "kt = 2.245365e-6*scale # u is PWM in range [0...1]\n",
    "km = kt*thrustToTorque #4.4733e-8\n",
    "\n",
    "# From \"design of a trajectory tracking controller for a nanoquadcopter\"\n",
    "# J = [1.395e-5 0 0;\n",
    "#     0 1.436e-5 0;\n",
    "#     0 0 2.173e-5];\n",
    "# kt = .2025\n",
    "# km = .11\n",
    "\n",
    "# h = 1/8000\n",
    "# h = 1/5000\n",
    "# h = 1/1000\n",
    "# h = 1/500\n",
    "# h = 1/250\n",
    "# h = 1/100\n",
    "h = 1/50\n",
    "# h = 1/25\n",
    "# h = 1/10\n",
    "\n",
    "Nx = 13     # number of states (quaternion)\n",
    "Nx̃ = 12     # number of states (linearized)\n",
    "Nu = 4      # number of controls\n",
    "nx = Nx̃\n",
    "nu = Nu\n",
    "\n",
    "#Goal state\n",
    "# uhover = (m*gravity/kt/4)*ones(4) # m = 30g and max thrust = 60g\n",
    "uhover = [.5; .5; .5; .5]\n",
    "# uhover = [0.701, 0.701, 0.832, 0.732]\n",
    "rg = [0.0; 0; 0.0]\n",
    "qg = [1.0; 0; 0; 0]\n",
    "vg = zeros(3)\n",
    "ωg = zeros(3)\n",
    "xg = [rg; qg; vg; ωg];"
   ]
  },
  {
   "cell_type": "code",
   "execution_count": 4,
   "metadata": {},
   "outputs": [
    {
     "data": {
      "text/plain": [
       "quad_dynamics_rk4 (generic function with 1 method)"
      ]
     },
     "metadata": {},
     "output_type": "display_data"
    }
   ],
   "source": [
    "function quad_dynamics(x,u)\n",
    "    r = x[1:3]\n",
    "    q = x[4:7]/norm(x[4:7]) #normalize q just to be careful\n",
    "    v = x[8:10]\n",
    "    ω = x[11:13]\n",
    "    Q = qtoQ(q)\n",
    "    \n",
    "    ṙ = v\n",
    "    q̇ = 0.5*L(q)*H*ω\n",
    "    \n",
    "    b = 1/m\n",
    "  \n",
    "    v̇ = [0; 0; -gravity] + (1/m)*Q*[zeros(2,4); kt*ones(1,4)]*u \n",
    "  \n",
    "    ω̇ = J\\(-hat(ω)*J*ω + [-ℓ*kt -ℓ*kt ℓ*kt ℓ*kt; -ℓ*kt ℓ*kt ℓ*kt -ℓ*kt; -km km -km km]*u)\n",
    "    \n",
    "    return [ṙ; q̇; v̇; ω̇]\n",
    "  end\n",
    "  function quad_dynamics_rk4(x,u)\n",
    "    #RK4 integration with zero-order hold on u\n",
    "    f1 = quad_dynamics(x, u)\n",
    "    f2 = quad_dynamics(x + 0.5*h*f1, u)\n",
    "    f3 = quad_dynamics(x + 0.5*h*f2, u)\n",
    "    f4 = quad_dynamics(x + h*f3, u)\n",
    "    xn = x + (h/6.0)*(f1 + 2*f2 + 2*f3 + f4)\n",
    "    xn[4:7] = xn[4:7]/norm(xn[4:7]) #re-normalize quaternion\n",
    "    return xn\n",
    "  end"
   ]
  },
  {
   "cell_type": "code",
   "execution_count": 5,
   "metadata": {},
   "outputs": [
    {
     "name": "stderr",
     "output_type": "stream",
     "text": [
      "┌ Info: MeshCat server started. You can open the visualizer by visiting the following URL in your browser:\n",
      "│ http://127.0.0.1:8700\n",
      "└ @ MeshCat /home/tinympc/.julia/packages/MeshCat/GlCMx/src/visualizer.jl:73\n"
     ]
    },
    {
     "data": {
      "text/plain": [
       "TransformPlane (generic function with 1 method)"
      ]
     },
     "metadata": {},
     "output_type": "display_data"
    }
   ],
   "source": [
    "vis = Visualizer()\n",
    "quad_model = Quadrotor()\n",
    "TrajOptPlots.set_mesh!(vis, quad_model)\n",
    "\n",
    "function TransformPlane(visObject, center, dir)\n",
    "\n",
    "    tol = 1e-4\n",
    "    x_axis = [1.0; 0.0; 0.0]\n",
    "\n",
    "    # Compute axis angle\n",
    "    dot = x_axis'*dir\n",
    "    if dot > 1-tol\n",
    "        axis = x_axis\n",
    "    elseif dot < -1+tol\n",
    "        axis = -x_axis\n",
    "    else\n",
    "        axis = cross(x_axis, dir)\n",
    "    end\n",
    "    angle = acos(x_axis'*dir)\n",
    "\n",
    "    settransform!(visObject, Translation(center...) ∘ LinearMap(AngleAxis(angle, axis...)))\n",
    "end"
   ]
  },
  {
   "cell_type": "code",
   "execution_count": 6,
   "metadata": {},
   "outputs": [],
   "source": [
    "# Create reference sketch trajectory\n",
    "Tfinal = 5\n",
    "N = Int(Tfinal/h)+1\n",
    "\n",
    "X̃ref = [zeros(nx) for i = 1:N]\n",
    "# Xref = [[0; 0; 1; 1; zeros(9)] for i = 1:N] # Point\n",
    "Xref = [[0; t; 1; 1; zeros(9)] for t in range(-1.5, 1.5, length=N)] # Line\n",
    "# Xref = [[sin(t); cos(t); 1; 1; zeros(9)] for t in range(-pi/2, 3*pi/2, length=N)] # Circle\n",
    "# Xref = [[sin(2*t); 2*cos(t); 1; 1; zeros(9)] for t in range(-pi/2, 3*pi/2, length=N)] # Figure-eight\n",
    "Uref = [zeros(nu) for i = 1:N-1]\n",
    "\n",
    "# Compute reference velocity from reference position\n",
    "for i = 1:N-1\n",
    "    Xref[i][8:10] = (Xref[i+1][1:3] - Xref[i][1:3])/h\n",
    "end\n",
    "\n",
    "# Convert (13 state) Xref to reduced form (12 state) X̃ref\n",
    "for k = 1:N\n",
    "    x = Xref[k]\n",
    "    qx = x[4:7]\n",
    "    ϕ = qtorp(L(qg)'*qx)   \n",
    "    X̃ref[k] = [x[1:3]; ϕ; x[8:10]; x[11:13]]\n",
    "end\n",
    "\n",
    "# Set initial state\n",
    "x0 = X̃ref[1] + [0; 0; 0; zeros(9)]\n",
    "# x0 = [0.1; 0.1; 0; zeros(9)]\n",
    "\n",
    "# Visualize reference\n",
    "delete!(vis[\"XrefLine\"])\n",
    "XrefLine = [Point(x_[1], x_[2], x_[3]) for x_ in Xref]\n",
    "setobject!(vis[\"XrefLine\"], Object(PointCloud(XrefLine), \n",
    "        LineBasicMaterial(color=Colors.RGBA(0.,0.45,1.)), \"Line\"))\n",
    ";"
   ]
  },
  {
   "cell_type": "code",
   "execution_count": 7,
   "metadata": {},
   "outputs": [],
   "source": [
    "# # Initialize normal distribution to add noise to the estimate of x\n",
    "# using Random, Distributions\n",
    "# Random.seed!(123)"
   ]
  },
  {
   "cell_type": "code",
   "execution_count": 8,
   "metadata": {},
   "outputs": [
    {
     "data": {
      "text/plain": [
       "call_c_lqr (generic function with 1 method)"
      ]
     },
     "metadata": {},
     "output_type": "display_data"
    }
   ],
   "source": [
    "using Libdl\n",
    "# lib = dlopen(\"/Users/anoushkaalavill/Documents/REx_Lab/TinyMPC/lib_test\") # library pointer\n",
    "# func = dlsym(lib, \"my_add\") # function pointer\n",
    "# function call_c(x, y)\n",
    "#     @ccall $func(x::Cint, y::Cint)::Cint\n",
    "# end\n",
    "# output = call_c(5, 5)\n",
    "# @show output\n",
    "\n",
    "lib = dlopen(\"/home/tinympc/tinympc-crazyflie-firmware/examples/controller_tinympc_eigen_task/TinyMPC/build/src/tinympc/libtinympc.so\") # library pointer\n",
    "func_admm = dlsym(lib, \"julia_sim_wrapper_solve_admm\") # function pointer\n",
    "function call_c_admm(x, u, mpc_iter, x_max, A_ineq)\n",
    "    # @ccall $func(x::Ref{Cfloat}, y::Ref{Cfloat})::Cvoid # C takes 32-bit floats\n",
    "    @ccall $func_admm(x::Ref{Cfloat}, u::Ref{Cfloat}, mpc_iter::Int, x_max::Ref{Cfloat}, A_ineq::Ref{Cfloat})::Cvoid # C takes 32-bit floats\n",
    "end\n",
    "\n",
    "func_lqr = dlsym(lib, \"julia_sim_wrapper_solve_lqr\") # function pointer\n",
    "function call_c_lqr(x, u)\n",
    "    # @ccall $func(x::Ref{Cfloat}, y::Ref{Cfloat})::Cvoid # C takes 32-bit floats\n",
    "    @ccall $func_lqr(x::Ref{Cfloat}, u::Ref{Cfloat})::Cvoid # C takes 32-bit floats\n",
    "end"
   ]
  },
  {
   "cell_type": "code",
   "execution_count": 9,
   "metadata": {},
   "outputs": [
    {
     "data": {
      "text/plain": [
       "MeshCat Visualizer with path /meshcat/xHistline at http://127.0.0.1:8700"
      ]
     },
     "metadata": {},
     "output_type": "display_data"
    }
   ],
   "source": [
    "include(\"../tinyMPC-ADMM-dt-state.jl\")\n",
    "\n",
    "speye(N) = spdiagm(ones(N))\n",
    "\n",
    "# MPC setup\n",
    "Nh = 15\n",
    "\n",
    "# Create obstacle in MeshCat\n",
    "obs_center = [0.0; 0.0; 0.8]\n",
    "r_vis = 0.1\n",
    "r_obstacle = 0.5\n",
    "\n",
    "# Visualize sphere\n",
    "bounding_material = MeshPhongMaterial(color=RGBA(1, 1, 1, 0.25))\n",
    "setobject!(vis[\"obstacle\"], HyperSphere(Point(obs_center...), r_vis))\n",
    "setobject!(vis[\"bounding obstacle\"], HyperSphere(Point(obs_center...), r_obstacle), bounding_material)\n",
    "\n",
    "# Instantiate TinyMPC-ADMM variables\n",
    "x = zeros(Float32, nx, Nh)\n",
    "u = zeros(Float32, nu, Nh-1)\n",
    "\n",
    "# State constraints\n",
    "xmax = zeros(Float32, Nh)\n",
    "Aineq = zeros(Float32, 3, Nh)\n",
    "\n",
    "# Simulate\n",
    "Nsim = N - Nh\n",
    "xhist = [zeros(nx+1) for _ = 1:Nsim] # nx+1 because not reduced form\n",
    "xhist[1] = [x0[1:3]; rptoq(x0[4:6]); x0[7:12]]\n",
    "uhist = [zeros(nu) for _ = 1:Nsim-1]\n",
    "\n",
    "prev_Δu = 0\n",
    "for k = 1:Nsim-1 # Nsim-1 knotpoints for control, Nsim knotpoints for state\n",
    "\n",
    "    # d = Normal()\n",
    "    # noise = 0.01*rand(d, 12)\n",
    "    x[:,1] = [xhist[k][1:3]; qtorp(xhist[k][4:7]); xhist[k][8:end]]# + noise # add noise to estimate of x\n",
    "\n",
    "    # Solve\n",
    "    call_c_admm(x, u, k, xmax, Aineq)\n",
    "\n",
    "    # display(x)\n",
    "    \n",
    "    # Visualize solution x\n",
    "    delete!(vis[\"xLinearized\"])\n",
    "    x_linearized = [Point(x[:,i][1], x[:,i][2], x[:,i][3]) for i in 1:Nh]\n",
    "    setobject!(vis[\"xLinearized\"], Object(PointCloud(x_linearized), \n",
    "    LineBasicMaterial(color=Colors.RGBA(1,0.6,0.0)), \"Line\"))\n",
    "\n",
    "    # Visualize solution x projected onto sphere\n",
    "    delete!(vis[\"xProjected\"])\n",
    "    x_projected = [Point(Aineq[:,i][1], Aineq[:,i][2], Aineq[:,i][3]) for i in 1:Nh]\n",
    "    setobject!(vis[\"xProjected\"], Object(PointCloud(x_projected), \n",
    "    LineBasicMaterial(color=Colors.RGBA(0.6,0.3,0.9)), \"Line\"))\n",
    "\n",
    "    Δu = u\n",
    "    # Roll out x_k+1 with actual dynamics\n",
    "    # if prev_Δu == 0\n",
    "    #     prev_Δu = Δu[:,1]\n",
    "    # end\n",
    "    uhist[k] = u[:,1] + uhover\n",
    "\n",
    "    xhist[k+1] = quad_dynamics_rk4(xhist[k], uhist[k])\n",
    "end\n",
    "\n",
    "delete!(vis[\"xHistline\"])\n",
    "xHistline = [Point(x_[1], x_[2], x_[3]) for x_ in xhist]\n",
    "setobject!(vis[\"xHistline\"], Object(PointCloud(xHistline), \n",
    "LineBasicMaterial(color=Colors.RGBA(0.75,0.5,0.8)), \"Line\"))\n",
    "     "
   ]
  },
  {
   "cell_type": "code",
   "execution_count": 13,
   "metadata": {},
   "outputs": [],
   "source": [
    "X1 = [SVector{13}(x_) for x_ in xhist];\n",
    "visualize!(vis, quad_model, Tfinal, X1)"
   ]
  }
 ],
 "metadata": {
  "kernelspec": {
   "display_name": "Julia 1.6.7",
   "language": "julia",
   "name": "julia-1.6"
  },
  "language_info": {
   "file_extension": ".jl",
   "mimetype": "application/julia",
   "name": "julia",
   "version": "1.6.7"
  },
  "orig_nbformat": 4
 },
 "nbformat": 4,
 "nbformat_minor": 2
}
