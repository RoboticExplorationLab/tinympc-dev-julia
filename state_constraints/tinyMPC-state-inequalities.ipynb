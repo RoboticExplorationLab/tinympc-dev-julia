{
 "cells": [
  {
   "cell_type": "code",
   "execution_count": 1,
   "metadata": {},
   "outputs": [
    {
     "name": "stderr",
     "output_type": "stream",
     "text": [
      "\u001b[32m\u001b[1m  Activating\u001b[22m\u001b[39m environment at `~/Documents/REx_Lab/tinympc-julia/state_constraints/Project.toml`\n"
     ]
    }
   ],
   "source": [
    "import Pkg;\n",
    "Pkg.activate(@__DIR__);\n",
    "Pkg.instantiate()"
   ]
  },
  {
   "cell_type": "code",
   "execution_count": 2,
   "metadata": {},
   "outputs": [
    {
     "data": {
      "text/plain": [
       "E (generic function with 1 method)"
      ]
     },
     "metadata": {},
     "output_type": "display_data"
    }
   ],
   "source": [
    "using RobotZoo:Quadrotor\n",
    "using RobotDynamics\n",
    "using ForwardDiff\n",
    "using TrajOptPlots\n",
    "using BlockDiagonals\n",
    "using LinearAlgebra\n",
    "using StaticArrays\n",
    "using SparseArrays\n",
    "\n",
    "using MeshCat\n",
    "using ColorTypes\n",
    "using GeometryBasics: HyperRectangle, Cylinder, Vec, Point, Mesh\n",
    "using CoordinateTransformations\n",
    "using Rotations\n",
    "\n",
    "using Plots\n",
    "using Printf\n",
    "\n",
    "\n",
    "include(\"../quaternion-stuff.jl\")"
   ]
  },
  {
   "cell_type": "code",
   "execution_count": 3,
   "metadata": {},
   "outputs": [
    {
     "data": {
      "text/plain": [
       "call_c_lqr (generic function with 1 method)"
      ]
     },
     "metadata": {},
     "output_type": "display_data"
    }
   ],
   "source": [
    "using Libdl\n",
    "# lib = dlopen(\"/Users/anoushkaalavill/Documents/REx_Lab/TinyMPC/lib_test\") # library pointer\n",
    "# func = dlsym(lib, \"my_add\") # function pointer\n",
    "# function call_c(x, y)\n",
    "#     @ccall $func(x::Cint, y::Cint)::Cint\n",
    "# end\n",
    "# output = call_c(5, 5)\n",
    "# @show output\n",
    "\n",
    "lib = dlopen(\"/Users/anoushkaalavill/Documents/REx_Lab/TinyMPC/build/src/tinympc/libtinympc.dylib\") # library pointer\n",
    "func_admm = dlsym(lib, \"julia_sim_wrapper_solve_admm\") # function pointer\n",
    "function call_c_admm(x, u)\n",
    "    # @ccall $func(x::Ref{Cfloat}, y::Ref{Cfloat})::Cvoid # C takes 32-bit floats\n",
    "    @ccall $func_admm(x::Ref{Cfloat}, u::Ref{Cfloat})::Cvoid # C takes 32-bit floats\n",
    "end\n",
    "\n",
    "func_lqr = dlsym(lib, \"julia_sim_wrapper_solve_lqr\") # function pointer\n",
    "function call_c_lqr(x, u)\n",
    "    # @ccall $func(x::Ref{Cfloat}, y::Ref{Cfloat})::Cvoid # C takes 32-bit floats\n",
    "    @ccall $func_lqr(x::Ref{Cfloat}, u::Ref{Cfloat})::Cvoid # C takes 32-bit floats\n",
    "end\n"
   ]
  },
  {
   "cell_type": "code",
   "execution_count": 4,
   "metadata": {},
   "outputs": [
    {
     "name": "stdout",
     "output_type": "stream",
     "text": [
      "uhover = (((m * gravity) / kt) / 4) * ones(4) = [0.5833333520642209, 0.5833333520642209, 0.5833333520642209, 0.5833333520642209]\n"
     ]
    }
   ],
   "source": [
    "# Quadrotor parameters\n",
    "m = 0.035\n",
    "ℓ = 0.046/sqrt(2)\n",
    "J = [16.6e-6 0.83e-6 0.72e-6;\n",
    "    0.83e-6 16.6e-6 1.8e-6;\n",
    "    0.72e-6 1.8e-6 29.3e-6];\n",
    "gravity = 9.81\n",
    "# thrustToTorque = 0.005964552\n",
    "thrustToTorque = 0.0008\n",
    "scale = 65535\n",
    "kt = 2.245365e-6*scale # u is PWM in range [0...1]\n",
    "# kt=1\n",
    "km = kt*thrustToTorque #4.4733e-8\n",
    "\n",
    "# h = 1/500\n",
    "h = 1/250\n",
    "\n",
    "Nx = 13     # number of states (quaternion)\n",
    "Nx̃ = 12     # number of states (linearized)\n",
    "Nu = 4      # number of controls\n",
    "nx = Nx̃\n",
    "nu = Nu\n",
    "\n",
    "#Goal state\n",
    "@show uhover = (m*gravity/kt/4)*ones(4) # m = 30g and max thrust = 60g\n",
    "# @show uhover = (m*gravity/4)*ones(4) # m = 30g and max thrust = 60g\n",
    "rg = [0.0; 0; 0.0]\n",
    "qg = [1.0; 0; 0; 0]\n",
    "vg = zeros(3)\n",
    "ωg = zeros(3)\n",
    "xg = [rg; qg; vg; ωg];"
   ]
  },
  {
   "cell_type": "code",
   "execution_count": 5,
   "metadata": {},
   "outputs": [
    {
     "data": {
      "text/plain": [
       "quad_dynamics_rk4 (generic function with 1 method)"
      ]
     },
     "metadata": {},
     "output_type": "display_data"
    }
   ],
   "source": [
    "function quad_dynamics(x,u)\n",
    "  r = x[1:3]\n",
    "  q = x[4:7]/norm(x[4:7]) #normalize q just to be careful\n",
    "  v = x[8:10]\n",
    "  ω = x[11:13]\n",
    "  Q = qtoQ(q)\n",
    "  \n",
    "  ṙ = v\n",
    "  q̇ = 0.5*L(q)*H*ω\n",
    "  \n",
    "  b = 1/m\n",
    "\n",
    "  v̇ = [0; 0; -gravity] + (1/m)*Q*[zeros(2,4); kt*ones(1,4)]*u \n",
    "\n",
    "  ω̇ = J\\(-hat(ω)*J*ω + [-ℓ*kt -ℓ*kt ℓ*kt ℓ*kt; -ℓ*kt ℓ*kt ℓ*kt -ℓ*kt; -km km -km km]*u)\n",
    "  \n",
    "  return [ṙ; q̇; v̇; ω̇]\n",
    "end\n",
    "function quad_dynamics_rk4(x,u)\n",
    "  #RK4 integration with zero-order hold on u\n",
    "  f1 = quad_dynamics(x, u)\n",
    "  f2 = quad_dynamics(x + 0.5*h*f1, u)\n",
    "  f3 = quad_dynamics(x + 0.5*h*f2, u)\n",
    "  f4 = quad_dynamics(x + h*f3, u)\n",
    "  xn = x + (h/6.0)*(f1 + 2*f2 + 2*f3 + f4)\n",
    "  xn[4:7] = xn[4:7]/norm(xn[4:7]) #re-normalize quaternion\n",
    "  return xn\n",
    "end"
   ]
  },
  {
   "cell_type": "code",
   "execution_count": 6,
   "metadata": {},
   "outputs": [
    {
     "name": "stdout",
     "output_type": "stream",
     "text": [
      "size(Adyn) = (13, 13)\n",
      "size(Bdyn) = (13, 4)\n",
      "size(Ãdyn) = (12, 12)\n",
      "size(B̃dyn) = (12, 4)\n"
     ]
    },
    {
     "data": {
      "text/plain": [
       "(12, 4)"
      ]
     },
     "metadata": {},
     "output_type": "display_data"
    }
   ],
   "source": [
    "#Linearize dynamics about hover\n",
    "Adyn = ForwardDiff.jacobian(x->quad_dynamics_rk4(x,uhover),xg)\n",
    "Bdyn = ForwardDiff.jacobian(u->quad_dynamics_rk4(xg,u),uhover);\n",
    "Ãdyn = Array(E(qg)'*Adyn*E(qg))\n",
    "B̃dyn = Array(E(qg)'*Bdyn);"
   ]
  },
  {
   "cell_type": "code",
   "execution_count": 7,
   "metadata": {},
   "outputs": [
    {
     "name": "stderr",
     "output_type": "stream",
     "text": [
      "┌ Info: MeshCat server started. You can open the visualizer by visiting the following URL in your browser:\n",
      "│ http://127.0.0.1:8700\n",
      "└ @ MeshCat /Users/anoushkaalavill/.julia/packages/MeshCat/GlCMx/src/visualizer.jl:73\n"
     ]
    },
    {
     "data": {
      "text/plain": [
       "TransformPlane (generic function with 1 method)"
      ]
     },
     "metadata": {},
     "output_type": "display_data"
    }
   ],
   "source": [
    "vis = Visualizer()\n",
    "quad_model = Quadrotor()\n",
    "TrajOptPlots.set_mesh!(vis, quad_model)\n",
    "\n",
    "# Create obstacle in MeshCat\n",
    "# Cylinder constraint\n",
    "cylinder_center = [0.0; 2.0]\n",
    "r_vis = 0.1\n",
    "r_obstacle = 0.4\n",
    "setobject!(vis[\"cylinder\"], Cylinder(Point(cylinder_center[1], cylinder_center[2], 0.0), Point(cylinder_center[1], cylinder_center[2], 1.0), r_vis))\n",
    "bounding_cylinder_material = MeshPhongMaterial(color=RGBA(1, 1, 1, 0.25))\n",
    "setobject!(vis[\"bounding cylinder\"], Cylinder(Point(cylinder_center[1], cylinder_center[2], -.05), Point(cylinder_center[1], cylinder_center[2], 1.05), r_obstacle), bounding_cylinder_material)\n",
    "\n",
    "function TransformPlane(visObject, center, dir)\n",
    "    # dir[1] = x, dir[2] = y (for three dimensions, take cross product of [1,0,0] and 3D dir vector to get axis of rotation)\n",
    "    width = 2\n",
    "    height = 1\n",
    "    dir_inv = -[dir[2]; -dir[1]]/norm(dir)\n",
    "    bl = [center[1:2] + dir_inv*width/2; 0] # bottom left corner\n",
    "    settransform!(visObject, Translation(bl[1], bl[2], bl[3]) ∘ LinearMap(AngleAxis(-atan(dir[2], -dir[1]), 0, 0, 1)))\n",
    "end"
   ]
  },
  {
   "cell_type": "code",
   "execution_count": 25,
   "metadata": {},
   "outputs": [],
   "source": [
    "# Objective function\n",
    "\n",
    "Tfinal = 5.0\n",
    "N = Int(Tfinal/h)+1\n",
    "\n",
    "# Precompute\n",
    "cache = (\n",
    "    Ã = Ãdyn,\n",
    "    B̃ = B̃dyn,\n",
    "    Kinf = zeros(nu,nx),\n",
    "    Pinf = zeros(nx,nx),\n",
    "    Quu_inv = zeros(nu,nu),\n",
    "    AmBKt = zeros(nx,nx), \n",
    "    coeff_d2p = zeros(nx,nu), \n",
    ")\n",
    "\n",
    "# Create reference sketch trajectory\n",
    "X̃ref = [zeros(nx) for i = 1:N]\n",
    "# Xref = [[sin(2*t); 2*cos(t); 0.5; 1; zeros(9)] for t in range(-pi/2, 3*pi/2, length=N)]\n",
    "Xref = [[0.0; 0.0; 1.0; 1.0; zeros(9)] for t = range(0, 5, length = N)];\n",
    "# Xref = [zeros(nx+1) for i = 1:N]\n",
    "Uref = [zeros(nu) for i = 1:N-1]\n",
    "\n",
    "# Cost weights\n",
    "max_dev_x = [0.1; 0.1; 0.01; 0.5; 0.5; 0.05;  0.5; 0.5; 0.5;  0.7; 0.7; 0.5]\n",
    "max_dev_u = [0.5; 0.5; 0.5; 0.5]\n",
    "Q = spdiagm(1 ./(max_dev_x.^2))\n",
    "R = spdiagm(1 ./(max_dev_u.^2))\n",
    "\n",
    "# Penalty\n",
    "ρ = 5\n",
    "R̃ = R + ρ*I;\n",
    "Q̃ = Q + ρ*I;\n",
    "\n",
    "# Compute Kinf, Pinf\n",
    "Nriccati = 10000\n",
    "P = [zeros(nx,nx) for i = 1:Nriccati];   # cost to go quadratic term\n",
    "K = [zeros(nu,nx) for i = 1:Nriccati-1]; # feedback gain\n",
    "P[Nriccati] .= Q;\n",
    "for k = (N-1):-1:1\n",
    "    K[k] = (R̃ + cache.B̃'*P[k+1]*cache.B̃)\\(cache.B̃'*P[k+1]*cache.Ã);\n",
    "    P[k] = Q̃ + cache.Ã'*P[k+1]*(cache.Ã - cache.B̃*K[k]);\n",
    "end\n",
    "\n",
    "# Cache precomputed values\n",
    "cache.Kinf .= K[1];\n",
    "cache.Pinf .= P[1];\n",
    "cache.Quu_inv .= (R̃ + cache.B̃'*cache.Pinf*cache.B̃)\\I;\n",
    "cache.AmBKt .= (cache.Ã - cache.B̃*cache.Kinf)';\n",
    "cache.coeff_d2p .= cache.Kinf'*R̃ - cache.AmBKt*cache.Pinf*cache.B̃;\n",
    "\n",
    "# Compute reference velocity from reference position\n",
    "for i = 1:N-1\n",
    "    Xref[i][8:10] = (Xref[i+1][1:3] - Xref[i][1:3])/h\n",
    "end\n",
    "\n",
    "# Convert (13 state) Xref to reduced form (12 state) X̃ref\n",
    "for k = 1:N\n",
    "    x = Xref[k]\n",
    "    qx = x[4:7]\n",
    "    ϕ = qtorp(L(qg)'*qx)   \n",
    "    X̃ref[k] = [x[1:3]; ϕ; x[8:10]; x[11:13]]\n",
    "end\n",
    "@show X̃ref\n",
    "# Set initial state\n",
    "# x0 = X̃ref[1] + [0; 0; 0; zeros(9)]\n",
    "x0 = [0.1; 0.1; 0.0; zeros(9)] + [0; 0; 0; zeros(9)]\n",
    "\n",
    "# Visualize reference\n",
    "delete!(vis[\"XrefLine\"])\n",
    "XrefLine = [Point(x_[1], x_[2], x_[3]) for x_ in Xref]\n",
    "setobject!(vis[\"XrefLine\"], Object(PointCloud(XrefLine), \n",
    "        LineBasicMaterial(color=Colors.RGBA(0.,0.45,1.)), \"Line\"))\n",
    "\n",
    ";"
   ]
  },
  {
   "cell_type": "code",
   "execution_count": 26,
   "metadata": {},
   "outputs": [
    {
     "data": {
      "text/plain": [
       "MersenneTwister(123)"
      ]
     },
     "metadata": {},
     "output_type": "display_data"
    }
   ],
   "source": [
    "# Initialize normal distribution to add noise to the estimate of x\n",
    "using Random, Distributions\n",
    "Random.seed!(123)"
   ]
  },
  {
   "cell_type": "code",
   "execution_count": 33,
   "metadata": {},
   "outputs": [
    {
     "data": {
      "text/plain": [
       "MeshCat Visualizer with path /meshcat/xHistline at http://127.0.0.1:8700"
      ]
     },
     "metadata": {},
     "output_type": "display_data"
    }
   ],
   "source": [
    "include(\"../tinyMPC-ADMM-dt-state.jl\")\n",
    "\n",
    "speye(N) = spdiagm(ones(N))\n",
    "\n",
    "# MPC setup\n",
    "Nh = 20\n",
    "\n",
    "skip_vis = 1\n",
    "\n",
    "# Create constraint planes\n",
    "thin_rect_material = MeshPhongMaterial(color=RGBA(0, 1, 0, 0.25))\n",
    "constraintPlanes = [setobject!(vis[\"linearized constraint \" * string(k)], HyperRectangle(Vec(0.0,0.0,0.0), Vec(0.001,2.0,1.0)), thin_rect_material) for k in 1:skip_vis:Nh]\n",
    "\n",
    "# Define number of state constraints (nm)\n",
    "nm = 1\n",
    "\n",
    "# Instantiate TinyMPC-ADMM variables\n",
    "\n",
    "x = [zeros(nx) for i = 1:Nh]\n",
    "u = [zeros(nu) for i = 1:Nh-1]\n",
    "# x = zeros(Float32, nx, Nh)\n",
    "# u = zeros(Float32, nu, Nh-1)\n",
    "\n",
    "q = [zeros(nx) for i = 1:Nh];\n",
    "r = [zeros(nu) for i = 1:Nh-1];\n",
    "\n",
    "p = [zeros(nx) for i = 1:Nh];      # cost to go linear term\n",
    "p[Nh] = q[Nh];\n",
    "\n",
    "d = [zeros(nu) for i = 1:Nh-1];    # feedforward control\n",
    "\n",
    "# Input constraints\n",
    "umin = -[1.0; 1.0; 1.0; 1.0]*.5\n",
    "umax = [1.0; 1.0; 1.0; 1.0]*.5\n",
    "\n",
    "# State constraints\n",
    "# xmin = [-Inf .* ones(nx) for i = 1:Nh]\n",
    "# xmax = [[Inf; 0.5; Inf .* ones(10)] for i = 1:Nh]\n",
    "xmin = [-Inf for i = 1:Nh] # Only one -Inf per knot point because only one inequality constraint (for now)\n",
    "xmax = [zeros(2) for i = 1:Nh]\n",
    "\n",
    "# Aineq = [speye(nx) for i = 1:Nh]\n",
    "Aineq = [zeros(nx) for i = 1:Nh]\n",
    "\n",
    "for k = 1:skip_vis:Nh\n",
    "    x_this = X̃ref[k][1:2]\n",
    "    xc = cylinder_center - x_this\n",
    "    a = xc/norm(xc)\n",
    "\n",
    "    # Aineq[k][1:2,1:2] = [a'; 0 0]\n",
    "    Aineq[k][1:2] = a'\n",
    "\n",
    "    q_c = cylinder_center - r_obstacle*a\n",
    "    b = a'*q_c\n",
    "    # xmax[k][1] = b\n",
    "    # xmax[k] = b\n",
    "    xmax[k] = q_c\n",
    "    TransformPlane(constraintPlanes[cld(k,skip_vis)], q_c, a)\n",
    "end\n",
    "\n",
    "# Simulate\n",
    "Nsim = N - Nh\n",
    "xhist = [zeros(nx+1) for _ = 1:Nsim] # nx+1 because not reduced form\n",
    "xhist[1] = [x0[1:3]; rptoq(x0[4:6]); x0[7:12]]\n",
    "uhist = [zeros(nu) for _ = 1:Nsim-1]\n",
    "\n",
    "prev_Δu = 0\n",
    "for k = 1:Nsim-1 # Nsim-1 knotpoints for control, Nsim knotpoints for state\n",
    "# for k = 1:1\n",
    "\n",
    "    # State slack (auxiliary) and dual variables\n",
    "    v = [zeros(nx) for i = 1:Nh]\n",
    "    vnew = [zeros(nx) for i = 1:Nh]\n",
    "    g = [zeros(nx) for i = 1:Nh]\n",
    "\n",
    "    # Input slack (auxiliary) and dual variables\n",
    "    z = [zeros(nu) for i = 1:Nh-1]\n",
    "    znew = [zeros(nu) for i = 1:Nh-1]\n",
    "    y = [zeros(nu) for i = 1:Nh-1]\n",
    "\n",
    "    x[1] = [xhist[k][1:3]; qtorp(xhist[k][4:7]); xhist[k][8:end]]\n",
    "    # d = Normal()\n",
    "    # noise = 0.01*rand(d, 12)\n",
    "    # x[:,1] = [xhist[k][1:3]; qtorp(xhist[k][4:7]); xhist[k][8:end]]# + noise # add noise to estimate of x\n",
    "    params = (\n",
    "        N = Nh,\n",
    "        Q = Q, R = R, Qf = cache.Pinf,\n",
    "        A = Aineq,\n",
    "        umin = umin, umax = umax,\n",
    "        xmin = xmin, xmax = xmax,\n",
    "        Xref = X̃ref[k:k+Nh-1], Uref = Uref[k:k+Nh-2], \n",
    "        cache = cache,\n",
    "        uhover = uhover\n",
    "    );\n",
    "\n",
    "    # Solve\n",
    "    Δu, status, iter = solve_admm!(vis, params, q, r, p, d, x,v,vnew,g, u,z,znew,y; ρ=ρ, abs_tol=1e-2, max_iter=10000)\n",
    "    # u = -cache.Kinf*(x[1] - X̃ref[1]) \n",
    "    # call_c_admm(x, u)\n",
    "\n",
    "    delete!(vis[\"xHistline\"])\n",
    "    xHistline = [Point(x_[1], x_[2], x_[3]) for x_ in x]\n",
    "    setobject!(vis[\"xHistline\"], Object(PointCloud(xHistline), \n",
    "    LineBasicMaterial(color=Colors.RGBA(0.75,0.5,0.8)), \"Line\"))\n",
    "\n",
    "    # Δu = u\n",
    "    # Roll out x_k+1 with actual dynamics\n",
    "    # if prev_Δu == 0\n",
    "    #     prev_Δu = Δu[:,1]\n",
    "    # end\n",
    "    # uhist[k] = Δu[:,1] + uhover\n",
    "    uhist[k] = Δu[1] + uhover\n",
    "    # uhist[k] = u_lqr + uhover\n",
    "\n",
    "    xhist[k+1] = quad_dynamics_rk4(xhist[k], uhist[k])\n",
    "        \n",
    "    # Roll out with real dynamics\n",
    "    x_real = [zeros(nx+1) for _ = 1:Nh]\n",
    "    x_real[1] = xhist[k]\n",
    "    for j = 1:Nh-1\n",
    "        x_real[j+1] = quad_dynamics_rk4(x_real[j], uhist[k])\n",
    "    end\n",
    "\n",
    "    # Update linearized cylinder constraints\n",
    "    for j = 1:skip_vis:Nh\n",
    "        x_this = x_real[j][1:2]\n",
    "        xc = cylinder_center - x_this\n",
    "        a = xc/norm(xc)\n",
    "\n",
    "        # Aineq[j][1:2,1:2] = [a'; 0 0]\n",
    "        Aineq[j][1:2] = a'\n",
    "\n",
    "        q_c = cylinder_center - r_obstacle*a\n",
    "        b = a'*q_c\n",
    "        # xmax[j][1] = b\n",
    "        # xmax[j] = b\n",
    "        xmax[j] = q_c\n",
    "        TransformPlane(constraintPlanes[cld(j,skip_vis)], q_c, a)\n",
    "    end\n",
    "\n",
    "    # # Visualize solution x\n",
    "    # delete!(vis[\"xLinearized\"])\n",
    "    # # x_linearized = [Point(x_[1], x_[2], x_[3]+0.01) for x_ in x]\n",
    "    # x_linearized = [Point(x[:,i][1], x[:,i][2], x[:,i][3]+0.01) for i in 1:Nh]\n",
    "    # setobject!(vis[\"xLinearized\"], Object(PointCloud(x_linearized), \n",
    "    # LineBasicMaterial(color=Colors.RGBA(1,0.6,0.0)), \"Line\"))\n",
    "end\n",
    "\n",
    "delete!(vis[\"xHistline\"])\n",
    "xHistline = [Point(x_[1], x_[2], x_[3]) for x_ in xhist]\n",
    "setobject!(vis[\"xHistline\"], Object(PointCloud(xHistline), \n",
    "LineBasicMaterial(color=Colors.RGBA(0.75,0.5,0.8)), \"Line\"))\n",
    "     "
   ]
  },
  {
   "cell_type": "code",
   "execution_count": 28,
   "metadata": {},
   "outputs": [
    {
     "data": {
      "text/plain": [
       "1231-element Vector{Vector{Float64}}:\n",
       " [0.1, 0.1, 0.0, 1.0, 0.0, 0.0, 0.0, 0.0, 0.0, 0.0, 0.0, 0.0, 0.0]\n",
       " [0.09999976296699568, 0.09999976283167121, 0.002132926841544725, 0.9999998964733785, 0.0003217389400375252, -0.00032156376259000647, 1.1577277454305329e-5, -0.00023703360652154232, -0.00023716771608106555, 1.0664633445086003, 0.32173662116375346, -0.32156612404557045, 0.011577264232300722]\n",
       " [0.09999664646678659, 0.0999966441841228, 0.008318664424459186, 0.9999989896148017, 0.0010053885331827385, -0.001004327159624221, 3.591976594755587e-5, -0.0015486075694285434, -0.001549863391425048, 2.026404843255331, 0.36191252134461055, -0.36119839711102747, 0.012764956201943204]\n",
       " [0.09998597949414036, 0.09998596617740098, 0.018143299431798793, 0.9999970321448299, 0.0017235154665579584, -0.0017208939519480942, 6.0991597444674956e-5, -0.00399952916982968, -0.004004299080609016, 2.885911488289339, 0.35621520798001, -0.35537036122082233, 0.0123060916979734]\n",
       " [0.09996369154827454, 0.09996364804026535, 0.031216961031681957, 0.999994145977328, 0.002420906662052247, -0.0024166144618468274, 8.483248541251401e-5, -0.007330927879440414, -0.007341755260232686, 3.650917765104527, 0.3411777373373191, -0.34035446878785325, 0.011533860186481566]\n",
       " [0.09992681102470588, 0.09992670897750629, 0.047173190541836385, 0.9999904939589477, 0.0030851868141097247, -0.0030793109615595486, 0.00010704234799346152, -0.011267362268307839, -0.011286241791380512, 4.327195248894001, 0.3231051022081831, -0.3223494734353135, 0.010675216754040893]\n",
       " [0.09987341754230576, 0.09987322196455944, 0.06566827115591595, 0.9999862405845386, 0.0037119138706150716, -0.0037046024198272303, 0.00012750658672725285, -0.015561159211454722, -0.015589407917453214, 4.920343265906663, 0.303625483626504, -0.30295296811997835, 0.00978855398210059]\n",
       " [0.09980251348655626, 0.09980218539801056, 0.08638052348511274, 0.9999815437412801, 0.004299097939557236, -0.004290519749242647, 0.00014619847453922698, -0.019999173469077883, -0.020037471799563104, 5.435781162730582, 0.2835627469574067, -0.2829790495423208, 0.008903283224767636]\n",
       " [0.0997138845386044, 0.09971338335091989, 0.1090095732487937, 0.9999765477542074, 0.004846181653322544, -0.004836512135437398, 0.00016314203771102106, -0.024403035611226767, -0.024451514391252396, 5.878742113805148, 0.2635254698561045, -0.26303169378591285, 0.008040713737430278]\n",
       " [0.09960796351745915, 0.09960724903749683, 0.13327559704796133, 0.9999713781643217, 0.005353702790111834, -0.005343116349108244, 0.00017839916504827725, -0.02862749479646513, -0.028685834420922755, 6.254268356940041, 0.24400018353687983, -0.24359436212174568, 0.007217376025074851]\n",
       " ⋮\n",
       " [4.421957105418393e-6, 4.417517103486078e-6, 0.9999999999966774, 0.999999999987757, 3.4916532849621192e-6, -3.506299026741647e-6, -1.3983287711635506e-8, 2.7668443548521936e-6, 2.7117033733657815e-6, 1.8575961655373988e-11, -2.6184540289746504e-5, 2.6227681375426033e-5, -4.3402132335814056e-8]\n",
       " [4.432476876608639e-6, 4.427818605022771e-6, 0.9999999999967514, 0.9999999999881205, 3.4393612336972614e-6, -3.4539197676990176e-6, -1.4067906515764152e-8, 2.4937263609850077e-6, 2.439731375005461e-6, 1.8410552043440608e-11, -2.6107512004776564e-5, 2.6151576641261187e-5, -4.121621041910134e-8]\n",
       " [4.4419123891937915e-6, 4.437040418152158e-6, 0.9999999999968247, 0.9999999999884776, 3.387227593813682e-6, -3.401697098687138e-6, -1.414818204739525e-8, 2.2247130041080634e-6, 2.1718570976920353e-6, 1.823899860531869e-11, -2.602612889123368e-5, 2.607109136183272e-5, -3.905886841015304e-8]\n",
       " [4.450280036687551e-6, 4.445198908440966e-6, 0.9999999999968973, 0.9999999999888279, 3.3352609801293533e-6, -3.3496396857190225e-6, -1.4224171437522387e-8, 1.959791653739402e-6, 1.908067770012686e-6, 1.806158674234043e-11, -2.594048578857655e-5, 2.5986320614367156e-5, -3.693007732919089e-8]\n",
       " [4.457596160731399e-6, 4.452310389027991e-6, 0.9999999999969691, 0.9999999999891718, 3.2834698185439036e-6, -3.2977560054108495e-6, -1.4295931753546661e-8, 1.6989490067301249e-6, 1.648349951886866e-6, 1.7878565144463345e-11, -2.5850676775688518e-5, 2.5897358718480257e-5, -3.48298025661526e-8]\n",
       " [4.463877048433586e-6, 4.4583911179790035e-6, 0.9999999999970403, 0.9999999999895091, 3.2318623475654193e-6, -3.2460543465058272e-6, -1.4363519987986598e-8, 1.442171102068574e-6, 1.392689549332769e-6, 1.7690285530341633e-11, -2.5756795165221488e-5, 2.5804299227530878e-5, -3.275800385115301e-8]\n",
       " [4.46913892976708e-6, 4.463457295700473e-6, 0.9999999999971106, 0.9999999999898398, 3.1804466198505184e-6, -3.194542811412398e-6, -1.4426993047341912e-8, 1.1894433355643221e-6, 1.1410718291134886e-6, 1.7496942114989737e-11, -2.5658933495988368e-5, 2.5707234922930907e-5, -3.0714635437848556e-8]\n",
       " [4.473397975026022e-6, 4.467525062411641e-6, 0.9999999999971803, 0.999999999990164, 3.129230503757961e-6, -3.143229317753849e-6, -1.4486407741262686e-8, 9.407504744109919e-7, 8.934814332617492e-7, 1.7298823852453533e-11, -2.5557183527028823e-5, 2.560625780842771e-5, -2.8699646225492805e-8]\n",
       " [4.476670292340185e-6, 4.470610495674443e-6, 0.999999999997249, 0.9999999999904816, 3.078221684913128e-6, -3.0921215999302553e-6, -1.4541820771908857e-8, 6.960766716269932e-7, 6.499023934822775e-7, 1.7096198380496826e-11, -2.545163623267757e-5, 2.5501459103490358e-5, -2.6712979827201155e-8]"
      ]
     },
     "metadata": {},
     "output_type": "display_data"
    }
   ],
   "source": [
    "xhist"
   ]
  },
  {
   "cell_type": "code",
   "execution_count": 29,
   "metadata": {},
   "outputs": [],
   "source": [
    "X1 = [SVector{13}(x_) for x_ in xhist];\n",
    "visualize!(vis, quad_model, Tfinal, X1)"
   ]
  },
  {
   "cell_type": "code",
   "execution_count": 30,
   "metadata": {},
   "outputs": [],
   "source": [
    "# constraintPlanes = [setobject!(vis[\"linearized constraint \" * string(k)], HyperRectangle(Vec(0.0,0.0,0.0), Vec(0.001,2.0,1.0)), thin_rect_material) for k in 1:Nh]\n",
    "for k in 1:N\n",
    "    delete!(vis[\"linearized constraint \" * string(k)])\n",
    "end"
   ]
  }
 ],
 "metadata": {
  "kernelspec": {
   "display_name": "Julia 1.6.7",
   "language": "julia",
   "name": "julia-1.6"
  },
  "language_info": {
   "file_extension": ".jl",
   "mimetype": "application/julia",
   "name": "julia",
   "version": "1.6.7"
  },
  "orig_nbformat": 4
 },
 "nbformat": 4,
 "nbformat_minor": 2
}
