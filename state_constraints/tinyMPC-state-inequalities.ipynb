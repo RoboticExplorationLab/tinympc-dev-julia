{
 "cells": [
  {
   "cell_type": "code",
   "execution_count": 144,
   "metadata": {},
   "outputs": [
    {
     "name": "stderr",
     "output_type": "stream",
     "text": [
      "\u001b[32m\u001b[1m  Activating\u001b[22m\u001b[39m environment at `~/Documents/REx Lab/tinympc-julia/state_constraints/Project.toml`\n"
     ]
    }
   ],
   "source": [
    "import Pkg;\n",
    "Pkg.activate(@__DIR__);\n",
    "Pkg.instantiate()"
   ]
  },
  {
   "cell_type": "code",
   "execution_count": 145,
   "metadata": {},
   "outputs": [
    {
     "data": {
      "text/plain": [
       "E (generic function with 1 method)"
      ]
     },
     "metadata": {},
     "output_type": "display_data"
    }
   ],
   "source": [
    "using RobotZoo:Quadrotor\n",
    "using RobotDynamics\n",
    "using ForwardDiff\n",
    "using TrajOptPlots\n",
    "using BlockDiagonals\n",
    "using LinearAlgebra\n",
    "using StaticArrays\n",
    "using SparseArrays\n",
    "\n",
    "using MeshCat\n",
    "using ColorTypes\n",
    "using GeometryBasics: HyperRectangle, Cylinder, Vec, Point, Mesh\n",
    "using CoordinateTransformations\n",
    "using Rotations\n",
    "\n",
    "using Plots\n",
    "using Printf\n",
    "\n",
    "\n",
    "include(\"../quaternion-stuff.jl\")"
   ]
  },
  {
   "cell_type": "code",
   "execution_count": 146,
   "metadata": {},
   "outputs": [
    {
     "name": "stdout",
     "output_type": "stream",
     "text": [
      "uhover = (((m * gravity) / kt) / 4) * ones(4) = [0.5833333520642209, 0.5833333520642209, 0.5833333520642209, 0.5833333520642209]\n"
     ]
    }
   ],
   "source": [
    "# Quadrotor parameters\n",
    "m = 0.035\n",
    "ℓ = 0.046/sqrt(2)\n",
    "J = [16.6e-6 0.83e-6 0.72e-6;\n",
    "    0.83e-6 16.6e-6 1.8e-6;\n",
    "    0.72e-6 1.8e-6 29.3e-6];\n",
    "gravity = 9.81\n",
    "# thrustToTorque = 0.005964552\n",
    "thrustToTorque = 0.0008\n",
    "scale = 65535\n",
    "kt = 2.245365e-6*scale # u is PWM in range [0...1]\n",
    "# kt=1\n",
    "km = kt*thrustToTorque #4.4733e-8\n",
    "\n",
    "# h = 1/500\n",
    "h = 1/20\n",
    "\n",
    "Nx = 13     # number of states (quaternion)\n",
    "Nx̃ = 12     # number of states (linearized)\n",
    "Nu = 4      # number of controls\n",
    "nx = Nx̃\n",
    "nu = Nu\n",
    "\n",
    "#Goal state\n",
    "@show uhover = (m*gravity/kt/4)*ones(4) # m = 30g and max thrust = 60g\n",
    "# @show uhover = (m*gravity/4)*ones(4) # m = 30g and max thrust = 60g\n",
    "rg = [0.0; 0; 0.0]\n",
    "qg = [1.0; 0; 0; 0]\n",
    "vg = zeros(3)\n",
    "ωg = zeros(3)\n",
    "xg = [rg; qg; vg; ωg];"
   ]
  },
  {
   "cell_type": "code",
   "execution_count": 147,
   "metadata": {},
   "outputs": [
    {
     "data": {
      "text/plain": [
       "quad_dynamics_rk4 (generic function with 1 method)"
      ]
     },
     "metadata": {},
     "output_type": "display_data"
    }
   ],
   "source": [
    "function quad_dynamics(x,u)\n",
    "  r = x[1:3]\n",
    "  q = x[4:7]/norm(x[4:7]) #normalize q just to be careful\n",
    "  v = x[8:10]\n",
    "  ω = x[11:13]\n",
    "  Q = qtoQ(q)\n",
    "  \n",
    "  ṙ = v\n",
    "  q̇ = 0.5*L(q)*H*ω\n",
    "  \n",
    "  b = 1/m\n",
    "\n",
    "  v̇ = [0; 0; -gravity] + (1/m)*Q*[zeros(2,4); kt*ones(1,4)]*u \n",
    "\n",
    "  ω̇ = J\\(-hat(ω)*J*ω + [-ℓ*kt -ℓ*kt ℓ*kt ℓ*kt; -ℓ*kt ℓ*kt ℓ*kt -ℓ*kt; -km km -km km]*u)\n",
    "  \n",
    "  return [ṙ; q̇; v̇; ω̇]\n",
    "end\n",
    "function quad_dynamics_rk4(x,u)\n",
    "  #RK4 integration with zero-order hold on u\n",
    "  f1 = quad_dynamics(x, u)\n",
    "  f2 = quad_dynamics(x + 0.5*h*f1, u)\n",
    "  f3 = quad_dynamics(x + 0.5*h*f2, u)\n",
    "  f4 = quad_dynamics(x + h*f3, u)\n",
    "  xn = x + (h/6.0)*(f1 + 2*f2 + 2*f3 + f4)\n",
    "  xn[4:7] = xn[4:7]/norm(xn[4:7]) #re-normalize quaternion\n",
    "  return xn\n",
    "end"
   ]
  },
  {
   "cell_type": "code",
   "execution_count": 148,
   "metadata": {},
   "outputs": [],
   "source": [
    "#Linearize dynamics about hover\n",
    "Adyn = ForwardDiff.jacobian(x->quad_dynamics_rk4(x,uhover),xg)\n",
    "Bdyn = ForwardDiff.jacobian(u->quad_dynamics_rk4(xg,u),uhover);\n",
    "Ãdyn = Array(E(qg)'*Adyn*E(qg))\n",
    "B̃dyn = Array(E(qg)'*Bdyn);"
   ]
  },
  {
   "cell_type": "code",
   "execution_count": 149,
   "metadata": {},
   "outputs": [
    {
     "name": "stderr",
     "output_type": "stream",
     "text": [
      "┌ Info: MeshCat server started. You can open the visualizer by visiting the following URL in your browser:\n",
      "│ http://127.0.0.1:8713\n",
      "└ @ MeshCat /Users/anoushkaalavill/.julia/packages/MeshCat/GlCMx/src/visualizer.jl:73\n"
     ]
    },
    {
     "data": {
      "text/plain": [
       "TransformPlane (generic function with 1 method)"
      ]
     },
     "metadata": {},
     "output_type": "display_data"
    }
   ],
   "source": [
    "vis = Visualizer()\n",
    "quad_model = Quadrotor()\n",
    "TrajOptPlots.set_mesh!(vis, quad_model)\n",
    "\n",
    "# Create obstacle in MeshCat\n",
    "# Cylinder constraint\n",
    "cylinder_center = [0.0; 2.0]\n",
    "r_vis = 0.1\n",
    "r_obstacle = 0.4\n",
    "setobject!(vis[\"cylinder\"], Cylinder(Point(cylinder_center[1], cylinder_center[2], 0.0), Point(cylinder_center[1], cylinder_center[2], 1.0), r_vis))\n",
    "bounding_cylinder_material = MeshPhongMaterial(color=RGBA(1, 1, 1, 0.25))\n",
    "setobject!(vis[\"bounding cylinder\"], Cylinder(Point(cylinder_center[1], cylinder_center[2], -.05), Point(cylinder_center[1], cylinder_center[2], 1.05), r_obstacle), bounding_cylinder_material)\n",
    "\n",
    "function TransformPlane(visObject, center, dir)\n",
    "    # dir[1] = x, dir[2] = y (for three dimensions, take cross product of [1,0,0] and 3D dir vector to get axis of rotation)\n",
    "    width = 2\n",
    "    height = 1\n",
    "    dir_inv = -[dir[2]; -dir[1]]/norm(dir)\n",
    "    bl = [center[1:2] + dir_inv*width/2; 0] # bottom left corner\n",
    "    settransform!(visObject, Translation(bl[1], bl[2], bl[3]) ∘ LinearMap(AngleAxis(-atan(dir[2], -dir[1]), 0, 0, 1)))\n",
    "end"
   ]
  },
  {
   "cell_type": "code",
   "execution_count": 150,
   "metadata": {},
   "outputs": [],
   "source": [
    "# Objective function\n",
    "\n",
    "# Cost weights\n",
    "max_dev_x = [0.1; 0.1; 0.01; 0.5; 0.5; 0.05;  0.5; 0.5; 0.5;  0.7; 0.7; 0.5]\n",
    "max_dev_u = [0.5; 0.5; 0.5; 0.5]\n",
    "Q = spdiagm(1 ./(max_dev_x.^2))\n",
    "R = spdiagm(1 ./(max_dev_u.^2))\n",
    "\n",
    "# Penalty\n",
    "ρ = 5\n",
    "R̃ = R + ρ*I;\n",
    "Q̃ = Q + ρ*I;\n",
    "Qf = Q̃\n",
    "\n",
    "\n",
    "# Precompute\n",
    "cache = (\n",
    "    Ã = Ãdyn,\n",
    "    B̃ = B̃dyn,\n",
    "    Kinf = zeros(nu,nx),\n",
    "    Pinf = zeros(nx,nx),\n",
    "    Quu_inv = zeros(nu,nu),\n",
    "    AmBKt = zeros(nx,nx), \n",
    "    coeff_d2p = zeros(nx,nu), \n",
    ")\n",
    "\n",
    "\n",
    "Tfinal = 5.0\n",
    "N = Int(Tfinal/h)+1\n",
    "\n",
    "# Compute Kinf, Pinf\n",
    "Nriccati = 10000\n",
    "P = [zeros(nx,nx) for i = 1:Nriccati];   # cost to go quadratic term\n",
    "K = [zeros(nu,nx) for i = 1:Nriccati-1]; # feedback gain\n",
    "P[Nriccati] .= Qf;\n",
    "for k = (N-1):-1:1\n",
    "    K[k] = (R̃ + cache.B̃'*P[k+1]*cache.B̃)\\(cache.B̃'*P[k+1]*cache.Ã);\n",
    "    P[k] = Q̃ + cache.Ã'*P[k+1]*(cache.Ã - cache.B̃*K[k]);\n",
    "end\n",
    "\n",
    "# Cache precomputed values\n",
    "cache.Kinf .= K[1];\n",
    "cache.Pinf .= P[1];\n",
    "cache.Quu_inv .= (R̃ + cache.B̃'*cache.Pinf*cache.B̃)\\I;\n",
    "cache.AmBKt .= (cache.Ã - cache.B̃*cache.Kinf)';\n",
    "cache.coeff_d2p .= cache.Kinf'*R̃ - cache.AmBKt*cache.Pinf*cache.B̃;\n",
    "\n",
    "\n",
    "\n",
    "# Create reference sketch trajectory\n",
    "X̃ref = [zeros(nx) for i = 1:N]\n",
    "# Xref = [[sin(2*t); 2*cos(t); 0.5; 1; zeros(9)] for t in range(-pi/2, 3*pi/2, length=N)]\n",
    "Xref = [[0.05; t; 0.5; 1; zeros(9)] for t = range(0, 5, length = N)];\n",
    "# Xref = [zeros(nx+1) for i = 1:N]\n",
    "Uref = [zeros(nu) for i = 1:N-1]\n",
    "\n",
    "# Compute reference velocity from reference position\n",
    "for i = 1:N-1\n",
    "    Xref[i][8:10] = (Xref[i+1][1:3] - Xref[i][1:3])/h\n",
    "end\n",
    "\n",
    "# Convert (13 state) Xref to reduced form (12 state) X̃ref\n",
    "for k = 1:N\n",
    "    x = Xref[k]\n",
    "    qx = x[4:7]\n",
    "    ϕ = qtorp(L(qg)'*qx)   \n",
    "    X̃ref[k] = [x[1:3]; ϕ; x[8:10]; x[11:13]]\n",
    "end\n",
    "\n",
    "# Set initial state\n",
    "x0 = X̃ref[1] + [0; 0; 0; zeros(9)]\n",
    "\n",
    "# Visualize reference\n",
    "delete!(vis[\"XrefLine\"])\n",
    "XrefLine = [Point(x_[1], x_[2], x_[3]) for x_ in Xref]\n",
    "setobject!(vis[\"XrefLine\"], Object(PointCloud(XrefLine), \n",
    "        LineBasicMaterial(color=Colors.RGBA(0.,0.45,1.)), \"Line\"))\n",
    "\n",
    ";"
   ]
  },
  {
   "cell_type": "code",
   "execution_count": 151,
   "metadata": {},
   "outputs": [
    {
     "name": "stdout",
     "output_type": "stream",
     "text": [
      "iter = 40\n",
      "iter = "
     ]
    },
    {
     "name": "stdout",
     "output_type": "stream",
     "text": [
      "40\n",
      "iter = 41\n",
      "iter = 41\n",
      "iter = 41\n",
      "iter = 42\n",
      "iter = 42\n",
      "iter = 42\n",
      "iter = 43\n",
      "iter = 43\n",
      "iter = 43\n",
      "iter = "
     ]
    },
    {
     "name": "stdout",
     "output_type": "stream",
     "text": [
      "44\n",
      "iter = 44\n",
      "iter = 44\n",
      "iter = 45\n",
      "iter = 45\n",
      "iter = 45\n",
      "iter = 46\n",
      "iter = 46\n",
      "iter = 47\n",
      "iter = 47\n",
      "iter = 48\n",
      "iter = 49\n",
      "iter = 50\n",
      "iter = 50\n",
      "iter = 51\n",
      "iter = 52\n",
      "iter = 70\n"
     ]
    },
    {
     "name": "stdout",
     "output_type": "stream",
     "text": [
      "iter = 328\n",
      "iter = 291\n",
      "iter = 370\n",
      "iter = "
     ]
    },
    {
     "name": "stdout",
     "output_type": "stream",
     "text": [
      "300\n",
      "iter = 54\n",
      "iter = 392\n",
      "iter = 392\n",
      "iter = "
     ]
    },
    {
     "name": "stdout",
     "output_type": "stream",
     "text": [
      "345\n"
     ]
    },
    {
     "name": "stdout",
     "output_type": "stream",
     "text": [
      "iter = 321\n",
      "iter = 60\n",
      "iter = 352\n",
      "iter = "
     ]
    },
    {
     "name": "stdout",
     "output_type": "stream",
     "text": [
      "314\n",
      "iter = 349\n",
      "iter = "
     ]
    },
    {
     "name": "stdout",
     "output_type": "stream",
     "text": [
      "394\n",
      "iter = 333\n",
      "iter = 385\n"
     ]
    },
    {
     "name": "stdout",
     "output_type": "stream",
     "text": [
      "iter = 380\n",
      "iter = 347\n",
      "iter = 340\n",
      "iter = "
     ]
    },
    {
     "name": "stdout",
     "output_type": "stream",
     "text": [
      "378\n",
      "iter = 394\n",
      "iter = 356\n"
     ]
    },
    {
     "name": "stdout",
     "output_type": "stream",
     "text": [
      "iter = 337\n",
      "iter = 392\n",
      "iter = 392\n",
      "iter = "
     ]
    },
    {
     "name": "stdout",
     "output_type": "stream",
     "text": [
      "362\n",
      "iter = 370\n",
      "iter = 364\n"
     ]
    },
    {
     "name": "stdout",
     "output_type": "stream",
     "text": [
      "iter = 377\n",
      "iter = 367\n",
      "iter = 361\n",
      "iter = 383\n"
     ]
    },
    {
     "name": "stdout",
     "output_type": "stream",
     "text": [
      "iter = 382\n",
      "iter = 393\n",
      "iter = 367\n",
      "iter = "
     ]
    },
    {
     "name": "stdout",
     "output_type": "stream",
     "text": [
      "362\n",
      "iter = 371\n",
      "iter = 381\n"
     ]
    },
    {
     "name": "stdout",
     "output_type": "stream",
     "text": [
      "iter = 376\n",
      "iter = 384\n",
      "iter = 369\n",
      "iter = 355\n"
     ]
    },
    {
     "name": "stdout",
     "output_type": "stream",
     "text": [
      "iter = 346\n",
      "iter = 342\n",
      "iter = 308\n",
      "iter = 330\n"
     ]
    },
    {
     "name": "stdout",
     "output_type": "stream",
     "text": [
      "iter = 321\n",
      "iter = 312\n",
      "iter = 311\n",
      "iter = 292\n"
     ]
    },
    {
     "name": "stdout",
     "output_type": "stream",
     "text": [
      "iter = 299\n",
      "iter = 279\n"
     ]
    },
    {
     "data": {
      "text/plain": [
       "MeshCat Visualizer with path /meshcat/xHistline at http://127.0.0.1:8713"
      ]
     },
     "metadata": {},
     "output_type": "display_data"
    }
   ],
   "source": [
    "include(\"../tinyMPC-ADMM-dt-state.jl\")\n",
    "\n",
    "speye(N) = spdiagm(ones(N))\n",
    "\n",
    "# MPC setup\n",
    "Nh = 20\n",
    "\n",
    "skip_vis = 1\n",
    "\n",
    "# Create constraint planes\n",
    "thin_rect_material = MeshPhongMaterial(color=RGBA(0, 1, 0, 0.25))\n",
    "constraintPlanes = [setobject!(vis[\"linearized constraint \" * string(k)], HyperRectangle(Vec(0.0,0.0,0.0), Vec(0.001,2.0,1.0)), thin_rect_material) for k in 1:skip_vis:Nh]\n",
    "\n",
    "# Define number of state constraints (nm)\n",
    "nm = 1\n",
    "\n",
    "# Instantiate TinyMPC-ADMM variables\n",
    "\n",
    "x = [zeros(nx) for i = 1:Nh]\n",
    "u = [zeros(nu) for i = 1:Nh-1]\n",
    "\n",
    "q = [zeros(nx) for i = 1:Nh];\n",
    "r = [zeros(nu) for i = 1:Nh-1];\n",
    "\n",
    "p = [zeros(nx) for i = 1:Nh];      # cost to go linear term\n",
    "p[Nh] = q[Nh];\n",
    "\n",
    "d = [zeros(nu) for i = 1:Nh-1];    # feedforward control\n",
    "\n",
    "# Input constraints\n",
    "umin = -[1.0; 1.0; 1.0; 1.0]*.5\n",
    "umax = [1.0; 1.0; 1.0; 1.0]*.5\n",
    "\n",
    "# State constraints\n",
    "# xmin = [-Inf .* ones(nx) for i = 1:Nh]\n",
    "# xmax = [[Inf; 0.5; Inf .* ones(10)] for i = 1:Nh]\n",
    "xmin = [-Inf for i = 1:Nh] # Only one -Inf per knot point because only one inequality constraint (for now)\n",
    "xmax = [zeros(2) for i = 1:Nh]\n",
    "\n",
    "# Aineq = [speye(nx) for i = 1:Nh]\n",
    "Aineq = [zeros(nx) for i = 1:Nh]\n",
    "\n",
    "for k = 1:skip_vis:Nh\n",
    "    x_this = X̃ref[k][1:2]\n",
    "    xc = cylinder_center - x_this\n",
    "    a = xc/norm(xc)\n",
    "\n",
    "    # Aineq[k][1:2,1:2] = [a'; 0 0]\n",
    "    Aineq[k][1:2] = a'\n",
    "\n",
    "    q_c = cylinder_center - r_obstacle*a\n",
    "    b = a'*q_c\n",
    "    # xmax[k][1] = b\n",
    "    # xmax[k] = b\n",
    "    xmax[k] = q_c\n",
    "    TransformPlane(constraintPlanes[cld(k,skip_vis)], q_c, a)\n",
    "end\n",
    "\n",
    "# Simulate\n",
    "Nsim = N - Nh\n",
    "xhist = [zeros(nx+1) for _ = 1:Nsim] # nx+1 because not reduced form\n",
    "xhist[1] = [x0[1:3]; rptoq(x0[4:6]); x0[7:12]]\n",
    "uhist = [zeros(nu) for _ = 1:Nsim-1]\n",
    "\n",
    "\n",
    "for k = 1:Nsim-1 # Nsim-1 knotpoints for control, Nsim knotpoints for state\n",
    "# for k = 1:1\n",
    "\n",
    "    # State slack (auxiliary) and dual variables\n",
    "    v = [zeros(nx) for i = 1:Nh]\n",
    "    vnew = [zeros(nx) for i = 1:Nh]\n",
    "    g = [zeros(nx) for i = 1:Nh]\n",
    "\n",
    "    # Input slack (auxiliary) and dual variables\n",
    "    z = [zeros(nu) for i = 1:Nh-1]\n",
    "    znew = [zeros(nu) for i = 1:Nh-1]\n",
    "    y = [zeros(nu) for i = 1:Nh-1]\n",
    "\n",
    "    x[1] = [xhist[k][1:3]; qtorp(xhist[k][4:7]); xhist[k][8:end]]\n",
    "\n",
    "    params = (\n",
    "        N = Nh,\n",
    "        Q = Q, R = R, Qf = Qf,\n",
    "        A = Aineq,\n",
    "        umin = umin, umax = umax,\n",
    "        xmin = xmin, xmax = xmax,\n",
    "        Xref = X̃ref[k:k+Nh-1], Uref = Uref[k:k+Nh-2], \n",
    "        cache = cache\n",
    "    );\n",
    "\n",
    "    # Solve\n",
    "    Δu, status, iter = solve_admm!(vis, params, q, r, p, d, x,v,vnew,g, u,z,znew,y; ρ=ρ, abs_tol=1e-2, max_iter=10000)\n",
    "    # @show iter, status\n",
    "\n",
    "    # Roll out x_k+1 with actual dynamics\n",
    "    uhist[k] = Δu[1] + uhover\n",
    "    xhist[k+1] = quad_dynamics_rk4(xhist[k], uhist[k])\n",
    "        \n",
    "    # Roll out with real dynamics\n",
    "    x_real = [zeros(nx+1) for _ = 1:Nh]\n",
    "    x_real[1] = xhist[k]\n",
    "    for j = 1:Nh-1\n",
    "        x_real[j+1] = quad_dynamics_rk4(x_real[j], uhist[k])\n",
    "    end\n",
    "\n",
    "    # Update linearized cylinder constraints\n",
    "    for j = 1:skip_vis:Nh\n",
    "        x_this = x_real[j][1:2]\n",
    "        xc = cylinder_center - x_this\n",
    "        a = xc/norm(xc)\n",
    "\n",
    "        # Aineq[j][1:2,1:2] = [a'; 0 0]\n",
    "        Aineq[j][1:2] = a'\n",
    "\n",
    "        q_c = cylinder_center - r_obstacle*a\n",
    "        b = a'*q_c\n",
    "        # xmax[j][1] = b\n",
    "        # xmax[j] = b\n",
    "        xmax[j] = q_c\n",
    "        TransformPlane(constraintPlanes[cld(j,skip_vis)], q_c, a)\n",
    "    end\n",
    "\n",
    "    # Visualize solution x\n",
    "    delete!(vis[\"xLinearized\"])\n",
    "    x_linearized = [Point(x_[1], x_[2], x_[3]+0.01) for x_ in x]\n",
    "    setobject!(vis[\"xLinearized\"], Object(PointCloud(x_linearized), \n",
    "    LineBasicMaterial(color=Colors.RGBA(1,0.6,0.0)), \"Line\"))\n",
    "end\n",
    "\n",
    "delete!(vis[\"xHistline\"])\n",
    "xHistline = [Point(x_[1], x_[2], x_[3]) for x_ in xhist]\n",
    "setobject!(vis[\"xHistline\"], Object(PointCloud(xHistline), \n",
    "LineBasicMaterial(color=Colors.RGBA(0.75,0.5,0.8)), \"Line\"))"
   ]
  },
  {
   "cell_type": "code",
   "execution_count": 152,
   "metadata": {},
   "outputs": [
    {
     "data": {
      "text/plain": [
       "81-element Vector{Vector{Float64}}:\n",
       " [0.05, 0.0, 0.5, 1.0, 0.0, 0.0, 0.0, 0.0, 1.0, 0.0, 0.0, 0.0, 0.0]\n",
       " [0.04999851315050294, 0.049982350332221204, 0.49999964500425526, 0.9999906105633763, 0.004318104069636677, -0.0003633019617835521, -2.7821115904726948e-5, -0.00011885839908297212, 0.9985880268063605, -1.726995706299306e-5, 0.3454514780135715, -0.029032082231761687, -0.0022553186562536526]\n",
       " [0.04997837940948612, 0.09974135744277604, 0.4999977158493684, 0.9999338938495553, 0.011460605720403522, -0.000928095845808818, -3.294676000183791e-5, -0.0007788779871152363, 0.9906045561819401, -7.844225271925372e-5, 0.22596895048717514, -0.016142346287758264, 0.0018406117566783027]\n",
       " [0.04991385418961674, 0.14894933226660173, 0.4999917596833764, 0.9998731782927177, 0.015879401176869236, -0.001212456914274897, 4.35581695059069e-5, -0.0018484526547359616, 0.9769920219611047, -0.0001796600213621454, 0.1275744181180071, -0.0065320250313723426, 0.00421574170024917]\n",
       " [0.04979073117387282, 0.19738723959469137, 0.49998216577722926, 0.9998354098336755, 0.01809595397835506, -0.0012893460127771103, 0.00016516415761324798, -0.0030886666422254815, 0.9601618089588759, -0.00021644696018054965, 0.04978687339022189, 0.0005224186208645709, 0.005394843669418575]\n",
       " [0.04960509075612846, 0.24494409216173466, 0.499972703059113, 0.9998262087943606, 0.01860041473206319, -0.0012175763369455313, 0.00030706278616452615, -0.004324762551917785, 0.9420297644143794, -0.00016506141368600365, -0.009407726458127146, 0.005415748687026041, 0.005798015922506623]\n",
       " [0.0493603740931434, 0.29159318770750753, 0.49996684021774196, 0.9998403875017249, 0.017829721883483373, -0.0010463941865467507, 0.0004534282355761432, -0.005435508348044029, 0.9240600963816729, -6.47942951505313e-5, -0.05223952263780531, 0.008515710255614291, 0.005727066536562293]\n",
       " [0.04906493205452411, 0.33737078077842747, 0.49996587338068044, 0.9998688370715105, 0.016164429699211696, -0.0008161126024713057, 0.0005948327366877083, -0.006344248533004548, 0.9073159957756178, 3.545406056793728e-5, -0.08098290500401889, 0.010170142140740239, 0.00539123586872906]\n",
       " [0.048730015243861655, 0.38235737371345735, 0.4999691204050742, 0.999902587974616, 0.01392748701955683, -0.0005587462453327484, 0.0007262710368854039, -0.007010242637491592, 0.8925135690804628, 0.00010549722480844478, -0.0979718844447502, 0.010696856944776704, 0.004932265862007977]\n",
       " [0.04836818364359069, 0.42666178085515627, 0.4999749218793863, 0.9999347910488747, 0.011384603286524346, -0.0002987845663215927, 0.0008456866054261236, -0.0074205838677709555, 0.8800785635726578, 0.00013712607765704968, -0.10545457468727643, 0.01038167061490925, 0.004440869896716843]\n",
       " ⋮\n",
       " [0.005903533289941485, 3.477064739750091, 0.4999335790352117, 0.9999606509161622, 0.0012596808869154473, 0.007802219516510324, 0.004029291997949152, 0.16847579498295936, 0.640609091070493, 0.0015624380424905562, -0.009007061565577746, 0.01845902141953299, -0.0104350346142328]\n",
       " [0.014496750431249046, 3.509070460329489, 0.49998693986506604, 0.9999894035906741, 0.00015708552154960868, 0.0020347623709054343, 0.004126472173760259, 0.17431106296123933, 0.6397960122673417, 0.0005815083085865327, -0.08125346325107674, -0.47946806294543326, 0.018098623390431764]\n",
       " [0.023152494522603956, 3.541073147057563, 0.5000037586364219, 0.9999049089785811, -0.0020298026805397845, -0.012810373252017927, 0.004684788016279152, 0.16949242965699524, 0.6406578347200513, 6.444357316654815e-5, -0.09889044580445792, -0.7074067629421856, 0.026407344647640937]\n",
       " [0.031183672249726156, 3.5731711827626333, 0.4999955705716257, 0.9996224149294201, -0.003922686686988585, -0.026710242555946267, 0.005118890742418012, 0.14948220691363584, 0.6435598170786512, -0.00048360444013994576, -0.057154178609561, -0.40419888218868594, 0.008032402454891206]\n",
       " [0.03795567459780133, 3.605451951952771, 0.4999639526661777, 0.9995870387401723, -0.0050056629207792126, -0.02786959455540957, 0.0048970420351441895, 0.12120759169271482, 0.6478477263710863, -0.0007930496979853212, -0.030369142031626134, 0.3119118702901895, -0.023574851365908294]\n",
       " [0.04339329720566318, 3.6379705228036956, 0.49993685804899235, 0.999767189716477, -0.0057158311203935695, -0.02034124011680911, 0.004373738850399558, 0.09752992450672698, 0.6530194710468654, -0.00023250098061459773, -0.024599313764584768, 0.2910006733283299, -0.013736910150054193]\n",
       " [0.047814441931270914, 3.6707651062962707, 0.4999374477466457, 0.9998325615257628, -0.006335419328372748, -0.016638288701935715, 0.0042283239984874255, 0.07992174409128214, 0.6588683262406259, 0.00027729517594081475, -0.023830749001387697, 0.0055549037133172385, 0.004708080352781658]\n",
       " [0.05139343110181723, 3.703869362277113, 0.4999515308561625, 0.9997859180252096, -0.007490509495458445, -0.01876564920096213, 0.0044565453048124315, 0.06288889439006329, 0.6654886658477429, 0.0002710935261891529, -0.06902540392849907, -0.17549423766444747, 0.013989725425383128]\n",
       " [0.05405002707524363, 3.7373367820765977, 0.49995882726739843, 0.999733968968529, -0.008582848435903684, -0.0208947594621203, 0.004662084317012883, 0.043025839165642885, 0.6733843637838878, 4.0795441633318394e-6, -0.018802595395031735, 0.0053825329720889326, 0.002856935607610255]"
      ]
     },
     "metadata": {},
     "output_type": "display_data"
    }
   ],
   "source": [
    "xhist"
   ]
  },
  {
   "cell_type": "code",
   "execution_count": 153,
   "metadata": {},
   "outputs": [],
   "source": [
    "X1 = [SVector{13}(x_) for x_ in xhist];\n",
    "visualize!(vis, quad_model, Tfinal, X1)"
   ]
  },
  {
   "cell_type": "code",
   "execution_count": 154,
   "metadata": {},
   "outputs": [],
   "source": [
    "# constraintPlanes = [setobject!(vis[\"linearized constraint \" * string(k)], HyperRectangle(Vec(0.0,0.0,0.0), Vec(0.001,2.0,1.0)), thin_rect_material) for k in 1:Nh]\n",
    "for k in 1:N\n",
    "    delete!(vis[\"linearized constraint \" * string(k)])\n",
    "end"
   ]
  }
 ],
 "metadata": {
  "kernelspec": {
   "display_name": "Julia 1.6.7",
   "language": "julia",
   "name": "julia-1.6"
  },
  "language_info": {
   "file_extension": ".jl",
   "mimetype": "application/julia",
   "name": "julia",
   "version": "1.6.7"
  },
  "orig_nbformat": 4
 },
 "nbformat": 4,
 "nbformat_minor": 2
}
