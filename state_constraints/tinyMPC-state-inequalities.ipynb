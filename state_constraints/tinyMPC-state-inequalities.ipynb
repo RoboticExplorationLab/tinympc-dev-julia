{
 "cells": [
  {
   "cell_type": "code",
   "execution_count": 1,
   "metadata": {},
   "outputs": [
    {
     "name": "stderr",
     "output_type": "stream",
     "text": [
      "\u001b[32m\u001b[1m  Activating\u001b[22m\u001b[39m environment at `~/Git/tinympc-julia/state_constraints/Project.toml`\n"
     ]
    }
   ],
   "source": [
    "import Pkg;\n",
    "Pkg.activate(@__DIR__);\n",
    "Pkg.instantiate()"
   ]
  },
  {
   "cell_type": "code",
   "execution_count": 26,
   "metadata": {},
   "outputs": [
    {
     "data": {
      "text/plain": [
       "E (generic function with 1 method)"
      ]
     },
     "metadata": {},
     "output_type": "display_data"
    }
   ],
   "source": [
    "using RobotZoo:Quadrotor\n",
    "using RobotDynamics\n",
    "using ForwardDiff\n",
    "using TrajOptPlots\n",
    "using BlockDiagonals\n",
    "using LinearAlgebra\n",
    "using StaticArrays\n",
    "using SparseArrays\n",
    "\n",
    "using MeshCat\n",
    "using ColorTypes\n",
    "using GeometryBasics: HyperRectangle, Cylinder, Vec, Point, Mesh\n",
    "using CoordinateTransformations\n",
    "using Rotations\n",
    "\n",
    "using Plots\n",
    "using Printf\n",
    "\n",
    "\n",
    "include(\"../quaternion-stuff.jl\")"
   ]
  },
  {
   "cell_type": "code",
   "execution_count": 27,
   "metadata": {},
   "outputs": [
    {
     "name": "stdout",
     "output_type": "stream",
     "text": [
      "uhover = (((m * gravity) / kt) / 4) * ones(4) = [0.5833333520642209, 0.5833333520642209, 0.5833333520642209, 0.5833333520642209]\n"
     ]
    }
   ],
   "source": [
    "# Quadrotor parameters\n",
    "m = 0.035\n",
    "ℓ = 0.046/sqrt(2)\n",
    "J = [16.6e-6 0.83e-6 0.72e-6;\n",
    "    0.83e-6 16.6e-6 1.8e-6;\n",
    "    0.72e-6 1.8e-6 29.3e-6];\n",
    "gravity = 9.81\n",
    "# thrustToTorque = 0.005964552\n",
    "thrustToTorque = 0.0008\n",
    "scale = 65535\n",
    "kt = 2.245365e-6*scale # u is PWM in range [0...1]\n",
    "# kt=1\n",
    "km = kt*thrustToTorque #4.4733e-8\n",
    "\n",
    "# h = 1/500\n",
    "h = 1/20\n",
    "\n",
    "Nx = 13     # number of states (quaternion)\n",
    "Nx̃ = 12     # number of states (linearized)\n",
    "Nu = 4      # number of controls\n",
    "nx = Nx̃\n",
    "nu = Nu\n",
    "\n",
    "#Goal state\n",
    "@show uhover = (m*gravity/kt/4)*ones(4) # m = 30g and max thrust = 60g\n",
    "# @show uhover = (m*gravity/4)*ones(4) # m = 30g and max thrust = 60g\n",
    "rg = [0.0; 0; 0.0]\n",
    "qg = [1.0; 0; 0; 0]\n",
    "vg = zeros(3)\n",
    "ωg = zeros(3)\n",
    "xg = [rg; qg; vg; ωg];"
   ]
  },
  {
   "cell_type": "code",
   "execution_count": 29,
   "metadata": {},
   "outputs": [
    {
     "data": {
      "text/plain": [
       "quad_dynamics_rk4 (generic function with 1 method)"
      ]
     },
     "metadata": {},
     "output_type": "display_data"
    }
   ],
   "source": [
    "function quad_dynamics(x,u)\n",
    "  r = x[1:3]\n",
    "  q = x[4:7]/norm(x[4:7]) #normalize q just to be careful\n",
    "  v = x[8:10]\n",
    "  ω = x[11:13]\n",
    "  Q = qtoQ(q)\n",
    "  \n",
    "  ṙ = v\n",
    "  q̇ = 0.5*L(q)*H*ω\n",
    "  \n",
    "  b = 1/m\n",
    "\n",
    "  v̇ = [0; 0; -gravity] + (1/m)*Q*[zeros(2,4); kt*ones(1,4)]*u \n",
    "\n",
    "  ω̇ = J\\(-hat(ω)*J*ω + [-ℓ*kt -ℓ*kt ℓ*kt ℓ*kt; -ℓ*kt ℓ*kt ℓ*kt -ℓ*kt; -km km -km km]*u)\n",
    "  \n",
    "  return [ṙ; q̇; v̇; ω̇]\n",
    "end\n",
    "function quad_dynamics_rk4(x,u)\n",
    "  #RK4 integration with zero-order hold on u\n",
    "  f1 = quad_dynamics(x, u)\n",
    "  f2 = quad_dynamics(x + 0.5*h*f1, u)\n",
    "  f3 = quad_dynamics(x + 0.5*h*f2, u)\n",
    "  f4 = quad_dynamics(x + h*f3, u)\n",
    "  xn = x + (h/6.0)*(f1 + 2*f2 + 2*f3 + f4)\n",
    "  xn[4:7] = xn[4:7]/norm(xn[4:7]) #re-normalize quaternion\n",
    "  return xn\n",
    "end"
   ]
  },
  {
   "cell_type": "code",
   "execution_count": 30,
   "metadata": {},
   "outputs": [],
   "source": [
    "#Linearize dynamics about hover\n",
    "Adyn = ForwardDiff.jacobian(x->quad_dynamics_rk4(x,uhover),xg)\n",
    "Bdyn = ForwardDiff.jacobian(u->quad_dynamics_rk4(xg,u),uhover);\n",
    "Ãdyn = Array(E(qg)'*Adyn*E(qg))\n",
    "B̃dyn = Array(E(qg)'*Bdyn);"
   ]
  },
  {
   "cell_type": "code",
   "execution_count": 31,
   "metadata": {},
   "outputs": [
    {
     "name": "stderr",
     "output_type": "stream",
     "text": [
      "┌ Info: MeshCat server started. You can open the visualizer by visiting the following URL in your browser:\n",
      "│ http://127.0.0.1:8701\n",
      "└ @ MeshCat /home/sam/.julia/packages/MeshCat/GlCMx/src/visualizer.jl:73\n"
     ]
    },
    {
     "data": {
      "text/plain": [
       "TransformPlane (generic function with 1 method)"
      ]
     },
     "metadata": {},
     "output_type": "display_data"
    }
   ],
   "source": [
    "vis = Visualizer()\n",
    "quad_model = Quadrotor()\n",
    "TrajOptPlots.set_mesh!(vis, quad_model)\n",
    "\n",
    "# Create obstacle in MeshCat\n",
    "# Cylinder constraint\n",
    "cylinder_center = [0.0; 2.0]\n",
    "r_vis = 0.1\n",
    "r_obstacle = 0.4\n",
    "setobject!(vis[\"cylinder\"], Cylinder(Point(cylinder_center[1], cylinder_center[2], 0.0), Point(cylinder_center[1], cylinder_center[2], 1.0), r_vis))\n",
    "bounding_cylinder_material = MeshPhongMaterial(color=RGBA(1, 1, 1, 0.25))\n",
    "setobject!(vis[\"bounding cylinder\"], Cylinder(Point(cylinder_center[1], cylinder_center[2], -.05), Point(cylinder_center[1], cylinder_center[2], 1.05), r_obstacle), bounding_cylinder_material)\n",
    "\n",
    "function TransformPlane(visObject, center, dir)\n",
    "    # dir[1] = x, dir[2] = y (for three dimensions, take cross product of [1,0,0] and 3D dir vector to get axis of rotation)\n",
    "    width = 2\n",
    "    height = 1\n",
    "    dir_inv = -[dir[2]; -dir[1]]/norm(dir)\n",
    "    bl = [center[1:2] + dir_inv*width/2; 0] # bottom left corner\n",
    "    settransform!(visObject, Translation(bl[1], bl[2], bl[3]) ∘ LinearMap(AngleAxis(-atan(dir[2], -dir[1]), 0, 0, 1)))\n",
    "end"
   ]
  },
  {
   "cell_type": "code",
   "execution_count": 68,
   "metadata": {},
   "outputs": [],
   "source": [
    "# Objective function\n",
    "\n",
    "# Cost weights\n",
    "max_dev_x = [0.1; 0.1; 0.01; 0.5; 0.5; 0.05;  0.5; 0.5; 0.5;  0.7; 0.7; 0.5]\n",
    "max_dev_u = [0.5; 0.5; 0.5; 0.5]\n",
    "Q = spdiagm(1 ./(max_dev_x.^2))\n",
    "R = spdiagm(1 ./(max_dev_u.^2))\n",
    "Qf = Q\n",
    "\n",
    "# Penalty\n",
    "ρ = 5\n",
    "R̃ = R + ρ*I;\n",
    "\n",
    "# Precompute\n",
    "cache = (\n",
    "    Ã = Ãdyn,\n",
    "    B̃ = B̃dyn,\n",
    "    Kinf = zeros(nu,nx),\n",
    "    Pinf = zeros(nx,nx),\n",
    "    Quu_inv = zeros(nu,nu),\n",
    "    AmBKt = zeros(nx,nx), \n",
    "    coeff_d2p = zeros(nx,nu), \n",
    ")\n",
    "\n",
    "\n",
    "Tfinal = 5.0\n",
    "N = Int(Tfinal/h)+1\n",
    "\n",
    "# Compute Kinf, Pinf\n",
    "Nriccati = 10000\n",
    "P = [zeros(nx,nx) for i = 1:Nriccati];   # cost to go quadratic term\n",
    "K = [zeros(nu,nx) for i = 1:Nriccati-1]; # feedback gain\n",
    "P[Nriccati] .= Qf;\n",
    "for k = (N-1):-1:1\n",
    "    K[k] = (R̃ + cache.B̃'*P[k+1]*cache.B̃)\\(cache.B̃'*P[k+1]*cache.Ã);\n",
    "    P[k] = Q + cache.Ã'*P[k+1]*(cache.Ã - cache.B̃*K[k]);\n",
    "end\n",
    "\n",
    "# Cache precomputed values\n",
    "cache.Kinf .= K[1];\n",
    "cache.Pinf .= P[1];\n",
    "cache.Quu_inv .= (R̃ + cache.B̃'*cache.Pinf*cache.B̃)\\I;\n",
    "cache.AmBKt .= (cache.Ã - cache.B̃*cache.Kinf)';\n",
    "cache.coeff_d2p .= cache.Kinf'*R̃ - cache.AmBKt*cache.Pinf*cache.B̃;\n",
    "\n",
    "\n",
    "\n",
    "# Create reference sketch trajectory\n",
    "X̃ref = [zeros(nx) for i = 1:N]\n",
    "# Xref = [[sin(2*t); 2*cos(t); 0.5; 1; zeros(9)] for t in range(-pi/2, 3*pi/2, length=N)]\n",
    "Xref = [[0.05; t; 0.5; 1; zeros(9)] for t = range(0, 5, length = N)];\n",
    "# Xref = [zeros(nx+1) for i = 1:N]\n",
    "Uref = [zeros(nu) for i = 1:N-1]\n",
    "\n",
    "# Compute reference velocity from reference position\n",
    "for i = 1:N-1\n",
    "    Xref[i][8:10] = (Xref[i+1][1:3] - Xref[i][1:3])/h\n",
    "end\n",
    "\n",
    "# Convert (13 state) Xref to reduced form (12 state) X̃ref\n",
    "for k = 1:N\n",
    "    x = Xref[k]\n",
    "    qx = x[4:7]\n",
    "    ϕ = qtorp(L(qg)'*qx)   \n",
    "    X̃ref[k] = [x[1:3]; ϕ; x[8:10]; x[11:13]]\n",
    "end\n",
    "\n",
    "# Set initial state\n",
    "x0 = X̃ref[1] + [0; 0; 0; zeros(9)]\n",
    "\n",
    "# Visualize reference\n",
    "delete!(vis[\"XrefLine\"])\n",
    "XrefLine = [Point(x_[1], x_[2], x_[3]) for x_ in Xref]\n",
    "setobject!(vis[\"XrefLine\"], Object(PointCloud(XrefLine), \n",
    "        LineBasicMaterial(color=Colors.RGBA(0.,0.45,1.)), \"Line\"))\n",
    "\n",
    ";"
   ]
  },
  {
   "cell_type": "code",
   "execution_count": 81,
   "metadata": {},
   "outputs": [
    {
     "data": {
      "text/plain": [
       "MeshCat Visualizer with path /meshcat/xHistline at http://127.0.0.1:8701"
      ]
     },
     "metadata": {},
     "output_type": "display_data"
    }
   ],
   "source": [
    "include(\"../tinyMPC-ADMM-dt-state.jl\")\n",
    "\n",
    "speye(N) = spdiagm(ones(N))\n",
    "\n",
    "# MPC setup\n",
    "Nh = 20\n",
    "\n",
    "skip_vis = 1\n",
    "\n",
    "# Create constraint planes\n",
    "thin_rect_material = MeshPhongMaterial(color=RGBA(0, 1, 0, 0.25))\n",
    "constraintPlanes = [setobject!(vis[\"linearized constraint \" * string(k)], HyperRectangle(Vec(0.0,0.0,0.0), Vec(0.001,2.0,1.0)), thin_rect_material) for k in 1:skip_vis:Nh]\n",
    "\n",
    "# Define number of state constraints (nm)\n",
    "nm = 1\n",
    "\n",
    "# Instantiate TinyMPC-ADMM variables\n",
    "\n",
    "x = [zeros(nx) for i = 1:Nh]\n",
    "u = [zeros(nu) for i = 1:Nh-1]\n",
    "\n",
    "q = [zeros(nx) for i = 1:Nh];\n",
    "r = [zeros(nu) for i = 1:Nh-1];\n",
    "\n",
    "p = [zeros(nx) for i = 1:Nh];      # cost to go linear term\n",
    "p[Nh] = q[Nh];\n",
    "\n",
    "d = [zeros(nu) for i = 1:Nh-1];    # feedforward control\n",
    "\n",
    "# Input constraints\n",
    "umin = -[1.0; 1.0; 1.0; 1.0]*.5\n",
    "umax = [1.0; 1.0; 1.0; 1.0]*.5\n",
    "\n",
    "# State constraints\n",
    "# xmin = [-Inf .* ones(nx) for i = 1:Nh]\n",
    "# xmax = [[Inf; 0.5; Inf .* ones(10)] for i = 1:Nh]\n",
    "xmin = [-Inf for i = 1:Nh] # Only one -Inf per knot point because only one inequality constraint (for now)\n",
    "xmax = [zeros(1) for i = 1:Nh]\n",
    "\n",
    "# Aineq = [speye(nx) for i = 1:Nh]\n",
    "Aineq = [zeros(nx) for i = 1:Nh]\n",
    "\n",
    "for k = 1:skip_vis:Nh\n",
    "    x_this = X̃ref[k][1:2]\n",
    "    xc = cylinder_center - x_this\n",
    "    a = xc/norm(xc)\n",
    "\n",
    "    # Aineq[k][1:2,1:2] = [a'; 0 0]\n",
    "    Aineq[k][1:2] = a'\n",
    "\n",
    "    q_c = cylinder_center - r_obstacle*a\n",
    "    b = a'*q_c\n",
    "    xmax[k][1] = b\n",
    "    # xmax[k] = b\n",
    "    # xmax[k] = q_c\n",
    "    TransformPlane(constraintPlanes[cld(k,skip_vis)], q_c, a)\n",
    "end\n",
    "\n",
    "# Simulate\n",
    "Nsim = N - Nh\n",
    "xhist = [zeros(nx+1) for _ = 1:Nsim] # nx+1 because not reduced form\n",
    "xhist[1] = [x0[1:3]; rptoq(x0[4:6]); x0[7:12]]\n",
    "uhist = [zeros(nu) for _ = 1:Nsim-1]\n",
    "\n",
    "\n",
    "for k = 1:Nsim-1 # Nsim-1 knotpoints for control, Nsim knotpoints for state\n",
    "# for k = 1:1\n",
    "\n",
    "    # State slack (auxiliary) and dual variables\n",
    "    v = [zeros(nx) for i = 1:Nh]\n",
    "    vnew = [zeros(nx) for i = 1:Nh]\n",
    "    g = [zeros(nx) for i = 1:Nh]\n",
    "\n",
    "    # Input slack (auxiliary) and dual variables\n",
    "    z = [zeros(nu) for i = 1:Nh-1]\n",
    "    znew = [zeros(nu) for i = 1:Nh-1]\n",
    "    y = [zeros(nu) for i = 1:Nh-1]\n",
    "\n",
    "    x[1] = [xhist[k][1:3]; qtorp(xhist[k][4:7]); xhist[k][8:end]]\n",
    "\n",
    "    params = (\n",
    "        N = Nh,\n",
    "        Q = Q, R = R, Qf = Qf,\n",
    "        A = Aineq,\n",
    "        umin = umin, umax = umax,\n",
    "        xmin = xmin, xmax = xmax,\n",
    "        Xref = X̃ref[k:k+Nh-1], Uref = Uref[k:k+Nh-2], \n",
    "        cache = cache\n",
    "    );\n",
    "\n",
    "    # Solve\n",
    "    Δu, status, iter = solve_admm!(vis, params, q, r, p, d, x,v,vnew,g, u,z,znew,y; ρ=ρ, abs_tol=1e-2, max_iter=100)\n",
    "    # @show iter, status\n",
    "\n",
    "    # Roll out x_k+1 with actual dynamics\n",
    "    uhist[k] = Δu[1] + uhover\n",
    "    xhist[k+1] = quad_dynamics_rk4(xhist[k], uhist[k])\n",
    "        \n",
    "    # Roll out with real dynamics\n",
    "    x_real = [zeros(nx+1) for _ = 1:Nh]\n",
    "    x_real[1] = xhist[k]\n",
    "    for j = 1:Nh-1\n",
    "        x_real[j+1] = quad_dynamics_rk4(x_real[j], uhist[k])\n",
    "    end\n",
    "\n",
    "    # Update linearized cylinder constraints\n",
    "    for j = 1:skip_vis:Nh\n",
    "        x_this = x_real[j][1:2]\n",
    "        xc = cylinder_center - x_this\n",
    "        a = xc/norm(xc)\n",
    "\n",
    "        # Aineq[j][1:2,1:2] = [a'; 0 0]\n",
    "        Aineq[j][1:2] = a'\n",
    "\n",
    "        q_c = cylinder_center - r_obstacle*a\n",
    "        b = a'*q_c\n",
    "        xmax[j][1] = b\n",
    "        # xmax[j] = b\n",
    "        # xmax[j] = q_c\n",
    "        TransformPlane(constraintPlanes[cld(j,skip_vis)], q_c, a)\n",
    "    end\n",
    "\n",
    "    # Visualize solution x\n",
    "    delete!(vis[\"xLinearized\"])\n",
    "    x_linearized = [Point(x_[1], x_[2], x_[3]+0.01) for x_ in x]\n",
    "    setobject!(vis[\"xLinearized\"], Object(PointCloud(x_linearized), \n",
    "    LineBasicMaterial(color=Colors.RGBA(1,0.6,0.0)), \"Line\"))\n",
    "end\n",
    "\n",
    "delete!(vis[\"xHistline\"])\n",
    "xHistline = [Point(x_[1], x_[2], x_[3]) for x_ in xhist]\n",
    "setobject!(vis[\"xHistline\"], Object(PointCloud(xHistline), \n",
    "LineBasicMaterial(color=Colors.RGBA(0.75,0.5,0.8)), \"Line\"))"
   ]
  },
  {
   "cell_type": "code",
   "execution_count": 75,
   "metadata": {},
   "outputs": [
    {
     "data": {
      "text/plain": [
       "61-element Vector{Vector{Float64}}:\n",
       " [0.05, 0.0, 0.5, 1.0, 0.0, 0.0, 0.0, 0.0, 1.0, 0.0, 0.0, 0.0, 0.0]\n",
       " [0.05000006016505919, 0.050000236583942745, 0.4999832159777692, 0.9999999982064566, -5.7959181081452274e-5, 1.4739499929269481e-5, -3.250747921766223e-6, 4.813254231200404e-6, 1.0000189267024662, -0.0006713614731935695, -0.004636731540543037, 0.0011791711399392743, -0.0002600660179879072]\n",
       " [0.04999711606170142, 0.10000230758818131, 0.49997073591911567, 0.9999996028037857, 0.00013098887975423267, -0.0008809972504670332, 3.283335177097046e-5, -0.00026928224353434387, 1.0000329653609055, 0.00017202978226459693, 0.019750092589547262, -0.07283899210049738, 0.0031414415805762126]\n",
       " [0.049955708625496774, 0.14999942078205047, 0.4999824443092378, 0.9999998138521156, -3.96884685538765e-5, -0.0006086208144982958, 1.735696277390377e-5, -0.001342468145901872, 0.9998794673509322, 0.0002963747305208504, -0.03340627820330369, 0.09462887285890886, -0.004364985968000197]\n",
       " [0.04988869864327199, 0.19999787488384246, 0.4999941302519929, 0.9999997492666893, -6.28782289458693e-5, 0.0007051985401496931, -1.4418942889352965e-5, -0.001123169298945514, 1.000062482291502, 0.00017104184125972616, 0.03155342538318413, 0.010479875640503997, 0.0018538397129960957]\n",
       " [0.04985334347021379, 0.25000029545969055, 0.4999998275152044, 0.9999991056347617, -0.000302331286595297, 0.00130262259088637, 2.2357455506071924e-5, -0.00019338606590739937, 1.0000734888693619, 5.6638324461033476e-5, -0.05071238292312032, 0.037312523305038536, 0.0010636614231333834]\n",
       " [0.04989605151457732, 0.30002693788795515, 0.5000010985859181, 0.999981548639419, -0.002840851131165728, 0.005369303090842873, -5.02978981209106e-5, 0.0025665204965025024, 1.00140719845361, -1.1535620490936047e-5, -0.15239534395248183, 0.28801340353383825, -0.006952133898354135]\n",
       " [0.05020844710176415, 0.35018602031782053, 0.4999987601028334, 0.999932801211446, -0.00369649333960873, 0.010986316323199314, -0.00017277750918113794, 0.010847752951072456, 1.005095676931583, -9.794081597099462e-5, 0.08397560436848497, 0.16143226874225816, -0.0015421973485790098]\n",
       " [0.05103324545374233, 0.400518580979497, 0.4999931220384045, 0.9999453709592561, -0.002651786286765934, 0.010110544556298619, 3.926858170864311e-6, 0.022000851924606882, 1.0080361550961858, -0.00012347457371419965, -0.0005599268985879285, -0.23154030831427355, 0.016506339747437274]\n",
       " [0.0523186153682808, 0.4509782007908259, 0.49999016825936465, 0.9999993638246353, -0.0008670764329130872, 0.0005593067614817679, 0.00045574634496970193, 0.02785162374040173, 1.0100570807969809, 2.301914552139305e-5, 0.14279742992074573, -0.5327298267828854, 0.0188300902707505]\n",
       " ⋮\n",
       " [0.2753655564898913, 2.4273818386222064, 0.4997696939483532, 0.9996022392172579, 0.022253176269820586, -0.010640785802110288, 0.013672350758442893, -0.6048004600832799, 1.5968473228895455, 0.0072807254138153345, 0.6537042010711911, 0.9036199283870004, -0.119575657226962]\n",
       " [0.24505291250602684, 2.50656083815539, 0.4999895687310202, 0.9992165851163604, 0.036444550167765884, 0.010266187140161103, 0.01151591043173999, -0.6043053460142847, 1.5680614839083564, 0.0013807019942467672, 0.5031407875361413, 0.7486051237219895, -0.10208604300644653]\n",
       " [0.21524523700324982, 2.583984536749215, 0.4999794961788295, 0.9984784888994073, 0.04698763960414003, 0.027193470032635628, 0.009663545786700785, -0.5852414371654328, 1.5271974673037805, -0.0020304617748882646, 0.359107133100263, 0.5899670936056427, -0.08627057322127983]\n",
       " [0.18677727378576311, 2.6591309549372726, 0.4998475839744714, 0.9976951325173369, 0.05410014123089168, 0.04015162844913468, 0.008089746775640384, -0.5513601165885725, 1.477509758862894, -0.003507454528861296, 0.22554543210646544, 0.43533621025246194, -0.0722941853547819]\n",
       " [0.1602952013786682, 2.731638679315654, 0.4996741945100087, 0.9970688114198626, 0.058091521547221005, 0.04932953565687625, 0.006764416455854349, -0.5064229100278211, 1.422148740845717, -0.0036377504177820762, 0.10601976758628619, 0.29084308344627563, -0.06016554581225978]\n",
       " [0.13626048526596932, 2.8012983578285695, 0.499513321291964, 0.9967022282762072, 0.05934632035066974, 0.05505168176226028, 0.005656389769626282, -0.4540326840408898, 1.3640307616405987, -0.0029206472529154518, 0.003288693143988608, 0.16117126574364618, -0.04980714738739768]\n",
       " [0.11496182228736075, 2.8680380191435453, 0.49939678873253024, 0.9966167878995635, 0.05830034535673991, 0.05773756159995422, 0.004735165100921114, -0.39747992821192785, 1.305723325810819, -0.0017705361129422873, -0.08099319896458364, 0.049452044299823986, -0.041086285315343425]\n",
       " [0.09653387705645375, 2.93190340704634, 0.49933816848477663, 0.9967775619272641, 0.055413477493398804, 0.05786244151162668, 0.003971953265260646, -0.3396249657664079, 1.2493613852043413, -0.0005221411271727242, -0.14635014238773497, -0.04270582100267957, -0.03383582658511739]\n",
       " [0.08098074482236563, 2.993035145884253, 0.49933683299659404, 0.997118823836513, 0.05114316292023657, 0.05592199564056854, 0.0033404252692866396, -0.282826194333021, 1.1966042785202335, 0.0005808364814972877, -0.19338762134748705, -0.11504909974033875, -0.0278705861245755]"
      ]
     },
     "metadata": {},
     "output_type": "display_data"
    }
   ],
   "source": [
    "xhist"
   ]
  },
  {
   "cell_type": "code",
   "execution_count": 82,
   "metadata": {},
   "outputs": [],
   "source": [
    "X1 = [SVector{13}(x_) for x_ in xhist];\n",
    "visualize!(vis, quad_model, Tfinal, X1)"
   ]
  },
  {
   "cell_type": "code",
   "execution_count": 36,
   "metadata": {},
   "outputs": [],
   "source": [
    "# constraintPlanes = [setobject!(vis[\"linearized constraint \" * string(k)], HyperRectangle(Vec(0.0,0.0,0.0), Vec(0.001,2.0,1.0)), thin_rect_material) for k in 1:Nh]\n",
    "for k in 1:N\n",
    "    delete!(vis[\"linearized constraint \" * string(k)])\n",
    "end"
   ]
  }
 ],
 "metadata": {
  "kernelspec": {
   "display_name": "Julia 1.6.7",
   "language": "julia",
   "name": "julia-1.6"
  },
  "language_info": {
   "file_extension": ".jl",
   "mimetype": "application/julia",
   "name": "julia",
   "version": "1.6.7"
  },
  "orig_nbformat": 4
 },
 "nbformat": 4,
 "nbformat_minor": 2
}
