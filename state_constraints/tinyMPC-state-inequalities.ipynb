{
 "cells": [
  {
   "cell_type": "code",
   "execution_count": 1,
   "metadata": {},
   "outputs": [
    {
     "name": "stderr",
     "output_type": "stream",
     "text": [
      "\u001b[32m\u001b[1m  Activating\u001b[22m\u001b[39m environment at `~/Documents/REx_Lab/tinympc-julia/state_constraints/Project.toml`\n"
     ]
    }
   ],
   "source": [
    "import Pkg;\n",
    "Pkg.activate(@__DIR__);\n",
    "Pkg.instantiate()"
   ]
  },
  {
   "cell_type": "code",
   "execution_count": 2,
   "metadata": {},
   "outputs": [
    {
     "data": {
      "text/plain": [
       "E (generic function with 1 method)"
      ]
     },
     "metadata": {},
     "output_type": "display_data"
    }
   ],
   "source": [
    "using RobotZoo:Quadrotor\n",
    "using RobotDynamics\n",
    "using ForwardDiff\n",
    "using TrajOptPlots\n",
    "using BlockDiagonals\n",
    "using LinearAlgebra\n",
    "using StaticArrays\n",
    "using SparseArrays\n",
    "\n",
    "using MeshCat\n",
    "using ColorTypes\n",
    "using GeometryBasics: HyperRectangle, Cylinder, Vec, Point, Mesh\n",
    "using CoordinateTransformations\n",
    "using Rotations\n",
    "\n",
    "using Plots\n",
    "using Printf\n",
    "\n",
    "\n",
    "include(\"../quaternion-stuff.jl\")"
   ]
  },
  {
   "cell_type": "code",
   "execution_count": 3,
   "metadata": {},
   "outputs": [
    {
     "data": {
      "text/plain": [
       "call_c_admm (generic function with 1 method)"
      ]
     },
     "metadata": {},
     "output_type": "display_data"
    }
   ],
   "source": [
    "using Libdl\n",
    "# lib = dlopen(\"/Users/anoushkaalavill/Documents/REx_Lab/TinyMPC/lib_test\") # library pointer\n",
    "# func = dlsym(lib, \"my_add\") # function pointer\n",
    "# function call_c(x, y)\n",
    "#     @ccall $func(x::Cint, y::Cint)::Cint\n",
    "# end\n",
    "# output = call_c(5, 5)\n",
    "# @show output\n",
    "\n",
    "lib = dlopen(\"/Users/anoushkaalavill/Documents/REx_Lab/TinyMPC/build/src/tinympc/libtinympc.dylib\") # library pointer\n",
    "func = dlsym(lib, \"julia_sim_wrapper_solve_lqr\") # function pointer\n",
    "function call_c_admm(x, u)\n",
    "    # @ccall $func(x::Ref{Cfloat}, y::Ref{Cfloat})::Cvoid # C takes 32-bit floats\n",
    "    @ccall $func(x::Ref{Cfloat}, u::Ref{Cfloat})::Cvoid # C takes 32-bit floats\n",
    "end\n"
   ]
  },
  {
   "cell_type": "code",
   "execution_count": 4,
   "metadata": {},
   "outputs": [
    {
     "name": "stdout",
     "output_type": "stream",
     "text": [
      "uhover = (((m * gravity) / kt) / 4) * ones(4) = [0.5833333520642209, 0.5833333520642209, 0.5833333520642209, 0.5833333520642209]\n"
     ]
    }
   ],
   "source": [
    "# Quadrotor parameters\n",
    "m = 0.035\n",
    "ℓ = 0.046/sqrt(2)\n",
    "J = [16.6e-6 0.83e-6 0.72e-6;\n",
    "    0.83e-6 16.6e-6 1.8e-6;\n",
    "    0.72e-6 1.8e-6 29.3e-6];\n",
    "gravity = 9.81\n",
    "# thrustToTorque = 0.005964552\n",
    "thrustToTorque = 0.0008\n",
    "scale = 65535\n",
    "kt = 2.245365e-6*scale # u is PWM in range [0...1]\n",
    "# kt=1\n",
    "km = kt*thrustToTorque #4.4733e-8\n",
    "\n",
    "# h = 1/500\n",
    "h = 1/20\n",
    "\n",
    "Nx = 13     # number of states (quaternion)\n",
    "Nx̃ = 12     # number of states (linearized)\n",
    "Nu = 4      # number of controls\n",
    "nx = Nx̃\n",
    "nu = Nu\n",
    "\n",
    "#Goal state\n",
    "@show uhover = (m*gravity/kt/4)*ones(4) # m = 30g and max thrust = 60g\n",
    "# @show uhover = (m*gravity/4)*ones(4) # m = 30g and max thrust = 60g\n",
    "rg = [0.0; 0; 0.0]\n",
    "qg = [1.0; 0; 0; 0]\n",
    "vg = zeros(3)\n",
    "ωg = zeros(3)\n",
    "xg = [rg; qg; vg; ωg];"
   ]
  },
  {
   "cell_type": "code",
   "execution_count": 5,
   "metadata": {},
   "outputs": [
    {
     "data": {
      "text/plain": [
       "quad_dynamics_rk4 (generic function with 1 method)"
      ]
     },
     "metadata": {},
     "output_type": "display_data"
    }
   ],
   "source": [
    "function quad_dynamics(x,u)\n",
    "  r = x[1:3]\n",
    "  q = x[4:7]/norm(x[4:7]) #normalize q just to be careful\n",
    "  v = x[8:10]\n",
    "  ω = x[11:13]\n",
    "  Q = qtoQ(q)\n",
    "  \n",
    "  ṙ = v\n",
    "  q̇ = 0.5*L(q)*H*ω\n",
    "  \n",
    "  b = 1/m\n",
    "\n",
    "  v̇ = [0; 0; -gravity] + (1/m)*Q*[zeros(2,4); kt*ones(1,4)]*u \n",
    "\n",
    "  ω̇ = J\\(-hat(ω)*J*ω + [-ℓ*kt -ℓ*kt ℓ*kt ℓ*kt; -ℓ*kt ℓ*kt ℓ*kt -ℓ*kt; -km km -km km]*u)\n",
    "  \n",
    "  return [ṙ; q̇; v̇; ω̇]\n",
    "end\n",
    "function quad_dynamics_rk4(x,u)\n",
    "  #RK4 integration with zero-order hold on u\n",
    "  f1 = quad_dynamics(x, u)\n",
    "  f2 = quad_dynamics(x + 0.5*h*f1, u)\n",
    "  f3 = quad_dynamics(x + 0.5*h*f2, u)\n",
    "  f4 = quad_dynamics(x + h*f3, u)\n",
    "  xn = x + (h/6.0)*(f1 + 2*f2 + 2*f3 + f4)\n",
    "  xn[4:7] = xn[4:7]/norm(xn[4:7]) #re-normalize quaternion\n",
    "  return xn\n",
    "end"
   ]
  },
  {
   "cell_type": "code",
   "execution_count": 6,
   "metadata": {},
   "outputs": [],
   "source": [
    "#Linearize dynamics about hover\n",
    "Adyn = ForwardDiff.jacobian(x->quad_dynamics_rk4(x,uhover),xg)\n",
    "Bdyn = ForwardDiff.jacobian(u->quad_dynamics_rk4(xg,u),uhover);\n",
    "Ãdyn = Array(E(qg)'*Adyn*E(qg))\n",
    "B̃dyn = Array(E(qg)'*Bdyn);"
   ]
  },
  {
   "cell_type": "code",
   "execution_count": 7,
   "metadata": {},
   "outputs": [
    {
     "name": "stderr",
     "output_type": "stream",
     "text": [
      "┌ Info: MeshCat server started. You can open the visualizer by visiting the following URL in your browser:\n",
      "│ http://127.0.0.1:8700\n",
      "└ @ MeshCat /Users/anoushkaalavill/.julia/packages/MeshCat/GlCMx/src/visualizer.jl:73\n"
     ]
    },
    {
     "data": {
      "text/plain": [
       "TransformPlane (generic function with 1 method)"
      ]
     },
     "metadata": {},
     "output_type": "display_data"
    }
   ],
   "source": [
    "vis = Visualizer()\n",
    "quad_model = Quadrotor()\n",
    "TrajOptPlots.set_mesh!(vis, quad_model)\n",
    "\n",
    "# Create obstacle in MeshCat\n",
    "# Cylinder constraint\n",
    "cylinder_center = [0.0; 2.0]\n",
    "r_vis = 0.1\n",
    "r_obstacle = 0.4\n",
    "setobject!(vis[\"cylinder\"], Cylinder(Point(cylinder_center[1], cylinder_center[2], 0.0), Point(cylinder_center[1], cylinder_center[2], 1.0), r_vis))\n",
    "bounding_cylinder_material = MeshPhongMaterial(color=RGBA(1, 1, 1, 0.25))\n",
    "setobject!(vis[\"bounding cylinder\"], Cylinder(Point(cylinder_center[1], cylinder_center[2], -.05), Point(cylinder_center[1], cylinder_center[2], 1.05), r_obstacle), bounding_cylinder_material)\n",
    "\n",
    "function TransformPlane(visObject, center, dir)\n",
    "    # dir[1] = x, dir[2] = y (for three dimensions, take cross product of [1,0,0] and 3D dir vector to get axis of rotation)\n",
    "    width = 2\n",
    "    height = 1\n",
    "    dir_inv = -[dir[2]; -dir[1]]/norm(dir)\n",
    "    bl = [center[1:2] + dir_inv*width/2; 0] # bottom left corner\n",
    "    settransform!(visObject, Translation(bl[1], bl[2], bl[3]) ∘ LinearMap(AngleAxis(-atan(dir[2], -dir[1]), 0, 0, 1)))\n",
    "end"
   ]
  },
  {
   "cell_type": "code",
   "execution_count": 8,
   "metadata": {},
   "outputs": [],
   "source": [
    "# Objective function\n",
    "\n",
    "# Cost weights\n",
    "max_dev_x = [0.1; 0.1; 0.01; 0.5; 0.5; 0.05;  0.5; 0.5; 0.5;  0.7; 0.7; 0.5]\n",
    "max_dev_u = [0.5; 0.5; 0.5; 0.5]\n",
    "Q = spdiagm(1 ./(max_dev_x.^2))\n",
    "R = spdiagm(1 ./(max_dev_u.^2))\n",
    "\n",
    "# Penalty\n",
    "ρ = 5\n",
    "R̃ = R + ρ*I;\n",
    "Q̃ = Q + ρ*I;\n",
    "Qf = Q̃\n",
    "\n",
    "\n",
    "# Precompute\n",
    "cache = (\n",
    "    Ã = Ãdyn,\n",
    "    B̃ = B̃dyn,\n",
    "    Kinf = zeros(nu,nx),\n",
    "    Pinf = zeros(nx,nx),\n",
    "    Quu_inv = zeros(nu,nu),\n",
    "    AmBKt = zeros(nx,nx), \n",
    "    coeff_d2p = zeros(nx,nu), \n",
    ")\n",
    "\n",
    "\n",
    "Tfinal = 5.0\n",
    "N = Int(Tfinal/h)+1\n",
    "\n",
    "# Compute Kinf, Pinf\n",
    "Nriccati = 10000\n",
    "P = [zeros(nx,nx) for i = 1:Nriccati];   # cost to go quadratic term\n",
    "K = [zeros(nu,nx) for i = 1:Nriccati-1]; # feedback gain\n",
    "P[Nriccati] .= Qf;\n",
    "for k = (N-1):-1:1\n",
    "    K[k] = (R̃ + cache.B̃'*P[k+1]*cache.B̃)\\(cache.B̃'*P[k+1]*cache.Ã);\n",
    "    P[k] = Q̃ + cache.Ã'*P[k+1]*(cache.Ã - cache.B̃*K[k]);\n",
    "end\n",
    "\n",
    "# Cache precomputed values\n",
    "cache.Kinf .= K[1];\n",
    "cache.Pinf .= P[1];\n",
    "cache.Quu_inv .= (R̃ + cache.B̃'*cache.Pinf*cache.B̃)\\I;\n",
    "cache.AmBKt .= (cache.Ã - cache.B̃*cache.Kinf)';\n",
    "cache.coeff_d2p .= cache.Kinf'*R̃ - cache.AmBKt*cache.Pinf*cache.B̃;\n",
    "\n",
    "# Create reference sketch trajectory\n",
    "X̃ref = [zeros(nx) for i = 1:N]\n",
    "# Xref = [[0.05; t; 0.5; 1; zeros(9)] for t = range(0, 5, length = N)];\n",
    "Xref = [[0.0; 0.0; 1; 1; zeros(9)] for t = range(0, 1, length = N)];\n",
    "Uref = [zeros(nu) for i = 1:N-1]\n",
    "\n",
    "# Compute reference velocity from reference position\n",
    "for i = 1:N-1\n",
    "    Xref[i][8:10] = (Xref[i+1][1:3] - Xref[i][1:3])/h\n",
    "end\n",
    "\n",
    "# Convert (13 state) Xref to reduced form (12 state) X̃ref\n",
    "for k = 1:N\n",
    "    x = Xref[k]\n",
    "    qx = x[4:7]\n",
    "    ϕ = qtorp(L(qg)'*qx)   \n",
    "    X̃ref[k] = [x[1:3]; ϕ; x[8:10]; x[11:13]]\n",
    "end\n",
    "\n",
    "# Set initial state\n",
    "x0 = X̃ref[1] + [0; 0; 0; zeros(9)]\n",
    "\n",
    "# Visualize reference\n",
    "delete!(vis[\"XrefLine\"])\n",
    "XrefLine = [Point(x_[1], x_[2], x_[3]) for x_ in Xref]\n",
    "setobject!(vis[\"XrefLine\"], Object(PointCloud(XrefLine), \n",
    "        LineBasicMaterial(color=Colors.RGBA(0.,0.45,1.)), \"Line\"))\n",
    "\n",
    ";"
   ]
  },
  {
   "cell_type": "code",
   "execution_count": 13,
   "metadata": {},
   "outputs": [
    {
     "name": "stdout",
     "output_type": "stream",
     "text": [
      "0 0 0 0 0 0 0 0 0 0\n",
      "0 0 0 0 0 0 0 0 0 0\n",
      "1 1 1 1 1 1 1 1 1 1\n",
      "0 0 0 0 0 0 0 0 0 0\n",
      "0 0 0 0 0 0 0 0 0 0\n",
      "0 0 0 0 0 0 0 0 0 0\n",
      "0 0 0 0 0 0 0 0 0 0\n",
      "0 0 0 0 0 0 0 0 0 0\n",
      "0 0 0 0 0 0 0 0 0 0\n",
      "0 0 0 0 0 0 0 0 0 0\n",
      "0 0 0 0 0 0 0 0 0 0\n",
      "0 0 0 0 0 0 0 0 0 0\n",
      "101\n",
      "0.5\n",
      "0.5\n",
      "0.499999\n",
      "0.5\n",
      "u = Float32[0.5 0.5000001 0.49999994 0.05969608 -0.2915697 -0.48117325 -0.4962497 -0.49999988 -0.3998273 0.0 0.0 0.0 0.0 0.0 0.0 0.0 0.0 0.0 0.0; 0.5 0.49999988 0.49999976 0.059699535 -0.2915678 -0.48117304 -0.49624938 -0.49999985 -0.39983135 0.0 0.0 0.0 0.0 0.0 0.0 0.0 0.0 0.0 0.0; 0.49999896 0.49999925 0.49999958 0.059697688 -0.29156822 -0.48117167 -0.49624962 -0.49999988 -0.39982772 0.0 0.0 0.0 0.0 0.0 0.0 0.0 0.0 0.0 0.0; 0.5 0.49999985 0.49999976 0.059699655 -0.29156798 -0.48117298 -0.49624944 -0.49999973 -0.39983106 0.0 0.0 0.0 0.0 0.0 0.0 0.0 0.0 0.0 0.0]\n"
     ]
    },
    {
     "ename": "MethodError",
     "evalue": "MethodError: Cannot `convert` an object of type Float32 to an object of type Vector{Float64}\nClosest candidates are:\n  convert(::Type{Array{T, N}}, !Matched::SizedArray{S, T, N, N, Array{T, N}}) where {S, T, N} at /Users/anoushkaalavill/.julia/packages/StaticArrays/9KYrc/src/SizedArray.jl:88\n  convert(::Type{Array{T, N}}, !Matched::SizedArray{S, T, N, M, TData} where {M, TData<:AbstractArray{T, M}}) where {T, S, N} at /Users/anoushkaalavill/.julia/packages/StaticArrays/9KYrc/src/SizedArray.jl:82\n  convert(::Type{T}, !Matched::AbstractArray) where T<:Array at array.jl:532\n  ...",
     "output_type": "error",
     "traceback": [
      "MethodError: Cannot `convert` an object of type Float32 to an object of type Vector{Float64}\n",
      "Closest candidates are:\n",
      "  convert(::Type{Array{T, N}}, !Matched::SizedArray{S, T, N, N, Array{T, N}}) where {S, T, N} at /Users/anoushkaalavill/.julia/packages/StaticArrays/9KYrc/src/SizedArray.jl:88\n",
      "  convert(::Type{Array{T, N}}, !Matched::SizedArray{S, T, N, M, TData} where {M, TData<:AbstractArray{T, M}}) where {T, S, N} at /Users/anoushkaalavill/.julia/packages/StaticArrays/9KYrc/src/SizedArray.jl:82\n",
      "  convert(::Type{T}, !Matched::AbstractArray) where T<:Array at array.jl:532\n",
      "  ...\n",
      "\n",
      "Stacktrace:\n",
      " [1] setindex!(A::Vector{Vector{Float64}}, x::Float32, i1::Int64)\n",
      "   @ Base ./array.jl:843\n",
      " [2] top-level scope\n",
      "   @ ~/Documents/REx_Lab/tinympc-julia/state_constraints/tinyMPC-state-inequalities.ipynb:100"
     ]
    }
   ],
   "source": [
    "include(\"../tinyMPC-ADMM-dt-state.jl\")\n",
    "\n",
    "speye(N) = spdiagm(ones(N))\n",
    "\n",
    "# MPC setup\n",
    "Nh = 20\n",
    "\n",
    "skip_vis = 1\n",
    "\n",
    "# Create constraint planes\n",
    "thin_rect_material = MeshPhongMaterial(color=RGBA(0, 1, 0, 0.25))\n",
    "constraintPlanes = [setobject!(vis[\"linearized constraint \" * string(k)], HyperRectangle(Vec(0.0,0.0,0.0), Vec(0.001,2.0,1.0)), thin_rect_material) for k in 1:skip_vis:Nh]\n",
    "\n",
    "# Define number of state constraints (nm)\n",
    "nm = 1\n",
    "\n",
    "# Instantiate TinyMPC-ADMM variables\n",
    "\n",
    "# x = [zeros(nx) for i = 1:Nh]\n",
    "# u = [zeros(nu) for i = 1:Nh-1]\n",
    "x = zeros(Float32, nx, Nh)\n",
    "u = zeros(Float32, nu, Nh-1)\n",
    "\n",
    "q = [zeros(nx) for i = 1:Nh];\n",
    "r = [zeros(nu) for i = 1:Nh-1];\n",
    "\n",
    "p = [zeros(nx) for i = 1:Nh];      # cost to go linear term\n",
    "p[Nh] = q[Nh];\n",
    "\n",
    "d = [zeros(nu) for i = 1:Nh-1];    # feedforward control\n",
    "\n",
    "# Input constraints\n",
    "umin = -[1.0; 1.0; 1.0; 1.0]*.5\n",
    "umax = [1.0; 1.0; 1.0; 1.0]*.5\n",
    "\n",
    "# State constraints\n",
    "# xmin = [-Inf .* ones(nx) for i = 1:Nh]\n",
    "# xmax = [[Inf; 0.5; Inf .* ones(10)] for i = 1:Nh]\n",
    "xmin = [-Inf for i = 1:Nh] # Only one -Inf per knot point because only one inequality constraint (for now)\n",
    "xmax = [zeros(2) for i = 1:Nh]\n",
    "\n",
    "# Aineq = [speye(nx) for i = 1:Nh]\n",
    "Aineq = [zeros(nx) for i = 1:Nh]\n",
    "\n",
    "for k = 1:skip_vis:Nh\n",
    "    x_this = X̃ref[k][1:2]\n",
    "    xc = cylinder_center - x_this\n",
    "    a = xc/norm(xc)\n",
    "\n",
    "    # Aineq[k][1:2,1:2] = [a'; 0 0]\n",
    "    Aineq[k][1:2] = a'\n",
    "\n",
    "    q_c = cylinder_center - r_obstacle*a\n",
    "    b = a'*q_c\n",
    "    # xmax[k][1] = b\n",
    "    # xmax[k] = b\n",
    "    xmax[k] = q_c\n",
    "    TransformPlane(constraintPlanes[cld(k,skip_vis)], q_c, a)\n",
    "end\n",
    "\n",
    "# Simulate\n",
    "Nsim = N - Nh\n",
    "xhist = [zeros(nx+1) for _ = 1:Nsim] # nx+1 because not reduced form\n",
    "xhist[1] = [x0[1:3]; rptoq(x0[4:6]); x0[7:12]]\n",
    "uhist = [zeros(nu) for _ = 1:Nsim-1]\n",
    "\n",
    "for k = 1:Nsim-1 # Nsim-1 knotpoints for control, Nsim knotpoints for state\n",
    "# for k = 1:1\n",
    "\n",
    "    # State slack (auxiliary) and dual variables\n",
    "    v = [zeros(nx) for i = 1:Nh]\n",
    "    vnew = [zeros(nx) for i = 1:Nh]\n",
    "    g = [zeros(nx) for i = 1:Nh]\n",
    "\n",
    "    # Input slack (auxiliary) and dual variables\n",
    "    z = [zeros(nu) for i = 1:Nh-1]\n",
    "    znew = [zeros(nu) for i = 1:Nh-1]\n",
    "    y = [zeros(nu) for i = 1:Nh-1]\n",
    "\n",
    "    x[:,1] = [0; 0; 0; qtorp(xhist[k][4:7]); xhist[k][8:end]]\n",
    "\n",
    "    params = (\n",
    "        N = Nh,\n",
    "        Q = Q, R = R, Qf = Qf,\n",
    "        A = Aineq,\n",
    "        umin = umin, umax = umax,\n",
    "        xmin = xmin, xmax = xmax,\n",
    "        Xref = X̃ref[k:k+Nh-1], Uref = Uref[k:k+Nh-2], \n",
    "        cache = cache\n",
    "    );\n",
    "\n",
    "    # Solve\n",
    "    # Δu, status, iter = solve_admm!(vis, params, q, r, p, d, x,v,vnew,g, u,z,znew,y; ρ=ρ, abs_tol=1e-2, max_iter=10000)\n",
    "    call_c_admm(x, u)\n",
    "    @show u\n",
    "\n",
    "    # @show iter, status\n",
    "\n",
    "    # Roll out x_k+1 with actual dynamics\n",
    "    uhist[k] = u[1]#Δu[1] + uhover\n",
    "    xhist[k+1] = quad_dynamics_rk4(xhist[k], uhist[k])\n",
    "        \n",
    "    # Roll out with real dynamics\n",
    "    x_real = [zeros(nx+1) for _ = 1:Nh]\n",
    "    x_real[1] = xhist[k]\n",
    "    for j = 1:Nh-1\n",
    "        x_real[j+1] = quad_dynamics_rk4(x_real[j], uhist[k])\n",
    "    end\n",
    "\n",
    "    # Update linearized cylinder constraints\n",
    "    for j = 1:skip_vis:Nh\n",
    "        x_this = x_real[j][1:2]\n",
    "        xc = cylinder_center - x_this\n",
    "        a = xc/norm(xc)\n",
    "\n",
    "        # Aineq[j][1:2,1:2] = [a'; 0 0]\n",
    "        Aineq[j][1:2] = a'\n",
    "\n",
    "        q_c = cylinder_center - r_obstacle*a\n",
    "        b = a'*q_c\n",
    "        # xmax[j][1] = b\n",
    "        # xmax[j] = b\n",
    "        xmax[j] = q_c\n",
    "        TransformPlane(constraintPlanes[cld(j,skip_vis)], q_c, a)\n",
    "    end\n",
    "\n",
    "    # Visualize solution x\n",
    "    delete!(vis[\"xLinearized\"])\n",
    "    x_linearized = [Point(x_[1], x_[2], x_[3]+0.01) for x_ in x]\n",
    "    setobject!(vis[\"xLinearized\"], Object(PointCloud(x_linearized), \n",
    "    LineBasicMaterial(color=Colors.RGBA(1,0.6,0.0)), \"Line\"))\n",
    "end\n",
    "\n",
    "delete!(vis[\"xHistline\"])\n",
    "xHistline = [Point(x_[1], x_[2], x_[3]) for x_ in xhist]\n",
    "setobject!(vis[\"xHistline\"], Object(PointCloud(xHistline), \n",
    "LineBasicMaterial(color=Colors.RGBA(0.75,0.5,0.8)), \"Line\"))"
   ]
  },
  {
   "cell_type": "code",
   "execution_count": 10,
   "metadata": {},
   "outputs": [
    {
     "data": {
      "text/plain": [
       "81-element Vector{Vector{Float64}}:\n",
       " [0.0, 0.0, 1.0, 1.0, 0.0, 0.0, 0.0, 0.0, 0.0, 0.0, 0.0, 0.0, 0.0]\n",
       " [0.0, 0.0, 0.0, 0.0, 0.0, 0.0, 0.0, 0.0, 0.0, 0.0, 0.0, 0.0, 0.0]\n",
       " [0.0, 0.0, 0.0, 0.0, 0.0, 0.0, 0.0, 0.0, 0.0, 0.0, 0.0, 0.0, 0.0]\n",
       " [0.0, 0.0, 0.0, 0.0, 0.0, 0.0, 0.0, 0.0, 0.0, 0.0, 0.0, 0.0, 0.0]\n",
       " [0.0, 0.0, 0.0, 0.0, 0.0, 0.0, 0.0, 0.0, 0.0, 0.0, 0.0, 0.0, 0.0]\n",
       " [0.0, 0.0, 0.0, 0.0, 0.0, 0.0, 0.0, 0.0, 0.0, 0.0, 0.0, 0.0, 0.0]\n",
       " [0.0, 0.0, 0.0, 0.0, 0.0, 0.0, 0.0, 0.0, 0.0, 0.0, 0.0, 0.0, 0.0]\n",
       " [0.0, 0.0, 0.0, 0.0, 0.0, 0.0, 0.0, 0.0, 0.0, 0.0, 0.0, 0.0, 0.0]\n",
       " [0.0, 0.0, 0.0, 0.0, 0.0, 0.0, 0.0, 0.0, 0.0, 0.0, 0.0, 0.0, 0.0]\n",
       " [0.0, 0.0, 0.0, 0.0, 0.0, 0.0, 0.0, 0.0, 0.0, 0.0, 0.0, 0.0, 0.0]\n",
       " ⋮\n",
       " [0.0, 0.0, 0.0, 0.0, 0.0, 0.0, 0.0, 0.0, 0.0, 0.0, 0.0, 0.0, 0.0]\n",
       " [0.0, 0.0, 0.0, 0.0, 0.0, 0.0, 0.0, 0.0, 0.0, 0.0, 0.0, 0.0, 0.0]\n",
       " [0.0, 0.0, 0.0, 0.0, 0.0, 0.0, 0.0, 0.0, 0.0, 0.0, 0.0, 0.0, 0.0]\n",
       " [0.0, 0.0, 0.0, 0.0, 0.0, 0.0, 0.0, 0.0, 0.0, 0.0, 0.0, 0.0, 0.0]\n",
       " [0.0, 0.0, 0.0, 0.0, 0.0, 0.0, 0.0, 0.0, 0.0, 0.0, 0.0, 0.0, 0.0]\n",
       " [0.0, 0.0, 0.0, 0.0, 0.0, 0.0, 0.0, 0.0, 0.0, 0.0, 0.0, 0.0, 0.0]\n",
       " [0.0, 0.0, 0.0, 0.0, 0.0, 0.0, 0.0, 0.0, 0.0, 0.0, 0.0, 0.0, 0.0]\n",
       " [0.0, 0.0, 0.0, 0.0, 0.0, 0.0, 0.0, 0.0, 0.0, 0.0, 0.0, 0.0, 0.0]\n",
       " [0.0, 0.0, 0.0, 0.0, 0.0, 0.0, 0.0, 0.0, 0.0, 0.0, 0.0, 0.0, 0.0]"
      ]
     },
     "metadata": {},
     "output_type": "display_data"
    }
   ],
   "source": [
    "xhist"
   ]
  },
  {
   "cell_type": "code",
   "execution_count": 11,
   "metadata": {},
   "outputs": [],
   "source": [
    "X1 = [SVector{13}(x_) for x_ in xhist];\n",
    "visualize!(vis, quad_model, Tfinal, X1)"
   ]
  },
  {
   "cell_type": "code",
   "execution_count": 12,
   "metadata": {},
   "outputs": [],
   "source": [
    "# constraintPlanes = [setobject!(vis[\"linearized constraint \" * string(k)], HyperRectangle(Vec(0.0,0.0,0.0), Vec(0.001,2.0,1.0)), thin_rect_material) for k in 1:Nh]\n",
    "for k in 1:N\n",
    "    delete!(vis[\"linearized constraint \" * string(k)])\n",
    "end"
   ]
  }
 ],
 "metadata": {
  "kernelspec": {
   "display_name": "Julia 1.6.7",
   "language": "julia",
   "name": "julia-1.6"
  },
  "language_info": {
   "file_extension": ".jl",
   "mimetype": "application/julia",
   "name": "julia",
   "version": "1.6.7"
  },
  "orig_nbformat": 4
 },
 "nbformat": 4,
 "nbformat_minor": 2
}
