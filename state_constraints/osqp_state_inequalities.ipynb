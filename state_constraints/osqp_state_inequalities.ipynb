{
 "cells": [
  {
   "cell_type": "code",
   "execution_count": 1,
   "metadata": {},
   "outputs": [
    {
     "name": "stderr",
     "output_type": "stream",
     "text": [
      "\u001b[32m\u001b[1m  Activating\u001b[22m\u001b[39m environment at `~/Git/tinympc-julia/state_constraints/Project.toml`\n"
     ]
    }
   ],
   "source": [
    "import Pkg;\n",
    "Pkg.activate(@__DIR__);\n",
    "Pkg.instantiate()"
   ]
  },
  {
   "cell_type": "code",
   "execution_count": 1,
   "metadata": {},
   "outputs": [
    {
     "data": {
      "text/plain": [
       "E (generic function with 1 method)"
      ]
     },
     "metadata": {},
     "output_type": "display_data"
    }
   ],
   "source": [
    "using RobotZoo:Quadrotor\n",
    "using RobotDynamics\n",
    "using ForwardDiff\n",
    "using TrajOptPlots\n",
    "using BlockDiagonals\n",
    "using LinearAlgebra\n",
    "using StaticArrays\n",
    "using SparseArrays\n",
    "using OSQP\n",
    "\n",
    "using Plots\n",
    "\n",
    "using MeshCat\n",
    "using ColorTypes\n",
    "using GeometryBasics: HyperRectangle, Cylinder, Vec, Point, Mesh\n",
    "using CoordinateTransformations\n",
    "using Rotations\n",
    "\n",
    "include(\"../quaternion-stuff.jl\")"
   ]
  },
  {
   "cell_type": "code",
   "execution_count": 6,
   "metadata": {},
   "outputs": [
    {
     "name": "stderr",
     "output_type": "stream",
     "text": [
      "┌ Info: MeshCat server started. You can open the visualizer by visiting the following URL in your browser:\n",
      "│ http://127.0.0.1:8703\n",
      "└ @ MeshCat /home/sam/.julia/packages/MeshCat/GlCMx/src/visualizer.jl:73\n"
     ]
    },
    {
     "data": {
      "text/plain": [
       "false"
      ]
     },
     "metadata": {},
     "output_type": "display_data"
    }
   ],
   "source": [
    "vis = Visualizer()\n",
    "quad_model = Quadrotor()\n",
    "TrajOptPlots.set_mesh!(vis, quad_model)"
   ]
  },
  {
   "cell_type": "code",
   "execution_count": 7,
   "metadata": {},
   "outputs": [
    {
     "name": "stdout",
     "output_type": "stream",
     "text": [
      "uhover = (((m * g) / kt) / 4) * ones(4) = [0.5833333520642209, 0.5833333520642209, 0.5833333520642209, 0.5833333520642209]\n"
     ]
    }
   ],
   "source": [
    "# Quadrotor parameters\n",
    "m = 0.035\n",
    "ℓ = 0.046/sqrt(2)\n",
    "J = [16.6e-6 0.83e-6 0.72e-6;\n",
    "    0.83e-6 16.6e-6 1.8e-6;\n",
    "    0.72e-6 1.8e-6 29.3e-6];\n",
    "g = 9.81\n",
    "# thrustToTorque = 0.005964552\n",
    "thrustToTorque = 0.0008\n",
    "scale = 65535\n",
    "kt = 2.245365e-6*scale # u is PWM in range [0...1]\n",
    "# kt=1\n",
    "km = kt*thrustToTorque #4.4733e-8\n",
    "\n",
    "h = 1/500\n",
    "\n",
    "Nx = 13     # number of states (quaternion)\n",
    "Nx̃ = 12     # number of states (linearized)\n",
    "Nu = 4      # number of controls\n",
    "nx = Nx̃\n",
    "nu = Nu\n",
    "\n",
    "#Goal state\n",
    "@show uhover = (m*g/kt/4)*ones(4) # m = 30g and max thrust = 60g\n",
    "# @show uhover = (m*g/4)*ones(4) # m = 30g and max thrust = 60g\n",
    "rg = [0.0; 0; 0.0]\n",
    "qg = [1.0; 0; 0; 0]\n",
    "vg = zeros(3)\n",
    "ωg = zeros(3)\n",
    "xg = [rg; qg; vg; ωg];"
   ]
  },
  {
   "cell_type": "code",
   "execution_count": 8,
   "metadata": {},
   "outputs": [
    {
     "data": {
      "text/plain": [
       "quad_dynamics_rk4 (generic function with 1 method)"
      ]
     },
     "metadata": {},
     "output_type": "display_data"
    }
   ],
   "source": [
    "function quad_dynamics(x,u)\n",
    "    r = x[1:3]\n",
    "    q = x[4:7]/norm(x[4:7]) #normalize q just to be careful\n",
    "    v = x[8:10]\n",
    "    ω = x[11:13]\n",
    "    Q = qtoQ(q)\n",
    "    \n",
    "    ṙ = v\n",
    "    q̇ = 0.5*L(q)*H*ω\n",
    "    \n",
    "    b = 1/m\n",
    "\n",
    "    v̇ = [0; 0; -g] + (1/m)*Q*[zeros(2,4); kt*ones(1,4)]*u \n",
    "  \n",
    "    ω̇ = J\\(-hat(ω)*J*ω + [-ℓ*kt -ℓ*kt ℓ*kt ℓ*kt; -ℓ*kt ℓ*kt ℓ*kt -ℓ*kt; -km km -km km]*u)\n",
    "    \n",
    "    return [ṙ; q̇; v̇; ω̇]\n",
    "  end\n",
    "  function quad_dynamics_rk4(x,u)\n",
    "    #RK4 integration with zero-order hold on u\n",
    "    f1 = quad_dynamics(x, u)\n",
    "    f2 = quad_dynamics(x + 0.5*h*f1, u)\n",
    "    f3 = quad_dynamics(x + 0.5*h*f2, u)\n",
    "    f4 = quad_dynamics(x + h*f3, u)\n",
    "    xn = x + (h/6.0)*(f1 + 2*f2 + 2*f3 + f4)\n",
    "    xn[4:7] = xn[4:7]/norm(xn[4:7]) #re-normalize quaternion\n",
    "    return xn\n",
    "  end"
   ]
  },
  {
   "cell_type": "code",
   "execution_count": 4,
   "metadata": {},
   "outputs": [],
   "source": [
    "#Linearize dynamics about hover\n",
    "Adyn = ForwardDiff.jacobian(x->quad_dynamics_rk4(x,uhover),xg)\n",
    "Bdyn = ForwardDiff.jacobian(u->quad_dynamics_rk4(xg,u),uhover);\n",
    "Ãdyn = Array(E(qg)'*Adyn*E(qg))\n",
    "B̃dyn = Array(E(qg)'*Bdyn);"
   ]
  },
  {
   "cell_type": "code",
   "execution_count": 9,
   "metadata": {},
   "outputs": [],
   "source": [
    "# Objective function\n",
    "max_dev_x = [0.01; 0.01; 0.01; 0.5; 0.5; 0.05;  0.5; 0.5; 0.5;  0.7; 0.7; 0.5]\n",
    "max_dev_u = [0.5; 0.5; 0.5; 0.5]\n",
    "Q = spdiagm(1 ./(max_dev_x.^2))\n",
    "R = spdiagm(1 ./(max_dev_u.^2))\n",
    "QN = Q\n",
    "\n",
    "Tfinal = 4.0\n",
    "N = Int(Tfinal/h)+1\n",
    "\n",
    "# Initial and reference states\n",
    "X̃ref = [zeros(nx) for i = 1:N]\n",
    "# Xref = [[sin(2*t)/2; cos(t); 0.3*sin(t)+1; 1; zeros(9)] for t = range(-pi/2, 3*pi/2, length = N)];\n",
    "Xref = [[0.01; t; 0.5; 1; zeros(9)] for t = range(0, 5, length = N)];\n",
    "\n",
    "# Compute reference velocity from reference position\n",
    "for i = 1:N-1\n",
    "    Xref[i][8:10] = (Xref[i+1][1:3] - Xref[i][1:3])/h\n",
    "end\n",
    "\n",
    "for k = 1:N\n",
    "    x = Xref[k]\n",
    "    qx = x[4:7]\n",
    "    ϕ = qtorp(L(qg)'*qx)   \n",
    "    X̃ref[k] = [x[1:3]; ϕ; x[8:10]; x[11:13]]\n",
    "end\n",
    "\n",
    "x0 = X̃ref[1] + [.2; 0; 0; zeros(9)]\n",
    "\n",
    "# Visualize reference\n",
    "delete!(vis[\"XrefLine\"])\n",
    "XrefLine = [Point(x_[1], x_[2], x_[3]) for x_ in Xref]\n",
    "setobject!(vis[\"XrefLine\"], Object(PointCloud(XrefLine), \n",
    "        LineBasicMaterial(color=Colors.RGBA(0.,0.45,1.)), \"Line\"))\n",
    "\n",
    ";"
   ]
  },
  {
   "cell_type": "code",
   "execution_count": 10,
   "metadata": {},
   "outputs": [
    {
     "data": {
      "text/plain": [
       "MeshCat Visualizer with path /meshcat/bounding cylinder at http://127.0.0.1:8703"
      ]
     },
     "metadata": {},
     "output_type": "display_data"
    }
   ],
   "source": [
    "# Create obstacle in MeshCat\n",
    "# Cylinder constraint\n",
    "c = [0.0; 2.0]\n",
    "r_vis = 0.1\n",
    "r = 0.4\n",
    "setobject!(vis[\"cylinder\"], Cylinder(Point(c[1], c[2], 0.0), Point(c[1], c[2], 1.0), r_vis))\n",
    "bounding_cylinder_material = MeshPhongMaterial(color=RGBA(1, 1, 1, 0.25))\n",
    "setobject!(vis[\"bounding cylinder\"], Cylinder(Point(c[1], c[2], -.05), Point(c[1], c[2], 1.05), r), bounding_cylinder_material)"
   ]
  },
  {
   "cell_type": "code",
   "execution_count": 11,
   "metadata": {},
   "outputs": [
    {
     "data": {
      "text/plain": [
       "TransformPlane (generic function with 1 method)"
      ]
     },
     "metadata": {},
     "output_type": "display_data"
    }
   ],
   "source": [
    "function TransformPlane(visObject, center, dir)\n",
    "    # dir[1] = x, dir[2] = y (for three dimensions, take cross product of [1,0,0] and 3D dir vector to get axis of rotation)\n",
    "    width = 2\n",
    "    height = 1\n",
    "    dir_inv = -[dir[2]; -dir[1]]/norm(dir)\n",
    "    bl = [center[1:2] + dir_inv*width/2; 0] # bottom left corner\n",
    "    settransform!(visObject, Translation(bl[1], bl[2], bl[3]) ∘ LinearMap(AngleAxis(-atan(dir[2], -dir[1]), 0, 0, 1)))\n",
    "end"
   ]
  },
  {
   "cell_type": "code",
   "execution_count": 12,
   "metadata": {},
   "outputs": [
    {
     "name": "stdout",
     "output_type": "stream",
     "text": [
      "178.087871 seconds (783.92 M allocations: 140.107 GiB, 5.36% gc time, 1.92% compilation time)\n"
     ]
    }
   ],
   "source": [
    "speye(N) = spdiagm(ones(N))\n",
    "\n",
    "# Prediction horizon\n",
    "Nh = 400\n",
    "\n",
    "skip_vis = 1\n",
    "\n",
    "# Create constraint planes\n",
    "thin_rect_material = MeshPhongMaterial(color=RGBA(0, 1, 0, 0.25))\n",
    "constraintPlanes = [setobject!(vis[\"linearized constraint \" * string(k)], HyperRectangle(Vec(0.0,0.0,0.0), Vec(0.001,2.0,1.0)), thin_rect_material) for k in 1:skip_vis:Nh+1]\n",
    "\n",
    "# Constraints\n",
    "umin = -[1.0; 1.0; 1.0; 1.0]*.5\n",
    "umax = [1.0; 1.0; 1.0; 1.0]*.5\n",
    "xmin = -Inf .* ones(12)\n",
    "xmax = Inf .* ones(12)\n",
    "\n",
    "# Cast MPC problem to a QP: x = (x(0),x(1),...,x(Nh),u(0),...,u(Nh-1))\n",
    "# - quadratic objective\n",
    "P = blockdiag(kron(speye(Nh), Q), QN, kron(speye(Nh), R))\n",
    "# - linear objective\n",
    "q = vec([reshape(hcat([(-Q*X̃ref[k]) for k = 1:Nh]...), (Nh*nx, 1)); -QN*X̃ref[Nh]; zeros(Nh*nu)])\n",
    "# - linear dynamics\n",
    "Ax = kron(speye(Nh + 1), -speye(nx)) + kron(spdiagm(-1 => ones(Nh)), Ãdyn)\n",
    "Bu = kron([spzeros(1, Nh); speye(Nh)], B̃dyn)\n",
    "Aeq = [Ax Bu]\n",
    "leq = [-x0; zeros(Nh * nx)]\n",
    "ueq = leq\n",
    "# - input and state constraints\n",
    "# Linearize cylinder into inequality constraints\n",
    "Aineq = speye((Nh + 1) * nx + Nh * nu)\n",
    "lineq = [repeat(xmin, Nh + 1); repeat(umin, Nh)]\n",
    "uineq = [repeat(xmax, Nh + 1); repeat(umax, Nh)]\n",
    "for k = 1:skip_vis:Nh+1\n",
    "    x = X̃ref[k][1:2]\n",
    "    xc = c - x\n",
    "    a = xc/norm(xc)\n",
    "\n",
    "    ind = (k-1)*nx\n",
    "    Aineq[ind+1:ind+2, ind+1:ind+2] = [a'; 0 0]\n",
    "\n",
    "    q_c = c - r*a\n",
    "    b = a'*q_c\n",
    "    uineq[ind+1] = b\n",
    "    TransformPlane(constraintPlanes[cld(k,skip_vis)], q_c, a)\n",
    "end\n",
    "# - OSQP constraints\n",
    "A, l, u = [Aeq; Aineq], [leq; lineq], [ueq; uineq]\n",
    "\n",
    "# Create an OSQP model\n",
    "model = OSQP.Model()\n",
    "\n",
    "# Setup workspace\n",
    "OSQP.setup!(model; P=P, q=q, A=A, l=l, u=u, warm_start=true, verbose=false)\n",
    "\n",
    "# Simulate in closed loop\n",
    "nsim = N - Nh;\n",
    "\n",
    "x_linearized = [Point(0.0, 0.0, 0.0) for xp in 1:(nsim-1)*Nh]\n",
    "\n",
    "xhist = [zeros(nx+1) for _ in 1:nsim]\n",
    "xhist[1] = [x0[1:3]; rptoq(x0[4:6]); x0[7:12]]\n",
    "uhist = [zeros(nu) for _ in 1:nsim-1]\n",
    "@time for k in 1:nsim-1\n",
    "# @time for k in 1:5\n",
    "    # Solve\n",
    "    res = OSQP.solve!(model)\n",
    "\n",
    "    # Check solver status\n",
    "    if res.info.status != :Solved\n",
    "        error(\"OSQP did not solve the problem!\")\n",
    "    end\n",
    "\n",
    "    # Apply first control input to the plant\n",
    "    Δu = res.x[(Nh+1)*nx+1:(Nh+1)*nx+nu]\n",
    "    uhist[k] = Δu + uhover\n",
    "    xhist[k+1] = quad_dynamics_rk4(xhist[k], uhist[k])\n",
    "\n",
    "    # Update initial state\n",
    "    x_ = [xhist[k+1][1:3]; qtorp(xhist[k+1][4:7]); xhist[k+1][8:13]]\n",
    "    # l[1:nx], u[1:nx] = -x_, -x_\n",
    "    leq[1:nx], ueq[1:nx] = -x_, -x_\n",
    "\n",
    "    Δu_array = reshape(res.x[(Nh+1)*nx+1:end], (4, Nh))\n",
    "\n",
    "    # Roll out with real dynamics\n",
    "    x_real = [zeros(nx+1) for _ = 1:Nh+1]\n",
    "    x_real[1] = xhist[k]\n",
    "    for j = 1:Nh\n",
    "        x_real[j+1] = quad_dynamics_rk4(x_real[j], Δu_array[:,j] + uhover)\n",
    "    end\n",
    "    \n",
    "    # Linearize cylinder into inequality constraints\n",
    "    Aineq = speye((Nh + 1) * nx + Nh * nu)\n",
    "    lineq = [repeat(xmin, Nh + 1); repeat(umin, Nh)]\n",
    "    uineq = [repeat(xmax, Nh + 1); repeat(umax, Nh)]\n",
    "    for j = 1:skip_vis:Nh+1\n",
    "        # x = X̃ref[k+j-1][1:2]\n",
    "        x = x_real[j][1:2]\n",
    "        xc = c - x\n",
    "        a = xc/norm(xc)\n",
    "\n",
    "        ind = (j-1)*nx\n",
    "        Aineq[ind+1:ind+2, ind+1:ind+2] = [a'; 0 0]\n",
    "\n",
    "        q_c = c - r*a\n",
    "        b = a'*q_c\n",
    "        uineq[ind+1] = b\n",
    "    \n",
    "        TransformPlane(constraintPlanes[cld(j,skip_vis)], q_c, a)\n",
    "    end\n",
    "    # - OSQP constraints\n",
    "    A, l, u = [Aeq; Aineq], [leq; lineq], [ueq; uineq]\n",
    "\n",
    "    # Update reference trajectory (only q needs to be updated for this)\n",
    "    q = vec([reshape(hcat([(-Q*X̃ref[j]) for j = k:k+Nh-1]...), (Nh*nx, 1)); -QN*X̃ref[k+Nh]; zeros(Nh*nu)])\n",
    "\n",
    "    OSQP.update!(model; l=l, u=u, Ax=A.nzval, q=q)\n",
    "    # OSQP.update!(model; l=l, u=u, q=q)\n",
    "    \n",
    "    # Visualize solution x\n",
    "    delete!(vis[\"xLinearized\"])\n",
    "    # b = (k<=Nh) ? 1 : k-Nh\n",
    "    # x_linearized = [Point(xp[1], xp[2], xp[3]+0.01) for xp in xhist[b:k]]\n",
    "    x_linearized[k:k+Nh] = [Point(xp[1], xp[2], xp[3]+0.01) for xp in x_real]\n",
    "    if k > 1\n",
    "        x_lin_name_prev = \"xlin \" * string(k-1)\n",
    "        setvisible!(vis[x_lin_name_prev], false)\n",
    "    end\n",
    "    x_lin_name = \"xlin \" * string(k)\n",
    "    setobject!(vis[x_lin_name], Object(PointCloud(x_linearized[k:k+Nh]), \n",
    "        LineBasicMaterial(color=Colors.RGBA(1,0.6,0.0)), \"Line\"))\n",
    "\n",
    "    xbar = RBState(quad_model, xhist[k+1])\n",
    "    if quad_model.ned\n",
    "        rq = position(xbar)\n",
    "        vq = linear_velocity(xbar)\n",
    "        rq = SA[rq[1],-rq[2],-rq[3]]\n",
    "        vq = SA[vq[1],-vq[2],-vq[3]]\n",
    "        xbar = RBState(rq, RotX(pi)*orientation(xbar), vq, angular_velocity(xbar)) \n",
    "    end\n",
    "    settransform!(vis[\"robot\"], Translation(position(xbar)) ∘ LinearMap(UnitQuaternion(orientation(xbar))))\n",
    "end"
   ]
  },
  {
   "cell_type": "code",
   "execution_count": 30,
   "metadata": {},
   "outputs": [],
   "source": [
    "# Create MeshCat animation\n",
    "anim = MeshCat.Animation()\n",
    "\n",
    "for k = 1:nsim-1\n",
    "    atframe(anim, k-1) do\n",
    "        # Remove all horizon lines\n",
    "        if k == 1\n",
    "            for j = 1:nsim\n",
    "                x_lin_name = \"xlin \" * string(j)\n",
    "                setvisible!(vis[x_lin_name], false)\n",
    "            end\n",
    "        end\n",
    "\n",
    "        # Update cylinder constraint visuals\n",
    "        for j = 1:skip_vis:Nh+1\n",
    "            if k+j-1 <= length(xhist)\n",
    "                x = xhist[k+j-1][1:2]\n",
    "            else\n",
    "                x = xhist[end][1:2]\n",
    "            end\n",
    "            xc = c - x\n",
    "            a = xc/norm(xc)\n",
    "            q_c = c - r*a\n",
    "            TransformPlane(constraintPlanes[cld(j,skip_vis)], q_c, a)\n",
    "        end\n",
    "\n",
    "        # Update visible horizon\n",
    "        x_lin_name = \"xlin \" * string(k)\n",
    "        setvisible!(vis[x_lin_name], true)\n",
    "        if k > 1\n",
    "            x_lin_name_prev = \"xlin \" * string(k-1)\n",
    "            setvisible!(vis[x_lin_name_prev], false)\n",
    "        end\n",
    "\n",
    "        # Update quadrotor transform\n",
    "        xbar = RBState(quad_model, xhist[k])\n",
    "        if quad_model.ned\n",
    "            rq = position(xbar)\n",
    "            vq = linear_velocity(xbar)\n",
    "            rq = SA[rq[1],-rq[2],-rq[3]]\n",
    "            vq = SA[vq[1],-vq[2],-vq[3]]\n",
    "            xbar = RBState(rq, RotX(pi)*orientation(xbar), vq, angular_velocity(xbar)) \n",
    "        end\n",
    "        settransform!(vis[\"robot\"], Translation(position(xbar)) ∘ LinearMap(UnitQuaternion(orientation(xbar))))\n",
    "    end\n",
    "end\n",
    "\n",
    "setanimation!(vis, anim)"
   ]
  },
  {
   "cell_type": "code",
   "execution_count": 13,
   "metadata": {},
   "outputs": [],
   "source": [
    "for i in length(constraintPlanes)\n",
    "    delete!(constraintPlanes[i])\n",
    "end"
   ]
  },
  {
   "cell_type": "code",
   "execution_count": 534,
   "metadata": {},
   "outputs": [],
   "source": [
    "delete!(vis[\"xHistline\"])\n",
    "xHistline = [Point(x_[1], x_[2], x_[3]) for x_ in xhist]\n",
    "setobject!(vis[\"xHistline\"], Object(PointCloud(xHistline), \n",
    "LineBasicMaterial(color=Colors.RGBA(0.75,0.5,0.8)), \"Line\"))\n",
    "\n",
    "X1 = [SVector{13}(x_) for x_ in xhist];\n",
    "# X1 = [SVector{13}([x_[1:3]; rptoq(x_[4:6]); x_[7:12]]) for x_ in xhist];\n",
    "visualize!(vis, quad_model, nsim*h, X1)"
   ]
  },
  {
   "cell_type": "code",
   "execution_count": 32,
   "metadata": {},
   "outputs": [
    {
     "name": "stderr",
     "output_type": "stream",
     "text": [
      "ffmpeg version 4.4.2 Copyright (c) 2000-2021 the FFmpeg developers\n",
      "  built with gcc 8.1.0 (GCC)\n",
      "  configuration: --enable-cross-compile --cross-prefix=/opt/x86_64-linux-gnu/bin/x86_64-linux-gnu- --arch=x86_64 --target-os=linux --cc=cc --cxx=c++ --dep-cc=cc --ar=ar --nm=nm --sysinclude=/workspace/destdir/include --pkg-config=/usr/bin/pkg-config --pkg-config-flags=--static --prefix=/workspace/destdir --sysroot=/opt/x86_64-linux-gnu/x86_64-linux-gnu/sys-root --extra-libs=-lpthread --enable-gpl --enable-version3 --enable-nonfree --disable-static --enable-shared --enable-pic --disable-debug --disable-doc --enable-avresample --enable-libaom --enable-libass --enable-libfdk-aac --enable-libfreetype --enable-libmp3lame --enable-libopus --enable-libvorbis --enable-libx264 --enable-libx265 --enable-libvpx --enable-encoders --enable-decoders --enable-muxers --enable-demuxers --enable-parsers --enable-openssl --disable-schannel --extra-cflags=-I/workspace/destdir/include --extra-ldflags=-L/workspace/destdir/lib --enable-nvenc --enable-cuda-llvm\n",
      "  libavutil      56. 70.100 / 56. 70.100\n",
      "  libavcodec     58.134.100 / 58.134.100\n",
      "  libavformat    58. 76.100 / 58. 76.100\n",
      "  libavdevice    58. 13.100 / 58. 13.100\n",
      "  libavfilter     7.110.100 /  7.110.100\n",
      "  libavresample   4.  0.  0 /  4.  0.  0\n",
      "  libswscale      5.  9.100 /  5.  9.100\n",
      "  libswresample   3.  9.100 /  3.  9.100\n",
      "  libpostproc    55.  9.100 / 55.  9.100\n"
     ]
    },
    {
     "name": "stderr",
     "output_type": "stream",
     "text": [
      "Input #0, image2, from '%07d.png':\n",
      "  Duration: 00:00:12.80, start: 0.000000, bitrate: N/A\n",
      "  Stream #0:0: Video: png, rgba(pc), 1536x841, 25 fps, 25 tbr, 25 tbn, 25 tbc\n",
      "Stream mapping:\n",
      "  Stream #0:0 -> #0:0 (png (native) -> h264 (libx264))\n",
      "Press [q] to stop, [?] for help\n"
     ]
    },
    {
     "name": "stderr",
     "output_type": "stream",
     "text": [
      "[libx264 @ 0x1c0fe80] using cpu capabilities: MMX2 SSE2Fast SSSE3 SSE4.2 AVX FMA3 BMI2 AVX2\n",
      "[libx264 @ 0x1c0fe80] profile High 4:4:4 Predictive, level 4.2, 4:4:4, 8-bit\n",
      "[libx264 @ 0x1c0fe80] 264 - core 163 - H.264/MPEG-4 AVC codec - Copyleft 2003-2021 - http://www.videolan.org/x264.html - options: cabac=1 ref=5 deblock=1:0:0 analyse=0x3:0x113 me=hex subme=8 psy=1 psy_rd=1.00:0.00 mixed_ref=1 me_range=16 chroma_me=1 trellis=2 8x8dct=1 cqm=0 deadzone=21,11 fast_pskip=1 chroma_qp_offset=4 threads=24 lookahead_threads=4 sliced_threads=0 nr=0 decimate=1 interlaced=0 bluray_compat=0 constrained_intra=0 bframes=3 b_pyramid=2 b_adapt=1 b_bias=0 direct=3 weightb=1 open_gop=0 weightp=2 keyint=250 keyint_min=25 scenecut=40 intra_refresh=0 rc_lookahead=50 rc=crf mbtree=1 crf=18.0 qcomp=0.60 qpmin=0 qpmax=69 qpstep=4 ip_ratio=1.40 aq=1:1.00\n",
      "Output #0, mp4, to '/home/sam/Git/tinympc-julia/state_constraints/output.mp4':\n",
      "  Metadata:\n",
      "    encoder         : Lavf58.76.100\n",
      "  Stream #0:0: Video: h264 (avc1 / 0x31637661), yuv444p(tv, progressive), 1536x841, q=2-31, 60 fps, 15360 tbn\n",
      "    Metadata:\n",
      "      encoder         : Lavc58.134.100 libx264\n",
      "    Side data:\n",
      "      cpb: bitrate max/min/avg: 0/0/0 buffer size: 0 vbv_delay: N/A\n",
      "frame=    2 fps=0.0 q=0.0 size=       0kB time=00:00:00.00 bitrate=N/A dup=1 drop=0 speed=   0x    \r"
     ]
    },
    {
     "name": "stderr",
     "output_type": "stream",
     "text": [
      "frame=   50 fps=0.0 q=0.0 size=       0kB time=00:00:00.00 bitrate=N/A dup=1 drop=0 speed=   0x    \r"
     ]
    },
    {
     "name": "stderr",
     "output_type": "stream",
     "text": [
      "frame=   80 fps= 62 q=26.0 size=       0kB time=-00:00:00.01 bitrate=N/A dup=1 drop=0 speed=N/A    \r"
     ]
    },
    {
     "name": "stderr",
     "output_type": "stream",
     "text": [
      "frame=  122 fps= 68 q=26.0 size=       0kB time=00:00:00.68 bitrate=   0.6kbits/s dup=1 drop=0 speed=0.382x    \r"
     ]
    },
    {
     "name": "stderr",
     "output_type": "stream",
     "text": [
      "frame=  167 fps= 73 q=26.0 size=     256kB time=00:00:01.43 bitrate=1463.3kbits/s dup=1 drop=0 speed=0.624x    \r"
     ]
    },
    {
     "name": "stderr",
     "output_type": "stream",
     "text": [
      "frame=  210 fps= 75 q=26.0 size=     256kB time=00:00:02.15 bitrate= 975.6kbits/s dup=1 drop=0 speed=0.767x    \r"
     ]
    },
    {
     "name": "stderr",
     "output_type": "stream",
     "text": [
      "frame=  259 fps= 78 q=26.0 size=     512kB time=00:00:02.96 bitrate=1413.9kbits/s dup=1 drop=0 speed=0.897x    \r"
     ]
    },
    {
     "name": "stderr",
     "output_type": "stream",
     "text": [
      "frame=  304 fps= 80 q=26.0 size=     512kB time=00:00:03.71 bitrate=1128.6kbits/s dup=1 drop=0 speed=0.974x    \r"
     ]
    },
    {
     "name": "stderr",
     "output_type": "stream",
     "text": [
      "frame=  321 fps= 67 q=-1.0 Lsize=     879kB time=00:00:05.30 bitrate=1357.8kbits/s dup=1 drop=0 speed= 1.1x    \n",
      "video:874kB audio:0kB subtitle:0kB other streams:0kB global headers:0kB muxing overhead: 0.526218%\n",
      "[libx264 @ 0x1c0fe80] frame I:2     Avg QP:14.00  size:225488\n",
      "[libx264 @ 0x1c0fe80] frame P:81    Avg QP:19.23  size:  2490\n",
      "[libx264 @ 0x1c0fe80] frame B:238   Avg QP:27.23  size:  1015\n",
      "[libx264 @ 0x1c0fe80] consecutive B-frames:  0.9%  0.6%  0.0% 98.4%\n",
      "[libx264 @ 0x1c0fe80] mb I  I16..4: 24.3% 18.8% 56.9%\n",
      "[libx264 @ 0x1c0fe80] mb P  I16..4:  0.2%  0.2%  0.2%  P16..4:  2.2%  0.8%  0.6%  0.0%  0.0%    skip:95.8%\n",
      "[libx264 @ 0x1c0fe80] mb B  I16..4:  0.0%  0.0%  0.0%  B16..8:  4.1%  0.4%  0.1%  direct: 0.2%  skip:95.1%  L0:54.6% L1:41.7% BI: 3.7%\n",
      "[libx264 @ 0x1c0fe80] 8x8 transform intra:25.2% inter:52.0%\n",
      "[libx264 @ 0x1c0fe80] direct mvs  spatial:95.0% temporal:5.0%\n",
      "[libx264 @ 0x1c0fe80] coded y,u,v intra: 39.2% 35.2% 32.8% inter: 0.3% 0.6% 0.5%\n",
      "[libx264 @ 0x1c0fe80] i16 v,h,dc,p:  5% 85%  3%  8%\n",
      "[libx264 @ 0x1c0fe80] i8 v,h,dc,ddl,ddr,vr,hd,vl,hu:  6% 61% 16%  3%  2%  3%  4%  2%  5%\n",
      "[libx264 @ 0x1c0fe80] i4 v,h,dc,ddl,ddr,vr,hd,vl,hu:  8% 27% 17%  7%  4%  3% 15%  5% 16%\n",
      "[libx264 @ 0x1c0fe80] Weighted P-Frames: Y:0.0% UV:0.0%\n",
      "[libx264 @ 0x1c0fe80] ref P L0: 52.7%  6.2% 22.7% 10.7%  7.6%\n",
      "[libx264 @ 0x1c0fe80] ref B L0: 55.3% 42.4%  1.9%  0.4%\n",
      "[libx264 @ 0x1c0fe80] ref B L1: 93.3%  6.7%\n",
      "[libx264 @ 0x1c0fe80] kb/s:1337.12\n",
      "┌ Info: Saved output as /home/sam/Git/tinympc-julia/state_constraints/output.mp4\n",
      "└ @ MeshCat /home/sam/.julia/packages/MeshCat/GlCMx/src/animations.jl:121\n"
     ]
    },
    {
     "data": {
      "text/plain": [
       "\"/home/sam/Git/tinympc-julia/state_constraints/output.mp4\""
      ]
     },
     "metadata": {},
     "output_type": "display_data"
    }
   ],
   "source": [
    "MeshCat.convert_frames_to_video(\n",
    "    \"/home/sam/Git/tinympc-julia/state_constraints/state_constraints_osqp.tar\")"
   ]
  }
 ],
 "metadata": {
  "kernelspec": {
   "display_name": "Julia 1.6.7",
   "language": "julia",
   "name": "julia-1.6"
  },
  "language_info": {
   "file_extension": ".jl",
   "mimetype": "application/julia",
   "name": "julia",
   "version": "1.6.7"
  },
  "orig_nbformat": 4
 },
 "nbformat": 4,
 "nbformat_minor": 2
}
