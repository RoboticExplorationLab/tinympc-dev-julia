{
 "cells": [
  {
   "cell_type": "code",
   "execution_count": 13,
   "metadata": {},
   "outputs": [
    {
     "name": "stderr",
     "output_type": "stream",
     "text": [
      "\u001b[32m\u001b[1m  Activating\u001b[22m\u001b[39m environment at `~/Git/tinympc-julia/state_constraints/Project.toml`\n"
     ]
    }
   ],
   "source": [
    "import Pkg;\n",
    "Pkg.activate(@__DIR__);\n",
    "Pkg.instantiate()"
   ]
  },
  {
   "cell_type": "code",
   "execution_count": 14,
   "metadata": {},
   "outputs": [
    {
     "data": {
      "text/plain": [
       "E (generic function with 1 method)"
      ]
     },
     "metadata": {},
     "output_type": "display_data"
    }
   ],
   "source": [
    "using RobotZoo:Quadrotor\n",
    "using RobotDynamics\n",
    "using ForwardDiff\n",
    "using TrajOptPlots\n",
    "using BlockDiagonals\n",
    "using LinearAlgebra\n",
    "using StaticArrays\n",
    "using SparseArrays\n",
    "\n",
    "using MeshCat\n",
    "using ColorTypes\n",
    "using GeometryBasics: HyperRectangle, Cylinder, Vec, Point, Mesh\n",
    "using CoordinateTransformations\n",
    "using Rotations\n",
    "\n",
    "using Plots\n",
    "using Printf\n",
    "\n",
    "\n",
    "include(\"../quaternion-stuff.jl\")"
   ]
  },
  {
   "cell_type": "code",
   "execution_count": 15,
   "metadata": {},
   "outputs": [
    {
     "data": {
      "text/plain": [
       "1"
      ]
     },
     "metadata": {},
     "output_type": "display_data"
    }
   ],
   "source": [
    "# mass_scale = 1/.5\n",
    "# length_scale = 1/.1750\n",
    "# time_scale = 1/.05\n",
    "\n",
    "mass_scale = 1\n",
    "length_scale = 1\n",
    "time_scale = 1"
   ]
  },
  {
   "cell_type": "code",
   "execution_count": 16,
   "metadata": {},
   "outputs": [
    {
     "name": "stdout",
     "output_type": "stream",
     "text": [
      "uhover = (((m * gravity) / kt) / 4) * ones(4) = [1.22625, 1.22625, 1.22625, 1.22625]\n"
     ]
    }
   ],
   "source": [
    "# # Quadrotor parameters\n",
    "# m = 0.035\n",
    "# ℓ = 0.046/sqrt(2)\n",
    "# J = [16.6e-6 0.83e-6 0.72e-6;\n",
    "#     0.83e-6 16.6e-6 1.8e-6;\n",
    "#     0.72e-6 1.8e-6 29.3e-6];\n",
    "# gravity = 9.81\n",
    "# # thrustToTorque = 0.005964552\n",
    "# thrustToTorque = 0.0008\n",
    "# scale = 65535\n",
    "# kt = 2.245365e-6*scale # u is PWM in range [0...1]\n",
    "# # kt=1\n",
    "# km = kt*thrustToTorque #4.4733e-8\n",
    "\n",
    "# h = 1/500\n",
    "\n",
    "# Nx = 13     # number of states (quaternion)\n",
    "# Nx̃ = 12     # number of states (linearized)\n",
    "# Nu = 4      # number of controls\n",
    "# nx = Nx̃\n",
    "# nu = Nu\n",
    "\n",
    "\n",
    "#Quadrotor parameters\n",
    "m = 0.5 * mass_scale # kg\n",
    "ℓ = 0.1750 * length_scale # meters\n",
    "J = Diagonal([0.0023, 0.0023, 0.004]) * mass_scale * length_scale^2 # kg * meters^2\n",
    "gravity = 9.81 * length_scale / (time_scale^2)\n",
    "kt = 1.0 * mass_scale * length_scale / (time_scale^2) # N\n",
    "km = 0.0245 * mass_scale * length_scale^2 / (time_scale^2) # Nm\n",
    "\n",
    "h = 0.05 # 20 Hz\n",
    "\n",
    "Nx = 13     # number of states (quaternion)\n",
    "Nx̃ = 12     # number of states (linearized)\n",
    "Nu = 4     # number of controls\n",
    "nx = Nx̃\n",
    "nu = Nu\n",
    "\n",
    "#Goal state\n",
    "@show uhover = (m*gravity/kt/4)*ones(4) # m = 30g and max thrust = 60g\n",
    "# @show uhover = (m*gravity/4)*ones(4) # m = 30g and max thrust = 60g\n",
    "rg = [0.0; 0; 0.0]\n",
    "qg = [1.0; 0; 0; 0]\n",
    "vg = zeros(3)\n",
    "ωg = zeros(3)\n",
    "xg = [rg; qg; vg; ωg];"
   ]
  },
  {
   "cell_type": "code",
   "execution_count": 17,
   "metadata": {},
   "outputs": [
    {
     "data": {
      "text/plain": [
       "quad_dynamics_rk4 (generic function with 1 method)"
      ]
     },
     "metadata": {},
     "output_type": "display_data"
    }
   ],
   "source": [
    "function quad_dynamics(x,u)\n",
    "    r = x[1:3]\n",
    "    q = x[4:7]/norm(x[4:7]) #normalize q just to be careful\n",
    "    v = x[8:10]\n",
    "    ω = x[11:13]\n",
    "    Q = qtoQ(q)\n",
    "    \n",
    "    ṙ = v\n",
    "    q̇ = 0.5*L(q)*H*ω\n",
    "    \n",
    "    b = 1/m\n",
    "  \n",
    "    v̇ = [0; 0; -gravity] + (1/m)*Q*[zeros(2,4); kt*ones(1,4)]*u \n",
    "  \n",
    "    ω̇ = J\\(-hat(ω)*J*ω + [-ℓ*kt -ℓ*kt ℓ*kt ℓ*kt; -ℓ*kt ℓ*kt ℓ*kt -ℓ*kt; -km km -km km]*u)\n",
    "    \n",
    "    return [ṙ; q̇; v̇; ω̇]\n",
    "  end\n",
    "  function quad_dynamics_rk4(x,u)\n",
    "    #RK4 integration with zero-order hold on u\n",
    "    f1 = quad_dynamics(x, u)\n",
    "    f2 = quad_dynamics(x + 0.5*h*f1, u)\n",
    "    f3 = quad_dynamics(x + 0.5*h*f2, u)\n",
    "    f4 = quad_dynamics(x + h*f3, u)\n",
    "    xn = x + (h/6.0)*(f1 + 2*f2 + 2*f3 + f4)\n",
    "    xn[4:7] = xn[4:7]/norm(xn[4:7]) #re-normalize quaternion\n",
    "    return xn\n",
    "  end"
   ]
  },
  {
   "cell_type": "code",
   "execution_count": 18,
   "metadata": {},
   "outputs": [],
   "source": [
    "#Linearize dynamics about hover\n",
    "Adyn = ForwardDiff.jacobian(x->quad_dynamics_rk4(x,uhover),xg)\n",
    "Bdyn = ForwardDiff.jacobian(u->quad_dynamics_rk4(xg,u),uhover);\n",
    "Ãdyn = Array(E(qg)'*Adyn*E(qg))\n",
    "B̃dyn = Array(E(qg)'*Bdyn);"
   ]
  },
  {
   "cell_type": "code",
   "execution_count": 19,
   "metadata": {},
   "outputs": [
    {
     "name": "stderr",
     "output_type": "stream",
     "text": [
      "┌ Info: MeshCat server started. You can open the visualizer by visiting the following URL in your browser:\n",
      "│ http://127.0.0.1:8700\n",
      "└ @ MeshCat /home/sam/.julia/packages/MeshCat/GlCMx/src/visualizer.jl:73\n"
     ]
    },
    {
     "data": {
      "text/plain": [
       "TransformPlane (generic function with 1 method)"
      ]
     },
     "metadata": {},
     "output_type": "display_data"
    }
   ],
   "source": [
    "vis = Visualizer()\n",
    "quad_model = Quadrotor()\n",
    "TrajOptPlots.set_mesh!(vis, quad_model)\n",
    "\n",
    "# Create obstacle in MeshCat\n",
    "# Cylinder constraint\n",
    "c = [0.0; 2.0]\n",
    "r_vis = 0.1\n",
    "r_obstacle = 0.4\n",
    "setobject!(vis[\"cylinder\"], Cylinder(Point(c[1], c[2], 0.0), Point(c[1], c[2], 1.0), r_vis))\n",
    "bounding_cylinder_material = MeshPhongMaterial(color=RGBA(1, 1, 1, 0.25))\n",
    "setobject!(vis[\"bounding cylinder\"], Cylinder(Point(c[1], c[2], -.05), Point(c[1], c[2], 1.05), r_obstacle), bounding_cylinder_material)\n",
    "\n",
    "function TransformPlane(visObject, center, dir)\n",
    "    # dir[1] = x, dir[2] = y (for three dimensions, take cross product of [1,0,0] and 3D dir vector to get axis of rotation)\n",
    "    width = 2\n",
    "    height = 1\n",
    "    dir_inv = -[dir[2]; -dir[1]]/norm(dir)\n",
    "    bl = [center[1:2] + dir_inv*width/2; 0] # bottom left corner\n",
    "    settransform!(visObject, Translation(bl[1], bl[2], bl[3]) ∘ LinearMap(AngleAxis(-atan(dir[2], -dir[1]), 0, 0, 1)))\n",
    "end"
   ]
  },
  {
   "cell_type": "code",
   "execution_count": 24,
   "metadata": {},
   "outputs": [],
   "source": [
    "Tfinal = 5.0            # final time\n",
    "N = Int(Tfinal/h)+1     # number of time steps\n",
    "t_vec = h*(0:N-1)\n",
    "\n",
    "# Cost weights\n",
    "# Q = Array(BlockDiagonal([5.0*I(3), 0.001*I(Nx̃-3)]));\n",
    "# R = Array(1*I(Nu));\n",
    "# Qf = 1*Q;\n",
    "\n",
    "\n",
    "# Cost weights\n",
    "max_dev_x = [0.01; 0.01; 0.01;  0.5; 0.5; 0.5;  0.5; 0.5; 0.5;  0.7; 0.7; 0.5]\n",
    "# max_dev_u = [0.5; 0.5; 0.5; 0.5]\n",
    "max_dev_u = [1; 1; 1; 1]\n",
    "Q = diagm(1 ./(max_dev_x.^2))\n",
    "R = diagm(1 ./(max_dev_u.^2))\n",
    "Qf = 1*Q\n",
    "\n",
    "# # Cost weights\n",
    "# Q = Array(I(Nx̃));\n",
    "# R = Array(.1*I(Nu));\n",
    "# Qf = 1*Q\n",
    "\n",
    "# Penalty\n",
    "ρ = 5.0\n",
    "R̃ = R + ρ*I;\n",
    "# R̃ = R\n",
    "\n",
    "# Precompute\n",
    "cache = (\n",
    "    A = deepcopy(Ãdyn),\n",
    "    B = deepcopy(B̃dyn),\n",
    "    Kinf = zeros(nu,nx),\n",
    "    Pinf = zeros(nx,nx),\n",
    "    Quu_inv = zeros(nu,nu),\n",
    "    AmBKt = zeros(nx,nx), \n",
    "    coeff_d2p = zeros(nx,nu), \n",
    "    Qu1 = zeros(nu,nx), \n",
    "    Qu2 = zeros(nu,nu),\n",
    "    Kt = zeros(nx,nu),\n",
    ")\n",
    "\n",
    "Nriccati = 1000\n",
    "P = [zeros(nx,nx) for i = 1:Nriccati];   # cost to go quadratic term\n",
    "K = [zeros(nu,nx) for i = 1:Nriccati-1]; # feedback gain\n",
    "\n",
    "P[Nriccati] .= Qf;\n",
    "for k = (Nriccati-1):-1:1\n",
    "    K[k] = (R̃ + B̃dyn'*P[k+1]*B̃dyn)\\(B̃dyn'*P[k+1]*Ãdyn);\n",
    "    P[k] = Q + Ãdyn'*P[k+1]*(Ãdyn - B̃dyn*K[k]);\n",
    "end\n",
    "\n",
    "Kinf_float = deepcopy(K[1]);\n",
    "Pinf_float = deepcopy(P[1]);\n",
    "Quu_inv_float = (R̃ + cache.B'*cache.Pinf*cache.B)\\I;\n",
    "AmBKt_float = (cache.A - cache.B*cache.Kinf)';\n",
    "coeff_d2p_float = cache.Kinf'*R̃ - cache.AmBKt*cache.Pinf*cache.B;\n",
    "\n",
    "\n",
    "# Create trajectory to follow\n",
    "X̃ref = [zeros(nx) for i = 1:N]\n",
    "Uref = [zeros(nu) for i = 1:N-1]\n",
    "\n",
    "scale = 1\n",
    "loops = 1\n",
    "\n",
    "# Zero\n",
    "# Xref = [[zeros(3); 1; zeros(9)] for _ = 1:N];\n",
    "\n",
    "# Figure-eight\n",
    "# Xref = [[scale*sin(2*t)/2; scale*cos(t); 1; 1; zeros(9)] for t = range(-pi/2*loops, 3*pi/2*loops, length = N)];\n",
    "\n",
    "# Squished pringle\n",
    "# Xref = [[scale*sin(2*t)/2; scale*cos(t); 0.3*sin(t)+1; 1; zeros(9)] for t = range(-pi/2*loops, 3*pi/2*loops, length = N)];\n",
    "\n",
    "# Line\n",
    "Xref = [[0.01; t; 0.5; 1; zeros(9)] for t = range(0, 4, length = N)];\n",
    "\n",
    "# Compute reference velocity from reference position\n",
    "for i = 1:N-1\n",
    "    Xref[i][8:10] = (Xref[i+1][1:3] - Xref[i][1:3])/h\n",
    "end\n",
    "\n",
    "for k = 1:N\n",
    "    x = Xref[k]\n",
    "    qx = x[4:7]\n",
    "    ϕ = qtorp(L(qg)'*qx)   \n",
    "    X̃ref[k] = [x[1:3]; ϕ; x[8:10]; x[11:13]]\n",
    "end\n",
    "\n",
    "# Set initial state\n",
    "x0 = X̃ref[1] + [0; 0; 0; zeros(9)]\n",
    "\n",
    "# Visualize reference\n",
    "delete!(vis[\"XrefLine\"])\n",
    "XrefLine = [Point(x_[1], x_[2], x_[3]) for x_ in Xref]\n",
    "setobject!(vis[\"XrefLine\"], Object(PointCloud(XrefLine), \n",
    "        LineBasicMaterial(color=Colors.RGBA(0.,0.45,1.)), \"Line\"))\n",
    ";"
   ]
  },
  {
   "cell_type": "code",
   "execution_count": 25,
   "metadata": {},
   "outputs": [
    {
     "data": {
      "text/plain": [
       "controls_fixed_to_float (generic function with 1 method)"
      ]
     },
     "metadata": {},
     "output_type": "display_data"
    }
   ],
   "source": [
    "#Fixed-Point Conversion\n",
    "\n",
    "r_max = 10000.0\n",
    "q_max = 10.0\n",
    "ϕ_max = 30.0\n",
    "v_max = 100.0\n",
    "ω_max = 200.0\n",
    "control_max = 0.5*m*gravity\n",
    "\n",
    "fp_max = 2147483647.0\n",
    "# fp_max = 214748.0\n",
    "\n",
    "J_xfp = Diagonal([ones(3)*(r_max); ones(3)*(ϕ_max); ones(3)*(v_max); ones(3)*(ω_max)])\n",
    "J_ufp = Diagonal(ones(4)*(control_max))\n",
    "\n",
    "J_xfp_inv = J_xfp\\I\n",
    "J_ufp_inv = J_ufp\\I\n",
    "\n",
    "function state_float_to_fixed(x)\n",
    "    x_fixed = zeros(Int32, 13)\n",
    "    x_fixed[1:3] .= convert(Vector{Int32},round.(x[1:3].*(fp_max/r_max)))\n",
    "    x_fixed[4:7] .= convert(Vector{Int32},round.(x[4:7].*(fp_max/q_max)))\n",
    "    x_fixed[8:10] .= convert(Vector{Int32},round.(x[8:10].*(fp_max/v_max)))\n",
    "    x_fixed[11:13] .= convert(Vector{Int32},round.(x[11:13].*(fp_max/ω_max)))\n",
    "    \n",
    "    return x_fixed\n",
    "end\n",
    "\n",
    "function Δstate_float_to_fixed(x)\n",
    "    x_fixed = zeros(Int32, 12)\n",
    "    x_fixed[1:3] .= convert(Vector{Int32},round.(x[1:3].*(fp_max/r_max)))\n",
    "    x_fixed[4:6] .= convert(Vector{Int32},round.(x[4:6].*(fp_max/ϕ_max)))\n",
    "    x_fixed[7:9] .= convert(Vector{Int32},round.(x[7:9].*(fp_max/v_max)))\n",
    "    x_fixed[10:12] .= convert(Vector{Int32},round.(x[10:12].*(fp_max/ω_max)))\n",
    "    \n",
    "    return x_fixed\n",
    "end\n",
    "\n",
    "function state_fixed_to_float(x)\n",
    "    x_float = zeros(13)\n",
    "    x_float[1:3] .= convert(Vector{Float64},x[1:3]).*(r_max/fp_max)\n",
    "    x_float[4:7] .= convert(Vector{Float64},x[4:7]).*(q_max/fp_max)\n",
    "    x_float[8:10] .= convert(Vector{Float64},x[8:10]).*(v_max/fp_max)\n",
    "    x_float[11:13] .= convert(Vector{Float64},x[11:13]).*(ω_max/fp_max)\n",
    "    \n",
    "    return x_float\n",
    "end\n",
    "\n",
    "function Δstate_fixed_to_float(x)\n",
    "    x_float = zeros(12)\n",
    "    x_float[1:3] .= convert(Vector{Float64},x[1:3]).*(r_max/fp_max)\n",
    "    x_float[4:6] .= convert(Vector{Float64},x[4:6]).*(ϕ_max/fp_max)\n",
    "    x_float[7:9] .= convert(Vector{Float64},x[7:9]).*(v_max/fp_max)\n",
    "    x_float[10:12] .= convert(Vector{Float64},x[10:12]).*(ω_max/fp_max)\n",
    "    \n",
    "    return x_float\n",
    "end\n",
    "\n",
    "function controls_float_to_fixed(u)\n",
    "    u_fixed = zeros(Int32, 4)\n",
    "    u_fixed[1:4] .= convert(Vector{Int32},round.((u[1:4]).*(fp_max/control_max)))\n",
    "    # u_fixed[1:4] .= convert(Vector{Int32},(u[1:4]).*(fp_max/control_max))\n",
    "    \n",
    "    return u_fixed\n",
    "end\n",
    "\n",
    "function controls_fixed_to_float(u)\n",
    "    u_float = zeros(4)\n",
    "    u_float[1:4] .= convert(Vector{Float64}, u).*(control_max/fp_max)\n",
    "    \n",
    "    return u_float\n",
    "end"
   ]
  },
  {
   "cell_type": "code",
   "execution_count": 1,
   "metadata": {},
   "outputs": [
    {
     "ename": "LoadError",
     "evalue": "LoadError: LoadError: UndefVarError: @sprintf not defined\nin expression starting at /home/sam/Git/tinympc-julia/tinyMPC-fixedpt-state.jl:110\nin expression starting at /home/sam/Git/tinympc-julia/tinyMPC-fixedpt-state.jl:104",
     "output_type": "error",
     "traceback": [
      "LoadError: LoadError: UndefVarError: @sprintf not defined\n",
      "in expression starting at /home/sam/Git/tinympc-julia/tinyMPC-fixedpt-state.jl:110\n",
      "in expression starting at /home/sam/Git/tinympc-julia/tinyMPC-fixedpt-state.jl:104\n"
     ]
    }
   ],
   "source": [
    "include(\"../tinyMPC-fixedpt-state.jl\")\n",
    "\n",
    "# Compute fixed point versions of cached matrices used in ADMM\n",
    "Ã_fixed = round.(J_xfp_inv*Ãdyn*J_xfp*1000)\n",
    "B̃_fixed = round.(J_xfp_inv*B̃dyn*J_ufp*1000)\n",
    "Kinf_fixed = round.(J_ufp_inv*K[1]*J_xfp)\n",
    "Pinf_fixed = round.(J_xfp_inv*P[1]*J_xfp)\n",
    "\n",
    "Qu1 = round.(J_ufp_inv*(R̃ + B̃dyn'*P[1]*B̃dyn)^(-1)*B̃dyn'*J_xfp*1000)\n",
    "Qu2 = round.(J_ufp_inv*(R̃ + B̃dyn'*P[1]*B̃dyn)^(-1)*J_ufp*100)\n",
    "\n",
    "AmBKt_fixed = round.(J_xfp_inv*(Ãdyn - B̃dyn*K[1])'*J_xfp*100)\n",
    "coeff_d2p_fixed1 = K[1]'*R̃\n",
    "coeff_d2p_fixed2 = - (Ãdyn - B̃dyn*K[1])'*P[1]*B̃dyn\n",
    "coeff_d2p_fixed = round.(J_xfp_inv*(coeff_d2p_fixed1 + coeff_d2p_fixed2)*J_ufp)\n",
    "Kt_fixed = round.(J_xfp_inv*K[1]'*J_ufp*1000)\n",
    "\n",
    "# Save fixed point version of cached matrices\n",
    "cache.A .= Ã_fixed\n",
    "cache.B .= B̃_fixed\n",
    "cache.Kinf .= Kinf_fixed\n",
    "cache.Pinf .= Pinf_fixed\n",
    "cache.Qu1 .= Qu1\n",
    "cache.Qu2 .= Qu2\n",
    "# cache.Quu_inv .= Quu_inv_fixed\n",
    "cache.AmBKt .= AmBKt_fixed\n",
    "cache.coeff_d2p .= coeff_d2p_fixed\n",
    "cache.Kt .= Kt_fixed\n",
    "\n",
    "# Compute fixed point versions of parameters used by ADMM\n",
    "ρ_fixed = round.(J_ufp_inv*ρ*J_ufp)\n",
    "\n",
    "Q_fixed = round.(J_xfp_inv*Q*J_xfp)\n",
    "R_fixed = round.(J_ufp_inv*R*J_ufp)\n",
    "Qf_fixed = round.(J_xfp_inv*Qf*J_xfp)\n",
    "\n",
    "# Convert X̃ref and Uref to fixed point\n",
    "X̃ref_fixed = [Δstate_float_to_fixed(x_) for x_ in X̃ref]\n",
    "Uref_fixed = [controls_float_to_fixed(u_) for u_ in Uref]\n",
    "\n",
    "\n",
    "speye(N) = spdiagm(ones(N))\n",
    "\n",
    "# MPC setup\n",
    "Nh = 20\n",
    "\n",
    "skip_vis = 5\n",
    "\n",
    "# Create constraint planes\n",
    "thin_rect_material = MeshPhongMaterial(color=RGBA(0, 1, 0, 0.25))\n",
    "constraintPlanes = [setobject!(vis[\"linearized constraint \" * string(k)], HyperRectangle(Vec(0.0,0.0,0.0), Vec(0.001,2.0,1.0)), thin_rect_material) for k in 1:skip_vis:Nh]\n",
    "\n",
    "\n",
    "# Instantiate TinyMPC-ADMM variables\n",
    "\n",
    "x = [zeros(Int32, nx) for i = 1:Nh]\n",
    "u = [zeros(Int32, nu) for i = 1:Nh-1]\n",
    "\n",
    "# State slack (auxiliary) and dual variables\n",
    "v = [zeros(Int32, nx) for i = 1:Nh]\n",
    "vnew = [zeros(Int32, nx) for i = 1:Nh]\n",
    "g = [zeros(Int32, nx) for i = 1:Nh]\n",
    "\n",
    "# Input slack (auxiliary) and dual variables\n",
    "z = [zeros(Int32, nu) for i = 1:Nh-1]\n",
    "znew = [zeros(Int32, nu) for i = 1:Nh-1]\n",
    "y = [zeros(Int32, nu) for i = 1:Nh-1]\n",
    "\n",
    "q = [zeros(Int32, nx) for i = 1:Nh];\n",
    "r = [zeros(Int32, nu) for i = 1:Nh-1];\n",
    "\n",
    "p = [zeros(Int32, nx) for i = 1:Nh];       # cost to go linear term\n",
    "p[Nh] = q[Nh];\n",
    "\n",
    "d = [zeros(Int32, nu) for i = 1:Nh-1];     # feedforward control\n",
    "\n",
    "# Input constraints\n",
    "umin_fixed = controls_float_to_fixed(-[1.0; 1.0; 1.0; 1.0]*.5)\n",
    "umax_fixed = controls_float_to_fixed([1.0; 1.0; 1.0; 1.0]*.5)\n",
    "\n",
    "# State constraints\n",
    "xmin_fixed = [-Inf .* ones(nx) for i = 1:Nh]\n",
    "xmax_fixed = [Inf .* ones(nx) for i = 1:Nh]\n",
    "\n",
    "Aineq = [speye(nx) for i = 1:Nh]\n",
    "\n",
    "for k = 1:skip_vis:Nh\n",
    "    x_this = X̃ref[k][1:2]\n",
    "    xc = c - x_this\n",
    "    a = xc/norm(xc)\n",
    "\n",
    "    Aineq[k][1:2,1:2] = [a'; 0 0]\n",
    "\n",
    "    q_c = c - r_obstacle*a\n",
    "    b = a'*q_c\n",
    "    # xmax[k][1] = b\n",
    "    TransformPlane(constraintPlanes[cld(k,skip_vis)], q_c, a)\n",
    "end\n",
    "\n",
    "# Simulate\n",
    "Nsim = N - Nh\n",
    "xhist = [zeros(nx+1) for _ = 1:Nsim] # nx+1 because not reduced form\n",
    "xhist[1] = Xref[1]\n",
    "# xhist[1] = [x0[1:3]; rptoq(x0[4:6]); x0[7:12]]\n",
    "uhist = [zeros(nu) for _ = 1:Nsim-1]\n",
    "\n",
    "\n",
    "for k = 1:Nsim-1 # Nsim-1 knotpoints for control, Nsim knotpoints for state\n",
    "# for k = 1:1\n",
    "    x[1] = Δstate_float_to_fixed([xhist[k][1:3]; qtorp(xhist[k][4:7]); xhist[k][8:end]])\n",
    "\n",
    "    params = (\n",
    "        N = Nh,\n",
    "        Q = Q_fixed, R = R_fixed, Qf = Qf_fixed,\n",
    "        Xref = X̃ref_fixed[k:k+Nh-1], Uref = Uref_fixed[k:k+Nh-2], \n",
    "        cache = cache,\n",
    "        fixed_A_divisor=1000,\n",
    "        fixed_B_divisor=1000,\n",
    "        \n",
    "        A = Aineq,\n",
    "        umin = umin_fixed, umax = umax_fixed,\n",
    "        xmin = xmin_fixed, xmax = xmax_fixed,\n",
    "    );\n",
    "\n",
    "    # Solve\n",
    "    Δu, status, iter = solve_admm!(vis, params, q, r, p, d, x,v,vnew,g, u,z,znew,y; ρ=ρ_fixed, abs_tol=J_ufp_inv[1,1]*fp_max/100, max_iter=100)\n",
    "    # @show iter, status\n",
    "\n",
    "\n",
    "    # Roll out x_k+1 with actual dynamics\n",
    "    uhist[k] = controls_fixed_to_float(Δu[1]) + uhover\n",
    "    xhist[k+1] = quad_dynamics_rk4(xhist[k], uhist[k])\n",
    "        \n",
    "    # Roll out with real dynamics\n",
    "    x_real = [zeros(nx+1) for _ = 1:Nh]\n",
    "    x_real[1] = xhist[k]\n",
    "    for j = 1:Nh-1\n",
    "        x_real[j+1] = quad_dynamics_rk4(x_real[j], uhist[k])\n",
    "    end\n",
    "\n",
    "    # Update linearized cylinder constraints\n",
    "    Aineq = [speye(nx) for i = 1:Nh]\n",
    "    xmax = [Inf .* ones(nx) for i = 1:Nh]\n",
    "    for j = 1:skip_vis:Nh\n",
    "        x_this = x_real[j][1:2]\n",
    "        xc = c - x_this\n",
    "        a = xc/norm(xc)\n",
    "\n",
    "        Aineq[j][1:2,1:2] = [a'; 0 0]\n",
    "\n",
    "        q_c = c - r_obstacle*a\n",
    "        b = a'*q_c\n",
    "        # xmax[j][1] = b\n",
    "        TransformPlane(constraintPlanes[cld(j,skip_vis)], q_c, a)\n",
    "    end\n",
    "\n",
    "    # Visualize solution x\n",
    "    x_float = [Δstate_fixed_to_float(x_) for x_ in x];\n",
    "    delete!(vis[\"xLinearized\"])\n",
    "    x_linearized = [Point(x_[1], x_[2], x_[3]+0.01) for x_ in x_float]\n",
    "    setobject!(vis[\"xLinearized\"], Object(PointCloud(x_linearized), \n",
    "    LineBasicMaterial(color=Colors.RGBA(1,0.6,0.0)), \"Line\"))\n",
    "end\n",
    "\n",
    "delete!(vis[\"xHistline\"])\n",
    "xHistline = [Point(x_[1], x_[2], x_[3]) for x_ in xhist]\n",
    "setobject!(vis[\"xHistline\"], Object(PointCloud(xHistline), \n",
    "LineBasicMaterial(color=Colors.RGBA(0.75,0.5,0.8)), \"Line\"))"
   ]
  },
  {
   "cell_type": "code",
   "execution_count": 28,
   "metadata": {},
   "outputs": [],
   "source": [
    "# X1 = [SVector{13}([x_[1:3]; rptoq(x_[4:6]); x_[7:9]; x_[10:12]]) for x_ in x];\n",
    "X1 = [SVector{13}(x_) for x_ in xhist];\n",
    "visualize!(vis, quad_model, Tfinal, X1)"
   ]
  },
  {
   "cell_type": "code",
   "execution_count": 75,
   "metadata": {},
   "outputs": [
    {
     "data": {
      "text/plain": [
       "\"cache.Qu1\""
      ]
     },
     "metadata": {},
     "output_type": "display_data"
    },
    {
     "data": {
      "text/plain": [
       "4×12 Matrix{Float64}:\n",
       " -0.0   0.0  7.0  -2.0  -2.0  -5.0  -2.0  …  273.0  -989.0  -989.0  -2476.0\n",
       "  0.0   0.0  7.0  -2.0   2.0   5.0   2.0     273.0  -989.0   989.0   2476.0\n",
       "  0.0  -0.0  7.0   2.0   2.0  -5.0   2.0     273.0   989.0   989.0  -2476.0\n",
       " -0.0  -0.0  7.0   2.0  -2.0   5.0  -2.0     273.0   989.0  -989.0   2476.0"
      ]
     },
     "metadata": {},
     "output_type": "display_data"
    },
    {
     "data": {
      "text/plain": [
       "\"cache.Qu2\""
      ]
     },
     "metadata": {},
     "output_type": "display_data"
    },
    {
     "data": {
      "text/plain": [
       "4×4 Matrix{Float64}:\n",
       "  4.0  -1.0   4.0  -1.0\n",
       " -1.0   4.0  -1.0   4.0\n",
       "  4.0  -1.0   4.0  -1.0\n",
       " -1.0   4.0  -1.0   4.0"
      ]
     },
     "metadata": {},
     "output_type": "display_data"
    },
    {
     "data": {
      "text/plain": [
       "\"cache.AmBKt\""
      ]
     },
     "metadata": {},
     "output_type": "display_data"
    },
    {
     "data": {
      "text/plain": [
       "12×12 Matrix{Float64}:\n",
       " 100.0   -0.0   0.0   0.0  -16.0  …     0.0       0.0   -8591.0     0.0\n",
       "   0.0  100.0   0.0  16.0    0.0        0.0    8591.0       0.0     0.0\n",
       "   0.0   -0.0  87.0   0.0    0.0     -518.0       0.0       0.0     0.0\n",
       "  -0.0   -8.0  -0.0  58.0   -0.0       -0.0  -22305.0      -0.0     0.0\n",
       "   8.0   -0.0   0.0   0.0   58.0        0.0       0.0  -22305.0     0.0\n",
       "   0.0    0.0   0.0   0.0    0.0  …     0.0       0.0       0.0  -257.0\n",
       "   5.0   -0.0   0.0   0.0   -5.0        0.0       0.0   -2427.0     0.0\n",
       "  -0.0    5.0  -0.0   5.0   -0.0       -0.0    2427.0      -0.0     0.0\n",
       "  -0.0   -0.0   3.0   0.0   -0.0       27.0       0.0      -0.0     0.0\n",
       "   0.0   -0.0  -0.0   0.0   -0.0       -0.0     -35.0      -0.0    -0.0\n",
       "   0.0   -0.0   0.0   0.0    0.0  …     0.0       0.0     -35.0     0.0\n",
       "  -0.0    0.0   0.0   0.0   -0.0        0.0      -0.0      -0.0    59.0"
      ]
     },
     "metadata": {},
     "output_type": "display_data"
    },
    {
     "data": {
      "text/plain": [
       "\"cache.coeff_d2p\""
      ]
     },
     "metadata": {},
     "output_type": "display_data"
    },
    {
     "data": {
      "text/plain": [
       "12×4 Matrix{Float64}:\n",
       "  0.0  -0.0  -0.0   0.0\n",
       "  0.0   0.0  -0.0  -0.0\n",
       "  0.0   0.0  -0.0  -0.0\n",
       " -0.0   0.0   0.0   0.0\n",
       "  0.0  -0.0  -0.0   0.0\n",
       "  0.0  -0.0  -0.0   0.0\n",
       "  0.0  -0.0  -0.0   0.0\n",
       "  0.0   0.0  -0.0  -0.0\n",
       " -0.0  -0.0   0.0  -0.0\n",
       "  0.0   0.0   0.0   0.0\n",
       "  0.0  -0.0  -0.0  -0.0\n",
       " -0.0  -0.0   0.0   0.0"
      ]
     },
     "metadata": {},
     "output_type": "display_data"
    },
    {
     "data": {
      "text/plain": [
       "\"cache.Kt\""
      ]
     },
     "metadata": {},
     "output_type": "display_data"
    },
    {
     "data": {
      "text/plain": [
       "12×4 Matrix{Float64}:\n",
       "  -692.0    692.0   692.0   -692.0\n",
       "   692.0    692.0  -692.0   -692.0\n",
       "  3176.0   3176.0  3176.0   3176.0\n",
       " -1797.0  -1797.0  1797.0   1797.0\n",
       " -1797.0   1797.0  1797.0  -1797.0\n",
       "  -257.0    257.0  -257.0    257.0\n",
       "  -196.0    196.0   196.0   -196.0\n",
       "   196.0    196.0  -196.0   -196.0\n",
       "   446.0    446.0   446.0    446.0\n",
       "   -11.0    -11.0    11.0     11.0\n",
       "   -11.0     11.0    11.0    -11.0\n",
       "   -41.0     41.0   -41.0     41.0"
      ]
     },
     "metadata": {},
     "output_type": "display_data"
    },
    {
     "data": {
      "text/plain": [
       "\"cache.Kinf\""
      ]
     },
     "metadata": {},
     "output_type": "display_data"
    },
    {
     "data": {
      "text/plain": [
       "4×12 Matrix{Float64}:\n",
       " -115.0   115.0  528.0  -27.0  -27.0  -4.0  …   33.0  74.0  -7.0  -7.0  -27.0\n",
       "  115.0   115.0  528.0  -27.0   27.0   4.0      33.0  74.0  -7.0   7.0   27.0\n",
       "  115.0  -115.0  528.0   27.0   27.0  -4.0     -33.0  74.0   7.0   7.0  -27.0\n",
       " -115.0  -115.0  528.0   27.0  -27.0   4.0     -33.0  74.0   7.0  -7.0   27.0"
      ]
     },
     "metadata": {},
     "output_type": "display_data"
    },
    {
     "data": {
      "text/plain": [
       "\"cache.Pinf\""
      ]
     },
     "metadata": {},
     "output_type": "display_data"
    },
    {
     "data": {
      "text/plain": [
       "12×12 Matrix{Float64}:\n",
       " 56496.0       0.0      0.0     -0.0  2677.0  …    -0.0    -0.0  183.0  -0.0\n",
       "    -0.0   56496.0     -0.0  -2677.0    -0.0        0.0  -183.0   -0.0  -0.0\n",
       "     0.0      -0.0  28077.0     -0.0     0.0     1229.0    -0.0    0.0   0.0\n",
       "     0.0  -29744.0      0.0   4727.0     0.0       -0.0   363.0    0.0   0.0\n",
       " 29744.0       0.0      0.0     -0.0  4727.0       -0.0    -0.0  363.0  -0.0\n",
       "    -0.0       0.0      0.0     -0.0     0.0  …     0.0    -0.0    0.0  55.0\n",
       "  6527.0       0.0      0.0     -0.0   626.0       -0.0    -0.0   45.0  -0.0\n",
       "    -0.0    6527.0     -0.0   -626.0    -0.0        0.0   -45.0   -0.0  -0.0\n",
       "    -0.0      -0.0   1229.0     -0.0    -0.0      144.0    -0.0   -0.0   0.0\n",
       "    -0.0     -46.0      0.0      8.0     0.0       -0.0     3.0    0.0   0.0\n",
       "    46.0      -0.0      0.0     -0.0     8.0  …    -0.0    -0.0    3.0  -0.0\n",
       "    -0.0       0.0      0.0     -0.0     0.0        0.0    -0.0    0.0  11.0"
      ]
     },
     "metadata": {},
     "output_type": "display_data"
    },
    {
     "data": {
      "text/plain": [
       "\"cache.A\""
      ]
     },
     "metadata": {},
     "output_type": "display_data"
    },
    {
     "data": {
      "text/plain": [
       "12×12 Matrix{Float64}:\n",
       " 1000.0     0.0     0.0     0.0     7.0  …     0.0     0.0     0.0     0.0\n",
       "    0.0  1000.0     0.0    -7.0     0.0        0.0    -0.0     0.0     0.0\n",
       "    0.0     0.0  1000.0     0.0     0.0       50.0     0.0     0.0     0.0\n",
       "    0.0     0.0     0.0  1000.0     0.0        0.0   167.0     0.0     0.0\n",
       "    0.0     0.0     0.0     0.0  1000.0        0.0     0.0   167.0     0.0\n",
       "    0.0     0.0     0.0     0.0     0.0  …     0.0     0.0     0.0   167.0\n",
       "    0.0     0.0     0.0     0.0   294.0        0.0     0.0    25.0     0.0\n",
       "    0.0     0.0     0.0  -294.0     0.0        0.0   -25.0     0.0     0.0\n",
       "    0.0     0.0     0.0     0.0     0.0     1000.0     0.0     0.0     0.0\n",
       "    0.0     0.0     0.0     0.0     0.0        0.0  1000.0     0.0     0.0\n",
       "    0.0     0.0     0.0     0.0     0.0  …     0.0     0.0  1000.0     0.0\n",
       "    0.0     0.0     0.0     0.0     0.0        0.0     0.0     0.0  1000.0"
      ]
     },
     "metadata": {},
     "output_type": "display_data"
    },
    {
     "data": {
      "text/plain": [
       "\"cache.B\""
      ]
     },
     "metadata": {},
     "output_type": "display_data"
    },
    {
     "data": {
      "text/plain": [
       "12×4 Matrix{Float64}:\n",
       "  -0.0    0.0   0.0   -0.0\n",
       "   0.0    0.0  -0.0   -0.0\n",
       "   0.0    0.0   0.0    0.0\n",
       "  -4.0   -4.0   4.0    4.0\n",
       "  -4.0    4.0   4.0   -4.0\n",
       "  -0.0    0.0  -0.0    0.0\n",
       "  -0.0    0.0   0.0   -0.0\n",
       "   0.0    0.0  -0.0   -0.0\n",
       "   2.0    2.0   2.0    2.0\n",
       " -47.0  -47.0  47.0   47.0\n",
       " -47.0   47.0  47.0  -47.0\n",
       "  -4.0    4.0  -4.0    4.0"
      ]
     },
     "metadata": {},
     "output_type": "display_data"
    },
    {
     "data": {
      "text/plain": [
       "\"rho\""
      ]
     },
     "metadata": {},
     "output_type": "display_data"
    },
    {
     "data": {
      "text/plain": [
       "5.0"
      ]
     },
     "metadata": {},
     "output_type": "display_data"
    },
    {
     "data": {
      "text/plain": [
       "\"params.Q\""
      ]
     },
     "metadata": {},
     "output_type": "display_data"
    },
    {
     "ename": "UndefVarError",
     "evalue": "UndefVarError: params not defined",
     "output_type": "error",
     "traceback": [
      "UndefVarError: params not defined\n",
      "\n",
      "Stacktrace:\n",
      " [1] top-level scope\n",
      "   @ ~/Git/tinympc-julia/state_constraints/state_inequalities_fixedpt.ipynb:25"
     ]
    }
   ],
   "source": [
    "display(\"cache.Qu1\")\n",
    "display(cache.Qu1)\n",
    "display(\"cache.Qu2\")\n",
    "display(cache.Qu2)\n",
    "display(\"cache.AmBKt\")\n",
    "display(cache.AmBKt)\n",
    "display(\"cache.coeff_d2p\")\n",
    "display(cache.coeff_d2p)\n",
    "display(\"cache.Kt\")\n",
    "display(cache.Kt)\n",
    "\n",
    "display(\"cache.Kinf\")\n",
    "display(cache.Kinf)\n",
    "display(\"cache.Pinf\")\n",
    "display(cache.Pinf)\n",
    "display(\"cache.A\")\n",
    "display(cache.A)\n",
    "display(\"cache.B\")\n",
    "display(cache.B)\n",
    "\n",
    "display(\"rho\")\n",
    "display(ρ)\n",
    "\n",
    "display(\"params.Q\")\n",
    "display(params.Q)\n",
    "display(\"params.R\")\n",
    "display(params.R)"
   ]
  }
 ],
 "metadata": {
  "kernelspec": {
   "display_name": "Julia 1.6.7",
   "language": "julia",
   "name": "julia-1.6"
  },
  "language_info": {
   "file_extension": ".jl",
   "mimetype": "application/julia",
   "name": "julia",
   "version": "1.6.7"
  },
  "orig_nbformat": 4
 },
 "nbformat": 4,
 "nbformat_minor": 2
}
