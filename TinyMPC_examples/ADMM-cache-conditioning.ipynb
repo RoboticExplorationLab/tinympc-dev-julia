{
 "cells": [
  {
   "cell_type": "code",
   "execution_count": 1,
   "metadata": {},
   "outputs": [
    {
     "name": "stderr",
     "output_type": "stream",
     "text": [
      "\u001b[32m\u001b[1m  Activating\u001b[22m\u001b[39m environment at `~/Git/tinympc-julia/state_constraints/Project.toml`\n"
     ]
    }
   ],
   "source": [
    "import Pkg;\n",
    "Pkg.activate(@__DIR__);\n",
    "Pkg.instantiate()"
   ]
  },
  {
   "cell_type": "code",
   "execution_count": 2,
   "metadata": {},
   "outputs": [
    {
     "data": {
      "text/plain": [
       "E (generic function with 1 method)"
      ]
     },
     "metadata": {},
     "output_type": "display_data"
    }
   ],
   "source": [
    "using RobotDynamics\n",
    "using ForwardDiff\n",
    "using TrajOptPlots\n",
    "using BlockDiagonals\n",
    "using LinearAlgebra\n",
    "using StaticArrays\n",
    "using SparseArrays\n",
    "\n",
    "using Plots\n",
    "using Printf\n",
    "\n",
    "include(\"../quaternion-stuff.jl\")"
   ]
  },
  {
   "cell_type": "code",
   "execution_count": 35,
   "metadata": {},
   "outputs": [
    {
     "data": {
      "text/plain": [
       "controls_fixed_to_float (generic function with 1 method)"
      ]
     },
     "metadata": {},
     "output_type": "display_data"
    }
   ],
   "source": [
    "#Fixed-Point Conversion\n",
    "r_max = 100.0\n",
    "q_max = 10.0\n",
    "ϕ_max = 30.0\n",
    "v_max = 100.0\n",
    "ω_max = 200.0\n",
    "control_max = 0.5*m*gravity\n",
    "\n",
    "# fp_max = 2147483647.0\n",
    "fp_max = 2147483647.0\n",
    "\n",
    "J_xfp = Diagonal([ones(3)*(r_max); ones(3)*(ϕ_max); ones(3)*(v_max); ones(3)*(ω_max)])\n",
    "J_ufp = Diagonal(ones(4)*(control_max))\n",
    "\n",
    "J_xfp_inv = J_xfp\\I\n",
    "J_ufp_inv = J_ufp\\I\n",
    "\n",
    "function state_float_to_fixed(x)\n",
    "    x_fixed = zeros(Int32, 13)\n",
    "    x_fixed[1:3] .= convert(Vector{Int32},round.(x[1:3].*(fp_max/r_max)))\n",
    "    x_fixed[4:7] .= convert(Vector{Int32},round.(x[4:7].*(fp_max/q_max)))\n",
    "    x_fixed[8:10] .= convert(Vector{Int32},round.(x[8:10].*(fp_max/v_max)))\n",
    "    x_fixed[11:13] .= convert(Vector{Int32},round.(x[11:13].*(fp_max/ω_max)))\n",
    "    \n",
    "    return x_fixed\n",
    "end\n",
    "\n",
    "function Δstate_float_to_fixed(x)\n",
    "    x_fixed = zeros(Int32, 12)\n",
    "    x_fixed[1:3] .= convert(Vector{Int32},round.(x[1:3].*(fp_max/r_max)))\n",
    "    x_fixed[4:6] .= convert(Vector{Int32},round.(x[4:6].*(fp_max/ϕ_max)))\n",
    "    x_fixed[7:9] .= convert(Vector{Int32},round.(x[7:9].*(fp_max/v_max)))\n",
    "    x_fixed[10:12] .= convert(Vector{Int32},round.(x[10:12].*(fp_max/ω_max)))\n",
    "    \n",
    "    return x_fixed\n",
    "end\n",
    "\n",
    "function state_fixed_to_float(x)\n",
    "    x_float = zeros(13)\n",
    "    x_float[1:3] .= convert(Vector{Float64},x[1:3]).*(r_max/fp_max)\n",
    "    x_float[4:7] .= convert(Vector{Float64},x[4:7]).*(q_max/fp_max)\n",
    "    x_float[8:10] .= convert(Vector{Float64},x[8:10]).*(v_max/fp_max)\n",
    "    x_float[11:13] .= convert(Vector{Float64},x[11:13]).*(ω_max/fp_max)\n",
    "    \n",
    "    return x_float\n",
    "end\n",
    "\n",
    "function Δstate_fixed_to_float(x)\n",
    "    x_float = zeros(12)\n",
    "    x_float[1:3] .= convert(Vector{Float64},x[1:3]).*(r_max/fp_max)\n",
    "    x_float[4:6] .= convert(Vector{Float64},x[4:6]).*(ϕ_max/fp_max)\n",
    "    x_float[7:9] .= convert(Vector{Float64},x[7:9]).*(v_max/fp_max)\n",
    "    x_float[10:12] .= convert(Vector{Float64},x[10:12]).*(ω_max/fp_max)\n",
    "    \n",
    "    return x_float\n",
    "end\n",
    "\n",
    "function controls_float_to_fixed(u)\n",
    "    u_fixed = zeros(Int32, 4)\n",
    "    u_fixed[1:4] .= convert(Vector{Int32},round.((u[1:4]).*(fp_max/control_max)))\n",
    "    # u_fixed[1:4] .= convert(Vector{Int32},(u[1:4]).*(fp_max/control_max))\n",
    "    \n",
    "    return u_fixed\n",
    "end\n",
    "\n",
    "function controls_fixed_to_float(u)\n",
    "    u_float = zeros(4)\n",
    "    u_float[1:4] .= convert(Vector{Float64}, u).*(control_max/fp_max)\n",
    "    \n",
    "    return u_float\n",
    "end"
   ]
  },
  {
   "cell_type": "code",
   "execution_count": 22,
   "metadata": {},
   "outputs": [
    {
     "data": {
      "text/plain": [
       "quad_dynamics_rk4 (generic function with 1 method)"
      ]
     },
     "metadata": {},
     "output_type": "display_data"
    }
   ],
   "source": [
    "function quad_dynamics(x,u)\n",
    "    r = x[1:3]\n",
    "    q = x[4:7]/norm(x[4:7]) #normalize q just to be careful\n",
    "    v = x[8:10]\n",
    "    ω = x[11:13]\n",
    "    Q = qtoQ(q)\n",
    "    \n",
    "    ṙ = v\n",
    "    q̇ = 0.5*L(q)*H*ω\n",
    "    \n",
    "    b = 1/m\n",
    "  \n",
    "    v̇ = [0; 0; -gravity] + (1/m)*Q*[zeros(2,4); kt*ones(1,4)]*u \n",
    "  \n",
    "    ω̇ = J\\(-hat(ω)*J*ω + [-ℓ*kt -ℓ*kt ℓ*kt ℓ*kt; -ℓ*kt ℓ*kt ℓ*kt -ℓ*kt; -km km -km km]*u)\n",
    "    \n",
    "    return [ṙ; q̇; v̇; ω̇]\n",
    "  end\n",
    "  function quad_dynamics_rk4(x,u)\n",
    "    #RK4 integration with zero-order hold on u\n",
    "    f1 = quad_dynamics(x, u)\n",
    "    f2 = quad_dynamics(x + 0.5*h*f1, u)\n",
    "    f3 = quad_dynamics(x + 0.5*h*f2, u)\n",
    "    f4 = quad_dynamics(x + h*f3, u)\n",
    "    xn = x + (h/6.0)*(f1 + 2*f2 + 2*f3 + f4)\n",
    "    xn[4:7] = xn[4:7]/norm(xn[4:7]) #re-normalize quaternion\n",
    "    return xn\n",
    "  end"
   ]
  },
  {
   "cell_type": "code",
   "execution_count": 49,
   "metadata": {},
   "outputs": [
    {
     "name": "stdout",
     "output_type": "stream",
     "text": [
      "uhover = (((m * gravity) / kt) / 4) * ones(4) = [1.22625, 1.22625, 1.22625, 1.22625]\n"
     ]
    }
   ],
   "source": [
    "# mass_scale = 1/.5\n",
    "# length_scale = 1/.1750\n",
    "# time_scale = 1/.05\n",
    "\n",
    "mass_scale = 1/.5\n",
    "length_scale = 1/.1750\n",
    "time_scale = 1\n",
    "\n",
    "#Quadrotor parameters\n",
    "m = 0.5 * mass_scale # kg\n",
    "ℓ = 0.1750 * length_scale # meters\n",
    "J = Diagonal([0.0023, 0.0023, 0.004]) * mass_scale * length_scale^2 # kg * meters^2\n",
    "gravity = 9.81 * length_scale / (time_scale^2)\n",
    "kt = 1.0 * mass_scale * length_scale / (time_scale^2) # N\n",
    "km = 0.0245 * mass_scale * length_scale^2 / (time_scale^2) # Nm\n",
    "\n",
    "h = 0.05 # 20 Hz\n",
    "\n",
    "Nx = 13     # number of states (quaternion)\n",
    "Nx̃ = 12     # number of states (linearized)\n",
    "Nu = 4     # number of controls\n",
    "nx = Nx̃\n",
    "nu = Nu\n",
    "\n",
    "# Goal state\n",
    "@show uhover = (m*gravity/kt/4)*ones(4) # m = 30g and max thrust = 60g\n",
    "# @show uhover = (m*gravity/4)*ones(4) # m = 30g and max thrust = 60g\n",
    "rg = [0.0; 0; 0.0]\n",
    "qg = [1.0; 0; 0; 0]\n",
    "vg = zeros(3)\n",
    "ωg = zeros(3)\n",
    "xg = [rg; qg; vg; ωg];"
   ]
  },
  {
   "cell_type": "code",
   "execution_count": 50,
   "metadata": {},
   "outputs": [],
   "source": [
    "#Linearize dynamics about hover\n",
    "Adyn = ForwardDiff.jacobian(x->quad_dynamics_rk4(x,uhover),xg)\n",
    "Bdyn = ForwardDiff.jacobian(u->quad_dynamics_rk4(xg,u),uhover);\n",
    "Ãdyn = Array(E(qg)'*Adyn*E(qg))\n",
    "B̃dyn = Array(E(qg)'*Bdyn);"
   ]
  },
  {
   "cell_type": "code",
   "execution_count": 53,
   "metadata": {},
   "outputs": [],
   "source": [
    "Tfinal = 5.0            # final time\n",
    "N = Int(Tfinal/h)+1     # number of time steps\n",
    "t_vec = h*(0:N-1)\n",
    "\n",
    "# Cost weights\n",
    "# Q = Array(BlockDiagonal([5.0*I(3), 0.001*I(Nx̃-3)]));\n",
    "# R = Array(1*I(Nu));\n",
    "# Qf = 1*Q;\n",
    "\n",
    "# Cost weights\n",
    "max_dev_x = [0.0316; 0.0316; 0.0316;  0.5; 0.5; 0.5;  0.5; 0.5; 0.5;  0.7; 0.7; 0.5]\n",
    "# max_dev_u = [0.5; 0.5; 0.5; 0.5]\n",
    "max_dev_u = [1; 1; 1; 1]\n",
    "Q = diagm(1 ./(max_dev_x.^2))\n",
    "R = diagm(1 ./(max_dev_u.^2))\n",
    "Qf = 1*Q\n",
    "\n",
    "# # Cost weights\n",
    "Q = Array(I(Nx̃));\n",
    "R = Array(I(Nu));\n",
    "Qf = 1*Q\n",
    "\n",
    "# Penalty\n",
    "ρ = 5.0\n",
    "R̃ = R + ρ*I;\n",
    "# R̃ = R\n",
    "\n",
    "Nriccati = 10000\n",
    "P = [zeros(nx,nx) for i = 1:Nriccati];   # cost to go quadratic term\n",
    "K = [zeros(nu,nx) for i = 1:Nriccati-1]; # feedback gain\n",
    "\n",
    "P[Nriccati] .= Qf;\n",
    "for k = (Nriccati-1):-1:1\n",
    "    K[k] = (R̃ + B̃dyn'*P[k+1]*B̃dyn)\\(B̃dyn'*P[k+1]*Ãdyn);\n",
    "    P[k] = Q + Ãdyn'*P[k+1]*(Ãdyn - B̃dyn*K[k]);\n",
    "end\n",
    "\n",
    "# Fixed point versions before rounding\n",
    "Ã_fixed_preround = J_xfp_inv*Ãdyn*J_xfp\n",
    "B̃_fixed_preround = J_xfp_inv*B̃dyn*J_ufp\n",
    "Kinf_fixed_preround = J_ufp_inv*K[1]*J_xfp\n",
    "Pinf_fixed_preround = J_xfp_inv*P[1]*J_xfp\n",
    "\n",
    "Qu1_fixed_preround = J_ufp_inv*(R̃ + B̃dyn'*P[1]*B̃dyn)^(-1)*B̃dyn'*J_xfp\n",
    "Qu2_fixed_preround = J_ufp_inv*(R̃ + B̃dyn'*P[1]*B̃dyn)^(-1)*J_ufp\n",
    "\n",
    "AmBKt_fixed_preround = J_xfp_inv*(Ãdyn - B̃dyn*K[1])'*J_xfp\n",
    "coeff_d2p_fixed_preround = J_xfp_inv*(K[1]'*R̃ - (Ãdyn - B̃dyn*K[1])'*P[1]*B̃dyn)*J_ufp\n",
    "Kt_fixed_preround = J_xfp_inv*K[1]'*J_ufp\n",
    "\n",
    "ρ_fixed_preround = J_ufp_inv*ρ*J_ufp\n",
    "\n",
    "Q_fixed_preround = J_xfp_inv*Q*J_xfp\n",
    "R_fixed_preround = J_ufp_inv*R*J_ufp\n",
    "Qf_fixed_preround = J_xfp_inv*Qf*J_xfp\n",
    "\n",
    "# Round fixed point versions of floating point nums\n",
    "Ã_fixed = round.(Ã_fixed_preround)\n",
    "B̃_fixed = round.(B̃_fixed_preround)\n",
    "Kinf_fixed = round.(Kinf_fixed_preround)\n",
    "Pinf_fixed = round.(Pinf_fixed_preround)\n",
    "\n",
    "Qu1_fixed = round.(Qu1_fixed_preround)\n",
    "Qu2_fixed = round.(Qu2_fixed_preround)\n",
    "\n",
    "AmBKt_fixed = round.(AmBKt_fixed_preround)\n",
    "coeff_d2p_fixed = round.(coeff_d2p_fixed_preround)\n",
    "Kt_fixed = round.(Kt_fixed_preround)\n",
    "\n",
    "ρ_fixed = round.(ρ_fixed_preround)\n",
    "\n",
    "Q_fixed = round.(Q_fixed_preround)\n",
    "R_fixed = round.(R_fixed_preround)\n",
    "Qf_fixed = round.(Qf_fixed_preround)\n",
    ";"
   ]
  },
  {
   "cell_type": "code",
   "execution_count": 54,
   "metadata": {},
   "outputs": [
    {
     "data": {
      "text/plain": [
       "\"Ã\""
      ]
     },
     "metadata": {},
     "output_type": "display_data"
    },
    {
     "data": {
      "text/plain": [
       "12×12 Matrix{Float64}:\n",
       " 1.0  0.0  0.0   0.0        0.0420429  …   0.0         0.00233571  0.0\n",
       " 0.0  1.0  0.0  -0.0420429  0.0           -0.00233571  0.0         0.0\n",
       " 0.0  0.0  1.0   0.0        0.0            0.0         0.0         0.0\n",
       " 0.0  0.0  0.0   1.0        0.0            0.166667    0.0         0.0\n",
       " 0.0  0.0  0.0   0.0        1.0            0.0         0.166667    0.0\n",
       " 0.0  0.0  0.0   0.0        0.0        …   0.0         0.0         0.166667\n",
       " 0.0  0.0  0.0   0.0        1.68171        0.0         0.140143    0.0\n",
       " 0.0  0.0  0.0  -1.68171    0.0           -0.140143    0.0         0.0\n",
       " 0.0  0.0  0.0   0.0        0.0            0.0         0.0         0.0\n",
       " 0.0  0.0  0.0   0.0        0.0            1.0         0.0         0.0\n",
       " 0.0  0.0  0.0   0.0        0.0        …   0.0         1.0         0.0\n",
       " 0.0  0.0  0.0   0.0        0.0            0.0         0.0         1.0"
      ]
     },
     "metadata": {},
     "output_type": "display_data"
    },
    {
     "data": {
      "text/plain": [
       "12"
      ]
     },
     "metadata": {},
     "output_type": "display_data"
    },
    {
     "data": {
      "text/plain": [
       "12×12 Matrix{Float64}:\n",
       " 1.0  0.0  0.0   0.0  0.0  0.0  0.0  0.0  0.0   0.0  0.0  0.0\n",
       " 0.0  1.0  0.0  -0.0  0.0  0.0  0.0  0.0  0.0  -0.0  0.0  0.0\n",
       " 0.0  0.0  1.0   0.0  0.0  0.0  0.0  0.0  0.0   0.0  0.0  0.0\n",
       " 0.0  0.0  0.0   1.0  0.0  0.0  0.0  0.0  0.0   0.0  0.0  0.0\n",
       " 0.0  0.0  0.0   0.0  1.0  0.0  0.0  0.0  0.0   0.0  0.0  0.0\n",
       " 0.0  0.0  0.0   0.0  0.0  1.0  0.0  0.0  0.0   0.0  0.0  0.0\n",
       " 0.0  0.0  0.0   0.0  2.0  0.0  1.0  0.0  0.0   0.0  0.0  0.0\n",
       " 0.0  0.0  0.0  -2.0  0.0  0.0  0.0  1.0  0.0  -0.0  0.0  0.0\n",
       " 0.0  0.0  0.0   0.0  0.0  0.0  0.0  0.0  1.0   0.0  0.0  0.0\n",
       " 0.0  0.0  0.0   0.0  0.0  0.0  0.0  0.0  0.0   1.0  0.0  0.0\n",
       " 0.0  0.0  0.0   0.0  0.0  0.0  0.0  0.0  0.0   0.0  1.0  0.0\n",
       " 0.0  0.0  0.0   0.0  0.0  0.0  0.0  0.0  0.0   0.0  0.0  1.0"
      ]
     },
     "metadata": {},
     "output_type": "display_data"
    },
    {
     "data": {
      "text/plain": [
       "12"
      ]
     },
     "metadata": {},
     "output_type": "display_data"
    },
    {
     "data": {
      "text/plain": [
       "\"B̃\""
      ]
     },
     "metadata": {},
     "output_type": "display_data"
    },
    {
     "data": {
      "text/plain": [
       "12×4 Matrix{Float64}:\n",
       " -2.72407e-5    2.72407e-5    2.72407e-5   -2.72407e-5\n",
       "  2.72407e-5    2.72407e-5   -2.72407e-5   -2.72407e-5\n",
       "  0.000350357   0.000350357   0.000350357   0.000350357\n",
       " -0.00388757   -0.00388757    0.00388757    0.00388757\n",
       " -0.00388757    0.00388757    0.00388757   -0.00388757\n",
       " -0.000312949   0.000312949  -0.000312949   0.000312949\n",
       " -0.00217926    0.00217926    0.00217926   -0.00217926\n",
       "  0.00217926    0.00217926   -0.00217926   -0.00217926\n",
       "  0.0140143     0.0140143     0.0140143     0.0140143\n",
       " -0.0466508    -0.0466508     0.0466508     0.0466508\n",
       " -0.0466508     0.0466508     0.0466508    -0.0466508\n",
       " -0.00375539    0.00375539   -0.00375539    0.00375539"
      ]
     },
     "metadata": {},
     "output_type": "display_data"
    },
    {
     "data": {
      "text/plain": [
       "4"
      ]
     },
     "metadata": {},
     "output_type": "display_data"
    },
    {
     "data": {
      "text/plain": [
       "12×4 Matrix{Float64}:\n",
       " -0.0   0.0   0.0  -0.0\n",
       "  0.0   0.0  -0.0  -0.0\n",
       "  0.0   0.0   0.0   0.0\n",
       " -0.0  -0.0   0.0   0.0\n",
       " -0.0   0.0   0.0  -0.0\n",
       " -0.0   0.0  -0.0   0.0\n",
       " -0.0   0.0   0.0  -0.0\n",
       "  0.0   0.0  -0.0  -0.0\n",
       "  0.0   0.0   0.0   0.0\n",
       " -0.0  -0.0   0.0   0.0\n",
       " -0.0   0.0   0.0  -0.0\n",
       " -0.0   0.0  -0.0   0.0"
      ]
     },
     "metadata": {},
     "output_type": "display_data"
    },
    {
     "data": {
      "text/plain": [
       "0"
      ]
     },
     "metadata": {},
     "output_type": "display_data"
    },
    {
     "data": {
      "text/plain": [
       "\"Kinf\""
      ]
     },
     "metadata": {},
     "output_type": "display_data"
    },
    {
     "data": {
      "text/plain": [
       "4×12 Matrix{Float64}:\n",
       " -1.83749   1.83749  6.44987  -16.898  …  -6.40025  -6.40025  -16.0989\n",
       "  1.83749   1.83749  6.44987  -16.898     -6.40025   6.40025   16.0989\n",
       "  1.83749  -1.83749  6.44987   16.898      6.40025   6.40025  -16.0989\n",
       " -1.83749  -1.83749  6.44987   16.898      6.40025  -6.40025   16.0989"
      ]
     },
     "metadata": {},
     "output_type": "display_data"
    },
    {
     "data": {
      "text/plain": [
       "4"
      ]
     },
     "metadata": {},
     "output_type": "display_data"
    },
    {
     "data": {
      "text/plain": [
       "4×12 Matrix{Float64}:\n",
       " -2.0   2.0  6.0  -17.0  -17.0  -2.0  -2.0   2.0  7.0  -6.0  -6.0  -16.0\n",
       "  2.0   2.0  6.0  -17.0   17.0   2.0   2.0   2.0  7.0  -6.0   6.0   16.0\n",
       "  2.0  -2.0  6.0   17.0   17.0  -2.0   2.0  -2.0  7.0   6.0   6.0  -16.0\n",
       " -2.0  -2.0  6.0   17.0  -17.0   2.0  -2.0  -2.0  7.0   6.0  -6.0   16.0"
      ]
     },
     "metadata": {},
     "output_type": "display_data"
    },
    {
     "data": {
      "text/plain": [
       "4"
      ]
     },
     "metadata": {},
     "output_type": "display_data"
    },
    {
     "data": {
      "text/plain": [
       "\"Pinf\""
      ]
     },
     "metadata": {},
     "output_type": "display_data"
    },
    {
     "data": {
      "text/plain": [
       "12×12 Matrix{Float64}:\n",
       "  24.8744         -1.8665e-16    7.30771e-17  …    1.30261       1.69372e-16\n",
       "  -1.03206e-16    24.8744        3.23339e-17       8.18398e-17  -3.10442e-16\n",
       "  -7.36164e-17    -5.06821e-16  22.5972            2.12209e-16   6.45026e-16\n",
       "   5.7444e-15   -183.057        -7.27375e-15      -7.18163e-15   4.0693e-14\n",
       " 183.057          -1.89679e-14   5.55336e-15     112.887         2.1217e-14\n",
       "  -1.58178e-15    -1.00953e-15   1.20369e-15  …   -3.48161e-15  26.8687\n",
       "   4.84651        -2.30815e-16   8.51072e-17       1.57608       2.19105e-16\n",
       "  -1.19915e-16     4.84651       5.20044e-17       9.8516e-17   -4.07056e-16\n",
       "  -1.23399e-16    -5.96124e-16   2.20085           2.41656e-16   6.97261e-16\n",
       "   6.77433e-18    -0.325653     -8.88037e-17      -7.22349e-17   4.67733e-16\n",
       "   0.325653       -1.44179e-16   2.58089e-17  …    1.31723       2.0116e-16\n",
       "  -3.20679e-16    -1.97781e-16   1.74569e-16      -5.85287e-16   4.91805"
      ]
     },
     "metadata": {},
     "output_type": "display_data"
    },
    {
     "data": {
      "text/plain": [
       "12"
      ]
     },
     "metadata": {},
     "output_type": "display_data"
    },
    {
     "data": {
      "text/plain": [
       "12×12 Matrix{Float64}:\n",
       "  25.0    -0.0   0.0    -0.0    16.0  …     0.0  -0.0   -0.0    1.0   0.0\n",
       "  -0.0    25.0   0.0   -16.0     0.0        5.0  -0.0   -1.0    0.0  -0.0\n",
       "  -0.0    -0.0  23.0     0.0    -0.0       -0.0   2.0    0.0    0.0   0.0\n",
       "   0.0  -183.0  -0.0  1302.0    -0.0     -217.0   0.0  113.0   -0.0   0.0\n",
       " 183.0    -0.0   0.0    -0.0  1302.0        0.0  -0.0   -0.0  113.0   0.0\n",
       "  -0.0    -0.0   0.0     0.0    -0.0  …    -0.0   0.0    0.0   -0.0  27.0\n",
       "   5.0    -0.0   0.0    -0.0    20.0        0.0  -0.0   -0.0    2.0   0.0\n",
       "  -0.0     5.0   0.0   -20.0     0.0        6.0  -0.0   -2.0    0.0  -0.0\n",
       "  -0.0    -0.0   2.0     0.0    -0.0       -0.0   3.0    0.0    0.0   0.0\n",
       "   0.0    -0.0  -0.0     3.0    -0.0       -0.0  -0.0    1.0   -0.0   0.0\n",
       "   0.0    -0.0   0.0    -0.0     3.0  …     0.0  -0.0   -0.0    1.0   0.0\n",
       "  -0.0    -0.0   0.0     0.0    -0.0       -0.0   0.0    0.0   -0.0   5.0"
      ]
     },
     "metadata": {},
     "output_type": "display_data"
    },
    {
     "data": {
      "text/plain": [
       "12"
      ]
     },
     "metadata": {},
     "output_type": "display_data"
    },
    {
     "data": {
      "text/plain": [
       "\"Qu1\""
      ]
     },
     "metadata": {},
     "output_type": "display_data"
    },
    {
     "data": {
      "text/plain": [
       "4×12 Matrix{Float64}:\n",
       " -0.000367898   0.000367898  0.0583007  …  -2.52015  -2.52015  -3.16717\n",
       "  0.000367898   0.000367898  0.0583007     -2.52015   2.52015   3.16717\n",
       "  0.000367898  -0.000367898  0.0583007      2.52015   2.52015  -3.16717\n",
       " -0.000367898  -0.000367898  0.0583007      2.52015  -2.52015   3.16717"
      ]
     },
     "metadata": {},
     "output_type": "display_data"
    },
    {
     "data": {
      "text/plain": [
       "4"
      ]
     },
     "metadata": {},
     "output_type": "display_data"
    },
    {
     "data": {
      "text/plain": [
       "4×12 Matrix{Float64}:\n",
       " -0.0   0.0  0.0  -0.0  -0.0  -0.0  -0.0   0.0  2.0  -3.0  -3.0  -3.0\n",
       "  0.0   0.0  0.0  -0.0   0.0   0.0   0.0   0.0  2.0  -3.0   3.0   3.0\n",
       "  0.0  -0.0  0.0   0.0   0.0  -0.0   0.0  -0.0  2.0   3.0   3.0  -3.0\n",
       " -0.0  -0.0  0.0   0.0  -0.0   0.0  -0.0  -0.0  2.0   3.0  -3.0   3.0"
      ]
     },
     "metadata": {},
     "output_type": "display_data"
    },
    {
     "data": {
      "text/plain": [
       "4"
      ]
     },
     "metadata": {},
     "output_type": "display_data"
    },
    {
     "data": {
      "text/plain": [
       "\"Qu2\""
      ]
     },
     "metadata": {},
     "output_type": "display_data"
    },
    {
     "data": {
      "text/plain": [
       "4×4 Matrix{Float64}:\n",
       "  0.0607875  -0.0066821   0.0526643  -0.0066821\n",
       " -0.0066821   0.0607875  -0.0066821   0.0526643\n",
       "  0.0526643  -0.0066821   0.0607875  -0.0066821\n",
       " -0.0066821   0.0526643  -0.0066821   0.0607875"
      ]
     },
     "metadata": {},
     "output_type": "display_data"
    },
    {
     "data": {
      "text/plain": [
       "4"
      ]
     },
     "metadata": {},
     "output_type": "display_data"
    },
    {
     "data": {
      "text/plain": [
       "4×4 Matrix{Float64}:\n",
       "  0.0  -0.0   0.0  -0.0\n",
       " -0.0   0.0  -0.0   0.0\n",
       "  0.0  -0.0   0.0  -0.0\n",
       " -0.0   0.0  -0.0   0.0"
      ]
     },
     "metadata": {},
     "output_type": "display_data"
    },
    {
     "data": {
      "text/plain": [
       "0"
      ]
     },
     "metadata": {},
     "output_type": "display_data"
    },
    {
     "data": {
      "text/plain": [
       "\"AmBKt\""
      ]
     },
     "metadata": {},
     "output_type": "display_data"
    },
    {
     "data": {
      "text/plain": [
       "12×12 Matrix{Float64}:\n",
       "  0.9998       -4.74338e-20  -2.1684e-19   …    -1.37152      -4.16334e-17\n",
       "  3.38813e-20   0.9998       -5.42101e-19        2.77556e-16   3.46945e-17\n",
       "  2.71051e-20  -8.13152e-20   0.990961           2.22045e-16   2.22045e-16\n",
       " -6.50521e-18  -0.446685      4.62593e-17       -4.14483e-14  -2.22045e-15\n",
       "  0.446685      3.61401e-18  -1.50343e-16     -140.143        -1.22125e-14\n",
       " -5.42101e-19  -9.03502e-20   1.87928e-17  …    -2.96059e-15  -1.45413\n",
       "  0.049751     -2.71051e-20  -2.05998e-18       -1.70579      -6.245e-17\n",
       "  6.77626e-20   0.049751     -1.0842e-18         3.88578e-16   3.747e-16\n",
       " -2.71051e-20  -2.71051e-20   0.0397872         -2.22045e-16   2.35922e-16\n",
       " -6.77626e-21  -0.000409581   2.1684e-18        -5.55112e-17   3.46945e-18\n",
       "  0.000409581   1.35525e-20   4.33681e-19  …    -0.194308     -1.00614e-16\n",
       " -1.35525e-20  -1.35525e-20   1.95156e-18        0.0           0.75817"
      ]
     },
     "metadata": {},
     "output_type": "display_data"
    },
    {
     "data": {
      "text/plain": [
       "12"
      ]
     },
     "metadata": {},
     "output_type": "display_data"
    },
    {
     "data": {
      "text/plain": [
       "12×12 Matrix{Float64}:\n",
       "  1.0  -0.0  -0.0   0.0  -0.0  -0.0  -0.0   -0.0  -0.0     0.0    -1.0  -0.0\n",
       "  0.0   1.0  -0.0   0.0   0.0   0.0   0.0   -0.0  -0.0     1.0     0.0   0.0\n",
       "  0.0  -0.0   1.0   0.0   0.0   0.0   0.0   -0.0  -0.0     0.0     0.0   0.0\n",
       " -0.0  -0.0   0.0   1.0  -0.0  -0.0  -0.0  -17.0   0.0  -140.0    -0.0  -0.0\n",
       "  0.0   0.0  -0.0  -0.0   1.0  -0.0  17.0    0.0  -0.0    -0.0  -140.0  -0.0\n",
       " -0.0  -0.0   0.0   0.0  -0.0   1.0  -0.0   -0.0   0.0     0.0    -0.0  -1.0\n",
       "  0.0  -0.0  -0.0   0.0  -0.0  -0.0   1.0   -0.0  -0.0     0.0    -2.0  -0.0\n",
       "  0.0   0.0  -0.0   0.0   0.0   0.0   0.0    1.0  -0.0     2.0     0.0   0.0\n",
       " -0.0  -0.0   0.0   0.0  -0.0   0.0   0.0   -0.0   1.0     0.0    -0.0   0.0\n",
       " -0.0  -0.0   0.0   0.0  -0.0   0.0  -0.0   -0.0   0.0    -0.0    -0.0   0.0\n",
       "  0.0   0.0   0.0  -0.0   0.0  -0.0   0.0    0.0   0.0    -0.0    -0.0  -0.0\n",
       " -0.0  -0.0   0.0   0.0   0.0   0.0   0.0    0.0   0.0     0.0     0.0   1.0"
      ]
     },
     "metadata": {},
     "output_type": "display_data"
    },
    {
     "data": {
      "text/plain": [
       "10"
      ]
     },
     "metadata": {},
     "output_type": "display_data"
    },
    {
     "data": {
      "text/plain": [
       "\"coeff_d2p\""
      ]
     },
     "metadata": {},
     "output_type": "display_data"
    },
    {
     "data": {
      "text/plain": [
       "12×4 Matrix{Float64}:\n",
       "  9.52988e-18   6.67091e-17  -1.49755e-17  -5.85407e-17\n",
       " -1.72899e-16  -2.30078e-16   1.94682e-16   2.35524e-16\n",
       "  9.52988e-17   1.36141e-17  -1.19804e-16  -1.0619e-16\n",
       " -1.59739e-15   6.24434e-15  -4.35652e-16  -7.26086e-15\n",
       "  7.26086e-16  -4.79217e-15  -2.03304e-15   7.69651e-15\n",
       " -2.90434e-16   4.90108e-16   1.81521e-16  -7.44238e-16\n",
       "  1.26611e-16  -9.39374e-17  -1.26611e-16   1.14359e-16\n",
       "  6.67091e-17  -6.39863e-17   2.72282e-18   5.44564e-18\n",
       "  2.17826e-17   2.17826e-17  -5.44564e-17  -1.36141e-16\n",
       " -1.08913e-17   0.0          -8.16847e-18  -1.97405e-17\n",
       "  9.52988e-18  -2.65475e-17  -3.06317e-17   3.67581e-17\n",
       "  0.0           2.72282e-17   2.72282e-18  -8.16847e-17"
      ]
     },
     "metadata": {},
     "output_type": "display_data"
    },
    {
     "data": {
      "text/plain": [
       "4"
      ]
     },
     "metadata": {},
     "output_type": "display_data"
    },
    {
     "data": {
      "text/plain": [
       "12×4 Matrix{Float64}:\n",
       "  0.0   0.0  -0.0  -0.0\n",
       " -0.0  -0.0   0.0   0.0\n",
       "  0.0   0.0  -0.0  -0.0\n",
       " -0.0   0.0  -0.0  -0.0\n",
       "  0.0  -0.0  -0.0   0.0\n",
       " -0.0   0.0   0.0  -0.0\n",
       "  0.0  -0.0  -0.0   0.0\n",
       "  0.0  -0.0   0.0   0.0\n",
       "  0.0   0.0  -0.0  -0.0\n",
       " -0.0   0.0  -0.0  -0.0\n",
       "  0.0  -0.0  -0.0   0.0\n",
       "  0.0   0.0   0.0  -0.0"
      ]
     },
     "metadata": {},
     "output_type": "display_data"
    },
    {
     "data": {
      "text/plain": [
       "0"
      ]
     },
     "metadata": {},
     "output_type": "display_data"
    },
    {
     "data": {
      "text/plain": [
       "\"Kt\""
      ]
     },
     "metadata": {},
     "output_type": "display_data"
    },
    {
     "data": {
      "text/plain": [
       "12×4 Matrix{Float64}:\n",
       " -0.0011052     0.0011052     0.0011052    -0.0011052\n",
       "  0.0011052     0.0011052    -0.0011052    -0.0011052\n",
       "  0.00387944    0.00387944    0.00387944    0.00387944\n",
       " -0.11293      -0.11293       0.11293       0.11293\n",
       " -0.11293       0.11293       0.11293      -0.11293\n",
       " -0.0145561     0.0145561    -0.0145561     0.0145561\n",
       " -0.00137456    0.00137456    0.00137456   -0.00137456\n",
       "  0.00137456    0.00137456   -0.00137456   -0.00137456\n",
       "  0.00438322    0.00438322    0.00438322    0.00438322\n",
       " -0.000962399  -0.000962399   0.000962399   0.000962399\n",
       " -0.000962399   0.000962399   0.000962399  -0.000962399\n",
       " -0.00242077    0.00242077   -0.00242077    0.00242077"
      ]
     },
     "metadata": {},
     "output_type": "display_data"
    },
    {
     "data": {
      "text/plain": [
       "4"
      ]
     },
     "metadata": {},
     "output_type": "display_data"
    },
    {
     "data": {
      "text/plain": [
       "12×4 Matrix{Float64}:\n",
       " -0.0   0.0   0.0  -0.0\n",
       "  0.0   0.0  -0.0  -0.0\n",
       "  0.0   0.0   0.0   0.0\n",
       " -0.0  -0.0   0.0   0.0\n",
       " -0.0   0.0   0.0  -0.0\n",
       " -0.0   0.0  -0.0   0.0\n",
       " -0.0   0.0   0.0  -0.0\n",
       "  0.0   0.0  -0.0  -0.0\n",
       "  0.0   0.0   0.0   0.0\n",
       " -0.0  -0.0   0.0   0.0\n",
       " -0.0   0.0   0.0  -0.0\n",
       " -0.0   0.0  -0.0   0.0"
      ]
     },
     "metadata": {},
     "output_type": "display_data"
    },
    {
     "data": {
      "text/plain": [
       "0"
      ]
     },
     "metadata": {},
     "output_type": "display_data"
    },
    {
     "data": {
      "text/plain": [
       "\"ρ\""
      ]
     },
     "metadata": {},
     "output_type": "display_data"
    },
    {
     "data": {
      "text/plain": [
       "4×4 Diagonal{Float64, Vector{Float64}}:\n",
       " 5.0   ⋅    ⋅    ⋅ \n",
       "  ⋅   5.0   ⋅    ⋅ \n",
       "  ⋅    ⋅   5.0   ⋅ \n",
       "  ⋅    ⋅    ⋅   5.0"
      ]
     },
     "metadata": {},
     "output_type": "display_data"
    },
    {
     "data": {
      "text/plain": [
       "4"
      ]
     },
     "metadata": {},
     "output_type": "display_data"
    },
    {
     "data": {
      "text/plain": [
       "4×4 Diagonal{Float64, Vector{Float64}}:\n",
       " 5.0   ⋅    ⋅    ⋅ \n",
       "  ⋅   5.0   ⋅    ⋅ \n",
       "  ⋅    ⋅   5.0   ⋅ \n",
       "  ⋅    ⋅    ⋅   5.0"
      ]
     },
     "metadata": {},
     "output_type": "display_data"
    },
    {
     "data": {
      "text/plain": [
       "4"
      ]
     },
     "metadata": {},
     "output_type": "display_data"
    },
    {
     "data": {
      "text/plain": [
       "\"Q\""
      ]
     },
     "metadata": {},
     "output_type": "display_data"
    },
    {
     "data": {
      "text/plain": [
       "12×12 Matrix{Float64}:\n",
       " 1.0  0.0  0.0  0.0  0.0  0.0  0.0  0.0  0.0  0.0  0.0  0.0\n",
       " 0.0  1.0  0.0  0.0  0.0  0.0  0.0  0.0  0.0  0.0  0.0  0.0\n",
       " 0.0  0.0  1.0  0.0  0.0  0.0  0.0  0.0  0.0  0.0  0.0  0.0\n",
       " 0.0  0.0  0.0  1.0  0.0  0.0  0.0  0.0  0.0  0.0  0.0  0.0\n",
       " 0.0  0.0  0.0  0.0  1.0  0.0  0.0  0.0  0.0  0.0  0.0  0.0\n",
       " 0.0  0.0  0.0  0.0  0.0  1.0  0.0  0.0  0.0  0.0  0.0  0.0\n",
       " 0.0  0.0  0.0  0.0  0.0  0.0  1.0  0.0  0.0  0.0  0.0  0.0\n",
       " 0.0  0.0  0.0  0.0  0.0  0.0  0.0  1.0  0.0  0.0  0.0  0.0\n",
       " 0.0  0.0  0.0  0.0  0.0  0.0  0.0  0.0  1.0  0.0  0.0  0.0\n",
       " 0.0  0.0  0.0  0.0  0.0  0.0  0.0  0.0  0.0  1.0  0.0  0.0\n",
       " 0.0  0.0  0.0  0.0  0.0  0.0  0.0  0.0  0.0  0.0  1.0  0.0\n",
       " 0.0  0.0  0.0  0.0  0.0  0.0  0.0  0.0  0.0  0.0  0.0  1.0"
      ]
     },
     "metadata": {},
     "output_type": "display_data"
    },
    {
     "data": {
      "text/plain": [
       "12"
      ]
     },
     "metadata": {},
     "output_type": "display_data"
    },
    {
     "data": {
      "text/plain": [
       "12×12 Matrix{Float64}:\n",
       " 1.0  0.0  0.0  0.0  0.0  0.0  0.0  0.0  0.0  0.0  0.0  0.0\n",
       " 0.0  1.0  0.0  0.0  0.0  0.0  0.0  0.0  0.0  0.0  0.0  0.0\n",
       " 0.0  0.0  1.0  0.0  0.0  0.0  0.0  0.0  0.0  0.0  0.0  0.0\n",
       " 0.0  0.0  0.0  1.0  0.0  0.0  0.0  0.0  0.0  0.0  0.0  0.0\n",
       " 0.0  0.0  0.0  0.0  1.0  0.0  0.0  0.0  0.0  0.0  0.0  0.0\n",
       " 0.0  0.0  0.0  0.0  0.0  1.0  0.0  0.0  0.0  0.0  0.0  0.0\n",
       " 0.0  0.0  0.0  0.0  0.0  0.0  1.0  0.0  0.0  0.0  0.0  0.0\n",
       " 0.0  0.0  0.0  0.0  0.0  0.0  0.0  1.0  0.0  0.0  0.0  0.0\n",
       " 0.0  0.0  0.0  0.0  0.0  0.0  0.0  0.0  1.0  0.0  0.0  0.0\n",
       " 0.0  0.0  0.0  0.0  0.0  0.0  0.0  0.0  0.0  1.0  0.0  0.0\n",
       " 0.0  0.0  0.0  0.0  0.0  0.0  0.0  0.0  0.0  0.0  1.0  0.0\n",
       " 0.0  0.0  0.0  0.0  0.0  0.0  0.0  0.0  0.0  0.0  0.0  1.0"
      ]
     },
     "metadata": {},
     "output_type": "display_data"
    },
    {
     "data": {
      "text/plain": [
       "12"
      ]
     },
     "metadata": {},
     "output_type": "display_data"
    },
    {
     "data": {
      "text/plain": [
       "\"R\""
      ]
     },
     "metadata": {},
     "output_type": "display_data"
    },
    {
     "data": {
      "text/plain": [
       "4×4 Matrix{Float64}:\n",
       " 1.0  0.0  0.0  0.0\n",
       " 0.0  1.0  0.0  0.0\n",
       " 0.0  0.0  1.0  0.0\n",
       " 0.0  0.0  0.0  1.0"
      ]
     },
     "metadata": {},
     "output_type": "display_data"
    },
    {
     "data": {
      "text/plain": [
       "4"
      ]
     },
     "metadata": {},
     "output_type": "display_data"
    },
    {
     "data": {
      "text/plain": [
       "4×4 Matrix{Float64}:\n",
       " 1.0  0.0  0.0  0.0\n",
       " 0.0  1.0  0.0  0.0\n",
       " 0.0  0.0  1.0  0.0\n",
       " 0.0  0.0  0.0  1.0"
      ]
     },
     "metadata": {},
     "output_type": "display_data"
    },
    {
     "data": {
      "text/plain": [
       "4"
      ]
     },
     "metadata": {},
     "output_type": "display_data"
    },
    {
     "data": {
      "text/plain": [
       "\"Qf\""
      ]
     },
     "metadata": {},
     "output_type": "display_data"
    },
    {
     "data": {
      "text/plain": [
       "12×12 Matrix{Float64}:\n",
       " 1.0  0.0  0.0  0.0  0.0  0.0  0.0  0.0  0.0  0.0  0.0  0.0\n",
       " 0.0  1.0  0.0  0.0  0.0  0.0  0.0  0.0  0.0  0.0  0.0  0.0\n",
       " 0.0  0.0  1.0  0.0  0.0  0.0  0.0  0.0  0.0  0.0  0.0  0.0\n",
       " 0.0  0.0  0.0  1.0  0.0  0.0  0.0  0.0  0.0  0.0  0.0  0.0\n",
       " 0.0  0.0  0.0  0.0  1.0  0.0  0.0  0.0  0.0  0.0  0.0  0.0\n",
       " 0.0  0.0  0.0  0.0  0.0  1.0  0.0  0.0  0.0  0.0  0.0  0.0\n",
       " 0.0  0.0  0.0  0.0  0.0  0.0  1.0  0.0  0.0  0.0  0.0  0.0\n",
       " 0.0  0.0  0.0  0.0  0.0  0.0  0.0  1.0  0.0  0.0  0.0  0.0\n",
       " 0.0  0.0  0.0  0.0  0.0  0.0  0.0  0.0  1.0  0.0  0.0  0.0\n",
       " 0.0  0.0  0.0  0.0  0.0  0.0  0.0  0.0  0.0  1.0  0.0  0.0\n",
       " 0.0  0.0  0.0  0.0  0.0  0.0  0.0  0.0  0.0  0.0  1.0  0.0\n",
       " 0.0  0.0  0.0  0.0  0.0  0.0  0.0  0.0  0.0  0.0  0.0  1.0"
      ]
     },
     "metadata": {},
     "output_type": "display_data"
    },
    {
     "data": {
      "text/plain": [
       "12"
      ]
     },
     "metadata": {},
     "output_type": "display_data"
    },
    {
     "data": {
      "text/plain": [
       "12×12 Matrix{Float64}:\n",
       " 1.0  0.0  0.0  0.0  0.0  0.0  0.0  0.0  0.0  0.0  0.0  0.0\n",
       " 0.0  1.0  0.0  0.0  0.0  0.0  0.0  0.0  0.0  0.0  0.0  0.0\n",
       " 0.0  0.0  1.0  0.0  0.0  0.0  0.0  0.0  0.0  0.0  0.0  0.0\n",
       " 0.0  0.0  0.0  1.0  0.0  0.0  0.0  0.0  0.0  0.0  0.0  0.0\n",
       " 0.0  0.0  0.0  0.0  1.0  0.0  0.0  0.0  0.0  0.0  0.0  0.0\n",
       " 0.0  0.0  0.0  0.0  0.0  1.0  0.0  0.0  0.0  0.0  0.0  0.0\n",
       " 0.0  0.0  0.0  0.0  0.0  0.0  1.0  0.0  0.0  0.0  0.0  0.0\n",
       " 0.0  0.0  0.0  0.0  0.0  0.0  0.0  1.0  0.0  0.0  0.0  0.0\n",
       " 0.0  0.0  0.0  0.0  0.0  0.0  0.0  0.0  1.0  0.0  0.0  0.0\n",
       " 0.0  0.0  0.0  0.0  0.0  0.0  0.0  0.0  0.0  1.0  0.0  0.0\n",
       " 0.0  0.0  0.0  0.0  0.0  0.0  0.0  0.0  0.0  0.0  1.0  0.0\n",
       " 0.0  0.0  0.0  0.0  0.0  0.0  0.0  0.0  0.0  0.0  0.0  1.0"
      ]
     },
     "metadata": {},
     "output_type": "display_data"
    },
    {
     "data": {
      "text/plain": [
       "12"
      ]
     },
     "metadata": {},
     "output_type": "display_data"
    }
   ],
   "source": [
    "display(\"Ã\")\n",
    "display(Ã_fixed_preround)\n",
    "display(rank(Ã_fixed_preround))\n",
    "display(Ã_fixed)\n",
    "display(rank(Ã_fixed))\n",
    "\n",
    "display(\"B̃\")\n",
    "display(B̃_fixed_preround)\n",
    "display(rank(B̃_fixed_preround))\n",
    "display(B̃_fixed)\n",
    "display(rank(B̃_fixed))\n",
    "\n",
    "display(\"Kinf\")\n",
    "display(Kinf_fixed_preround)\n",
    "display(rank(Kinf_fixed_preround))\n",
    "display(Kinf_fixed)\n",
    "display(rank(Kinf_fixed))\n",
    "\n",
    "display(\"Pinf\")\n",
    "display(Pinf_fixed_preround)\n",
    "display(rank(Pinf_fixed_preround))\n",
    "display(Pinf_fixed)\n",
    "display(rank(Pinf_fixed))\n",
    "\n",
    "display(\"Qu1\")\n",
    "display(Qu1_fixed_preround)\n",
    "display(rank(Qu1_fixed_preround))\n",
    "display(Qu1_fixed)\n",
    "display(rank(Qu1_fixed))\n",
    "\n",
    "display(\"Qu2\")\n",
    "display(Qu2_fixed_preround)\n",
    "display(rank(Qu2_fixed_preround))\n",
    "display(Qu2_fixed)\n",
    "display(rank(Qu2_fixed))\n",
    "\n",
    "display(\"AmBKt\")\n",
    "display(AmBKt_fixed_preround)\n",
    "display(rank(AmBKt_fixed_preround))\n",
    "display(AmBKt_fixed)\n",
    "display(rank(AmBKt_fixed))\n",
    "\n",
    "display(\"coeff_d2p\")\n",
    "display(coeff_d2p_fixed_preround)\n",
    "display(rank(coeff_d2p_fixed_preround))\n",
    "display(coeff_d2p_fixed)\n",
    "display(rank(coeff_d2p_fixed))\n",
    "\n",
    "display(\"Kt\")\n",
    "display(Kt_fixed_preround)\n",
    "display(rank(Kt_fixed_preround))\n",
    "display(Kt_fixed)\n",
    "display(rank(Kt_fixed))\n",
    "\n",
    "display(\"ρ\")\n",
    "display(ρ_fixed_preround)\n",
    "display(rank(ρ_fixed_preround))\n",
    "display(ρ_fixed)\n",
    "display(rank(ρ_fixed))\n",
    "\n",
    "display(\"Q\")\n",
    "display(Q_fixed_preround)\n",
    "display(rank(Q_fixed_preround))\n",
    "display(Q_fixed)\n",
    "display(rank(Q_fixed))\n",
    "\n",
    "display(\"R\")\n",
    "display(R_fixed_preround)\n",
    "display(rank(R_fixed_preround))\n",
    "display(R_fixed)\n",
    "display(rank(R_fixed))\n",
    "\n",
    "display(\"Qf\")\n",
    "display(Qf_fixed_preround)\n",
    "display(rank(Qf_fixed_preround))\n",
    "display(Qf_fixed)\n",
    "display(rank(Qf_fixed))"
   ]
  }
 ],
 "metadata": {
  "kernelspec": {
   "display_name": "Julia 1.6.7",
   "language": "julia",
   "name": "julia-1.6"
  },
  "language_info": {
   "file_extension": ".jl",
   "mimetype": "application/julia",
   "name": "julia",
   "version": "1.6.7"
  },
  "orig_nbformat": 4
 },
 "nbformat": 4,
 "nbformat_minor": 2
}
