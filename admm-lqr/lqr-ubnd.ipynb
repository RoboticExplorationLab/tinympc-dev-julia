{
 "cells": [
  {
   "cell_type": "code",
   "execution_count": 21,
   "id": "ab2235ce-04bf-4ed1-82c7-6eb1c2f0bd1d",
   "metadata": {},
   "outputs": [
    {
     "name": "stderr",
     "output_type": "stream",
     "text": [
      "\u001b[32m\u001b[1m  Activating\u001b[22m\u001b[39m environment at `~/SSD/Code/Julia/tinympc-julia/admm-lqr/Project.toml`\n"
     ]
    }
   ],
   "source": [
    "import Pkg; Pkg.activate(@__DIR__); Pkg.instantiate()"
   ]
  },
  {
   "cell_type": "code",
   "execution_count": 41,
   "id": "9e2caea3-a473-4674-9614-e5764f8c07e0",
   "metadata": {},
   "outputs": [
    {
     "name": "stderr",
     "output_type": "stream",
     "text": [
      "\u001b[32m\u001b[1m    Updating\u001b[22m\u001b[39m registry at `~/.julia/registries/General`\n"
     ]
    },
    {
     "name": "stderr",
     "output_type": "stream",
     "text": [
      "\u001b[32m\u001b[1m    Updating\u001b[22m\u001b[39m git-repo `https://github.com/JuliaRegistries/General`\n"
     ]
    },
    {
     "name": "stderr",
     "output_type": "stream",
     "text": [
      "\u001b[32m\u001b[1m   Resolving\u001b[22m\u001b[39m package versions...\n"
     ]
    },
    {
     "name": "stderr",
     "output_type": "stream",
     "text": [
      "\u001b[32m\u001b[1m    Updating\u001b[22m\u001b[39m `~/SSD/Code/Julia/tinympc-julia/admm-lqr/Project.toml`\n",
      " \u001b[90m [d330b81b] \u001b[39m"
     ]
    },
    {
     "name": "stderr",
     "output_type": "stream",
     "text": [
      "\u001b[92m+ PyPlot v2.11.1\u001b[39m\n",
      "\u001b[32m\u001b[1m    Updating\u001b[22m\u001b[39m `~/SSD/Code/Julia/tinympc-julia/admm-lqr/Manifest.toml`\n",
      " \u001b[90m [3da002f7] \u001b[39m\u001b[92m+ ColorTypes v0.11.4\u001b[39m\n",
      " \u001b[90m [5ae59095] \u001b[39m\u001b[92m+ Colors v0.12.10\u001b[39m\n",
      " \u001b[90m [8f4d0f93] \u001b[39m\u001b[92m+ Conda v1.8.0\u001b[39m\n",
      " \u001b[90m [53c48c17] \u001b[39m\u001b[92m+ FixedPointNumbers v0.8.4\u001b[39m\n",
      " \u001b[90m [682c06a0] \u001b[39m\u001b[92m+ JSON v0.21.4\u001b[39m\n",
      " \u001b[90m [b964fa9f] \u001b[39m\u001b[92m+ LaTeXStrings v1.3.0\u001b[39m\n",
      " \u001b[90m [1914dd2f] \u001b[39m\u001b[92m+ MacroTools v0.5.10\u001b[39m\n",
      " \u001b[90m [69de0a69] \u001b[39m\u001b[92m+ Parsers v2.5.9\u001b[39m\n",
      " \u001b[90m [aea7be01] \u001b[39m\u001b[92m+ PrecompileTools v1.1.1\u001b[39m\n",
      " \u001b[90m [21216c6a] \u001b[39m\u001b[92m+ Preferences v1.4.0\u001b[39m\n",
      " \u001b[90m [438e738f] \u001b[39m\u001b[92m+ PyCall v1.95.1\u001b[39m\n",
      " \u001b[90m [d330b81b] \u001b[39m\u001b[92m+ PyPlot v2.11.1\u001b[39m\n",
      " \u001b[90m [189a3867] \u001b[39m\u001b[92m+ Reexport v1.2.2\u001b[39m\n",
      " \u001b[90m [81def892] \u001b[39m\u001b[92m+ VersionParsing v1.3.0\u001b[39m\n",
      " \u001b[90m [0dad84c5] \u001b[39m\u001b[92m+ ArgTools\u001b[39m\n",
      " \u001b[90m [56f22d72] \u001b[39m\u001b[92m+ Artifacts\u001b[39m\n",
      " \u001b[90m [2a0f44e3] \u001b[39m\u001b[92m+ Base64\u001b[39m\n",
      " \u001b[90m [ade2ca70] \u001b[39m\u001b[92m+ Dates\u001b[39m\n",
      " \u001b[90m [f43a241f] \u001b[39m\u001b[92m+ Downloads\u001b[39m\n",
      " \u001b[90m [b77e0a4c] \u001b[39m\u001b[92m+ InteractiveUtils\u001b[39m\n",
      " \u001b[90m [b27032c2] \u001b[39m\u001b[92m+ LibCURL\u001b[39m\n",
      " \u001b[90m [8f399da3] \u001b[39m\u001b[92m+ Libdl\u001b[39m\n",
      " \u001b[90m [37e2e46d] \u001b[39m\u001b[92m+ LinearAlgebra\u001b[39m\n",
      " \u001b[90m [56ddb016] \u001b[39m\u001b[92m+ Logging\u001b[39m\n",
      " \u001b[90m [d6f4376e] \u001b[39m\u001b[92m+ Markdown\u001b[39m\n",
      " \u001b[90m [a63ad114] \u001b[39m\u001b[92m+ Mmap\u001b[39m\n",
      " \u001b[90m [ca575930] \u001b[39m\u001b[92m+ NetworkOptions\u001b[39m\n",
      " \u001b[90m [de0858da] \u001b[39m\u001b[92m+ Printf\u001b[39m\n",
      " \u001b[90m [9a3f8284] \u001b[39m\u001b[92m+ Random\u001b[39m\n",
      " \u001b[90m [ea8e919c] \u001b[39m\u001b[92m+ SHA\u001b[39m\n",
      " \u001b[90m [9e88b42a] \u001b[39m\u001b[92m+ Serialization\u001b[39m\n",
      " \u001b[90m [6462fe0b] \u001b[39m\u001b[92m+ Sockets\u001b[39m\n",
      " \u001b[90m [2f01184e] \u001b[39m\u001b[92m+ SparseArrays\u001b[39m\n",
      " \u001b[90m [10745b16] \u001b[39m\u001b[92m+ Statistics\u001b[39m\n",
      " \u001b[90m [fa267f1f] \u001b[39m\u001b[92m+ TOML\u001b[39m\n",
      " \u001b[90m [8dfed614] \u001b[39m\u001b[92m+ Test\u001b[39m\n",
      " \u001b[90m [cf7118a7] \u001b[39m\u001b[92m+ UUIDs\u001b[39m\n",
      " \u001b[90m [4ec0a83e] \u001b[39m\u001b[92m+ Unicode\u001b[39m\n",
      " \u001b[90m [deac9b47] \u001b[39m\u001b[92m+ LibCURL_jll\u001b[39m\n",
      " \u001b[90m [29816b5a] \u001b[39m\u001b[92m+ LibSSH2_jll\u001b[39m\n",
      " \u001b[90m [c8ffd9c3] \u001b[39m\u001b[92m+ MbedTLS_jll\u001b[39m\n",
      " \u001b[90m [14a3606d] \u001b[39m\u001b[92m+ MozillaCACerts_jll\u001b[39m\n",
      " \u001b[90m [83775a58] \u001b[39m\u001b[92m+ Zlib_jll\u001b[39m\n",
      " \u001b[90m [8e850ede] \u001b[39m\u001b[92m+ nghttp2_jll\u001b[39m\n"
     ]
    }
   ],
   "source": [
    "using LinearAlgebra\n",
    "using PyPlot"
   ]
  },
  {
   "cell_type": "code",
   "execution_count": 42,
   "id": "34103b5a-8e27-4361-ad0e-4246db21f07b",
   "metadata": {},
   "outputs": [],
   "source": [
    "#2D Double-integrator dynamics\n",
    "h = 0.05 #20 Hz\n",
    "A = [I(2) h*I(2); zeros(2,2) I(2)]\n",
    "B = [0.5*h*h*I(2); h*I(2)];"
   ]
  },
  {
   "cell_type": "code",
   "execution_count": 43,
   "id": "537f28e3-bfde-470d-a715-8b42a4d3d8aa",
   "metadata": {},
   "outputs": [],
   "source": [
    "#Reference state trajectory to track (origin)\n",
    "t = 0:h:10\n",
    "N = length(t)\n",
    "xref = zeros(4,N)\n",
    "\n",
    "#Reference input trajectory\n",
    "uref = zeros(2,N-1);"
   ]
  },
  {
   "cell_type": "code",
   "execution_count": 44,
   "id": "870746b3-59f6-4566-bdd7-010b18def223",
   "metadata": {},
   "outputs": [
    {
     "data": {
      "text/plain": [
       "cost (generic function with 1 method)"
      ]
     },
     "metadata": {},
     "output_type": "display_data"
    }
   ],
   "source": [
    "#Cost Function\n",
    "# J = Σ 0.5*(x-xref)'*Q*(x-xref) + 0.5*(u-uref)*R*(u-uref) + 0.5*xn'*Qn*xn\n",
    "Qn = 10.0*I(4)\n",
    "Q = 10.0*I(4)\n",
    "R = 0.1*I(2)\n",
    "\n",
    "q = zeros(4,N)\n",
    "r = zeros(2,N-1)\n",
    "\n",
    "function cost(x,u)\n",
    "    J = 0.0\n",
    "    for k = 1:(N-1)\n",
    "        J += 0.5*(x[:,k]-xref[:,k])'*Q*(x[:,k]-xref[:,k]) + 0.5*(u[:,k]-uref[:,k])'*R*(u[:,k]-uref[:,k])\n",
    "    end\n",
    "    J += 0.5*(x[:,N]-xref[:,N])'*Qn*(x[:,N]-xref[:,N])\n",
    "    return J\n",
    "end"
   ]
  },
  {
   "cell_type": "code",
   "execution_count": 45,
   "id": "03a4fd8c-eb32-4d37-a141-5ddc2f2b49f2",
   "metadata": {},
   "outputs": [
    {
     "data": {
      "text/plain": [
       "cost_update! (generic function with 1 method)"
      ]
     },
     "metadata": {},
     "output_type": "display_data"
    }
   ],
   "source": [
    "#ADMM Functions\n",
    "function backward_pass!(A,B,Q,q,R,r,P,p,K,d)\n",
    "    #This is the standard Riccati backward pass with both linear and quadratic terms (like iLQR)\n",
    "    for k = (N-1):-1:1\n",
    "        K[:,:,k] .= (R + B'*P[:,:,k+1]*B)\\(B'*P[:,:,k+1]*A)\n",
    "        d[:,k] .= (R + B'*P[:,:,k+1]*B)\\(B'*p[:,k+1] + r[:,k])\n",
    "    \n",
    "        P[:,:,k] .= Q + K[:,:,k]'*R*K[:,:,k] + (A-B*K[:,:,k])'*P[:,:,k+1]*(A-B*K[:,:,k])\n",
    "        p[:,k] .= q[:,k] + (A-B*K[:,:,k])'*(p[:,k+1]-P[:,:,k+1]*B*d[:,k]) + K[:,:,k]'*(R*d[:,k]-r[:,k])\n",
    "    end\n",
    "end\n",
    "\n",
    "function backward_pass_grad!(A,B,q,R,r,P,p,K,d)\n",
    "    #This is just the linear/gradient term from the backward pass (no cost-to-go Hessian or K calculations)\n",
    "    for k = (N-1):-1:1\n",
    "        d[:,k] .= (R + B'*P[:,:,k+1]*B)\\(B'*p[:,k+1] + r[:,k])\n",
    "        p[:,k] .= q[:,k] + (A-B*K[:,:,k])'*(p[:,k+1]-P[:,:,k+1]*B*d[:,k]) + K[:,:,k]'*(R*d[:,k]-r[:,k])\n",
    "    end\n",
    "end\n",
    "\n",
    "function forward_pass!(A,B,K,d,x,u)\n",
    "    for k = 1:(N-1)\n",
    "        u[:,k] .= -K[:,:,k]*x[:,k] - d[:,k]\n",
    "        x[:,k+1] .= A*x[:,k] + B*u[:,k]\n",
    "    end\n",
    "end\n",
    "\n",
    "function update_pri!(A,B,q,R̃,r,P,p,K,d,x,u)\n",
    "    backward_pass_grad!(A,B,q,R̃,r,P,p,K,d)\n",
    "    forward_pass!(A,B,K,d,x,u)\n",
    "end\n",
    "function update_z!(u,z,y)\n",
    "    #This function clamps the controls to be within the bounds\n",
    "    for k = 1:(N-1)\n",
    "        z[:,k] .= min.(umax, max.(umin, u[:,k]+y[:,k]))\n",
    "    end\n",
    "end\n",
    "\n",
    "function update_y!(u,z,y)\n",
    "    #This function performs the standard AL multiplier update.\n",
    "    #Note that we're using the \"scaled form\" where y = λ/ρ\n",
    "    for k = 1:(N-1)\n",
    "        y[:,k] .= y[:,k] + u[:,k] - z[:,k]\n",
    "    end\n",
    "end\n",
    "\n",
    "function update_linear_cost!(z,y,r)\n",
    "    #This function updates the linear term in the control cost to handle the changing cost term from ADMM\n",
    "    for k = 1:(N-1)\n",
    "        r[:,k] .= -ρ*(z[:,k]-y[:,k])\n",
    "    end\n",
    "end"
   ]
  },
  {
   "cell_type": "code",
   "execution_count": 46,
   "id": "950744e6-41e1-420e-9a62-a6f3283604b6",
   "metadata": {},
   "outputs": [],
   "source": [
    "#Control Bounds\n",
    "umin = -[1.0; 1.0]\n",
    "umax = [1.0; 1.0];"
   ]
  },
  {
   "cell_type": "code",
   "execution_count": 47,
   "id": "4a86c9d2-0680-48a8-b1ca-524669375da0",
   "metadata": {},
   "outputs": [],
   "source": [
    "#Algorithm Setup\n",
    "\n",
    "x = zeros(4,N)\n",
    "x[:,1] .= [1.0; 0; 0; 1.0]\n",
    "u = zeros(2,N-1)\n",
    "\n",
    "ρ = 1.0\n",
    "R̃ = R + ρ*I\n",
    "\n",
    "P = zeros(4,4,N)\n",
    "P[:,:,N] .= Qn\n",
    "p = zeros(4,N)\n",
    "p[:,N] .= q[:,N]\n",
    "\n",
    "K = zeros(2,4,N-1)\n",
    "d = zeros(2,N-1)\n",
    "\n",
    "z = zeros(2,N-1);\n",
    "wnew = zeros(2,N-1);\n",
    "y = zeros(2,N-1);\n",
    "\n",
    "backward_pass!(A,B,Q,q,R̃,r,P,p,K,d)"
   ]
  },
  {
   "cell_type": "code",
   "execution_count": 48,
   "id": "8c4f4f79-da22-4ab1-aa33-f236a40f8002",
   "metadata": {},
   "outputs": [],
   "source": [
    "#Main algorithm loop\n",
    "\n",
    "forward_pass!(A,B,K,d,x,u)\n",
    "update_z!(u,z,y)\n",
    "update_y!(u,z,y)\n",
    "update_linear_cost!(z,y,r)\n",
    "\n",
    "iter = 1\n",
    "primal_residual = 1.0\n",
    "dual_residual = 1.0\n",
    "while primal_residual > 0.01 || dual_residual > 0.01\n",
    "    update_pri!(A,B,q,R̃,r,P,p,K,d,x,u)\n",
    "    update_aux!(u,wnew,y)\n",
    "    update_dua!(u,wnew,y)\n",
    "    update_linear_cost!(wnew,y,r)\n",
    "    \n",
    "    primal_residual = maximum(abs.(u-z))\n",
    "    dual_residual = maximum(abs.(ρ*(wnew-z)))\n",
    "    \n",
    "    z .= wnew\n",
    "    \n",
    "    iter += 1\n",
    "end"
   ]
  },
  {
   "cell_type": "code",
   "execution_count": 49,
   "id": "9ea2a8e0-ab8f-46a4-9641-a8905e10f78c",
   "metadata": {},
   "outputs": [
    {
     "data": {
      "text/plain": [
       "71"
      ]
     },
     "metadata": {},
     "output_type": "display_data"
    }
   ],
   "source": [
    "iter"
   ]
  },
  {
   "cell_type": "code",
   "execution_count": 50,
   "id": "2fb3b309-abc1-45e0-b789-83406f1efbce",
   "metadata": {},
   "outputs": [
    {
     "data": {
      "text/plain": [
       "1-element Vector{PyCall.PyObject}:\n",
       " PyObject <matplotlib.lines.Line2D object at 0x7f7a24e7ee10>"
      ]
     },
     "metadata": {},
     "output_type": "display_data"
    }
   ],
   "source": [
    "plot(xref[1,:])\n",
    "plot(x[1,:])"
   ]
  },
  {
   "cell_type": "code",
   "execution_count": 51,
   "id": "3eae12a5-b42f-49eb-b920-f33efda9f9ed",
   "metadata": {},
   "outputs": [
    {
     "data": {
      "text/plain": [
       "1-element Vector{PyCall.PyObject}:\n",
       " PyObject <matplotlib.lines.Line2D object at 0x7f7a22e138d0>"
      ]
     },
     "metadata": {},
     "output_type": "display_data"
    }
   ],
   "source": [
    "plot(xref[2,:])\n",
    "plot(x[2,:])"
   ]
  },
  {
   "cell_type": "code",
   "execution_count": 52,
   "id": "8b0390a6-9531-495d-b4bc-969093b2fd80",
   "metadata": {},
   "outputs": [
    {
     "data": {
      "text/plain": [
       "1-element Vector{PyCall.PyObject}:\n",
       " PyObject <matplotlib.lines.Line2D object at 0x7f7a22e13fd0>"
      ]
     },
     "metadata": {},
     "output_type": "display_data"
    }
   ],
   "source": [
    "plot(xref[3,:])\n",
    "plot(x[3,:])"
   ]
  },
  {
   "cell_type": "code",
   "execution_count": 53,
   "id": "93fe3424-7db4-4366-bef6-0db4deb9fdb7",
   "metadata": {},
   "outputs": [
    {
     "data": {
      "text/plain": [
       "1-element Vector{PyCall.PyObject}:\n",
       " PyObject <matplotlib.lines.Line2D object at 0x7f7a22e1da90>"
      ]
     },
     "metadata": {},
     "output_type": "display_data"
    }
   ],
   "source": [
    "plot(xref[4,:])\n",
    "plot(x[4,:])"
   ]
  },
  {
   "cell_type": "code",
   "execution_count": 54,
   "id": "cb050c68-fd74-4031-8a2e-2c3e74ef8c3c",
   "metadata": {},
   "outputs": [
    {
     "data": {
      "text/plain": [
       "1-element Vector{PyCall.PyObject}:\n",
       " PyObject <matplotlib.lines.Line2D object at 0x7f7a22e13f90>"
      ]
     },
     "metadata": {},
     "output_type": "display_data"
    }
   ],
   "source": [
    "plot(uref[1,:])\n",
    "plot(u[1,:])"
   ]
  },
  {
   "cell_type": "code",
   "execution_count": 55,
   "id": "b8c9df1b-0cb0-49f8-a148-1dbf65ae57cc",
   "metadata": {},
   "outputs": [
    {
     "data": {
      "text/plain": [
       "1-element Vector{PyCall.PyObject}:\n",
       " PyObject <matplotlib.lines.Line2D object at 0x7f7a22e27b10>"
      ]
     },
     "metadata": {},
     "output_type": "display_data"
    }
   ],
   "source": [
    "plot(uref[2,:])\n",
    "plot(u[2,:])"
   ]
  },
  {
   "cell_type": "code",
   "execution_count": 56,
   "id": "43b34de6-1a57-49f2-a036-fbc417749fea",
   "metadata": {},
   "outputs": [
    {
     "data": {
      "text/plain": [
       "1-element Vector{PyCall.PyObject}:\n",
       " PyObject <matplotlib.lines.Line2D object at 0x7f7a22e343d0>"
      ]
     },
     "metadata": {},
     "output_type": "display_data"
    }
   ],
   "source": [
    "plot(y[1,:])\n",
    "plot(y[2,:])"
   ]
  },
  {
   "cell_type": "code",
   "execution_count": 57,
   "id": "b88353c8-da51-4497-a3e5-bc818d0a37ff",
   "metadata": {},
   "outputs": [
    {
     "data": {
      "text/plain": [
       "1-element Vector{PyCall.PyObject}:\n",
       " PyObject <matplotlib.lines.Line2D object at 0x7f7a22e34c50>"
      ]
     },
     "metadata": {},
     "output_type": "display_data"
    }
   ],
   "source": [
    "plot(z[1,:])\n",
    "plot(z[2,:])"
   ]
  },
  {
   "cell_type": "code",
   "execution_count": 58,
   "id": "fb6888f3-7bf1-4a1f-b9e1-bcbebca25fa9",
   "metadata": {},
   "outputs": [],
   "source": []
  },
  {
   "cell_type": "code",
   "execution_count": 59,
   "id": "65af3164-9fb9-4665-ad19-3e2f66586f44",
   "metadata": {},
   "outputs": [],
   "source": []
  }
 ],
 "metadata": {
  "kernelspec": {
   "display_name": "Julia 1.6.7",
   "language": "julia",
   "name": "julia-1.6"
  },
  "language_info": {
   "file_extension": ".jl",
   "mimetype": "application/julia",
   "name": "julia",
   "version": "1.6.7"
  }
 },
 "nbformat": 4,
 "nbformat_minor": 5
}
