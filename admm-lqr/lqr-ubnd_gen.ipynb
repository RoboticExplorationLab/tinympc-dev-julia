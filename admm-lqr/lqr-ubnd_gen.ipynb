{
 "cells": [
  {
   "cell_type": "code",
   "execution_count": 1,
   "id": "ab2235ce-04bf-4ed1-82c7-6eb1c2f0bd1d",
   "metadata": {},
   "outputs": [
    {
     "name": "stderr",
     "output_type": "stream",
     "text": [
      "\u001b[32m\u001b[1m  Activating\u001b[22m\u001b[39m environment at `~/SSD/Code/Julia/tinympc-julia/admm-lqr/Project.toml`\n"
     ]
    }
   ],
   "source": [
    "import Pkg; Pkg.activate(@__DIR__); Pkg.instantiate()"
   ]
  },
  {
   "cell_type": "code",
   "execution_count": 2,
   "id": "9e2caea3-a473-4674-9614-e5764f8c07e0",
   "metadata": {},
   "outputs": [
    {
     "name": "stderr",
     "output_type": "stream",
     "text": [
      "\u001b[32m\u001b[1m    Updating\u001b[22m\u001b[39m registry at `~/.julia/registries/General`\n"
     ]
    },
    {
     "name": "stderr",
     "output_type": "stream",
     "text": [
      "\u001b[32m\u001b[1m    Updating\u001b[22m\u001b[39m git-repo `https://github.com/JuliaRegistries/General`\n"
     ]
    },
    {
     "name": "stderr",
     "output_type": "stream",
     "text": [
      "\u001b[32m\u001b[1m   Resolving\u001b[22m\u001b[39m package versions...\n"
     ]
    },
    {
     "name": "stderr",
     "output_type": "stream",
     "text": [
      "\u001b[32m\u001b[1m  No Changes\u001b[22m\u001b[39m to `~/SSD/Code/Julia/tinympc-julia/admm-lqr/Project.toml`\n",
      "\u001b[32m\u001b[1m  No Changes\u001b[22m\u001b[39m to `~/SSD/Code/Julia/tinympc-julia/admm-lqr/Manifest.toml`\n"
     ]
    }
   ],
   "source": [
    "Pkg.add(\"Printf\")\n",
    "using LinearAlgebra\n",
    "using PyPlot\n",
    "using Printf"
   ]
  },
  {
   "cell_type": "code",
   "execution_count": 3,
   "id": "34103b5a-8e27-4361-ad0e-4246db21f07b",
   "metadata": {},
   "outputs": [],
   "source": [
    "#2D Double-integrator dynamics\n",
    "h = 0.1 #20 Hz\n",
    "A = [I(2) h*I(2); zeros(2,2) I(2)]\n",
    "B = [0.5*h*h*I(2); h*I(2)];"
   ]
  },
  {
   "cell_type": "code",
   "execution_count": 4,
   "id": "537f28e3-bfde-470d-a715-8b42a4d3d8aa",
   "metadata": {},
   "outputs": [],
   "source": [
    "#Reference state trajectory to track (origin)\n",
    "t = 0:h:10\n",
    "N = length(t)\n",
    "xref = zeros(4,N)\n",
    "for k = 1:N\n",
    "  # xref[1:4,k] .= [2.0;5;0;0]  #TODO: can it track all states?\n",
    "  # xref[1:4,k] .= [k/40;-k/40;1/40/h;-1/40/h]\n",
    "  # xref[1:4,k] .= [sin(k/40);cos(-k/40);1/40/h;-1/40/h]\n",
    "end\n",
    "#Reference input trajectory\n",
    "uref = zeros(2,N-1);"
   ]
  },
  {
   "cell_type": "code",
   "execution_count": 5,
   "id": "870746b3-59f6-4566-bdd7-010b18def223",
   "metadata": {},
   "outputs": [
    {
     "data": {
      "text/plain": [
       "cost (generic function with 1 method)"
      ]
     },
     "metadata": {},
     "output_type": "display_data"
    }
   ],
   "source": [
    "#Cost Function\n",
    "# J = Σ 0.5*(x-xref)'*Q*(x-xref) + 0.5*(u-uref)*R*(u-uref) + 0.5*xn'*Qn*xn\n",
    "Qn = 10.0*I(4)\n",
    "Q = 10.0*I(4)\n",
    "# Q = [1 0 0 0; 0 1 0 0; 0 0 0.1 0; 0 0 0 0.1]\n",
    "R = 0.1*I(2)\n",
    "\n",
    "q = zeros(4,N)\n",
    "r = zeros(2,N-1)\n",
    "\n",
    "function cost(x,u)\n",
    "    J = 0.0\n",
    "    for k = 1:(N-1)\n",
    "        J += 0.5*(x[:,k]-xref[:,k])'*Q*(x[:,k]-xref[:,k]) + 0.5*(u[:,k]-uref[:,k])'*R*(u[:,k]-uref[:,k])\n",
    "    end\n",
    "    J += 0.5*(x[:,N]-xref[:,N])'*Qn*(x[:,N]-xref[:,N])\n",
    "    return J\n",
    "end"
   ]
  },
  {
   "cell_type": "code",
   "execution_count": 6,
   "id": "03a4fd8c-eb32-4d37-a141-5ddc2f2b49f2",
   "metadata": {},
   "outputs": [
    {
     "data": {
      "text/plain": [
       "update_linear_cost! (generic function with 1 method)"
      ]
     },
     "metadata": {},
     "output_type": "display_data"
    }
   ],
   "source": [
    "#ADMM Functions\n",
    "function backward_pass!(A,B,Q,q,R,r,P,p,K,d)\n",
    "    #This is the standard Riccati backward pass with both linear and quadratic terms (like iLQR)\n",
    "    for k = (N-1):-1:1\n",
    "        q[:,k] .= -Q*xref[:,k]\n",
    "        r[:,k] .= -R*uref[:,k]\n",
    "        K[:,:,k] .= (R + B'*P[:,:,k+1]*B)\\(B'*P[:,:,k+1]*A)\n",
    "        d[:,k] .= (R + B'*P[:,:,k+1]*B)\\(B'*p[:,k+1] + r[:,k])\n",
    "        P[:,:,k] .= Q + 1*K[:,:,k]'*R*K[:,:,k] + (A-1*B*K[:,:,k])'*P[:,:,k+1]*(A-B*K[:,:,k])\n",
    "        p[:,k] .= q[:,k] + (A-B*K[:,:,k])'*(p[:,k+1]-P[:,:,k+1]*B*d[:,k]) + K[:,:,k]'*(R*d[:,k]-r[:,k])\n",
    "    end\n",
    "end\n",
    "\n",
    "function backward_pass_grad!(A,B,q,R,r,P,p,K,d)\n",
    "    #This is just the linear/gradient term from the backward pass (no cost-to-go Hessian or K calculations)\n",
    "    for k = (N-1):-1:1\n",
    "        d[:,k] .= Quu_inv*(B'*p[:,k+1] + r[:,k])\n",
    "        p[:,k] .= q[:,k] + AmBKt*(p[:,k+1]-Pinf*B*d[:,k]) + Kinf'*(R*d[:,k]-r[:,k])\n",
    "    end\n",
    "end\n",
    "\n",
    "# function backward_pass_grad!(A,B,q,R,r,P,p,K,m)\n",
    "#     #This is just the linear/gradient term from the backward pass (no cost-to-go Hessian or K calculations)\n",
    "#     for k = (N-1):-1:1\n",
    "#         d[:,k] .= (R + B'*P[:,:,k+1]*B)\\(B'*p[:,k+1] + r[:,k])\n",
    "#         p[:,k] .= q[:,k] + (A-B*K[:,:,k])'*(p[:,k+1]-P[:,:,k+1]*B*d[:,k]) + K[:,:,k]'*(R*d[:,k]-r[:,k])\n",
    "#     end\n",
    "# end\n",
    "\n",
    "# function forward_pass!(A,B,K,d,x,u)\n",
    "#     for k = 1:(N-1)\n",
    "#         u[:,k] .= -K[:,:,k]*(x[:,k] - 0*xref[:,k]) - d[:,k] \n",
    "#         x[:,k+1] .= A*x[:,k] + B*u[:,k]\n",
    "#     end\n",
    "# end\n",
    "\n",
    "function forward_pass!(A,B,K,d,x,u)\n",
    "    for k = 1:(N-1)\n",
    "        u[:,k] .= -Kinf*(x[:,k]) - d[:,k] \n",
    "        x[:,k+1] .= A*x[:,k] + B*u[:,k]\n",
    "    end\n",
    "end\n",
    "\n",
    "function update_primal!(A,B,q,R̃,r,P,p,K,d,x,u)\n",
    "    backward_pass_grad!(A,B,q,R̃,r,P,p,K,d)\n",
    "    forward_pass!(A,B,K,d,x,u)\n",
    "end\n",
    "function update_slack!(u,z,y)\n",
    "    #This function clamps the controls to be within the bounds\n",
    "    for k = 1:(N-1)\n",
    "        z[:,k] .= min.(umax, max.(umin, u[:,k]+y[:,k]))\n",
    "    end\n",
    "end\n",
    "\n",
    "function update_dual!(u,z,y)\n",
    "    #This function performs the standard AL multiplier update.\n",
    "    #Note that we're using the \"scaled form\" where y = λ/ρ\n",
    "    for k = 1:(N-1)\n",
    "        y[:,k] .= y[:,k] + u[:,k] - z[:,k]\n",
    "    end\n",
    "end\n",
    "\n",
    "function update_linear_cost!(z,y,r)\n",
    "    #This function updates the linear term in the control cost to handle the changing cost term from ADMM\n",
    "    for k = 1:(N-1)\n",
    "        r[:,k] .= -ρ*(z[:,k]-y[:,k]) - R*uref[:,k] #TODO: check if R vs. R̃ matters\n",
    "        q[:,k] .= -Q*xref[:,k]\n",
    "    end\n",
    "    q[:,N] .= -Pinf*xref[:,N]\n",
    "end"
   ]
  },
  {
   "cell_type": "code",
   "execution_count": 7,
   "id": "950744e6-41e1-420e-9a62-a6f3283604b6",
   "metadata": {},
   "outputs": [],
   "source": [
    "#Control Bounds\n",
    "umin = -[1.0; 1.0]*1\n",
    "umax = [1.0; 1.0]*1;"
   ]
  },
  {
   "cell_type": "code",
   "execution_count": 8,
   "id": "4a86c9d2-0680-48a8-b1ca-524669375da0",
   "metadata": {},
   "outputs": [
    {
     "data": {
      "text/plain": [
       "2×100 Matrix{Float64}:\n",
       " 0.0  0.0  0.0  0.0  0.0  0.0  0.0  0.0  …  0.0  0.0  0.0  0.0  0.0  0.0  0.0\n",
       " 0.0  0.0  0.0  0.0  0.0  0.0  0.0  0.0     0.0  0.0  0.0  0.0  0.0  0.0  0.0"
      ]
     },
     "metadata": {},
     "output_type": "display_data"
    }
   ],
   "source": [
    "#Algorithm Setup\n",
    "\n",
    "x = zeros(4,N)\n",
    "# x[:,1] .= [5.0; 7; 2; -1.4]\n",
    "x[:,1] .= [1.0; 0; 0; 1.0]\n",
    "u = zeros(2,N-1)\n",
    "\n",
    "ρ = 5\n",
    "R̃ = R + 1*ρ*I\n",
    "\n",
    "P = zeros(4,4,200)\n",
    "P[:,:,200] .= Q\n",
    "K = zeros(2,4,200-1)\n",
    "\n",
    "for k = (200-1):-1:1\n",
    "  K[:,:,k] .= (R̃ + B'*P[:,:,k+1]*B)\\(B'*P[:,:,k+1]*A)\n",
    "  P[:,:,k] .= Q + A'*P[:,:,k+1]*(A - B*K[:,:,k])\n",
    "end\n",
    "\n",
    "Pinf = 1*P[:,:,1]\n",
    "Kinf = 1*K[:,:,1]\n",
    "Quu_inv = (R̃ + B'*Pinf*B)\\I\n",
    "AmBKt = (A-B*Kinf)'\n",
    "coeff_d2p = Kinf'*R̃ - AmBKt*Pinf*B\n",
    "\n",
    "P = zeros(4,4,N)\n",
    "P[:,:,N] .= Pinf\n",
    "p = zeros(4,N)\n",
    "p[:,N] .= -Pinf*xref[:,N]  #q[:,N]\n",
    "\n",
    "K = zeros(2,4,N-1)\n",
    "d = zeros(2,N-1)\n",
    "\n",
    "z = zeros(2,N-1);\n",
    "znew = zeros(2,N-1);\n",
    "y = zeros(2,N-1);\n",
    "\n",
    "# update_linear_cost!(z,y,r)\n",
    "# backward_pass_grad!(A,B,q,R̃,r,P,p,K,d)"
   ]
  },
  {
   "cell_type": "code",
   "execution_count": 22,
   "id": "f58fe8a5",
   "metadata": {},
   "outputs": [
    {
     "name": "stdout",
     "output_type": "stream",
     "text": [
      "sfloat Kinf_data[NINPUTS*NSTATES] = {\n",
      "  1.255647f,0.000000f,\n",
      "  0.000000f,1.255647f,\n",
      "  2.021867f,0.000000f,\n",
      "  0.000000f,2.021867f,\n",
      "};\n",
      "sfloat Pinf_data[NSTATES*NSTATES] = {\n",
      "  161.021861f,0.000000f,71.589105f,0.000000f,\n",
      "  0.000000f,161.021861f,0.000000f,71.589105f,\n",
      "  71.589105f,0.000000f,116.694654f,0.000000f,\n",
      "  0.000000f,71.589105f,0.000000f,116.694654f,\n",
      "};\n",
      "sfloat Quu_inv_data[NINPUTS*NINPUTS] = {\n",
      "  0.157665f,0.000000f,\n",
      "  0.000000f,0.157665f,\n",
      "};\n",
      "sfloat AmBKt_data[NSTATES*NSTATES] = {\n",
      "  0.993722f,0.000000f,0.089891f,0.000000f,\n",
      "  0.000000f,0.993722f,0.000000f,0.089891f,\n",
      "  -0.125565f,0.000000f,0.797813f,0.000000f,\n",
      "  0.000000f,-0.125565f,0.000000f,0.797813f,\n",
      "};\n"
     ]
    },
    {
     "name": "stdout",
     "output_type": "stream",
     "text": [
      "sfloat coeff_d2p_data[NSTATES*NINPUTS] = {\n",
      "  0.000000f,0.000000f,-0.000000f,0.000000f,\n",
      "  0.000000f,0.000000f,0.000000f,-0.000000f,\n",
      "};\n"
     ]
    }
   ],
   "source": [
    "function export_mat_to_c(declare, data)\n",
    "  str = \"sfloat \" * declare * \" = {\\n\"\n",
    "  dataT = data'\n",
    "  for i = 1:size(dataT, 1)\n",
    "      str = str * \"  \"\n",
    "      for j = 1:size(dataT, 2)\n",
    "          this_str = @sprintf(\"%.6f\", dataT[i, j])\n",
    "          str = str * this_str * \"f,\"\n",
    "      end\n",
    "      str = str * \"\\n\"\n",
    "  end\n",
    "  str = str * \"};\"\n",
    "  return str\n",
    "end\n",
    "\n",
    "@printf(\"%s\\n\",export_mat_to_c(\"Kinf_data[NINPUTS*NSTATES]\", Kinf))\n",
    "@printf(\"%s\\n\",export_mat_to_c(\"Pinf_data[NSTATES*NSTATES]\", Pinf))\n",
    "@printf(\"%s\\n\",export_mat_to_c(\"Quu_inv_data[NINPUTS*NINPUTS]\", Quu_inv))\n",
    "@printf(\"%s\\n\",export_mat_to_c(\"AmBKt_data[NSTATES*NSTATES]\", AmBKt))\n",
    "@printf(\"%s\\n\",export_mat_to_c(\"coeff_d2p_data[NSTATES*NINPUTS]\", coeff_d2p))"
   ]
  },
  {
   "cell_type": "code",
   "execution_count": 10,
   "id": "8c4f4f79-da22-4ab1-aa33-f236a40f8002",
   "metadata": {},
   "outputs": [],
   "source": [
    "#Main algorithm loop\n",
    "\n",
    "# update_primal!(A,B,q,R̃,r,P,p,K,d,x,u)\n",
    "# update_slack!(u,znew,y)\n",
    "# update_dual!(u,znew,y)\n",
    "# update_linear_cost!(znew,y,r)\n",
    "\n",
    "iter = 0\n",
    "primal_residual = 1.0\n",
    "dual_residual = 1.0\n",
    "for k = 1:100\n",
    "    update_primal!(A,B,q,R̃,r,P,p,K,d,x,u)\n",
    "    update_slack!(u,znew,y)\n",
    "    update_dual!(u,znew,y)\n",
    "    update_linear_cost!(znew,y,r)\n",
    "    \n",
    "    # @show z[:,2]\n",
    "    # @show u[:,2]\n",
    "    # @show y[:,2]\n",
    "    # @show abs.(u-znew)\n",
    "    primal_residual = maximum(abs.(u-znew))\n",
    "    dual_residual = maximum(abs.(ρ*(znew-z)))\n",
    "    if (primal_residual < 0.01 && dual_residual < 0.01)\n",
    "        break\n",
    "    end\n",
    "\n",
    "    z .= znew\n",
    "    iter += 1\n",
    "end"
   ]
  },
  {
   "cell_type": "code",
   "execution_count": 11,
   "id": "df45115e",
   "metadata": {},
   "outputs": [
    {
     "data": {
      "text/plain": [
       "2×100 Matrix{Float64}:\n",
       " -1.0  -1.0  -1.0  -1.0  -1.0  -1.0  -0.683165  …  0.000140693  0.000214473\n",
       " -1.0  -1.0  -1.0  -1.0  -1.0  -1.0  -1.0          0.000159574  0.00024217"
      ]
     },
     "metadata": {},
     "output_type": "display_data"
    }
   ],
   "source": [
    "z"
   ]
  },
  {
   "cell_type": "code",
   "execution_count": 12,
   "id": "9ea2a8e0-ab8f-46a4-9641-a8905e10f78c",
   "metadata": {},
   "outputs": [
    {
     "name": "stdout",
     "output_type": "stream",
     "text": [
      "iter = 58\n",
      "primal_residual = 9.60818047142098e-5\n",
      "dual_residual = 0.009984838381097427\n"
     ]
    },
    {
     "data": {
      "text/plain": [
       "0.009984838381097427"
      ]
     },
     "metadata": {},
     "output_type": "display_data"
    }
   ],
   "source": [
    "@show iter\n",
    "@show primal_residual\n",
    "@show dual_residual"
   ]
  },
  {
   "cell_type": "code",
   "execution_count": 13,
   "id": "1bce4a03",
   "metadata": {},
   "outputs": [],
   "source": [
    "# Kinf = zeros(nu, nx)\n",
    "# P = 1*Q\n",
    "# for ricatti_iter = 1:100\n",
    "#     Kinf = (R + B' * P * B) \\ (B' * P * A)\n",
    "#     P = Q + A' * P * (A - B * Kinf)\n",
    "# end    \n",
    "# # TODO: simulate this controlled system with rk4(params_real, ...)\n",
    "# for k = 1:(N-1)\n",
    "#     u[:,k] .= -0.01*Kinf*(x[:,k]-1*xref[:,k]) \n",
    "#     x[:,k+1] .= A*x[:,k] + B*u[:,k]\n",
    "# end"
   ]
  },
  {
   "cell_type": "code",
   "execution_count": 14,
   "id": "2fb3b309-abc1-45e0-b789-83406f1efbce",
   "metadata": {},
   "outputs": [
    {
     "data": {
      "image/png": "[encoded data removed]",
      "text/plain": [
       "Figure(PyObject <Figure size 640x480 with 1 Axes>)"
      ]
     },
     "metadata": {},
     "output_type": "display_data"
    }
   ],
   "source": [
    "fig = plt.figure()\n",
    "plot(xref[1,:])\n",
    "plot(x[1,:]+0*xref[1,:])\n",
    "fig"
   ]
  },
  {
   "cell_type": "code",
   "execution_count": 15,
   "id": "3eae12a5-b42f-49eb-b920-f33efda9f9ed",
   "metadata": {},
   "outputs": [
    {
     "data": {
      "image/png": "[encoded data removed]",
      "text/plain": [
       "Figure(PyObject <Figure size 640x480 with 1 Axes>)"
      ]
     },
     "metadata": {},
     "output_type": "display_data"
    }
   ],
   "source": [
    "fig = plt.figure()\n",
    "plot(xref[2,:])\n",
    "plot(x[2,:]+0*xref[2,:])\n",
    "fig"
   ]
  },
  {
   "cell_type": "code",
   "execution_count": 16,
   "id": "8b0390a6-9531-495d-b4bc-969093b2fd80",
   "metadata": {},
   "outputs": [
    {
     "data": {
      "image/png": "[encoded data removed]",
      "text/plain": [
       "Figure(PyObject <Figure size 640x480 with 1 Axes>)"
      ]
     },
     "metadata": {},
     "output_type": "display_data"
    }
   ],
   "source": [
    "fig = plt.figure()\n",
    "plot(xref[3,:])\n",
    "plot(x[3,:]+0*xref[3,:])\n",
    "fig"
   ]
  },
  {
   "cell_type": "code",
   "execution_count": 17,
   "id": "93fe3424-7db4-4366-bef6-0db4deb9fdb7",
   "metadata": {},
   "outputs": [
    {
     "data": {
      "image/png": "[encoded data removed]",
      "text/plain": [
       "Figure(PyObject <Figure size 640x480 with 1 Axes>)"
      ]
     },
     "metadata": {},
     "output_type": "display_data"
    }
   ],
   "source": [
    "fig = plt.figure()\n",
    "plot(xref[4,:])\n",
    "plot(x[4,:]+0*xref[4,:])\n",
    "fig"
   ]
  },
  {
   "cell_type": "code",
   "execution_count": 18,
   "id": "cb050c68-fd74-4031-8a2e-2c3e74ef8c3c",
   "metadata": {},
   "outputs": [
    {
     "data": {
      "image/png": "[encoded data removed]",
      "text/plain": [
       "Figure(PyObject <Figure size 640x480 with 1 Axes>)"
      ]
     },
     "metadata": {},
     "output_type": "display_data"
    }
   ],
   "source": [
    "fig = plt.figure()\n",
    "plot(uref[1,:])\n",
    "plot(u[1,:])\n",
    "fig"
   ]
  },
  {
   "cell_type": "code",
   "execution_count": 19,
   "id": "b8c9df1b-0cb0-49f8-a148-1dbf65ae57cc",
   "metadata": {},
   "outputs": [
    {
     "data": {
      "image/png": "[encoded data removed]",
      "text/plain": [
       "Figure(PyObject <Figure size 640x480 with 1 Axes>)"
      ]
     },
     "metadata": {},
     "output_type": "display_data"
    }
   ],
   "source": [
    "fig = plt.figure()\n",
    "plot(uref[2,:])\n",
    "plot(u[2,:])\n",
    "fig"
   ]
  },
  {
   "cell_type": "code",
   "execution_count": 20,
   "id": "43b34de6-1a57-49f2-a036-fbc417749fea",
   "metadata": {},
   "outputs": [
    {
     "data": {
      "text/plain": [
       "1-element Vector{PyCall.PyObject}:\n",
       " PyObject <matplotlib.lines.Line2D object at 0x7efcb4feb5d0>"
      ]
     },
     "metadata": {},
     "output_type": "display_data"
    }
   ],
   "source": [
    "plot(y[1,:])\n",
    "plot(y[2,:])"
   ]
  },
  {
   "cell_type": "code",
   "execution_count": 21,
   "id": "b88353c8-da51-4497-a3e5-bc818d0a37ff",
   "metadata": {},
   "outputs": [
    {
     "data": {
      "text/plain": [
       "1-element Vector{PyCall.PyObject}:\n",
       " PyObject <matplotlib.lines.Line2D object at 0x7efcb509d610>"
      ]
     },
     "metadata": {},
     "output_type": "display_data"
    }
   ],
   "source": [
    "plot(z[1,:])\n",
    "plot(z[2,:])"
   ]
  }
 ],
 "metadata": {
  "kernelspec": {
   "display_name": "Julia 1.6.7",
   "language": "julia",
   "name": "julia-1.6"
  },
  "language_info": {
   "file_extension": ".jl",
   "mimetype": "application/julia",
   "name": "julia",
   "version": "1.6.7"
  }
 },
 "nbformat": 4,
 "nbformat_minor": 5
}
